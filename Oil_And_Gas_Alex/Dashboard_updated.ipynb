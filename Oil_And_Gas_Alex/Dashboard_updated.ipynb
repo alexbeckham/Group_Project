{
 "cells": [
  {
   "cell_type": "code",
   "execution_count": 141,
   "metadata": {},
   "outputs": [],
   "source": [
    "import pandas as pd\n",
    "import numpy as np\n",
    "from pandas_datareader import data as pdr\n",
    "import yfinance as yf\n",
    "import datetime as dt\n",
    "import numpy\n",
    "import panel as pn\n",
    "import seaborn as sns\n",
    "\n",
    "import plotly.express as px \n",
    "pn.extension(\"plotly\")\n",
    "%matplotlib inline\n",
    "\n",
    "\n",
    "yf.pdr_override()\n",
    "\n",
    "import hvplot.pandas\n",
    "import holoviews as hv"
   ]
  },
  {
   "cell_type": "code",
   "execution_count": 142,
   "metadata": {},
   "outputs": [
    {
     "data": {
      "text/html": [
       "<div>\n",
       "<style scoped>\n",
       "    .dataframe tbody tr th:only-of-type {\n",
       "        vertical-align: middle;\n",
       "    }\n",
       "\n",
       "    .dataframe tbody tr th {\n",
       "        vertical-align: top;\n",
       "    }\n",
       "\n",
       "    .dataframe thead th {\n",
       "        text-align: right;\n",
       "    }\n",
       "</style>\n",
       "<table border=\"1\" class=\"dataframe\">\n",
       "  <thead>\n",
       "    <tr style=\"text-align: right;\">\n",
       "      <th></th>\n",
       "      <th>Production (Oil)</th>\n",
       "      <th>Production (Alternative)</th>\n",
       "    </tr>\n",
       "    <tr>\n",
       "      <th>Year</th>\n",
       "      <th></th>\n",
       "      <th></th>\n",
       "    </tr>\n",
       "  </thead>\n",
       "  <tbody>\n",
       "    <tr>\n",
       "      <th>1980</th>\n",
       "      <td>20.474</td>\n",
       "      <td>8.168</td>\n",
       "    </tr>\n",
       "    <tr>\n",
       "      <th>1981</th>\n",
       "      <td>20.412</td>\n",
       "      <td>8.421</td>\n",
       "    </tr>\n",
       "    <tr>\n",
       "      <th>1982</th>\n",
       "      <td>20.458</td>\n",
       "      <td>9.111</td>\n",
       "    </tr>\n",
       "    <tr>\n",
       "      <th>1983</th>\n",
       "      <td>20.528</td>\n",
       "      <td>9.698</td>\n",
       "    </tr>\n",
       "    <tr>\n",
       "      <th>1984</th>\n",
       "      <td>21.082</td>\n",
       "      <td>9.990</td>\n",
       "    </tr>\n",
       "  </tbody>\n",
       "</table>\n",
       "</div>"
      ],
      "text/plain": [
       "      Production (Oil)  Production (Alternative)\n",
       "Year                                            \n",
       "1980            20.474                     8.168\n",
       "1981            20.412                     8.421\n",
       "1982            20.458                     9.111\n",
       "1983            20.528                     9.698\n",
       "1984            21.082                     9.990"
      ]
     },
     "execution_count": 142,
     "metadata": {},
     "output_type": "execute_result"
    }
   ],
   "source": [
    "combined_production = pd.read_csv(\"../Data/Total_Production_CLEAN.csv\",index_col=\"Year\")\n",
    "combined_production.head()"
   ]
  },
  {
   "cell_type": "code",
   "execution_count": 143,
   "metadata": {},
   "outputs": [],
   "source": [
    "def alt_base():\n",
    "    tickers = ['BLX','CIG','ELP','PLUG']\n",
    "    start = dt.datetime(1975,1,1)\n",
    "    end = dt.datetime(2021,1,1)\n",
    "    df = pdr.get_data_yahoo(tickers,start,end)['Adj Close']\n",
    "    df = df.reset_index()\n",
    "    \n",
    "    def to_string(x):\n",
    "        return str(x)   \n",
    "        \n",
    "    df['Date'] = df['Date'].apply(to_string).apply(lambda x: x.split('-')[0]) #! Works: From 1975\n",
    "    df = df.groupby('Date').last().loc['1999':'2020', :] #! Works: From 175\n",
    "    return df"
   ]
  },
  {
   "cell_type": "code",
   "execution_count": 144,
   "metadata": {},
   "outputs": [],
   "source": [
    "def oil_base():\n",
    "    tickers1 = ['XOM','RDS-B','CVX','BP']\n",
    "    start = dt.datetime(1975,1,1)\n",
    "    end = dt.datetime(2021,1,1)\n",
    "    df = pdr.get_data_yahoo(tickers1,start,end)['Adj Close']\n",
    "    df = df.reset_index()\n",
    "    \n",
    "    def to_string(x):\n",
    "        return str(x)   \n",
    "        \n",
    "    df['Date'] = df['Date'].apply(to_string).apply(lambda x: x.split('-')[0]) #! Works: From 1975\n",
    "    df = df.groupby('Date').last().loc['1999':'2020', :] #! Works: From 175\n",
    "    return df"
   ]
  },
  {
   "cell_type": "code",
   "execution_count": 145,
   "metadata": {},
   "outputs": [
    {
     "name": "stdout",
     "output_type": "stream",
     "text": [
      "[*********************100%***********************]  4 of 4 completed\n",
      "[*********************100%***********************]  4 of 4 completed\n"
     ]
    },
    {
     "data": {},
     "metadata": {},
     "output_type": "display_data"
    },
    {
     "data": {
      "application/vnd.holoviews_exec.v0+json": "",
      "text/html": [
       "<div id='24861'>\n",
       "\n",
       "\n",
       "\n",
       "\n",
       "\n",
       "  <div class=\"bk-root\" id=\"155f8fd4-897e-4194-b0a9-536696572937\" data-root-id=\"24861\"></div>\n",
       "</div>\n",
       "<script type=\"application/javascript\">(function(root) {\n",
       "  function embed_document(root) {\n",
       "  var docs_json = {\"5f08bc4a-ea53-494c-bedb-c4077b87b4f5\":{\"roots\":{\"references\":[{\"attributes\":{\"data_source\":{\"id\":\"24960\"},\"glyph\":{\"id\":\"24963\"},\"hover_glyph\":null,\"muted_glyph\":{\"id\":\"24965\"},\"nonselection_glyph\":{\"id\":\"24964\"},\"selection_glyph\":null,\"view\":{\"id\":\"24967\"}},\"id\":\"24966\",\"type\":\"GlyphRenderer\"},{\"attributes\":{\"source\":{\"id\":\"25004\"}},\"id\":\"25011\",\"type\":\"CDSView\"},{\"attributes\":{\"line_alpha\":0.2,\"line_color\":\"#8c564b\",\"line_width\":2,\"x\":{\"field\":\"Date\"},\"y\":{\"field\":\"value\"}},\"id\":\"25009\",\"type\":\"Line\"},{\"attributes\":{},\"id\":\"25025\",\"type\":\"UnionRenderers\"},{\"attributes\":{\"line_alpha\":0.1,\"line_color\":\"#d62628\",\"line_width\":2,\"x\":{\"field\":\"Date\"},\"y\":{\"field\":\"value\"}},\"id\":\"24964\",\"type\":\"Line\"},{\"attributes\":{\"label\":{\"value\":\"CVX\"},\"renderers\":[{\"id\":\"25010\"}]},\"id\":\"25028\",\"type\":\"LegendItem\"},{\"attributes\":{\"data\":{\"Date\":[\"1999\",\"2000\",\"2001\",\"2002\",\"2003\",\"2004\",\"2005\",\"2006\",\"2007\",\"2008\",\"2009\",\"2010\",\"2011\",\"2012\",\"2013\",\"2014\",\"2015\",\"2016\",\"2017\",\"2018\",\"2019\",\"2020\"],\"Variable\":[\"CVX\",\"CVX\",\"CVX\",\"CVX\",\"CVX\",\"CVX\",\"CVX\",\"CVX\",\"CVX\",\"CVX\",\"CVX\",\"CVX\",\"CVX\",\"CVX\",\"CVX\",\"CVX\",\"CVX\",\"CVX\",\"CVX\",\"CVX\",\"CVX\",\"CVX\"],\"value\":{\"__ndarray__\":\"AAAAIBYONEAAAAAAAio0QAAAAOALCTZAAAAAQHfyMEAAAACA1/A2QAAAAIDTzDxAAAAAYOsPQEAAAACgvHlFQAAAACBLCUxAAAAAIMDlRkAAAAAARL5IQAAAACC8a05AAAAAwItLUkAAAAAAmjhTQAAAAKCz7lZAAAAAAGhUVUAAAABAbOFRQAAAAECSb1hAAAAAwAIGW0AAAADgrmNYQAAAAIBSHVxAAAAAIHfRVEA=\",\"dtype\":\"float64\",\"shape\":[22]}},\"selected\":{\"id\":\"25005\"},\"selection_policy\":{\"id\":\"25052\"}},\"id\":\"25004\",\"type\":\"ColumnDataSource\"},{\"attributes\":{\"axis_label\":\"Stock Price\",\"axis_label_text_font_size\":\"20pt\",\"bounds\":\"auto\",\"formatter\":{\"id\":\"24905\"},\"major_label_orientation\":\"horizontal\",\"major_label_text_font_size\":\"15pt\",\"ticker\":{\"id\":\"24886\"}},\"id\":\"24885\",\"type\":\"LinearAxis\"},{\"attributes\":{\"axis\":{\"id\":\"24885\"},\"dimension\":1,\"grid_line_color\":\"lightgray\",\"grid_line_width\":1.5,\"ticker\":{\"id\":\"24886\"}},\"id\":\"24888\",\"type\":\"Grid\"},{\"attributes\":{\"line_color\":\"#8c564b\",\"line_width\":2,\"x\":{\"field\":\"Date\"},\"y\":{\"field\":\"value\"}},\"id\":\"25007\",\"type\":\"Line\"},{\"attributes\":{\"label\":{\"value\":\"BLX\"},\"renderers\":[{\"id\":\"24914\"}]},\"id\":\"24923\",\"type\":\"LegendItem\"},{\"attributes\":{},\"id\":\"25081\",\"type\":\"UnionRenderers\"},{\"attributes\":{\"line_alpha\":0.1,\"line_color\":\"#8c564b\",\"line_width\":2,\"x\":{\"field\":\"Date\"},\"y\":{\"field\":\"value\"}},\"id\":\"25008\",\"type\":\"Line\"},{\"attributes\":{},\"id\":\"24905\",\"type\":\"BasicTickFormatter\"},{\"attributes\":{},\"id\":\"24889\",\"type\":\"SaveTool\"},{\"attributes\":{\"data\":{\"Date\":[\"1999\",\"2000\",\"2001\",\"2002\",\"2003\",\"2004\",\"2005\",\"2006\",\"2007\",\"2008\",\"2009\",\"2010\",\"2011\",\"2012\",\"2013\",\"2014\",\"2015\",\"2016\",\"2017\",\"2018\",\"2019\",\"2020\"],\"Variable\":[\"BP\",\"BP\",\"BP\",\"BP\",\"BP\",\"BP\",\"BP\",\"BP\",\"BP\",\"BP\",\"BP\",\"BP\",\"BP\",\"BP\",\"BP\",\"BP\",\"BP\",\"BP\",\"BP\",\"BP\",\"BP\",\"BP\"],\"value\":{\"__ndarray__\":\"AAAAoELlNUAAAACAHyYyQAAAAADRIjJAAAAA4FNnMEAAAACAJ7s0QAAAAIDwUzlAAAAAQB7EPEAAAADAUw4/QAAAAGDAkUFAAAAA4DW5N0AAAADgpoM/QAAAACDPYDhAAAAAIGCAOEAAAADAgQA5QAAAAIBwrz5AAAAAgKdLOUAAAADAAA82QAAAAGCncTxAAAAAoBEUQUAAAACAQ0xAQAAAACCHP0FAAAAA4PE+NEA=\",\"dtype\":\"float64\",\"shape\":[22]}},\"selected\":{\"id\":\"24982\"},\"selection_policy\":{\"id\":\"25025\"}},\"id\":\"24981\",\"type\":\"ColumnDataSource\"},{\"attributes\":{\"overlay\":{\"id\":\"24894\"}},\"id\":\"24892\",\"type\":\"BoxZoomTool\"},{\"attributes\":{\"label\":{\"value\":\"PLUG\"},\"renderers\":[{\"id\":\"24966\"}]},\"id\":\"24980\",\"type\":\"LegendItem\"},{\"attributes\":{\"line_alpha\":0.2,\"line_color\":\"#2ba02b\",\"line_width\":2,\"x\":{\"field\":\"Date\"},\"y\":{\"field\":\"value\"}},\"id\":\"24946\",\"type\":\"Line\"},{\"attributes\":{\"data_source\":{\"id\":\"25004\"},\"glyph\":{\"id\":\"25007\"},\"hover_glyph\":null,\"muted_glyph\":{\"id\":\"25009\"},\"nonselection_glyph\":{\"id\":\"25008\"},\"selection_glyph\":null,\"view\":{\"id\":\"25011\"}},\"id\":\"25010\",\"type\":\"GlyphRenderer\"},{\"attributes\":{},\"id\":\"25104\",\"type\":\"UnionRenderers\"},{\"attributes\":{\"label\":{\"value\":\"BP\"},\"renderers\":[{\"id\":\"24987\"}]},\"id\":\"25003\",\"type\":\"LegendItem\"},{\"attributes\":{\"line_alpha\":0.2,\"line_color\":\"#d62628\",\"line_width\":2,\"x\":{\"field\":\"Date\"},\"y\":{\"field\":\"value\"}},\"id\":\"24965\",\"type\":\"Line\"},{\"attributes\":{},\"id\":\"24893\",\"type\":\"ResetTool\"},{\"attributes\":{\"line_alpha\":0.2,\"line_color\":\"#ff7e0e\",\"line_width\":2,\"x\":{\"field\":\"Date\"},\"y\":{\"field\":\"value\"}},\"id\":\"24929\",\"type\":\"Line\"},{\"attributes\":{},\"id\":\"25000\",\"type\":\"UnionRenderers\"},{\"attributes\":{\"active_drag\":\"auto\",\"active_inspect\":\"auto\",\"active_multi\":null,\"active_scroll\":\"auto\",\"active_tap\":\"auto\",\"tools\":[{\"id\":\"24865\"},{\"id\":\"24889\"},{\"id\":\"24890\"},{\"id\":\"24891\"},{\"id\":\"24892\"},{\"id\":\"24893\"}]},\"id\":\"24895\",\"type\":\"Toolbar\"},{\"attributes\":{\"data\":{\"Date\":[\"1999\",\"2000\",\"2001\",\"2002\",\"2003\",\"2004\",\"2005\",\"2006\",\"2007\",\"2008\",\"2009\",\"2010\",\"2011\",\"2012\",\"2013\",\"2014\",\"2015\",\"2016\",\"2017\",\"2018\",\"2019\",\"2020\"],\"Variable\":[\"BLX\",\"BLX\",\"BLX\",\"BLX\",\"BLX\",\"BLX\",\"BLX\",\"BLX\",\"BLX\",\"BLX\",\"BLX\",\"BLX\",\"BLX\",\"BLX\",\"BLX\",\"BLX\",\"BLX\",\"BLX\",\"BLX\",\"BLX\",\"BLX\",\"BLX\"],\"value\":{\"__ndarray__\":\"AAAAgAz2HEAAAABAWDMmQAAAAACyFSNAAAAAgBTE+D8AAACg4ioaQAAAAEBThh1AAAAA4MB6HkAAAABASFIfQAAAAMCunB9AAAAAgD+7HUAAAADgWXweQAAAAMD+JCVAAAAAIGtCI0AAAACAjT0rQAAAACDnmDJAAAAAwAE9NUAAAABAt8cyQAAAAIAdRTZAAAAAAAiDNUAAAACAOIwtQAAAACBSqDNAAAAAwPWoL0A=\",\"dtype\":\"float64\",\"shape\":[22]}},\"selected\":{\"id\":\"24909\"},\"selection_policy\":{\"id\":\"24937\"}},\"id\":\"24908\",\"type\":\"ColumnDataSource\"},{\"attributes\":{\"source\":{\"id\":\"24924\"}},\"id\":\"24931\",\"type\":\"CDSView\"},{\"attributes\":{\"line_color\":\"#9367bc\",\"line_width\":2,\"x\":{\"field\":\"Date\"},\"y\":{\"field\":\"value\"}},\"id\":\"24984\",\"type\":\"Line\"},{\"attributes\":{\"line_color\":\"#e277c1\",\"line_width\":2,\"x\":{\"field\":\"Date\"},\"y\":{\"field\":\"value\"}},\"id\":\"25032\",\"type\":\"Line\"},{\"attributes\":{\"callback\":null,\"renderers\":[{\"id\":\"24914\"},{\"id\":\"24930\"},{\"id\":\"24947\"},{\"id\":\"24966\"},{\"id\":\"24987\"},{\"id\":\"25010\"},{\"id\":\"25035\"},{\"id\":\"25062\"}],\"tags\":[\"hv_created\"],\"tooltips\":[[\"Variable\",\"@{Variable}\"],[\"Date\",\"@{Date}\"],[\"value\",\"@{value}\"]]},\"id\":\"24865\",\"type\":\"HoverTool\"},{\"attributes\":{},\"id\":\"25005\",\"type\":\"Selection\"},{\"attributes\":{\"data\":{\"Date\":[\"1999\",\"2000\",\"2001\",\"2002\",\"2003\",\"2004\",\"2005\",\"2006\",\"2007\",\"2008\",\"2009\",\"2010\",\"2011\",\"2012\",\"2013\",\"2014\",\"2015\",\"2016\",\"2017\",\"2018\",\"2019\",\"2020\"],\"Variable\":[\"PLUG\",\"PLUG\",\"PLUG\",\"PLUG\",\"PLUG\",\"PLUG\",\"PLUG\",\"PLUG\",\"PLUG\",\"PLUG\",\"PLUG\",\"PLUG\",\"PLUG\",\"PLUG\",\"PLUG\",\"PLUG\",\"PLUG\",\"PLUG\",\"PLUG\",\"PLUG\",\"PLUG\",\"PLUG\"],\"value\":{\"__ndarray__\":\"AAAAAACocUAAAAAAAFxiQAAAAKCZ2VVAAAAAQDNzRkAAAAAAACBSQAAAAMDMjE5AAAAAYGamSUAAAABAM3NDQAAAAAAAwENAAAAAYGZmJEAAAABgZmYcQAAAAKCZmQ1AAAAAgOtRAEAAAAAAAADgPwAAAMDMzPg/AAAAAAAACEAAAACgR+EAQAAAAEAzM/M/AAAAoEfhAkAAAABACtfzPwAAACCuRwlAAAAA4Hr0QEA=\",\"dtype\":\"float64\",\"shape\":[22]}},\"selected\":{\"id\":\"24961\"},\"selection_policy\":{\"id\":\"25000\"}},\"id\":\"24960\",\"type\":\"ColumnDataSource\"},{\"attributes\":{},\"id\":\"24883\",\"type\":\"CategoricalTicker\"},{\"attributes\":{\"bottom_units\":\"screen\",\"fill_alpha\":0.5,\"fill_color\":\"lightgrey\",\"left_units\":\"screen\",\"level\":\"overlay\",\"line_alpha\":1.0,\"line_color\":\"black\",\"line_dash\":[4,4],\"line_width\":2,\"render_mode\":\"css\",\"right_units\":\"screen\",\"top_units\":\"screen\"},\"id\":\"24894\",\"type\":\"BoxAnnotation\"},{\"attributes\":{\"text\":\"Oil and Alternative Stock Prices from 1999-2020\",\"text_color\":{\"value\":\"black\"},\"text_font_size\":{\"value\":\"20pt\"}},\"id\":\"24874\",\"type\":\"Title\"},{\"attributes\":{\"line_alpha\":0.2,\"line_color\":\"#e277c1\",\"line_width\":2,\"x\":{\"field\":\"Date\"},\"y\":{\"field\":\"value\"}},\"id\":\"25034\",\"type\":\"Line\"},{\"attributes\":{\"line_color\":\"#1f77b3\",\"line_width\":2,\"x\":{\"field\":\"Date\"},\"y\":{\"field\":\"value\"}},\"id\":\"24911\",\"type\":\"Line\"},{\"attributes\":{\"line_alpha\":0.1,\"line_color\":\"#ff7e0e\",\"line_width\":2,\"x\":{\"field\":\"Date\"},\"y\":{\"field\":\"value\"}},\"id\":\"24928\",\"type\":\"Line\"},{\"attributes\":{\"label\":{\"value\":\"RDS-B\"},\"renderers\":[{\"id\":\"25035\"}]},\"id\":\"25055\",\"type\":\"LegendItem\"},{\"attributes\":{},\"id\":\"24982\",\"type\":\"Selection\"},{\"attributes\":{\"label\":{\"value\":\"CIG\"},\"renderers\":[{\"id\":\"24930\"}]},\"id\":\"24940\",\"type\":\"LegendItem\"},{\"attributes\":{\"margin\":[5,5,5,5],\"name\":\"HSpacer50085\",\"sizing_mode\":\"stretch_width\"},\"id\":\"24862\",\"type\":\"Spacer\"},{\"attributes\":{\"line_color\":\"#ff7e0e\",\"line_width\":2,\"x\":{\"field\":\"Date\"},\"y\":{\"field\":\"value\"}},\"id\":\"24927\",\"type\":\"Line\"},{\"attributes\":{},\"id\":\"24903\",\"type\":\"CategoricalTickFormatter\"},{\"attributes\":{\"line_alpha\":0.1,\"line_color\":\"#9367bc\",\"line_width\":2,\"x\":{\"field\":\"Date\"},\"y\":{\"field\":\"value\"}},\"id\":\"24985\",\"type\":\"Line\"},{\"attributes\":{\"source\":{\"id\":\"25029\"}},\"id\":\"25036\",\"type\":\"CDSView\"},{\"attributes\":{\"below\":[{\"id\":\"24882\"}],\"center\":[{\"id\":\"24884\"},{\"id\":\"24888\"}],\"left\":[{\"id\":\"24885\"}],\"margin\":null,\"min_border_bottom\":10,\"min_border_left\":10,\"min_border_right\":10,\"min_border_top\":10,\"plot_height\":400,\"plot_width\":1200,\"renderers\":[{\"id\":\"24914\"},{\"id\":\"24930\"},{\"id\":\"24947\"},{\"id\":\"24966\"},{\"id\":\"24987\"},{\"id\":\"25010\"},{\"id\":\"25035\"},{\"id\":\"25062\"}],\"right\":[{\"id\":\"24922\"}],\"sizing_mode\":\"fixed\",\"title\":{\"id\":\"24874\"},\"toolbar\":{\"id\":\"24895\"},\"x_range\":{\"id\":\"24863\"},\"x_scale\":{\"id\":\"24878\"},\"y_range\":{\"id\":\"24864\"},\"y_scale\":{\"id\":\"24880\"}},\"id\":\"24873\",\"subtype\":\"Figure\",\"type\":\"Plot\"},{\"attributes\":{},\"id\":\"25030\",\"type\":\"Selection\"},{\"attributes\":{},\"id\":\"24937\",\"type\":\"UnionRenderers\"},{\"attributes\":{\"line_alpha\":0.1,\"line_color\":\"#e277c1\",\"line_width\":2,\"x\":{\"field\":\"Date\"},\"y\":{\"field\":\"value\"}},\"id\":\"25033\",\"type\":\"Line\"},{\"attributes\":{\"data_source\":{\"id\":\"24981\"},\"glyph\":{\"id\":\"24984\"},\"hover_glyph\":null,\"muted_glyph\":{\"id\":\"24986\"},\"nonselection_glyph\":{\"id\":\"24985\"},\"selection_glyph\":null,\"view\":{\"id\":\"24988\"}},\"id\":\"24987\",\"type\":\"GlyphRenderer\"},{\"attributes\":{\"data_source\":{\"id\":\"24941\"},\"glyph\":{\"id\":\"24944\"},\"hover_glyph\":null,\"muted_glyph\":{\"id\":\"24946\"},\"nonselection_glyph\":{\"id\":\"24945\"},\"selection_glyph\":null,\"view\":{\"id\":\"24948\"}},\"id\":\"24947\",\"type\":\"GlyphRenderer\"},{\"attributes\":{\"data\":{\"Date\":[\"1999\",\"2000\",\"2001\",\"2002\",\"2003\",\"2004\",\"2005\",\"2006\",\"2007\",\"2008\",\"2009\",\"2010\",\"2011\",\"2012\",\"2013\",\"2014\",\"2015\",\"2016\",\"2017\",\"2018\",\"2019\",\"2020\"],\"Variable\":[\"RDS-B\",\"RDS-B\",\"RDS-B\",\"RDS-B\",\"RDS-B\",\"RDS-B\",\"RDS-B\",\"RDS-B\",\"RDS-B\",\"RDS-B\",\"RDS-B\",\"RDS-B\",\"RDS-B\",\"RDS-B\",\"RDS-B\",\"RDS-B\",\"RDS-B\",\"RDS-B\",\"RDS-B\",\"RDS-B\",\"RDS-B\",\"RDS-B\"],\"value\":{\"__ndarray__\":\"AAAAwGYSNkAAAAAAme02QAAAAEDW0DNAAAAAYChEM0AAAADA4j83QAAAAMDFrDtAAAAAwPJ1P0AAAADg9PNBQAAAAIDvukVAAAAAoLE0PEAAAAAgCwBBQAAAAEBMqkRAAAAAYPGxSEAAAABAqihIQAAAAIBv80pAAAAAgCYoSkAAAACg1m1CQAAAAGADAklAAAAAgMxhT0AAAABgCB1NQAAAAAAp/E1AAAAAgBTOQEA=\",\"dtype\":\"float64\",\"shape\":[22]}},\"selected\":{\"id\":\"25030\"},\"selection_policy\":{\"id\":\"25081\"}},\"id\":\"25029\",\"type\":\"ColumnDataSource\"},{\"attributes\":{\"factors\":[\"1999\",\"2000\",\"2001\",\"2002\",\"2003\",\"2004\",\"2005\",\"2006\",\"2007\",\"2008\",\"2009\",\"2010\",\"2011\",\"2012\",\"2013\",\"2014\",\"2015\",\"2016\",\"2017\",\"2018\",\"2019\",\"2020\"],\"tags\":[[[\"Date\",\"Date\",null]]]},\"id\":\"24863\",\"type\":\"FactorRange\"},{\"attributes\":{\"source\":{\"id\":\"24941\"}},\"id\":\"24948\",\"type\":\"CDSView\"},{\"attributes\":{},\"id\":\"24891\",\"type\":\"WheelZoomTool\"},{\"attributes\":{},\"id\":\"24942\",\"type\":\"Selection\"},{\"attributes\":{\"data_source\":{\"id\":\"25029\"},\"glyph\":{\"id\":\"25032\"},\"hover_glyph\":null,\"muted_glyph\":{\"id\":\"25034\"},\"nonselection_glyph\":{\"id\":\"25033\"},\"selection_glyph\":null,\"view\":{\"id\":\"25036\"}},\"id\":\"25035\",\"type\":\"GlyphRenderer\"},{\"attributes\":{},\"id\":\"25052\",\"type\":\"UnionRenderers\"},{\"attributes\":{\"line_color\":\"#d62628\",\"line_width\":2,\"x\":{\"field\":\"Date\"},\"y\":{\"field\":\"value\"}},\"id\":\"24963\",\"type\":\"Line\"},{\"attributes\":{\"axis\":{\"id\":\"24882\"},\"grid_line_color\":\"lightgray\",\"grid_line_width\":1.5,\"minor_grid_line_color\":\"lightgray\",\"ticker\":{\"id\":\"24883\"}},\"id\":\"24884\",\"type\":\"Grid\"},{\"attributes\":{\"label\":{\"value\":\"ELP\"},\"renderers\":[{\"id\":\"24947\"}]},\"id\":\"24959\",\"type\":\"LegendItem\"},{\"attributes\":{\"line_alpha\":0.1,\"line_color\":\"#2ba02b\",\"line_width\":2,\"x\":{\"field\":\"Date\"},\"y\":{\"field\":\"value\"}},\"id\":\"24945\",\"type\":\"Line\"},{\"attributes\":{},\"id\":\"24977\",\"type\":\"UnionRenderers\"},{\"attributes\":{\"end\":120,\"reset_end\":120,\"reset_start\":0,\"tags\":[[[\"value\",\"value\",null]]]},\"id\":\"24864\",\"type\":\"Range1d\"},{\"attributes\":{\"line_color\":\"#2ba02b\",\"line_width\":2,\"x\":{\"field\":\"Date\"},\"y\":{\"field\":\"value\"}},\"id\":\"24944\",\"type\":\"Line\"},{\"attributes\":{},\"id\":\"24880\",\"type\":\"LinearScale\"},{\"attributes\":{\"line_alpha\":0.2,\"line_color\":\"#9367bc\",\"line_width\":2,\"x\":{\"field\":\"Date\"},\"y\":{\"field\":\"value\"}},\"id\":\"24986\",\"type\":\"Line\"},{\"attributes\":{},\"id\":\"24878\",\"type\":\"CategoricalScale\"},{\"attributes\":{\"source\":{\"id\":\"24981\"}},\"id\":\"24988\",\"type\":\"CDSView\"},{\"attributes\":{},\"id\":\"24909\",\"type\":\"Selection\"},{\"attributes\":{\"data\":{\"Date\":[\"1999\",\"2000\",\"2001\",\"2002\",\"2003\",\"2004\",\"2005\",\"2006\",\"2007\",\"2008\",\"2009\",\"2010\",\"2011\",\"2012\",\"2013\",\"2014\",\"2015\",\"2016\",\"2017\",\"2018\",\"2019\",\"2020\"],\"Variable\":[\"CIG\",\"CIG\",\"CIG\",\"CIG\",\"CIG\",\"CIG\",\"CIG\",\"CIG\",\"CIG\",\"CIG\",\"CIG\",\"CIG\",\"CIG\",\"CIG\",\"CIG\",\"CIG\",\"CIG\",\"CIG\",\"CIG\",\"CIG\",\"CIG\",\"CIG\"],\"value\":{\"__ndarray__\":\"AAAAYMbE6T8AAACA57/gPwAAAIBSmOA/AAAAYPKA0T8AAADAEG3mPwAAAEAE5u8/AAAAAH3J+D8AAACgHKoAQAAAAADukQRAAAAAwCMQAEAAAACAzo0LQAAAAEDstAtAAAAAoFNKEEAAAAAAznYOQAAAAKBK3wpAAAAAQPY2C0AAAABA7zXxPwAAAKCriP0/AAAAoLmb+z8AAADgjsEJQAAAAGA2dglAAAAAYP2ZBkA=\",\"dtype\":\"float64\",\"shape\":[22]}},\"selected\":{\"id\":\"24925\"},\"selection_policy\":{\"id\":\"24956\"}},\"id\":\"24924\",\"type\":\"ColumnDataSource\"},{\"attributes\":{\"data_source\":{\"id\":\"24908\"},\"glyph\":{\"id\":\"24911\"},\"hover_glyph\":null,\"muted_glyph\":{\"id\":\"24913\"},\"nonselection_glyph\":{\"id\":\"24912\"},\"selection_glyph\":null,\"view\":{\"id\":\"24915\"}},\"id\":\"24914\",\"type\":\"GlyphRenderer\"},{\"attributes\":{},\"id\":\"24925\",\"type\":\"Selection\"},{\"attributes\":{\"margin\":[5,5,5,5],\"name\":\"HSpacer50086\",\"sizing_mode\":\"stretch_width\"},\"id\":\"25261\",\"type\":\"Spacer\"},{\"attributes\":{\"line_alpha\":0.2,\"line_color\":\"#1f77b3\",\"line_width\":2,\"x\":{\"field\":\"Date\"},\"y\":{\"field\":\"value\"}},\"id\":\"24913\",\"type\":\"Line\"},{\"attributes\":{},\"id\":\"24886\",\"type\":\"BasicTicker\"},{\"attributes\":{\"data_source\":{\"id\":\"24924\"},\"glyph\":{\"id\":\"24927\"},\"hover_glyph\":null,\"muted_glyph\":{\"id\":\"24929\"},\"nonselection_glyph\":{\"id\":\"24928\"},\"selection_glyph\":null,\"view\":{\"id\":\"24931\"}},\"id\":\"24930\",\"type\":\"GlyphRenderer\"},{\"attributes\":{\"line_alpha\":0.1,\"line_color\":\"#7e7e7e\",\"line_width\":2,\"x\":{\"field\":\"Date\"},\"y\":{\"field\":\"value\"}},\"id\":\"25060\",\"type\":\"Line\"},{\"attributes\":{\"data_source\":{\"id\":\"25056\"},\"glyph\":{\"id\":\"25059\"},\"hover_glyph\":null,\"muted_glyph\":{\"id\":\"25061\"},\"nonselection_glyph\":{\"id\":\"25060\"},\"selection_glyph\":null,\"view\":{\"id\":\"25063\"}},\"id\":\"25062\",\"type\":\"GlyphRenderer\"},{\"attributes\":{\"line_alpha\":0.2,\"line_color\":\"#7e7e7e\",\"line_width\":2,\"x\":{\"field\":\"Date\"},\"y\":{\"field\":\"value\"}},\"id\":\"25061\",\"type\":\"Line\"},{\"attributes\":{\"label\":{\"value\":\"XOM\"},\"renderers\":[{\"id\":\"25062\"}]},\"id\":\"25084\",\"type\":\"LegendItem\"},{\"attributes\":{\"line_color\":\"#7e7e7e\",\"line_width\":2,\"x\":{\"field\":\"Date\"},\"y\":{\"field\":\"value\"}},\"id\":\"25059\",\"type\":\"Line\"},{\"attributes\":{\"source\":{\"id\":\"25056\"}},\"id\":\"25063\",\"type\":\"CDSView\"},{\"attributes\":{\"children\":[{\"id\":\"24862\"},{\"id\":\"24873\"},{\"id\":\"25261\"}],\"margin\":[0,0,0,0],\"name\":\"Row50081\",\"tags\":[\"embedded\"]},\"id\":\"24861\",\"type\":\"Row\"},{\"attributes\":{},\"id\":\"25057\",\"type\":\"Selection\"},{\"attributes\":{},\"id\":\"24956\",\"type\":\"UnionRenderers\"},{\"attributes\":{\"click_policy\":\"mute\",\"items\":[{\"id\":\"24923\"},{\"id\":\"24940\"},{\"id\":\"24959\"},{\"id\":\"24980\"},{\"id\":\"25003\"},{\"id\":\"25028\"},{\"id\":\"25055\"},{\"id\":\"25084\"}],\"label_text_font_size\":\"20pt\",\"location\":[0,0],\"title\":\"Variable\"},\"id\":\"24922\",\"type\":\"Legend\"},{\"attributes\":{},\"id\":\"24890\",\"type\":\"PanTool\"},{\"attributes\":{\"source\":{\"id\":\"24908\"}},\"id\":\"24915\",\"type\":\"CDSView\"},{\"attributes\":{\"data\":{\"Date\":[\"1999\",\"2000\",\"2001\",\"2002\",\"2003\",\"2004\",\"2005\",\"2006\",\"2007\",\"2008\",\"2009\",\"2010\",\"2011\",\"2012\",\"2013\",\"2014\",\"2015\",\"2016\",\"2017\",\"2018\",\"2019\",\"2020\"],\"Variable\":[\"XOM\",\"XOM\",\"XOM\",\"XOM\",\"XOM\",\"XOM\",\"XOM\",\"XOM\",\"XOM\",\"XOM\",\"XOM\",\"XOM\",\"XOM\",\"XOM\",\"XOM\",\"XOM\",\"XOM\",\"XOM\",\"XOM\",\"XOM\",\"XOM\",\"XOM\"],\"value\":{\"__ndarray__\":\"AAAAgEJbNUAAAACA9oo3QAAAAIAYwTVAAAAAAPDSM0AAAABgfOo3QAAAACCZoD5AAAAAQFseQUAAAADg985HQAAAAIBOl01AAAAAoF22SUAAAACgqXhGQAAAACBYv0hAAAAAIAFeTUAAAAAAc79OQAAAAOCHd1JAAAAA4DtZUUAAAACAPUJOQAAAAIAtI1JAAAAAYGpyUUAAAABgkqBNQAAAAKAnxU9AAAAAIA5EREA=\",\"dtype\":\"float64\",\"shape\":[22]}},\"selected\":{\"id\":\"25057\"},\"selection_policy\":{\"id\":\"25104\"}},\"id\":\"25056\",\"type\":\"ColumnDataSource\"},{\"attributes\":{\"data\":{\"Date\":[\"1999\",\"2000\",\"2001\",\"2002\",\"2003\",\"2004\",\"2005\",\"2006\",\"2007\",\"2008\",\"2009\",\"2010\",\"2011\",\"2012\",\"2013\",\"2014\",\"2015\",\"2016\",\"2017\",\"2018\",\"2019\",\"2020\"],\"Variable\":[\"ELP\",\"ELP\",\"ELP\",\"ELP\",\"ELP\",\"ELP\",\"ELP\",\"ELP\",\"ELP\",\"ELP\",\"ELP\",\"ELP\",\"ELP\",\"ELP\",\"ELP\",\"ELP\",\"ELP\",\"ELP\",\"ELP\",\"ELP\",\"ELP\",\"ELP\"],\"value\":{\"__ndarray__\":\"AAAAgB6oEEAAAADgyiYPQAAAAECk8A1AAAAAIA3g9T8AAACgEZECQAAAAGAjrgFAAAAA4MefDkAAAABggcgWQAAAACBpUSBAAAAAIPeXF0AAAAAgOWEpQAAAAGAJSS5AAAAAoA9DKkAAAADg64EjQAAAAEDa5SFAAAAA4P9LI0AAAACgf6cRQAAAAAD+nhpAAAAAgKuqGUAAAADgF60cQAAAAIDSOzBAAAAAoJmZLEA=\",\"dtype\":\"float64\",\"shape\":[22]}},\"selected\":{\"id\":\"24942\"},\"selection_policy\":{\"id\":\"24977\"}},\"id\":\"24941\",\"type\":\"ColumnDataSource\"},{\"attributes\":{\"axis_label\":\"Date\",\"axis_label_text_font_size\":\"20pt\",\"bounds\":\"auto\",\"formatter\":{\"id\":\"24903\"},\"group_text_font_size\":\"15pt\",\"major_label_orientation\":1.5707963267948966,\"major_label_text_font_size\":\"15pt\",\"ticker\":{\"id\":\"24883\"}},\"id\":\"24882\",\"type\":\"CategoricalAxis\"},{\"attributes\":{\"line_alpha\":0.1,\"line_color\":\"#1f77b3\",\"line_width\":2,\"x\":{\"field\":\"Date\"},\"y\":{\"field\":\"value\"}},\"id\":\"24912\",\"type\":\"Line\"},{\"attributes\":{\"source\":{\"id\":\"24960\"}},\"id\":\"24967\",\"type\":\"CDSView\"},{\"attributes\":{},\"id\":\"24961\",\"type\":\"Selection\"}],\"root_ids\":[\"24861\"]},\"title\":\"Bokeh Application\",\"version\":\"2.0.2\"}};\n",
       "  var render_items = [{\"docid\":\"5f08bc4a-ea53-494c-bedb-c4077b87b4f5\",\"root_ids\":[\"24861\"],\"roots\":{\"24861\":\"155f8fd4-897e-4194-b0a9-536696572937\"}}];\n",
       "  root.Bokeh.embed.embed_items_notebook(docs_json, render_items);\n",
       "  }\n",
       "if (root.Bokeh !== undefined) {\n",
       "    embed_document(root);\n",
       "  } else {\n",
       "    var attempts = 0;\n",
       "    var timer = setInterval(function(root) {\n",
       "      if (root.Bokeh !== undefined) {\n",
       "        clearInterval(timer);\n",
       "        embed_document(root);\n",
       "      } else if (document.readyState == \"complete\") {\n",
       "        attempts++;\n",
       "        if (attempts > 100) {\n",
       "          clearInterval(timer);\n",
       "          console.log(\"Bokeh: ERROR: Unable to run BokehJS code because BokehJS library is missing\");\n",
       "        }\n",
       "      }\n",
       "    }, 10, root)\n",
       "  }\n",
       "})(window);</script>"
      ],
      "text/plain": [
       ":NdOverlay   [Variable]\n",
       "   :Curve   [Date]   (value)"
      ]
     },
     "execution_count": 145,
     "metadata": {
      "application/vnd.holoviews_exec.v0+json": {
       "id": "24861"
      }
     },
     "output_type": "execute_result"
    }
   ],
   "source": [
    "def combined_base():\n",
    "    combined_base = pd.concat(\n",
    "                        [alt_base(),oil_base()],\n",
    "                            axis = 'columns',\n",
    "                                join = 'inner',\n",
    "    )\n",
    "    combined_base_plot = combined_base.hvplot(\n",
    "                                        title = 'Oil and Alternative Stock Prices from 1999-2020',\n",
    "                                        ylabel = 'Stock Price',\n",
    "                                        rot = 90,\n",
    "                                        width = 1200,\n",
    "                                        height = 400,\n",
    "                                        ylim = (0,120),\n",
    "                                        grid = True\n",
    "    )\n",
    "    grid_style = {\n",
    "            'grid_line_color': 'lightgray', \n",
    "            'grid_line_width': 1.5,\n",
    "            'minor_xgrid_line_color':'lightgray'}\n",
    "    \n",
    "    combined_base_plot.opts(\n",
    "                            fontsize={\n",
    "                                'title': 20, \n",
    "                                'labels': 20, \n",
    "                                'xticks': 15, \n",
    "                                'yticks': 15,\n",
    "                                'legend': 20\n",
    "    },\n",
    "                            legend_position = 'right',\n",
    "                            gridstyle = grid_style\n",
    "    )\n",
    "    return combined_base_plot\n",
    "combined_base()"
   ]
  },
  {
   "cell_type": "code",
   "execution_count": 146,
   "metadata": {},
   "outputs": [],
   "source": [
    "def combined_pct_change():\n",
    "    alt_returns = alt_base().pct_change()\n",
    "    oil_returns = oil_base().pct_change()\n",
    "    weights = [0.25,0.25,0.25,0.25]\n",
    "\n",
    "    alt_port_returns = pd.DataFrame(alt_returns.dot(weights)).dropna()  \n",
    "    oil_port_returns = pd.DataFrame(oil_returns.dot(weights)).dropna()\n",
    "\n",
    "    alt_port_returns.columns = ['Alternative Energy']\n",
    "    oil_port_returns.columns = ['Oil & Gas']\n",
    "\n",
    "    # Combining the return dataframes\n",
    "    combined_portfolio_returns = pd.concat(\n",
    "                                        [alt_port_returns, oil_port_returns], \n",
    "                                            axis = 'columns', \n",
    "                                                join = 'inner'\n",
    "    )\n",
    "    return combined_portfolio_returns"
   ]
  },
  {
   "cell_type": "code",
   "execution_count": 147,
   "metadata": {},
   "outputs": [
    {
     "name": "stdout",
     "output_type": "stream",
     "text": [
      "[*********************100%***********************]  4 of 4 completed\n",
      "[*********************100%***********************]  4 of 4 completed\n"
     ]
    },
    {
     "data": {},
     "metadata": {},
     "output_type": "display_data"
    },
    {
     "data": {
      "application/vnd.holoviews_exec.v0+json": "",
      "text/html": [
       "<div id='25373'>\n",
       "\n",
       "\n",
       "\n",
       "\n",
       "\n",
       "  <div class=\"bk-root\" id=\"1a896033-abc1-4698-9955-4f7347a0ab8d\" data-root-id=\"25373\"></div>\n",
       "</div>\n",
       "<script type=\"application/javascript\">(function(root) {\n",
       "  function embed_document(root) {\n",
       "  var docs_json = {\"45870f02-f83e-4a1d-88eb-859098bc017c\":{\"roots\":{\"references\":[{\"attributes\":{},\"id\":\"25409\",\"type\":\"CategoricalTickFormatter\"},{\"attributes\":{\"line_color\":\"#ff7e0e\",\"line_width\":2,\"x\":{\"field\":\"Date\"},\"y\":{\"field\":\"value\"}},\"id\":\"25433\",\"type\":\"Line\"},{\"attributes\":{\"line_alpha\":0.2,\"line_color\":\"#ff7e0e\",\"line_width\":2,\"x\":{\"field\":\"Date\"},\"y\":{\"field\":\"value\"}},\"id\":\"25435\",\"type\":\"Line\"},{\"attributes\":{\"line_alpha\":0.1,\"line_color\":\"#1f77b3\",\"line_width\":2,\"x\":{\"field\":\"Date\"},\"y\":{\"field\":\"value\"}},\"id\":\"25418\",\"type\":\"Line\"},{\"attributes\":{},\"id\":\"25411\",\"type\":\"BasicTickFormatter\"},{\"attributes\":{},\"id\":\"25454\",\"type\":\"UnionRenderers\"},{\"attributes\":{\"label\":{\"value\":\"Oil & Gas\"},\"renderers\":[{\"id\":\"25436\"}]},\"id\":\"25446\",\"type\":\"LegendItem\"},{\"attributes\":{\"source\":{\"id\":\"25430\"}},\"id\":\"25437\",\"type\":\"CDSView\"},{\"attributes\":{\"line_alpha\":0.2,\"line_color\":\"#1f77b3\",\"line_width\":2,\"x\":{\"field\":\"Date\"},\"y\":{\"field\":\"value\"}},\"id\":\"25419\",\"type\":\"Line\"},{\"attributes\":{\"data\":{\"Date\":[\"2000\",\"2001\",\"2002\",\"2003\",\"2004\",\"2005\",\"2006\",\"2007\",\"2008\",\"2009\",\"2010\",\"2011\",\"2012\",\"2013\",\"2014\",\"2015\",\"2016\",\"2017\",\"2018\",\"2019\",\"2020\"],\"Variable\":[\"Oil & Gas\",\"Oil & Gas\",\"Oil & Gas\",\"Oil & Gas\",\"Oil & Gas\",\"Oil & Gas\",\"Oil & Gas\",\"Oil & Gas\",\"Oil & Gas\",\"Oil & Gas\",\"Oil & Gas\",\"Oil & Gas\",\"Oil & Gas\",\"Oil & Gas\",\"Oil & Gas\",\"Oil & Gas\",\"Oil & Gas\",\"Oil & Gas\",\"Oil & Gas\",\"Oil & Gas\",\"Oil & Gas\"],\"value\":{\"__ndarray__\":\"PA0WZc7N7z/+tGYQUdruP+QuCDHIb+s/rGDm+sRA8T87z+VTqlf1P9+dzDyXCvg/XtnPQVW+/T9wJrgrfS4CQNIDtsF4XPs/3f1hRLaz/j/hje9DJZQAQLpD8dWrBQNA2zGoZPV6A0COmeFoABIHQFFY/VaMIgVAU1c4NhReAUBrXjG3HaEGQLsS7cpflwlA4KfTikU/B0DVw+XZahEJQDn1Z9FIqP8/\",\"dtype\":\"float64\",\"shape\":[21]}},\"selected\":{\"id\":\"25431\"},\"selection_policy\":{\"id\":\"25454\"}},\"id\":\"25430\",\"type\":\"ColumnDataSource\"},{\"attributes\":{\"end\":12.642447978755326,\"reset_end\":12.642447978755326,\"reset_start\":-0.8179299477114663,\"start\":-0.8179299477114663,\"tags\":[[[\"value\",\"value\",null]]]},\"id\":\"25376\",\"type\":\"Range1d\"},{\"attributes\":{},\"id\":\"25431\",\"type\":\"Selection\"},{\"attributes\":{\"factors\":[\"2000\",\"2001\",\"2002\",\"2003\",\"2004\",\"2005\",\"2006\",\"2007\",\"2008\",\"2009\",\"2010\",\"2011\",\"2012\",\"2013\",\"2014\",\"2015\",\"2016\",\"2017\",\"2018\",\"2019\",\"2020\"],\"tags\":[[[\"Date\",\"Date\",null]]]},\"id\":\"25375\",\"type\":\"FactorRange\"},{\"attributes\":{\"children\":[{\"id\":\"25374\"},{\"id\":\"25379\"},{\"id\":\"25527\"}],\"margin\":[0,0,0,0],\"name\":\"Row51396\",\"tags\":[\"embedded\"]},\"id\":\"25373\",\"type\":\"Row\"},{\"attributes\":{\"line_alpha\":0.1,\"line_color\":\"#ff7e0e\",\"line_width\":2,\"x\":{\"field\":\"Date\"},\"y\":{\"field\":\"value\"}},\"id\":\"25434\",\"type\":\"Line\"},{\"attributes\":{},\"id\":\"25386\",\"type\":\"LinearScale\"},{\"attributes\":{},\"id\":\"25415\",\"type\":\"Selection\"},{\"attributes\":{\"label\":{\"value\":\"Alternative Energy\"},\"renderers\":[{\"id\":\"25420\"}]},\"id\":\"25429\",\"type\":\"LegendItem\"},{\"attributes\":{\"click_policy\":\"mute\",\"items\":[{\"id\":\"25429\"},{\"id\":\"25446\"}],\"label_text_font_size\":\"20pt\",\"location\":\"top_left\",\"title\":\"Variable\"},\"id\":\"25428\",\"type\":\"Legend\"},{\"attributes\":{\"bottom_units\":\"screen\",\"fill_alpha\":0.5,\"fill_color\":\"lightgrey\",\"left_units\":\"screen\",\"level\":\"overlay\",\"line_alpha\":1.0,\"line_color\":\"black\",\"line_dash\":[4,4],\"line_width\":2,\"render_mode\":\"css\",\"right_units\":\"screen\",\"top_units\":\"screen\"},\"id\":\"25400\",\"type\":\"BoxAnnotation\"},{\"attributes\":{\"data_source\":{\"id\":\"25430\"},\"glyph\":{\"id\":\"25433\"},\"hover_glyph\":null,\"muted_glyph\":{\"id\":\"25435\"},\"nonselection_glyph\":{\"id\":\"25434\"},\"selection_glyph\":null,\"view\":{\"id\":\"25437\"}},\"id\":\"25436\",\"type\":\"GlyphRenderer\"},{\"attributes\":{\"margin\":[5,5,5,5],\"name\":\"HSpacer51400\",\"sizing_mode\":\"stretch_width\"},\"id\":\"25374\",\"type\":\"Spacer\"},{\"attributes\":{\"line_color\":\"#1f77b3\",\"line_width\":2,\"x\":{\"field\":\"Date\"},\"y\":{\"field\":\"value\"}},\"id\":\"25417\",\"type\":\"Line\"},{\"attributes\":{\"callback\":null,\"renderers\":[{\"id\":\"25420\"},{\"id\":\"25436\"}],\"tags\":[\"hv_created\"],\"tooltips\":[[\"Variable\",\"@{Variable}\"],[\"Date\",\"@{Date}\"],[\"value\",\"@{value}\"]]},\"id\":\"25377\",\"type\":\"HoverTool\"},{\"attributes\":{\"source\":{\"id\":\"25414\"}},\"id\":\"25421\",\"type\":\"CDSView\"},{\"attributes\":{\"below\":[{\"id\":\"25388\"}],\"center\":[{\"id\":\"25390\"},{\"id\":\"25394\"},{\"id\":\"25428\"}],\"left\":[{\"id\":\"25391\"}],\"margin\":null,\"min_border_bottom\":10,\"min_border_left\":10,\"min_border_right\":10,\"min_border_top\":10,\"plot_height\":400,\"plot_width\":1200,\"renderers\":[{\"id\":\"25420\"},{\"id\":\"25436\"}],\"sizing_mode\":\"fixed\",\"title\":{\"id\":\"25380\"},\"toolbar\":{\"id\":\"25401\"},\"x_range\":{\"id\":\"25375\"},\"x_scale\":{\"id\":\"25384\"},\"y_range\":{\"id\":\"25376\"},\"y_scale\":{\"id\":\"25386\"}},\"id\":\"25379\",\"subtype\":\"Figure\",\"type\":\"Plot\"},{\"attributes\":{\"text\":\"Cumulative Returns of Both Industries 2000-2020\",\"text_color\":{\"value\":\"black\"},\"text_font_size\":{\"value\":\"20pt\"}},\"id\":\"25380\",\"type\":\"Title\"},{\"attributes\":{\"data_source\":{\"id\":\"25414\"},\"glyph\":{\"id\":\"25417\"},\"hover_glyph\":null,\"muted_glyph\":{\"id\":\"25419\"},\"nonselection_glyph\":{\"id\":\"25418\"},\"selection_glyph\":null,\"view\":{\"id\":\"25421\"}},\"id\":\"25420\",\"type\":\"GlyphRenderer\"},{\"attributes\":{},\"id\":\"25443\",\"type\":\"UnionRenderers\"},{\"attributes\":{},\"id\":\"25389\",\"type\":\"CategoricalTicker\"},{\"attributes\":{},\"id\":\"25392\",\"type\":\"BasicTicker\"},{\"attributes\":{\"axis_label\":\"Cumulative Returns Multiple\",\"axis_label_text_font_size\":\"20pt\",\"bounds\":\"auto\",\"formatter\":{\"id\":\"25411\"},\"major_label_orientation\":\"horizontal\",\"major_label_text_font_size\":\"15pt\",\"ticker\":{\"id\":\"25392\"}},\"id\":\"25391\",\"type\":\"LinearAxis\"},{\"attributes\":{\"margin\":[5,5,5,5],\"name\":\"HSpacer51401\",\"sizing_mode\":\"stretch_width\"},\"id\":\"25527\",\"type\":\"Spacer\"},{\"attributes\":{},\"id\":\"25397\",\"type\":\"WheelZoomTool\"},{\"attributes\":{},\"id\":\"25384\",\"type\":\"CategoricalScale\"},{\"attributes\":{},\"id\":\"25396\",\"type\":\"PanTool\"},{\"attributes\":{\"axis\":{\"id\":\"25388\"},\"grid_line_color\":\"lightgray\",\"grid_line_width\":1.5,\"minor_grid_line_color\":\"lightgray\",\"ticker\":{\"id\":\"25389\"}},\"id\":\"25390\",\"type\":\"Grid\"},{\"attributes\":{\"axis\":{\"id\":\"25391\"},\"dimension\":1,\"grid_line_color\":\"lightgray\",\"grid_line_width\":1.5,\"ticker\":{\"id\":\"25392\"}},\"id\":\"25394\",\"type\":\"Grid\"},{\"attributes\":{},\"id\":\"25395\",\"type\":\"SaveTool\"},{\"attributes\":{\"axis_label\":\"Date\",\"axis_label_text_font_size\":\"20pt\",\"bounds\":\"auto\",\"formatter\":{\"id\":\"25409\"},\"group_text_font_size\":\"15pt\",\"major_label_orientation\":1.5707963267948966,\"major_label_text_font_size\":\"15pt\",\"ticker\":{\"id\":\"25389\"}},\"id\":\"25388\",\"type\":\"CategoricalAxis\"},{\"attributes\":{\"data\":{\"Date\":[\"2000\",\"2001\",\"2002\",\"2003\",\"2004\",\"2005\",\"2006\",\"2007\",\"2008\",\"2009\",\"2010\",\"2011\",\"2012\",\"2013\",\"2014\",\"2015\",\"2016\",\"2017\",\"2018\",\"2019\",\"2020\"],\"Variable\":[\"Alternative Energy\",\"Alternative Energy\",\"Alternative Energy\",\"Alternative Energy\",\"Alternative Energy\",\"Alternative Energy\",\"Alternative Energy\",\"Alternative Energy\",\"Alternative Energy\",\"Alternative Energy\",\"Alternative Energy\",\"Alternative Energy\",\"Alternative Energy\",\"Alternative Energy\",\"Alternative Energy\",\"Alternative Energy\",\"Alternative Energy\",\"Alternative Energy\",\"Alternative Energy\",\"Alternative Energy\",\"Alternative Energy\"],\"value\":{\"__ndarray__\":\"dvo0dOsa7T+2MkHzj8noP9Qf6jrwcNM/MsVsJwSM6D8U73O/G6vqP9+pD23uMfE/1dtq/oTa8z8BMaLVMEn3P/csFoFAd+8/wPCUDNH69T+2HoF6hJH2P5ZmBEjuxvM/Z2qieCuA8D+N9zejGtj5P+0X2dBWsgBAIY7kkFq28z+czWhqyYj4P6gn8oOFov0/pJFUS+MU/z9NSdg1gLULQGZGXbifCidA\",\"dtype\":\"float64\",\"shape\":[21]}},\"selected\":{\"id\":\"25415\"},\"selection_policy\":{\"id\":\"25443\"}},\"id\":\"25414\",\"type\":\"ColumnDataSource\"},{\"attributes\":{\"overlay\":{\"id\":\"25400\"}},\"id\":\"25398\",\"type\":\"BoxZoomTool\"},{\"attributes\":{},\"id\":\"25399\",\"type\":\"ResetTool\"},{\"attributes\":{\"active_drag\":\"auto\",\"active_inspect\":\"auto\",\"active_multi\":null,\"active_scroll\":\"auto\",\"active_tap\":\"auto\",\"tools\":[{\"id\":\"25377\"},{\"id\":\"25395\"},{\"id\":\"25396\"},{\"id\":\"25397\"},{\"id\":\"25398\"},{\"id\":\"25399\"}]},\"id\":\"25401\",\"type\":\"Toolbar\"}],\"root_ids\":[\"25373\"]},\"title\":\"Bokeh Application\",\"version\":\"2.0.2\"}};\n",
       "  var render_items = [{\"docid\":\"45870f02-f83e-4a1d-88eb-859098bc017c\",\"root_ids\":[\"25373\"],\"roots\":{\"25373\":\"1a896033-abc1-4698-9955-4f7347a0ab8d\"}}];\n",
       "  root.Bokeh.embed.embed_items_notebook(docs_json, render_items);\n",
       "  }\n",
       "if (root.Bokeh !== undefined) {\n",
       "    embed_document(root);\n",
       "  } else {\n",
       "    var attempts = 0;\n",
       "    var timer = setInterval(function(root) {\n",
       "      if (root.Bokeh !== undefined) {\n",
       "        clearInterval(timer);\n",
       "        embed_document(root);\n",
       "      } else if (document.readyState == \"complete\") {\n",
       "        attempts++;\n",
       "        if (attempts > 100) {\n",
       "          clearInterval(timer);\n",
       "          console.log(\"Bokeh: ERROR: Unable to run BokehJS code because BokehJS library is missing\");\n",
       "        }\n",
       "      }\n",
       "    }, 10, root)\n",
       "  }\n",
       "})(window);</script>"
      ],
      "text/plain": [
       ":NdOverlay   [Variable]\n",
       "   :Curve   [Date]   (value)"
      ]
     },
     "execution_count": 147,
     "metadata": {
      "application/vnd.holoviews_exec.v0+json": {
       "id": "25373"
      }
     },
     "output_type": "execute_result"
    }
   ],
   "source": [
    "def cumulative_returns():\n",
    "    cumulative = (1 + combined_pct_change()).cumprod()\n",
    "    cumulative_plot = cumulative.hvplot(\n",
    "                                    title = 'Cumulative Returns of Both Industries 2000-2020',\n",
    "                                    ylabel = 'Cumulative Returns Multiple',\n",
    "                                    rot = 90,\n",
    "                                    width = 1200,\n",
    "                                    height = 400,\n",
    "                                    shared_axes = False,\n",
    "                                    grid = True\n",
    "    )\n",
    "    grid_style = {\n",
    "            'grid_line_color': 'lightgray', \n",
    "            'grid_line_width': 1.5,\n",
    "            'minor_xgrid_line_color':'lightgray'}\n",
    "    \n",
    "    cumulative_plot.opts(\n",
    "                        fontsize={\n",
    "                            'title': 20, \n",
    "                            'labels': 20, \n",
    "                            'xticks': 15, \n",
    "                            'yticks': 15,\n",
    "                            'legend': 20\n",
    "    },\n",
    "                                legend_position = 'top_left',\n",
    "                                     gridstyle = grid_style\n",
    "    )\n",
    "    return cumulative_plot\n",
    "cumulative_returns()"
   ]
  },
  {
   "cell_type": "code",
   "execution_count": 148,
   "metadata": {},
   "outputs": [
    {
     "name": "stdout",
     "output_type": "stream",
     "text": [
      "[*********************100%***********************]  4 of 4 completed\n",
      "[*********************100%***********************]  4 of 4 completed\n"
     ]
    },
    {
     "data": {},
     "metadata": {},
     "output_type": "display_data"
    },
    {
     "data": {
      "application/vnd.holoviews_exec.v0+json": "",
      "text/html": [
       "<div id='25579'>\n",
       "\n",
       "\n",
       "\n",
       "\n",
       "\n",
       "  <div class=\"bk-root\" id=\"1fe0b8c2-697e-48a1-92e0-b2e6c4b19621\" data-root-id=\"25579\"></div>\n",
       "</div>\n",
       "<script type=\"application/javascript\">(function(root) {\n",
       "  function embed_document(root) {\n",
       "  var docs_json = {\"8568cbfe-5fc4-488d-ae24-05fc96a973d2\":{\"roots\":{\"references\":[{\"attributes\":{\"axis\":{\"id\":\"25594\"},\"grid_line_color\":\"lightgray\",\"grid_line_width\":1.5,\"minor_grid_line_color\":\"lightgray\",\"ticker\":{\"id\":\"25595\"}},\"id\":\"25596\",\"type\":\"Grid\"},{\"attributes\":{},\"id\":\"25603\",\"type\":\"WheelZoomTool\"},{\"attributes\":{\"axis_label\":\"Date\",\"axis_label_text_font_size\":\"20pt\",\"bounds\":\"auto\",\"formatter\":{\"id\":\"25615\"},\"group_text_font_size\":\"15pt\",\"major_label_orientation\":1.5707963267948966,\"major_label_text_font_size\":\"15pt\",\"ticker\":{\"id\":\"25595\"}},\"id\":\"25594\",\"type\":\"CategoricalAxis\"},{\"attributes\":{},\"id\":\"25598\",\"type\":\"BasicTicker\"},{\"attributes\":{\"active_drag\":\"auto\",\"active_inspect\":\"auto\",\"active_multi\":null,\"active_scroll\":\"auto\",\"active_tap\":\"auto\",\"tools\":[{\"id\":\"25583\"},{\"id\":\"25601\"},{\"id\":\"25602\"},{\"id\":\"25603\"},{\"id\":\"25604\"},{\"id\":\"25605\"}]},\"id\":\"25607\",\"type\":\"Toolbar\"},{\"attributes\":{\"overlay\":{\"id\":\"25606\"}},\"id\":\"25604\",\"type\":\"BoxZoomTool\"},{\"attributes\":{},\"id\":\"25605\",\"type\":\"ResetTool\"},{\"attributes\":{},\"id\":\"25615\",\"type\":\"CategoricalTickFormatter\"},{\"attributes\":{\"line_alpha\":0.2,\"line_color\":\"#ff7e0e\",\"line_width\":2,\"x\":{\"field\":\"Date\"},\"y\":{\"field\":\"value\"}},\"id\":\"25641\",\"type\":\"Line\"},{\"attributes\":{},\"id\":\"25660\",\"type\":\"UnionRenderers\"},{\"attributes\":{\"data_source\":{\"id\":\"25636\"},\"glyph\":{\"id\":\"25639\"},\"hover_glyph\":null,\"muted_glyph\":{\"id\":\"25641\"},\"nonselection_glyph\":{\"id\":\"25640\"},\"selection_glyph\":null,\"view\":{\"id\":\"25643\"}},\"id\":\"25642\",\"type\":\"GlyphRenderer\"},{\"attributes\":{\"text\":\"5 Year Rolling Standard Deviation 2004-2020\",\"text_color\":{\"value\":\"black\"},\"text_font_size\":{\"value\":\"20pt\"}},\"id\":\"25586\",\"type\":\"Title\"},{\"attributes\":{\"line_alpha\":0.1,\"line_color\":\"#ff7e0e\",\"line_width\":2,\"x\":{\"field\":\"Date\"},\"y\":{\"field\":\"value\"}},\"id\":\"25640\",\"type\":\"Line\"},{\"attributes\":{\"factors\":[\"2004\",\"2005\",\"2006\",\"2007\",\"2008\",\"2009\",\"2010\",\"2011\",\"2012\",\"2013\",\"2014\",\"2015\",\"2016\",\"2017\",\"2018\",\"2019\",\"2020\"],\"tags\":[[[\"Date\",\"Date\",null]]]},\"id\":\"25581\",\"type\":\"FactorRange\"},{\"attributes\":{},\"id\":\"25617\",\"type\":\"BasicTickFormatter\"},{\"attributes\":{\"label\":{\"value\":\"Oil & Gas\"},\"renderers\":[{\"id\":\"25642\"}]},\"id\":\"25652\",\"type\":\"LegendItem\"},{\"attributes\":{\"click_policy\":\"mute\",\"items\":[{\"id\":\"25635\"},{\"id\":\"25652\"}],\"label_text_font_size\":\"20pt\",\"location\":[0,0],\"orientation\":\"horizontal\",\"title\":\"Variable\"},\"id\":\"25634\",\"type\":\"Legend\"},{\"attributes\":{\"source\":{\"id\":\"25636\"}},\"id\":\"25643\",\"type\":\"CDSView\"},{\"attributes\":{},\"id\":\"25621\",\"type\":\"Selection\"},{\"attributes\":{\"label\":{\"value\":\"Alternative Energy\"},\"renderers\":[{\"id\":\"25626\"}]},\"id\":\"25635\",\"type\":\"LegendItem\"},{\"attributes\":{},\"id\":\"25637\",\"type\":\"Selection\"},{\"attributes\":{\"above\":[{\"id\":\"25634\"}],\"below\":[{\"id\":\"25594\"}],\"center\":[{\"id\":\"25596\"},{\"id\":\"25600\"}],\"left\":[{\"id\":\"25597\"}],\"margin\":null,\"min_border_bottom\":10,\"min_border_left\":10,\"min_border_right\":10,\"min_border_top\":10,\"plot_height\":400,\"plot_width\":1200,\"renderers\":[{\"id\":\"25626\"},{\"id\":\"25642\"}],\"sizing_mode\":\"fixed\",\"title\":{\"id\":\"25586\"},\"toolbar\":{\"id\":\"25607\"},\"x_range\":{\"id\":\"25581\"},\"x_scale\":{\"id\":\"25590\"},\"y_range\":{\"id\":\"25582\"},\"y_scale\":{\"id\":\"25592\"}},\"id\":\"25585\",\"subtype\":\"Figure\",\"type\":\"Plot\"},{\"attributes\":{\"line_color\":\"#1f77b3\",\"line_width\":2,\"x\":{\"field\":\"Date\"},\"y\":{\"field\":\"value\"}},\"id\":\"25623\",\"type\":\"Line\"},{\"attributes\":{},\"id\":\"25590\",\"type\":\"CategoricalScale\"},{\"attributes\":{\"callback\":null,\"renderers\":[{\"id\":\"25626\"},{\"id\":\"25642\"}],\"tags\":[\"hv_created\"],\"tooltips\":[[\"Variable\",\"@{Variable}\"],[\"Date\",\"@{Date}\"],[\"value\",\"@{value}\"]]},\"id\":\"25583\",\"type\":\"HoverTool\"},{\"attributes\":{\"data\":{\"Date\":[\"2004\",\"2005\",\"2006\",\"2007\",\"2008\",\"2009\",\"2010\",\"2011\",\"2012\",\"2013\",\"2014\",\"2015\",\"2016\",\"2017\",\"2018\",\"2019\",\"2020\"],\"Variable\":[\"Oil & Gas\",\"Oil & Gas\",\"Oil & Gas\",\"Oil & Gas\",\"Oil & Gas\",\"Oil & Gas\",\"Oil & Gas\",\"Oil & Gas\",\"Oil & Gas\",\"Oil & Gas\",\"Oil & Gas\",\"Oil & Gas\",\"Oil & Gas\",\"Oil & Gas\",\"Oil & Gas\",\"Oil & Gas\",\"Oil & Gas\"],\"value\":{\"__ndarray__\":\"jN4rHx+zMEAZK95uST4wQMuegLqy3i5AsnE5APOsFECmdOIQbcs0QEvzUm28tzNAI3ZngvefM0DRQLzEWTgyQPfw8Qyh5C9Ak4gLXgfEGEADW8Fz7zIlQFLFhdaajC5AqwXDPkqKM0DAl1yoS8UzQLY3cv3TrDNAp8yZgHzwMkAOQUG8E285QA==\",\"dtype\":\"float64\",\"shape\":[17]}},\"selected\":{\"id\":\"25637\"},\"selection_policy\":{\"id\":\"25660\"}},\"id\":\"25636\",\"type\":\"ColumnDataSource\"},{\"attributes\":{\"children\":[{\"id\":\"25580\"},{\"id\":\"25585\"},{\"id\":\"25733\"}],\"margin\":[0,0,0,0],\"name\":\"Row51877\",\"tags\":[\"embedded\"]},\"id\":\"25579\",\"type\":\"Row\"},{\"attributes\":{},\"id\":\"25592\",\"type\":\"LinearScale\"},{\"attributes\":{\"source\":{\"id\":\"25620\"}},\"id\":\"25627\",\"type\":\"CDSView\"},{\"attributes\":{\"bottom_units\":\"screen\",\"fill_alpha\":0.5,\"fill_color\":\"lightgrey\",\"left_units\":\"screen\",\"level\":\"overlay\",\"line_alpha\":1.0,\"line_color\":\"black\",\"line_dash\":[4,4],\"line_width\":2,\"render_mode\":\"css\",\"right_units\":\"screen\",\"top_units\":\"screen\"},\"id\":\"25606\",\"type\":\"BoxAnnotation\"},{\"attributes\":{\"line_color\":\"#ff7e0e\",\"line_width\":2,\"x\":{\"field\":\"Date\"},\"y\":{\"field\":\"value\"}},\"id\":\"25639\",\"type\":\"Line\"},{\"attributes\":{},\"id\":\"25649\",\"type\":\"UnionRenderers\"},{\"attributes\":{},\"id\":\"25601\",\"type\":\"SaveTool\"},{\"attributes\":{\"line_alpha\":0.2,\"line_color\":\"#1f77b3\",\"line_width\":2,\"x\":{\"field\":\"Date\"},\"y\":{\"field\":\"value\"}},\"id\":\"25625\",\"type\":\"Line\"},{\"attributes\":{},\"id\":\"25595\",\"type\":\"CategoricalTicker\"},{\"attributes\":{\"line_alpha\":0.1,\"line_color\":\"#1f77b3\",\"line_width\":2,\"x\":{\"field\":\"Date\"},\"y\":{\"field\":\"value\"}},\"id\":\"25624\",\"type\":\"Line\"},{\"attributes\":{},\"id\":\"25602\",\"type\":\"PanTool\"},{\"attributes\":{\"margin\":[5,5,5,5],\"name\":\"HSpacer51881\",\"sizing_mode\":\"stretch_width\"},\"id\":\"25580\",\"type\":\"Spacer\"},{\"attributes\":{\"margin\":[5,5,5,5],\"name\":\"HSpacer51882\",\"sizing_mode\":\"stretch_width\"},\"id\":\"25733\",\"type\":\"Spacer\"},{\"attributes\":{\"axis_label\":\"Standard Deviation in %\",\"axis_label_text_font_size\":\"20pt\",\"bounds\":\"auto\",\"formatter\":{\"id\":\"25617\"},\"major_label_orientation\":\"horizontal\",\"major_label_text_font_size\":\"15pt\",\"ticker\":{\"id\":\"25598\"}},\"id\":\"25597\",\"type\":\"LinearAxis\"},{\"attributes\":{\"end\":102.71020917045186,\"reset_end\":102.71020917045186,\"reset_start\":-3.6984964066455497,\"start\":-3.6984964066455497,\"tags\":[[[\"value\",\"value\",null]]]},\"id\":\"25582\",\"type\":\"Range1d\"},{\"attributes\":{\"data_source\":{\"id\":\"25620\"},\"glyph\":{\"id\":\"25623\"},\"hover_glyph\":null,\"muted_glyph\":{\"id\":\"25625\"},\"nonselection_glyph\":{\"id\":\"25624\"},\"selection_glyph\":null,\"view\":{\"id\":\"25627\"}},\"id\":\"25626\",\"type\":\"GlyphRenderer\"},{\"attributes\":{\"axis\":{\"id\":\"25597\"},\"dimension\":1,\"grid_line_color\":\"lightgray\",\"grid_line_width\":1.5,\"ticker\":{\"id\":\"25598\"}},\"id\":\"25600\",\"type\":\"Grid\"},{\"attributes\":{\"data\":{\"Date\":[\"2004\",\"2005\",\"2006\",\"2007\",\"2008\",\"2009\",\"2010\",\"2011\",\"2012\",\"2013\",\"2014\",\"2015\",\"2016\",\"2017\",\"2018\",\"2019\",\"2020\"],\"Variable\":[\"Alternative Energy\",\"Alternative Energy\",\"Alternative Energy\",\"Alternative Energy\",\"Alternative Energy\",\"Alternative Energy\",\"Alternative Energy\",\"Alternative Energy\",\"Alternative Energy\",\"Alternative Energy\",\"Alternative Energy\",\"Alternative Energy\",\"Alternative Energy\",\"Alternative Energy\",\"Alternative Energy\",\"Alternative Energy\",\"Alternative Energy\"],\"value\":{\"__ndarray__\":\"Lvrn1is4VEAzHRiv8vJTQIiySyviVFNAWNL1ktZkTkAB1uKpBIk3QAaWDLEDoTtAgV/OcyCAOkCYz8uYa5U7QAYeHAF3WDtA0yRlSSVFQECLbiIIJcI+QEJFSmibjENAwENo88BzQ0DtQH3uY+5BQORdehevrzxAvrHRurpoRUCByOC28HVXQA==\",\"dtype\":\"float64\",\"shape\":[17]}},\"selected\":{\"id\":\"25621\"},\"selection_policy\":{\"id\":\"25649\"}},\"id\":\"25620\",\"type\":\"ColumnDataSource\"}],\"root_ids\":[\"25579\"]},\"title\":\"Bokeh Application\",\"version\":\"2.0.2\"}};\n",
       "  var render_items = [{\"docid\":\"8568cbfe-5fc4-488d-ae24-05fc96a973d2\",\"root_ids\":[\"25579\"],\"roots\":{\"25579\":\"1fe0b8c2-697e-48a1-92e0-b2e6c4b19621\"}}];\n",
       "  root.Bokeh.embed.embed_items_notebook(docs_json, render_items);\n",
       "  }\n",
       "if (root.Bokeh !== undefined) {\n",
       "    embed_document(root);\n",
       "  } else {\n",
       "    var attempts = 0;\n",
       "    var timer = setInterval(function(root) {\n",
       "      if (root.Bokeh !== undefined) {\n",
       "        clearInterval(timer);\n",
       "        embed_document(root);\n",
       "      } else if (document.readyState == \"complete\") {\n",
       "        attempts++;\n",
       "        if (attempts > 100) {\n",
       "          clearInterval(timer);\n",
       "          console.log(\"Bokeh: ERROR: Unable to run BokehJS code because BokehJS library is missing\");\n",
       "        }\n",
       "      }\n",
       "    }, 10, root)\n",
       "  }\n",
       "})(window);</script>"
      ],
      "text/plain": [
       ":NdOverlay   [Variable]\n",
       "   :Curve   [Date]   (value)"
      ]
     },
     "execution_count": 148,
     "metadata": {
      "application/vnd.holoviews_exec.v0+json": {
       "id": "25579"
      }
     },
     "output_type": "execute_result"
    }
   ],
   "source": [
    "def five_y_rolling_std():\n",
    "    # Finding the 5-year rolling annual standard deviation \n",
    "    df_rolling_std = combined_pct_change().rolling(window = 5).std().dropna()* 100\n",
    "    \n",
    "    rolling_std_plot = df_rolling_std.hvplot(\n",
    "                                        title = '5 Year Rolling Standard Deviation 2004-2020',\n",
    "                                        ylabel = 'Standard Deviation in %',\n",
    "                                        rot = 90,\n",
    "                                        width = 1200,\n",
    "                                        height = 400,\n",
    "                                        grid = True,\n",
    "                                        shared_axes = False\n",
    "    )\n",
    "    grid_style = {\n",
    "            'grid_line_color': 'lightgray', \n",
    "            'grid_line_width': 1.5,\n",
    "            'minor_xgrid_line_color':'lightgray'}\n",
    "    rolling_std_plot.opts(\n",
    "                        fontsize={\n",
    "                            'title': 20, \n",
    "                            'labels': 20, \n",
    "                            'xticks': 15, \n",
    "                            'yticks': 15,\n",
    "                            'legend': 20\n",
    "        },\n",
    "                            legend_position = 'top',\n",
    "                                gridstyle = grid_style\n",
    "                                \n",
    "    )\n",
    "    return rolling_std_plot\n",
    "five_y_rolling_std()"
   ]
  },
  {
   "cell_type": "code",
   "execution_count": 149,
   "metadata": {},
   "outputs": [
    {
     "name": "stdout",
     "output_type": "stream",
     "text": [
      "[*********************100%***********************]  4 of 4 completed\n",
      "[*********************100%***********************]  4 of 4 completed\n"
     ]
    },
    {
     "data": {},
     "metadata": {},
     "output_type": "display_data"
    },
    {
     "data": {
      "application/vnd.holoviews_exec.v0+json": "",
      "text/html": [
       "<div id='25785'>\n",
       "\n",
       "\n",
       "\n",
       "\n",
       "\n",
       "  <div class=\"bk-root\" id=\"889a2a83-13c6-4e0f-ace0-6dcf7846ad0b\" data-root-id=\"25785\"></div>\n",
       "</div>\n",
       "<script type=\"application/javascript\">(function(root) {\n",
       "  function embed_document(root) {\n",
       "  var docs_json = {\"20b33a56-99d8-44c2-9957-6fbd2f49a683\":{\"roots\":{\"references\":[{\"attributes\":{\"margin\":[5,5,5,5],\"name\":\"HSpacer52345\",\"sizing_mode\":\"stretch_width\"},\"id\":\"25842\",\"type\":\"Spacer\"},{\"attributes\":{},\"id\":\"25821\",\"type\":\"Selection\"},{\"attributes\":{\"fill_color\":{\"value\":\"#1f77b3\"},\"line_color\":{\"value\":\"#1f77b3\"},\"size\":{\"units\":\"screen\",\"value\":10.0},\"x\":{\"field\":\"Oil & Gas\"},\"y\":{\"field\":\"Alternative Energy\"}},\"id\":\"25823\",\"type\":\"Scatter\"},{\"attributes\":{\"data\":{\"Alternative Energy\":{\"__ndarray__\":\"UCxYXqQot7/szQEwMf3Cvx4ESwZvc+O/n+Upf3Bn+D/GVXBg6B+2P8Ym30Tnh9I/E+f8QU3Kwz9M5R1E9yDGP/YzY3pLwtS/ZMOaBFtp2T8IeBxE52ybP2ptE93Bqb+/t8mkOJQ0xb8svgdftx7iPwRhb6rKsdI/HqRBfmQ42r8PDOU5q0/PP0+fARpBnMo/+Iqyf83+qD+aA2vnMw7pPwcgPKIVnAJA\",\"dtype\":\"float64\",\"shape\":[21]},\"Alternative_Energy\":{\"__ndarray__\":\"UCxYXqQot7/szQEwMf3Cvx4ESwZvc+O/n+Upf3Bn+D/GVXBg6B+2P8Ym30Tnh9I/E+f8QU3Kwz9M5R1E9yDGP/YzY3pLwtS/ZMOaBFtp2T8IeBxE52ybP2ptE93Bqb+/t8mkOJQ0xb8svgdftx7iPwRhb6rKsdI/HqRBfmQ42r8PDOU5q0/PP0+fARpBnMo/+Iqyf83+qD+aA2vnMw7pPwcgPKIVnAJA\",\"dtype\":\"float64\",\"shape\":[21]},\"Oil & Gas\":{\"__ndarray__\":\"QGL5dM0Yeb+Q7FKXs5+ev06bk4hrWLy/uvXD4oV90D9auUHp6lbOP64gUX3IL8A/qLkpLOVbzj9GCbZi13zMP0TQVdT1r8+/UtxlX+RBvz9KvykNO3m0PzpBfXqH3cI/mJeK786pmD8YpP6TypbHPwBJypfNebW/q+Kz5CHRxr+usHxh5GPTPyPuVMb8wMA/oJ7JcRBzt798bCtcPg20P9x8FJ6rlte/\",\"dtype\":\"float64\",\"shape\":[21]},\"Oil_ampersand_Gas\":{\"__ndarray__\":\"QGL5dM0Yeb+Q7FKXs5+ev06bk4hrWLy/uvXD4oV90D9auUHp6lbOP64gUX3IL8A/qLkpLOVbzj9GCbZi13zMP0TQVdT1r8+/UtxlX+RBvz9KvykNO3m0PzpBfXqH3cI/mJeK786pmD8YpP6TypbHPwBJypfNebW/q+Kz5CHRxr+usHxh5GPTPyPuVMb8wMA/oJ7JcRBzt798bCtcPg20P9x8FJ6rlte/\",\"dtype\":\"float64\",\"shape\":[21]}},\"selected\":{\"id\":\"25821\"},\"selection_policy\":{\"id\":\"25839\"}},\"id\":\"25820\",\"type\":\"ColumnDataSource\"},{\"attributes\":{\"data_source\":{\"id\":\"25820\"},\"glyph\":{\"id\":\"25823\"},\"hover_glyph\":null,\"muted_glyph\":{\"id\":\"25825\"},\"nonselection_glyph\":{\"id\":\"25824\"},\"selection_glyph\":null,\"view\":{\"id\":\"25827\"}},\"id\":\"25826\",\"type\":\"GlyphRenderer\"},{\"attributes\":{},\"id\":\"25800\",\"type\":\"BasicTicker\"},{\"attributes\":{\"fill_alpha\":{\"value\":0.1},\"fill_color\":{\"value\":\"#1f77b3\"},\"line_alpha\":{\"value\":0.1},\"line_color\":{\"value\":\"#1f77b3\"},\"size\":{\"units\":\"screen\",\"value\":10.0},\"x\":{\"field\":\"Oil & Gas\"},\"y\":{\"field\":\"Alternative Energy\"}},\"id\":\"25824\",\"type\":\"Scatter\"},{\"attributes\":{\"axis_label\":\"Alternative Energy\",\"axis_label_text_font_size\":\"20pt\",\"bounds\":\"auto\",\"formatter\":{\"id\":\"25831\"},\"major_label_orientation\":\"horizontal\",\"major_label_text_font_size\":\"15pt\",\"ticker\":{\"id\":\"25804\"}},\"id\":\"25803\",\"type\":\"LinearAxis\"},{\"attributes\":{},\"id\":\"25808\",\"type\":\"PanTool\"},{\"attributes\":{\"axis\":{\"id\":\"25799\"},\"grid_line_color\":\"lightgray\",\"grid_line_width\":1.5,\"minor_grid_line_color\":\"lightgray\",\"ticker\":{\"id\":\"25800\"}},\"id\":\"25802\",\"type\":\"Grid\"},{\"attributes\":{},\"id\":\"25809\",\"type\":\"WheelZoomTool\"},{\"attributes\":{},\"id\":\"25807\",\"type\":\"SaveTool\"},{\"attributes\":{},\"id\":\"25795\",\"type\":\"LinearScale\"},{\"attributes\":{},\"id\":\"25804\",\"type\":\"BasicTicker\"},{\"attributes\":{\"source\":{\"id\":\"25820\"}},\"id\":\"25827\",\"type\":\"CDSView\"},{\"attributes\":{\"fill_alpha\":{\"value\":0.2},\"fill_color\":{\"value\":\"#1f77b3\"},\"line_alpha\":{\"value\":0.2},\"line_color\":{\"value\":\"#1f77b3\"},\"size\":{\"units\":\"screen\",\"value\":10.0},\"x\":{\"field\":\"Oil & Gas\"},\"y\":{\"field\":\"Alternative Energy\"}},\"id\":\"25825\",\"type\":\"Scatter\"},{\"attributes\":{\"margin\":[5,5,5,5],\"name\":\"HSpacer52344\",\"sizing_mode\":\"stretch_width\"},\"id\":\"25786\",\"type\":\"Spacer\"},{\"attributes\":{\"children\":[{\"id\":\"25786\"},{\"id\":\"25790\"},{\"id\":\"25842\"}],\"margin\":[0,0,0,0],\"name\":\"Row52340\",\"tags\":[\"embedded\"]},\"id\":\"25785\",\"type\":\"Row\"},{\"attributes\":{\"end\":2.619618554530113,\"reset_end\":2.619618554530113,\"reset_start\":-0.9012464430486415,\"start\":-0.9012464430486415,\"tags\":[[[\"Alternative Energy\",\"Alternative Energy\",null]]]},\"id\":\"25788\",\"type\":\"Range1d\"},{\"attributes\":{},\"id\":\"25831\",\"type\":\"BasicTickFormatter\"},{\"attributes\":{\"below\":[{\"id\":\"25799\"}],\"center\":[{\"id\":\"25802\"},{\"id\":\"25806\"}],\"left\":[{\"id\":\"25803\"}],\"margin\":null,\"min_border_bottom\":10,\"min_border_left\":10,\"min_border_right\":10,\"min_border_top\":10,\"plot_height\":400,\"plot_width\":1200,\"renderers\":[{\"id\":\"25826\"}],\"sizing_mode\":\"fixed\",\"title\":{\"id\":\"25791\"},\"toolbar\":{\"id\":\"25813\"},\"x_range\":{\"id\":\"25787\"},\"x_scale\":{\"id\":\"25795\"},\"y_range\":{\"id\":\"25788\"},\"y_scale\":{\"id\":\"25797\"}},\"id\":\"25790\",\"subtype\":\"Figure\",\"type\":\"Plot\"},{\"attributes\":{\"text\":\"Correlation between Oil Portfolio and Alternative Energy Portfolio Returns\",\"text_color\":{\"value\":\"black\"},\"text_font_size\":{\"value\":\"20pt\"}},\"id\":\"25791\",\"type\":\"Title\"},{\"attributes\":{\"overlay\":{\"id\":\"25812\"}},\"id\":\"25810\",\"type\":\"BoxZoomTool\"},{\"attributes\":{\"callback\":null,\"renderers\":[{\"id\":\"25826\"}],\"tags\":[\"hv_created\"],\"tooltips\":[[\"Oil & Gas\",\"@{Oil_ampersand_Gas}\"],[\"Alternative Energy\",\"@{Alternative_Energy}\"]]},\"id\":\"25789\",\"type\":\"HoverTool\"},{\"attributes\":{},\"id\":\"25811\",\"type\":\"ResetTool\"},{\"attributes\":{\"axis_label\":\"Oil & Gas\",\"axis_label_text_font_size\":\"20pt\",\"bounds\":\"auto\",\"formatter\":{\"id\":\"25829\"},\"major_label_orientation\":\"horizontal\",\"major_label_text_font_size\":\"15pt\",\"ticker\":{\"id\":\"25800\"}},\"id\":\"25799\",\"type\":\"LinearAxis\"},{\"attributes\":{\"axis\":{\"id\":\"25803\"},\"dimension\":1,\"grid_line_color\":\"lightgray\",\"grid_line_width\":1.5,\"ticker\":{\"id\":\"25804\"}},\"id\":\"25806\",\"type\":\"Grid\"},{\"attributes\":{},\"id\":\"25829\",\"type\":\"BasicTickFormatter\"},{\"attributes\":{},\"id\":\"25797\",\"type\":\"LinearScale\"},{\"attributes\":{},\"id\":\"25839\",\"type\":\"UnionRenderers\"},{\"attributes\":{\"bottom_units\":\"screen\",\"fill_alpha\":0.5,\"fill_color\":\"lightgrey\",\"left_units\":\"screen\",\"level\":\"overlay\",\"line_alpha\":1.0,\"line_color\":\"black\",\"line_dash\":[4,4],\"line_width\":2,\"render_mode\":\"css\",\"right_units\":\"screen\",\"top_units\":\"screen\"},\"id\":\"25812\",\"type\":\"BoxAnnotation\"},{\"attributes\":{\"active_drag\":\"auto\",\"active_inspect\":\"auto\",\"active_multi\":null,\"active_scroll\":\"auto\",\"active_tap\":\"auto\",\"tools\":[{\"id\":\"25789\"},{\"id\":\"25807\"},{\"id\":\"25808\"},{\"id\":\"25809\"},{\"id\":\"25810\"},{\"id\":\"25811\"}]},\"id\":\"25813\",\"type\":\"Toolbar\"},{\"attributes\":{\"end\":0.3253567013945191,\"reset_end\":0.3253567013945191,\"reset_start\":-0.39095596093585117,\"start\":-0.39095596093585117,\"tags\":[[[\"Oil & Gas\",\"Oil & Gas\",null]]]},\"id\":\"25787\",\"type\":\"Range1d\"}],\"root_ids\":[\"25785\"]},\"title\":\"Bokeh Application\",\"version\":\"2.0.2\"}};\n",
       "  var render_items = [{\"docid\":\"20b33a56-99d8-44c2-9957-6fbd2f49a683\",\"root_ids\":[\"25785\"],\"roots\":{\"25785\":\"889a2a83-13c6-4e0f-ace0-6dcf7846ad0b\"}}];\n",
       "  root.Bokeh.embed.embed_items_notebook(docs_json, render_items);\n",
       "  }\n",
       "if (root.Bokeh !== undefined) {\n",
       "    embed_document(root);\n",
       "  } else {\n",
       "    var attempts = 0;\n",
       "    var timer = setInterval(function(root) {\n",
       "      if (root.Bokeh !== undefined) {\n",
       "        clearInterval(timer);\n",
       "        embed_document(root);\n",
       "      } else if (document.readyState == \"complete\") {\n",
       "        attempts++;\n",
       "        if (attempts > 100) {\n",
       "          clearInterval(timer);\n",
       "          console.log(\"Bokeh: ERROR: Unable to run BokehJS code because BokehJS library is missing\");\n",
       "        }\n",
       "      }\n",
       "    }, 10, root)\n",
       "  }\n",
       "})(window);</script>"
      ],
      "text/plain": [
       ":Scatter   [Oil & Gas]   (Alternative Energy)"
      ]
     },
     "execution_count": 149,
     "metadata": {
      "application/vnd.holoviews_exec.v0+json": {
       "id": "25785"
      }
     },
     "output_type": "execute_result"
    }
   ],
   "source": [
    "def oil_and_alt_correlation():\n",
    "    oil_and_alt_correlation = combined_pct_change().hvplot.scatter(\n",
    "                                                                title = 'Correlation between Oil Portfolio and Alternative Energy Portfolio Returns', \n",
    "                                                                x = 'Oil & Gas', \n",
    "                                                                y = 'Alternative Energy',\n",
    "                                                                s = 100,\n",
    "                                                                width = 1200,\n",
    "                                                                height = 400,\n",
    "                                                                grid = True\n",
    "    )\n",
    "    grid_style = {\n",
    "            'grid_line_color': 'lightgray', \n",
    "            'grid_line_width': 1.5,\n",
    "            'minor_xgrid_line_color':'lightgray'}\n",
    "    \n",
    "    oil_and_alt_correlation.opts(\n",
    "                                fontsize={\n",
    "                                    'title': 20, \n",
    "                                    'labels': 20, \n",
    "                                    'xticks': 15, \n",
    "                                    'yticks': 15,\n",
    "        },\n",
    "                                    gridstyle = grid_style\n",
    "    \n",
    "    )\n",
    "    \n",
    "    return oil_and_alt_correlation\n",
    "oil_and_alt_correlation()"
   ]
  },
  {
   "cell_type": "code",
   "execution_count": 150,
   "metadata": {},
   "outputs": [
    {
     "name": "stdout",
     "output_type": "stream",
     "text": [
      "[*********************100%***********************]  4 of 4 completed\n",
      "[*********************100%***********************]  4 of 4 completed\n"
     ]
    },
    {
     "data": {
      "text/html": [
       "<div>\n",
       "<style scoped>\n",
       "    .dataframe tbody tr th:only-of-type {\n",
       "        vertical-align: middle;\n",
       "    }\n",
       "\n",
       "    .dataframe tbody tr th {\n",
       "        vertical-align: top;\n",
       "    }\n",
       "\n",
       "    .dataframe thead th {\n",
       "        text-align: right;\n",
       "    }\n",
       "</style>\n",
       "<table border=\"1\" class=\"dataframe\">\n",
       "  <thead>\n",
       "    <tr style=\"text-align: right;\">\n",
       "      <th></th>\n",
       "      <th>Alternative Energy</th>\n",
       "      <th>Oil &amp; Gas</th>\n",
       "    </tr>\n",
       "  </thead>\n",
       "  <tbody>\n",
       "    <tr>\n",
       "      <th>Alternative Energy</th>\n",
       "      <td>1.000000</td>\n",
       "      <td>-0.042037</td>\n",
       "    </tr>\n",
       "    <tr>\n",
       "      <th>Oil &amp; Gas</th>\n",
       "      <td>-0.042037</td>\n",
       "      <td>1.000000</td>\n",
       "    </tr>\n",
       "  </tbody>\n",
       "</table>\n",
       "</div>"
      ],
      "text/plain": [
       "                    Alternative Energy  Oil & Gas\n",
       "Alternative Energy            1.000000  -0.042037\n",
       "Oil & Gas                    -0.042037   1.000000"
      ]
     },
     "execution_count": 150,
     "metadata": {},
     "output_type": "execute_result"
    }
   ],
   "source": [
    "combined_pct_change().corr()"
   ]
  },
  {
   "cell_type": "markdown",
   "metadata": {},
   "source": [
    "# This looks like a positive correlation. However, the results say that there is a negative correlation.\n",
    "THis is due to the fact that the returns of alternative energy have recently shot up in the opposite direction of the oil industry."
   ]
  },
  {
   "cell_type": "code",
   "execution_count": 151,
   "metadata": {},
   "outputs": [
    {
     "name": "stdout",
     "output_type": "stream",
     "text": [
      "[*********************100%***********************]  4 of 4 completed\n",
      "[*********************100%***********************]  4 of 4 completed\n"
     ]
    },
    {
     "data": {},
     "metadata": {},
     "output_type": "display_data"
    },
    {
     "data": {
      "application/vnd.holoviews_exec.v0+json": "",
      "text/html": [
       "<div id='25884'>\n",
       "\n",
       "\n",
       "\n",
       "\n",
       "\n",
       "  <div class=\"bk-root\" id=\"aedc8cac-19fa-486e-aeca-f56b327bcccb\" data-root-id=\"25884\"></div>\n",
       "</div>\n",
       "<script type=\"application/javascript\">(function(root) {\n",
       "  function embed_document(root) {\n",
       "  var docs_json = {\"36e320ae-0b91-423d-98b7-2299f4224fd9\":{\"roots\":{\"references\":[{\"attributes\":{},\"id\":\"25902\",\"type\":\"BasicTicker\"},{\"attributes\":{\"axis_label\":\"Standard Deviation\",\"axis_label_text_font_size\":\"20pt\",\"bounds\":\"auto\",\"formatter\":{\"id\":\"25929\"},\"major_label_orientation\":\"horizontal\",\"major_label_text_font_size\":\"15pt\",\"ticker\":{\"id\":\"25902\"}},\"id\":\"25901\",\"type\":\"LinearAxis\"},{\"attributes\":{\"axis\":{\"id\":\"25901\"},\"dimension\":1,\"ticker\":{\"id\":\"25902\"}},\"id\":\"25904\",\"type\":\"Grid\"},{\"attributes\":{},\"id\":\"25896\",\"type\":\"LinearScale\"},{\"attributes\":{},\"id\":\"25906\",\"type\":\"PanTool\"},{\"attributes\":{\"children\":[{\"id\":\"25885\"},{\"id\":\"25889\"},{\"id\":\"25940\"}],\"margin\":[0,0,0,0],\"name\":\"Row52563\",\"tags\":[\"embedded\"]},\"id\":\"25884\",\"type\":\"Row\"},{\"attributes\":{\"axis\":{\"id\":\"25898\"},\"ticker\":{\"id\":\"25899\"}},\"id\":\"25900\",\"type\":\"Grid\"},{\"attributes\":{\"fill_color\":{\"value\":\"#1f77b3\"},\"top\":{\"field\":\"Standard_Deviation\"},\"width\":{\"value\":0.8},\"x\":{\"field\":\"index\"}},\"id\":\"25921\",\"type\":\"VBar\"},{\"attributes\":{},\"id\":\"25905\",\"type\":\"SaveTool\"},{\"attributes\":{},\"id\":\"25907\",\"type\":\"WheelZoomTool\"},{\"attributes\":{\"active_drag\":\"auto\",\"active_inspect\":\"auto\",\"active_multi\":null,\"active_scroll\":\"auto\",\"active_tap\":\"auto\",\"tools\":[{\"id\":\"25888\"},{\"id\":\"25905\"},{\"id\":\"25906\"},{\"id\":\"25907\"},{\"id\":\"25908\"},{\"id\":\"25909\"}]},\"id\":\"25911\",\"type\":\"Toolbar\"},{\"attributes\":{},\"id\":\"25899\",\"type\":\"CategoricalTicker\"},{\"attributes\":{\"overlay\":{\"id\":\"25910\"}},\"id\":\"25908\",\"type\":\"BoxZoomTool\"},{\"attributes\":{},\"id\":\"25909\",\"type\":\"ResetTool\"},{\"attributes\":{\"factors\":[\"Oil & Gas\",\"Alternative Energy\"],\"tags\":[[[\"index\",\"index\",null]]]},\"id\":\"25886\",\"type\":\"FactorRange\"},{\"attributes\":{\"fill_alpha\":{\"value\":0.1},\"fill_color\":{\"value\":\"#1f77b3\"},\"line_alpha\":{\"value\":0.1},\"top\":{\"field\":\"Standard_Deviation\"},\"width\":{\"value\":0.8},\"x\":{\"field\":\"index\"}},\"id\":\"25922\",\"type\":\"VBar\"},{\"attributes\":{},\"id\":\"25919\",\"type\":\"Selection\"},{\"attributes\":{\"callback\":null,\"renderers\":[{\"id\":\"25924\"}],\"tags\":[\"hv_created\"],\"tooltips\":[[\"index\",\"@{index}\"],[\"Standard Deviation\",\"@{Standard_Deviation}\"]]},\"id\":\"25888\",\"type\":\"HoverTool\"},{\"attributes\":{\"fill_alpha\":{\"value\":0.2},\"fill_color\":{\"value\":\"#1f77b3\"},\"line_alpha\":{\"value\":0.2},\"top\":{\"field\":\"Standard_Deviation\"},\"width\":{\"value\":0.8},\"x\":{\"field\":\"index\"}},\"id\":\"25923\",\"type\":\"VBar\"},{\"attributes\":{},\"id\":\"25894\",\"type\":\"CategoricalScale\"},{\"attributes\":{\"below\":[{\"id\":\"25898\"}],\"center\":[{\"id\":\"25900\"},{\"id\":\"25904\"}],\"left\":[{\"id\":\"25901\"}],\"margin\":null,\"min_border_bottom\":10,\"min_border_left\":10,\"min_border_right\":10,\"min_border_top\":10,\"plot_height\":400,\"plot_width\":1200,\"renderers\":[{\"id\":\"25924\"}],\"sizing_mode\":\"fixed\",\"title\":{\"id\":\"25890\"},\"toolbar\":{\"id\":\"25911\"},\"x_range\":{\"id\":\"25886\"},\"x_scale\":{\"id\":\"25894\"},\"y_range\":{\"id\":\"25887\"},\"y_scale\":{\"id\":\"25896\"}},\"id\":\"25889\",\"subtype\":\"Figure\",\"type\":\"Plot\"},{\"attributes\":{\"data\":{\"Standard_Deviation\":{\"__ndarray__\":\"wcpIHAT2xj/IbUbDz/HkPw==\",\"dtype\":\"float64\",\"shape\":[2]},\"index\":[\"Oil & Gas\",\"Alternative Energy\"]},\"selected\":{\"id\":\"25919\"},\"selection_policy\":{\"id\":\"25937\"}},\"id\":\"25918\",\"type\":\"ColumnDataSource\"},{\"attributes\":{\"data_source\":{\"id\":\"25918\"},\"glyph\":{\"id\":\"25921\"},\"hover_glyph\":null,\"muted_glyph\":{\"id\":\"25923\"},\"nonselection_glyph\":{\"id\":\"25922\"},\"selection_glyph\":null,\"view\":{\"id\":\"25925\"}},\"id\":\"25924\",\"type\":\"GlyphRenderer\"},{\"attributes\":{\"source\":{\"id\":\"25918\"}},\"id\":\"25925\",\"type\":\"CDSView\"},{\"attributes\":{\"text\":\"Standard Deviation of Returns of Both the Oil and Alternative Portfolios\",\"text_color\":{\"value\":\"black\"},\"text_font_size\":{\"value\":\"20pt\"}},\"id\":\"25890\",\"type\":\"Title\"},{\"attributes\":{\"end\":0.7020315343430551,\"reset_end\":0.7020315343430551,\"reset_start\":0.0,\"tags\":[[[\"Standard Deviation\",\"Standard Deviation\",null]]]},\"id\":\"25887\",\"type\":\"Range1d\"},{\"attributes\":{},\"id\":\"25927\",\"type\":\"CategoricalTickFormatter\"},{\"attributes\":{},\"id\":\"25929\",\"type\":\"BasicTickFormatter\"},{\"attributes\":{\"axis_label\":\"\",\"axis_label_text_font_size\":\"20pt\",\"bounds\":\"auto\",\"formatter\":{\"id\":\"25927\"},\"group_text_font_size\":\"20pt\",\"major_label_orientation\":\"horizontal\",\"major_label_text_font_size\":\"20pt\",\"ticker\":{\"id\":\"25899\"}},\"id\":\"25898\",\"type\":\"CategoricalAxis\"},{\"attributes\":{\"bottom_units\":\"screen\",\"fill_alpha\":0.5,\"fill_color\":\"lightgrey\",\"left_units\":\"screen\",\"level\":\"overlay\",\"line_alpha\":1.0,\"line_color\":\"black\",\"line_dash\":[4,4],\"line_width\":2,\"render_mode\":\"css\",\"right_units\":\"screen\",\"top_units\":\"screen\"},\"id\":\"25910\",\"type\":\"BoxAnnotation\"},{\"attributes\":{\"margin\":[5,5,5,5],\"name\":\"HSpacer52567\",\"sizing_mode\":\"stretch_width\"},\"id\":\"25885\",\"type\":\"Spacer\"},{\"attributes\":{\"margin\":[5,5,5,5],\"name\":\"HSpacer52568\",\"sizing_mode\":\"stretch_width\"},\"id\":\"25940\",\"type\":\"Spacer\"},{\"attributes\":{},\"id\":\"25937\",\"type\":\"UnionRenderers\"}],\"root_ids\":[\"25884\"]},\"title\":\"Bokeh Application\",\"version\":\"2.0.2\"}};\n",
       "  var render_items = [{\"docid\":\"36e320ae-0b91-423d-98b7-2299f4224fd9\",\"root_ids\":[\"25884\"],\"roots\":{\"25884\":\"aedc8cac-19fa-486e-aeca-f56b327bcccb\"}}];\n",
       "  root.Bokeh.embed.embed_items_notebook(docs_json, render_items);\n",
       "  }\n",
       "if (root.Bokeh !== undefined) {\n",
       "    embed_document(root);\n",
       "  } else {\n",
       "    var attempts = 0;\n",
       "    var timer = setInterval(function(root) {\n",
       "      if (root.Bokeh !== undefined) {\n",
       "        clearInterval(timer);\n",
       "        embed_document(root);\n",
       "      } else if (document.readyState == \"complete\") {\n",
       "        attempts++;\n",
       "        if (attempts > 100) {\n",
       "          clearInterval(timer);\n",
       "          console.log(\"Bokeh: ERROR: Unable to run BokehJS code because BokehJS library is missing\");\n",
       "        }\n",
       "      }\n",
       "    }, 10, root)\n",
       "  }\n",
       "})(window);</script>"
      ],
      "text/plain": [
       ":Bars   [index]   (Standard Deviation)"
      ]
     },
     "execution_count": 151,
     "metadata": {
      "application/vnd.holoviews_exec.v0+json": {
       "id": "25884"
      }
     },
     "output_type": "execute_result"
    }
   ],
   "source": [
    "def oil_and_alt_std():\n",
    "    stdev = pd.DataFrame(combined_pct_change().std().sort_values())\n",
    "    stdev.columns = ['Standard Deviation']\n",
    "    stdev = stdev.hvplot.bar(\n",
    "                            title = 'Standard Deviation of Returns of Both the Oil and Alternative Portfolios',\n",
    "                            width = 1200,\n",
    "                            height = 400,\n",
    "                            grid = True\n",
    "    )\n",
    "    grid_style = {\n",
    "            'grid_line_color': 'lightgray', \n",
    "            'grid_line_width': 1.5,\n",
    "            'minor_xgrid_line_color':'lightgray'}\n",
    "    \n",
    "    stdev.opts(\n",
    "            fontsize={\n",
    "            'title': 20, \n",
    "            'labels': 20, \n",
    "            'xticks': 20, \n",
    "            'yticks': 15,\n",
    "        }\n",
    "    )\n",
    "    return stdev\n",
    "oil_and_alt_std()"
   ]
  },
  {
   "cell_type": "code",
   "execution_count": 152,
   "metadata": {},
   "outputs": [
    {
     "data": {},
     "metadata": {},
     "output_type": "display_data"
    },
    {
     "data": {
      "application/vnd.holoviews_exec.v0+json": "",
      "text/html": [
       "<div id='25982'>\n",
       "\n",
       "\n",
       "\n",
       "\n",
       "\n",
       "  <div class=\"bk-root\" id=\"b3f00acb-ed4d-42d6-9058-844452021850\" data-root-id=\"25982\"></div>\n",
       "</div>\n",
       "<script type=\"application/javascript\">(function(root) {\n",
       "  function embed_document(root) {\n",
       "  var docs_json = {\"e54da511-92c9-485e-becb-7f656c52d592\":{\"roots\":{\"references\":[{\"attributes\":{\"data_source\":{\"id\":\"26017\"},\"glyph\":{\"id\":\"26020\"},\"hover_glyph\":null,\"muted_glyph\":{\"id\":\"26022\"},\"nonselection_glyph\":{\"id\":\"26021\"},\"selection_glyph\":null,\"view\":{\"id\":\"26024\"}},\"id\":\"26023\",\"type\":\"GlyphRenderer\"},{\"attributes\":{},\"id\":\"25994\",\"type\":\"LinearScale\"},{\"attributes\":{},\"id\":\"25997\",\"type\":\"BasicTicker\"},{\"attributes\":{\"axis\":{\"id\":\"25996\"},\"ticker\":{\"id\":\"25997\"}},\"id\":\"25999\",\"type\":\"Grid\"},{\"attributes\":{\"axis_label\":\"\",\"axis_label_text_font_size\":\"20pt\",\"bounds\":\"auto\",\"formatter\":{\"id\":\"26028\"},\"major_label_orientation\":\"horizontal\",\"major_label_text_font_size\":\"15pt\",\"ticker\":{\"id\":\"26001\"}},\"id\":\"26000\",\"type\":\"LinearAxis\"},{\"attributes\":{\"axis_label\":\"Year\",\"axis_label_text_font_size\":\"20pt\",\"bounds\":\"auto\",\"formatter\":{\"id\":\"26026\"},\"major_label_orientation\":\"horizontal\",\"major_label_text_font_size\":\"20pt\",\"ticker\":{\"id\":\"25997\"}},\"id\":\"25996\",\"type\":\"LinearAxis\"},{\"attributes\":{},\"id\":\"26001\",\"type\":\"BasicTicker\"},{\"attributes\":{\"children\":[{\"id\":\"25983\"},{\"id\":\"25987\"},{\"id\":\"26039\"}],\"margin\":[0,0,0,0],\"name\":\"Row52756\",\"tags\":[\"embedded\"]},\"id\":\"25982\",\"type\":\"Row\"},{\"attributes\":{\"axis\":{\"id\":\"26000\"},\"dimension\":1,\"ticker\":{\"id\":\"26001\"}},\"id\":\"26003\",\"type\":\"Grid\"},{\"attributes\":{\"source\":{\"id\":\"26017\"}},\"id\":\"26024\",\"type\":\"CDSView\"},{\"attributes\":{},\"id\":\"26026\",\"type\":\"BasicTickFormatter\"},{\"attributes\":{},\"id\":\"26005\",\"type\":\"PanTool\"},{\"attributes\":{},\"id\":\"26018\",\"type\":\"Selection\"},{\"attributes\":{},\"id\":\"26004\",\"type\":\"SaveTool\"},{\"attributes\":{},\"id\":\"26006\",\"type\":\"WheelZoomTool\"},{\"attributes\":{\"margin\":[5,5,5,5],\"name\":\"HSpacer52760\",\"sizing_mode\":\"stretch_width\"},\"id\":\"25983\",\"type\":\"Spacer\"},{\"attributes\":{\"active_drag\":\"auto\",\"active_inspect\":\"auto\",\"active_multi\":null,\"active_scroll\":\"auto\",\"active_tap\":\"auto\",\"tools\":[{\"id\":\"25986\"},{\"id\":\"26004\"},{\"id\":\"26005\"},{\"id\":\"26006\"},{\"id\":\"26007\"},{\"id\":\"26008\"}]},\"id\":\"26010\",\"type\":\"Toolbar\"},{\"attributes\":{\"overlay\":{\"id\":\"26009\"}},\"id\":\"26007\",\"type\":\"BoxZoomTool\"},{\"attributes\":{\"data\":{\"Production (Alternative)\":{\"__ndarray__\":\"vHSTGARWIEBkO99PjdcgQEa28/3UOCJATDeJQWBlI0B7FK5H4fojQFK4HoXrUSRACKwcWmT7JECNl24Sg8AkQEoMAiuHFiZABoGVQ4usJ0B9PzVeukkoQHsUrkfh+ihAmpmZmZmZKECWQ4ts5/soQOkmMQisXClAarx0kxhEK0AYBFYOLTIsQO58PzVeOitArBxaZDsfK0CNl24Sg0AsQCGwcmiR7StAbhKDwMphKkCNl24Sg8ArQOj7qfHSzStAUrgeheuRLEDdJAaBlcMsQCYxCKwcmi1A5KWbxCDwLUAj2/l+ajwvQPYoXI/C9S9Ac2iR7Xy/MEDEILByaJExQKabxCCw8jBAtvP91HipMUC0yHa+nxoyQDeJQWDlEDJAmpmZmZnZMkA9CtejcJ0zQBgEVg4t8jNA\",\"dtype\":\"float64\",\"shape\":[39]},\"Production_left_parenthesis_Alternative_right_parenthesis\":{\"__ndarray__\":\"vHSTGARWIEBkO99PjdcgQEa28/3UOCJATDeJQWBlI0B7FK5H4fojQFK4HoXrUSRACKwcWmT7JECNl24Sg8AkQEoMAiuHFiZABoGVQ4usJ0B9PzVeukkoQHsUrkfh+ihAmpmZmZmZKECWQ4ts5/soQOkmMQisXClAarx0kxhEK0AYBFYOLTIsQO58PzVeOitArBxaZDsfK0CNl24Sg0AsQCGwcmiR7StAbhKDwMphKkCNl24Sg8ArQOj7qfHSzStAUrgeheuRLEDdJAaBlcMsQCYxCKwcmi1A5KWbxCDwLUAj2/l+ajwvQPYoXI/C9S9Ac2iR7Xy/MEDEILByaJExQKabxCCw8jBAtvP91HipMUC0yHa+nxoyQDeJQWDlEDJAmpmZmZnZMkA9CtejcJ0zQBgEVg4t8jNA\",\"dtype\":\"float64\",\"shape\":[39]},\"Year\":[1980,1981,1982,1983,1984,1985,1986,1987,1988,1989,1990,1991,1992,1993,1994,1995,1996,1997,1998,1999,2000,2001,2002,2003,2004,2005,2006,2007,2008,2009,2010,2011,2012,2013,2014,2015,2016,2017,2018]},\"selected\":{\"id\":\"26018\"},\"selection_policy\":{\"id\":\"26036\"}},\"id\":\"26017\",\"type\":\"ColumnDataSource\"},{\"attributes\":{},\"id\":\"26008\",\"type\":\"ResetTool\"},{\"attributes\":{\"line_color\":\"#1f77b3\",\"line_width\":2,\"x\":{\"field\":\"Year\"},\"y\":{\"field\":\"Production (Alternative)\"}},\"id\":\"26020\",\"type\":\"Line\"},{\"attributes\":{\"line_alpha\":0.1,\"line_color\":\"#1f77b3\",\"line_width\":2,\"x\":{\"field\":\"Year\"},\"y\":{\"field\":\"Production (Alternative)\"}},\"id\":\"26021\",\"type\":\"Line\"},{\"attributes\":{},\"id\":\"26036\",\"type\":\"UnionRenderers\"},{\"attributes\":{\"line_alpha\":0.2,\"line_color\":\"#1f77b3\",\"line_width\":2,\"x\":{\"field\":\"Year\"},\"y\":{\"field\":\"Production (Alternative)\"}},\"id\":\"26022\",\"type\":\"Line\"},{\"attributes\":{\"callback\":null,\"renderers\":[{\"id\":\"26023\"}],\"tags\":[\"hv_created\"],\"tooltips\":[[\"Year\",\"@{Year}\"],[\"Production (Alternative)\",\"@{Production_left_parenthesis_Alternative_right_parenthesis}\"]]},\"id\":\"25986\",\"type\":\"HoverTool\"},{\"attributes\":{},\"id\":\"26028\",\"type\":\"BasicTickFormatter\"},{\"attributes\":{},\"id\":\"25992\",\"type\":\"LinearScale\"},{\"attributes\":{\"text\":\"Annual Energy Production from Alternative Energy\",\"text_color\":{\"value\":\"black\"},\"text_font_size\":{\"value\":\"20pt\"}},\"id\":\"25988\",\"type\":\"Title\"},{\"attributes\":{\"below\":[{\"id\":\"25996\"}],\"center\":[{\"id\":\"25999\"},{\"id\":\"26003\"}],\"left\":[{\"id\":\"26000\"}],\"margin\":null,\"min_border_bottom\":10,\"min_border_left\":10,\"min_border_right\":10,\"min_border_top\":10,\"plot_height\":400,\"plot_width\":1200,\"renderers\":[{\"id\":\"26023\"}],\"sizing_mode\":\"fixed\",\"title\":{\"id\":\"25988\"},\"toolbar\":{\"id\":\"26010\"},\"x_range\":{\"id\":\"25984\"},\"x_scale\":{\"id\":\"25992\"},\"y_range\":{\"id\":\"25985\"},\"y_scale\":{\"id\":\"25994\"}},\"id\":\"25987\",\"subtype\":\"Figure\",\"type\":\"Plot\"},{\"attributes\":{\"end\":2018.0,\"reset_end\":2018.0,\"reset_start\":1980.0,\"start\":1980.0,\"tags\":[[[\"Year\",\"Year\",null]]]},\"id\":\"25984\",\"type\":\"Range1d\"},{\"attributes\":{\"bottom_units\":\"screen\",\"fill_alpha\":0.5,\"fill_color\":\"lightgrey\",\"left_units\":\"screen\",\"level\":\"overlay\",\"line_alpha\":1.0,\"line_color\":\"black\",\"line_dash\":[4,4],\"line_width\":2,\"render_mode\":\"css\",\"right_units\":\"screen\",\"top_units\":\"screen\"},\"id\":\"26009\",\"type\":\"BoxAnnotation\"},{\"attributes\":{\"margin\":[5,5,5,5],\"name\":\"HSpacer52761\",\"sizing_mode\":\"stretch_width\"},\"id\":\"26039\",\"type\":\"Spacer\"},{\"attributes\":{\"end\":21.1238,\"reset_end\":21.1238,\"reset_start\":6.9902,\"start\":6.9902,\"tags\":[[[\"Production (Alternative)\",\"Production (Alternative)\",null]]]},\"id\":\"25985\",\"type\":\"Range1d\"}],\"root_ids\":[\"25982\"]},\"title\":\"Bokeh Application\",\"version\":\"2.0.2\"}};\n",
       "  var render_items = [{\"docid\":\"e54da511-92c9-485e-becb-7f656c52d592\",\"root_ids\":[\"25982\"],\"roots\":{\"25982\":\"b3f00acb-ed4d-42d6-9058-844452021850\"}}];\n",
       "  root.Bokeh.embed.embed_items_notebook(docs_json, render_items);\n",
       "  }\n",
       "if (root.Bokeh !== undefined) {\n",
       "    embed_document(root);\n",
       "  } else {\n",
       "    var attempts = 0;\n",
       "    var timer = setInterval(function(root) {\n",
       "      if (root.Bokeh !== undefined) {\n",
       "        clearInterval(timer);\n",
       "        embed_document(root);\n",
       "      } else if (document.readyState == \"complete\") {\n",
       "        attempts++;\n",
       "        if (attempts > 100) {\n",
       "          clearInterval(timer);\n",
       "          console.log(\"Bokeh: ERROR: Unable to run BokehJS code because BokehJS library is missing\");\n",
       "        }\n",
       "      }\n",
       "    }, 10, root)\n",
       "  }\n",
       "})(window);</script>"
      ],
      "text/plain": [
       ":Curve   [Year]   (Production (Alternative))"
      ]
     },
     "execution_count": 152,
     "metadata": {
      "application/vnd.holoviews_exec.v0+json": {
       "id": "25982"
      }
     },
     "output_type": "execute_result"
    }
   ],
   "source": [
    "def alt_production():\n",
    "    plot = combined_production[\"Production (Alternative)\"].hvplot.line(\n",
    "        title=\"Annual Energy Production from Alternative Energy\",\n",
    "        width=1200,height=400,grid=True)\n",
    "    \n",
    "    plot.opts(\n",
    "            fontsize={\n",
    "                'title': 20, \n",
    "                'labels': 20, \n",
    "                'xticks': 20, \n",
    "                'yticks': 15,\n",
    "        }\n",
    "    )\n",
    "    \n",
    "    return plot\n",
    "alt_production()"
   ]
  },
  {
   "cell_type": "code",
   "execution_count": 153,
   "metadata": {},
   "outputs": [
    {
     "data": {},
     "metadata": {},
     "output_type": "display_data"
    },
    {
     "data": {
      "application/vnd.holoviews_exec.v0+json": "",
      "text/html": [
       "<div id='26081'>\n",
       "\n",
       "\n",
       "\n",
       "\n",
       "\n",
       "  <div class=\"bk-root\" id=\"69d5a814-18b9-4b06-b505-caf65c9edd9f\" data-root-id=\"26081\"></div>\n",
       "</div>\n",
       "<script type=\"application/javascript\">(function(root) {\n",
       "  function embed_document(root) {\n",
       "  var docs_json = {\"cdf4af67-152e-4d2e-b077-c40d35dd8508\":{\"roots\":{\"references\":[{\"attributes\":{\"data_source\":{\"id\":\"26116\"},\"glyph\":{\"id\":\"26119\"},\"hover_glyph\":null,\"muted_glyph\":{\"id\":\"26121\"},\"nonselection_glyph\":{\"id\":\"26120\"},\"selection_glyph\":null,\"view\":{\"id\":\"26123\"}},\"id\":\"26122\",\"type\":\"GlyphRenderer\"},{\"attributes\":{\"data\":{\"Production (Oil)\":{\"__ndarray__\":\"001iEFh5NEC28/3UeGk0QGiR7Xw/dTRAu0kMAiuHNEChRbbz/RQ1QBgEVg4tMjVAd76fGi99NEC0yHa+n9ozQMP1KFyPgjNAPQrXo3A9MkAv3SQGgbUxQJ3vp8ZL9zFA7FG4HoWLMUAj2/l+atwwQMHKoUW2czBAKVyPwvVIMECHFtnO9zMwQO18PzVeGjBAEVg5tMg2L0ANAiuHFtktQFK4HoXr0S1AJQaBlUOLLUBt5/up8VItQE+Nl24SgyxA0SLb+X7qK0A2XrpJDIIqQOF6FK5HISpArkfhehQuKkAYBFYOLfIpQBgEVg4tsitA4XoUrkehLEAtsp3vp8YtQBsv3SQGATFAN4lBYOVQM0DpJjEIrJw2QOSlm8QgMDhAwMqhRbYzN0DkpZvEIJA4QBxaZDvfjzxA\",\"dtype\":\"float64\",\"shape\":[39]},\"Production_left_parenthesis_Oil_right_parenthesis\":{\"__ndarray__\":\"001iEFh5NEC28/3UeGk0QGiR7Xw/dTRAu0kMAiuHNEChRbbz/RQ1QBgEVg4tMjVAd76fGi99NEC0yHa+n9ozQMP1KFyPgjNAPQrXo3A9MkAv3SQGgbUxQJ3vp8ZL9zFA7FG4HoWLMUAj2/l+atwwQMHKoUW2czBAKVyPwvVIMECHFtnO9zMwQO18PzVeGjBAEVg5tMg2L0ANAiuHFtktQFK4HoXr0S1AJQaBlUOLLUBt5/up8VItQE+Nl24SgyxA0SLb+X7qK0A2XrpJDIIqQOF6FK5HISpArkfhehQuKkAYBFYOLfIpQBgEVg4tsitA4XoUrkehLEAtsp3vp8YtQBsv3SQGATFAN4lBYOVQM0DpJjEIrJw2QOSlm8QgMDhAwMqhRbYzN0DkpZvEIJA4QBxaZDvfjzxA\",\"dtype\":\"float64\",\"shape\":[39]},\"Year\":[1980,1981,1982,1983,1984,1985,1986,1987,1988,1989,1990,1991,1992,1993,1994,1995,1996,1997,1998,1999,2000,2001,2002,2003,2004,2005,2006,2007,2008,2009,2010,2011,2012,2013,2014,2015,2016,2017,2018]},\"selected\":{\"id\":\"26117\"},\"selection_policy\":{\"id\":\"26135\"}},\"id\":\"26116\",\"type\":\"ColumnDataSource\"},{\"attributes\":{\"line_color\":\"#1f77b3\",\"line_width\":2,\"x\":{\"field\":\"Year\"},\"y\":{\"field\":\"Production (Oil)\"}},\"id\":\"26119\",\"type\":\"Line\"},{\"attributes\":{\"line_alpha\":0.1,\"line_color\":\"#1f77b3\",\"line_width\":2,\"x\":{\"field\":\"Year\"},\"y\":{\"field\":\"Production (Oil)\"}},\"id\":\"26120\",\"type\":\"Line\"},{\"attributes\":{},\"id\":\"26125\",\"type\":\"BasicTickFormatter\"},{\"attributes\":{\"overlay\":{\"id\":\"26108\"}},\"id\":\"26106\",\"type\":\"BoxZoomTool\"},{\"attributes\":{\"line_alpha\":0.2,\"line_color\":\"#1f77b3\",\"line_width\":2,\"x\":{\"field\":\"Year\"},\"y\":{\"field\":\"Production (Oil)\"}},\"id\":\"26121\",\"type\":\"Line\"},{\"attributes\":{\"source\":{\"id\":\"26116\"}},\"id\":\"26123\",\"type\":\"CDSView\"},{\"attributes\":{\"callback\":null,\"renderers\":[{\"id\":\"26122\"}],\"tags\":[\"hv_created\"],\"tooltips\":[[\"Year\",\"@{Year}\"],[\"Production (Oil)\",\"@{Production_left_parenthesis_Oil_right_parenthesis}\"]]},\"id\":\"26085\",\"type\":\"HoverTool\"},{\"attributes\":{\"margin\":[5,5,5,5],\"name\":\"HSpacer52982\",\"sizing_mode\":\"stretch_width\"},\"id\":\"26082\",\"type\":\"Spacer\"},{\"attributes\":{},\"id\":\"26135\",\"type\":\"UnionRenderers\"},{\"attributes\":{},\"id\":\"26127\",\"type\":\"BasicTickFormatter\"},{\"attributes\":{},\"id\":\"26117\",\"type\":\"Selection\"},{\"attributes\":{\"bottom_units\":\"screen\",\"fill_alpha\":0.5,\"fill_color\":\"lightgrey\",\"left_units\":\"screen\",\"level\":\"overlay\",\"line_alpha\":1.0,\"line_color\":\"black\",\"line_dash\":[4,4],\"line_width\":2,\"render_mode\":\"css\",\"right_units\":\"screen\",\"top_units\":\"screen\"},\"id\":\"26108\",\"type\":\"BoxAnnotation\"},{\"attributes\":{\"text\":\"Annual Energy Production from Oil\",\"text_color\":{\"value\":\"black\"},\"text_font_size\":{\"value\":\"20pt\"}},\"id\":\"26087\",\"type\":\"Title\"},{\"attributes\":{},\"id\":\"26104\",\"type\":\"PanTool\"},{\"attributes\":{\"end\":2018.0,\"reset_end\":2018.0,\"reset_start\":1980.0,\"start\":1980.0,\"tags\":[[[\"Year\",\"Year\",null]]]},\"id\":\"26083\",\"type\":\"Range1d\"},{\"attributes\":{},\"id\":\"26103\",\"type\":\"SaveTool\"},{\"attributes\":{\"end\":30.1209,\"reset_end\":30.1209,\"reset_start\":11.4141,\"start\":11.4141,\"tags\":[[[\"Production (Oil)\",\"Production (Oil)\",null]]]},\"id\":\"26084\",\"type\":\"Range1d\"},{\"attributes\":{},\"id\":\"26105\",\"type\":\"WheelZoomTool\"},{\"attributes\":{\"axis_label\":\"\",\"axis_label_text_font_size\":\"20pt\",\"bounds\":\"auto\",\"formatter\":{\"id\":\"26127\"},\"major_label_orientation\":\"horizontal\",\"major_label_text_font_size\":\"15pt\",\"ticker\":{\"id\":\"26100\"}},\"id\":\"26099\",\"type\":\"LinearAxis\"},{\"attributes\":{},\"id\":\"26091\",\"type\":\"LinearScale\"},{\"attributes\":{},\"id\":\"26093\",\"type\":\"LinearScale\"},{\"attributes\":{\"margin\":[5,5,5,5],\"name\":\"HSpacer52983\",\"sizing_mode\":\"stretch_width\"},\"id\":\"26138\",\"type\":\"Spacer\"},{\"attributes\":{\"axis_label\":\"Year\",\"axis_label_text_font_size\":\"20pt\",\"bounds\":\"auto\",\"formatter\":{\"id\":\"26125\"},\"major_label_orientation\":\"horizontal\",\"major_label_text_font_size\":\"20pt\",\"ticker\":{\"id\":\"26096\"}},\"id\":\"26095\",\"type\":\"LinearAxis\"},{\"attributes\":{\"children\":[{\"id\":\"26082\"},{\"id\":\"26086\"},{\"id\":\"26138\"}],\"margin\":[0,0,0,0],\"name\":\"Row52978\",\"tags\":[\"embedded\"]},\"id\":\"26081\",\"type\":\"Row\"},{\"attributes\":{\"below\":[{\"id\":\"26095\"}],\"center\":[{\"id\":\"26098\"},{\"id\":\"26102\"}],\"left\":[{\"id\":\"26099\"}],\"margin\":null,\"min_border_bottom\":10,\"min_border_left\":10,\"min_border_right\":10,\"min_border_top\":10,\"plot_height\":400,\"plot_width\":1200,\"renderers\":[{\"id\":\"26122\"}],\"sizing_mode\":\"fixed\",\"title\":{\"id\":\"26087\"},\"toolbar\":{\"id\":\"26109\"},\"x_range\":{\"id\":\"26083\"},\"x_scale\":{\"id\":\"26091\"},\"y_range\":{\"id\":\"26084\"},\"y_scale\":{\"id\":\"26093\"}},\"id\":\"26086\",\"subtype\":\"Figure\",\"type\":\"Plot\"},{\"attributes\":{\"axis\":{\"id\":\"26095\"},\"ticker\":{\"id\":\"26096\"}},\"id\":\"26098\",\"type\":\"Grid\"},{\"attributes\":{},\"id\":\"26096\",\"type\":\"BasicTicker\"},{\"attributes\":{\"active_drag\":\"auto\",\"active_inspect\":\"auto\",\"active_multi\":null,\"active_scroll\":\"auto\",\"active_tap\":\"auto\",\"tools\":[{\"id\":\"26085\"},{\"id\":\"26103\"},{\"id\":\"26104\"},{\"id\":\"26105\"},{\"id\":\"26106\"},{\"id\":\"26107\"}]},\"id\":\"26109\",\"type\":\"Toolbar\"},{\"attributes\":{},\"id\":\"26100\",\"type\":\"BasicTicker\"},{\"attributes\":{\"axis\":{\"id\":\"26099\"},\"dimension\":1,\"ticker\":{\"id\":\"26100\"}},\"id\":\"26102\",\"type\":\"Grid\"},{\"attributes\":{},\"id\":\"26107\",\"type\":\"ResetTool\"}],\"root_ids\":[\"26081\"]},\"title\":\"Bokeh Application\",\"version\":\"2.0.2\"}};\n",
       "  var render_items = [{\"docid\":\"cdf4af67-152e-4d2e-b077-c40d35dd8508\",\"root_ids\":[\"26081\"],\"roots\":{\"26081\":\"69d5a814-18b9-4b06-b505-caf65c9edd9f\"}}];\n",
       "  root.Bokeh.embed.embed_items_notebook(docs_json, render_items);\n",
       "  }\n",
       "if (root.Bokeh !== undefined) {\n",
       "    embed_document(root);\n",
       "  } else {\n",
       "    var attempts = 0;\n",
       "    var timer = setInterval(function(root) {\n",
       "      if (root.Bokeh !== undefined) {\n",
       "        clearInterval(timer);\n",
       "        embed_document(root);\n",
       "      } else if (document.readyState == \"complete\") {\n",
       "        attempts++;\n",
       "        if (attempts > 100) {\n",
       "          clearInterval(timer);\n",
       "          console.log(\"Bokeh: ERROR: Unable to run BokehJS code because BokehJS library is missing\");\n",
       "        }\n",
       "      }\n",
       "    }, 10, root)\n",
       "  }\n",
       "})(window);</script>"
      ],
      "text/plain": [
       ":Curve   [Year]   (Production (Oil))"
      ]
     },
     "execution_count": 153,
     "metadata": {
      "application/vnd.holoviews_exec.v0+json": {
       "id": "26081"
      }
     },
     "output_type": "execute_result"
    }
   ],
   "source": [
    "def oil_production():\n",
    "    plot = combined_production[\"Production (Oil)\"].hvplot.line(\n",
    "        title=\"Annual Energy Production from Oil\",width=1200,height=400,grid=True)\n",
    "    \n",
    "    plot.opts(\n",
    "            fontsize={\n",
    "                'title': 20, \n",
    "                    'labels': 20, \n",
    "                        'xticks': 20, \n",
    "                            'yticks': 15,\n",
    "        }\n",
    "    )\n",
    "    \n",
    "    return plot\n",
    "oil_production()"
   ]
  },
  {
   "cell_type": "code",
   "execution_count": 154,
   "metadata": {},
   "outputs": [
    {
     "data": {},
     "metadata": {},
     "output_type": "display_data"
    },
    {
     "data": {
      "application/vnd.holoviews_exec.v0+json": "",
      "text/html": [
       "<div id='26180'>\n",
       "\n",
       "\n",
       "\n",
       "\n",
       "\n",
       "  <div class=\"bk-root\" id=\"ad8c34a6-56d1-4660-a705-df7a9b0993ef\" data-root-id=\"26180\"></div>\n",
       "</div>\n",
       "<script type=\"application/javascript\">(function(root) {\n",
       "  function embed_document(root) {\n",
       "  var docs_json = {\"44b93540-6480-4a7c-a2fa-8f709f4ca137\":{\"roots\":{\"references\":[{\"attributes\":{},\"id\":\"26217\",\"type\":\"BasicTickFormatter\"},{\"attributes\":{},\"id\":\"26219\",\"type\":\"BasicTickFormatter\"},{\"attributes\":{\"data_source\":{\"id\":\"26222\"},\"glyph\":{\"id\":\"26225\"},\"hover_glyph\":null,\"muted_glyph\":{\"id\":\"26227\"},\"nonselection_glyph\":{\"id\":\"26226\"},\"selection_glyph\":null,\"view\":{\"id\":\"26229\"}},\"id\":\"26228\",\"type\":\"GlyphRenderer\"},{\"attributes\":{},\"id\":\"26196\",\"type\":\"BasicTicker\"},{\"attributes\":{},\"id\":\"26223\",\"type\":\"Selection\"},{\"attributes\":{\"end\":30.601399999999998,\"reset_end\":30.601399999999998,\"reset_start\":6.128599999999999,\"start\":6.128599999999999,\"tags\":[[[\"value\",\"value\",null]]]},\"id\":\"26183\",\"type\":\"Range1d\"},{\"attributes\":{\"callback\":null,\"renderers\":[{\"id\":\"26228\"},{\"id\":\"26244\"}],\"tags\":[\"hv_created\"],\"tooltips\":[[\"Variable\",\"@{Variable}\"],[\"Year\",\"@{Year}\"],[\"value\",\"@{value}\"]]},\"id\":\"26184\",\"type\":\"HoverTool\"},{\"attributes\":{\"end\":2018.0,\"reset_end\":2018.0,\"reset_start\":1980.0,\"start\":1980.0,\"tags\":[[[\"Year\",\"Year\",null]]]},\"id\":\"26182\",\"type\":\"Range1d\"},{\"attributes\":{\"line_alpha\":0.1,\"line_color\":\"#1f77b3\",\"line_width\":2,\"x\":{\"field\":\"Year\"},\"y\":{\"field\":\"value\"}},\"id\":\"26226\",\"type\":\"Line\"},{\"attributes\":{\"text\":\"Annual Energy Production 1980 to 2018\",\"text_color\":{\"value\":\"black\"},\"text_font_size\":{\"value\":\"20pt\"}},\"id\":\"26187\",\"type\":\"Title\"},{\"attributes\":{},\"id\":\"26262\",\"type\":\"UnionRenderers\"},{\"attributes\":{\"source\":{\"id\":\"26238\"}},\"id\":\"26245\",\"type\":\"CDSView\"},{\"attributes\":{\"bottom_units\":\"screen\",\"fill_alpha\":0.5,\"fill_color\":\"lightgrey\",\"left_units\":\"screen\",\"level\":\"overlay\",\"line_alpha\":1.0,\"line_color\":\"black\",\"line_dash\":[4,4],\"line_width\":2,\"render_mode\":\"css\",\"right_units\":\"screen\",\"top_units\":\"screen\"},\"id\":\"26208\",\"type\":\"BoxAnnotation\"},{\"attributes\":{},\"id\":\"26193\",\"type\":\"LinearScale\"},{\"attributes\":{\"data\":{\"Variable\":[\"Production (Alternative)\",\"Production (Alternative)\",\"Production (Alternative)\",\"Production (Alternative)\",\"Production (Alternative)\",\"Production (Alternative)\",\"Production (Alternative)\",\"Production (Alternative)\",\"Production (Alternative)\",\"Production (Alternative)\",\"Production (Alternative)\",\"Production (Alternative)\",\"Production (Alternative)\",\"Production (Alternative)\",\"Production (Alternative)\",\"Production (Alternative)\",\"Production (Alternative)\",\"Production (Alternative)\",\"Production (Alternative)\",\"Production (Alternative)\",\"Production (Alternative)\",\"Production (Alternative)\",\"Production (Alternative)\",\"Production (Alternative)\",\"Production (Alternative)\",\"Production (Alternative)\",\"Production (Alternative)\",\"Production (Alternative)\",\"Production (Alternative)\",\"Production (Alternative)\",\"Production (Alternative)\",\"Production (Alternative)\",\"Production (Alternative)\",\"Production (Alternative)\",\"Production (Alternative)\",\"Production (Alternative)\",\"Production (Alternative)\",\"Production (Alternative)\",\"Production (Alternative)\"],\"Year\":[1980,1981,1982,1983,1984,1985,1986,1987,1988,1989,1990,1991,1992,1993,1994,1995,1996,1997,1998,1999,2000,2001,2002,2003,2004,2005,2006,2007,2008,2009,2010,2011,2012,2013,2014,2015,2016,2017,2018],\"value\":{\"__ndarray__\":\"vHSTGARWIEBkO99PjdcgQEa28/3UOCJATDeJQWBlI0B7FK5H4fojQFK4HoXrUSRACKwcWmT7JECNl24Sg8AkQEoMAiuHFiZABoGVQ4usJ0B9PzVeukkoQHsUrkfh+ihAmpmZmZmZKECWQ4ts5/soQOkmMQisXClAarx0kxhEK0AYBFYOLTIsQO58PzVeOitArBxaZDsfK0CNl24Sg0AsQCGwcmiR7StAbhKDwMphKkCNl24Sg8ArQOj7qfHSzStAUrgeheuRLEDdJAaBlcMsQCYxCKwcmi1A5KWbxCDwLUAj2/l+ajwvQPYoXI/C9S9Ac2iR7Xy/MEDEILByaJExQKabxCCw8jBAtvP91HipMUC0yHa+nxoyQDeJQWDlEDJAmpmZmZnZMkA9CtejcJ0zQBgEVg4t8jNA\",\"dtype\":\"float64\",\"shape\":[39]}},\"selected\":{\"id\":\"26239\"},\"selection_policy\":{\"id\":\"26262\"}},\"id\":\"26238\",\"type\":\"ColumnDataSource\"},{\"attributes\":{\"line_color\":\"#ff7e0e\",\"line_width\":2,\"x\":{\"field\":\"Year\"},\"y\":{\"field\":\"value\"}},\"id\":\"26241\",\"type\":\"Line\"},{\"attributes\":{\"below\":[{\"id\":\"26195\"}],\"center\":[{\"id\":\"26198\"},{\"id\":\"26202\"}],\"left\":[{\"id\":\"26199\"}],\"margin\":null,\"min_border_bottom\":10,\"min_border_left\":10,\"min_border_right\":10,\"min_border_top\":10,\"plot_height\":400,\"plot_width\":1200,\"renderers\":[{\"id\":\"26228\"},{\"id\":\"26244\"}],\"right\":[{\"id\":\"26236\"}],\"sizing_mode\":\"fixed\",\"title\":{\"id\":\"26187\"},\"toolbar\":{\"id\":\"26209\"},\"x_range\":{\"id\":\"26182\"},\"x_scale\":{\"id\":\"26191\"},\"y_range\":{\"id\":\"26183\"},\"y_scale\":{\"id\":\"26193\"}},\"id\":\"26186\",\"subtype\":\"Figure\",\"type\":\"Plot\"},{\"attributes\":{\"line_color\":\"#1f77b3\",\"line_width\":2,\"x\":{\"field\":\"Year\"},\"y\":{\"field\":\"value\"}},\"id\":\"26225\",\"type\":\"Line\"},{\"attributes\":{\"data_source\":{\"id\":\"26238\"},\"glyph\":{\"id\":\"26241\"},\"hover_glyph\":null,\"muted_glyph\":{\"id\":\"26243\"},\"nonselection_glyph\":{\"id\":\"26242\"},\"selection_glyph\":null,\"view\":{\"id\":\"26245\"}},\"id\":\"26244\",\"type\":\"GlyphRenderer\"},{\"attributes\":{\"margin\":[5,5,5,5],\"name\":\"HSpacer53223\",\"sizing_mode\":\"stretch_width\"},\"id\":\"26181\",\"type\":\"Spacer\"},{\"attributes\":{\"source\":{\"id\":\"26222\"}},\"id\":\"26229\",\"type\":\"CDSView\"},{\"attributes\":{\"line_alpha\":0.1,\"line_color\":\"#ff7e0e\",\"line_width\":2,\"x\":{\"field\":\"Year\"},\"y\":{\"field\":\"value\"}},\"id\":\"26242\",\"type\":\"Line\"},{\"attributes\":{},\"id\":\"26239\",\"type\":\"Selection\"},{\"attributes\":{\"line_alpha\":0.2,\"line_color\":\"#1f77b3\",\"line_width\":2,\"x\":{\"field\":\"Year\"},\"y\":{\"field\":\"value\"}},\"id\":\"26227\",\"type\":\"Line\"},{\"attributes\":{},\"id\":\"26200\",\"type\":\"BasicTicker\"},{\"attributes\":{\"label\":{\"value\":\"Production (Oil)\"},\"renderers\":[{\"id\":\"26228\"}]},\"id\":\"26237\",\"type\":\"LegendItem\"},{\"attributes\":{\"margin\":[5,5,5,5],\"name\":\"HSpacer53224\",\"sizing_mode\":\"stretch_width\"},\"id\":\"26335\",\"type\":\"Spacer\"},{\"attributes\":{\"axis_label\":\"\",\"axis_label_text_font_size\":\"20pt\",\"bounds\":\"auto\",\"formatter\":{\"id\":\"26219\"},\"major_label_orientation\":\"horizontal\",\"major_label_text_font_size\":\"15pt\",\"ticker\":{\"id\":\"26200\"}},\"id\":\"26199\",\"type\":\"LinearAxis\"},{\"attributes\":{\"children\":[{\"id\":\"26181\"},{\"id\":\"26186\"},{\"id\":\"26335\"}],\"margin\":[0,0,0,0],\"name\":\"Row53219\",\"tags\":[\"embedded\"]},\"id\":\"26180\",\"type\":\"Row\"},{\"attributes\":{},\"id\":\"26205\",\"type\":\"WheelZoomTool\"},{\"attributes\":{\"line_alpha\":0.2,\"line_color\":\"#ff7e0e\",\"line_width\":2,\"x\":{\"field\":\"Year\"},\"y\":{\"field\":\"value\"}},\"id\":\"26243\",\"type\":\"Line\"},{\"attributes\":{\"click_policy\":\"mute\",\"items\":[{\"id\":\"26237\"},{\"id\":\"26254\"}],\"location\":[0,0],\"title\":\"Variable\"},\"id\":\"26236\",\"type\":\"Legend\"},{\"attributes\":{},\"id\":\"26191\",\"type\":\"LinearScale\"},{\"attributes\":{},\"id\":\"26204\",\"type\":\"PanTool\"},{\"attributes\":{\"axis\":{\"id\":\"26195\"},\"ticker\":{\"id\":\"26196\"}},\"id\":\"26198\",\"type\":\"Grid\"},{\"attributes\":{\"axis\":{\"id\":\"26199\"},\"dimension\":1,\"ticker\":{\"id\":\"26200\"}},\"id\":\"26202\",\"type\":\"Grid\"},{\"attributes\":{\"label\":{\"value\":\"Production (Alternative)\"},\"renderers\":[{\"id\":\"26244\"}]},\"id\":\"26254\",\"type\":\"LegendItem\"},{\"attributes\":{},\"id\":\"26203\",\"type\":\"SaveTool\"},{\"attributes\":{\"axis_label\":\"Year\",\"axis_label_text_font_size\":\"20pt\",\"bounds\":\"auto\",\"formatter\":{\"id\":\"26217\"},\"major_label_orientation\":\"horizontal\",\"major_label_text_font_size\":\"20pt\",\"ticker\":{\"id\":\"26196\"}},\"id\":\"26195\",\"type\":\"LinearAxis\"},{\"attributes\":{},\"id\":\"26251\",\"type\":\"UnionRenderers\"},{\"attributes\":{\"data\":{\"Variable\":[\"Production (Oil)\",\"Production (Oil)\",\"Production (Oil)\",\"Production (Oil)\",\"Production (Oil)\",\"Production (Oil)\",\"Production (Oil)\",\"Production (Oil)\",\"Production (Oil)\",\"Production (Oil)\",\"Production (Oil)\",\"Production (Oil)\",\"Production (Oil)\",\"Production (Oil)\",\"Production (Oil)\",\"Production (Oil)\",\"Production (Oil)\",\"Production (Oil)\",\"Production (Oil)\",\"Production (Oil)\",\"Production (Oil)\",\"Production (Oil)\",\"Production (Oil)\",\"Production (Oil)\",\"Production (Oil)\",\"Production (Oil)\",\"Production (Oil)\",\"Production (Oil)\",\"Production (Oil)\",\"Production (Oil)\",\"Production (Oil)\",\"Production (Oil)\",\"Production (Oil)\",\"Production (Oil)\",\"Production (Oil)\",\"Production (Oil)\",\"Production (Oil)\",\"Production (Oil)\",\"Production (Oil)\"],\"Year\":[1980,1981,1982,1983,1984,1985,1986,1987,1988,1989,1990,1991,1992,1993,1994,1995,1996,1997,1998,1999,2000,2001,2002,2003,2004,2005,2006,2007,2008,2009,2010,2011,2012,2013,2014,2015,2016,2017,2018],\"value\":{\"__ndarray__\":\"001iEFh5NEC28/3UeGk0QGiR7Xw/dTRAu0kMAiuHNEChRbbz/RQ1QBgEVg4tMjVAd76fGi99NEC0yHa+n9ozQMP1KFyPgjNAPQrXo3A9MkAv3SQGgbUxQJ3vp8ZL9zFA7FG4HoWLMUAj2/l+atwwQMHKoUW2czBAKVyPwvVIMECHFtnO9zMwQO18PzVeGjBAEVg5tMg2L0ANAiuHFtktQFK4HoXr0S1AJQaBlUOLLUBt5/up8VItQE+Nl24SgyxA0SLb+X7qK0A2XrpJDIIqQOF6FK5HISpArkfhehQuKkAYBFYOLfIpQBgEVg4tsitA4XoUrkehLEAtsp3vp8YtQBsv3SQGATFAN4lBYOVQM0DpJjEIrJw2QOSlm8QgMDhAwMqhRbYzN0DkpZvEIJA4QBxaZDvfjzxA\",\"dtype\":\"float64\",\"shape\":[39]}},\"selected\":{\"id\":\"26223\"},\"selection_policy\":{\"id\":\"26251\"}},\"id\":\"26222\",\"type\":\"ColumnDataSource\"},{\"attributes\":{},\"id\":\"26207\",\"type\":\"ResetTool\"},{\"attributes\":{\"active_drag\":\"auto\",\"active_inspect\":\"auto\",\"active_multi\":null,\"active_scroll\":\"auto\",\"active_tap\":\"auto\",\"tools\":[{\"id\":\"26184\"},{\"id\":\"26203\"},{\"id\":\"26204\"},{\"id\":\"26205\"},{\"id\":\"26206\"},{\"id\":\"26207\"}]},\"id\":\"26209\",\"type\":\"Toolbar\"},{\"attributes\":{\"overlay\":{\"id\":\"26208\"}},\"id\":\"26206\",\"type\":\"BoxZoomTool\"}],\"root_ids\":[\"26180\"]},\"title\":\"Bokeh Application\",\"version\":\"2.0.2\"}};\n",
       "  var render_items = [{\"docid\":\"44b93540-6480-4a7c-a2fa-8f709f4ca137\",\"root_ids\":[\"26180\"],\"roots\":{\"26180\":\"ad8c34a6-56d1-4660-a705-df7a9b0993ef\"}}];\n",
       "  root.Bokeh.embed.embed_items_notebook(docs_json, render_items);\n",
       "  }\n",
       "if (root.Bokeh !== undefined) {\n",
       "    embed_document(root);\n",
       "  } else {\n",
       "    var attempts = 0;\n",
       "    var timer = setInterval(function(root) {\n",
       "      if (root.Bokeh !== undefined) {\n",
       "        clearInterval(timer);\n",
       "        embed_document(root);\n",
       "      } else if (document.readyState == \"complete\") {\n",
       "        attempts++;\n",
       "        if (attempts > 100) {\n",
       "          clearInterval(timer);\n",
       "          console.log(\"Bokeh: ERROR: Unable to run BokehJS code because BokehJS library is missing\");\n",
       "        }\n",
       "      }\n",
       "    }, 10, root)\n",
       "  }\n",
       "})(window);</script>"
      ],
      "text/plain": [
       ":NdOverlay   [Variable]\n",
       "   :Curve   [Year]   (value)"
      ]
     },
     "execution_count": 154,
     "metadata": {
      "application/vnd.holoviews_exec.v0+json": {
       "id": "26180"
      }
     },
     "output_type": "execute_result"
    }
   ],
   "source": [
    "def comb_production():\n",
    "    plot = combined_production.hvplot.line(\n",
    "        title=\"Annual Energy Production 1980 to 2018\",width=1200,height=400,grid=True)\n",
    "    \n",
    "    plot.opts(\n",
    "            fontsize={\n",
    "                'title': 20, \n",
    "                    'labels': 20, \n",
    "                        'xticks': 20, \n",
    "                            'yticks': 15,\n",
    "        }\n",
    "    )\n",
    "    \n",
    "    return plot\n",
    "comb_production()"
   ]
  },
  {
   "cell_type": "code",
   "execution_count": 155,
   "metadata": {},
   "outputs": [
    {
     "data": {},
     "metadata": {},
     "output_type": "display_data"
    },
    {
     "data": {
      "application/vnd.holoviews_exec.v0+json": "",
      "text/html": [
       "<div id='26387'>\n",
       "\n",
       "\n",
       "\n",
       "\n",
       "\n",
       "  <div class=\"bk-root\" id=\"2b948f82-e376-4eb3-a135-ac3e57951309\" data-root-id=\"26387\"></div>\n",
       "</div>\n",
       "<script type=\"application/javascript\">(function(root) {\n",
       "  function embed_document(root) {\n",
       "  var docs_json = {\"db963c19-0f49-48cf-8d40-40a71b45509b\":{\"roots\":{\"references\":[{\"attributes\":{\"axis_label\":\"Production (Oil)\",\"axis_label_text_font_size\":\"20pt\",\"bounds\":\"auto\",\"formatter\":{\"id\":\"26433\"},\"major_label_orientation\":\"horizontal\",\"major_label_text_font_size\":\"15pt\",\"ticker\":{\"id\":\"26406\"}},\"id\":\"26405\",\"type\":\"LinearAxis\"},{\"attributes\":{},\"id\":\"26406\",\"type\":\"BasicTicker\"},{\"attributes\":{\"axis\":{\"id\":\"26405\"},\"dimension\":1,\"ticker\":{\"id\":\"26406\"}},\"id\":\"26408\",\"type\":\"Grid\"},{\"attributes\":{},\"id\":\"26410\",\"type\":\"PanTool\"},{\"attributes\":{\"data\":{\"Production (Alternative)\":{\"__ndarray__\":\"vHSTGARWIEBkO99PjdcgQEa28/3UOCJATDeJQWBlI0B7FK5H4fojQFK4HoXrUSRACKwcWmT7JECNl24Sg8AkQEoMAiuHFiZABoGVQ4usJ0B9PzVeukkoQHsUrkfh+ihAmpmZmZmZKECWQ4ts5/soQOkmMQisXClAarx0kxhEK0AYBFYOLTIsQO58PzVeOitArBxaZDsfK0CNl24Sg0AsQCGwcmiR7StAbhKDwMphKkCNl24Sg8ArQOj7qfHSzStAUrgeheuRLEDdJAaBlcMsQCYxCKwcmi1A5KWbxCDwLUAj2/l+ajwvQPYoXI/C9S9Ac2iR7Xy/MEDEILByaJExQKabxCCw8jBAtvP91HipMUC0yHa+nxoyQDeJQWDlEDJAmpmZmZnZMkA9CtejcJ0zQBgEVg4t8jNA\",\"dtype\":\"float64\",\"shape\":[39]},\"Production (Oil)\":{\"__ndarray__\":\"001iEFh5NEC28/3UeGk0QGiR7Xw/dTRAu0kMAiuHNEChRbbz/RQ1QBgEVg4tMjVAd76fGi99NEC0yHa+n9ozQMP1KFyPgjNAPQrXo3A9MkAv3SQGgbUxQJ3vp8ZL9zFA7FG4HoWLMUAj2/l+atwwQMHKoUW2czBAKVyPwvVIMECHFtnO9zMwQO18PzVeGjBAEVg5tMg2L0ANAiuHFtktQFK4HoXr0S1AJQaBlUOLLUBt5/up8VItQE+Nl24SgyxA0SLb+X7qK0A2XrpJDIIqQOF6FK5HISpArkfhehQuKkAYBFYOLfIpQBgEVg4tsitA4XoUrkehLEAtsp3vp8YtQBsv3SQGATFAN4lBYOVQM0DpJjEIrJw2QOSlm8QgMDhAwMqhRbYzN0DkpZvEIJA4QBxaZDvfjzxA\",\"dtype\":\"float64\",\"shape\":[39]},\"Production_left_parenthesis_Alternative_right_parenthesis\":{\"__ndarray__\":\"vHSTGARWIEBkO99PjdcgQEa28/3UOCJATDeJQWBlI0B7FK5H4fojQFK4HoXrUSRACKwcWmT7JECNl24Sg8AkQEoMAiuHFiZABoGVQ4usJ0B9PzVeukkoQHsUrkfh+ihAmpmZmZmZKECWQ4ts5/soQOkmMQisXClAarx0kxhEK0AYBFYOLTIsQO58PzVeOitArBxaZDsfK0CNl24Sg0AsQCGwcmiR7StAbhKDwMphKkCNl24Sg8ArQOj7qfHSzStAUrgeheuRLEDdJAaBlcMsQCYxCKwcmi1A5KWbxCDwLUAj2/l+ajwvQPYoXI/C9S9Ac2iR7Xy/MEDEILByaJExQKabxCCw8jBAtvP91HipMUC0yHa+nxoyQDeJQWDlEDJAmpmZmZnZMkA9CtejcJ0zQBgEVg4t8jNA\",\"dtype\":\"float64\",\"shape\":[39]},\"Production_left_parenthesis_Oil_right_parenthesis\":{\"__ndarray__\":\"001iEFh5NEC28/3UeGk0QGiR7Xw/dTRAu0kMAiuHNEChRbbz/RQ1QBgEVg4tMjVAd76fGi99NEC0yHa+n9ozQMP1KFyPgjNAPQrXo3A9MkAv3SQGgbUxQJ3vp8ZL9zFA7FG4HoWLMUAj2/l+atwwQMHKoUW2czBAKVyPwvVIMECHFtnO9zMwQO18PzVeGjBAEVg5tMg2L0ANAiuHFtktQFK4HoXr0S1AJQaBlUOLLUBt5/up8VItQE+Nl24SgyxA0SLb+X7qK0A2XrpJDIIqQOF6FK5HISpArkfhehQuKkAYBFYOLfIpQBgEVg4tsitA4XoUrkehLEAtsp3vp8YtQBsv3SQGATFAN4lBYOVQM0DpJjEIrJw2QOSlm8QgMDhAwMqhRbYzN0DkpZvEIJA4QBxaZDvfjzxA\",\"dtype\":\"float64\",\"shape\":[39]}},\"selected\":{\"id\":\"26423\"},\"selection_policy\":{\"id\":\"26441\"}},\"id\":\"26422\",\"type\":\"ColumnDataSource\"},{\"attributes\":{},\"id\":\"26423\",\"type\":\"Selection\"},{\"attributes\":{},\"id\":\"26409\",\"type\":\"SaveTool\"},{\"attributes\":{},\"id\":\"26411\",\"type\":\"WheelZoomTool\"},{\"attributes\":{\"active_drag\":\"auto\",\"active_inspect\":\"auto\",\"active_multi\":null,\"active_scroll\":\"auto\",\"active_tap\":\"auto\",\"tools\":[{\"id\":\"26391\"},{\"id\":\"26409\"},{\"id\":\"26410\"},{\"id\":\"26411\"},{\"id\":\"26412\"},{\"id\":\"26413\"}]},\"id\":\"26415\",\"type\":\"Toolbar\"},{\"attributes\":{\"children\":[{\"id\":\"26388\"},{\"id\":\"26392\"},{\"id\":\"26444\"}],\"margin\":[0,0,0,0],\"name\":\"Row53686\",\"tags\":[\"embedded\"]},\"id\":\"26387\",\"type\":\"Row\"},{\"attributes\":{\"overlay\":{\"id\":\"26414\"}},\"id\":\"26412\",\"type\":\"BoxZoomTool\"},{\"attributes\":{},\"id\":\"26413\",\"type\":\"ResetTool\"},{\"attributes\":{\"fill_alpha\":{\"value\":0.1},\"fill_color\":{\"value\":\"#1f77b3\"},\"line_alpha\":{\"value\":0.1},\"line_color\":{\"value\":\"#1f77b3\"},\"size\":{\"units\":\"screen\",\"value\":5.477225575051661},\"x\":{\"field\":\"Production (Alternative)\"},\"y\":{\"field\":\"Production (Oil)\"}},\"id\":\"26426\",\"type\":\"Scatter\"},{\"attributes\":{\"margin\":[5,5,5,5],\"name\":\"HSpacer53690\",\"sizing_mode\":\"stretch_width\"},\"id\":\"26388\",\"type\":\"Spacer\"},{\"attributes\":{},\"id\":\"26441\",\"type\":\"UnionRenderers\"},{\"attributes\":{\"fill_color\":{\"value\":\"#1f77b3\"},\"line_color\":{\"value\":\"#1f77b3\"},\"size\":{\"units\":\"screen\",\"value\":5.477225575051661},\"x\":{\"field\":\"Production (Alternative)\"},\"y\":{\"field\":\"Production (Oil)\"}},\"id\":\"26425\",\"type\":\"Scatter\"},{\"attributes\":{\"data_source\":{\"id\":\"26422\"},\"glyph\":{\"id\":\"26425\"},\"hover_glyph\":null,\"muted_glyph\":{\"id\":\"26427\"},\"nonselection_glyph\":{\"id\":\"26426\"},\"selection_glyph\":null,\"view\":{\"id\":\"26429\"}},\"id\":\"26428\",\"type\":\"GlyphRenderer\"},{\"attributes\":{\"source\":{\"id\":\"26422\"}},\"id\":\"26429\",\"type\":\"CDSView\"},{\"attributes\":{\"end\":20.3386,\"reset_end\":20.3386,\"reset_start\":7.775399999999999,\"start\":7.775399999999999,\"tags\":[[[\"Production (Alternative)\",\"Production (Alternative)\",null]]]},\"id\":\"26389\",\"type\":\"Range1d\"},{\"attributes\":{},\"id\":\"26431\",\"type\":\"BasicTickFormatter\"},{\"attributes\":{\"below\":[{\"id\":\"26401\"}],\"center\":[{\"id\":\"26404\"},{\"id\":\"26408\"}],\"left\":[{\"id\":\"26405\"}],\"margin\":null,\"min_border_bottom\":10,\"min_border_left\":10,\"min_border_right\":10,\"min_border_top\":10,\"plot_height\":400,\"plot_width\":1200,\"renderers\":[{\"id\":\"26428\"}],\"sizing_mode\":\"fixed\",\"title\":{\"id\":\"26393\"},\"toolbar\":{\"id\":\"26415\"},\"x_range\":{\"id\":\"26389\"},\"x_scale\":{\"id\":\"26397\"},\"y_range\":{\"id\":\"26390\"},\"y_scale\":{\"id\":\"26399\"}},\"id\":\"26392\",\"subtype\":\"Figure\",\"type\":\"Plot\"},{\"attributes\":{\"fill_alpha\":{\"value\":0.2},\"fill_color\":{\"value\":\"#1f77b3\"},\"line_alpha\":{\"value\":0.2},\"line_color\":{\"value\":\"#1f77b3\"},\"size\":{\"units\":\"screen\",\"value\":5.477225575051661},\"x\":{\"field\":\"Production (Alternative)\"},\"y\":{\"field\":\"Production (Oil)\"}},\"id\":\"26427\",\"type\":\"Scatter\"},{\"attributes\":{\"end\":30.1209,\"reset_end\":30.1209,\"reset_start\":11.4141,\"start\":11.4141,\"tags\":[[[\"Production (Oil)\",\"Production (Oil)\",null]]]},\"id\":\"26390\",\"type\":\"Range1d\"},{\"attributes\":{},\"id\":\"26433\",\"type\":\"BasicTickFormatter\"},{\"attributes\":{\"axis\":{\"id\":\"26401\"},\"ticker\":{\"id\":\"26402\"}},\"id\":\"26404\",\"type\":\"Grid\"},{\"attributes\":{\"text\":\"Correlation between Energy Production from Alternatives vs. Oil\",\"text_color\":{\"value\":\"black\"},\"text_font_size\":{\"value\":\"20pt\"}},\"id\":\"26393\",\"type\":\"Title\"},{\"attributes\":{\"bottom_units\":\"screen\",\"fill_alpha\":0.5,\"fill_color\":\"lightgrey\",\"left_units\":\"screen\",\"level\":\"overlay\",\"line_alpha\":1.0,\"line_color\":\"black\",\"line_dash\":[4,4],\"line_width\":2,\"render_mode\":\"css\",\"right_units\":\"screen\",\"top_units\":\"screen\"},\"id\":\"26414\",\"type\":\"BoxAnnotation\"},{\"attributes\":{},\"id\":\"26399\",\"type\":\"LinearScale\"},{\"attributes\":{\"callback\":null,\"renderers\":[{\"id\":\"26428\"}],\"tags\":[\"hv_created\"],\"tooltips\":[[\"Production (Alternative)\",\"@{Production_left_parenthesis_Alternative_right_parenthesis}\"],[\"Production (Oil)\",\"@{Production_left_parenthesis_Oil_right_parenthesis}\"]]},\"id\":\"26391\",\"type\":\"HoverTool\"},{\"attributes\":{\"axis_label\":\"Production (Alternative)\",\"axis_label_text_font_size\":\"20pt\",\"bounds\":\"auto\",\"formatter\":{\"id\":\"26431\"},\"major_label_orientation\":\"horizontal\",\"major_label_text_font_size\":\"20pt\",\"ticker\":{\"id\":\"26402\"}},\"id\":\"26401\",\"type\":\"LinearAxis\"},{\"attributes\":{\"margin\":[5,5,5,5],\"name\":\"HSpacer53691\",\"sizing_mode\":\"stretch_width\"},\"id\":\"26444\",\"type\":\"Spacer\"},{\"attributes\":{},\"id\":\"26397\",\"type\":\"LinearScale\"},{\"attributes\":{},\"id\":\"26402\",\"type\":\"BasicTicker\"}],\"root_ids\":[\"26387\"]},\"title\":\"Bokeh Application\",\"version\":\"2.0.2\"}};\n",
       "  var render_items = [{\"docid\":\"db963c19-0f49-48cf-8d40-40a71b45509b\",\"root_ids\":[\"26387\"],\"roots\":{\"26387\":\"2b948f82-e376-4eb3-a135-ac3e57951309\"}}];\n",
       "  root.Bokeh.embed.embed_items_notebook(docs_json, render_items);\n",
       "  }\n",
       "if (root.Bokeh !== undefined) {\n",
       "    embed_document(root);\n",
       "  } else {\n",
       "    var attempts = 0;\n",
       "    var timer = setInterval(function(root) {\n",
       "      if (root.Bokeh !== undefined) {\n",
       "        clearInterval(timer);\n",
       "        embed_document(root);\n",
       "      } else if (document.readyState == \"complete\") {\n",
       "        attempts++;\n",
       "        if (attempts > 100) {\n",
       "          clearInterval(timer);\n",
       "          console.log(\"Bokeh: ERROR: Unable to run BokehJS code because BokehJS library is missing\");\n",
       "        }\n",
       "      }\n",
       "    }, 10, root)\n",
       "  }\n",
       "})(window);</script>"
      ],
      "text/plain": [
       ":Scatter   [Production (Alternative)]   (Production (Oil))"
      ]
     },
     "execution_count": 155,
     "metadata": {
      "application/vnd.holoviews_exec.v0+json": {
       "id": "26387"
      }
     },
     "output_type": "execute_result"
    }
   ],
   "source": [
    "def production_corr():\n",
    "    plot = combined_production.hvplot.scatter(\n",
    "        width=1200,height=400,grid=True,\n",
    "        y='Production (Oil)',x='Production (Alternative)',title=\"Correlation between Energy Production from Alternatives vs. Oil\")\n",
    "    \n",
    "    plot.opts(\n",
    "            fontsize={\n",
    "                'title': 20, \n",
    "                    'labels': 20, \n",
    "                        'xticks': 20, \n",
    "                            'yticks': 15,\n",
    "        }\n",
    "    )\n",
    "    \n",
    "    return plot\n",
    "production_corr()"
   ]
  },
  {
   "cell_type": "code",
   "execution_count": 156,
   "metadata": {},
   "outputs": [
    {
     "name": "stdout",
     "output_type": "stream",
     "text": [
      "[*********************100%***********************]  4 of 4 completed\n",
      "[*********************100%***********************]  4 of 4 completed\n"
     ]
    },
    {
     "data": {
      "application/vnd.plotly.v1+json": {
       "config": {
        "plotlyServerURL": "https://plot.ly"
       },
       "data": [
        {
         "dimensions": [
          {
           "label": "Year",
           "values": [
            2000,
            2001,
            2002,
            2003,
            2004,
            2005,
            2006,
            2007,
            2008,
            2009,
            2010,
            2011,
            2012,
            2013,
            2014,
            2015,
            2016,
            2017,
            2018
           ]
          },
          {
           "label": "Production (Alt)",
           "values": [
            -0.011468214639671515,
            -0.055356631337725726,
            0.05192934576605257,
            0.0018737388296339308,
            0.02754999280679038,
            0.006790339516975719,
            0.029133639271311296,
            0.011350584419971721,
            0.04335626962388939,
            0.02317838391599447,
            0.04806007509386734,
            0.0489610699785048,
            -0.03529143897996345,
            0.04212886476280375,
            0.025025478428264192,
            -0.002098983650022146,
            0.04339643529281534,
            0.04058355437665773,
            0.016874840683150705
           ]
          },
          {
           "label": "Stock Returns (Alt)",
           "values": [
            -0.09046389869051663,
            -0.14835181087583693,
            -0.6078410265837453,
            1.5252537696199864,
            0.08642437319243532,
            0.2895448849272778,
            0.1546112606245563,
            0.17288103891386652,
            -0.32435881568818503,
            0.39705539178526394,
            0.026782620937517293,
            -0.12368404052124551,
            -0.16566708341413314,
            0.5662495475825771,
            0.2921015419392605,
            -0.4096919281933554,
            0.24461880041971582,
            0.20789350290146522,
            0.048818990552964736
           ]
          },
          {
           "label": "Production (Oil)",
           "values": [
            -0.0009380863039399889,
            -0.009255533199195143,
            -0.007446520444083338,
            -0.027690628836448128,
            -0.02090347923681246,
            -0.050437025361799614,
            -0.014259846084201167,
            0.0019135093761959432,
            -0.008938120702826624,
            0.06744777615046638,
            0.0337232813402657,
            0.040027942717429266,
            0.1421278882321333,
            0.13596800752764038,
            0.17063574238972867,
            0.06969750574916,
            -0.04076401521415596,
            0.05865873631583507,
            0.1628058461914259
           ]
          },
          {
           "label": "Stock Returns (Oil)",
           "values": [
            -0.006127169195302928,
            -0.029906087981299623,
            -0.11072418293370598,
            0.2576613153940702,
            0.23702751531113614,
            0.12645822638501641,
            0.2371794191016765,
            0.22255985565068154,
            -0.24755738132410177,
            0.12209918335962414,
            0.0799748332153715,
            0.14738553505822855,
            0.024085267420239725,
            0.18428928591063776,
            -0.08388981777014592,
            -0.17825721423266336,
            0.30297193069669504,
            0.13088950809638886,
            -0.09159949090973862
           ]
          }
         ],
         "domain": {
          "x": [
           0,
           1
          ],
          "y": [
           0,
           1
          ]
         },
         "line": {
          "color": [
           2000,
           2001,
           2002,
           2003,
           2004,
           2005,
           2006,
           2007,
           2008,
           2009,
           2010,
           2011,
           2012,
           2013,
           2014,
           2015,
           2016,
           2017,
           2018
          ],
          "coloraxis": "coloraxis"
         },
         "name": "",
         "type": "parcoords"
        }
       ],
       "layout": {
        "autosize": true,
        "coloraxis": {
         "colorbar": {
          "title": {
           "text": "Year"
          }
         },
         "colorscale": [
          [
           0,
           "#0d0887"
          ],
          [
           0.1111111111111111,
           "#46039f"
          ],
          [
           0.2222222222222222,
           "#7201a8"
          ],
          [
           0.3333333333333333,
           "#9c179e"
          ],
          [
           0.4444444444444444,
           "#bd3786"
          ],
          [
           0.5555555555555556,
           "#d8576b"
          ],
          [
           0.6666666666666666,
           "#ed7953"
          ],
          [
           0.7777777777777778,
           "#fb9f3a"
          ],
          [
           0.8888888888888888,
           "#fdca26"
          ],
          [
           1,
           "#f0f921"
          ]
         ]
        },
        "legend": {
         "tracegroupgap": 0
        },
        "template": {
         "data": {
          "bar": [
           {
            "error_x": {
             "color": "#2a3f5f"
            },
            "error_y": {
             "color": "#2a3f5f"
            },
            "marker": {
             "line": {
              "color": "#E5ECF6",
              "width": 0.5
             }
            },
            "type": "bar"
           }
          ],
          "barpolar": [
           {
            "marker": {
             "line": {
              "color": "#E5ECF6",
              "width": 0.5
             }
            },
            "type": "barpolar"
           }
          ],
          "carpet": [
           {
            "aaxis": {
             "endlinecolor": "#2a3f5f",
             "gridcolor": "white",
             "linecolor": "white",
             "minorgridcolor": "white",
             "startlinecolor": "#2a3f5f"
            },
            "baxis": {
             "endlinecolor": "#2a3f5f",
             "gridcolor": "white",
             "linecolor": "white",
             "minorgridcolor": "white",
             "startlinecolor": "#2a3f5f"
            },
            "type": "carpet"
           }
          ],
          "choropleth": [
           {
            "colorbar": {
             "outlinewidth": 0,
             "ticks": ""
            },
            "type": "choropleth"
           }
          ],
          "contour": [
           {
            "colorbar": {
             "outlinewidth": 0,
             "ticks": ""
            },
            "colorscale": [
             [
              0,
              "#0d0887"
             ],
             [
              0.1111111111111111,
              "#46039f"
             ],
             [
              0.2222222222222222,
              "#7201a8"
             ],
             [
              0.3333333333333333,
              "#9c179e"
             ],
             [
              0.4444444444444444,
              "#bd3786"
             ],
             [
              0.5555555555555556,
              "#d8576b"
             ],
             [
              0.6666666666666666,
              "#ed7953"
             ],
             [
              0.7777777777777778,
              "#fb9f3a"
             ],
             [
              0.8888888888888888,
              "#fdca26"
             ],
             [
              1,
              "#f0f921"
             ]
            ],
            "type": "contour"
           }
          ],
          "contourcarpet": [
           {
            "colorbar": {
             "outlinewidth": 0,
             "ticks": ""
            },
            "type": "contourcarpet"
           }
          ],
          "heatmap": [
           {
            "colorbar": {
             "outlinewidth": 0,
             "ticks": ""
            },
            "colorscale": [
             [
              0,
              "#0d0887"
             ],
             [
              0.1111111111111111,
              "#46039f"
             ],
             [
              0.2222222222222222,
              "#7201a8"
             ],
             [
              0.3333333333333333,
              "#9c179e"
             ],
             [
              0.4444444444444444,
              "#bd3786"
             ],
             [
              0.5555555555555556,
              "#d8576b"
             ],
             [
              0.6666666666666666,
              "#ed7953"
             ],
             [
              0.7777777777777778,
              "#fb9f3a"
             ],
             [
              0.8888888888888888,
              "#fdca26"
             ],
             [
              1,
              "#f0f921"
             ]
            ],
            "type": "heatmap"
           }
          ],
          "heatmapgl": [
           {
            "colorbar": {
             "outlinewidth": 0,
             "ticks": ""
            },
            "colorscale": [
             [
              0,
              "#0d0887"
             ],
             [
              0.1111111111111111,
              "#46039f"
             ],
             [
              0.2222222222222222,
              "#7201a8"
             ],
             [
              0.3333333333333333,
              "#9c179e"
             ],
             [
              0.4444444444444444,
              "#bd3786"
             ],
             [
              0.5555555555555556,
              "#d8576b"
             ],
             [
              0.6666666666666666,
              "#ed7953"
             ],
             [
              0.7777777777777778,
              "#fb9f3a"
             ],
             [
              0.8888888888888888,
              "#fdca26"
             ],
             [
              1,
              "#f0f921"
             ]
            ],
            "type": "heatmapgl"
           }
          ],
          "histogram": [
           {
            "marker": {
             "colorbar": {
              "outlinewidth": 0,
              "ticks": ""
             }
            },
            "type": "histogram"
           }
          ],
          "histogram2d": [
           {
            "colorbar": {
             "outlinewidth": 0,
             "ticks": ""
            },
            "colorscale": [
             [
              0,
              "#0d0887"
             ],
             [
              0.1111111111111111,
              "#46039f"
             ],
             [
              0.2222222222222222,
              "#7201a8"
             ],
             [
              0.3333333333333333,
              "#9c179e"
             ],
             [
              0.4444444444444444,
              "#bd3786"
             ],
             [
              0.5555555555555556,
              "#d8576b"
             ],
             [
              0.6666666666666666,
              "#ed7953"
             ],
             [
              0.7777777777777778,
              "#fb9f3a"
             ],
             [
              0.8888888888888888,
              "#fdca26"
             ],
             [
              1,
              "#f0f921"
             ]
            ],
            "type": "histogram2d"
           }
          ],
          "histogram2dcontour": [
           {
            "colorbar": {
             "outlinewidth": 0,
             "ticks": ""
            },
            "colorscale": [
             [
              0,
              "#0d0887"
             ],
             [
              0.1111111111111111,
              "#46039f"
             ],
             [
              0.2222222222222222,
              "#7201a8"
             ],
             [
              0.3333333333333333,
              "#9c179e"
             ],
             [
              0.4444444444444444,
              "#bd3786"
             ],
             [
              0.5555555555555556,
              "#d8576b"
             ],
             [
              0.6666666666666666,
              "#ed7953"
             ],
             [
              0.7777777777777778,
              "#fb9f3a"
             ],
             [
              0.8888888888888888,
              "#fdca26"
             ],
             [
              1,
              "#f0f921"
             ]
            ],
            "type": "histogram2dcontour"
           }
          ],
          "mesh3d": [
           {
            "colorbar": {
             "outlinewidth": 0,
             "ticks": ""
            },
            "type": "mesh3d"
           }
          ],
          "parcoords": [
           {
            "line": {
             "colorbar": {
              "outlinewidth": 0,
              "ticks": ""
             }
            },
            "type": "parcoords"
           }
          ],
          "pie": [
           {
            "automargin": true,
            "type": "pie"
           }
          ],
          "scatter": [
           {
            "marker": {
             "colorbar": {
              "outlinewidth": 0,
              "ticks": ""
             }
            },
            "type": "scatter"
           }
          ],
          "scatter3d": [
           {
            "line": {
             "colorbar": {
              "outlinewidth": 0,
              "ticks": ""
             }
            },
            "marker": {
             "colorbar": {
              "outlinewidth": 0,
              "ticks": ""
             }
            },
            "type": "scatter3d"
           }
          ],
          "scattercarpet": [
           {
            "marker": {
             "colorbar": {
              "outlinewidth": 0,
              "ticks": ""
             }
            },
            "type": "scattercarpet"
           }
          ],
          "scattergeo": [
           {
            "marker": {
             "colorbar": {
              "outlinewidth": 0,
              "ticks": ""
             }
            },
            "type": "scattergeo"
           }
          ],
          "scattergl": [
           {
            "marker": {
             "colorbar": {
              "outlinewidth": 0,
              "ticks": ""
             }
            },
            "type": "scattergl"
           }
          ],
          "scattermapbox": [
           {
            "marker": {
             "colorbar": {
              "outlinewidth": 0,
              "ticks": ""
             }
            },
            "type": "scattermapbox"
           }
          ],
          "scatterpolar": [
           {
            "marker": {
             "colorbar": {
              "outlinewidth": 0,
              "ticks": ""
             }
            },
            "type": "scatterpolar"
           }
          ],
          "scatterpolargl": [
           {
            "marker": {
             "colorbar": {
              "outlinewidth": 0,
              "ticks": ""
             }
            },
            "type": "scatterpolargl"
           }
          ],
          "scatterternary": [
           {
            "marker": {
             "colorbar": {
              "outlinewidth": 0,
              "ticks": ""
             }
            },
            "type": "scatterternary"
           }
          ],
          "surface": [
           {
            "colorbar": {
             "outlinewidth": 0,
             "ticks": ""
            },
            "colorscale": [
             [
              0,
              "#0d0887"
             ],
             [
              0.1111111111111111,
              "#46039f"
             ],
             [
              0.2222222222222222,
              "#7201a8"
             ],
             [
              0.3333333333333333,
              "#9c179e"
             ],
             [
              0.4444444444444444,
              "#bd3786"
             ],
             [
              0.5555555555555556,
              "#d8576b"
             ],
             [
              0.6666666666666666,
              "#ed7953"
             ],
             [
              0.7777777777777778,
              "#fb9f3a"
             ],
             [
              0.8888888888888888,
              "#fdca26"
             ],
             [
              1,
              "#f0f921"
             ]
            ],
            "type": "surface"
           }
          ],
          "table": [
           {
            "cells": {
             "fill": {
              "color": "#EBF0F8"
             },
             "line": {
              "color": "white"
             }
            },
            "header": {
             "fill": {
              "color": "#C8D4E3"
             },
             "line": {
              "color": "white"
             }
            },
            "type": "table"
           }
          ]
         },
         "layout": {
          "annotationdefaults": {
           "arrowcolor": "#2a3f5f",
           "arrowhead": 0,
           "arrowwidth": 1
          },
          "autotypenumbers": "strict",
          "coloraxis": {
           "colorbar": {
            "outlinewidth": 0,
            "ticks": ""
           }
          },
          "colorscale": {
           "diverging": [
            [
             0,
             "#8e0152"
            ],
            [
             0.1,
             "#c51b7d"
            ],
            [
             0.2,
             "#de77ae"
            ],
            [
             0.3,
             "#f1b6da"
            ],
            [
             0.4,
             "#fde0ef"
            ],
            [
             0.5,
             "#f7f7f7"
            ],
            [
             0.6,
             "#e6f5d0"
            ],
            [
             0.7,
             "#b8e186"
            ],
            [
             0.8,
             "#7fbc41"
            ],
            [
             0.9,
             "#4d9221"
            ],
            [
             1,
             "#276419"
            ]
           ],
           "sequential": [
            [
             0,
             "#0d0887"
            ],
            [
             0.1111111111111111,
             "#46039f"
            ],
            [
             0.2222222222222222,
             "#7201a8"
            ],
            [
             0.3333333333333333,
             "#9c179e"
            ],
            [
             0.4444444444444444,
             "#bd3786"
            ],
            [
             0.5555555555555556,
             "#d8576b"
            ],
            [
             0.6666666666666666,
             "#ed7953"
            ],
            [
             0.7777777777777778,
             "#fb9f3a"
            ],
            [
             0.8888888888888888,
             "#fdca26"
            ],
            [
             1,
             "#f0f921"
            ]
           ],
           "sequentialminus": [
            [
             0,
             "#0d0887"
            ],
            [
             0.1111111111111111,
             "#46039f"
            ],
            [
             0.2222222222222222,
             "#7201a8"
            ],
            [
             0.3333333333333333,
             "#9c179e"
            ],
            [
             0.4444444444444444,
             "#bd3786"
            ],
            [
             0.5555555555555556,
             "#d8576b"
            ],
            [
             0.6666666666666666,
             "#ed7953"
            ],
            [
             0.7777777777777778,
             "#fb9f3a"
            ],
            [
             0.8888888888888888,
             "#fdca26"
            ],
            [
             1,
             "#f0f921"
            ]
           ]
          },
          "colorway": [
           "#636efa",
           "#EF553B",
           "#00cc96",
           "#ab63fa",
           "#FFA15A",
           "#19d3f3",
           "#FF6692",
           "#B6E880",
           "#FF97FF",
           "#FECB52"
          ],
          "font": {
           "color": "#2a3f5f"
          },
          "geo": {
           "bgcolor": "white",
           "lakecolor": "white",
           "landcolor": "#E5ECF6",
           "showlakes": true,
           "showland": true,
           "subunitcolor": "white"
          },
          "hoverlabel": {
           "align": "left"
          },
          "hovermode": "closest",
          "mapbox": {
           "style": "light"
          },
          "paper_bgcolor": "white",
          "plot_bgcolor": "#E5ECF6",
          "polar": {
           "angularaxis": {
            "gridcolor": "white",
            "linecolor": "white",
            "ticks": ""
           },
           "bgcolor": "#E5ECF6",
           "radialaxis": {
            "gridcolor": "white",
            "linecolor": "white",
            "ticks": ""
           }
          },
          "scene": {
           "xaxis": {
            "backgroundcolor": "#E5ECF6",
            "gridcolor": "white",
            "gridwidth": 2,
            "linecolor": "white",
            "showbackground": true,
            "ticks": "",
            "zerolinecolor": "white"
           },
           "yaxis": {
            "backgroundcolor": "#E5ECF6",
            "gridcolor": "white",
            "gridwidth": 2,
            "linecolor": "white",
            "showbackground": true,
            "ticks": "",
            "zerolinecolor": "white"
           },
           "zaxis": {
            "backgroundcolor": "#E5ECF6",
            "gridcolor": "white",
            "gridwidth": 2,
            "linecolor": "white",
            "showbackground": true,
            "ticks": "",
            "zerolinecolor": "white"
           }
          },
          "shapedefaults": {
           "line": {
            "color": "#2a3f5f"
           }
          },
          "ternary": {
           "aaxis": {
            "gridcolor": "white",
            "linecolor": "white",
            "ticks": ""
           },
           "baxis": {
            "gridcolor": "white",
            "linecolor": "white",
            "ticks": ""
           },
           "bgcolor": "#E5ECF6",
           "caxis": {
            "gridcolor": "white",
            "linecolor": "white",
            "ticks": ""
           }
          },
          "title": {
           "x": 0.05
          },
          "xaxis": {
           "automargin": true,
           "gridcolor": "white",
           "linecolor": "white",
           "ticks": "",
           "title": {
            "standoff": 15
           },
           "zerolinecolor": "white",
           "zerolinewidth": 2
          },
          "yaxis": {
           "automargin": true,
           "gridcolor": "white",
           "linecolor": "white",
           "ticks": "",
           "title": {
            "standoff": 15
           },
           "zerolinecolor": "white",
           "zerolinewidth": 2
          }
         }
        },
        "title": {
         "text": "Correlation between Energy Production and Stock Returns by Industry"
        }
       }
      },
      "image/png": "[encoded data removed]",
      "text/html": [
       "<div>                            <div id=\"7f8d7a0f-eadf-4b3e-bb82-24cd251f7ea1\" class=\"plotly-graph-div\" style=\"height:525px; width:1200px;\"></div>            <script type=\"text/javascript\">                require([\"plotly\"], function(Plotly) {                    window.PLOTLYENV=window.PLOTLYENV || {};                                    if (document.getElementById(\"7f8d7a0f-eadf-4b3e-bb82-24cd251f7ea1\")) {                    Plotly.newPlot(                        \"7f8d7a0f-eadf-4b3e-bb82-24cd251f7ea1\",                        [{\"dimensions\": [{\"label\": \"Year\", \"values\": [2000, 2001, 2002, 2003, 2004, 2005, 2006, 2007, 2008, 2009, 2010, 2011, 2012, 2013, 2014, 2015, 2016, 2017, 2018]}, {\"label\": \"Production (Alt)\", \"values\": [-0.011468214639671515, -0.055356631337725726, 0.05192934576605257, 0.0018737388296339308, 0.02754999280679038, 0.006790339516975719, 0.029133639271311296, 0.011350584419971721, 0.04335626962388939, 0.02317838391599447, 0.04806007509386734, 0.0489610699785048, -0.03529143897996345, 0.04212886476280375, 0.025025478428264192, -0.002098983650022146, 0.04339643529281534, 0.04058355437665773, 0.016874840683150705]}, {\"label\": \"Stock Returns (Alt)\", \"values\": [-0.09046389869051663, -0.14835181087583693, -0.6078410265837453, 1.5252537696199864, 0.08642437319243532, 0.2895448849272778, 0.1546112606245563, 0.17288103891386652, -0.32435881568818503, 0.39705539178526394, 0.026782620937517293, -0.12368404052124551, -0.16566708341413314, 0.5662495475825771, 0.2921015419392605, -0.4096919281933554, 0.24461880041971582, 0.20789350290146522, 0.048818990552964736]}, {\"label\": \"Production (Oil)\", \"values\": [-0.0009380863039399889, -0.009255533199195143, -0.007446520444083338, -0.027690628836448128, -0.02090347923681246, -0.050437025361799614, -0.014259846084201167, 0.0019135093761959432, -0.008938120702826624, 0.06744777615046638, 0.0337232813402657, 0.040027942717429266, 0.1421278882321333, 0.13596800752764038, 0.17063574238972867, 0.06969750574916, -0.04076401521415596, 0.05865873631583507, 0.1628058461914259]}, {\"label\": \"Stock Returns (Oil)\", \"values\": [-0.006127169195302928, -0.029906087981299623, -0.11072418293370598, 0.2576613153940702, 0.23702751531113614, 0.12645822638501641, 0.2371794191016765, 0.22255985565068154, -0.24755738132410177, 0.12209918335962414, 0.0799748332153715, 0.14738553505822855, 0.024085267420239725, 0.18428928591063776, -0.08388981777014592, -0.17825721423266336, 0.30297193069669504, 0.13088950809638886, -0.09159949090973862]}], \"domain\": {\"x\": [0.0, 1.0], \"y\": [0.0, 1.0]}, \"line\": {\"color\": [2000, 2001, 2002, 2003, 2004, 2005, 2006, 2007, 2008, 2009, 2010, 2011, 2012, 2013, 2014, 2015, 2016, 2017, 2018], \"coloraxis\": \"coloraxis\"}, \"name\": \"\", \"type\": \"parcoords\"}],                        {\"coloraxis\": {\"colorbar\": {\"title\": {\"text\": \"Year\"}}, \"colorscale\": [[0.0, \"#0d0887\"], [0.1111111111111111, \"#46039f\"], [0.2222222222222222, \"#7201a8\"], [0.3333333333333333, \"#9c179e\"], [0.4444444444444444, \"#bd3786\"], [0.5555555555555556, \"#d8576b\"], [0.6666666666666666, \"#ed7953\"], [0.7777777777777778, \"#fb9f3a\"], [0.8888888888888888, \"#fdca26\"], [1.0, \"#f0f921\"]]}, \"legend\": {\"tracegroupgap\": 0}, \"template\": {\"data\": {\"bar\": [{\"error_x\": {\"color\": \"#2a3f5f\"}, \"error_y\": {\"color\": \"#2a3f5f\"}, \"marker\": {\"line\": {\"color\": \"#E5ECF6\", \"width\": 0.5}}, \"type\": \"bar\"}], \"barpolar\": [{\"marker\": {\"line\": {\"color\": \"#E5ECF6\", \"width\": 0.5}}, \"type\": \"barpolar\"}], \"carpet\": [{\"aaxis\": {\"endlinecolor\": \"#2a3f5f\", \"gridcolor\": \"white\", \"linecolor\": \"white\", \"minorgridcolor\": \"white\", \"startlinecolor\": \"#2a3f5f\"}, \"baxis\": {\"endlinecolor\": \"#2a3f5f\", \"gridcolor\": \"white\", \"linecolor\": \"white\", \"minorgridcolor\": \"white\", \"startlinecolor\": \"#2a3f5f\"}, \"type\": \"carpet\"}], \"choropleth\": [{\"colorbar\": {\"outlinewidth\": 0, \"ticks\": \"\"}, \"type\": \"choropleth\"}], \"contour\": [{\"colorbar\": {\"outlinewidth\": 0, \"ticks\": \"\"}, \"colorscale\": [[0.0, \"#0d0887\"], [0.1111111111111111, \"#46039f\"], [0.2222222222222222, \"#7201a8\"], [0.3333333333333333, \"#9c179e\"], [0.4444444444444444, \"#bd3786\"], [0.5555555555555556, \"#d8576b\"], [0.6666666666666666, \"#ed7953\"], [0.7777777777777778, \"#fb9f3a\"], [0.8888888888888888, \"#fdca26\"], [1.0, \"#f0f921\"]], \"type\": \"contour\"}], \"contourcarpet\": [{\"colorbar\": {\"outlinewidth\": 0, \"ticks\": \"\"}, \"type\": \"contourcarpet\"}], \"heatmap\": [{\"colorbar\": {\"outlinewidth\": 0, \"ticks\": \"\"}, \"colorscale\": [[0.0, \"#0d0887\"], [0.1111111111111111, \"#46039f\"], [0.2222222222222222, \"#7201a8\"], [0.3333333333333333, \"#9c179e\"], [0.4444444444444444, \"#bd3786\"], [0.5555555555555556, \"#d8576b\"], [0.6666666666666666, \"#ed7953\"], [0.7777777777777778, \"#fb9f3a\"], [0.8888888888888888, \"#fdca26\"], [1.0, \"#f0f921\"]], \"type\": \"heatmap\"}], \"heatmapgl\": [{\"colorbar\": {\"outlinewidth\": 0, \"ticks\": \"\"}, \"colorscale\": [[0.0, \"#0d0887\"], [0.1111111111111111, \"#46039f\"], [0.2222222222222222, \"#7201a8\"], [0.3333333333333333, \"#9c179e\"], [0.4444444444444444, \"#bd3786\"], [0.5555555555555556, \"#d8576b\"], [0.6666666666666666, \"#ed7953\"], [0.7777777777777778, \"#fb9f3a\"], [0.8888888888888888, \"#fdca26\"], [1.0, \"#f0f921\"]], \"type\": \"heatmapgl\"}], \"histogram\": [{\"marker\": {\"colorbar\": {\"outlinewidth\": 0, \"ticks\": \"\"}}, \"type\": \"histogram\"}], \"histogram2d\": [{\"colorbar\": {\"outlinewidth\": 0, \"ticks\": \"\"}, \"colorscale\": [[0.0, \"#0d0887\"], [0.1111111111111111, \"#46039f\"], [0.2222222222222222, \"#7201a8\"], [0.3333333333333333, \"#9c179e\"], [0.4444444444444444, \"#bd3786\"], [0.5555555555555556, \"#d8576b\"], [0.6666666666666666, \"#ed7953\"], [0.7777777777777778, \"#fb9f3a\"], [0.8888888888888888, \"#fdca26\"], [1.0, \"#f0f921\"]], \"type\": \"histogram2d\"}], \"histogram2dcontour\": [{\"colorbar\": {\"outlinewidth\": 0, \"ticks\": \"\"}, \"colorscale\": [[0.0, \"#0d0887\"], [0.1111111111111111, \"#46039f\"], [0.2222222222222222, \"#7201a8\"], [0.3333333333333333, \"#9c179e\"], [0.4444444444444444, \"#bd3786\"], [0.5555555555555556, \"#d8576b\"], [0.6666666666666666, \"#ed7953\"], [0.7777777777777778, \"#fb9f3a\"], [0.8888888888888888, \"#fdca26\"], [1.0, \"#f0f921\"]], \"type\": \"histogram2dcontour\"}], \"mesh3d\": [{\"colorbar\": {\"outlinewidth\": 0, \"ticks\": \"\"}, \"type\": \"mesh3d\"}], \"parcoords\": [{\"line\": {\"colorbar\": {\"outlinewidth\": 0, \"ticks\": \"\"}}, \"type\": \"parcoords\"}], \"pie\": [{\"automargin\": true, \"type\": \"pie\"}], \"scatter\": [{\"marker\": {\"colorbar\": {\"outlinewidth\": 0, \"ticks\": \"\"}}, \"type\": \"scatter\"}], \"scatter3d\": [{\"line\": {\"colorbar\": {\"outlinewidth\": 0, \"ticks\": \"\"}}, \"marker\": {\"colorbar\": {\"outlinewidth\": 0, \"ticks\": \"\"}}, \"type\": \"scatter3d\"}], \"scattercarpet\": [{\"marker\": {\"colorbar\": {\"outlinewidth\": 0, \"ticks\": \"\"}}, \"type\": \"scattercarpet\"}], \"scattergeo\": [{\"marker\": {\"colorbar\": {\"outlinewidth\": 0, \"ticks\": \"\"}}, \"type\": \"scattergeo\"}], \"scattergl\": [{\"marker\": {\"colorbar\": {\"outlinewidth\": 0, \"ticks\": \"\"}}, \"type\": \"scattergl\"}], \"scattermapbox\": [{\"marker\": {\"colorbar\": {\"outlinewidth\": 0, \"ticks\": \"\"}}, \"type\": \"scattermapbox\"}], \"scatterpolar\": [{\"marker\": {\"colorbar\": {\"outlinewidth\": 0, \"ticks\": \"\"}}, \"type\": \"scatterpolar\"}], \"scatterpolargl\": [{\"marker\": {\"colorbar\": {\"outlinewidth\": 0, \"ticks\": \"\"}}, \"type\": \"scatterpolargl\"}], \"scatterternary\": [{\"marker\": {\"colorbar\": {\"outlinewidth\": 0, \"ticks\": \"\"}}, \"type\": \"scatterternary\"}], \"surface\": [{\"colorbar\": {\"outlinewidth\": 0, \"ticks\": \"\"}, \"colorscale\": [[0.0, \"#0d0887\"], [0.1111111111111111, \"#46039f\"], [0.2222222222222222, \"#7201a8\"], [0.3333333333333333, \"#9c179e\"], [0.4444444444444444, \"#bd3786\"], [0.5555555555555556, \"#d8576b\"], [0.6666666666666666, \"#ed7953\"], [0.7777777777777778, \"#fb9f3a\"], [0.8888888888888888, \"#fdca26\"], [1.0, \"#f0f921\"]], \"type\": \"surface\"}], \"table\": [{\"cells\": {\"fill\": {\"color\": \"#EBF0F8\"}, \"line\": {\"color\": \"white\"}}, \"header\": {\"fill\": {\"color\": \"#C8D4E3\"}, \"line\": {\"color\": \"white\"}}, \"type\": \"table\"}]}, \"layout\": {\"annotationdefaults\": {\"arrowcolor\": \"#2a3f5f\", \"arrowhead\": 0, \"arrowwidth\": 1}, \"autotypenumbers\": \"strict\", \"coloraxis\": {\"colorbar\": {\"outlinewidth\": 0, \"ticks\": \"\"}}, \"colorscale\": {\"diverging\": [[0, \"#8e0152\"], [0.1, \"#c51b7d\"], [0.2, \"#de77ae\"], [0.3, \"#f1b6da\"], [0.4, \"#fde0ef\"], [0.5, \"#f7f7f7\"], [0.6, \"#e6f5d0\"], [0.7, \"#b8e186\"], [0.8, \"#7fbc41\"], [0.9, \"#4d9221\"], [1, \"#276419\"]], \"sequential\": [[0.0, \"#0d0887\"], [0.1111111111111111, \"#46039f\"], [0.2222222222222222, \"#7201a8\"], [0.3333333333333333, \"#9c179e\"], [0.4444444444444444, \"#bd3786\"], [0.5555555555555556, \"#d8576b\"], [0.6666666666666666, \"#ed7953\"], [0.7777777777777778, \"#fb9f3a\"], [0.8888888888888888, \"#fdca26\"], [1.0, \"#f0f921\"]], \"sequentialminus\": [[0.0, \"#0d0887\"], [0.1111111111111111, \"#46039f\"], [0.2222222222222222, \"#7201a8\"], [0.3333333333333333, \"#9c179e\"], [0.4444444444444444, \"#bd3786\"], [0.5555555555555556, \"#d8576b\"], [0.6666666666666666, \"#ed7953\"], [0.7777777777777778, \"#fb9f3a\"], [0.8888888888888888, \"#fdca26\"], [1.0, \"#f0f921\"]]}, \"colorway\": [\"#636efa\", \"#EF553B\", \"#00cc96\", \"#ab63fa\", \"#FFA15A\", \"#19d3f3\", \"#FF6692\", \"#B6E880\", \"#FF97FF\", \"#FECB52\"], \"font\": {\"color\": \"#2a3f5f\"}, \"geo\": {\"bgcolor\": \"white\", \"lakecolor\": \"white\", \"landcolor\": \"#E5ECF6\", \"showlakes\": true, \"showland\": true, \"subunitcolor\": \"white\"}, \"hoverlabel\": {\"align\": \"left\"}, \"hovermode\": \"closest\", \"mapbox\": {\"style\": \"light\"}, \"paper_bgcolor\": \"white\", \"plot_bgcolor\": \"#E5ECF6\", \"polar\": {\"angularaxis\": {\"gridcolor\": \"white\", \"linecolor\": \"white\", \"ticks\": \"\"}, \"bgcolor\": \"#E5ECF6\", \"radialaxis\": {\"gridcolor\": \"white\", \"linecolor\": \"white\", \"ticks\": \"\"}}, \"scene\": {\"xaxis\": {\"backgroundcolor\": \"#E5ECF6\", \"gridcolor\": \"white\", \"gridwidth\": 2, \"linecolor\": \"white\", \"showbackground\": true, \"ticks\": \"\", \"zerolinecolor\": \"white\"}, \"yaxis\": {\"backgroundcolor\": \"#E5ECF6\", \"gridcolor\": \"white\", \"gridwidth\": 2, \"linecolor\": \"white\", \"showbackground\": true, \"ticks\": \"\", \"zerolinecolor\": \"white\"}, \"zaxis\": {\"backgroundcolor\": \"#E5ECF6\", \"gridcolor\": \"white\", \"gridwidth\": 2, \"linecolor\": \"white\", \"showbackground\": true, \"ticks\": \"\", \"zerolinecolor\": \"white\"}}, \"shapedefaults\": {\"line\": {\"color\": \"#2a3f5f\"}}, \"ternary\": {\"aaxis\": {\"gridcolor\": \"white\", \"linecolor\": \"white\", \"ticks\": \"\"}, \"baxis\": {\"gridcolor\": \"white\", \"linecolor\": \"white\", \"ticks\": \"\"}, \"bgcolor\": \"#E5ECF6\", \"caxis\": {\"gridcolor\": \"white\", \"linecolor\": \"white\", \"ticks\": \"\"}}, \"title\": {\"x\": 0.05}, \"xaxis\": {\"automargin\": true, \"gridcolor\": \"white\", \"linecolor\": \"white\", \"ticks\": \"\", \"title\": {\"standoff\": 15}, \"zerolinecolor\": \"white\", \"zerolinewidth\": 2}, \"yaxis\": {\"automargin\": true, \"gridcolor\": \"white\", \"linecolor\": \"white\", \"ticks\": \"\", \"title\": {\"standoff\": 15}, \"zerolinecolor\": \"white\", \"zerolinewidth\": 2}}}, \"title\": {\"text\": \"Correlation between Energy Production and Stock Returns by Industry\"}, \"width\": 1200},                        {\"responsive\": true}                    ).then(function(){\n",
       "                            \n",
       "var gd = document.getElementById('7f8d7a0f-eadf-4b3e-bb82-24cd251f7ea1');\n",
       "var x = new MutationObserver(function (mutations, observer) {{\n",
       "        var display = window.getComputedStyle(gd).display;\n",
       "        if (!display || display === 'none') {{\n",
       "            console.log([gd, 'removed!']);\n",
       "            Plotly.purge(gd);\n",
       "            observer.disconnect();\n",
       "        }}\n",
       "}});\n",
       "\n",
       "// Listen for the removal of the full notebook cells\n",
       "var notebookContainer = gd.closest('#notebook-container');\n",
       "if (notebookContainer) {{\n",
       "    x.observe(notebookContainer, {childList: true});\n",
       "}}\n",
       "\n",
       "// Listen for the clearing of the current output cell\n",
       "var outputEl = gd.closest('.output');\n",
       "if (outputEl) {{\n",
       "    x.observe(outputEl, {childList: true});\n",
       "}}\n",
       "\n",
       "                        })                };                });            </script>        </div>"
      ]
     },
     "metadata": {},
     "output_type": "display_data"
    }
   ],
   "source": [
    "def prod_vs_stock():\n",
    "    # set stock returns dataframes\n",
    "    alt_returns = alt_base().pct_change()\n",
    "    oil_returns = oil_base().pct_change()\n",
    "    weights = [0.25,0.25,0.25,0.25]\n",
    "\n",
    "    alt_port_returns = pd.DataFrame(alt_returns.dot(weights)).dropna()  \n",
    "    oil_port_returns = pd.DataFrame(oil_returns.dot(weights)).dropna()\n",
    "\n",
    "    alt_port_returns.columns = ['Stock Returns (Alt)']\n",
    "    alt_port_returns.reset_index(inplace=True)\n",
    "    alt_port_returns.rename(columns={\"Date\":\"Year\"},inplace=True)\n",
    "    alt_port_returns[\"Year\"] = alt_port_returns[\"Year\"].astype(\"int\")\n",
    "    alt_port_returns.set_index(\"Year\",inplace=True)\n",
    "    \n",
    "    oil_port_returns.columns = ['Stock Returns (Oil)']\n",
    "    oil_port_returns.reset_index(inplace=True)\n",
    "    oil_port_returns.rename(columns={\"Date\":\"Year\"},inplace=True)\n",
    "    oil_port_returns[\"Year\"] = oil_port_returns[\"Year\"].astype(\"int\")\n",
    "    oil_port_returns.set_index(\"Year\",inplace=True)\n",
    "    \n",
    "    # set production dataframes\n",
    "    alt_prod = combined_production.pct_change().dropna().drop(columns=\"Production (Oil)\")\n",
    "    alt_prod.rename(columns={\"Production (Alternative)\":\"Production (Alt)\"},inplace=True)\n",
    "    \n",
    "    oil_prod = combined_production.pct_change().dropna().drop(columns=\"Production (Alternative)\")\n",
    "    \n",
    "    # combined dataframe with all data\n",
    "    combined_df = pd.concat([alt_prod,alt_port_returns,oil_prod,oil_port_returns],axis=\"columns\",join=\"inner\")\n",
    "    combined_df.reset_index(inplace=True)\n",
    "    \n",
    "    # plot with parallel coordinates\n",
    "    plot = px.parallel_coordinates(combined_df,color=\"Year\",title=\"Correlation between Energy Production and Stock Returns by Industry\",width=1200)\n",
    "    \n",
    "    return plot\n",
    "prod_vs_stock()"
   ]
  },
  {
   "cell_type": "code",
   "execution_count": 158,
   "metadata": {},
   "outputs": [
    {
     "name": "stdout",
     "output_type": "stream",
     "text": [
      "[*********************100%***********************]  4 of 4 completed\n",
      "[*********************100%***********************]  4 of 4 completed\n",
      "[*********************100%***********************]  4 of 4 completed\n",
      "[*********************100%***********************]  4 of 4 completed\n",
      "[*********************100%***********************]  4 of 4 completed\n",
      "[*********************100%***********************]  4 of 4 completed\n",
      "[*********************100%***********************]  4 of 4 completed\n",
      "[*********************100%***********************]  4 of 4 completed\n",
      "[*********************100%***********************]  4 of 4 completed\n",
      "[*********************100%***********************]  4 of 4 completed\n",
      "[*********************100%***********************]  4 of 4 completed\n",
      "[*********************100%***********************]  4 of 4 completed\n"
     ]
    }
   ],
   "source": [
    "industry_stock_returns_row = pn.Column(\n",
    "                                    '# What can the stock market tell us about the health of the Oil & Gas industry?',\n",
    "                                    '## Stock Returns by Industry',\n",
    "                                        combined_base(),\n",
    "                                            cumulative_returns()\n",
    ")\n",
    "\n",
    "industry_stock_risk_row = pn.Column(\n",
    "                                '# What can the stock market tell us about the health of the Oil & Gas industry?',\n",
    "                                '## Stock Risk by Industry',\n",
    "                                    five_y_rolling_std,\n",
    "                                        oil_and_alt_std\n",
    ")\n",
    "\n",
    "correlation_row = pn.Column(\n",
    "                        '# Does higher production mean higher stock returns?',\n",
    "                        '## Correlations',\n",
    "                            production_corr(),\n",
    "                            oil_and_alt_correlation,\n",
    "                            prod_vs_stock()\n",
    ")\n",
    "production_row = pn.Column(\n",
    "    '#How much energy is supplied by Oil & Gas vs. Alternative Energy sources?',\n",
    "    '## Annual Energy Production (qBTU) by Industry',\n",
    "    alt_production(),\n",
    "    oil_production(),\n",
    "    comb_production(),\n",
    "\n",
    ")"
   ]
  },
  {
   "cell_type": "code",
   "execution_count": 159,
   "metadata": {},
   "outputs": [],
   "source": [
    "dashboard = pn.Tabs(\n",
    "                ('Annual Production', production_row),\n",
    "                ('Stock Returns', industry_stock_returns_row),\n",
    "                ('Stock Risks', industry_stock_risk_row),\n",
    "                ('Correlations', correlation_row)\n",
    ")"
   ]
  },
  {
   "cell_type": "code",
   "execution_count": 160,
   "metadata": {},
   "outputs": [
    {
     "name": "stdout",
     "output_type": "stream",
     "text": [
      "Launching server at http://localhost:55346\n"
     ]
    },
    {
     "data": {
      "text/plain": [
       "<bokeh.server.server.Server at 0x7faee83d22e0>"
      ]
     },
     "execution_count": 160,
     "metadata": {},
     "output_type": "execute_result"
    }
   ],
   "source": [
    "pn.serve(dashboard)"
   ]
  },
  {
   "cell_type": "code",
   "execution_count": null,
   "metadata": {},
   "outputs": [],
   "source": []
  }
 ],
 "metadata": {
  "kernelspec": {
   "display_name": "Python 3",
   "language": "python",
   "name": "python3"
  },
  "language_info": {
   "codemirror_mode": {
    "name": "ipython",
    "version": 3
   },
   "file_extension": ".py",
   "mimetype": "text/x-python",
   "name": "python",
   "nbconvert_exporter": "python",
   "pygments_lexer": "ipython3",
   "version": "3.8.3"
  }
 },
 "nbformat": 4,
 "nbformat_minor": 4
}
