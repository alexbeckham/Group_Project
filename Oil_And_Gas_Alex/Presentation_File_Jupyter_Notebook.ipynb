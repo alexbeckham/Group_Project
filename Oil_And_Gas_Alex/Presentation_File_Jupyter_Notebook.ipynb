{
 "cells": [
  {
   "cell_type": "markdown",
   "metadata": {
    "slideshow": {
     "slide_type": "slide"
    }
   },
   "source": [
    "<img src=\"Presentation_Images/oil-and-gas-turbines-alternative.jpg\" alt=\"drawing\" width=\"1500\" height=\"857\">        "
   ]
  },
  {
   "cell_type": "markdown",
   "metadata": {
    "slideshow": {
     "slide_type": "slide"
    }
   },
   "source": [
    "## The Oil & Gas industry can be very complex and confusing to understand. We wanted to explore how to best measure the health of this industry in today's world. \n",
    "<img src=\"https://s.hdnux.com/photos/20/04/75/4214654/9/rawImage.jpg\" alt=\"drawing\" width=\"800\" height=\"457\"> \n",
    "\n",
    "\n",
    "\n",
    "\n"
   ]
  },
  {
   "cell_type": "markdown",
   "metadata": {
    "slideshow": {
     "slide_type": "subslide"
    }
   },
   "source": [
    "## Our Questions\n",
    "\n",
    "* How much energy is supplied by Oil & Gas vs Alternative energy sources? \n",
    "* What can the stock market tell us about the health of the Oil & Gas Industry?\n",
    "* Does higher production mean higher stock returns? "
   ]
  },
  {
   "cell_type": "markdown",
   "metadata": {
    "slideshow": {
     "slide_type": "slide"
    }
   },
   "source": [
    "# Data Cleanup & Exploration\n",
    "\n",
    "  Stocks  |  Production\n",
    "      --- | ---\n",
    "![](https://upload.wikimedia.org/wikipedia/commons/thumb/d/da/Yahoo_Finance_Logo_2019.svg/1200px-Yahoo_Finance_Logo_2019.svg.png) | ![](https://upload.wikimedia.org/wikipedia/commons/thumb/1/1f/Energy_Information_Administration_logo.svg/1200px-Energy_Information_Administration_logo.svg.png)\n",
    "\n",
    "![](Presentation_Images/Production.png)\n",
    "![](Presentation_Images/Stocks.png)\n",
    "\n",
    "\n",
    "\n",
    "\n",
    "\n",
    "\n",
    "\n",
    "\n",
    "\n"
   ]
  },
  {
   "cell_type": "markdown",
   "metadata": {
    "slideshow": {
     "slide_type": "subslide"
    }
   },
   "source": [
    "## Production\n",
    "* Read in csvs from EIA with total production for petroleum and total production for nuclear and renewables. \n",
    "* Dropped columns with excess information.\n",
    "* Combined into one data frame\n",
    "\n",
    "## Stocks\n",
    "* Pulled stock price data from Yahoo Finance API:\n",
    "  * Oil and Gas = BP, XOM, CVX, RDS-B\n",
    "  * Alternative =  BLX, CIG, ELP, PLUG- These frequently show up in ETFs\n",
    "* Created data frame with all tickers "
   ]
  },
  {
   "cell_type": "markdown",
   "metadata": {
    "slideshow": {
     "slide_type": "subslide"
    }
   },
   "source": [
    "## Issues\n",
    "\n",
    "* What data to use? What is alternative energy? \n",
    "  * Alternative energy consists of nuclear and carbon neutral sources like sunlight, wind, rain, tides, waves, and geothermal heat.\n",
    "* Stocks- finding enough data. Funds did not go back far enough, so we used individual stocks.\n",
    "* Date matching- alternative stock data only went back  went back to 2000.\n",
    "* Data had to be formatted by years because it came daily."
   ]
  },
  {
   "cell_type": "markdown",
   "metadata": {
    "slideshow": {
     "slide_type": "slide"
    }
   },
   "source": [
    "# Data Analysis\n",
    "\n",
    "## Questions Revisited:\n",
    "* How much energy is supplied by Oil & Gas vs Alternative energy sources? (Annual Production)\n",
    "* What can the stock market tell us about the health of the Oil & Gas Industry? (Stock Returns & Stock Risks)\n",
    "* Does higher production mean higher stock returns? (Correlations)"
   ]
  },
  {
   "cell_type": "markdown",
   "metadata": {
    "slideshow": {
     "slide_type": "slide"
    }
   },
   "source": [
    "## Postmortem\n",
    "\n",
    "![](Headlines.png)\n",
    "\n",
    "It's imporant to note that the viability of the Oil & Gas industry, we have to consider these other uses of oil: \n",
    "  * Transportation fuels\n",
    "  * Fuel oils for heating and electricity generation\n",
    "  * Asphalt and road oil\n",
    "  * Feedstocks for chemicals, plastics, and synthetic materials \n",
    "\n",
    "We would also need to look at stock price fluctuation contributors such as geopolitical events, natural disasters, and price wars.\n",
    "\n",
    "This analysis is static. We are only looking at snapshot of the question. We aren't looking into the future to determine the sustainability of Oil & Gas.  \n"
   ]
  },
  {
   "cell_type": "markdown",
   "metadata": {
    "slideshow": {
     "slide_type": "slide"
    }
   },
   "source": [
    "# Q&A"
   ]
  },
  {
   "cell_type": "code",
   "execution_count": null,
   "metadata": {
    "slideshow": {
     "slide_type": "skip"
    }
   },
   "outputs": [],
   "source": []
  }
 ],
 "metadata": {
  "celltoolbar": "Slideshow",
  "kernelspec": {
   "display_name": "Python 3",
   "language": "python",
   "name": "python3"
  },
  "language_info": {
   "codemirror_mode": {
    "name": "ipython",
    "version": 3
   },
   "file_extension": ".py",
   "mimetype": "text/x-python",
   "name": "python",
   "nbconvert_exporter": "python",
   "pygments_lexer": "ipython3",
   "version": "3.8.5"
  }
 },
 "nbformat": 4,
 "nbformat_minor": 4
}
