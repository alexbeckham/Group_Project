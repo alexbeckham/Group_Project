{
 "cells": [
  {
   "cell_type": "code",
   "execution_count": 12,
   "id": "behind-opportunity",
   "metadata": {},
   "outputs": [],
   "source": [
    "import yfinance as yf\n",
    "import numpy as np\n",
    "import pandas as pd\n",
    "from pathlib import Path\n",
    "import seaborn as sns\n",
    "import hvplot.pandas\n",
    "%matplotlib inline"
   ]
  },
  {
   "cell_type": "code",
   "execution_count": 2,
   "id": "animal-belief",
   "metadata": {},
   "outputs": [
    {
     "data": {
      "text/html": [
       "<div>\n",
       "<style scoped>\n",
       "    .dataframe tbody tr th:only-of-type {\n",
       "        vertical-align: middle;\n",
       "    }\n",
       "\n",
       "    .dataframe tbody tr th {\n",
       "        vertical-align: top;\n",
       "    }\n",
       "\n",
       "    .dataframe thead th {\n",
       "        text-align: right;\n",
       "    }\n",
       "</style>\n",
       "<table border=\"1\" class=\"dataframe\">\n",
       "  <thead>\n",
       "    <tr style=\"text-align: right;\">\n",
       "      <th></th>\n",
       "      <th>level_0</th>\n",
       "      <th>level_1</th>\n",
       "      <th>level_2</th>\n",
       "      <th>Report generated on: 02-08-2021 21:25:26</th>\n",
       "    </tr>\n",
       "  </thead>\n",
       "  <tbody>\n",
       "    <tr>\n",
       "      <th>0</th>\n",
       "      <td>Series Key</td>\n",
       "      <td>INTL.4415-1-USA-QBTU.A</td>\n",
       "      <td>Series Key</td>\n",
       "      <td>INTL.4419-1-USA-QBTU.A</td>\n",
       "    </tr>\n",
       "    <tr>\n",
       "      <th>1</th>\n",
       "      <td>Series Name</td>\n",
       "      <td>Total energy production from petroleum and oth...</td>\n",
       "      <td>Series Name</td>\n",
       "      <td>Total energy production from nuclear, renewabl...</td>\n",
       "    </tr>\n",
       "    <tr>\n",
       "      <th>2</th>\n",
       "      <td>Units</td>\n",
       "      <td>QBTU</td>\n",
       "      <td>Units</td>\n",
       "      <td>QBTU</td>\n",
       "    </tr>\n",
       "    <tr>\n",
       "      <th>3</th>\n",
       "      <td>Frequency</td>\n",
       "      <td>A</td>\n",
       "      <td>Frequency</td>\n",
       "      <td>A</td>\n",
       "    </tr>\n",
       "    <tr>\n",
       "      <th>4</th>\n",
       "      <td>1980</td>\n",
       "      <td>20.474</td>\n",
       "      <td>1980</td>\n",
       "      <td>8.168</td>\n",
       "    </tr>\n",
       "    <tr>\n",
       "      <th>5</th>\n",
       "      <td>1981</td>\n",
       "      <td>20.412</td>\n",
       "      <td>1981</td>\n",
       "      <td>8.421</td>\n",
       "    </tr>\n",
       "    <tr>\n",
       "      <th>6</th>\n",
       "      <td>1982</td>\n",
       "      <td>20.458</td>\n",
       "      <td>1982</td>\n",
       "      <td>9.111</td>\n",
       "    </tr>\n",
       "    <tr>\n",
       "      <th>7</th>\n",
       "      <td>1983</td>\n",
       "      <td>20.528</td>\n",
       "      <td>1983</td>\n",
       "      <td>9.698</td>\n",
       "    </tr>\n",
       "    <tr>\n",
       "      <th>8</th>\n",
       "      <td>1984</td>\n",
       "      <td>21.082</td>\n",
       "      <td>1984</td>\n",
       "      <td>9.99</td>\n",
       "    </tr>\n",
       "    <tr>\n",
       "      <th>9</th>\n",
       "      <td>1985</td>\n",
       "      <td>21.196</td>\n",
       "      <td>1985</td>\n",
       "      <td>10.16</td>\n",
       "    </tr>\n",
       "  </tbody>\n",
       "</table>\n",
       "</div>"
      ],
      "text/plain": [
       "       level_0                                            level_1  \\\n",
       "0   Series Key                             INTL.4415-1-USA-QBTU.A   \n",
       "1  Series Name  Total energy production from petroleum and oth...   \n",
       "2        Units                                               QBTU   \n",
       "3    Frequency                                                  A   \n",
       "4         1980                                             20.474   \n",
       "5         1981                                             20.412   \n",
       "6         1982                                             20.458   \n",
       "7         1983                                             20.528   \n",
       "8         1984                                             21.082   \n",
       "9         1985                                             21.196   \n",
       "\n",
       "       level_2           Report generated on: 02-08-2021 21:25:26  \n",
       "0   Series Key                             INTL.4419-1-USA-QBTU.A  \n",
       "1  Series Name  Total energy production from nuclear, renewabl...  \n",
       "2        Units                                               QBTU  \n",
       "3    Frequency                                                  A  \n",
       "4         1980                                              8.168  \n",
       "5         1981                                              8.421  \n",
       "6         1982                                              9.111  \n",
       "7         1983                                              9.698  \n",
       "8         1984                                               9.99  \n",
       "9         1985                                              10.16  "
      ]
     },
     "execution_count": 2,
     "metadata": {},
     "output_type": "execute_result"
    }
   ],
   "source": [
    "# import total production data for petroleum and alternative energy\n",
    "total_energy_production = pd.read_csv(\"Total_Production.csv\").reset_index()\n",
    "total_energy_production.head(10)"
   ]
  },
  {
   "cell_type": "code",
   "execution_count": 3,
   "id": "organic-ebony",
   "metadata": {},
   "outputs": [
    {
     "data": {
      "text/html": [
       "<div>\n",
       "<style scoped>\n",
       "    .dataframe tbody tr th:only-of-type {\n",
       "        vertical-align: middle;\n",
       "    }\n",
       "\n",
       "    .dataframe tbody tr th {\n",
       "        vertical-align: top;\n",
       "    }\n",
       "\n",
       "    .dataframe thead th {\n",
       "        text-align: right;\n",
       "    }\n",
       "</style>\n",
       "<table border=\"1\" class=\"dataframe\">\n",
       "  <thead>\n",
       "    <tr style=\"text-align: right;\">\n",
       "      <th></th>\n",
       "      <th>level_0</th>\n",
       "      <th>level_1</th>\n",
       "      <th>level_2</th>\n",
       "      <th>Report generated on: 02-08-2021 21:25:26</th>\n",
       "    </tr>\n",
       "  </thead>\n",
       "  <tbody>\n",
       "    <tr>\n",
       "      <th>4</th>\n",
       "      <td>1980</td>\n",
       "      <td>20.474</td>\n",
       "      <td>1980</td>\n",
       "      <td>8.168</td>\n",
       "    </tr>\n",
       "    <tr>\n",
       "      <th>5</th>\n",
       "      <td>1981</td>\n",
       "      <td>20.412</td>\n",
       "      <td>1981</td>\n",
       "      <td>8.421</td>\n",
       "    </tr>\n",
       "    <tr>\n",
       "      <th>6</th>\n",
       "      <td>1982</td>\n",
       "      <td>20.458</td>\n",
       "      <td>1982</td>\n",
       "      <td>9.111</td>\n",
       "    </tr>\n",
       "    <tr>\n",
       "      <th>7</th>\n",
       "      <td>1983</td>\n",
       "      <td>20.528</td>\n",
       "      <td>1983</td>\n",
       "      <td>9.698</td>\n",
       "    </tr>\n",
       "    <tr>\n",
       "      <th>8</th>\n",
       "      <td>1984</td>\n",
       "      <td>21.082</td>\n",
       "      <td>1984</td>\n",
       "      <td>9.99</td>\n",
       "    </tr>\n",
       "  </tbody>\n",
       "</table>\n",
       "</div>"
      ],
      "text/plain": [
       "  level_0 level_1 level_2 Report generated on: 02-08-2021 21:25:26\n",
       "4    1980  20.474    1980                                    8.168\n",
       "5    1981  20.412    1981                                    8.421\n",
       "6    1982  20.458    1982                                    9.111\n",
       "7    1983  20.528    1983                                    9.698\n",
       "8    1984  21.082    1984                                     9.99"
      ]
     },
     "execution_count": 3,
     "metadata": {},
     "output_type": "execute_result"
    }
   ],
   "source": [
    "# drop the additional rows that do not contain data by year\n",
    "total_energy_production.drop([0,1,2,3],inplace=True)\n",
    "total_energy_production.head()"
   ]
  },
  {
   "cell_type": "code",
   "execution_count": 4,
   "id": "separated-opinion",
   "metadata": {},
   "outputs": [
    {
     "data": {
      "text/html": [
       "<div>\n",
       "<style scoped>\n",
       "    .dataframe tbody tr th:only-of-type {\n",
       "        vertical-align: middle;\n",
       "    }\n",
       "\n",
       "    .dataframe tbody tr th {\n",
       "        vertical-align: top;\n",
       "    }\n",
       "\n",
       "    .dataframe thead th {\n",
       "        text-align: right;\n",
       "    }\n",
       "</style>\n",
       "<table border=\"1\" class=\"dataframe\">\n",
       "  <thead>\n",
       "    <tr style=\"text-align: right;\">\n",
       "      <th></th>\n",
       "      <th>Year</th>\n",
       "      <th>Total petroleum energy production qBtu</th>\n",
       "      <th>Year2</th>\n",
       "      <th>Total alternative energy production qBtu</th>\n",
       "    </tr>\n",
       "  </thead>\n",
       "  <tbody>\n",
       "    <tr>\n",
       "      <th>4</th>\n",
       "      <td>1980</td>\n",
       "      <td>20.474</td>\n",
       "      <td>1980</td>\n",
       "      <td>8.168</td>\n",
       "    </tr>\n",
       "    <tr>\n",
       "      <th>5</th>\n",
       "      <td>1981</td>\n",
       "      <td>20.412</td>\n",
       "      <td>1981</td>\n",
       "      <td>8.421</td>\n",
       "    </tr>\n",
       "    <tr>\n",
       "      <th>6</th>\n",
       "      <td>1982</td>\n",
       "      <td>20.458</td>\n",
       "      <td>1982</td>\n",
       "      <td>9.111</td>\n",
       "    </tr>\n",
       "    <tr>\n",
       "      <th>7</th>\n",
       "      <td>1983</td>\n",
       "      <td>20.528</td>\n",
       "      <td>1983</td>\n",
       "      <td>9.698</td>\n",
       "    </tr>\n",
       "    <tr>\n",
       "      <th>8</th>\n",
       "      <td>1984</td>\n",
       "      <td>21.082</td>\n",
       "      <td>1984</td>\n",
       "      <td>9.99</td>\n",
       "    </tr>\n",
       "  </tbody>\n",
       "</table>\n",
       "</div>"
      ],
      "text/plain": [
       "   Year Total petroleum energy production qBtu Year2  \\\n",
       "4  1980                                 20.474  1980   \n",
       "5  1981                                 20.412  1981   \n",
       "6  1982                                 20.458  1982   \n",
       "7  1983                                 20.528  1983   \n",
       "8  1984                                 21.082  1984   \n",
       "\n",
       "  Total alternative energy production qBtu  \n",
       "4                                    8.168  \n",
       "5                                    8.421  \n",
       "6                                    9.111  \n",
       "7                                    9.698  \n",
       "8                                     9.99  "
      ]
     },
     "execution_count": 4,
     "metadata": {},
     "output_type": "execute_result"
    }
   ],
   "source": [
    "# rename the columns to the correct names\n",
    "total_energy_production.rename(columns={\n",
    "    \"level_0\":\"Year\",\n",
    "    \"level_1\":\"Total petroleum energy production qBtu\",\n",
    "    \"level_2\":\"Year2\",\n",
    "    \"Report generated on: 02-08-2021 21:25:26\":\"Total alternative energy production qBtu\"},inplace=True)\n",
    "total_energy_production.head()"
   ]
  },
  {
   "cell_type": "code",
   "execution_count": 5,
   "id": "amazing-neighborhood",
   "metadata": {},
   "outputs": [],
   "source": [
    "# create separate dataframes\n",
    "petroleum_production = total_energy_production.drop(columns=[\"Year2\",\"Total alternative energy production qBtu\"])\n",
    "alternative_production = total_energy_production.drop(columns=[\"Year\",\"Total petroleum energy production qBtu\"]).rename(columns={\"Year2\":\"Year\"})"
   ]
  },
  {
   "cell_type": "code",
   "execution_count": 6,
   "id": "approved-secretary",
   "metadata": {},
   "outputs": [],
   "source": [
    "# check dtypes of columns to see if need to change\n",
    "# petroleum_production.info()\n",
    "# alternative_production.info()"
   ]
  },
  {
   "cell_type": "code",
   "execution_count": 24,
   "id": "latter-massage",
   "metadata": {},
   "outputs": [
    {
     "data": {
      "text/html": [
       "<div>\n",
       "<style scoped>\n",
       "    .dataframe tbody tr th:only-of-type {\n",
       "        vertical-align: middle;\n",
       "    }\n",
       "\n",
       "    .dataframe tbody tr th {\n",
       "        vertical-align: top;\n",
       "    }\n",
       "\n",
       "    .dataframe thead th {\n",
       "        text-align: right;\n",
       "    }\n",
       "</style>\n",
       "<table border=\"1\" class=\"dataframe\">\n",
       "  <thead>\n",
       "    <tr style=\"text-align: right;\">\n",
       "      <th></th>\n",
       "      <th>Total petroleum energy production qBtu</th>\n",
       "    </tr>\n",
       "    <tr>\n",
       "      <th>Year</th>\n",
       "      <th></th>\n",
       "    </tr>\n",
       "  </thead>\n",
       "  <tbody>\n",
       "    <tr>\n",
       "      <th>1980</th>\n",
       "      <td>20.474</td>\n",
       "    </tr>\n",
       "    <tr>\n",
       "      <th>1981</th>\n",
       "      <td>20.412</td>\n",
       "    </tr>\n",
       "    <tr>\n",
       "      <th>1982</th>\n",
       "      <td>20.458</td>\n",
       "    </tr>\n",
       "    <tr>\n",
       "      <th>1983</th>\n",
       "      <td>20.528</td>\n",
       "    </tr>\n",
       "    <tr>\n",
       "      <th>1984</th>\n",
       "      <td>21.082</td>\n",
       "    </tr>\n",
       "  </tbody>\n",
       "</table>\n",
       "</div>"
      ],
      "text/plain": [
       "      Total petroleum energy production qBtu\n",
       "Year                                        \n",
       "1980                                  20.474\n",
       "1981                                  20.412\n",
       "1982                                  20.458\n",
       "1983                                  20.528\n",
       "1984                                  21.082"
      ]
     },
     "execution_count": 24,
     "metadata": {},
     "output_type": "execute_result"
    }
   ],
   "source": [
    "# change dtypes for petroleum production dataframe\n",
    "petroleum_production[\"Total petroleum energy production qBtu\"] = petroleum_production[\"Total petroleum energy production qBtu\"].astype(\"float\")\n",
    "petroleum_production[\"Year\"] = petroleum_production[\"Year\"].astype(\"int\")\n",
    "petroleum_production.set_index(\"Year\",inplace=True)\n",
    "petroleum_production.head()"
   ]
  },
  {
   "cell_type": "code",
   "execution_count": 25,
   "id": "laughing-farming",
   "metadata": {},
   "outputs": [
    {
     "data": {
      "text/html": [
       "<div>\n",
       "<style scoped>\n",
       "    .dataframe tbody tr th:only-of-type {\n",
       "        vertical-align: middle;\n",
       "    }\n",
       "\n",
       "    .dataframe tbody tr th {\n",
       "        vertical-align: top;\n",
       "    }\n",
       "\n",
       "    .dataframe thead th {\n",
       "        text-align: right;\n",
       "    }\n",
       "</style>\n",
       "<table border=\"1\" class=\"dataframe\">\n",
       "  <thead>\n",
       "    <tr style=\"text-align: right;\">\n",
       "      <th></th>\n",
       "      <th>Total alternative energy production qBtu</th>\n",
       "    </tr>\n",
       "    <tr>\n",
       "      <th>Year</th>\n",
       "      <th></th>\n",
       "    </tr>\n",
       "  </thead>\n",
       "  <tbody>\n",
       "    <tr>\n",
       "      <th>1980</th>\n",
       "      <td>8.168</td>\n",
       "    </tr>\n",
       "    <tr>\n",
       "      <th>1981</th>\n",
       "      <td>8.421</td>\n",
       "    </tr>\n",
       "    <tr>\n",
       "      <th>1982</th>\n",
       "      <td>9.111</td>\n",
       "    </tr>\n",
       "    <tr>\n",
       "      <th>1983</th>\n",
       "      <td>9.698</td>\n",
       "    </tr>\n",
       "    <tr>\n",
       "      <th>1984</th>\n",
       "      <td>9.990</td>\n",
       "    </tr>\n",
       "  </tbody>\n",
       "</table>\n",
       "</div>"
      ],
      "text/plain": [
       "      Total alternative energy production qBtu\n",
       "Year                                          \n",
       "1980                                     8.168\n",
       "1981                                     8.421\n",
       "1982                                     9.111\n",
       "1983                                     9.698\n",
       "1984                                     9.990"
      ]
     },
     "execution_count": 25,
     "metadata": {},
     "output_type": "execute_result"
    }
   ],
   "source": [
    "# change dtypes for alternative production dataframe\n",
    "alternative_production[\"Total alternative energy production qBtu\"] = alternative_production[\"Total alternative energy production qBtu\"].astype(\"float\")\n",
    "alternative_production[\"Year\"] = alternative_production[\"Year\"].astype(\"int\")\n",
    "alternative_production.set_index(\"Year\",inplace=True)\n",
    "alternative_production.head()"
   ]
  },
  {
   "cell_type": "code",
   "execution_count": 26,
   "id": "pointed-designation",
   "metadata": {},
   "outputs": [
    {
     "data": {},
     "metadata": {},
     "output_type": "display_data"
    },
    {
     "data": {
      "application/vnd.holoviews_exec.v0+json": "",
      "text/html": [
       "<div id='2489'>\n",
       "\n",
       "\n",
       "\n",
       "\n",
       "\n",
       "  <div class=\"bk-root\" id=\"2e97085b-4e68-445e-8eee-ba4bcd562def\" data-root-id=\"2489\"></div>\n",
       "</div>\n",
       "<script type=\"application/javascript\">(function(root) {\n",
       "  function embed_document(root) {\n",
       "  var docs_json = {\"7017de93-b543-4411-af8d-6017abdf5dd4\":{\"roots\":{\"references\":[{\"attributes\":{},\"id\":\"2508\",\"type\":\"BasicTicker\"},{\"attributes\":{},\"id\":\"2501\",\"type\":\"LinearScale\"},{\"attributes\":{},\"id\":\"2541\",\"type\":\"UnionRenderers\"},{\"attributes\":{\"below\":[{\"id\":\"2503\"}],\"center\":[{\"id\":\"2506\"},{\"id\":\"2510\"}],\"left\":[{\"id\":\"2507\"}],\"margin\":null,\"min_border_bottom\":10,\"min_border_left\":10,\"min_border_right\":10,\"min_border_top\":10,\"plot_height\":300,\"plot_width\":700,\"renderers\":[{\"id\":\"2530\"}],\"sizing_mode\":\"fixed\",\"title\":{\"id\":\"2495\"},\"toolbar\":{\"id\":\"2517\"},\"x_range\":{\"id\":\"2491\"},\"x_scale\":{\"id\":\"2499\"},\"y_range\":{\"id\":\"2492\"},\"y_scale\":{\"id\":\"2501\"}},\"id\":\"2494\",\"subtype\":\"Figure\",\"type\":\"Plot\"},{\"attributes\":{},\"id\":\"2504\",\"type\":\"BasicTicker\"},{\"attributes\":{\"axis_label\":\"Total petroleum energy production qBtu\",\"bounds\":\"auto\",\"formatter\":{\"id\":\"2535\"},\"major_label_orientation\":\"horizontal\",\"ticker\":{\"id\":\"2508\"}},\"id\":\"2507\",\"type\":\"LinearAxis\"},{\"attributes\":{\"axis\":{\"id\":\"2507\"},\"dimension\":1,\"grid_line_color\":null,\"ticker\":null},\"id\":\"2510\",\"type\":\"Grid\"},{\"attributes\":{},\"id\":\"2512\",\"type\":\"PanTool\"},{\"attributes\":{},\"id\":\"2535\",\"type\":\"BasicTickFormatter\"},{\"attributes\":{\"margin\":[5,5,5,5],\"name\":\"HSpacer04428\",\"sizing_mode\":\"stretch_width\"},\"id\":\"2490\",\"type\":\"Spacer\"},{\"attributes\":{},\"id\":\"2511\",\"type\":\"SaveTool\"},{\"attributes\":{},\"id\":\"2513\",\"type\":\"WheelZoomTool\"},{\"attributes\":{\"axis\":{\"id\":\"2503\"},\"grid_line_color\":null,\"ticker\":null},\"id\":\"2506\",\"type\":\"Grid\"},{\"attributes\":{\"overlay\":{\"id\":\"2516\"}},\"id\":\"2514\",\"type\":\"BoxZoomTool\"},{\"attributes\":{},\"id\":\"2525\",\"type\":\"Selection\"},{\"attributes\":{},\"id\":\"2515\",\"type\":\"ResetTool\"},{\"attributes\":{\"data_source\":{\"id\":\"2524\"},\"glyph\":{\"id\":\"2527\"},\"hover_glyph\":null,\"muted_glyph\":{\"id\":\"2529\"},\"nonselection_glyph\":{\"id\":\"2528\"},\"selection_glyph\":null,\"view\":{\"id\":\"2531\"}},\"id\":\"2530\",\"type\":\"GlyphRenderer\"},{\"attributes\":{\"active_drag\":\"auto\",\"active_inspect\":\"auto\",\"active_multi\":null,\"active_scroll\":\"auto\",\"active_tap\":\"auto\",\"tools\":[{\"id\":\"2493\"},{\"id\":\"2511\"},{\"id\":\"2512\"},{\"id\":\"2513\"},{\"id\":\"2514\"},{\"id\":\"2515\"}]},\"id\":\"2517\",\"type\":\"Toolbar\"},{\"attributes\":{\"line_color\":\"#1f77b3\",\"line_width\":2,\"x\":{\"field\":\"Year\"},\"y\":{\"field\":\"Total petroleum energy production qBtu\"}},\"id\":\"2527\",\"type\":\"Line\"},{\"attributes\":{\"children\":[{\"id\":\"2490\"},{\"id\":\"2494\"},{\"id\":\"2544\"}],\"margin\":[0,0,0,0],\"name\":\"Row04424\",\"tags\":[\"embedded\"]},\"id\":\"2489\",\"type\":\"Row\"},{\"attributes\":{\"text\":\"Annual Energy Production from Petroleum\",\"text_color\":{\"value\":\"black\"},\"text_font_size\":{\"value\":\"12pt\"}},\"id\":\"2495\",\"type\":\"Title\"},{\"attributes\":{\"line_alpha\":0.1,\"line_color\":\"#1f77b3\",\"line_width\":2,\"x\":{\"field\":\"Year\"},\"y\":{\"field\":\"Total petroleum energy production qBtu\"}},\"id\":\"2528\",\"type\":\"Line\"},{\"attributes\":{\"line_alpha\":0.2,\"line_color\":\"#1f77b3\",\"line_width\":2,\"x\":{\"field\":\"Year\"},\"y\":{\"field\":\"Total petroleum energy production qBtu\"}},\"id\":\"2529\",\"type\":\"Line\"},{\"attributes\":{\"source\":{\"id\":\"2524\"}},\"id\":\"2531\",\"type\":\"CDSView\"},{\"attributes\":{},\"id\":\"2499\",\"type\":\"LinearScale\"},{\"attributes\":{\"data\":{\"Total petroleum energy production qBtu\":{\"__ndarray__\":\"001iEFh5NEC28/3UeGk0QGiR7Xw/dTRAukkMAiuHNECiRbbz/RQ1QBkEVg4tMjVAd76fGi99NEC0yHa+n9ozQMP1KFyPgjNAPQrXo3A9MkAv3SQGgbUxQJ7vp8ZL9zFA7FG4HoWLMUAj2/l+atwwQMHKoUW2czBAKVyPwvVIMECHFtnO9zMwQO58PzVeGjBAEFg5tMg2L0AMAiuHFtktQFK4HoXr0S1AJQaBlUOLLUBt5/up8VItQFCNl24SgyxA0SLb+X7qK0A1XrpJDIIqQOF6FK5HISpArkfhehQuKkAZBFYOLfIpQBkEVg4tsitA4XoUrkehLEAtsp3vp8YtQBsv3SQGATFAN4lBYOVQM0DpJjEIrJw2QOOlm8QgMDhAwcqhRbYzN0DjpZvEIJA4QB1aZDvfjzxA\",\"dtype\":\"float64\",\"shape\":[39]},\"Total_petroleum_energy_production_qBtu\":{\"__ndarray__\":\"001iEFh5NEC28/3UeGk0QGiR7Xw/dTRAukkMAiuHNECiRbbz/RQ1QBkEVg4tMjVAd76fGi99NEC0yHa+n9ozQMP1KFyPgjNAPQrXo3A9MkAv3SQGgbUxQJ7vp8ZL9zFA7FG4HoWLMUAj2/l+atwwQMHKoUW2czBAKVyPwvVIMECHFtnO9zMwQO58PzVeGjBAEFg5tMg2L0AMAiuHFtktQFK4HoXr0S1AJQaBlUOLLUBt5/up8VItQFCNl24SgyxA0SLb+X7qK0A1XrpJDIIqQOF6FK5HISpArkfhehQuKkAZBFYOLfIpQBkEVg4tsitA4XoUrkehLEAtsp3vp8YtQBsv3SQGATFAN4lBYOVQM0DpJjEIrJw2QOOlm8QgMDhAwcqhRbYzN0DjpZvEIJA4QB1aZDvfjzxA\",\"dtype\":\"float64\",\"shape\":[39]},\"Year\":[1980,1981,1982,1983,1984,1985,1986,1987,1988,1989,1990,1991,1992,1993,1994,1995,1996,1997,1998,1999,2000,2001,2002,2003,2004,2005,2006,2007,2008,2009,2010,2011,2012,2013,2014,2015,2016,2017,2018]},\"selected\":{\"id\":\"2525\"},\"selection_policy\":{\"id\":\"2541\"}},\"id\":\"2524\",\"type\":\"ColumnDataSource\"},{\"attributes\":{\"end\":2018.0,\"reset_end\":2018.0,\"reset_start\":1980.0,\"start\":1980.0,\"tags\":[[[\"Year\",\"Year\",null]]]},\"id\":\"2491\",\"type\":\"Range1d\"},{\"attributes\":{\"callback\":null,\"renderers\":[{\"id\":\"2530\"}],\"tags\":[\"hv_created\"],\"tooltips\":[[\"Year\",\"@{Year}\"],[\"Total petroleum energy production qBtu\",\"@{Total_petroleum_energy_production_qBtu}\"]]},\"id\":\"2493\",\"type\":\"HoverTool\"},{\"attributes\":{\"bottom_units\":\"screen\",\"fill_alpha\":0.5,\"fill_color\":\"lightgrey\",\"left_units\":\"screen\",\"level\":\"overlay\",\"line_alpha\":1.0,\"line_color\":\"black\",\"line_dash\":[4,4],\"line_width\":2,\"render_mode\":\"css\",\"right_units\":\"screen\",\"top_units\":\"screen\"},\"id\":\"2516\",\"type\":\"BoxAnnotation\"},{\"attributes\":{\"margin\":[5,5,5,5],\"name\":\"HSpacer04429\",\"sizing_mode\":\"stretch_width\"},\"id\":\"2544\",\"type\":\"Spacer\"},{\"attributes\":{},\"id\":\"2533\",\"type\":\"BasicTickFormatter\"},{\"attributes\":{\"end\":30.120900000000002,\"reset_end\":30.120900000000002,\"reset_start\":11.414100000000001,\"start\":11.414100000000001,\"tags\":[[[\"Total petroleum energy production qBtu\",\"Total petroleum energy production qBtu\",null]]]},\"id\":\"2492\",\"type\":\"Range1d\"},{\"attributes\":{\"axis_label\":\"Year\",\"bounds\":\"auto\",\"formatter\":{\"id\":\"2533\"},\"major_label_orientation\":\"horizontal\",\"ticker\":{\"id\":\"2504\"}},\"id\":\"2503\",\"type\":\"LinearAxis\"}],\"root_ids\":[\"2489\"]},\"title\":\"Bokeh Application\",\"version\":\"2.0.2\"}};\n",
       "  var render_items = [{\"docid\":\"7017de93-b543-4411-af8d-6017abdf5dd4\",\"root_ids\":[\"2489\"],\"roots\":{\"2489\":\"2e97085b-4e68-445e-8eee-ba4bcd562def\"}}];\n",
       "  root.Bokeh.embed.embed_items_notebook(docs_json, render_items);\n",
       "  }\n",
       "if (root.Bokeh !== undefined) {\n",
       "    embed_document(root);\n",
       "  } else {\n",
       "    var attempts = 0;\n",
       "    var timer = setInterval(function(root) {\n",
       "      if (root.Bokeh !== undefined) {\n",
       "        clearInterval(timer);\n",
       "        embed_document(root);\n",
       "      } else if (document.readyState == \"complete\") {\n",
       "        attempts++;\n",
       "        if (attempts > 100) {\n",
       "          clearInterval(timer);\n",
       "          console.log(\"Bokeh: ERROR: Unable to run BokehJS code because BokehJS library is missing\");\n",
       "        }\n",
       "      }\n",
       "    }, 10, root)\n",
       "  }\n",
       "})(window);</script>"
      ],
      "text/plain": [
       ":Curve   [Year]   (Total petroleum energy production qBtu)"
      ]
     },
     "execution_count": 26,
     "metadata": {
      "application/vnd.holoviews_exec.v0+json": {
       "id": "2489"
      }
     },
     "output_type": "execute_result"
    }
   ],
   "source": [
    "# plot for yearly production for petroleum\n",
    "petroleum_production.hvplot.line(title=\"Annual Energy Production from Petroleum\")"
   ]
  },
  {
   "cell_type": "code",
   "execution_count": 27,
   "id": "affected-atlanta",
   "metadata": {},
   "outputs": [
    {
     "data": {},
     "metadata": {},
     "output_type": "display_data"
    },
    {
     "data": {
      "application/vnd.holoviews_exec.v0+json": "",
      "text/html": [
       "<div id='2586'>\n",
       "\n",
       "\n",
       "\n",
       "\n",
       "\n",
       "  <div class=\"bk-root\" id=\"a2915903-bbb6-4b00-a6e3-f5a77eb3f7b7\" data-root-id=\"2586\"></div>\n",
       "</div>\n",
       "<script type=\"application/javascript\">(function(root) {\n",
       "  function embed_document(root) {\n",
       "  var docs_json = {\"1abb117d-b246-424f-a799-cdff52a8672d\":{\"roots\":{\"references\":[{\"attributes\":{},\"id\":\"2596\",\"type\":\"LinearScale\"},{\"attributes\":{},\"id\":\"2638\",\"type\":\"UnionRenderers\"},{\"attributes\":{\"end\":21.123800000000003,\"reset_end\":21.123800000000003,\"reset_start\":6.990199999999999,\"start\":6.990199999999999,\"tags\":[[[\"Total alternative energy production qBtu\",\"Total alternative energy production qBtu\",null]]]},\"id\":\"2589\",\"type\":\"Range1d\"},{\"attributes\":{\"axis_label\":\"Total alternative energy production qBtu\",\"bounds\":\"auto\",\"formatter\":{\"id\":\"2632\"},\"major_label_orientation\":\"horizontal\",\"ticker\":{\"id\":\"2605\"}},\"id\":\"2604\",\"type\":\"LinearAxis\"},{\"attributes\":{},\"id\":\"2622\",\"type\":\"Selection\"},{\"attributes\":{\"children\":[{\"id\":\"2587\"},{\"id\":\"2591\"},{\"id\":\"2641\"}],\"margin\":[0,0,0,0],\"name\":\"Row04602\",\"tags\":[\"embedded\"]},\"id\":\"2586\",\"type\":\"Row\"},{\"attributes\":{\"data\":{\"Total alternative energy production qBtu\":{\"__ndarray__\":\"vHSTGARWIEBkO99PjdcgQEa28/3UOCJATDeJQWBlI0B7FK5H4fojQFK4HoXrUSRACKwcWmT7JECNl24Sg8AkQEoMAiuHFiZABoGVQ4usJ0B9PzVeukkoQHsUrkfh+ihAmpmZmZmZKECWQ4ts5/soQOkmMQisXClAarx0kxhEK0AZBFYOLTIsQO58PzVeOitArBxaZDsfK0CNl24Sg0AsQCGwcmiR7StAbxKDwMphKkCNl24Sg8ArQOf7qfHSzStAUrgeheuRLEDdJAaBlcMsQCcxCKwcmi1A46WbxCDwLUAj2/l+ajwvQPYoXI/C9S9Ac2iR7Xy/MEDFILByaJExQKabxCCw8jBAtvP91HipMUC0yHa+nxoyQDeJQWDlEDJAmpmZmZnZMkA9CtejcJ0zQBkEVg4t8jNA\",\"dtype\":\"float64\",\"shape\":[39]},\"Total_alternative_energy_production_qBtu\":{\"__ndarray__\":\"vHSTGARWIEBkO99PjdcgQEa28/3UOCJATDeJQWBlI0B7FK5H4fojQFK4HoXrUSRACKwcWmT7JECNl24Sg8AkQEoMAiuHFiZABoGVQ4usJ0B9PzVeukkoQHsUrkfh+ihAmpmZmZmZKECWQ4ts5/soQOkmMQisXClAarx0kxhEK0AZBFYOLTIsQO58PzVeOitArBxaZDsfK0CNl24Sg0AsQCGwcmiR7StAbxKDwMphKkCNl24Sg8ArQOf7qfHSzStAUrgeheuRLEDdJAaBlcMsQCcxCKwcmi1A46WbxCDwLUAj2/l+ajwvQPYoXI/C9S9Ac2iR7Xy/MEDFILByaJExQKabxCCw8jBAtvP91HipMUC0yHa+nxoyQDeJQWDlEDJAmpmZmZnZMkA9CtejcJ0zQBkEVg4t8jNA\",\"dtype\":\"float64\",\"shape\":[39]},\"Year\":[1980,1981,1982,1983,1984,1985,1986,1987,1988,1989,1990,1991,1992,1993,1994,1995,1996,1997,1998,1999,2000,2001,2002,2003,2004,2005,2006,2007,2008,2009,2010,2011,2012,2013,2014,2015,2016,2017,2018]},\"selected\":{\"id\":\"2622\"},\"selection_policy\":{\"id\":\"2638\"}},\"id\":\"2621\",\"type\":\"ColumnDataSource\"},{\"attributes\":{\"overlay\":{\"id\":\"2613\"}},\"id\":\"2611\",\"type\":\"BoxZoomTool\"},{\"attributes\":{\"text\":\"Annual Energy Production from Alternative Energy\",\"text_color\":{\"value\":\"black\"},\"text_font_size\":{\"value\":\"12pt\"}},\"id\":\"2592\",\"type\":\"Title\"},{\"attributes\":{\"line_alpha\":0.1,\"line_color\":\"#1f77b3\",\"line_width\":2,\"x\":{\"field\":\"Year\"},\"y\":{\"field\":\"Total alternative energy production qBtu\"}},\"id\":\"2625\",\"type\":\"Line\"},{\"attributes\":{\"below\":[{\"id\":\"2600\"}],\"center\":[{\"id\":\"2603\"},{\"id\":\"2607\"}],\"left\":[{\"id\":\"2604\"}],\"margin\":null,\"min_border_bottom\":10,\"min_border_left\":10,\"min_border_right\":10,\"min_border_top\":10,\"plot_height\":300,\"plot_width\":700,\"renderers\":[{\"id\":\"2627\"}],\"sizing_mode\":\"fixed\",\"title\":{\"id\":\"2592\"},\"toolbar\":{\"id\":\"2614\"},\"x_range\":{\"id\":\"2588\"},\"x_scale\":{\"id\":\"2596\"},\"y_range\":{\"id\":\"2589\"},\"y_scale\":{\"id\":\"2598\"}},\"id\":\"2591\",\"subtype\":\"Figure\",\"type\":\"Plot\"},{\"attributes\":{\"margin\":[5,5,5,5],\"name\":\"HSpacer04606\",\"sizing_mode\":\"stretch_width\"},\"id\":\"2587\",\"type\":\"Spacer\"},{\"attributes\":{\"source\":{\"id\":\"2621\"}},\"id\":\"2628\",\"type\":\"CDSView\"},{\"attributes\":{},\"id\":\"2609\",\"type\":\"PanTool\"},{\"attributes\":{\"end\":2018.0,\"reset_end\":2018.0,\"reset_start\":1980.0,\"start\":1980.0,\"tags\":[[[\"Year\",\"Year\",null]]]},\"id\":\"2588\",\"type\":\"Range1d\"},{\"attributes\":{\"axis_label\":\"Year\",\"bounds\":\"auto\",\"formatter\":{\"id\":\"2630\"},\"major_label_orientation\":\"horizontal\",\"ticker\":{\"id\":\"2601\"}},\"id\":\"2600\",\"type\":\"LinearAxis\"},{\"attributes\":{},\"id\":\"2601\",\"type\":\"BasicTicker\"},{\"attributes\":{\"bottom_units\":\"screen\",\"fill_alpha\":0.5,\"fill_color\":\"lightgrey\",\"left_units\":\"screen\",\"level\":\"overlay\",\"line_alpha\":1.0,\"line_color\":\"black\",\"line_dash\":[4,4],\"line_width\":2,\"render_mode\":\"css\",\"right_units\":\"screen\",\"top_units\":\"screen\"},\"id\":\"2613\",\"type\":\"BoxAnnotation\"},{\"attributes\":{},\"id\":\"2605\",\"type\":\"BasicTicker\"},{\"attributes\":{\"callback\":null,\"renderers\":[{\"id\":\"2627\"}],\"tags\":[\"hv_created\"],\"tooltips\":[[\"Year\",\"@{Year}\"],[\"Total alternative energy production qBtu\",\"@{Total_alternative_energy_production_qBtu}\"]]},\"id\":\"2590\",\"type\":\"HoverTool\"},{\"attributes\":{\"margin\":[5,5,5,5],\"name\":\"HSpacer04607\",\"sizing_mode\":\"stretch_width\"},\"id\":\"2641\",\"type\":\"Spacer\"},{\"attributes\":{\"line_color\":\"#1f77b3\",\"line_width\":2,\"x\":{\"field\":\"Year\"},\"y\":{\"field\":\"Total alternative energy production qBtu\"}},\"id\":\"2624\",\"type\":\"Line\"},{\"attributes\":{\"axis\":{\"id\":\"2600\"},\"grid_line_color\":null,\"ticker\":null},\"id\":\"2603\",\"type\":\"Grid\"},{\"attributes\":{},\"id\":\"2632\",\"type\":\"BasicTickFormatter\"},{\"attributes\":{},\"id\":\"2598\",\"type\":\"LinearScale\"},{\"attributes\":{\"line_alpha\":0.2,\"line_color\":\"#1f77b3\",\"line_width\":2,\"x\":{\"field\":\"Year\"},\"y\":{\"field\":\"Total alternative energy production qBtu\"}},\"id\":\"2626\",\"type\":\"Line\"},{\"attributes\":{},\"id\":\"2608\",\"type\":\"SaveTool\"},{\"attributes\":{},\"id\":\"2610\",\"type\":\"WheelZoomTool\"},{\"attributes\":{},\"id\":\"2612\",\"type\":\"ResetTool\"},{\"attributes\":{\"data_source\":{\"id\":\"2621\"},\"glyph\":{\"id\":\"2624\"},\"hover_glyph\":null,\"muted_glyph\":{\"id\":\"2626\"},\"nonselection_glyph\":{\"id\":\"2625\"},\"selection_glyph\":null,\"view\":{\"id\":\"2628\"}},\"id\":\"2627\",\"type\":\"GlyphRenderer\"},{\"attributes\":{\"axis\":{\"id\":\"2604\"},\"dimension\":1,\"grid_line_color\":null,\"ticker\":null},\"id\":\"2607\",\"type\":\"Grid\"},{\"attributes\":{\"active_drag\":\"auto\",\"active_inspect\":\"auto\",\"active_multi\":null,\"active_scroll\":\"auto\",\"active_tap\":\"auto\",\"tools\":[{\"id\":\"2590\"},{\"id\":\"2608\"},{\"id\":\"2609\"},{\"id\":\"2610\"},{\"id\":\"2611\"},{\"id\":\"2612\"}]},\"id\":\"2614\",\"type\":\"Toolbar\"},{\"attributes\":{},\"id\":\"2630\",\"type\":\"BasicTickFormatter\"}],\"root_ids\":[\"2586\"]},\"title\":\"Bokeh Application\",\"version\":\"2.0.2\"}};\n",
       "  var render_items = [{\"docid\":\"1abb117d-b246-424f-a799-cdff52a8672d\",\"root_ids\":[\"2586\"],\"roots\":{\"2586\":\"a2915903-bbb6-4b00-a6e3-f5a77eb3f7b7\"}}];\n",
       "  root.Bokeh.embed.embed_items_notebook(docs_json, render_items);\n",
       "  }\n",
       "if (root.Bokeh !== undefined) {\n",
       "    embed_document(root);\n",
       "  } else {\n",
       "    var attempts = 0;\n",
       "    var timer = setInterval(function(root) {\n",
       "      if (root.Bokeh !== undefined) {\n",
       "        clearInterval(timer);\n",
       "        embed_document(root);\n",
       "      } else if (document.readyState == \"complete\") {\n",
       "        attempts++;\n",
       "        if (attempts > 100) {\n",
       "          clearInterval(timer);\n",
       "          console.log(\"Bokeh: ERROR: Unable to run BokehJS code because BokehJS library is missing\");\n",
       "        }\n",
       "      }\n",
       "    }, 10, root)\n",
       "  }\n",
       "})(window);</script>"
      ],
      "text/plain": [
       ":Curve   [Year]   (Total alternative energy production qBtu)"
      ]
     },
     "execution_count": 27,
     "metadata": {
      "application/vnd.holoviews_exec.v0+json": {
       "id": "2586"
      }
     },
     "output_type": "execute_result"
    }
   ],
   "source": [
    "# plot for yearly production of alternative energy\n",
    "alternative_production.hvplot.line(title=\"Annual Energy Production from Alternative Energy\")"
   ]
  },
  {
   "cell_type": "code",
   "execution_count": 41,
   "id": "continent-return",
   "metadata": {},
   "outputs": [
    {
     "data": {
      "text/html": [
       "<div>\n",
       "<style scoped>\n",
       "    .dataframe tbody tr th:only-of-type {\n",
       "        vertical-align: middle;\n",
       "    }\n",
       "\n",
       "    .dataframe tbody tr th {\n",
       "        vertical-align: top;\n",
       "    }\n",
       "\n",
       "    .dataframe thead th {\n",
       "        text-align: right;\n",
       "    }\n",
       "</style>\n",
       "<table border=\"1\" class=\"dataframe\">\n",
       "  <thead>\n",
       "    <tr style=\"text-align: right;\">\n",
       "      <th></th>\n",
       "      <th>Production (Oil)</th>\n",
       "      <th>Production (Alternative)</th>\n",
       "    </tr>\n",
       "    <tr>\n",
       "      <th>Year</th>\n",
       "      <th></th>\n",
       "      <th></th>\n",
       "    </tr>\n",
       "  </thead>\n",
       "  <tbody>\n",
       "    <tr>\n",
       "      <th>1980</th>\n",
       "      <td>20.474</td>\n",
       "      <td>8.168</td>\n",
       "    </tr>\n",
       "    <tr>\n",
       "      <th>1981</th>\n",
       "      <td>20.412</td>\n",
       "      <td>8.421</td>\n",
       "    </tr>\n",
       "    <tr>\n",
       "      <th>1982</th>\n",
       "      <td>20.458</td>\n",
       "      <td>9.111</td>\n",
       "    </tr>\n",
       "    <tr>\n",
       "      <th>1983</th>\n",
       "      <td>20.528</td>\n",
       "      <td>9.698</td>\n",
       "    </tr>\n",
       "    <tr>\n",
       "      <th>1984</th>\n",
       "      <td>21.082</td>\n",
       "      <td>9.990</td>\n",
       "    </tr>\n",
       "  </tbody>\n",
       "</table>\n",
       "</div>"
      ],
      "text/plain": [
       "      Production (Oil)  Production (Alternative)\n",
       "Year                                            \n",
       "1980            20.474                     8.168\n",
       "1981            20.412                     8.421\n",
       "1982            20.458                     9.111\n",
       "1983            20.528                     9.698\n",
       "1984            21.082                     9.990"
      ]
     },
     "execution_count": 41,
     "metadata": {},
     "output_type": "execute_result"
    }
   ],
   "source": [
    "# create combined dataframe\n",
    "combined_production = pd.concat([petroleum_production, alternative_production],axis=\"columns\",join=\"inner\")\n",
    "combined_production.rename(columns={\n",
    "    \"Total petroleum energy production qBtu\":\"Production (Oil)\",\n",
    "    \"Total alternative energy production qBtu\":\"Production (Alternative)\"\n",
    "},inplace=True)\n",
    "combined_production.head()"
   ]
  },
  {
   "cell_type": "code",
   "execution_count": 42,
   "id": "undefined-space",
   "metadata": {},
   "outputs": [
    {
     "data": {
      "text/html": [
       "<div>\n",
       "<style scoped>\n",
       "    .dataframe tbody tr th:only-of-type {\n",
       "        vertical-align: middle;\n",
       "    }\n",
       "\n",
       "    .dataframe tbody tr th {\n",
       "        vertical-align: top;\n",
       "    }\n",
       "\n",
       "    .dataframe thead th {\n",
       "        text-align: right;\n",
       "    }\n",
       "</style>\n",
       "<table border=\"1\" class=\"dataframe\">\n",
       "  <thead>\n",
       "    <tr style=\"text-align: right;\">\n",
       "      <th></th>\n",
       "      <th>Production (Oil)</th>\n",
       "      <th>Production (Alternative)</th>\n",
       "    </tr>\n",
       "  </thead>\n",
       "  <tbody>\n",
       "    <tr>\n",
       "      <th>Production (Oil)</th>\n",
       "      <td>1.000000</td>\n",
       "      <td>0.079985</td>\n",
       "    </tr>\n",
       "    <tr>\n",
       "      <th>Production (Alternative)</th>\n",
       "      <td>0.079985</td>\n",
       "      <td>1.000000</td>\n",
       "    </tr>\n",
       "  </tbody>\n",
       "</table>\n",
       "</div>"
      ],
      "text/plain": [
       "                          Production (Oil)  Production (Alternative)\n",
       "Production (Oil)                  1.000000                  0.079985\n",
       "Production (Alternative)          0.079985                  1.000000"
      ]
     },
     "execution_count": 42,
     "metadata": {},
     "output_type": "execute_result"
    }
   ],
   "source": [
    "combined_correlation = combined_production.corr()\n",
    "combined_correlation.head()"
   ]
  },
  {
   "cell_type": "code",
   "execution_count": 43,
   "id": "spread-humanity",
   "metadata": {},
   "outputs": [
    {
     "data": {
      "text/plain": [
       "<matplotlib.axes._subplots.AxesSubplot at 0x7ff977b62a60>"
      ]
     },
     "execution_count": 43,
     "metadata": {},
     "output_type": "execute_result"
    },
    {
     "data": {
      "image/png": "[encoded data removed]",
      "text/plain": [
       "<Figure size 432x288 with 2 Axes>"
      ]
     },
     "metadata": {
      "needs_background": "light"
     },
     "output_type": "display_data"
    }
   ],
   "source": [
    "# plot correlation between production\n",
    "sns.heatmap(combined_correlation,vmin=-1,vmax=1,annot=True)"
   ]
  },
  {
   "cell_type": "code",
   "execution_count": null,
   "id": "aerial-weekly",
   "metadata": {},
   "outputs": [],
   "source": []
  }
 ],
 "metadata": {
  "kernelspec": {
   "display_name": "Python 3",
   "language": "python",
   "name": "python3"
  },
  "language_info": {
   "codemirror_mode": {
    "name": "ipython",
    "version": 3
   },
   "file_extension": ".py",
   "mimetype": "text/x-python",
   "name": "python",
   "nbconvert_exporter": "python",
   "pygments_lexer": "ipython3",
   "version": "3.8.3"
  }
 },
 "nbformat": 4,
 "nbformat_minor": 5
}
