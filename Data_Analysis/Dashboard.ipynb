{
 "cells": [
  {
   "cell_type": "code",
   "execution_count": 2,
   "metadata": {},
   "outputs": [],
   "source": [
    "import pandas as pd\n",
    "import numpy as np\n",
    "from pandas_datareader import data as pdr\n",
    "import yfinance as yf\n",
    "import datetime as dt\n",
    "import numpy\n",
    "import panel as pn\n",
    "\n",
    "import plotly.express as px\n",
    "pn.extension(\"plotly\")\n",
    "%matplotlib inline\n",
    "\n",
    "\n",
    "yf.pdr_override()\n",
    "\n",
    "import hvplot.pandas\n",
    "import holoviews as hv"
   ]
  },
  {
   "cell_type": "code",
   "execution_count": 3,
   "metadata": {},
   "outputs": [],
   "source": [
    "def alt_base():\n",
    "    tickers = ['BLX','CIG','ELP','PLUG']\n",
    "    start = dt.datetime(1975,1,1)\n",
    "    end = dt.datetime(2021,1,1)\n",
    "    df = pdr.get_data_yahoo(tickers,start,end)['Adj Close']\n",
    "    df = df.reset_index()\n",
    "    \n",
    "    def to_string(x):\n",
    "        return str(x)   \n",
    "        \n",
    "    df['Date'] = df['Date'].apply(to_string).apply(lambda x: x.split('-')[0]) #! Works: From 1975\n",
    "    df = df.groupby('Date').last().loc['1999':'2020', :] #! Works: From 175\n",
    "    return df"
   ]
  },
  {
   "cell_type": "code",
   "execution_count": 4,
   "metadata": {},
   "outputs": [],
   "source": [
    "def oil_base():\n",
    "    tickers1 = ['XOM','RDS-B','CVX','BP']\n",
    "    start = dt.datetime(1975,1,1)\n",
    "    end = dt.datetime(2021,1,1)\n",
    "    df = pdr.get_data_yahoo(tickers1,start,end)['Adj Close']\n",
    "    df = df.reset_index()\n",
    "    \n",
    "    def to_string(x):\n",
    "        return str(x)   \n",
    "        \n",
    "    df['Date'] = df['Date'].apply(to_string).apply(lambda x: x.split('-')[0]) #! Works: From 1975\n",
    "    df = df.groupby('Date').last().loc['1999':'2020', :] #! Works: From 175\n",
    "    return df"
   ]
  },
  {
   "cell_type": "code",
   "execution_count": 5,
   "metadata": {},
   "outputs": [],
   "source": [
    "def combined_base():\n",
    "    combined_base = pd.concat(\n",
    "                        [alt_base(),oil_base()],\n",
    "                            axis = 'columns',\n",
    "                                join = 'inner',\n",
    "    )\n",
    "    combined_base_plot = combined_base.hvplot(\n",
    "                                        title = 'Oil and Alternative Stock Prices from 1999-2020',\n",
    "                                        ylabel = 'Stock Price',\n",
    "                                        rot = 90,\n",
    "                                        width = 1200,\n",
    "                                        height = 400,\n",
    "                                        ylim = (0,120),\n",
    "                                        grid = True\n",
    "    )\n",
    "    grid_style = {\n",
    "            'grid_line_color': 'lightgray', \n",
    "            'grid_line_width': 1.5,\n",
    "            'minor_xgrid_line_color':'lightgray'}\n",
    "    \n",
    "    combined_base_plot.opts(\n",
    "                            fontsize={\n",
    "                                'title': 20, \n",
    "                                'labels': 20, \n",
    "                                'xticks': 15, \n",
    "                                'yticks': 15,\n",
    "                                'legend': 20\n",
    "    },\n",
    "                            legend_position = 'right',\n",
    "                            gridstyle = grid_style\n",
    "    )\n",
    "    return combined_base_plot"
   ]
  },
  {
   "cell_type": "code",
   "execution_count": 6,
   "metadata": {},
   "outputs": [
    {
     "name": "stdout",
     "output_type": "stream",
     "text": [
      "[*********************100%***********************]  4 of 4 completed\n",
      "[*********************100%***********************]  4 of 4 completed\n"
     ]
    },
    {
     "data": {},
     "metadata": {},
     "output_type": "display_data"
    },
    {
     "data": {
      "application/vnd.holoviews_exec.v0+json": "",
      "text/html": [
       "<div id='1001'>\n",
       "\n",
       "\n",
       "\n",
       "\n",
       "\n",
       "  <div class=\"bk-root\" id=\"a5caa797-1a67-4669-a3f7-20109d364147\" data-root-id=\"1001\"></div>\n",
       "</div>\n",
       "<script type=\"application/javascript\">(function(root) {\n",
       "  function embed_document(root) {\n",
       "  var docs_json = {\"cc394ea4-5c37-461b-aaec-f9df860f2b37\":{\"roots\":{\"references\":[{\"attributes\":{\"text\":\"Oil and Alternative Stock Prices from 1999-2020\",\"text_color\":{\"value\":\"black\"},\"text_font_size\":{\"value\":\"20pt\"}},\"id\":\"1014\",\"type\":\"Title\"},{\"attributes\":{},\"id\":\"1023\",\"type\":\"CategoricalTicker\"},{\"attributes\":{},\"id\":\"1145\",\"type\":\"Selection\"},{\"attributes\":{\"line_color\":\"#8c564b\",\"line_width\":2,\"x\":{\"field\":\"Date\"},\"y\":{\"field\":\"value\"}},\"id\":\"1147\",\"type\":\"Line\"},{\"attributes\":{},\"id\":\"1223\",\"type\":\"UnionRenderers\"},{\"attributes\":{},\"id\":\"1098\",\"type\":\"UnionRenderers\"},{\"attributes\":{},\"id\":\"1020\",\"type\":\"LinearScale\"},{\"attributes\":{\"line_alpha\":0.1,\"line_color\":\"#8c564b\",\"line_width\":2,\"x\":{\"field\":\"Date\"},\"y\":{\"field\":\"value\"}},\"id\":\"1148\",\"type\":\"Line\"},{\"attributes\":{\"axis_label\":\"Stock Price\",\"axis_label_text_font_size\":\"20pt\",\"bounds\":\"auto\",\"formatter\":{\"id\":\"1044\"},\"major_label_orientation\":\"horizontal\",\"major_label_text_font_size\":\"15pt\",\"ticker\":{\"id\":\"1026\"}},\"id\":\"1025\",\"type\":\"LinearAxis\"},{\"attributes\":{\"data_source\":{\"id\":\"1144\"},\"glyph\":{\"id\":\"1147\"},\"hover_glyph\":null,\"muted_glyph\":{\"id\":\"1149\"},\"nonselection_glyph\":{\"id\":\"1148\"},\"selection_glyph\":null,\"view\":{\"id\":\"1151\"}},\"id\":\"1150\",\"type\":\"GlyphRenderer\"},{\"attributes\":{},\"id\":\"1026\",\"type\":\"BasicTicker\"},{\"attributes\":{\"axis\":{\"id\":\"1022\"},\"grid_line_color\":\"lightgray\",\"grid_line_width\":1.5,\"minor_grid_line_color\":\"lightgray\",\"ticker\":{\"id\":\"1023\"}},\"id\":\"1024\",\"type\":\"Grid\"},{\"attributes\":{\"line_alpha\":0.2,\"line_color\":\"#8c564b\",\"line_width\":2,\"x\":{\"field\":\"Date\"},\"y\":{\"field\":\"value\"}},\"id\":\"1149\",\"type\":\"Line\"},{\"attributes\":{},\"id\":\"1018\",\"type\":\"CategoricalScale\"},{\"attributes\":{\"source\":{\"id\":\"1144\"}},\"id\":\"1151\",\"type\":\"CDSView\"},{\"attributes\":{\"line_alpha\":0.2,\"line_color\":\"#1f77b3\",\"line_width\":2,\"x\":{\"field\":\"Date\"},\"y\":{\"field\":\"value\"}},\"id\":\"1053\",\"type\":\"Line\"},{\"attributes\":{\"axis_label\":\"Date\",\"axis_label_text_font_size\":\"20pt\",\"bounds\":\"auto\",\"formatter\":{\"id\":\"1042\"},\"group_text_font_size\":\"15pt\",\"major_label_orientation\":1.5707963267948966,\"major_label_text_font_size\":\"15pt\",\"ticker\":{\"id\":\"1023\"}},\"id\":\"1022\",\"type\":\"CategoricalAxis\"},{\"attributes\":{\"label\":{\"value\":\"CVX\"},\"renderers\":[{\"id\":\"1150\"}]},\"id\":\"1168\",\"type\":\"LegendItem\"},{\"attributes\":{\"line_color\":\"#d62628\",\"line_width\":2,\"x\":{\"field\":\"Date\"},\"y\":{\"field\":\"value\"}},\"id\":\"1103\",\"type\":\"Line\"},{\"attributes\":{\"margin\":[5,5,5,5],\"name\":\"HSpacer01734\",\"sizing_mode\":\"stretch_width\"},\"id\":\"1002\",\"type\":\"Spacer\"},{\"attributes\":{\"axis\":{\"id\":\"1025\"},\"dimension\":1,\"grid_line_color\":\"lightgray\",\"grid_line_width\":1.5,\"ticker\":{\"id\":\"1026\"}},\"id\":\"1028\",\"type\":\"Grid\"},{\"attributes\":{\"line_alpha\":0.2,\"line_color\":\"#d62628\",\"line_width\":2,\"x\":{\"field\":\"Date\"},\"y\":{\"field\":\"value\"}},\"id\":\"1105\",\"type\":\"Line\"},{\"attributes\":{\"children\":[{\"id\":\"1002\"},{\"id\":\"1013\"},{\"id\":\"1401\"}],\"margin\":[0,0,0,0],\"name\":\"Row01730\",\"tags\":[\"embedded\"]},\"id\":\"1001\",\"type\":\"Row\"},{\"attributes\":{\"label\":{\"value\":\"PLUG\"},\"renderers\":[{\"id\":\"1106\"}]},\"id\":\"1120\",\"type\":\"LegendItem\"},{\"attributes\":{},\"id\":\"1042\",\"type\":\"CategoricalTickFormatter\"},{\"attributes\":{},\"id\":\"1029\",\"type\":\"SaveTool\"},{\"attributes\":{\"source\":{\"id\":\"1100\"}},\"id\":\"1107\",\"type\":\"CDSView\"},{\"attributes\":{},\"id\":\"1030\",\"type\":\"PanTool\"},{\"attributes\":{\"data\":{\"Date\":[\"1999\",\"2000\",\"2001\",\"2002\",\"2003\",\"2004\",\"2005\",\"2006\",\"2007\",\"2008\",\"2009\",\"2010\",\"2011\",\"2012\",\"2013\",\"2014\",\"2015\",\"2016\",\"2017\",\"2018\",\"2019\",\"2020\"],\"Variable\":[\"BLX\",\"BLX\",\"BLX\",\"BLX\",\"BLX\",\"BLX\",\"BLX\",\"BLX\",\"BLX\",\"BLX\",\"BLX\",\"BLX\",\"BLX\",\"BLX\",\"BLX\",\"BLX\",\"BLX\",\"BLX\",\"BLX\",\"BLX\",\"BLX\",\"BLX\"],\"value\":{\"__ndarray__\":\"AAAAgAz2HEAAAABAWDMmQAAAAACyFSNAAAAAgBTE+D8AAACg4ioaQAAAAEBThh1AAAAA4MB6HkAAAABASFIfQAAAAMCunB9AAAAAgD+7HUAAAADgWXweQAAAAMD+JCVAAAAAIGtCI0AAAACAjT0rQAAAACDnmDJAAAAAwAE9NUAAAABAt8cyQAAAAIAdRTZAAAAAAAiDNUAAAACAOIwtQAAAACBSqDNAAAAAwPWoL0A=\",\"dtype\":\"float64\",\"shape\":[22]}},\"selected\":{\"id\":\"1049\"},\"selection_policy\":{\"id\":\"1079\"}},\"id\":\"1048\",\"type\":\"ColumnDataSource\"},{\"attributes\":{},\"id\":\"1101\",\"type\":\"Selection\"},{\"attributes\":{},\"id\":\"1031\",\"type\":\"WheelZoomTool\"},{\"attributes\":{\"overlay\":{\"id\":\"1034\"}},\"id\":\"1032\",\"type\":\"BoxZoomTool\"},{\"attributes\":{},\"id\":\"1167\",\"type\":\"UnionRenderers\"},{\"attributes\":{},\"id\":\"1033\",\"type\":\"ResetTool\"},{\"attributes\":{\"line_alpha\":0.1,\"line_color\":\"#e277c1\",\"line_width\":2,\"x\":{\"field\":\"Date\"},\"y\":{\"field\":\"value\"}},\"id\":\"1173\",\"type\":\"Line\"},{\"attributes\":{\"data\":{\"Date\":[\"1999\",\"2000\",\"2001\",\"2002\",\"2003\",\"2004\",\"2005\",\"2006\",\"2007\",\"2008\",\"2009\",\"2010\",\"2011\",\"2012\",\"2013\",\"2014\",\"2015\",\"2016\",\"2017\",\"2018\",\"2019\",\"2020\"],\"Variable\":[\"PLUG\",\"PLUG\",\"PLUG\",\"PLUG\",\"PLUG\",\"PLUG\",\"PLUG\",\"PLUG\",\"PLUG\",\"PLUG\",\"PLUG\",\"PLUG\",\"PLUG\",\"PLUG\",\"PLUG\",\"PLUG\",\"PLUG\",\"PLUG\",\"PLUG\",\"PLUG\",\"PLUG\",\"PLUG\"],\"value\":{\"__ndarray__\":\"AAAAAACocUAAAAAAAFxiQAAAAKCZ2VVAAAAAQDNzRkAAAAAAACBSQAAAAMDMjE5AAAAAYGamSUAAAABAM3NDQAAAAAAAwENAAAAAYGZmJEAAAABgZmYcQAAAAKCZmQ1AAAAAgOtRAEAAAAAAAADgPwAAAMDMzPg/AAAAAAAACEAAAACgR+EAQAAAAEAzM/M/AAAAoEfhAkAAAABACtfzPwAAACCuRwlAAAAA4Hr0QEA=\",\"dtype\":\"float64\",\"shape\":[22]}},\"selected\":{\"id\":\"1101\"},\"selection_policy\":{\"id\":\"1142\"}},\"id\":\"1100\",\"type\":\"ColumnDataSource\"},{\"attributes\":{\"line_alpha\":0.1,\"line_color\":\"#d62628\",\"line_width\":2,\"x\":{\"field\":\"Date\"},\"y\":{\"field\":\"value\"}},\"id\":\"1104\",\"type\":\"Line\"},{\"attributes\":{},\"id\":\"1246\",\"type\":\"UnionRenderers\"},{\"attributes\":{\"label\":{\"value\":\"BP\"},\"renderers\":[{\"id\":\"1127\"}]},\"id\":\"1143\",\"type\":\"LegendItem\"},{\"attributes\":{\"line_alpha\":0.2,\"line_color\":\"#ff7e0e\",\"line_width\":2,\"x\":{\"field\":\"Date\"},\"y\":{\"field\":\"value\"}},\"id\":\"1069\",\"type\":\"Line\"},{\"attributes\":{\"source\":{\"id\":\"1048\"}},\"id\":\"1055\",\"type\":\"CDSView\"},{\"attributes\":{\"data_source\":{\"id\":\"1169\"},\"glyph\":{\"id\":\"1172\"},\"hover_glyph\":null,\"muted_glyph\":{\"id\":\"1174\"},\"nonselection_glyph\":{\"id\":\"1173\"},\"selection_glyph\":null,\"view\":{\"id\":\"1176\"}},\"id\":\"1175\",\"type\":\"GlyphRenderer\"},{\"attributes\":{\"data_source\":{\"id\":\"1100\"},\"glyph\":{\"id\":\"1103\"},\"hover_glyph\":null,\"muted_glyph\":{\"id\":\"1105\"},\"nonselection_glyph\":{\"id\":\"1104\"},\"selection_glyph\":null,\"view\":{\"id\":\"1107\"}},\"id\":\"1106\",\"type\":\"GlyphRenderer\"},{\"attributes\":{\"data_source\":{\"id\":\"1048\"},\"glyph\":{\"id\":\"1051\"},\"hover_glyph\":null,\"muted_glyph\":{\"id\":\"1053\"},\"nonselection_glyph\":{\"id\":\"1052\"},\"selection_glyph\":null,\"view\":{\"id\":\"1055\"}},\"id\":\"1054\",\"type\":\"GlyphRenderer\"},{\"attributes\":{\"line_color\":\"#e277c1\",\"line_width\":2,\"x\":{\"field\":\"Date\"},\"y\":{\"field\":\"value\"}},\"id\":\"1172\",\"type\":\"Line\"},{\"attributes\":{\"line_color\":\"#ff7e0e\",\"line_width\":2,\"x\":{\"field\":\"Date\"},\"y\":{\"field\":\"value\"}},\"id\":\"1067\",\"type\":\"Line\"},{\"attributes\":{\"line_alpha\":0.2,\"line_color\":\"#e277c1\",\"line_width\":2,\"x\":{\"field\":\"Date\"},\"y\":{\"field\":\"value\"}},\"id\":\"1174\",\"type\":\"Line\"},{\"attributes\":{\"label\":{\"value\":\"RDS-B\"},\"renderers\":[{\"id\":\"1175\"}]},\"id\":\"1195\",\"type\":\"LegendItem\"},{\"attributes\":{\"line_color\":\"#1f77b3\",\"line_width\":2,\"x\":{\"field\":\"Date\"},\"y\":{\"field\":\"value\"}},\"id\":\"1051\",\"type\":\"Line\"},{\"attributes\":{\"label\":{\"value\":\"CIG\"},\"renderers\":[{\"id\":\"1070\"}]},\"id\":\"1080\",\"type\":\"LegendItem\"},{\"attributes\":{\"click_policy\":\"mute\",\"items\":[{\"id\":\"1063\"},{\"id\":\"1080\"},{\"id\":\"1099\"},{\"id\":\"1120\"},{\"id\":\"1143\"},{\"id\":\"1168\"},{\"id\":\"1195\"},{\"id\":\"1224\"}],\"label_text_font_size\":\"20pt\",\"location\":[0,0],\"title\":\"Variable\"},\"id\":\"1062\",\"type\":\"Legend\"},{\"attributes\":{\"source\":{\"id\":\"1169\"}},\"id\":\"1176\",\"type\":\"CDSView\"},{\"attributes\":{},\"id\":\"1170\",\"type\":\"Selection\"},{\"attributes\":{\"source\":{\"id\":\"1064\"}},\"id\":\"1071\",\"type\":\"CDSView\"},{\"attributes\":{\"label\":{\"value\":\"BLX\"},\"renderers\":[{\"id\":\"1054\"}]},\"id\":\"1063\",\"type\":\"LegendItem\"},{\"attributes\":{},\"id\":\"1065\",\"type\":\"Selection\"},{\"attributes\":{\"margin\":[5,5,5,5],\"name\":\"HSpacer01735\",\"sizing_mode\":\"stretch_width\"},\"id\":\"1401\",\"type\":\"Spacer\"},{\"attributes\":{},\"id\":\"1119\",\"type\":\"UnionRenderers\"},{\"attributes\":{\"line_alpha\":0.1,\"line_color\":\"#ff7e0e\",\"line_width\":2,\"x\":{\"field\":\"Date\"},\"y\":{\"field\":\"value\"}},\"id\":\"1068\",\"type\":\"Line\"},{\"attributes\":{\"data\":{\"Date\":[\"1999\",\"2000\",\"2001\",\"2002\",\"2003\",\"2004\",\"2005\",\"2006\",\"2007\",\"2008\",\"2009\",\"2010\",\"2011\",\"2012\",\"2013\",\"2014\",\"2015\",\"2016\",\"2017\",\"2018\",\"2019\",\"2020\"],\"Variable\":[\"RDS-B\",\"RDS-B\",\"RDS-B\",\"RDS-B\",\"RDS-B\",\"RDS-B\",\"RDS-B\",\"RDS-B\",\"RDS-B\",\"RDS-B\",\"RDS-B\",\"RDS-B\",\"RDS-B\",\"RDS-B\",\"RDS-B\",\"RDS-B\",\"RDS-B\",\"RDS-B\",\"RDS-B\",\"RDS-B\",\"RDS-B\",\"RDS-B\"],\"value\":{\"__ndarray__\":\"AAAAwGYSNkAAAAAAme02QAAAAEDW0DNAAAAAYChEM0AAAADA4j83QAAAAMDFrDtAAAAAwPJ1P0AAAADg9PNBQAAAAIDvukVAAAAAoLE0PEAAAAAgCwBBQAAAAEBMqkRAAAAAYPGxSEAAAABAqihIQAAAAIBv80pAAAAAgCYoSkAAAACg1m1CQAAAAGADAklAAAAAgMxhT0AAAABgCB1NQAAAAAAp/E1AAAAAgBTOQEA=\",\"dtype\":\"float64\",\"shape\":[22]}},\"selected\":{\"id\":\"1170\"},\"selection_policy\":{\"id\":\"1223\"}},\"id\":\"1169\",\"type\":\"ColumnDataSource\"},{\"attributes\":{\"bottom_units\":\"screen\",\"fill_alpha\":0.5,\"fill_color\":\"lightgrey\",\"left_units\":\"screen\",\"level\":\"overlay\",\"line_alpha\":1.0,\"line_color\":\"black\",\"line_dash\":[4,4],\"line_width\":2,\"render_mode\":\"css\",\"right_units\":\"screen\",\"top_units\":\"screen\"},\"id\":\"1034\",\"type\":\"BoxAnnotation\"},{\"attributes\":{\"data_source\":{\"id\":\"1064\"},\"glyph\":{\"id\":\"1067\"},\"hover_glyph\":null,\"muted_glyph\":{\"id\":\"1069\"},\"nonselection_glyph\":{\"id\":\"1068\"},\"selection_glyph\":null,\"view\":{\"id\":\"1071\"}},\"id\":\"1070\",\"type\":\"GlyphRenderer\"},{\"attributes\":{\"line_color\":\"#9367bc\",\"line_width\":2,\"x\":{\"field\":\"Date\"},\"y\":{\"field\":\"value\"}},\"id\":\"1124\",\"type\":\"Line\"},{\"attributes\":{},\"id\":\"1194\",\"type\":\"UnionRenderers\"},{\"attributes\":{\"source\":{\"id\":\"1121\"}},\"id\":\"1128\",\"type\":\"CDSView\"},{\"attributes\":{\"line_alpha\":0.2,\"line_color\":\"#9367bc\",\"line_width\":2,\"x\":{\"field\":\"Date\"},\"y\":{\"field\":\"value\"}},\"id\":\"1126\",\"type\":\"Line\"},{\"attributes\":{},\"id\":\"1079\",\"type\":\"UnionRenderers\"},{\"attributes\":{},\"id\":\"1122\",\"type\":\"Selection\"},{\"attributes\":{\"line_alpha\":0.1,\"line_color\":\"#9367bc\",\"line_width\":2,\"x\":{\"field\":\"Date\"},\"y\":{\"field\":\"value\"}},\"id\":\"1125\",\"type\":\"Line\"},{\"attributes\":{\"line_alpha\":0.1,\"line_color\":\"#7e7e7e\",\"line_width\":2,\"x\":{\"field\":\"Date\"},\"y\":{\"field\":\"value\"}},\"id\":\"1200\",\"type\":\"Line\"},{\"attributes\":{\"line_color\":\"#2ba02b\",\"line_width\":2,\"x\":{\"field\":\"Date\"},\"y\":{\"field\":\"value\"}},\"id\":\"1084\",\"type\":\"Line\"},{\"attributes\":{\"active_drag\":\"auto\",\"active_inspect\":\"auto\",\"active_multi\":null,\"active_scroll\":\"auto\",\"active_tap\":\"auto\",\"tools\":[{\"id\":\"1005\"},{\"id\":\"1029\"},{\"id\":\"1030\"},{\"id\":\"1031\"},{\"id\":\"1032\"},{\"id\":\"1033\"}]},\"id\":\"1035\",\"type\":\"Toolbar\"},{\"attributes\":{\"data_source\":{\"id\":\"1196\"},\"glyph\":{\"id\":\"1199\"},\"hover_glyph\":null,\"muted_glyph\":{\"id\":\"1201\"},\"nonselection_glyph\":{\"id\":\"1200\"},\"selection_glyph\":null,\"view\":{\"id\":\"1203\"}},\"id\":\"1202\",\"type\":\"GlyphRenderer\"},{\"attributes\":{\"data_source\":{\"id\":\"1081\"},\"glyph\":{\"id\":\"1084\"},\"hover_glyph\":null,\"muted_glyph\":{\"id\":\"1086\"},\"nonselection_glyph\":{\"id\":\"1085\"},\"selection_glyph\":null,\"view\":{\"id\":\"1088\"}},\"id\":\"1087\",\"type\":\"GlyphRenderer\"},{\"attributes\":{\"data_source\":{\"id\":\"1121\"},\"glyph\":{\"id\":\"1124\"},\"hover_glyph\":null,\"muted_glyph\":{\"id\":\"1126\"},\"nonselection_glyph\":{\"id\":\"1125\"},\"selection_glyph\":null,\"view\":{\"id\":\"1128\"}},\"id\":\"1127\",\"type\":\"GlyphRenderer\"},{\"attributes\":{\"label\":{\"value\":\"ELP\"},\"renderers\":[{\"id\":\"1087\"}]},\"id\":\"1099\",\"type\":\"LegendItem\"},{\"attributes\":{\"line_alpha\":0.2,\"line_color\":\"#7e7e7e\",\"line_width\":2,\"x\":{\"field\":\"Date\"},\"y\":{\"field\":\"value\"}},\"id\":\"1201\",\"type\":\"Line\"},{\"attributes\":{\"line_alpha\":0.1,\"line_color\":\"#2ba02b\",\"line_width\":2,\"x\":{\"field\":\"Date\"},\"y\":{\"field\":\"value\"}},\"id\":\"1085\",\"type\":\"Line\"},{\"attributes\":{\"label\":{\"value\":\"XOM\"},\"renderers\":[{\"id\":\"1202\"}]},\"id\":\"1224\",\"type\":\"LegendItem\"},{\"attributes\":{\"line_color\":\"#7e7e7e\",\"line_width\":2,\"x\":{\"field\":\"Date\"},\"y\":{\"field\":\"value\"}},\"id\":\"1199\",\"type\":\"Line\"},{\"attributes\":{\"line_alpha\":0.2,\"line_color\":\"#2ba02b\",\"line_width\":2,\"x\":{\"field\":\"Date\"},\"y\":{\"field\":\"value\"}},\"id\":\"1086\",\"type\":\"Line\"},{\"attributes\":{\"source\":{\"id\":\"1196\"}},\"id\":\"1203\",\"type\":\"CDSView\"},{\"attributes\":{\"factors\":[\"1999\",\"2000\",\"2001\",\"2002\",\"2003\",\"2004\",\"2005\",\"2006\",\"2007\",\"2008\",\"2009\",\"2010\",\"2011\",\"2012\",\"2013\",\"2014\",\"2015\",\"2016\",\"2017\",\"2018\",\"2019\",\"2020\"],\"tags\":[[[\"Date\",\"Date\",null]]]},\"id\":\"1003\",\"type\":\"FactorRange\"},{\"attributes\":{\"source\":{\"id\":\"1081\"}},\"id\":\"1088\",\"type\":\"CDSView\"},{\"attributes\":{},\"id\":\"1197\",\"type\":\"Selection\"},{\"attributes\":{},\"id\":\"1082\",\"type\":\"Selection\"},{\"attributes\":{},\"id\":\"1142\",\"type\":\"UnionRenderers\"},{\"attributes\":{},\"id\":\"1044\",\"type\":\"BasicTickFormatter\"},{\"attributes\":{\"end\":120,\"reset_end\":120,\"reset_start\":0,\"tags\":[[[\"value\",\"value\",null]]]},\"id\":\"1004\",\"type\":\"Range1d\"},{\"attributes\":{\"data\":{\"Date\":[\"1999\",\"2000\",\"2001\",\"2002\",\"2003\",\"2004\",\"2005\",\"2006\",\"2007\",\"2008\",\"2009\",\"2010\",\"2011\",\"2012\",\"2013\",\"2014\",\"2015\",\"2016\",\"2017\",\"2018\",\"2019\",\"2020\"],\"Variable\":[\"BP\",\"BP\",\"BP\",\"BP\",\"BP\",\"BP\",\"BP\",\"BP\",\"BP\",\"BP\",\"BP\",\"BP\",\"BP\",\"BP\",\"BP\",\"BP\",\"BP\",\"BP\",\"BP\",\"BP\",\"BP\",\"BP\"],\"value\":{\"__ndarray__\":\"AAAAwCYxNkAAAADgB2UyQAAAAOCtYTJAAAAAoC+gMEAAAAAAAwM1QAAAAKC6qzlAAAAAwNMnPUAAAADg+Hk/QAAAACCmzkFAAAAAgHALOEAAAABg4vA/QAAAAABPtThAAAAAwEzVOEAAAACgKlc5QAAAACDNGT9AAAAAwFSjOUAAAAAAdls2QAAAAKA+1DxAAAAA4ENPQUAAAAAgwYRAQAAAAABQe0FAAAAAwB6FNEA=\",\"dtype\":\"float64\",\"shape\":[22]}},\"selected\":{\"id\":\"1122\"},\"selection_policy\":{\"id\":\"1167\"}},\"id\":\"1121\",\"type\":\"ColumnDataSource\"},{\"attributes\":{\"data\":{\"Date\":[\"1999\",\"2000\",\"2001\",\"2002\",\"2003\",\"2004\",\"2005\",\"2006\",\"2007\",\"2008\",\"2009\",\"2010\",\"2011\",\"2012\",\"2013\",\"2014\",\"2015\",\"2016\",\"2017\",\"2018\",\"2019\",\"2020\"],\"Variable\":[\"XOM\",\"XOM\",\"XOM\",\"XOM\",\"XOM\",\"XOM\",\"XOM\",\"XOM\",\"XOM\",\"XOM\",\"XOM\",\"XOM\",\"XOM\",\"XOM\",\"XOM\",\"XOM\",\"XOM\",\"XOM\",\"XOM\",\"XOM\",\"XOM\",\"XOM\"],\"value\":{\"__ndarray__\":\"AAAAgEJbNUAAAACA9oo3QAAAAIAYwTVAAAAAAPDSM0AAAABgfOo3QAAAACCZoD5AAAAAQFseQUAAAADg985HQAAAAIBOl01AAAAAoF22SUAAAACgqXhGQAAAACBYv0hAAAAAIAFeTUAAAAAAc79OQAAAAOCHd1JAAAAA4DtZUUAAAACAPUJOQAAAAIAtI1JAAAAAYGpyUUAAAABgkqBNQAAAAKAnxU9AAAAAIA5EREA=\",\"dtype\":\"float64\",\"shape\":[22]}},\"selected\":{\"id\":\"1197\"},\"selection_policy\":{\"id\":\"1246\"}},\"id\":\"1196\",\"type\":\"ColumnDataSource\"},{\"attributes\":{\"below\":[{\"id\":\"1022\"}],\"center\":[{\"id\":\"1024\"},{\"id\":\"1028\"}],\"left\":[{\"id\":\"1025\"}],\"margin\":null,\"min_border_bottom\":10,\"min_border_left\":10,\"min_border_right\":10,\"min_border_top\":10,\"plot_height\":400,\"plot_width\":1200,\"renderers\":[{\"id\":\"1054\"},{\"id\":\"1070\"},{\"id\":\"1087\"},{\"id\":\"1106\"},{\"id\":\"1127\"},{\"id\":\"1150\"},{\"id\":\"1175\"},{\"id\":\"1202\"}],\"right\":[{\"id\":\"1062\"}],\"sizing_mode\":\"fixed\",\"title\":{\"id\":\"1014\"},\"toolbar\":{\"id\":\"1035\"},\"x_range\":{\"id\":\"1003\"},\"x_scale\":{\"id\":\"1018\"},\"y_range\":{\"id\":\"1004\"},\"y_scale\":{\"id\":\"1020\"}},\"id\":\"1013\",\"subtype\":\"Figure\",\"type\":\"Plot\"},{\"attributes\":{\"data\":{\"Date\":[\"1999\",\"2000\",\"2001\",\"2002\",\"2003\",\"2004\",\"2005\",\"2006\",\"2007\",\"2008\",\"2009\",\"2010\",\"2011\",\"2012\",\"2013\",\"2014\",\"2015\",\"2016\",\"2017\",\"2018\",\"2019\",\"2020\"],\"Variable\":[\"ELP\",\"ELP\",\"ELP\",\"ELP\",\"ELP\",\"ELP\",\"ELP\",\"ELP\",\"ELP\",\"ELP\",\"ELP\",\"ELP\",\"ELP\",\"ELP\",\"ELP\",\"ELP\",\"ELP\",\"ELP\",\"ELP\",\"ELP\",\"ELP\",\"ELP\"],\"value\":{\"__ndarray__\":\"AAAAgB6oEEAAAADgyiYPQAAAAECk8A1AAAAAIA3g9T8AAACgEZECQAAAAGAjrgFAAAAA4MefDkAAAABggcgWQAAAACBpUSBAAAAAIPeXF0AAAAAgOWEpQAAAAGAJSS5AAAAAoA9DKkAAAADg64EjQAAAAEDa5SFAAAAA4P9LI0AAAACgf6cRQAAAAAD+nhpAAAAAgKuqGUAAAADgF60cQAAAAIDSOzBAAAAAoJmZLEA=\",\"dtype\":\"float64\",\"shape\":[22]}},\"selected\":{\"id\":\"1082\"},\"selection_policy\":{\"id\":\"1119\"}},\"id\":\"1081\",\"type\":\"ColumnDataSource\"},{\"attributes\":{\"data\":{\"Date\":[\"1999\",\"2000\",\"2001\",\"2002\",\"2003\",\"2004\",\"2005\",\"2006\",\"2007\",\"2008\",\"2009\",\"2010\",\"2011\",\"2012\",\"2013\",\"2014\",\"2015\",\"2016\",\"2017\",\"2018\",\"2019\",\"2020\"],\"Variable\":[\"CIG\",\"CIG\",\"CIG\",\"CIG\",\"CIG\",\"CIG\",\"CIG\",\"CIG\",\"CIG\",\"CIG\",\"CIG\",\"CIG\",\"CIG\",\"CIG\",\"CIG\",\"CIG\",\"CIG\",\"CIG\",\"CIG\",\"CIG\",\"CIG\",\"CIG\"],\"value\":{\"__ndarray__\":\"AAAAYMbE6T8AAACA57/gPwAAAIBSmOA/AAAAYPKA0T8AAADAEG3mPwAAAEAE5u8/AAAAAH3J+D8AAACgHKoAQAAAAADukQRAAAAAwCMQAEAAAACAzo0LQAAAAEDstAtAAAAAoFNKEEAAAAAAznYOQAAAAKBK3wpAAAAAQPY2C0AAAABA7zXxPwAAAKCriP0/AAAAoLmb+z8AAADgjsEJQAAAAGA2dglAAAAAYP2ZBkA=\",\"dtype\":\"float64\",\"shape\":[22]}},\"selected\":{\"id\":\"1065\"},\"selection_policy\":{\"id\":\"1098\"}},\"id\":\"1064\",\"type\":\"ColumnDataSource\"},{\"attributes\":{\"line_alpha\":0.1,\"line_color\":\"#1f77b3\",\"line_width\":2,\"x\":{\"field\":\"Date\"},\"y\":{\"field\":\"value\"}},\"id\":\"1052\",\"type\":\"Line\"},{\"attributes\":{\"callback\":null,\"renderers\":[{\"id\":\"1054\"},{\"id\":\"1070\"},{\"id\":\"1087\"},{\"id\":\"1106\"},{\"id\":\"1127\"},{\"id\":\"1150\"},{\"id\":\"1175\"},{\"id\":\"1202\"}],\"tags\":[\"hv_created\"],\"tooltips\":[[\"Variable\",\"@{Variable}\"],[\"Date\",\"@{Date}\"],[\"value\",\"@{value}\"]]},\"id\":\"1005\",\"type\":\"HoverTool\"},{\"attributes\":{\"data\":{\"Date\":[\"1999\",\"2000\",\"2001\",\"2002\",\"2003\",\"2004\",\"2005\",\"2006\",\"2007\",\"2008\",\"2009\",\"2010\",\"2011\",\"2012\",\"2013\",\"2014\",\"2015\",\"2016\",\"2017\",\"2018\",\"2019\",\"2020\"],\"Variable\":[\"CVX\",\"CVX\",\"CVX\",\"CVX\",\"CVX\",\"CVX\",\"CVX\",\"CVX\",\"CVX\",\"CVX\",\"CVX\",\"CVX\",\"CVX\",\"CVX\",\"CVX\",\"CVX\",\"CVX\",\"CVX\",\"CVX\",\"CVX\",\"CVX\",\"CVX\"],\"value\":{\"__ndarray__\":\"AAAAIBYONEAAAAAAAio0QAAAAOALCTZAAAAAQHfyMEAAAACA1/A2QAAAAIDTzDxAAAAAYOsPQEAAAACgvHlFQAAAACBLCUxAAAAAIMDlRkAAAAAARL5IQAAAACC8a05AAAAAwItLUkAAAAAAmjhTQAAAAKCz7lZAAAAAAGhUVUAAAABAbOFRQAAAAECSb1hAAAAAwAIGW0AAAADgrmNYQAAAAIBSHVxAAAAAIHfRVEA=\",\"dtype\":\"float64\",\"shape\":[22]}},\"selected\":{\"id\":\"1145\"},\"selection_policy\":{\"id\":\"1194\"}},\"id\":\"1144\",\"type\":\"ColumnDataSource\"},{\"attributes\":{},\"id\":\"1049\",\"type\":\"Selection\"}],\"root_ids\":[\"1001\"]},\"title\":\"Bokeh Application\",\"version\":\"2.0.2\"}};\n",
       "  var render_items = [{\"docid\":\"cc394ea4-5c37-461b-aaec-f9df860f2b37\",\"root_ids\":[\"1001\"],\"roots\":{\"1001\":\"a5caa797-1a67-4669-a3f7-20109d364147\"}}];\n",
       "  root.Bokeh.embed.embed_items_notebook(docs_json, render_items);\n",
       "  }\n",
       "if (root.Bokeh !== undefined) {\n",
       "    embed_document(root);\n",
       "  } else {\n",
       "    var attempts = 0;\n",
       "    var timer = setInterval(function(root) {\n",
       "      if (root.Bokeh !== undefined) {\n",
       "        clearInterval(timer);\n",
       "        embed_document(root);\n",
       "      } else if (document.readyState == \"complete\") {\n",
       "        attempts++;\n",
       "        if (attempts > 100) {\n",
       "          clearInterval(timer);\n",
       "          console.log(\"Bokeh: ERROR: Unable to run BokehJS code because BokehJS library is missing\");\n",
       "        }\n",
       "      }\n",
       "    }, 10, root)\n",
       "  }\n",
       "})(window);</script>"
      ],
      "text/plain": [
       ":NdOverlay   [Variable]\n",
       "   :Curve   [Date]   (value)"
      ]
     },
     "execution_count": 6,
     "metadata": {
      "application/vnd.holoviews_exec.v0+json": {
       "id": "1001"
      }
     },
     "output_type": "execute_result"
    }
   ],
   "source": [
    "combined_base()"
   ]
  },
  {
   "cell_type": "code",
   "execution_count": 7,
   "metadata": {},
   "outputs": [],
   "source": [
    "def combined_pct_change():\n",
    "    alt_returns = alt_base().pct_change()\n",
    "    oil_returns = oil_base().pct_change()\n",
    "    weights = [0.25,0.25,0.25,0.25]\n",
    "\n",
    "    alt_port_returns = pd.DataFrame(alt_returns.dot(weights)).dropna()  \n",
    "    oil_port_returns = pd.DataFrame(oil_returns.dot(weights)).dropna()\n",
    "\n",
    "    alt_port_returns.columns = ['Alternative Energy']\n",
    "    oil_port_returns.columns = ['Oil & Gas']\n",
    "\n",
    "    # Combining the return dataframes\n",
    "    combined_portfolio_returns = pd.concat(\n",
    "                                        [alt_port_returns, oil_port_returns], \n",
    "                                            axis = 'columns', \n",
    "                                                join = 'inner'\n",
    "    )\n",
    "    return combined_portfolio_returns"
   ]
  },
  {
   "cell_type": "code",
   "execution_count": 8,
   "metadata": {},
   "outputs": [],
   "source": [
    "def cumulative_returns():\n",
    "    cumulative = (1 + combined_pct_change()).cumprod()\n",
    "    cumulative_plot = cumulative.hvplot(\n",
    "                                    title = 'Cumulative Returns of Both Industries 2000-2020',\n",
    "                                    ylabel = 'Cumulative Returns Multiple',\n",
    "                                    rot = 90,\n",
    "                                    width = 1200,\n",
    "                                    height = 400,\n",
    "                                    shared_axes = False,\n",
    "                                    grid = True\n",
    "    )\n",
    "    grid_style = {\n",
    "            'grid_line_color': 'lightgray', \n",
    "            'grid_line_width': 1.5,\n",
    "            'minor_xgrid_line_color':'lightgray'}\n",
    "    \n",
    "    cumulative_plot.opts(\n",
    "                        fontsize={\n",
    "                            'title': 20, \n",
    "                            'labels': 20, \n",
    "                            'xticks': 15, \n",
    "                            'yticks': 15,\n",
    "                            'legend': 20\n",
    "    },\n",
    "                                legend_position = 'top_left',\n",
    "                                     gridstyle = grid_style\n",
    "    )\n",
    "    return cumulative_plot"
   ]
  },
  {
   "cell_type": "code",
   "execution_count": 9,
   "metadata": {},
   "outputs": [
    {
     "name": "stdout",
     "output_type": "stream",
     "text": [
      "[*********************100%***********************]  4 of 4 completed\n",
      "[*********************100%***********************]  4 of 4 completed\n"
     ]
    },
    {
     "data": {},
     "metadata": {},
     "output_type": "display_data"
    },
    {
     "data": {
      "application/vnd.holoviews_exec.v0+json": "",
      "text/html": [
       "<div id='1513'>\n",
       "\n",
       "\n",
       "\n",
       "\n",
       "\n",
       "  <div class=\"bk-root\" id=\"78418bdb-c323-4428-809c-af062a09923a\" data-root-id=\"1513\"></div>\n",
       "</div>\n",
       "<script type=\"application/javascript\">(function(root) {\n",
       "  function embed_document(root) {\n",
       "  var docs_json = {\"7f483f3b-3712-4d12-8dbf-c4c0218687a4\":{\"roots\":{\"references\":[{\"attributes\":{},\"id\":\"1536\",\"type\":\"PanTool\"},{\"attributes\":{},\"id\":\"1548\",\"type\":\"CategoricalTickFormatter\"},{\"attributes\":{\"line_color\":\"#1f77b3\",\"line_width\":2,\"x\":{\"field\":\"Date\"},\"y\":{\"field\":\"value\"}},\"id\":\"1557\",\"type\":\"Line\"},{\"attributes\":{\"line_alpha\":0.1,\"line_color\":\"#ff7e0e\",\"line_width\":2,\"x\":{\"field\":\"Date\"},\"y\":{\"field\":\"value\"}},\"id\":\"1574\",\"type\":\"Line\"},{\"attributes\":{},\"id\":\"1550\",\"type\":\"BasicTickFormatter\"},{\"attributes\":{\"source\":{\"id\":\"1570\"}},\"id\":\"1577\",\"type\":\"CDSView\"},{\"attributes\":{\"label\":{\"value\":\"Alternative Energy\"},\"renderers\":[{\"id\":\"1560\"}]},\"id\":\"1569\",\"type\":\"LegendItem\"},{\"attributes\":{\"axis\":{\"id\":\"1528\"},\"grid_line_color\":\"lightgray\",\"grid_line_width\":1.5,\"minor_grid_line_color\":\"lightgray\",\"ticker\":{\"id\":\"1529\"}},\"id\":\"1530\",\"type\":\"Grid\"},{\"attributes\":{\"text\":\"Cumulative Returns of Both Industries 2000-2020\",\"text_color\":{\"value\":\"black\"},\"text_font_size\":{\"value\":\"20pt\"}},\"id\":\"1520\",\"type\":\"Title\"},{\"attributes\":{},\"id\":\"1571\",\"type\":\"Selection\"},{\"attributes\":{\"margin\":[5,5,5,5],\"name\":\"HSpacer03050\",\"sizing_mode\":\"stretch_width\"},\"id\":\"1667\",\"type\":\"Spacer\"},{\"attributes\":{},\"id\":\"1537\",\"type\":\"WheelZoomTool\"},{\"attributes\":{\"bottom_units\":\"screen\",\"fill_alpha\":0.5,\"fill_color\":\"lightgrey\",\"left_units\":\"screen\",\"level\":\"overlay\",\"line_alpha\":1.0,\"line_color\":\"black\",\"line_dash\":[4,4],\"line_width\":2,\"render_mode\":\"css\",\"right_units\":\"screen\",\"top_units\":\"screen\"},\"id\":\"1540\",\"type\":\"BoxAnnotation\"},{\"attributes\":{\"line_alpha\":0.1,\"line_color\":\"#1f77b3\",\"line_width\":2,\"x\":{\"field\":\"Date\"},\"y\":{\"field\":\"value\"}},\"id\":\"1558\",\"type\":\"Line\"},{\"attributes\":{},\"id\":\"1526\",\"type\":\"LinearScale\"},{\"attributes\":{},\"id\":\"1585\",\"type\":\"UnionRenderers\"},{\"attributes\":{},\"id\":\"1535\",\"type\":\"SaveTool\"},{\"attributes\":{},\"id\":\"1529\",\"type\":\"CategoricalTicker\"},{\"attributes\":{},\"id\":\"1539\",\"type\":\"ResetTool\"},{\"attributes\":{\"margin\":[5,5,5,5],\"name\":\"HSpacer03049\",\"sizing_mode\":\"stretch_width\"},\"id\":\"1514\",\"type\":\"Spacer\"},{\"attributes\":{},\"id\":\"1524\",\"type\":\"CategoricalScale\"},{\"attributes\":{},\"id\":\"1532\",\"type\":\"BasicTicker\"},{\"attributes\":{\"active_drag\":\"auto\",\"active_inspect\":\"auto\",\"active_multi\":null,\"active_scroll\":\"auto\",\"active_tap\":\"auto\",\"tools\":[{\"id\":\"1517\"},{\"id\":\"1535\"},{\"id\":\"1536\"},{\"id\":\"1537\"},{\"id\":\"1538\"},{\"id\":\"1539\"}]},\"id\":\"1541\",\"type\":\"Toolbar\"},{\"attributes\":{\"data\":{\"Date\":[\"2000\",\"2001\",\"2002\",\"2003\",\"2004\",\"2005\",\"2006\",\"2007\",\"2008\",\"2009\",\"2010\",\"2011\",\"2012\",\"2013\",\"2014\",\"2015\",\"2016\",\"2017\",\"2018\",\"2019\",\"2020\"],\"Variable\":[\"Alternative Energy\",\"Alternative Energy\",\"Alternative Energy\",\"Alternative Energy\",\"Alternative Energy\",\"Alternative Energy\",\"Alternative Energy\",\"Alternative Energy\",\"Alternative Energy\",\"Alternative Energy\",\"Alternative Energy\",\"Alternative Energy\",\"Alternative Energy\",\"Alternative Energy\",\"Alternative Energy\",\"Alternative Energy\",\"Alternative Energy\",\"Alternative Energy\",\"Alternative Energy\",\"Alternative Energy\",\"Alternative Energy\"],\"value\":{\"__ndarray__\":\"dvo0dOsa7T+2MkHzj8noP9Qf6jrwcNM/MsVsJwSM6D8U73O/G6vqP9+pD23uMfE/1dtq/oTa8z8BMaLVMEn3P/csFoFAd+8/wPCUDNH69T+2HoF6hJH2P5ZmBEjuxvM/Z2qieCuA8D+N9zejGtj5P+0X2dBWsgBAIY7kkFq28z+czWhqyYj4P6gn8oOFov0/pJFUS+MU/z9NSdg1gLULQGZGXbifCidA\",\"dtype\":\"float64\",\"shape\":[21]}},\"selected\":{\"id\":\"1555\"},\"selection_policy\":{\"id\":\"1585\"}},\"id\":\"1554\",\"type\":\"ColumnDataSource\"},{\"attributes\":{\"line_color\":\"#ff7e0e\",\"line_width\":2,\"x\":{\"field\":\"Date\"},\"y\":{\"field\":\"value\"}},\"id\":\"1573\",\"type\":\"Line\"},{\"attributes\":{\"overlay\":{\"id\":\"1540\"}},\"id\":\"1538\",\"type\":\"BoxZoomTool\"},{\"attributes\":{\"click_policy\":\"mute\",\"items\":[{\"id\":\"1569\"},{\"id\":\"1586\"}],\"label_text_font_size\":\"20pt\",\"location\":\"top_left\",\"title\":\"Variable\"},\"id\":\"1568\",\"type\":\"Legend\"},{\"attributes\":{\"data_source\":{\"id\":\"1554\"},\"glyph\":{\"id\":\"1557\"},\"hover_glyph\":null,\"muted_glyph\":{\"id\":\"1559\"},\"nonselection_glyph\":{\"id\":\"1558\"},\"selection_glyph\":null,\"view\":{\"id\":\"1561\"}},\"id\":\"1560\",\"type\":\"GlyphRenderer\"},{\"attributes\":{\"label\":{\"value\":\"Oil & Gas\"},\"renderers\":[{\"id\":\"1576\"}]},\"id\":\"1586\",\"type\":\"LegendItem\"},{\"attributes\":{\"below\":[{\"id\":\"1528\"}],\"center\":[{\"id\":\"1530\"},{\"id\":\"1534\"},{\"id\":\"1568\"}],\"left\":[{\"id\":\"1531\"}],\"margin\":null,\"min_border_bottom\":10,\"min_border_left\":10,\"min_border_right\":10,\"min_border_top\":10,\"plot_height\":400,\"plot_width\":1200,\"renderers\":[{\"id\":\"1560\"},{\"id\":\"1576\"}],\"sizing_mode\":\"fixed\",\"title\":{\"id\":\"1520\"},\"toolbar\":{\"id\":\"1541\"},\"x_range\":{\"id\":\"1515\"},\"x_scale\":{\"id\":\"1524\"},\"y_range\":{\"id\":\"1516\"},\"y_scale\":{\"id\":\"1526\"}},\"id\":\"1519\",\"subtype\":\"Figure\",\"type\":\"Plot\"},{\"attributes\":{\"axis_label\":\"Date\",\"axis_label_text_font_size\":\"20pt\",\"bounds\":\"auto\",\"formatter\":{\"id\":\"1548\"},\"group_text_font_size\":\"15pt\",\"major_label_orientation\":1.5707963267948966,\"major_label_text_font_size\":\"15pt\",\"ticker\":{\"id\":\"1529\"}},\"id\":\"1528\",\"type\":\"CategoricalAxis\"},{\"attributes\":{},\"id\":\"1596\",\"type\":\"UnionRenderers\"},{\"attributes\":{\"axis_label\":\"Cumulative Returns Multiple\",\"axis_label_text_font_size\":\"20pt\",\"bounds\":\"auto\",\"formatter\":{\"id\":\"1550\"},\"major_label_orientation\":\"horizontal\",\"major_label_text_font_size\":\"15pt\",\"ticker\":{\"id\":\"1532\"}},\"id\":\"1531\",\"type\":\"LinearAxis\"},{\"attributes\":{},\"id\":\"1555\",\"type\":\"Selection\"},{\"attributes\":{\"callback\":null,\"renderers\":[{\"id\":\"1560\"},{\"id\":\"1576\"}],\"tags\":[\"hv_created\"],\"tooltips\":[[\"Variable\",\"@{Variable}\"],[\"Date\",\"@{Date}\"],[\"value\",\"@{value}\"]]},\"id\":\"1517\",\"type\":\"HoverTool\"},{\"attributes\":{\"data\":{\"Date\":[\"2000\",\"2001\",\"2002\",\"2003\",\"2004\",\"2005\",\"2006\",\"2007\",\"2008\",\"2009\",\"2010\",\"2011\",\"2012\",\"2013\",\"2014\",\"2015\",\"2016\",\"2017\",\"2018\",\"2019\",\"2020\"],\"Variable\":[\"Oil & Gas\",\"Oil & Gas\",\"Oil & Gas\",\"Oil & Gas\",\"Oil & Gas\",\"Oil & Gas\",\"Oil & Gas\",\"Oil & Gas\",\"Oil & Gas\",\"Oil & Gas\",\"Oil & Gas\",\"Oil & Gas\",\"Oil & Gas\",\"Oil & Gas\",\"Oil & Gas\",\"Oil & Gas\",\"Oil & Gas\",\"Oil & Gas\",\"Oil & Gas\",\"Oil & Gas\",\"Oil & Gas\"],\"value\":{\"__ndarray__\":\"h4Tjos7N7z+kbxdIUdruPwgHR2zIb+s/agMYFcVA8T9TGN9jqlf1P5ctB22XCvg/79IQblW+/T97RXY7fS4CQIuhzOJ4XPs//h7MXraz/j+mG9FfJZQAQOX1W9mrBQNA9CPHbvV6A0Aef7+bABIHQDJoLGKMIgVATH1ASRReAUAQJkrUHaEGQEjSd+9flwlAfdZipUU/B0ArGEn8ahEJQL9fjv5IqP8/\",\"dtype\":\"float64\",\"shape\":[21]}},\"selected\":{\"id\":\"1571\"},\"selection_policy\":{\"id\":\"1596\"}},\"id\":\"1570\",\"type\":\"ColumnDataSource\"},{\"attributes\":{\"children\":[{\"id\":\"1514\"},{\"id\":\"1519\"},{\"id\":\"1667\"}],\"margin\":[0,0,0,0],\"name\":\"Row03045\",\"tags\":[\"embedded\"]},\"id\":\"1513\",\"type\":\"Row\"},{\"attributes\":{\"source\":{\"id\":\"1554\"}},\"id\":\"1561\",\"type\":\"CDSView\"},{\"attributes\":{\"line_alpha\":0.2,\"line_color\":\"#ff7e0e\",\"line_width\":2,\"x\":{\"field\":\"Date\"},\"y\":{\"field\":\"value\"}},\"id\":\"1575\",\"type\":\"Line\"},{\"attributes\":{\"end\":12.642447978755326,\"reset_end\":12.642447978755326,\"reset_start\":-0.8179299477114663,\"start\":-0.8179299477114663,\"tags\":[[[\"value\",\"value\",null]]]},\"id\":\"1516\",\"type\":\"Range1d\"},{\"attributes\":{\"data_source\":{\"id\":\"1570\"},\"glyph\":{\"id\":\"1573\"},\"hover_glyph\":null,\"muted_glyph\":{\"id\":\"1575\"},\"nonselection_glyph\":{\"id\":\"1574\"},\"selection_glyph\":null,\"view\":{\"id\":\"1577\"}},\"id\":\"1576\",\"type\":\"GlyphRenderer\"},{\"attributes\":{\"factors\":[\"2000\",\"2001\",\"2002\",\"2003\",\"2004\",\"2005\",\"2006\",\"2007\",\"2008\",\"2009\",\"2010\",\"2011\",\"2012\",\"2013\",\"2014\",\"2015\",\"2016\",\"2017\",\"2018\",\"2019\",\"2020\"],\"tags\":[[[\"Date\",\"Date\",null]]]},\"id\":\"1515\",\"type\":\"FactorRange\"},{\"attributes\":{\"line_alpha\":0.2,\"line_color\":\"#1f77b3\",\"line_width\":2,\"x\":{\"field\":\"Date\"},\"y\":{\"field\":\"value\"}},\"id\":\"1559\",\"type\":\"Line\"},{\"attributes\":{\"axis\":{\"id\":\"1531\"},\"dimension\":1,\"grid_line_color\":\"lightgray\",\"grid_line_width\":1.5,\"ticker\":{\"id\":\"1532\"}},\"id\":\"1534\",\"type\":\"Grid\"}],\"root_ids\":[\"1513\"]},\"title\":\"Bokeh Application\",\"version\":\"2.0.2\"}};\n",
       "  var render_items = [{\"docid\":\"7f483f3b-3712-4d12-8dbf-c4c0218687a4\",\"root_ids\":[\"1513\"],\"roots\":{\"1513\":\"78418bdb-c323-4428-809c-af062a09923a\"}}];\n",
       "  root.Bokeh.embed.embed_items_notebook(docs_json, render_items);\n",
       "  }\n",
       "if (root.Bokeh !== undefined) {\n",
       "    embed_document(root);\n",
       "  } else {\n",
       "    var attempts = 0;\n",
       "    var timer = setInterval(function(root) {\n",
       "      if (root.Bokeh !== undefined) {\n",
       "        clearInterval(timer);\n",
       "        embed_document(root);\n",
       "      } else if (document.readyState == \"complete\") {\n",
       "        attempts++;\n",
       "        if (attempts > 100) {\n",
       "          clearInterval(timer);\n",
       "          console.log(\"Bokeh: ERROR: Unable to run BokehJS code because BokehJS library is missing\");\n",
       "        }\n",
       "      }\n",
       "    }, 10, root)\n",
       "  }\n",
       "})(window);</script>"
      ],
      "text/plain": [
       ":NdOverlay   [Variable]\n",
       "   :Curve   [Date]   (value)"
      ]
     },
     "execution_count": 9,
     "metadata": {
      "application/vnd.holoviews_exec.v0+json": {
       "id": "1513"
      }
     },
     "output_type": "execute_result"
    }
   ],
   "source": [
    "cumulative_returns()"
   ]
  },
  {
   "cell_type": "code",
   "execution_count": 10,
   "metadata": {},
   "outputs": [],
   "source": [
    "def five_y_rolling_std():\n",
    "    # Finding the 5-year rolling annual standard deviation \n",
    "    df_rolling_std = combined_pct_change().rolling(window = 5).std().dropna()* 100\n",
    "    \n",
    "    rolling_std_plot = df_rolling_std.hvplot(\n",
    "                                        title = '5 Year Rolling Standard Deviation 2004-2020',\n",
    "                                            ylabel = 'Standard Deviation in %',\n",
    "                                                rot = 90,\n",
    "                                                    width = 1200,\n",
    "                                                        height = 400,\n",
    "                                                            grid = True,\n",
    "                                                                shared_axes = False\n",
    "    )\n",
    "    grid_style = {\n",
    "            'grid_line_color': 'lightgray', \n",
    "                'grid_line_width': 1.5,\n",
    "                  'minor_xgrid_line_color':'lightgray'}\n",
    "    rolling_std_plot.opts(\n",
    "                        fontsize={\n",
    "                            'title': 20, \n",
    "                                'labels': 20, \n",
    "                                    'xticks': 15, \n",
    "                                        'yticks': 15,\n",
    "                                            'legend': 20\n",
    "        },\n",
    "                            legend_position = 'top',\n",
    "                                gridstyle = grid_style\n",
    "                                \n",
    "    )\n",
    "    return rolling_std_plot"
   ]
  },
  {
   "cell_type": "code",
   "execution_count": 11,
   "metadata": {},
   "outputs": [
    {
     "name": "stdout",
     "output_type": "stream",
     "text": [
      "[*********************100%***********************]  4 of 4 completed\n",
      "[*********************100%***********************]  4 of 4 completed\n"
     ]
    },
    {
     "data": {},
     "metadata": {},
     "output_type": "display_data"
    },
    {
     "data": {
      "application/vnd.holoviews_exec.v0+json": "",
      "text/html": [
       "<div id='1719'>\n",
       "\n",
       "\n",
       "\n",
       "\n",
       "\n",
       "  <div class=\"bk-root\" id=\"ac046a88-a32d-4ed6-8b72-4644f7ddf903\" data-root-id=\"1719\"></div>\n",
       "</div>\n",
       "<script type=\"application/javascript\">(function(root) {\n",
       "  function embed_document(root) {\n",
       "  var docs_json = {\"b67682e3-a2ad-413a-9061-d5483933197a\":{\"roots\":{\"references\":[{\"attributes\":{\"data\":{\"Date\":[\"2004\",\"2005\",\"2006\",\"2007\",\"2008\",\"2009\",\"2010\",\"2011\",\"2012\",\"2013\",\"2014\",\"2015\",\"2016\",\"2017\",\"2018\",\"2019\",\"2020\"],\"Variable\":[\"Oil & Gas\",\"Oil & Gas\",\"Oil & Gas\",\"Oil & Gas\",\"Oil & Gas\",\"Oil & Gas\",\"Oil & Gas\",\"Oil & Gas\",\"Oil & Gas\",\"Oil & Gas\",\"Oil & Gas\",\"Oil & Gas\",\"Oil & Gas\",\"Oil & Gas\",\"Oil & Gas\",\"Oil & Gas\",\"Oil & Gas\"],\"value\":{\"__ndarray__\":\"b10z1B6zMEBNc1pFST4wQKoK6Uuy3i5AN17Df/GsFEB3r1zmbMs0QE17gU68tzNA3wkbW/efM0BwhXWUWTgyQGSvB7ig5C9AMmKofwfEGECisYUM8DIlQNQ3QRCbjC5AM82jdEqKM0CkjcncS8UzQMcpWxTUrDNALFJ/gnzwMkD9MD/IE285QA==\",\"dtype\":\"float64\",\"shape\":[17]}},\"selected\":{\"id\":\"1777\"},\"selection_policy\":{\"id\":\"1802\"}},\"id\":\"1776\",\"type\":\"ColumnDataSource\"},{\"attributes\":{\"margin\":[5,5,5,5],\"name\":\"HSpacer03531\",\"sizing_mode\":\"stretch_width\"},\"id\":\"1873\",\"type\":\"Spacer\"},{\"attributes\":{\"line_color\":\"#ff7e0e\",\"line_width\":2,\"x\":{\"field\":\"Date\"},\"y\":{\"field\":\"value\"}},\"id\":\"1779\",\"type\":\"Line\"},{\"attributes\":{\"source\":{\"id\":\"1760\"}},\"id\":\"1767\",\"type\":\"CDSView\"},{\"attributes\":{\"source\":{\"id\":\"1776\"}},\"id\":\"1783\",\"type\":\"CDSView\"},{\"attributes\":{\"line_alpha\":0.2,\"line_color\":\"#1f77b3\",\"line_width\":2,\"x\":{\"field\":\"Date\"},\"y\":{\"field\":\"value\"}},\"id\":\"1765\",\"type\":\"Line\"},{\"attributes\":{\"label\":{\"value\":\"Alternative Energy\"},\"renderers\":[{\"id\":\"1766\"}]},\"id\":\"1775\",\"type\":\"LegendItem\"},{\"attributes\":{\"click_policy\":\"mute\",\"items\":[{\"id\":\"1775\"},{\"id\":\"1792\"}],\"label_text_font_size\":\"20pt\",\"location\":[0,0],\"orientation\":\"horizontal\",\"title\":\"Variable\"},\"id\":\"1774\",\"type\":\"Legend\"},{\"attributes\":{\"children\":[{\"id\":\"1720\"},{\"id\":\"1725\"},{\"id\":\"1873\"}],\"margin\":[0,0,0,0],\"name\":\"Row03526\",\"tags\":[\"embedded\"]},\"id\":\"1719\",\"type\":\"Row\"},{\"attributes\":{\"bottom_units\":\"screen\",\"fill_alpha\":0.5,\"fill_color\":\"lightgrey\",\"left_units\":\"screen\",\"level\":\"overlay\",\"line_alpha\":1.0,\"line_color\":\"black\",\"line_dash\":[4,4],\"line_width\":2,\"render_mode\":\"css\",\"right_units\":\"screen\",\"top_units\":\"screen\"},\"id\":\"1746\",\"type\":\"BoxAnnotation\"},{\"attributes\":{},\"id\":\"1735\",\"type\":\"CategoricalTicker\"},{\"attributes\":{\"data_source\":{\"id\":\"1776\"},\"glyph\":{\"id\":\"1779\"},\"hover_glyph\":null,\"muted_glyph\":{\"id\":\"1781\"},\"nonselection_glyph\":{\"id\":\"1780\"},\"selection_glyph\":null,\"view\":{\"id\":\"1783\"}},\"id\":\"1782\",\"type\":\"GlyphRenderer\"},{\"attributes\":{\"end\":102.71020974334375,\"reset_end\":102.71020974334375,\"reset_start\":-3.6985027084562665,\"start\":-3.6985027084562665,\"tags\":[[[\"value\",\"value\",null]]]},\"id\":\"1722\",\"type\":\"Range1d\"},{\"attributes\":{\"line_alpha\":0.1,\"line_color\":\"#ff7e0e\",\"line_width\":2,\"x\":{\"field\":\"Date\"},\"y\":{\"field\":\"value\"}},\"id\":\"1780\",\"type\":\"Line\"},{\"attributes\":{},\"id\":\"1732\",\"type\":\"LinearScale\"},{\"attributes\":{\"line_alpha\":0.2,\"line_color\":\"#ff7e0e\",\"line_width\":2,\"x\":{\"field\":\"Date\"},\"y\":{\"field\":\"value\"}},\"id\":\"1781\",\"type\":\"Line\"},{\"attributes\":{},\"id\":\"1802\",\"type\":\"UnionRenderers\"},{\"attributes\":{\"data\":{\"Date\":[\"2004\",\"2005\",\"2006\",\"2007\",\"2008\",\"2009\",\"2010\",\"2011\",\"2012\",\"2013\",\"2014\",\"2015\",\"2016\",\"2017\",\"2018\",\"2019\",\"2020\"],\"Variable\":[\"Alternative Energy\",\"Alternative Energy\",\"Alternative Energy\",\"Alternative Energy\",\"Alternative Energy\",\"Alternative Energy\",\"Alternative Energy\",\"Alternative Energy\",\"Alternative Energy\",\"Alternative Energy\",\"Alternative Energy\",\"Alternative Energy\",\"Alternative Energy\",\"Alternative Energy\",\"Alternative Energy\",\"Alternative Energy\",\"Alternative Energy\"],\"value\":{\"__ndarray__\":\"Lvrn1is4VEAzHRiv8vJTQIiySyviVFNAWNL1ktZkTkAB1uKpBIk3QAaWDLEDoTtAgV/OcyCAOkCYz8uYa5U7QAYeHAF3WDtA0yRlSSVFQECLbiIIJcI+QEJFSmibjENAwENo88BzQ0DtQH3uY+5BQORdehevrzxAvrHRurpoRUCByOC28HVXQA==\",\"dtype\":\"float64\",\"shape\":[17]}},\"selected\":{\"id\":\"1761\"},\"selection_policy\":{\"id\":\"1791\"}},\"id\":\"1760\",\"type\":\"ColumnDataSource\"},{\"attributes\":{},\"id\":\"1777\",\"type\":\"Selection\"},{\"attributes\":{\"callback\":null,\"renderers\":[{\"id\":\"1766\"},{\"id\":\"1782\"}],\"tags\":[\"hv_created\"],\"tooltips\":[[\"Variable\",\"@{Variable}\"],[\"Date\",\"@{Date}\"],[\"value\",\"@{value}\"]]},\"id\":\"1723\",\"type\":\"HoverTool\"},{\"attributes\":{\"label\":{\"value\":\"Oil & Gas\"},\"renderers\":[{\"id\":\"1782\"}]},\"id\":\"1792\",\"type\":\"LegendItem\"},{\"attributes\":{\"text\":\"5 Year Rolling Standard Deviation 2004-2020\",\"text_color\":{\"value\":\"black\"},\"text_font_size\":{\"value\":\"20pt\"}},\"id\":\"1726\",\"type\":\"Title\"},{\"attributes\":{\"margin\":[5,5,5,5],\"name\":\"HSpacer03530\",\"sizing_mode\":\"stretch_width\"},\"id\":\"1720\",\"type\":\"Spacer\"},{\"attributes\":{},\"id\":\"1738\",\"type\":\"BasicTicker\"},{\"attributes\":{\"factors\":[\"2004\",\"2005\",\"2006\",\"2007\",\"2008\",\"2009\",\"2010\",\"2011\",\"2012\",\"2013\",\"2014\",\"2015\",\"2016\",\"2017\",\"2018\",\"2019\",\"2020\"],\"tags\":[[[\"Date\",\"Date\",null]]]},\"id\":\"1721\",\"type\":\"FactorRange\"},{\"attributes\":{\"above\":[{\"id\":\"1774\"}],\"below\":[{\"id\":\"1734\"}],\"center\":[{\"id\":\"1736\"},{\"id\":\"1740\"}],\"left\":[{\"id\":\"1737\"}],\"margin\":null,\"min_border_bottom\":10,\"min_border_left\":10,\"min_border_right\":10,\"min_border_top\":10,\"plot_height\":400,\"plot_width\":1200,\"renderers\":[{\"id\":\"1766\"},{\"id\":\"1782\"}],\"sizing_mode\":\"fixed\",\"title\":{\"id\":\"1726\"},\"toolbar\":{\"id\":\"1747\"},\"x_range\":{\"id\":\"1721\"},\"x_scale\":{\"id\":\"1730\"},\"y_range\":{\"id\":\"1722\"},\"y_scale\":{\"id\":\"1732\"}},\"id\":\"1725\",\"subtype\":\"Figure\",\"type\":\"Plot\"},{\"attributes\":{\"axis_label\":\"Standard Deviation in %\",\"axis_label_text_font_size\":\"20pt\",\"bounds\":\"auto\",\"formatter\":{\"id\":\"1756\"},\"major_label_orientation\":\"horizontal\",\"major_label_text_font_size\":\"15pt\",\"ticker\":{\"id\":\"1738\"}},\"id\":\"1737\",\"type\":\"LinearAxis\"},{\"attributes\":{},\"id\":\"1743\",\"type\":\"WheelZoomTool\"},{\"attributes\":{},\"id\":\"1730\",\"type\":\"CategoricalScale\"},{\"attributes\":{},\"id\":\"1742\",\"type\":\"PanTool\"},{\"attributes\":{\"axis\":{\"id\":\"1734\"},\"grid_line_color\":\"lightgray\",\"grid_line_width\":1.5,\"minor_grid_line_color\":\"lightgray\",\"ticker\":{\"id\":\"1735\"}},\"id\":\"1736\",\"type\":\"Grid\"},{\"attributes\":{\"axis\":{\"id\":\"1737\"},\"dimension\":1,\"grid_line_color\":\"lightgray\",\"grid_line_width\":1.5,\"ticker\":{\"id\":\"1738\"}},\"id\":\"1740\",\"type\":\"Grid\"},{\"attributes\":{},\"id\":\"1791\",\"type\":\"UnionRenderers\"},{\"attributes\":{},\"id\":\"1741\",\"type\":\"SaveTool\"},{\"attributes\":{\"active_drag\":\"auto\",\"active_inspect\":\"auto\",\"active_multi\":null,\"active_scroll\":\"auto\",\"active_tap\":\"auto\",\"tools\":[{\"id\":\"1723\"},{\"id\":\"1741\"},{\"id\":\"1742\"},{\"id\":\"1743\"},{\"id\":\"1744\"},{\"id\":\"1745\"}]},\"id\":\"1747\",\"type\":\"Toolbar\"},{\"attributes\":{\"axis_label\":\"Date\",\"axis_label_text_font_size\":\"20pt\",\"bounds\":\"auto\",\"formatter\":{\"id\":\"1754\"},\"group_text_font_size\":\"15pt\",\"major_label_orientation\":1.5707963267948966,\"major_label_text_font_size\":\"15pt\",\"ticker\":{\"id\":\"1735\"}},\"id\":\"1734\",\"type\":\"CategoricalAxis\"},{\"attributes\":{},\"id\":\"1754\",\"type\":\"CategoricalTickFormatter\"},{\"attributes\":{\"overlay\":{\"id\":\"1746\"}},\"id\":\"1744\",\"type\":\"BoxZoomTool\"},{\"attributes\":{},\"id\":\"1745\",\"type\":\"ResetTool\"},{\"attributes\":{\"data_source\":{\"id\":\"1760\"},\"glyph\":{\"id\":\"1763\"},\"hover_glyph\":null,\"muted_glyph\":{\"id\":\"1765\"},\"nonselection_glyph\":{\"id\":\"1764\"},\"selection_glyph\":null,\"view\":{\"id\":\"1767\"}},\"id\":\"1766\",\"type\":\"GlyphRenderer\"},{\"attributes\":{},\"id\":\"1761\",\"type\":\"Selection\"},{\"attributes\":{\"line_color\":\"#1f77b3\",\"line_width\":2,\"x\":{\"field\":\"Date\"},\"y\":{\"field\":\"value\"}},\"id\":\"1763\",\"type\":\"Line\"},{\"attributes\":{},\"id\":\"1756\",\"type\":\"BasicTickFormatter\"},{\"attributes\":{\"line_alpha\":0.1,\"line_color\":\"#1f77b3\",\"line_width\":2,\"x\":{\"field\":\"Date\"},\"y\":{\"field\":\"value\"}},\"id\":\"1764\",\"type\":\"Line\"}],\"root_ids\":[\"1719\"]},\"title\":\"Bokeh Application\",\"version\":\"2.0.2\"}};\n",
       "  var render_items = [{\"docid\":\"b67682e3-a2ad-413a-9061-d5483933197a\",\"root_ids\":[\"1719\"],\"roots\":{\"1719\":\"ac046a88-a32d-4ed6-8b72-4644f7ddf903\"}}];\n",
       "  root.Bokeh.embed.embed_items_notebook(docs_json, render_items);\n",
       "  }\n",
       "if (root.Bokeh !== undefined) {\n",
       "    embed_document(root);\n",
       "  } else {\n",
       "    var attempts = 0;\n",
       "    var timer = setInterval(function(root) {\n",
       "      if (root.Bokeh !== undefined) {\n",
       "        clearInterval(timer);\n",
       "        embed_document(root);\n",
       "      } else if (document.readyState == \"complete\") {\n",
       "        attempts++;\n",
       "        if (attempts > 100) {\n",
       "          clearInterval(timer);\n",
       "          console.log(\"Bokeh: ERROR: Unable to run BokehJS code because BokehJS library is missing\");\n",
       "        }\n",
       "      }\n",
       "    }, 10, root)\n",
       "  }\n",
       "})(window);</script>"
      ],
      "text/plain": [
       ":NdOverlay   [Variable]\n",
       "   :Curve   [Date]   (value)"
      ]
     },
     "execution_count": 11,
     "metadata": {
      "application/vnd.holoviews_exec.v0+json": {
       "id": "1719"
      }
     },
     "output_type": "execute_result"
    }
   ],
   "source": [
    "five_y_rolling_std()"
   ]
  },
  {
   "cell_type": "code",
   "execution_count": 12,
   "metadata": {},
   "outputs": [
    {
     "name": "stdout",
     "output_type": "stream",
     "text": [
      "[*********************100%***********************]  4 of 4 completed\n",
      "[*********************100%***********************]  4 of 4 completed\n"
     ]
    },
    {
     "data": {},
     "metadata": {},
     "output_type": "display_data"
    },
    {
     "data": {
      "application/vnd.holoviews_exec.v0+json": "",
      "text/html": [
       "<div id='1925'>\n",
       "\n",
       "\n",
       "\n",
       "\n",
       "\n",
       "  <div class=\"bk-root\" id=\"e4abb317-1768-41c8-9cb8-a1adac8774bc\" data-root-id=\"1925\"></div>\n",
       "</div>\n",
       "<script type=\"application/javascript\">(function(root) {\n",
       "  function embed_document(root) {\n",
       "  var docs_json = {\"ca1caeae-0ed7-49ad-a784-fe3eadefa6cb\":{\"roots\":{\"references\":[{\"attributes\":{},\"id\":\"1935\",\"type\":\"LinearScale\"},{\"attributes\":{},\"id\":\"1961\",\"type\":\"Selection\"},{\"attributes\":{},\"id\":\"1951\",\"type\":\"ResetTool\"},{\"attributes\":{},\"id\":\"1968\",\"type\":\"BasicTickFormatter\"},{\"attributes\":{\"active_drag\":\"auto\",\"active_inspect\":\"auto\",\"active_multi\":null,\"active_scroll\":\"auto\",\"active_tap\":\"auto\",\"tools\":[{\"id\":\"1929\"},{\"id\":\"1947\"},{\"id\":\"1948\"},{\"id\":\"1949\"},{\"id\":\"1950\"},{\"id\":\"1951\"}]},\"id\":\"1953\",\"type\":\"Toolbar\"},{\"attributes\":{\"text\":\"Correlation between Oil Portfolio and Alternative Energy Portfolio Returns\",\"text_color\":{\"value\":\"black\"},\"text_font_size\":{\"value\":\"20pt\"}},\"id\":\"1931\",\"type\":\"Title\"},{\"attributes\":{\"fill_alpha\":{\"value\":0.2},\"fill_color\":{\"value\":\"#1f77b3\"},\"line_alpha\":{\"value\":0.2},\"line_color\":{\"value\":\"#1f77b3\"},\"size\":{\"units\":\"screen\",\"value\":10.0},\"x\":{\"field\":\"Oil & Gas\"},\"y\":{\"field\":\"Alternative Energy\"}},\"id\":\"1965\",\"type\":\"Scatter\"},{\"attributes\":{\"margin\":[5,5,5,5],\"name\":\"HSpacer03994\",\"sizing_mode\":\"stretch_width\"},\"id\":\"1982\",\"type\":\"Spacer\"},{\"attributes\":{\"axis_label\":\"Oil & Gas\",\"axis_label_text_font_size\":\"20pt\",\"bounds\":\"auto\",\"formatter\":{\"id\":\"1968\"},\"major_label_orientation\":\"horizontal\",\"major_label_text_font_size\":\"15pt\",\"ticker\":{\"id\":\"1940\"}},\"id\":\"1939\",\"type\":\"LinearAxis\"},{\"attributes\":{\"callback\":null,\"renderers\":[{\"id\":\"1966\"}],\"tags\":[\"hv_created\"],\"tooltips\":[[\"Oil & Gas\",\"@{Oil_ampersand_Gas}\"],[\"Alternative Energy\",\"@{Alternative_Energy}\"]]},\"id\":\"1929\",\"type\":\"HoverTool\"},{\"attributes\":{},\"id\":\"1981\",\"type\":\"UnionRenderers\"},{\"attributes\":{\"source\":{\"id\":\"1960\"}},\"id\":\"1967\",\"type\":\"CDSView\"},{\"attributes\":{\"children\":[{\"id\":\"1926\"},{\"id\":\"1930\"},{\"id\":\"1982\"}],\"margin\":[0,0,0,0],\"name\":\"Row03989\",\"tags\":[\"embedded\"]},\"id\":\"1925\",\"type\":\"Row\"},{\"attributes\":{\"bottom_units\":\"screen\",\"fill_alpha\":0.5,\"fill_color\":\"lightgrey\",\"left_units\":\"screen\",\"level\":\"overlay\",\"line_alpha\":1.0,\"line_color\":\"black\",\"line_dash\":[4,4],\"line_width\":2,\"render_mode\":\"css\",\"right_units\":\"screen\",\"top_units\":\"screen\"},\"id\":\"1952\",\"type\":\"BoxAnnotation\"},{\"attributes\":{\"end\":0.32535671657155385,\"reset_end\":0.32535671657155385,\"reset_start\":-0.39095595931106714,\"start\":-0.39095595931106714,\"tags\":[[[\"Oil & Gas\",\"Oil & Gas\",null]]]},\"id\":\"1927\",\"type\":\"Range1d\"},{\"attributes\":{\"fill_alpha\":{\"value\":0.1},\"fill_color\":{\"value\":\"#1f77b3\"},\"line_alpha\":{\"value\":0.1},\"line_color\":{\"value\":\"#1f77b3\"},\"size\":{\"units\":\"screen\",\"value\":10.0},\"x\":{\"field\":\"Oil & Gas\"},\"y\":{\"field\":\"Alternative Energy\"}},\"id\":\"1964\",\"type\":\"Scatter\"},{\"attributes\":{\"fill_color\":{\"value\":\"#1f77b3\"},\"line_color\":{\"value\":\"#1f77b3\"},\"size\":{\"units\":\"screen\",\"value\":10.0},\"x\":{\"field\":\"Oil & Gas\"},\"y\":{\"field\":\"Alternative Energy\"}},\"id\":\"1963\",\"type\":\"Scatter\"},{\"attributes\":{\"data_source\":{\"id\":\"1960\"},\"glyph\":{\"id\":\"1963\"},\"hover_glyph\":null,\"muted_glyph\":{\"id\":\"1965\"},\"nonselection_glyph\":{\"id\":\"1964\"},\"selection_glyph\":null,\"view\":{\"id\":\"1967\"}},\"id\":\"1966\",\"type\":\"GlyphRenderer\"},{\"attributes\":{\"data\":{\"Alternative Energy\":{\"__ndarray__\":\"UCxYXqQot7/szQEwMf3Cvx4ESwZvc+O/n+Upf3Bn+D/GVXBg6B+2P8Ym30Tnh9I/E+f8QU3Kwz9M5R1E9yDGP/YzY3pLwtS/ZMOaBFtp2T8IeBxE52ybP2ptE93Bqb+/t8mkOJQ0xb8svgdftx7iPwRhb6rKsdI/HqRBfmQ42r8PDOU5q0/PP0+fARpBnMo/+Iqyf83+qD+aA2vnMw7pPwcgPKIVnAJA\",\"dtype\":\"float64\",\"shape\":[21]},\"Alternative_Energy\":{\"__ndarray__\":\"UCxYXqQot7/szQEwMf3Cvx4ESwZvc+O/n+Upf3Bn+D/GVXBg6B+2P8Ym30Tnh9I/E+f8QU3Kwz9M5R1E9yDGP/YzY3pLwtS/ZMOaBFtp2T8IeBxE52ybP2ptE93Bqb+/t8mkOJQ0xb8svgdftx7iPwRhb6rKsdI/HqRBfmQ42r8PDOU5q0/PP0+fARpBnMo/+Iqyf83+qD+aA2vnMw7pPwcgPKIVnAJA\",\"dtype\":\"float64\",\"shape\":[21]},\"Oil & Gas\":{\"__ndarray__\":\"YLw9jq4Yeb+gyJwgtJ+ev2jg6TdrWLy/iA8pr4V90D/qIF9v6lbOP1Y3pjLJL8A/EPIY2uRbzj+yhmAB13zMPyB8QbP1r8+/5usn++NBvz+ySkHwO3m0P5xD4Z2G3cI/KJoBVNCpmD8SRXiTy5bHP+7+xyDPebW/L08ZqSHRxr/XG1Rx5GPTPxsE59r8wMA/NCYqtBBzt79wsHibPg20PyJ14Zurlte/\",\"dtype\":\"float64\",\"shape\":[21]},\"Oil_ampersand_Gas\":{\"__ndarray__\":\"YLw9jq4Yeb+gyJwgtJ+ev2jg6TdrWLy/iA8pr4V90D/qIF9v6lbOP1Y3pjLJL8A/EPIY2uRbzj+yhmAB13zMPyB8QbP1r8+/5usn++NBvz+ySkHwO3m0P5xD4Z2G3cI/KJoBVNCpmD8SRXiTy5bHP+7+xyDPebW/L08ZqSHRxr/XG1Rx5GPTPxsE59r8wMA/NCYqtBBzt79wsHibPg20PyJ14Zurlte/\",\"dtype\":\"float64\",\"shape\":[21]}},\"selected\":{\"id\":\"1961\"},\"selection_policy\":{\"id\":\"1981\"}},\"id\":\"1960\",\"type\":\"ColumnDataSource\"},{\"attributes\":{\"axis_label\":\"Alternative Energy\",\"axis_label_text_font_size\":\"20pt\",\"bounds\":\"auto\",\"formatter\":{\"id\":\"1970\"},\"major_label_orientation\":\"horizontal\",\"major_label_text_font_size\":\"15pt\",\"ticker\":{\"id\":\"1944\"}},\"id\":\"1943\",\"type\":\"LinearAxis\"},{\"attributes\":{},\"id\":\"1947\",\"type\":\"SaveTool\"},{\"attributes\":{},\"id\":\"1970\",\"type\":\"BasicTickFormatter\"},{\"attributes\":{\"margin\":[5,5,5,5],\"name\":\"HSpacer03993\",\"sizing_mode\":\"stretch_width\"},\"id\":\"1926\",\"type\":\"Spacer\"},{\"attributes\":{},\"id\":\"1949\",\"type\":\"WheelZoomTool\"},{\"attributes\":{\"overlay\":{\"id\":\"1952\"}},\"id\":\"1950\",\"type\":\"BoxZoomTool\"},{\"attributes\":{},\"id\":\"1944\",\"type\":\"BasicTicker\"},{\"attributes\":{},\"id\":\"1948\",\"type\":\"PanTool\"},{\"attributes\":{\"axis\":{\"id\":\"1943\"},\"dimension\":1,\"grid_line_color\":\"lightgray\",\"grid_line_width\":1.5,\"ticker\":{\"id\":\"1944\"}},\"id\":\"1946\",\"type\":\"Grid\"},{\"attributes\":{},\"id\":\"1940\",\"type\":\"BasicTicker\"},{\"attributes\":{\"axis\":{\"id\":\"1939\"},\"grid_line_color\":\"lightgray\",\"grid_line_width\":1.5,\"minor_grid_line_color\":\"lightgray\",\"ticker\":{\"id\":\"1940\"}},\"id\":\"1942\",\"type\":\"Grid\"},{\"attributes\":{\"below\":[{\"id\":\"1939\"}],\"center\":[{\"id\":\"1942\"},{\"id\":\"1946\"}],\"left\":[{\"id\":\"1943\"}],\"margin\":null,\"min_border_bottom\":10,\"min_border_left\":10,\"min_border_right\":10,\"min_border_top\":10,\"plot_height\":400,\"plot_width\":1200,\"renderers\":[{\"id\":\"1966\"}],\"sizing_mode\":\"fixed\",\"title\":{\"id\":\"1931\"},\"toolbar\":{\"id\":\"1953\"},\"x_range\":{\"id\":\"1927\"},\"x_scale\":{\"id\":\"1935\"},\"y_range\":{\"id\":\"1928\"},\"y_scale\":{\"id\":\"1937\"}},\"id\":\"1930\",\"subtype\":\"Figure\",\"type\":\"Plot\"},{\"attributes\":{},\"id\":\"1937\",\"type\":\"LinearScale\"},{\"attributes\":{\"end\":2.619618554530113,\"reset_end\":2.619618554530113,\"reset_start\":-0.9012464430486415,\"start\":-0.9012464430486415,\"tags\":[[[\"Alternative Energy\",\"Alternative Energy\",null]]]},\"id\":\"1928\",\"type\":\"Range1d\"}],\"root_ids\":[\"1925\"]},\"title\":\"Bokeh Application\",\"version\":\"2.0.2\"}};\n",
       "  var render_items = [{\"docid\":\"ca1caeae-0ed7-49ad-a784-fe3eadefa6cb\",\"root_ids\":[\"1925\"],\"roots\":{\"1925\":\"e4abb317-1768-41c8-9cb8-a1adac8774bc\"}}];\n",
       "  root.Bokeh.embed.embed_items_notebook(docs_json, render_items);\n",
       "  }\n",
       "if (root.Bokeh !== undefined) {\n",
       "    embed_document(root);\n",
       "  } else {\n",
       "    var attempts = 0;\n",
       "    var timer = setInterval(function(root) {\n",
       "      if (root.Bokeh !== undefined) {\n",
       "        clearInterval(timer);\n",
       "        embed_document(root);\n",
       "      } else if (document.readyState == \"complete\") {\n",
       "        attempts++;\n",
       "        if (attempts > 100) {\n",
       "          clearInterval(timer);\n",
       "          console.log(\"Bokeh: ERROR: Unable to run BokehJS code because BokehJS library is missing\");\n",
       "        }\n",
       "      }\n",
       "    }, 10, root)\n",
       "  }\n",
       "})(window);</script>"
      ],
      "text/plain": [
       ":Scatter   [Oil & Gas]   (Alternative Energy)"
      ]
     },
     "execution_count": 12,
     "metadata": {
      "application/vnd.holoviews_exec.v0+json": {
       "id": "1925"
      }
     },
     "output_type": "execute_result"
    }
   ],
   "source": [
    "def oil_and_alt_correlation():\n",
    "    oil_and_alt_correlation = combined_pct_change().hvplot.scatter(\n",
    "                                                                title = 'Correlation between Oil Portfolio and Alternative Energy Portfolio Returns', \n",
    "                                                                        x = 'Oil & Gas', \n",
    "                                                                            y = 'Alternative Energy',\n",
    "                                                                                s = 100,\n",
    "                                                                                    width = 1200,\n",
    "                                                                                        height = 400,\n",
    "                                                                                            grid = True\n",
    "    )\n",
    "    grid_style = {\n",
    "            'grid_line_color': 'lightgray', \n",
    "                'grid_line_width': 1.5,\n",
    "                  'minor_xgrid_line_color':'lightgray'}\n",
    "    \n",
    "    oil_and_alt_correlation.opts(\n",
    "                                fontsize={\n",
    "                                    'title': 20, \n",
    "                                        'labels': 20, \n",
    "                                            'xticks': 15, \n",
    "                                                'yticks': 15,\n",
    "        },\n",
    "                                    gridstyle = grid_style\n",
    "    \n",
    "    )\n",
    "    \n",
    "    return oil_and_alt_correlation\n",
    "oil_and_alt_correlation()"
   ]
  },
  {
   "cell_type": "code",
   "execution_count": 13,
   "metadata": {},
   "outputs": [
    {
     "name": "stdout",
     "output_type": "stream",
     "text": [
      "[*********************100%***********************]  4 of 4 completed\n",
      "[*********************100%***********************]  4 of 4 completed\n"
     ]
    },
    {
     "data": {},
     "metadata": {},
     "output_type": "display_data"
    },
    {
     "data": {
      "application/vnd.holoviews_exec.v0+json": "",
      "text/html": [
       "<div id='2024'>\n",
       "\n",
       "\n",
       "\n",
       "\n",
       "\n",
       "  <div class=\"bk-root\" id=\"588fac9a-cca6-4629-a778-564138bca543\" data-root-id=\"2024\"></div>\n",
       "</div>\n",
       "<script type=\"application/javascript\">(function(root) {\n",
       "  function embed_document(root) {\n",
       "  var docs_json = {\"9d185752-4efc-4e67-b457-44d42389f6d3\":{\"roots\":{\"references\":[{\"attributes\":{},\"id\":\"2039\",\"type\":\"CategoricalTicker\"},{\"attributes\":{\"axis\":{\"id\":\"2041\"},\"dimension\":1,\"ticker\":{\"id\":\"2042\"}},\"id\":\"2044\",\"type\":\"Grid\"},{\"attributes\":{\"active_drag\":\"auto\",\"active_inspect\":\"auto\",\"active_multi\":null,\"active_scroll\":\"auto\",\"active_tap\":\"auto\",\"tools\":[{\"id\":\"2028\"},{\"id\":\"2045\"},{\"id\":\"2046\"},{\"id\":\"2047\"},{\"id\":\"2048\"},{\"id\":\"2049\"}]},\"id\":\"2051\",\"type\":\"Toolbar\"},{\"attributes\":{},\"id\":\"2068\",\"type\":\"BasicTickFormatter\"},{\"attributes\":{\"axis_label\":\"Standard Deviation\",\"axis_label_text_font_size\":\"20pt\",\"bounds\":\"auto\",\"formatter\":{\"id\":\"2068\"},\"major_label_orientation\":\"horizontal\",\"major_label_text_font_size\":\"15pt\",\"ticker\":{\"id\":\"2042\"}},\"id\":\"2041\",\"type\":\"LinearAxis\"},{\"attributes\":{\"data\":{\"Standard_Deviation\":{\"__ndarray__\":\"GapUDQT2xj/IbUbDz/HkPw==\",\"dtype\":\"float64\",\"shape\":[2]},\"index\":[\"Oil & Gas\",\"Alternative Energy\"]},\"selected\":{\"id\":\"2059\"},\"selection_policy\":{\"id\":\"2079\"}},\"id\":\"2058\",\"type\":\"ColumnDataSource\"},{\"attributes\":{},\"id\":\"2059\",\"type\":\"Selection\"},{\"attributes\":{\"below\":[{\"id\":\"2038\"}],\"center\":[{\"id\":\"2040\"},{\"id\":\"2044\"}],\"left\":[{\"id\":\"2041\"}],\"margin\":null,\"min_border_bottom\":10,\"min_border_left\":10,\"min_border_right\":10,\"min_border_top\":10,\"plot_height\":400,\"plot_width\":1200,\"renderers\":[{\"id\":\"2064\"}],\"sizing_mode\":\"fixed\",\"title\":{\"id\":\"2030\"},\"toolbar\":{\"id\":\"2051\"},\"x_range\":{\"id\":\"2026\"},\"x_scale\":{\"id\":\"2034\"},\"y_range\":{\"id\":\"2027\"},\"y_scale\":{\"id\":\"2036\"}},\"id\":\"2029\",\"subtype\":\"Figure\",\"type\":\"Plot\"},{\"attributes\":{},\"id\":\"2079\",\"type\":\"UnionRenderers\"},{\"attributes\":{\"children\":[{\"id\":\"2025\"},{\"id\":\"2029\"},{\"id\":\"2080\"}],\"margin\":[0,0,0,0],\"name\":\"Row04212\",\"tags\":[\"embedded\"]},\"id\":\"2024\",\"type\":\"Row\"},{\"attributes\":{},\"id\":\"2045\",\"type\":\"SaveTool\"},{\"attributes\":{\"axis\":{\"id\":\"2038\"},\"ticker\":{\"id\":\"2039\"}},\"id\":\"2040\",\"type\":\"Grid\"},{\"attributes\":{},\"id\":\"2036\",\"type\":\"LinearScale\"},{\"attributes\":{\"data_source\":{\"id\":\"2058\"},\"glyph\":{\"id\":\"2061\"},\"hover_glyph\":null,\"muted_glyph\":{\"id\":\"2063\"},\"nonselection_glyph\":{\"id\":\"2062\"},\"selection_glyph\":null,\"view\":{\"id\":\"2065\"}},\"id\":\"2064\",\"type\":\"GlyphRenderer\"},{\"attributes\":{\"overlay\":{\"id\":\"2050\"}},\"id\":\"2048\",\"type\":\"BoxZoomTool\"},{\"attributes\":{},\"id\":\"2049\",\"type\":\"ResetTool\"},{\"attributes\":{},\"id\":\"2042\",\"type\":\"BasicTicker\"},{\"attributes\":{},\"id\":\"2047\",\"type\":\"WheelZoomTool\"},{\"attributes\":{},\"id\":\"2034\",\"type\":\"CategoricalScale\"},{\"attributes\":{\"end\":0.7020315350393874,\"reset_end\":0.7020315350393874,\"reset_start\":0.0,\"tags\":[[[\"Standard Deviation\",\"Standard Deviation\",null]]]},\"id\":\"2027\",\"type\":\"Range1d\"},{\"attributes\":{\"margin\":[5,5,5,5],\"name\":\"HSpacer04216\",\"sizing_mode\":\"stretch_width\"},\"id\":\"2025\",\"type\":\"Spacer\"},{\"attributes\":{\"text\":\"Standard Deviation of Returns of Both the Oil and Alternative Portfolios\",\"text_color\":{\"value\":\"black\"},\"text_font_size\":{\"value\":\"20pt\"}},\"id\":\"2030\",\"type\":\"Title\"},{\"attributes\":{},\"id\":\"2066\",\"type\":\"CategoricalTickFormatter\"},{\"attributes\":{\"source\":{\"id\":\"2058\"}},\"id\":\"2065\",\"type\":\"CDSView\"},{\"attributes\":{\"fill_alpha\":{\"value\":0.1},\"fill_color\":{\"value\":\"#1f77b3\"},\"line_alpha\":{\"value\":0.1},\"top\":{\"field\":\"Standard_Deviation\"},\"width\":{\"value\":0.8},\"x\":{\"field\":\"index\"}},\"id\":\"2062\",\"type\":\"VBar\"},{\"attributes\":{\"fill_alpha\":{\"value\":0.2},\"fill_color\":{\"value\":\"#1f77b3\"},\"line_alpha\":{\"value\":0.2},\"top\":{\"field\":\"Standard_Deviation\"},\"width\":{\"value\":0.8},\"x\":{\"field\":\"index\"}},\"id\":\"2063\",\"type\":\"VBar\"},{\"attributes\":{\"axis_label\":\"\",\"axis_label_text_font_size\":\"20pt\",\"bounds\":\"auto\",\"formatter\":{\"id\":\"2066\"},\"group_text_font_size\":\"20pt\",\"major_label_orientation\":\"horizontal\",\"major_label_text_font_size\":\"20pt\",\"ticker\":{\"id\":\"2039\"}},\"id\":\"2038\",\"type\":\"CategoricalAxis\"},{\"attributes\":{\"fill_color\":{\"value\":\"#1f77b3\"},\"top\":{\"field\":\"Standard_Deviation\"},\"width\":{\"value\":0.8},\"x\":{\"field\":\"index\"}},\"id\":\"2061\",\"type\":\"VBar\"},{\"attributes\":{\"callback\":null,\"renderers\":[{\"id\":\"2064\"}],\"tags\":[\"hv_created\"],\"tooltips\":[[\"index\",\"@{index}\"],[\"Standard Deviation\",\"@{Standard_Deviation}\"]]},\"id\":\"2028\",\"type\":\"HoverTool\"},{\"attributes\":{\"bottom_units\":\"screen\",\"fill_alpha\":0.5,\"fill_color\":\"lightgrey\",\"left_units\":\"screen\",\"level\":\"overlay\",\"line_alpha\":1.0,\"line_color\":\"black\",\"line_dash\":[4,4],\"line_width\":2,\"render_mode\":\"css\",\"right_units\":\"screen\",\"top_units\":\"screen\"},\"id\":\"2050\",\"type\":\"BoxAnnotation\"},{\"attributes\":{\"margin\":[5,5,5,5],\"name\":\"HSpacer04217\",\"sizing_mode\":\"stretch_width\"},\"id\":\"2080\",\"type\":\"Spacer\"},{\"attributes\":{},\"id\":\"2046\",\"type\":\"PanTool\"},{\"attributes\":{\"factors\":[\"Oil & Gas\",\"Alternative Energy\"],\"tags\":[[[\"index\",\"index\",null]]]},\"id\":\"2026\",\"type\":\"FactorRange\"}],\"root_ids\":[\"2024\"]},\"title\":\"Bokeh Application\",\"version\":\"2.0.2\"}};\n",
       "  var render_items = [{\"docid\":\"9d185752-4efc-4e67-b457-44d42389f6d3\",\"root_ids\":[\"2024\"],\"roots\":{\"2024\":\"588fac9a-cca6-4629-a778-564138bca543\"}}];\n",
       "  root.Bokeh.embed.embed_items_notebook(docs_json, render_items);\n",
       "  }\n",
       "if (root.Bokeh !== undefined) {\n",
       "    embed_document(root);\n",
       "  } else {\n",
       "    var attempts = 0;\n",
       "    var timer = setInterval(function(root) {\n",
       "      if (root.Bokeh !== undefined) {\n",
       "        clearInterval(timer);\n",
       "        embed_document(root);\n",
       "      } else if (document.readyState == \"complete\") {\n",
       "        attempts++;\n",
       "        if (attempts > 100) {\n",
       "          clearInterval(timer);\n",
       "          console.log(\"Bokeh: ERROR: Unable to run BokehJS code because BokehJS library is missing\");\n",
       "        }\n",
       "      }\n",
       "    }, 10, root)\n",
       "  }\n",
       "})(window);</script>"
      ],
      "text/plain": [
       ":Bars   [index]   (Standard Deviation)"
      ]
     },
     "execution_count": 13,
     "metadata": {
      "application/vnd.holoviews_exec.v0+json": {
       "id": "2024"
      }
     },
     "output_type": "execute_result"
    }
   ],
   "source": [
    "def oil_and_alt_std():\n",
    "    stdev = pd.DataFrame(combined_pct_change().std().sort_values())\n",
    "    stdev.columns = ['Standard Deviation']\n",
    "    stdev = stdev.hvplot.bar(\n",
    "                            title = 'Standard Deviation of Returns of Both the Oil and Alternative Portfolios',\n",
    "                                width = 1200,\n",
    "                                    height = 400,\n",
    "                                        grid = True\n",
    "    )\n",
    "    grid_style = {\n",
    "            'grid_line_color': 'lightgray', \n",
    "                'grid_line_width': 1.5,\n",
    "                  'minor_xgrid_line_color':'lightgray'}\n",
    "    \n",
    "    stdev.opts(\n",
    "            fontsize={\n",
    "                'title': 20, \n",
    "                    'labels': 20, \n",
    "                        'xticks': 20, \n",
    "                            'yticks': 15,\n",
    "        }\n",
    "    )\n",
    "    return stdev\n",
    "oil_and_alt_std()"
   ]
  },
  {
   "cell_type": "code",
   "execution_count": 14,
   "metadata": {},
   "outputs": [
    {
     "name": "stdout",
     "output_type": "stream",
     "text": [
      "[*********************100%***********************]  4 of 4 completed\n",
      "[*********************100%***********************]  4 of 4 completed\n",
      "[*********************100%***********************]  4 of 4 completed\n",
      "[*********************100%***********************]  4 of 4 completed\n",
      "[*********************100%***********************]  4 of 4 completed\n",
      "[*********************100%***********************]  4 of 4 completed\n",
      "[*********************100%***********************]  4 of 4 completed\n",
      "[*********************100%***********************]  4 of 4 completed\n",
      "[*********************100%***********************]  4 of 4 completed\n",
      "[*********************100%***********************]  4 of 4 completed\n"
     ]
    }
   ],
   "source": [
    "industry_stock_returns_row = pn.Column(\n",
    "                                    '## Stock Returns by Industry',\n",
    "                                        combined_base(),\n",
    "                                            cumulative_returns()\n",
    ")\n",
    "\n",
    "industry_stock_risk_row = pn.Column(\n",
    "                                '## Stock Risk by Industry',\n",
    "                                    five_y_rolling_std,\n",
    "                                        oil_and_alt_std\n",
    ")\n",
    "\n",
    "correlation_row = pn.Column(\n",
    "                        'Correlations',\n",
    "                            oil_and_alt_correlation\n",
    ")"
   ]
  },
  {
   "cell_type": "code",
   "execution_count": 15,
   "metadata": {},
   "outputs": [
    {
     "data": {},
     "metadata": {},
     "output_type": "display_data"
    },
    {
     "data": {},
     "metadata": {},
     "output_type": "display_data"
    },
    {
     "data": {
      "application/vnd.holoviews_exec.v0+json": "",
      "text/html": [
       "<div id='2122'>\n",
       "\n",
       "\n",
       "\n",
       "\n",
       "\n",
       "  <div class=\"bk-root\" id=\"09d42c78-9bb7-4197-b4c2-78a3f661d38d\" data-root-id=\"2122\"></div>\n",
       "</div>\n",
       "<script type=\"application/javascript\">(function(root) {\n",
       "  function embed_document(root) {\n",
       "  var docs_json = {\"16343ab9-9942-4518-94ed-edc76b2f334b\":{\"roots\":{\"references\":[{\"attributes\":{},\"id\":\"2852\",\"type\":\"BasicTicker\"},{\"attributes\":{},\"id\":\"2844\",\"type\":\"CategoricalScale\"},{\"attributes\":{\"bottom_units\":\"screen\",\"fill_alpha\":0.5,\"fill_color\":\"lightgrey\",\"left_units\":\"screen\",\"level\":\"overlay\",\"line_alpha\":1.0,\"line_color\":\"black\",\"line_dash\":[4,4],\"line_width\":2,\"render_mode\":\"css\",\"right_units\":\"screen\",\"top_units\":\"screen\"},\"id\":\"2706\",\"type\":\"BoxAnnotation\"},{\"attributes\":{},\"id\":\"2849\",\"type\":\"CategoricalTicker\"},{\"attributes\":{\"line_color\":\"#d62628\",\"line_width\":2,\"x\":{\"field\":\"Date\"},\"y\":{\"field\":\"value\"}},\"id\":\"2225\",\"type\":\"Line\"},{\"attributes\":{\"data\":{\"Date\":[\"1999\",\"2000\",\"2001\",\"2002\",\"2003\",\"2004\",\"2005\",\"2006\",\"2007\",\"2008\",\"2009\",\"2010\",\"2011\",\"2012\",\"2013\",\"2014\",\"2015\",\"2016\",\"2017\",\"2018\",\"2019\",\"2020\"],\"Variable\":[\"BP\",\"BP\",\"BP\",\"BP\",\"BP\",\"BP\",\"BP\",\"BP\",\"BP\",\"BP\",\"BP\",\"BP\",\"BP\",\"BP\",\"BP\",\"BP\",\"BP\",\"BP\",\"BP\",\"BP\",\"BP\",\"BP\"],\"value\":{\"__ndarray__\":\"AAAAwCYxNkAAAADgB2UyQAAAAOCtYTJAAAAAoC+gMEAAAAAAAwM1QAAAAKC6qzlAAAAAwNMnPUAAAADg+Hk/QAAAACCmzkFAAAAAgHALOEAAAABg4vA/QAAAAABPtThAAAAAwEzVOEAAAACgKlc5QAAAACDNGT9AAAAAwFSjOUAAAAAAdls2QAAAAKA+1DxAAAAA4ENPQUAAAAAgwYRAQAAAAABQe0FAAAAAwB6FNEA=\",\"dtype\":\"float64\",\"shape\":[22]}},\"selected\":{\"id\":\"2244\"},\"selection_policy\":{\"id\":\"2289\"}},\"id\":\"2243\",\"type\":\"ColumnDataSource\"},{\"attributes\":{\"axis_label\":\"Standard Deviation\",\"axis_label_text_font_size\":\"20pt\",\"bounds\":\"auto\",\"formatter\":{\"id\":\"2878\"},\"major_label_orientation\":\"horizontal\",\"major_label_text_font_size\":\"15pt\",\"ticker\":{\"id\":\"2852\"}},\"id\":\"2851\",\"type\":\"LinearAxis\"},{\"attributes\":{\"line_alpha\":0.1,\"line_color\":\"#d62628\",\"line_width\":2,\"x\":{\"field\":\"Date\"},\"y\":{\"field\":\"value\"}},\"id\":\"2226\",\"type\":\"Line\"},{\"attributes\":{},\"id\":\"2164\",\"type\":\"CategoricalTickFormatter\"},{\"attributes\":{\"axis_label\":\"\",\"axis_label_text_font_size\":\"20pt\",\"bounds\":\"auto\",\"formatter\":{\"id\":\"2876\"},\"group_text_font_size\":\"20pt\",\"major_label_orientation\":\"horizontal\",\"major_label_text_font_size\":\"20pt\",\"ticker\":{\"id\":\"2849\"}},\"id\":\"2848\",\"type\":\"CategoricalAxis\"},{\"attributes\":{},\"id\":\"2223\",\"type\":\"Selection\"},{\"attributes\":{\"axis\":{\"id\":\"2848\"},\"ticker\":{\"id\":\"2849\"}},\"id\":\"2850\",\"type\":\"Grid\"},{\"attributes\":{\"axis\":{\"id\":\"2851\"},\"dimension\":1,\"ticker\":{\"id\":\"2852\"}},\"id\":\"2854\",\"type\":\"Grid\"},{\"attributes\":{},\"id\":\"2166\",\"type\":\"BasicTickFormatter\"},{\"attributes\":{},\"id\":\"2846\",\"type\":\"LinearScale\"},{\"attributes\":{},\"id\":\"2855\",\"type\":\"SaveTool\"},{\"attributes\":{},\"id\":\"2856\",\"type\":\"PanTool\"},{\"attributes\":{\"fill_color\":{\"value\":\"#1f77b3\"},\"top\":{\"field\":\"Standard_Deviation\"},\"width\":{\"value\":0.8},\"x\":{\"field\":\"index\"}},\"id\":\"2871\",\"type\":\"VBar\"},{\"attributes\":{},\"id\":\"2857\",\"type\":\"WheelZoomTool\"},{\"attributes\":{\"overlay\":{\"id\":\"2860\"}},\"id\":\"2858\",\"type\":\"BoxZoomTool\"},{\"attributes\":{},\"id\":\"2859\",\"type\":\"ResetTool\"},{\"attributes\":{},\"id\":\"2220\",\"type\":\"UnionRenderers\"},{\"attributes\":{},\"id\":\"2289\",\"type\":\"UnionRenderers\"},{\"attributes\":{},\"id\":\"2714\",\"type\":\"CategoricalTickFormatter\"},{\"attributes\":{\"active_drag\":\"auto\",\"active_inspect\":\"auto\",\"active_multi\":null,\"active_scroll\":\"auto\",\"active_tap\":\"auto\",\"tools\":[{\"id\":\"2898\"},{\"id\":\"2916\"},{\"id\":\"2917\"},{\"id\":\"2918\"},{\"id\":\"2919\"},{\"id\":\"2920\"}]},\"id\":\"2922\",\"type\":\"Toolbar\"},{\"attributes\":{},\"id\":\"2292\",\"type\":\"Selection\"},{\"attributes\":{},\"id\":\"2716\",\"type\":\"BasicTickFormatter\"},{\"attributes\":{\"data_source\":{\"id\":\"2222\"},\"glyph\":{\"id\":\"2225\"},\"hover_glyph\":null,\"muted_glyph\":{\"id\":\"2227\"},\"nonselection_glyph\":{\"id\":\"2226\"},\"selection_glyph\":null,\"view\":{\"id\":\"2229\"}},\"id\":\"2228\",\"type\":\"GlyphRenderer\"},{\"attributes\":{\"label\":{\"value\":\"ELP\"},\"renderers\":[{\"id\":\"2209\"}]},\"id\":\"2221\",\"type\":\"LegendItem\"},{\"attributes\":{\"css_classes\":[\"markdown\"],\"margin\":[5,5,5,5],\"name\":\"Markdown04703\",\"text\":\"&lt;h2&gt;Stock Returns by Industry&lt;/h2&gt;\"},\"id\":\"2124\",\"type\":\"panel.models.markup.HTML\"},{\"attributes\":{\"line_color\":\"#e277c1\",\"line_width\":2,\"x\":{\"field\":\"Date\"},\"y\":{\"field\":\"value\"}},\"id\":\"2294\",\"type\":\"Line\"},{\"attributes\":{\"bottom_units\":\"screen\",\"fill_alpha\":0.5,\"fill_color\":\"lightgrey\",\"left_units\":\"screen\",\"level\":\"overlay\",\"line_alpha\":1.0,\"line_color\":\"black\",\"line_dash\":[4,4],\"line_width\":2,\"render_mode\":\"css\",\"right_units\":\"screen\",\"top_units\":\"screen\"},\"id\":\"2860\",\"type\":\"BoxAnnotation\"},{\"attributes\":{\"line_alpha\":0.2,\"line_color\":\"#e277c1\",\"line_width\":2,\"x\":{\"field\":\"Date\"},\"y\":{\"field\":\"value\"}},\"id\":\"2296\",\"type\":\"Line\"},{\"attributes\":{\"label\":{\"value\":\"RDS-B\"},\"renderers\":[{\"id\":\"2297\"}]},\"id\":\"2317\",\"type\":\"LegendItem\"},{\"attributes\":{\"source\":{\"id\":\"2291\"}},\"id\":\"2298\",\"type\":\"CDSView\"},{\"attributes\":{\"line_alpha\":0.1,\"line_color\":\"#e277c1\",\"line_width\":2,\"x\":{\"field\":\"Date\"},\"y\":{\"field\":\"value\"}},\"id\":\"2295\",\"type\":\"Line\"},{\"attributes\":{\"data_source\":{\"id\":\"2291\"},\"glyph\":{\"id\":\"2294\"},\"hover_glyph\":null,\"muted_glyph\":{\"id\":\"2296\"},\"nonselection_glyph\":{\"id\":\"2295\"},\"selection_glyph\":null,\"view\":{\"id\":\"2298\"}},\"id\":\"2297\",\"type\":\"GlyphRenderer\"},{\"attributes\":{\"child\":{\"id\":\"2676\"},\"name\":\"Column04989\",\"title\":\"Stock Risks\"},\"id\":\"2890\",\"type\":\"Panel\"},{\"attributes\":{\"active_drag\":\"auto\",\"active_inspect\":\"auto\",\"active_multi\":null,\"active_scroll\":\"auto\",\"active_tap\":\"auto\",\"tools\":[{\"id\":\"2838\"},{\"id\":\"2855\"},{\"id\":\"2856\"},{\"id\":\"2857\"},{\"id\":\"2858\"},{\"id\":\"2859\"}]},\"id\":\"2861\",\"type\":\"Toolbar\"},{\"attributes\":{},\"id\":\"2316\",\"type\":\"UnionRenderers\"},{\"attributes\":{\"data\":{\"Date\":[\"1999\",\"2000\",\"2001\",\"2002\",\"2003\",\"2004\",\"2005\",\"2006\",\"2007\",\"2008\",\"2009\",\"2010\",\"2011\",\"2012\",\"2013\",\"2014\",\"2015\",\"2016\",\"2017\",\"2018\",\"2019\",\"2020\"],\"Variable\":[\"PLUG\",\"PLUG\",\"PLUG\",\"PLUG\",\"PLUG\",\"PLUG\",\"PLUG\",\"PLUG\",\"PLUG\",\"PLUG\",\"PLUG\",\"PLUG\",\"PLUG\",\"PLUG\",\"PLUG\",\"PLUG\",\"PLUG\",\"PLUG\",\"PLUG\",\"PLUG\",\"PLUG\",\"PLUG\"],\"value\":{\"__ndarray__\":\"AAAAAACocUAAAAAAAFxiQAAAAKCZ2VVAAAAAQDNzRkAAAAAAACBSQAAAAMDMjE5AAAAAYGamSUAAAABAM3NDQAAAAAAAwENAAAAAYGZmJEAAAABgZmYcQAAAAKCZmQ1AAAAAgOtRAEAAAAAAAADgPwAAAMDMzPg/AAAAAAAACEAAAACgR+EAQAAAAEAzM/M/AAAAoEfhAkAAAABACtfzPwAAACCuRwlAAAAA4Hr0QEA=\",\"dtype\":\"float64\",\"shape\":[22]}},\"selected\":{\"id\":\"2223\"},\"selection_policy\":{\"id\":\"2264\"}},\"id\":\"2222\",\"type\":\"ColumnDataSource\"},{\"attributes\":{\"fill_alpha\":{\"value\":0.1},\"fill_color\":{\"value\":\"#1f77b3\"},\"line_alpha\":{\"value\":0.1},\"top\":{\"field\":\"Standard_Deviation\"},\"width\":{\"value\":0.8},\"x\":{\"field\":\"index\"}},\"id\":\"2872\",\"type\":\"VBar\"},{\"attributes\":{},\"id\":\"2869\",\"type\":\"Selection\"},{\"attributes\":{\"source\":{\"id\":\"2868\"}},\"id\":\"2875\",\"type\":\"CDSView\"},{\"attributes\":{\"source\":{\"id\":\"2222\"}},\"id\":\"2229\",\"type\":\"CDSView\"},{\"attributes\":{\"line_alpha\":0.2,\"line_color\":\"#ff7e0e\",\"line_width\":2,\"x\":{\"field\":\"Date\"},\"y\":{\"field\":\"value\"}},\"id\":\"2741\",\"type\":\"Line\"},{\"attributes\":{},\"id\":\"2876\",\"type\":\"CategoricalTickFormatter\"},{\"attributes\":{\"line_alpha\":0.2,\"line_color\":\"#d62628\",\"line_width\":2,\"x\":{\"field\":\"Date\"},\"y\":{\"field\":\"value\"}},\"id\":\"2227\",\"type\":\"Line\"},{\"attributes\":{\"line_alpha\":0.1,\"line_color\":\"#7e7e7e\",\"line_width\":2,\"x\":{\"field\":\"Date\"},\"y\":{\"field\":\"value\"}},\"id\":\"2322\",\"type\":\"Line\"},{\"attributes\":{\"source\":{\"id\":\"2318\"}},\"id\":\"2325\",\"type\":\"CDSView\"},{\"attributes\":{\"line_color\":\"#ff7e0e\",\"line_width\":2,\"x\":{\"field\":\"Date\"},\"y\":{\"field\":\"value\"}},\"id\":\"2739\",\"type\":\"Line\"},{\"attributes\":{\"data_source\":{\"id\":\"2318\"},\"glyph\":{\"id\":\"2321\"},\"hover_glyph\":null,\"muted_glyph\":{\"id\":\"2323\"},\"nonselection_glyph\":{\"id\":\"2322\"},\"selection_glyph\":null,\"view\":{\"id\":\"2325\"}},\"id\":\"2324\",\"type\":\"GlyphRenderer\"},{\"attributes\":{\"label\":{\"value\":\"PLUG\"},\"renderers\":[{\"id\":\"2228\"}]},\"id\":\"2242\",\"type\":\"LegendItem\"},{\"attributes\":{\"fill_alpha\":{\"value\":0.2},\"fill_color\":{\"value\":\"#1f77b3\"},\"line_alpha\":{\"value\":0.2},\"top\":{\"field\":\"Standard_Deviation\"},\"width\":{\"value\":0.8},\"x\":{\"field\":\"index\"}},\"id\":\"2873\",\"type\":\"VBar\"},{\"attributes\":{\"label\":{\"value\":\"XOM\"},\"renderers\":[{\"id\":\"2324\"}]},\"id\":\"2346\",\"type\":\"LegendItem\"},{\"attributes\":{\"text\":\"Standard Deviation of Returns of Both the Oil and Alternative Portfolios\",\"text_color\":{\"value\":\"black\"},\"text_font_size\":{\"value\":\"20pt\"}},\"id\":\"2840\",\"type\":\"Title\"},{\"attributes\":{\"data_source\":{\"id\":\"2868\"},\"glyph\":{\"id\":\"2871\"},\"hover_glyph\":null,\"muted_glyph\":{\"id\":\"2873\"},\"nonselection_glyph\":{\"id\":\"2872\"},\"selection_glyph\":null,\"view\":{\"id\":\"2875\"}},\"id\":\"2874\",\"type\":\"GlyphRenderer\"},{\"attributes\":{\"source\":{\"id\":\"2736\"}},\"id\":\"2743\",\"type\":\"CDSView\"},{\"attributes\":{\"label\":{\"value\":\"Oil & Gas\"},\"renderers\":[{\"id\":\"2742\"}]},\"id\":\"2752\",\"type\":\"LegendItem\"},{\"attributes\":{\"data\":{\"Date\":[\"1999\",\"2000\",\"2001\",\"2002\",\"2003\",\"2004\",\"2005\",\"2006\",\"2007\",\"2008\",\"2009\",\"2010\",\"2011\",\"2012\",\"2013\",\"2014\",\"2015\",\"2016\",\"2017\",\"2018\",\"2019\",\"2020\"],\"Variable\":[\"XOM\",\"XOM\",\"XOM\",\"XOM\",\"XOM\",\"XOM\",\"XOM\",\"XOM\",\"XOM\",\"XOM\",\"XOM\",\"XOM\",\"XOM\",\"XOM\",\"XOM\",\"XOM\",\"XOM\",\"XOM\",\"XOM\",\"XOM\",\"XOM\",\"XOM\"],\"value\":{\"__ndarray__\":\"AAAAgEJbNUAAAACA9oo3QAAAAIAYwTVAAAAAAPDSM0AAAABgfOo3QAAAACCZoD5AAAAAQFseQUAAAADg985HQAAAAIBOl01AAAAAoF22SUAAAACgqXhGQAAAACBYv0hAAAAAIAFeTUAAAAAAc79OQAAAAOCHd1JAAAAA4DtZUUAAAACAPUJOQAAAAIAtI1JAAAAAYGpyUUAAAABgkqBNQAAAAKAnxU9AAAAAIA5EREA=\",\"dtype\":\"float64\",\"shape\":[22]}},\"selected\":{\"id\":\"2319\"},\"selection_policy\":{\"id\":\"2368\"}},\"id\":\"2318\",\"type\":\"ColumnDataSource\"},{\"attributes\":{},\"id\":\"2241\",\"type\":\"UnionRenderers\"},{\"attributes\":{\"line_color\":\"#7e7e7e\",\"line_width\":2,\"x\":{\"field\":\"Date\"},\"y\":{\"field\":\"value\"}},\"id\":\"2321\",\"type\":\"Line\"},{\"attributes\":{},\"id\":\"2878\",\"type\":\"BasicTickFormatter\"},{\"attributes\":{},\"id\":\"2737\",\"type\":\"Selection\"},{\"attributes\":{\"data_source\":{\"id\":\"2266\"},\"glyph\":{\"id\":\"2269\"},\"hover_glyph\":null,\"muted_glyph\":{\"id\":\"2271\"},\"nonselection_glyph\":{\"id\":\"2270\"},\"selection_glyph\":null,\"view\":{\"id\":\"2273\"}},\"id\":\"2272\",\"type\":\"GlyphRenderer\"},{\"attributes\":{},\"id\":\"2319\",\"type\":\"Selection\"},{\"attributes\":{\"data_source\":{\"id\":\"2736\"},\"glyph\":{\"id\":\"2739\"},\"hover_glyph\":null,\"muted_glyph\":{\"id\":\"2741\"},\"nonselection_glyph\":{\"id\":\"2740\"},\"selection_glyph\":null,\"view\":{\"id\":\"2743\"}},\"id\":\"2742\",\"type\":\"GlyphRenderer\"},{\"attributes\":{\"line_alpha\":0.1,\"line_color\":\"#ff7e0e\",\"line_width\":2,\"x\":{\"field\":\"Date\"},\"y\":{\"field\":\"value\"}},\"id\":\"2740\",\"type\":\"Line\"},{\"attributes\":{\"line_alpha\":0.2,\"line_color\":\"#7e7e7e\",\"line_width\":2,\"x\":{\"field\":\"Date\"},\"y\":{\"field\":\"value\"}},\"id\":\"2323\",\"type\":\"Line\"},{\"attributes\":{\"line_alpha\":0.2,\"line_color\":\"#2ba02b\",\"line_width\":2,\"x\":{\"field\":\"Date\"},\"y\":{\"field\":\"value\"}},\"id\":\"2208\",\"type\":\"Line\"},{\"attributes\":{\"line_alpha\":0.1,\"line_color\":\"#2ba02b\",\"line_width\":2,\"x\":{\"field\":\"Date\"},\"y\":{\"field\":\"value\"}},\"id\":\"2207\",\"type\":\"Line\"},{\"attributes\":{},\"id\":\"2204\",\"type\":\"Selection\"},{\"attributes\":{\"source\":{\"id\":\"2203\"}},\"id\":\"2210\",\"type\":\"CDSView\"},{\"attributes\":{\"factors\":[\"1999\",\"2000\",\"2001\",\"2002\",\"2003\",\"2004\",\"2005\",\"2006\",\"2007\",\"2008\",\"2009\",\"2010\",\"2011\",\"2012\",\"2013\",\"2014\",\"2015\",\"2016\",\"2017\",\"2018\",\"2019\",\"2020\"],\"tags\":[[[\"Date\",\"Date\",null]]]},\"id\":\"2125\",\"type\":\"FactorRange\"},{\"attributes\":{\"end\":120,\"reset_end\":120,\"reset_start\":0,\"tags\":[[[\"value\",\"value\",null]]]},\"id\":\"2126\",\"type\":\"Range1d\"},{\"attributes\":{\"line_color\":\"#2ba02b\",\"line_width\":2,\"x\":{\"field\":\"Date\"},\"y\":{\"field\":\"value\"}},\"id\":\"2206\",\"type\":\"Line\"},{\"attributes\":{\"text\":\"Oil and Alternative Stock Prices from 1999-2020\",\"text_color\":{\"value\":\"black\"},\"text_font_size\":{\"value\":\"20pt\"}},\"id\":\"2136\",\"type\":\"Title\"},{\"attributes\":{\"data\":{\"Date\":[\"1999\",\"2000\",\"2001\",\"2002\",\"2003\",\"2004\",\"2005\",\"2006\",\"2007\",\"2008\",\"2009\",\"2010\",\"2011\",\"2012\",\"2013\",\"2014\",\"2015\",\"2016\",\"2017\",\"2018\",\"2019\",\"2020\"],\"Variable\":[\"ELP\",\"ELP\",\"ELP\",\"ELP\",\"ELP\",\"ELP\",\"ELP\",\"ELP\",\"ELP\",\"ELP\",\"ELP\",\"ELP\",\"ELP\",\"ELP\",\"ELP\",\"ELP\",\"ELP\",\"ELP\",\"ELP\",\"ELP\",\"ELP\",\"ELP\"],\"value\":{\"__ndarray__\":\"AAAAgB6oEEAAAADgyiYPQAAAAECk8A1AAAAAIA3g9T8AAACgEZECQAAAAGAjrgFAAAAA4MefDkAAAABggcgWQAAAACBpUSBAAAAAIPeXF0AAAAAgOWEpQAAAAGAJSS5AAAAAoA9DKkAAAADg64EjQAAAAEDa5SFAAAAA4P9LI0AAAACgf6cRQAAAAAD+nhpAAAAAgKuqGUAAAADgF60cQAAAAIDSOzBAAAAAoJmZLEA=\",\"dtype\":\"float64\",\"shape\":[22]}},\"selected\":{\"id\":\"2204\"},\"selection_policy\":{\"id\":\"2241\"}},\"id\":\"2203\",\"type\":\"ColumnDataSource\"},{\"attributes\":{},\"id\":\"2145\",\"type\":\"CategoricalTicker\"},{\"attributes\":{\"callback\":null,\"renderers\":[{\"id\":\"2176\"},{\"id\":\"2192\"},{\"id\":\"2209\"},{\"id\":\"2228\"},{\"id\":\"2249\"},{\"id\":\"2272\"},{\"id\":\"2297\"},{\"id\":\"2324\"}],\"tags\":[\"hv_created\"],\"tooltips\":[[\"Variable\",\"@{Variable}\"],[\"Date\",\"@{Date}\"],[\"value\",\"@{value}\"]]},\"id\":\"2127\",\"type\":\"HoverTool\"},{\"attributes\":{\"line_alpha\":0.2,\"line_color\":\"#ff7e0e\",\"line_width\":2,\"x\":{\"field\":\"Date\"},\"y\":{\"field\":\"value\"}},\"id\":\"2191\",\"type\":\"Line\"},{\"attributes\":{},\"id\":\"2140\",\"type\":\"CategoricalScale\"},{\"attributes\":{\"data_source\":{\"id\":\"2203\"},\"glyph\":{\"id\":\"2206\"},\"hover_glyph\":null,\"muted_glyph\":{\"id\":\"2208\"},\"nonselection_glyph\":{\"id\":\"2207\"},\"selection_glyph\":null,\"view\":{\"id\":\"2210\"}},\"id\":\"2209\",\"type\":\"GlyphRenderer\"},{\"attributes\":{},\"id\":\"2148\",\"type\":\"BasicTicker\"},{\"attributes\":{\"source\":{\"id\":\"2186\"}},\"id\":\"2193\",\"type\":\"CDSView\"},{\"attributes\":{\"axis_label\":\"Stock Price\",\"axis_label_text_font_size\":\"20pt\",\"bounds\":\"auto\",\"formatter\":{\"id\":\"2166\"},\"major_label_orientation\":\"horizontal\",\"major_label_text_font_size\":\"15pt\",\"ticker\":{\"id\":\"2148\"}},\"id\":\"2147\",\"type\":\"LinearAxis\"},{\"attributes\":{\"below\":[{\"id\":\"2144\"}],\"center\":[{\"id\":\"2146\"},{\"id\":\"2150\"}],\"left\":[{\"id\":\"2147\"}],\"margin\":null,\"min_border_bottom\":10,\"min_border_left\":10,\"min_border_right\":10,\"min_border_top\":10,\"plot_height\":400,\"plot_width\":1200,\"renderers\":[{\"id\":\"2176\"},{\"id\":\"2192\"},{\"id\":\"2209\"},{\"id\":\"2228\"},{\"id\":\"2249\"},{\"id\":\"2272\"},{\"id\":\"2297\"},{\"id\":\"2324\"}],\"right\":[{\"id\":\"2184\"}],\"sizing_mode\":\"fixed\",\"title\":{\"id\":\"2136\"},\"toolbar\":{\"id\":\"2157\"},\"x_range\":{\"id\":\"2125\"},\"x_scale\":{\"id\":\"2140\"},\"y_range\":{\"id\":\"2126\"},\"y_scale\":{\"id\":\"2142\"}},\"id\":\"2135\",\"subtype\":\"Figure\",\"type\":\"Plot\"},{\"attributes\":{\"label\":{\"value\":\"CIG\"},\"renderers\":[{\"id\":\"2192\"}]},\"id\":\"2202\",\"type\":\"LegendItem\"},{\"attributes\":{\"axis_label\":\"Date\",\"axis_label_text_font_size\":\"20pt\",\"bounds\":\"auto\",\"formatter\":{\"id\":\"2164\"},\"group_text_font_size\":\"15pt\",\"major_label_orientation\":1.5707963267948966,\"major_label_text_font_size\":\"15pt\",\"ticker\":{\"id\":\"2145\"}},\"id\":\"2144\",\"type\":\"CategoricalAxis\"},{\"attributes\":{\"axis\":{\"id\":\"2144\"},\"grid_line_color\":\"lightgray\",\"grid_line_width\":1.5,\"minor_grid_line_color\":\"lightgray\",\"ticker\":{\"id\":\"2145\"}},\"id\":\"2146\",\"type\":\"Grid\"},{\"attributes\":{},\"id\":\"2152\",\"type\":\"PanTool\"},{\"attributes\":{},\"id\":\"2142\",\"type\":\"LinearScale\"},{\"attributes\":{\"line_alpha\":0.2,\"line_color\":\"#1f77b3\",\"line_width\":2,\"x\":{\"field\":\"Date\"},\"y\":{\"field\":\"value\"}},\"id\":\"2175\",\"type\":\"Line\"},{\"attributes\":{},\"id\":\"2153\",\"type\":\"WheelZoomTool\"},{\"attributes\":{\"axis\":{\"id\":\"2147\"},\"dimension\":1,\"grid_line_color\":\"lightgray\",\"grid_line_width\":1.5,\"ticker\":{\"id\":\"2148\"}},\"id\":\"2150\",\"type\":\"Grid\"},{\"attributes\":{},\"id\":\"2151\",\"type\":\"SaveTool\"},{\"attributes\":{\"line_alpha\":0.1,\"line_color\":\"#1f77b3\",\"line_width\":2,\"x\":{\"field\":\"Date\"},\"y\":{\"field\":\"value\"}},\"id\":\"2174\",\"type\":\"Line\"},{\"attributes\":{},\"id\":\"2187\",\"type\":\"Selection\"},{\"attributes\":{\"overlay\":{\"id\":\"2156\"}},\"id\":\"2154\",\"type\":\"BoxZoomTool\"},{\"attributes\":{\"data_source\":{\"id\":\"2186\"},\"glyph\":{\"id\":\"2189\"},\"hover_glyph\":null,\"muted_glyph\":{\"id\":\"2191\"},\"nonselection_glyph\":{\"id\":\"2190\"},\"selection_glyph\":null,\"view\":{\"id\":\"2193\"}},\"id\":\"2192\",\"type\":\"GlyphRenderer\"},{\"attributes\":{},\"id\":\"2155\",\"type\":\"ResetTool\"},{\"attributes\":{\"label\":{\"value\":\"BLX\"},\"renderers\":[{\"id\":\"2176\"}]},\"id\":\"2185\",\"type\":\"LegendItem\"},{\"attributes\":{},\"id\":\"2171\",\"type\":\"Selection\"},{\"attributes\":{\"line_color\":\"#1f77b3\",\"line_width\":2,\"x\":{\"field\":\"Date\"},\"y\":{\"field\":\"value\"}},\"id\":\"2173\",\"type\":\"Line\"},{\"attributes\":{},\"id\":\"2201\",\"type\":\"UnionRenderers\"},{\"attributes\":{\"source\":{\"id\":\"2170\"}},\"id\":\"2177\",\"type\":\"CDSView\"},{\"attributes\":{\"click_policy\":\"mute\",\"items\":[{\"id\":\"2185\"},{\"id\":\"2202\"},{\"id\":\"2221\"},{\"id\":\"2242\"},{\"id\":\"2265\"},{\"id\":\"2290\"},{\"id\":\"2317\"},{\"id\":\"2346\"}],\"label_text_font_size\":\"20pt\",\"location\":[0,0],\"title\":\"Variable\"},\"id\":\"2184\",\"type\":\"Legend\"},{\"attributes\":{\"line_color\":\"#ff7e0e\",\"line_width\":2,\"x\":{\"field\":\"Date\"},\"y\":{\"field\":\"value\"}},\"id\":\"2189\",\"type\":\"Line\"},{\"attributes\":{\"data\":{\"Date\":[\"1999\",\"2000\",\"2001\",\"2002\",\"2003\",\"2004\",\"2005\",\"2006\",\"2007\",\"2008\",\"2009\",\"2010\",\"2011\",\"2012\",\"2013\",\"2014\",\"2015\",\"2016\",\"2017\",\"2018\",\"2019\",\"2020\"],\"Variable\":[\"CIG\",\"CIG\",\"CIG\",\"CIG\",\"CIG\",\"CIG\",\"CIG\",\"CIG\",\"CIG\",\"CIG\",\"CIG\",\"CIG\",\"CIG\",\"CIG\",\"CIG\",\"CIG\",\"CIG\",\"CIG\",\"CIG\",\"CIG\",\"CIG\",\"CIG\"],\"value\":{\"__ndarray__\":\"AAAAYMbE6T8AAACA57/gPwAAAIBSmOA/AAAAYPKA0T8AAADAEG3mPwAAAEAE5u8/AAAAAH3J+D8AAACgHKoAQAAAAADukQRAAAAAwCMQAEAAAACAzo0LQAAAAEDstAtAAAAAoFNKEEAAAAAAznYOQAAAAKBK3wpAAAAAQPY2C0AAAABA7zXxPwAAAKCriP0/AAAAoLmb+z8AAADgjsEJQAAAAGA2dglAAAAAYP2ZBkA=\",\"dtype\":\"float64\",\"shape\":[22]}},\"selected\":{\"id\":\"2187\"},\"selection_policy\":{\"id\":\"2220\"}},\"id\":\"2186\",\"type\":\"ColumnDataSource\"},{\"attributes\":{\"active_drag\":\"auto\",\"active_inspect\":\"auto\",\"active_multi\":null,\"active_scroll\":\"auto\",\"active_tap\":\"auto\",\"tools\":[{\"id\":\"2127\"},{\"id\":\"2151\"},{\"id\":\"2152\"},{\"id\":\"2153\"},{\"id\":\"2154\"},{\"id\":\"2155\"}]},\"id\":\"2157\",\"type\":\"Toolbar\"},{\"attributes\":{\"bottom_units\":\"screen\",\"fill_alpha\":0.5,\"fill_color\":\"lightgrey\",\"left_units\":\"screen\",\"level\":\"overlay\",\"line_alpha\":1.0,\"line_color\":\"black\",\"line_dash\":[4,4],\"line_width\":2,\"render_mode\":\"css\",\"right_units\":\"screen\",\"top_units\":\"screen\"},\"id\":\"2156\",\"type\":\"BoxAnnotation\"},{\"attributes\":{\"line_alpha\":0.1,\"line_color\":\"#ff7e0e\",\"line_width\":2,\"x\":{\"field\":\"Date\"},\"y\":{\"field\":\"value\"}},\"id\":\"2190\",\"type\":\"Line\"},{\"attributes\":{\"data\":{\"Date\":[\"1999\",\"2000\",\"2001\",\"2002\",\"2003\",\"2004\",\"2005\",\"2006\",\"2007\",\"2008\",\"2009\",\"2010\",\"2011\",\"2012\",\"2013\",\"2014\",\"2015\",\"2016\",\"2017\",\"2018\",\"2019\",\"2020\"],\"Variable\":[\"BLX\",\"BLX\",\"BLX\",\"BLX\",\"BLX\",\"BLX\",\"BLX\",\"BLX\",\"BLX\",\"BLX\",\"BLX\",\"BLX\",\"BLX\",\"BLX\",\"BLX\",\"BLX\",\"BLX\",\"BLX\",\"BLX\",\"BLX\",\"BLX\",\"BLX\"],\"value\":{\"__ndarray__\":\"AAAAgAz2HEAAAABAWDMmQAAAAACyFSNAAAAAgBTE+D8AAACg4ioaQAAAAEBThh1AAAAA4MB6HkAAAABASFIfQAAAAMCunB9AAAAAgD+7HUAAAADgWXweQAAAAMD+JCVAAAAAIGtCI0AAAACAjT0rQAAAACDnmDJAAAAAwAE9NUAAAABAt8cyQAAAAIAdRTZAAAAAAAiDNUAAAACAOIwtQAAAACBSqDNAAAAAwPWoL0A=\",\"dtype\":\"float64\",\"shape\":[22]}},\"selected\":{\"id\":\"2171\"},\"selection_policy\":{\"id\":\"2201\"}},\"id\":\"2170\",\"type\":\"ColumnDataSource\"},{\"attributes\":{\"line_color\":\"#1f77b3\",\"line_width\":2,\"x\":{\"field\":\"Date\"},\"y\":{\"field\":\"value\"}},\"id\":\"2723\",\"type\":\"Line\"},{\"attributes\":{\"label\":{\"value\":\"Alternative Energy\"},\"renderers\":[{\"id\":\"2726\"}]},\"id\":\"2735\",\"type\":\"LegendItem\"},{\"attributes\":{\"line_alpha\":0.2,\"line_color\":\"#1f77b3\",\"line_width\":2,\"x\":{\"field\":\"Date\"},\"y\":{\"field\":\"value\"}},\"id\":\"2725\",\"type\":\"Line\"},{\"attributes\":{\"click_policy\":\"mute\",\"items\":[{\"id\":\"2735\"},{\"id\":\"2752\"}],\"label_text_font_size\":\"20pt\",\"location\":[0,0],\"orientation\":\"horizontal\",\"title\":\"Variable\"},\"id\":\"2734\",\"type\":\"Legend\"},{\"attributes\":{},\"id\":\"2345\",\"type\":\"UnionRenderers\"},{\"attributes\":{\"source\":{\"id\":\"2720\"}},\"id\":\"2727\",\"type\":\"CDSView\"},{\"attributes\":{},\"id\":\"2721\",\"type\":\"Selection\"},{\"attributes\":{\"line_alpha\":0.1,\"line_color\":\"#1f77b3\",\"line_width\":2,\"x\":{\"field\":\"Date\"},\"y\":{\"field\":\"value\"}},\"id\":\"2724\",\"type\":\"Line\"},{\"attributes\":{},\"id\":\"2705\",\"type\":\"ResetTool\"},{\"attributes\":{},\"id\":\"2751\",\"type\":\"UnionRenderers\"},{\"attributes\":{\"active_drag\":\"auto\",\"active_inspect\":\"auto\",\"active_multi\":null,\"active_scroll\":\"auto\",\"active_tap\":\"auto\",\"tools\":[{\"id\":\"2683\"},{\"id\":\"2701\"},{\"id\":\"2702\"},{\"id\":\"2703\"},{\"id\":\"2704\"},{\"id\":\"2705\"}]},\"id\":\"2707\",\"type\":\"Toolbar\"},{\"attributes\":{\"overlay\":{\"id\":\"2706\"}},\"id\":\"2704\",\"type\":\"BoxZoomTool\"},{\"attributes\":{\"bottom_units\":\"screen\",\"fill_alpha\":0.5,\"fill_color\":\"lightgrey\",\"left_units\":\"screen\",\"level\":\"overlay\",\"line_alpha\":1.0,\"line_color\":\"black\",\"line_dash\":[4,4],\"line_width\":2,\"render_mode\":\"css\",\"right_units\":\"screen\",\"top_units\":\"screen\"},\"id\":\"2921\",\"type\":\"BoxAnnotation\"},{\"attributes\":{\"data_source\":{\"id\":\"2720\"},\"glyph\":{\"id\":\"2723\"},\"hover_glyph\":null,\"muted_glyph\":{\"id\":\"2725\"},\"nonselection_glyph\":{\"id\":\"2724\"},\"selection_glyph\":null,\"view\":{\"id\":\"2727\"}},\"id\":\"2726\",\"type\":\"GlyphRenderer\"},{\"attributes\":{\"data\":{\"Date\":[\"2004\",\"2005\",\"2006\",\"2007\",\"2008\",\"2009\",\"2010\",\"2011\",\"2012\",\"2013\",\"2014\",\"2015\",\"2016\",\"2017\",\"2018\",\"2019\",\"2020\"],\"Variable\":[\"Alternative Energy\",\"Alternative Energy\",\"Alternative Energy\",\"Alternative Energy\",\"Alternative Energy\",\"Alternative Energy\",\"Alternative Energy\",\"Alternative Energy\",\"Alternative Energy\",\"Alternative Energy\",\"Alternative Energy\",\"Alternative Energy\",\"Alternative Energy\",\"Alternative Energy\",\"Alternative Energy\",\"Alternative Energy\",\"Alternative Energy\"],\"value\":{\"__ndarray__\":\"Lvrn1is4VEAzHRiv8vJTQIiySyviVFNAWNL1ktZkTkAB1uKpBIk3QAaWDLEDoTtAgV/OcyCAOkCYz8uYa5U7QAYeHAF3WDtA0yRlSSVFQECLbiIIJcI+QEJFSmibjENAwENo88BzQ0DtQH3uY+5BQORdehevrzxAvrHRurpoRUCByOC28HVXQA==\",\"dtype\":\"float64\",\"shape\":[17]}},\"selected\":{\"id\":\"2721\"},\"selection_policy\":{\"id\":\"2751\"}},\"id\":\"2720\",\"type\":\"ColumnDataSource\"},{\"attributes\":{\"axis_label\":\"Date\",\"axis_label_text_font_size\":\"20pt\",\"bounds\":\"auto\",\"formatter\":{\"id\":\"2714\"},\"group_text_font_size\":\"15pt\",\"major_label_orientation\":1.5707963267948966,\"major_label_text_font_size\":\"15pt\",\"ticker\":{\"id\":\"2695\"}},\"id\":\"2694\",\"type\":\"CategoricalAxis\"},{\"attributes\":{\"axis_label\":\"Standard Deviation in %\",\"axis_label_text_font_size\":\"20pt\",\"bounds\":\"auto\",\"formatter\":{\"id\":\"2716\"},\"major_label_orientation\":\"horizontal\",\"major_label_text_font_size\":\"15pt\",\"ticker\":{\"id\":\"2698\"}},\"id\":\"2697\",\"type\":\"LinearAxis\"},{\"attributes\":{\"children\":[{\"id\":\"2894\"},{\"id\":\"2895\"}],\"margin\":[0,0,0,0],\"name\":\"Column04993\"},\"id\":\"2893\",\"type\":\"Column\"},{\"attributes\":{},\"id\":\"2701\",\"type\":\"SaveTool\"},{\"attributes\":{\"axis\":{\"id\":\"2697\"},\"dimension\":1,\"grid_line_color\":\"lightgray\",\"grid_line_width\":1.5,\"ticker\":{\"id\":\"2698\"}},\"id\":\"2700\",\"type\":\"Grid\"},{\"attributes\":{\"margin\":[0,0,0,0],\"name\":\"Column05118\"},\"id\":\"2894\",\"type\":\"Column\"},{\"attributes\":{\"axis\":{\"id\":\"2694\"},\"grid_line_color\":\"lightgray\",\"grid_line_width\":1.5,\"minor_grid_line_color\":\"lightgray\",\"ticker\":{\"id\":\"2695\"}},\"id\":\"2696\",\"type\":\"Grid\"},{\"attributes\":{\"children\":[{\"id\":\"2679\"},{\"id\":\"2680\"}],\"margin\":[0,0,0,0],\"name\":\"Column04719\"},\"id\":\"2678\",\"type\":\"Column\"},{\"attributes\":{\"css_classes\":[\"markdown\"],\"margin\":[5,5,5,5],\"name\":\"Markdown04990\",\"text\":\"&lt;p&gt;Correlations&lt;/p&gt;\"},\"id\":\"2892\",\"type\":\"panel.models.markup.HTML\"},{\"attributes\":{\"margin\":[0,0,0,0],\"name\":\"Column04988\"},\"id\":\"2834\",\"type\":\"Column\"},{\"attributes\":{},\"id\":\"2702\",\"type\":\"PanTool\"},{\"attributes\":{\"margin\":[0,0,0,0],\"name\":\"Column04862\"},\"id\":\"2679\",\"type\":\"Column\"},{\"attributes\":{\"css_classes\":[\"markdown\"],\"margin\":[5,5,5,5],\"name\":\"Markdown04716\",\"text\":\"&lt;h2&gt;Stock Risk by Industry&lt;/h2&gt;\"},\"id\":\"2677\",\"type\":\"panel.models.markup.HTML\"},{\"attributes\":{},\"id\":\"2368\",\"type\":\"UnionRenderers\"},{\"attributes\":{\"children\":[{\"id\":\"2899\"}],\"margin\":[0,0,0,0],\"name\":\"Row05117\"},\"id\":\"2895\",\"type\":\"Row\"},{\"attributes\":{\"children\":[{\"id\":\"2834\"},{\"id\":\"2835\"}],\"margin\":[0,0,0,0],\"name\":\"Column04864\"},\"id\":\"2833\",\"type\":\"Column\"},{\"attributes\":{\"children\":[{\"id\":\"2685\"}],\"margin\":[0,0,0,0],\"name\":\"Row04861\"},\"id\":\"2680\",\"type\":\"Row\"},{\"attributes\":{},\"id\":\"2762\",\"type\":\"UnionRenderers\"},{\"attributes\":{},\"id\":\"2950\",\"type\":\"UnionRenderers\"},{\"attributes\":{},\"id\":\"2889\",\"type\":\"UnionRenderers\"},{\"attributes\":{},\"id\":\"2920\",\"type\":\"ResetTool\"},{\"attributes\":{\"text\":\"Correlation between Oil Portfolio and Alternative Energy Portfolio Returns\",\"text_color\":{\"value\":\"black\"},\"text_font_size\":{\"value\":\"20pt\"}},\"id\":\"2900\",\"type\":\"Title\"},{\"attributes\":{},\"id\":\"2918\",\"type\":\"WheelZoomTool\"},{\"attributes\":{\"children\":[{\"id\":\"2839\"}],\"margin\":[0,0,0,0],\"name\":\"Row04987\"},\"id\":\"2835\",\"type\":\"Row\"},{\"attributes\":{\"overlay\":{\"id\":\"2921\"}},\"id\":\"2919\",\"type\":\"BoxZoomTool\"},{\"attributes\":{\"child\":{\"id\":\"2891\"},\"name\":\"Column05119\",\"title\":\"Correlations\"},\"id\":\"2951\",\"type\":\"Panel\"},{\"attributes\":{\"callback\":null,\"renderers\":[{\"id\":\"2874\"}],\"tags\":[\"hv_created\"],\"tooltips\":[[\"index\",\"@{index}\"],[\"Standard Deviation\",\"@{Standard_Deviation}\"]]},\"id\":\"2838\",\"type\":\"HoverTool\"},{\"attributes\":{\"callback\":null,\"renderers\":[{\"id\":\"2935\"}],\"tags\":[\"hv_created\"],\"tooltips\":[[\"Oil & Gas\",\"@{Oil_ampersand_Gas}\"],[\"Alternative Energy\",\"@{Alternative_Energy}\"]]},\"id\":\"2898\",\"type\":\"HoverTool\"},{\"attributes\":{},\"id\":\"2937\",\"type\":\"BasicTickFormatter\"},{\"attributes\":{\"data_source\":{\"id\":\"2929\"},\"glyph\":{\"id\":\"2932\"},\"hover_glyph\":null,\"muted_glyph\":{\"id\":\"2934\"},\"nonselection_glyph\":{\"id\":\"2933\"},\"selection_glyph\":null,\"view\":{\"id\":\"2936\"}},\"id\":\"2935\",\"type\":\"GlyphRenderer\"},{\"attributes\":{\"source\":{\"id\":\"2929\"}},\"id\":\"2936\",\"type\":\"CDSView\"},{\"attributes\":{\"below\":[{\"id\":\"2908\"}],\"center\":[{\"id\":\"2911\"},{\"id\":\"2915\"}],\"left\":[{\"id\":\"2912\"}],\"margin\":null,\"min_border_bottom\":10,\"min_border_left\":10,\"min_border_right\":10,\"min_border_top\":10,\"plot_height\":400,\"plot_width\":1200,\"renderers\":[{\"id\":\"2935\"}],\"sizing_mode\":\"fixed\",\"title\":{\"id\":\"2900\"},\"toolbar\":{\"id\":\"2922\"},\"x_range\":{\"id\":\"2896\"},\"x_scale\":{\"id\":\"2904\"},\"y_range\":{\"id\":\"2897\"},\"y_scale\":{\"id\":\"2906\"}},\"id\":\"2899\",\"subtype\":\"Figure\",\"type\":\"Plot\"},{\"attributes\":{\"fill_color\":{\"value\":\"#1f77b3\"},\"line_color\":{\"value\":\"#1f77b3\"},\"size\":{\"units\":\"screen\",\"value\":10.0},\"x\":{\"field\":\"Oil & Gas\"},\"y\":{\"field\":\"Alternative Energy\"}},\"id\":\"2932\",\"type\":\"Scatter\"},{\"attributes\":{\"fill_alpha\":{\"value\":0.1},\"fill_color\":{\"value\":\"#1f77b3\"},\"line_alpha\":{\"value\":0.1},\"line_color\":{\"value\":\"#1f77b3\"},\"size\":{\"units\":\"screen\",\"value\":10.0},\"x\":{\"field\":\"Oil & Gas\"},\"y\":{\"field\":\"Alternative Energy\"}},\"id\":\"2933\",\"type\":\"Scatter\"},{\"attributes\":{\"end\":2.619618554530113,\"reset_end\":2.619618554530113,\"reset_start\":-0.9012464430486415,\"start\":-0.9012464430486415,\"tags\":[[[\"Alternative Energy\",\"Alternative Energy\",null]]]},\"id\":\"2897\",\"type\":\"Range1d\"},{\"attributes\":{},\"id\":\"2930\",\"type\":\"Selection\"},{\"attributes\":{\"end\":0.32535671657155385,\"reset_end\":0.32535671657155385,\"reset_start\":-0.39095595931106714,\"start\":-0.39095595931106714,\"tags\":[[[\"Oil & Gas\",\"Oil & Gas\",null]]]},\"id\":\"2896\",\"type\":\"Range1d\"},{\"attributes\":{},\"id\":\"2909\",\"type\":\"BasicTicker\"},{\"attributes\":{},\"id\":\"2913\",\"type\":\"BasicTicker\"},{\"attributes\":{\"text\":\"5 Year Rolling Standard Deviation 2004-2020\",\"text_color\":{\"value\":\"black\"},\"text_font_size\":{\"value\":\"20pt\"}},\"id\":\"2686\",\"type\":\"Title\"},{\"attributes\":{},\"id\":\"2692\",\"type\":\"LinearScale\"},{\"attributes\":{\"axis\":{\"id\":\"2908\"},\"grid_line_color\":\"lightgray\",\"grid_line_width\":1.5,\"minor_grid_line_color\":\"lightgray\",\"ticker\":{\"id\":\"2909\"}},\"id\":\"2911\",\"type\":\"Grid\"},{\"attributes\":{\"end\":0.7020315350393874,\"reset_end\":0.7020315350393874,\"reset_start\":0.0,\"tags\":[[[\"Standard Deviation\",\"Standard Deviation\",null]]]},\"id\":\"2837\",\"type\":\"Range1d\"},{\"attributes\":{\"data\":{\"Date\":[\"2004\",\"2005\",\"2006\",\"2007\",\"2008\",\"2009\",\"2010\",\"2011\",\"2012\",\"2013\",\"2014\",\"2015\",\"2016\",\"2017\",\"2018\",\"2019\",\"2020\"],\"Variable\":[\"Oil & Gas\",\"Oil & Gas\",\"Oil & Gas\",\"Oil & Gas\",\"Oil & Gas\",\"Oil & Gas\",\"Oil & Gas\",\"Oil & Gas\",\"Oil & Gas\",\"Oil & Gas\",\"Oil & Gas\",\"Oil & Gas\",\"Oil & Gas\",\"Oil & Gas\",\"Oil & Gas\",\"Oil & Gas\",\"Oil & Gas\"],\"value\":{\"__ndarray__\":\"b10z1B6zMEBNc1pFST4wQKoK6Uuy3i5AN17Df/GsFEB3r1zmbMs0QE17gU68tzNA3wkbW/efM0BwhXWUWTgyQGSvB7ig5C9AMmKofwfEGECisYUM8DIlQNQ3QRCbjC5AM82jdEqKM0CkjcncS8UzQMcpWxTUrDNALFJ/gnzwMkD9MD/IE285QA==\",\"dtype\":\"float64\",\"shape\":[17]}},\"selected\":{\"id\":\"2737\"},\"selection_policy\":{\"id\":\"2762\"}},\"id\":\"2736\",\"type\":\"ColumnDataSource\"},{\"attributes\":{\"axis_label\":\"Alternative Energy\",\"axis_label_text_font_size\":\"20pt\",\"bounds\":\"auto\",\"formatter\":{\"id\":\"2939\"},\"major_label_orientation\":\"horizontal\",\"major_label_text_font_size\":\"15pt\",\"ticker\":{\"id\":\"2913\"}},\"id\":\"2912\",\"type\":\"LinearAxis\"},{\"attributes\":{},\"id\":\"2690\",\"type\":\"CategoricalScale\"},{\"attributes\":{},\"id\":\"2698\",\"type\":\"BasicTicker\"},{\"attributes\":{\"below\":[{\"id\":\"2848\"}],\"center\":[{\"id\":\"2850\"},{\"id\":\"2854\"}],\"left\":[{\"id\":\"2851\"}],\"margin\":null,\"min_border_bottom\":10,\"min_border_left\":10,\"min_border_right\":10,\"min_border_top\":10,\"plot_height\":400,\"plot_width\":1200,\"renderers\":[{\"id\":\"2874\"}],\"sizing_mode\":\"fixed\",\"title\":{\"id\":\"2840\"},\"toolbar\":{\"id\":\"2861\"},\"x_range\":{\"id\":\"2836\"},\"x_scale\":{\"id\":\"2844\"},\"y_range\":{\"id\":\"2837\"},\"y_scale\":{\"id\":\"2846\"}},\"id\":\"2839\",\"subtype\":\"Figure\",\"type\":\"Plot\"},{\"attributes\":{},\"id\":\"2904\",\"type\":\"LinearScale\"},{\"attributes\":{\"fill_alpha\":{\"value\":0.2},\"fill_color\":{\"value\":\"#1f77b3\"},\"line_alpha\":{\"value\":0.2},\"line_color\":{\"value\":\"#1f77b3\"},\"size\":{\"units\":\"screen\",\"value\":10.0},\"x\":{\"field\":\"Oil & Gas\"},\"y\":{\"field\":\"Alternative Energy\"}},\"id\":\"2934\",\"type\":\"Scatter\"},{\"attributes\":{},\"id\":\"2906\",\"type\":\"LinearScale\"},{\"attributes\":{\"axis_label\":\"Oil & Gas\",\"axis_label_text_font_size\":\"20pt\",\"bounds\":\"auto\",\"formatter\":{\"id\":\"2937\"},\"major_label_orientation\":\"horizontal\",\"major_label_text_font_size\":\"15pt\",\"ticker\":{\"id\":\"2909\"}},\"id\":\"2908\",\"type\":\"LinearAxis\"},{\"attributes\":{\"axis\":{\"id\":\"2912\"},\"dimension\":1,\"grid_line_color\":\"lightgray\",\"grid_line_width\":1.5,\"ticker\":{\"id\":\"2913\"}},\"id\":\"2915\",\"type\":\"Grid\"},{\"attributes\":{},\"id\":\"2703\",\"type\":\"WheelZoomTool\"},{\"attributes\":{},\"id\":\"2916\",\"type\":\"SaveTool\"},{\"attributes\":{},\"id\":\"2939\",\"type\":\"BasicTickFormatter\"},{\"attributes\":{\"data\":{\"Standard_Deviation\":{\"__ndarray__\":\"GapUDQT2xj/IbUbDz/HkPw==\",\"dtype\":\"float64\",\"shape\":[2]},\"index\":[\"Oil & Gas\",\"Alternative Energy\"]},\"selected\":{\"id\":\"2869\"},\"selection_policy\":{\"id\":\"2889\"}},\"id\":\"2868\",\"type\":\"ColumnDataSource\"},{\"attributes\":{},\"id\":\"2917\",\"type\":\"PanTool\"},{\"attributes\":{\"factors\":[\"Oil & Gas\",\"Alternative Energy\"],\"tags\":[[[\"index\",\"index\",null]]]},\"id\":\"2836\",\"type\":\"FactorRange\"},{\"attributes\":{},\"id\":\"2695\",\"type\":\"CategoricalTicker\"},{\"attributes\":{\"data\":{\"Alternative Energy\":{\"__ndarray__\":\"UCxYXqQot7/szQEwMf3Cvx4ESwZvc+O/n+Upf3Bn+D/GVXBg6B+2P8Ym30Tnh9I/E+f8QU3Kwz9M5R1E9yDGP/YzY3pLwtS/ZMOaBFtp2T8IeBxE52ybP2ptE93Bqb+/t8mkOJQ0xb8svgdftx7iPwRhb6rKsdI/HqRBfmQ42r8PDOU5q0/PP0+fARpBnMo/+Iqyf83+qD+aA2vnMw7pPwcgPKIVnAJA\",\"dtype\":\"float64\",\"shape\":[21]},\"Alternative_Energy\":{\"__ndarray__\":\"UCxYXqQot7/szQEwMf3Cvx4ESwZvc+O/n+Upf3Bn+D/GVXBg6B+2P8Ym30Tnh9I/E+f8QU3Kwz9M5R1E9yDGP/YzY3pLwtS/ZMOaBFtp2T8IeBxE52ybP2ptE93Bqb+/t8mkOJQ0xb8svgdftx7iPwRhb6rKsdI/HqRBfmQ42r8PDOU5q0/PP0+fARpBnMo/+Iqyf83+qD+aA2vnMw7pPwcgPKIVnAJA\",\"dtype\":\"float64\",\"shape\":[21]},\"Oil & Gas\":{\"__ndarray__\":\"YLw9jq4Yeb+gyJwgtJ+ev2jg6TdrWLy/iA8pr4V90D/qIF9v6lbOP1Y3pjLJL8A/EPIY2uRbzj+yhmAB13zMPyB8QbP1r8+/5usn++NBvz+ySkHwO3m0P5xD4Z2G3cI/KJoBVNCpmD8SRXiTy5bHP+7+xyDPebW/L08ZqSHRxr/XG1Rx5GPTPxsE59r8wMA/NCYqtBBzt79wsHibPg20PyJ14Zurlte/\",\"dtype\":\"float64\",\"shape\":[21]},\"Oil_ampersand_Gas\":{\"__ndarray__\":\"YLw9jq4Yeb+gyJwgtJ+ev2jg6TdrWLy/iA8pr4V90D/qIF9v6lbOP1Y3pjLJL8A/EPIY2uRbzj+yhmAB13zMPyB8QbP1r8+/5usn++NBvz+ySkHwO3m0P5xD4Z2G3cI/KJoBVNCpmD8SRXiTy5bHP+7+xyDPebW/L08ZqSHRxr/XG1Rx5GPTPxsE59r8wMA/NCYqtBBzt79wsHibPg20PyJ14Zurlte/\",\"dtype\":\"float64\",\"shape\":[21]}},\"selected\":{\"id\":\"2930\"},\"selection_policy\":{\"id\":\"2950\"}},\"id\":\"2929\",\"type\":\"ColumnDataSource\"},{\"attributes\":{\"bottom_units\":\"screen\",\"fill_alpha\":0.5,\"fill_color\":\"lightgrey\",\"left_units\":\"screen\",\"level\":\"overlay\",\"line_alpha\":1.0,\"line_color\":\"black\",\"line_dash\":[4,4],\"line_width\":2,\"render_mode\":\"css\",\"right_units\":\"screen\",\"top_units\":\"screen\"},\"id\":\"2548\",\"type\":\"BoxAnnotation\"},{\"attributes\":{},\"id\":\"2593\",\"type\":\"UnionRenderers\"},{\"attributes\":{\"line_alpha\":0.1,\"line_color\":\"#8c564b\",\"line_width\":2,\"x\":{\"field\":\"Date\"},\"y\":{\"field\":\"value\"}},\"id\":\"2270\",\"type\":\"Line\"},{\"attributes\":{\"line_alpha\":0.1,\"line_color\":\"#9367bc\",\"line_width\":2,\"x\":{\"field\":\"Date\"},\"y\":{\"field\":\"value\"}},\"id\":\"2247\",\"type\":\"Line\"},{\"attributes\":{\"child\":{\"id\":\"2123\"},\"name\":\"Column04715\",\"title\":\"Stock Returns\"},\"id\":\"2675\",\"type\":\"Panel\"},{\"attributes\":{\"data_source\":{\"id\":\"2243\"},\"glyph\":{\"id\":\"2246\"},\"hover_glyph\":null,\"muted_glyph\":{\"id\":\"2248\"},\"nonselection_glyph\":{\"id\":\"2247\"},\"selection_glyph\":null,\"view\":{\"id\":\"2250\"}},\"id\":\"2249\",\"type\":\"GlyphRenderer\"},{\"attributes\":{\"above\":[{\"id\":\"2734\"}],\"below\":[{\"id\":\"2694\"}],\"center\":[{\"id\":\"2696\"},{\"id\":\"2700\"}],\"left\":[{\"id\":\"2697\"}],\"margin\":null,\"min_border_bottom\":10,\"min_border_left\":10,\"min_border_right\":10,\"min_border_top\":10,\"plot_height\":400,\"plot_width\":1200,\"renderers\":[{\"id\":\"2726\"},{\"id\":\"2742\"}],\"sizing_mode\":\"fixed\",\"title\":{\"id\":\"2686\"},\"toolbar\":{\"id\":\"2707\"},\"x_range\":{\"id\":\"2681\"},\"x_scale\":{\"id\":\"2690\"},\"y_range\":{\"id\":\"2682\"},\"y_scale\":{\"id\":\"2692\"}},\"id\":\"2685\",\"subtype\":\"Figure\",\"type\":\"Plot\"},{\"attributes\":{\"children\":[{\"id\":\"2892\"},{\"id\":\"2893\"}],\"margin\":[0,0,0,0],\"name\":\"Column05119\"},\"id\":\"2891\",\"type\":\"Column\"},{\"attributes\":{\"label\":{\"value\":\"BP\"},\"renderers\":[{\"id\":\"2249\"}]},\"id\":\"2265\",\"type\":\"LegendItem\"},{\"attributes\":{},\"id\":\"2556\",\"type\":\"CategoricalTickFormatter\"},{\"attributes\":{\"line_alpha\":0.2,\"line_color\":\"#9367bc\",\"line_width\":2,\"x\":{\"field\":\"Date\"},\"y\":{\"field\":\"value\"}},\"id\":\"2248\",\"type\":\"Line\"},{\"attributes\":{},\"id\":\"2558\",\"type\":\"BasicTickFormatter\"},{\"attributes\":{},\"id\":\"2267\",\"type\":\"Selection\"},{\"attributes\":{\"line_alpha\":0.2,\"line_color\":\"#8c564b\",\"line_width\":2,\"x\":{\"field\":\"Date\"},\"y\":{\"field\":\"value\"}},\"id\":\"2271\",\"type\":\"Line\"},{\"attributes\":{\"label\":{\"value\":\"CVX\"},\"renderers\":[{\"id\":\"2272\"}]},\"id\":\"2290\",\"type\":\"LegendItem\"},{\"attributes\":{},\"id\":\"2563\",\"type\":\"Selection\"},{\"attributes\":{\"line_color\":\"#1f77b3\",\"line_width\":2,\"x\":{\"field\":\"Date\"},\"y\":{\"field\":\"value\"}},\"id\":\"2565\",\"type\":\"Line\"},{\"attributes\":{},\"id\":\"2604\",\"type\":\"UnionRenderers\"},{\"attributes\":{\"source\":{\"id\":\"2266\"}},\"id\":\"2273\",\"type\":\"CDSView\"},{\"attributes\":{\"data_source\":{\"id\":\"2170\"},\"glyph\":{\"id\":\"2173\"},\"hover_glyph\":null,\"muted_glyph\":{\"id\":\"2175\"},\"nonselection_glyph\":{\"id\":\"2174\"},\"selection_glyph\":null,\"view\":{\"id\":\"2177\"}},\"id\":\"2176\",\"type\":\"GlyphRenderer\"},{\"attributes\":{\"end\":12.642447978755326,\"reset_end\":12.642447978755326,\"reset_start\":-0.8179299477114663,\"start\":-0.8179299477114663,\"tags\":[[[\"value\",\"value\",null]]]},\"id\":\"2524\",\"type\":\"Range1d\"},{\"attributes\":{\"factors\":[\"2000\",\"2001\",\"2002\",\"2003\",\"2004\",\"2005\",\"2006\",\"2007\",\"2008\",\"2009\",\"2010\",\"2011\",\"2012\",\"2013\",\"2014\",\"2015\",\"2016\",\"2017\",\"2018\",\"2019\",\"2020\"],\"tags\":[[[\"Date\",\"Date\",null]]]},\"id\":\"2523\",\"type\":\"FactorRange\"},{\"attributes\":{\"click_policy\":\"mute\",\"items\":[{\"id\":\"2577\"},{\"id\":\"2594\"}],\"label_text_font_size\":\"20pt\",\"location\":\"top_left\",\"title\":\"Variable\"},\"id\":\"2576\",\"type\":\"Legend\"},{\"attributes\":{},\"id\":\"2579\",\"type\":\"Selection\"},{\"attributes\":{},\"id\":\"2534\",\"type\":\"LinearScale\"},{\"attributes\":{\"source\":{\"id\":\"2562\"}},\"id\":\"2569\",\"type\":\"CDSView\"},{\"attributes\":{\"data\":{\"Date\":[\"2000\",\"2001\",\"2002\",\"2003\",\"2004\",\"2005\",\"2006\",\"2007\",\"2008\",\"2009\",\"2010\",\"2011\",\"2012\",\"2013\",\"2014\",\"2015\",\"2016\",\"2017\",\"2018\",\"2019\",\"2020\"],\"Variable\":[\"Oil & Gas\",\"Oil & Gas\",\"Oil & Gas\",\"Oil & Gas\",\"Oil & Gas\",\"Oil & Gas\",\"Oil & Gas\",\"Oil & Gas\",\"Oil & Gas\",\"Oil & Gas\",\"Oil & Gas\",\"Oil & Gas\",\"Oil & Gas\",\"Oil & Gas\",\"Oil & Gas\",\"Oil & Gas\",\"Oil & Gas\",\"Oil & Gas\",\"Oil & Gas\",\"Oil & Gas\",\"Oil & Gas\"],\"value\":{\"__ndarray__\":\"h4Tjos7N7z+kbxdIUdruPwgHR2zIb+s/agMYFcVA8T9TGN9jqlf1P5ctB22XCvg/79IQblW+/T97RXY7fS4CQIuhzOJ4XPs//h7MXraz/j+mG9FfJZQAQOX1W9mrBQNA9CPHbvV6A0Aef7+bABIHQDJoLGKMIgVATH1ASRReAUAQJkrUHaEGQEjSd+9flwlAfdZipUU/B0ArGEn8ahEJQL9fjv5IqP8/\",\"dtype\":\"float64\",\"shape\":[21]}},\"selected\":{\"id\":\"2579\"},\"selection_policy\":{\"id\":\"2604\"}},\"id\":\"2578\",\"type\":\"ColumnDataSource\"},{\"attributes\":{\"line_color\":\"#9367bc\",\"line_width\":2,\"x\":{\"field\":\"Date\"},\"y\":{\"field\":\"value\"}},\"id\":\"2246\",\"type\":\"Line\"},{\"attributes\":{\"callback\":null,\"renderers\":[{\"id\":\"2568\"},{\"id\":\"2584\"}],\"tags\":[\"hv_created\"],\"tooltips\":[[\"Variable\",\"@{Variable}\"],[\"Date\",\"@{Date}\"],[\"value\",\"@{value}\"]]},\"id\":\"2525\",\"type\":\"HoverTool\"},{\"attributes\":{\"below\":[{\"id\":\"2536\"}],\"center\":[{\"id\":\"2538\"},{\"id\":\"2542\"},{\"id\":\"2576\"}],\"left\":[{\"id\":\"2539\"}],\"margin\":null,\"min_border_bottom\":10,\"min_border_left\":10,\"min_border_right\":10,\"min_border_top\":10,\"plot_height\":400,\"plot_width\":1200,\"renderers\":[{\"id\":\"2568\"},{\"id\":\"2584\"}],\"sizing_mode\":\"fixed\",\"title\":{\"id\":\"2528\"},\"toolbar\":{\"id\":\"2549\"},\"x_range\":{\"id\":\"2523\"},\"x_scale\":{\"id\":\"2532\"},\"y_range\":{\"id\":\"2524\"},\"y_scale\":{\"id\":\"2534\"}},\"id\":\"2527\",\"subtype\":\"Figure\",\"type\":\"Plot\"},{\"attributes\":{\"end\":102.71020974334375,\"reset_end\":102.71020974334375,\"reset_start\":-3.6985027084562665,\"start\":-3.6985027084562665,\"tags\":[[[\"value\",\"value\",null]]]},\"id\":\"2682\",\"type\":\"Range1d\"},{\"attributes\":{\"text\":\"Cumulative Returns of Both Industries 2000-2020\",\"text_color\":{\"value\":\"black\"},\"text_font_size\":{\"value\":\"20pt\"}},\"id\":\"2528\",\"type\":\"Title\"},{\"attributes\":{\"line_alpha\":0.2,\"line_color\":\"#1f77b3\",\"line_width\":2,\"x\":{\"field\":\"Date\"},\"y\":{\"field\":\"value\"}},\"id\":\"2567\",\"type\":\"Line\"},{\"attributes\":{},\"id\":\"2537\",\"type\":\"CategoricalTicker\"},{\"attributes\":{\"line_alpha\":0.1,\"line_color\":\"#1f77b3\",\"line_width\":2,\"x\":{\"field\":\"Date\"},\"y\":{\"field\":\"value\"}},\"id\":\"2566\",\"type\":\"Line\"},{\"attributes\":{},\"id\":\"2540\",\"type\":\"BasicTicker\"},{\"attributes\":{\"source\":{\"id\":\"2243\"}},\"id\":\"2250\",\"type\":\"CDSView\"},{\"attributes\":{\"axis_label\":\"Cumulative Returns Multiple\",\"axis_label_text_font_size\":\"20pt\",\"bounds\":\"auto\",\"formatter\":{\"id\":\"2558\"},\"major_label_orientation\":\"horizontal\",\"major_label_text_font_size\":\"15pt\",\"ticker\":{\"id\":\"2540\"}},\"id\":\"2539\",\"type\":\"LinearAxis\"},{\"attributes\":{\"data_source\":{\"id\":\"2562\"},\"glyph\":{\"id\":\"2565\"},\"hover_glyph\":null,\"muted_glyph\":{\"id\":\"2567\"},\"nonselection_glyph\":{\"id\":\"2566\"},\"selection_glyph\":null,\"view\":{\"id\":\"2569\"}},\"id\":\"2568\",\"type\":\"GlyphRenderer\"},{\"attributes\":{\"line_color\":\"#8c564b\",\"line_width\":2,\"x\":{\"field\":\"Date\"},\"y\":{\"field\":\"value\"}},\"id\":\"2269\",\"type\":\"Line\"},{\"attributes\":{},\"id\":\"2545\",\"type\":\"WheelZoomTool\"},{\"attributes\":{},\"id\":\"2532\",\"type\":\"CategoricalScale\"},{\"attributes\":{},\"id\":\"2544\",\"type\":\"PanTool\"},{\"attributes\":{\"client_comm_id\":\"0ae9cfc67c5244488b49f39003f9bd6b\",\"comm_id\":\"14d479213094427686d8c7c936376313\",\"plot_id\":\"2122\"},\"id\":\"3126\",\"type\":\"panel.models.comm_manager.CommManager\"},{\"attributes\":{\"axis\":{\"id\":\"2536\"},\"grid_line_color\":\"lightgray\",\"grid_line_width\":1.5,\"minor_grid_line_color\":\"lightgray\",\"ticker\":{\"id\":\"2537\"}},\"id\":\"2538\",\"type\":\"Grid\"},{\"attributes\":{\"callback\":null,\"renderers\":[{\"id\":\"2726\"},{\"id\":\"2742\"}],\"tags\":[\"hv_created\"],\"tooltips\":[[\"Variable\",\"@{Variable}\"],[\"Date\",\"@{Date}\"],[\"value\",\"@{value}\"]]},\"id\":\"2683\",\"type\":\"HoverTool\"},{\"attributes\":{\"axis\":{\"id\":\"2539\"},\"dimension\":1,\"grid_line_color\":\"lightgray\",\"grid_line_width\":1.5,\"ticker\":{\"id\":\"2540\"}},\"id\":\"2542\",\"type\":\"Grid\"},{\"attributes\":{},\"id\":\"2543\",\"type\":\"SaveTool\"},{\"attributes\":{\"children\":[{\"id\":\"2677\"},{\"id\":\"2678\"},{\"id\":\"2833\"}],\"margin\":[0,0,0,0],\"name\":\"Column04989\"},\"id\":\"2676\",\"type\":\"Column\"},{\"attributes\":{\"axis_label\":\"Date\",\"axis_label_text_font_size\":\"20pt\",\"bounds\":\"auto\",\"formatter\":{\"id\":\"2556\"},\"group_text_font_size\":\"15pt\",\"major_label_orientation\":1.5707963267948966,\"major_label_text_font_size\":\"15pt\",\"ticker\":{\"id\":\"2537\"}},\"id\":\"2536\",\"type\":\"CategoricalAxis\"},{\"attributes\":{\"data\":{\"Date\":[\"2000\",\"2001\",\"2002\",\"2003\",\"2004\",\"2005\",\"2006\",\"2007\",\"2008\",\"2009\",\"2010\",\"2011\",\"2012\",\"2013\",\"2014\",\"2015\",\"2016\",\"2017\",\"2018\",\"2019\",\"2020\"],\"Variable\":[\"Alternative Energy\",\"Alternative Energy\",\"Alternative Energy\",\"Alternative Energy\",\"Alternative Energy\",\"Alternative Energy\",\"Alternative Energy\",\"Alternative Energy\",\"Alternative Energy\",\"Alternative Energy\",\"Alternative Energy\",\"Alternative Energy\",\"Alternative Energy\",\"Alternative Energy\",\"Alternative Energy\",\"Alternative Energy\",\"Alternative Energy\",\"Alternative Energy\",\"Alternative Energy\",\"Alternative Energy\",\"Alternative Energy\"],\"value\":{\"__ndarray__\":\"dvo0dOsa7T+2MkHzj8noP9Qf6jrwcNM/MsVsJwSM6D8U73O/G6vqP9+pD23uMfE/1dtq/oTa8z8BMaLVMEn3P/csFoFAd+8/wPCUDNH69T+2HoF6hJH2P5ZmBEjuxvM/Z2qieCuA8D+N9zejGtj5P+0X2dBWsgBAIY7kkFq28z+czWhqyYj4P6gn8oOFov0/pJFUS+MU/z9NSdg1gLULQGZGXbifCidA\",\"dtype\":\"float64\",\"shape\":[21]}},\"selected\":{\"id\":\"2563\"},\"selection_policy\":{\"id\":\"2593\"}},\"id\":\"2562\",\"type\":\"ColumnDataSource\"},{\"attributes\":{\"data_source\":{\"id\":\"2578\"},\"glyph\":{\"id\":\"2581\"},\"hover_glyph\":null,\"muted_glyph\":{\"id\":\"2583\"},\"nonselection_glyph\":{\"id\":\"2582\"},\"selection_glyph\":null,\"view\":{\"id\":\"2585\"}},\"id\":\"2584\",\"type\":\"GlyphRenderer\"},{\"attributes\":{},\"id\":\"2244\",\"type\":\"Selection\"},{\"attributes\":{\"overlay\":{\"id\":\"2548\"}},\"id\":\"2546\",\"type\":\"BoxZoomTool\"},{\"attributes\":{\"data\":{\"Date\":[\"1999\",\"2000\",\"2001\",\"2002\",\"2003\",\"2004\",\"2005\",\"2006\",\"2007\",\"2008\",\"2009\",\"2010\",\"2011\",\"2012\",\"2013\",\"2014\",\"2015\",\"2016\",\"2017\",\"2018\",\"2019\",\"2020\"],\"Variable\":[\"RDS-B\",\"RDS-B\",\"RDS-B\",\"RDS-B\",\"RDS-B\",\"RDS-B\",\"RDS-B\",\"RDS-B\",\"RDS-B\",\"RDS-B\",\"RDS-B\",\"RDS-B\",\"RDS-B\",\"RDS-B\",\"RDS-B\",\"RDS-B\",\"RDS-B\",\"RDS-B\",\"RDS-B\",\"RDS-B\",\"RDS-B\",\"RDS-B\"],\"value\":{\"__ndarray__\":\"AAAAwGYSNkAAAAAAme02QAAAAEDW0DNAAAAAYChEM0AAAADA4j83QAAAAMDFrDtAAAAAwPJ1P0AAAADg9PNBQAAAAIDvukVAAAAAoLE0PEAAAAAgCwBBQAAAAEBMqkRAAAAAYPGxSEAAAABAqihIQAAAAIBv80pAAAAAgCYoSkAAAACg1m1CQAAAAGADAklAAAAAgMxhT0AAAABgCB1NQAAAAAAp/E1AAAAAgBTOQEA=\",\"dtype\":\"float64\",\"shape\":[22]}},\"selected\":{\"id\":\"2292\"},\"selection_policy\":{\"id\":\"2345\"}},\"id\":\"2291\",\"type\":\"ColumnDataSource\"},{\"attributes\":{},\"id\":\"2547\",\"type\":\"ResetTool\"},{\"attributes\":{\"active_drag\":\"auto\",\"active_inspect\":\"auto\",\"active_multi\":null,\"active_scroll\":\"auto\",\"active_tap\":\"auto\",\"tools\":[{\"id\":\"2525\"},{\"id\":\"2543\"},{\"id\":\"2544\"},{\"id\":\"2545\"},{\"id\":\"2546\"},{\"id\":\"2547\"}]},\"id\":\"2549\",\"type\":\"Toolbar\"},{\"attributes\":{\"children\":[{\"id\":\"2124\"},{\"id\":\"2135\"},{\"id\":\"2527\"}],\"margin\":[0,0,0,0],\"name\":\"Column04715\"},\"id\":\"2123\",\"type\":\"Column\"},{\"attributes\":{\"data\":{\"Date\":[\"1999\",\"2000\",\"2001\",\"2002\",\"2003\",\"2004\",\"2005\",\"2006\",\"2007\",\"2008\",\"2009\",\"2010\",\"2011\",\"2012\",\"2013\",\"2014\",\"2015\",\"2016\",\"2017\",\"2018\",\"2019\",\"2020\"],\"Variable\":[\"CVX\",\"CVX\",\"CVX\",\"CVX\",\"CVX\",\"CVX\",\"CVX\",\"CVX\",\"CVX\",\"CVX\",\"CVX\",\"CVX\",\"CVX\",\"CVX\",\"CVX\",\"CVX\",\"CVX\",\"CVX\",\"CVX\",\"CVX\",\"CVX\",\"CVX\"],\"value\":{\"__ndarray__\":\"AAAAIBYONEAAAAAAAio0QAAAAOALCTZAAAAAQHfyMEAAAACA1/A2QAAAAIDTzDxAAAAAYOsPQEAAAACgvHlFQAAAACBLCUxAAAAAIMDlRkAAAAAARL5IQAAAACC8a05AAAAAwItLUkAAAAAAmjhTQAAAAKCz7lZAAAAAAGhUVUAAAABAbOFRQAAAAECSb1hAAAAAwAIGW0AAAADgrmNYQAAAAIBSHVxAAAAAIHfRVEA=\",\"dtype\":\"float64\",\"shape\":[22]}},\"selected\":{\"id\":\"2267\"},\"selection_policy\":{\"id\":\"2316\"}},\"id\":\"2266\",\"type\":\"ColumnDataSource\"},{\"attributes\":{\"source\":{\"id\":\"2578\"}},\"id\":\"2585\",\"type\":\"CDSView\"},{\"attributes\":{\"line_alpha\":0.2,\"line_color\":\"#ff7e0e\",\"line_width\":2,\"x\":{\"field\":\"Date\"},\"y\":{\"field\":\"value\"}},\"id\":\"2583\",\"type\":\"Line\"},{\"attributes\":{\"factors\":[\"2004\",\"2005\",\"2006\",\"2007\",\"2008\",\"2009\",\"2010\",\"2011\",\"2012\",\"2013\",\"2014\",\"2015\",\"2016\",\"2017\",\"2018\",\"2019\",\"2020\"],\"tags\":[[[\"Date\",\"Date\",null]]]},\"id\":\"2681\",\"type\":\"FactorRange\"},{\"attributes\":{\"line_color\":\"#ff7e0e\",\"line_width\":2,\"x\":{\"field\":\"Date\"},\"y\":{\"field\":\"value\"}},\"id\":\"2581\",\"type\":\"Line\"},{\"attributes\":{\"line_alpha\":0.1,\"line_color\":\"#ff7e0e\",\"line_width\":2,\"x\":{\"field\":\"Date\"},\"y\":{\"field\":\"value\"}},\"id\":\"2582\",\"type\":\"Line\"},{\"attributes\":{\"margin\":[0,0,0,0],\"tabs\":[{\"id\":\"2675\"},{\"id\":\"2890\"},{\"id\":\"2951\"}]},\"id\":\"2122\",\"type\":\"Tabs\"},{\"attributes\":{\"label\":{\"value\":\"Oil & Gas\"},\"renderers\":[{\"id\":\"2584\"}]},\"id\":\"2594\",\"type\":\"LegendItem\"},{\"attributes\":{},\"id\":\"2264\",\"type\":\"UnionRenderers\"},{\"attributes\":{\"label\":{\"value\":\"Alternative Energy\"},\"renderers\":[{\"id\":\"2568\"}]},\"id\":\"2577\",\"type\":\"LegendItem\"}],\"root_ids\":[\"2122\",\"3126\"]},\"title\":\"Bokeh Application\",\"version\":\"2.0.2\"}};\n",
       "  var render_items = [{\"docid\":\"16343ab9-9942-4518-94ed-edc76b2f334b\",\"root_ids\":[\"2122\"],\"roots\":{\"2122\":\"09d42c78-9bb7-4197-b4c2-78a3f661d38d\"}}];\n",
       "  root.Bokeh.embed.embed_items_notebook(docs_json, render_items);\n",
       "  }\n",
       "if (root.Bokeh !== undefined) {\n",
       "    embed_document(root);\n",
       "  } else {\n",
       "    var attempts = 0;\n",
       "    var timer = setInterval(function(root) {\n",
       "      if (root.Bokeh !== undefined) {\n",
       "        clearInterval(timer);\n",
       "        embed_document(root);\n",
       "      } else if (document.readyState == \"complete\") {\n",
       "        attempts++;\n",
       "        if (attempts > 100) {\n",
       "          clearInterval(timer);\n",
       "          console.log(\"Bokeh: ERROR: Unable to run BokehJS code because BokehJS library is missing\");\n",
       "        }\n",
       "      }\n",
       "    }, 10, root)\n",
       "  }\n",
       "})(window);</script>"
      ],
      "text/plain": [
       "Tabs\n",
       "    [0] Column\n",
       "        [0] Markdown(str)\n",
       "        [1] HoloViews(NdOverlay)\n",
       "        [2] HoloViews(NdOverlay)\n",
       "    [1] Column\n",
       "        [0] Markdown(str)\n",
       "        [1] Column\n",
       "            [0] Column()\n",
       "            [1] Row\n",
       "                [0] HoloViews(NdOverlay, name='interactive04718')\n",
       "        [2] Column\n",
       "            [0] Column()\n",
       "            [1] Row\n",
       "                [0] HoloViews(Bars, name='interactive04863')\n",
       "    [2] Column\n",
       "        [0] Markdown(str)\n",
       "        [1] Column\n",
       "            [0] Column()\n",
       "            [1] Row\n",
       "                [0] HoloViews(Scatter, name='interactive04992')"
      ]
     },
     "execution_count": 15,
     "metadata": {
      "application/vnd.holoviews_exec.v0+json": {
       "id": "2122"
      }
     },
     "output_type": "execute_result"
    }
   ],
   "source": [
    "dashboard = pn.Tabs(\n",
    "                ('Stock Returns', industry_stock_returns_row),\n",
    "                    ('Stock Risks', industry_stock_risk_row),\n",
    "                        ('Correlations', correlation_row)\n",
    ")\n",
    "dashboard"
   ]
  },
  {
   "cell_type": "code",
   "execution_count": null,
   "metadata": {},
   "outputs": [],
   "source": []
  }
 ],
 "metadata": {
  "kernelspec": {
   "display_name": "Python 3",
   "language": "python",
   "name": "python3"
  },
  "language_info": {
   "codemirror_mode": {
    "name": "ipython",
    "version": 3
   },
   "file_extension": ".py",
   "mimetype": "text/x-python",
   "name": "python",
   "nbconvert_exporter": "python",
   "pygments_lexer": "ipython3",
   "version": "3.8.3"
  }
 },
 "nbformat": 4,
 "nbformat_minor": 4
}
