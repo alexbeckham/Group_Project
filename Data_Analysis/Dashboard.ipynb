{
 "cells": [
  {
   "cell_type": "code",
   "execution_count": 2,
   "metadata": {},
   "outputs": [],
   "source": [
    "import pandas as pd\n",
    "import numpy as np\n",
    "from pandas_datareader import data as pdr\n",
    "import yfinance as yf\n",
    "import datetime as dt\n",
    "import numpy\n",
    "import panel as pn\n",
    "import seaborn as sns\n",
    "\n",
    "import plotly.express as px\n",
    "pn.extension(\"plotly\")\n",
    "%matplotlib inline\n",
    "\n",
    "\n",
    "yf.pdr_override()\n",
    "\n",
    "import hvplot.pandas\n",
    "import holoviews as hv"
   ]
  },
  {
   "cell_type": "code",
   "execution_count": 3,
   "metadata": {},
   "outputs": [
    {
     "output_type": "execute_result",
     "data": {
      "text/plain": [
       "      Production (Oil)  Production (Alternative)\n",
       "Year                                            \n",
       "1980            20.474                     8.168\n",
       "1981            20.412                     8.421\n",
       "1982            20.458                     9.111\n",
       "1983            20.528                     9.698\n",
       "1984            21.082                     9.990"
      ],
      "text/html": "<div>\n<style scoped>\n    .dataframe tbody tr th:only-of-type {\n        vertical-align: middle;\n    }\n\n    .dataframe tbody tr th {\n        vertical-align: top;\n    }\n\n    .dataframe thead th {\n        text-align: right;\n    }\n</style>\n<table border=\"1\" class=\"dataframe\">\n  <thead>\n    <tr style=\"text-align: right;\">\n      <th></th>\n      <th>Production (Oil)</th>\n      <th>Production (Alternative)</th>\n    </tr>\n    <tr>\n      <th>Year</th>\n      <th></th>\n      <th></th>\n    </tr>\n  </thead>\n  <tbody>\n    <tr>\n      <th>1980</th>\n      <td>20.474</td>\n      <td>8.168</td>\n    </tr>\n    <tr>\n      <th>1981</th>\n      <td>20.412</td>\n      <td>8.421</td>\n    </tr>\n    <tr>\n      <th>1982</th>\n      <td>20.458</td>\n      <td>9.111</td>\n    </tr>\n    <tr>\n      <th>1983</th>\n      <td>20.528</td>\n      <td>9.698</td>\n    </tr>\n    <tr>\n      <th>1984</th>\n      <td>21.082</td>\n      <td>9.990</td>\n    </tr>\n  </tbody>\n</table>\n</div>"
     },
     "metadata": {},
     "execution_count": 3
    }
   ],
   "source": [
    "combined_production = pd.read_csv(\"../Data/Total_Production_CLEAN.csv\",index_col=\"Year\")\n",
    "combined_production.head()"
   ]
  },
  {
   "cell_type": "code",
   "execution_count": 4,
   "metadata": {},
   "outputs": [],
   "source": [
    "def alt_base():\n",
    "    tickers = ['BLX','CIG','ELP','PLUG']\n",
    "    start = dt.datetime(1975,1,1)\n",
    "    end = dt.datetime(2021,1,1)\n",
    "    df = pdr.get_data_yahoo(tickers,start,end)['Adj Close']\n",
    "    df = df.reset_index()\n",
    "    \n",
    "    def to_string(x):\n",
    "        return str(x)   \n",
    "        \n",
    "    df['Date'] = df['Date'].apply(to_string).apply(lambda x: x.split('-')[0]) #! Works: From 1975\n",
    "    df = df.groupby('Date').last().loc['1999':'2020', :] #! Works: From 175\n",
    "    return df"
   ]
  },
  {
   "cell_type": "code",
   "execution_count": 5,
   "metadata": {},
   "outputs": [],
   "source": [
    "def oil_base():\n",
    "    tickers1 = ['XOM','RDS-B','CVX','BP']\n",
    "    start = dt.datetime(1975,1,1)\n",
    "    end = dt.datetime(2021,1,1)\n",
    "    df = pdr.get_data_yahoo(tickers1,start,end)['Adj Close']\n",
    "    df = df.reset_index()\n",
    "    \n",
    "    def to_string(x):\n",
    "        return str(x)   \n",
    "        \n",
    "    df['Date'] = df['Date'].apply(to_string).apply(lambda x: x.split('-')[0]) #! Works: From 1975\n",
    "    df = df.groupby('Date').last().loc['1999':'2020', :] #! Works: From 175\n",
    "    return df"
   ]
  },
  {
   "cell_type": "code",
   "execution_count": 6,
   "metadata": {},
   "outputs": [
    {
     "output_type": "stream",
     "name": "stdout",
     "text": [
      "[*********************100%***********************]  4 of 4 completed\n",
      "[*********************100%***********************]  4 of 4 completed\n"
     ]
    },
    {
     "output_type": "display_data",
     "data": {},
     "metadata": {}
    },
    {
     "output_type": "execute_result",
     "data": {
      "text/html": "<div id='1001'>\n\n\n\n\n\n  <div class=\"bk-root\" id=\"ccd7b78a-c29a-4e09-967b-9882f011c545\" data-root-id=\"1001\"></div>\n</div>\n<script type=\"application/javascript\">(function(root) {\n  function embed_document(root) {\n  var docs_json = {\"3158fb6f-a1df-4386-b76c-f1544114338e\":{\"roots\":{\"references\":[{\"attributes\":{\"text\":\"Oil and Alternative Stock Prices from 1999-2020\",\"text_color\":{\"value\":\"black\"},\"text_font_size\":{\"value\":\"20pt\"}},\"id\":\"1014\",\"type\":\"Title\"},{\"attributes\":{},\"id\":\"1020\",\"type\":\"LinearScale\"},{\"attributes\":{},\"id\":\"1045\",\"type\":\"BasicTickFormatter\"},{\"attributes\":{\"line_color\":\"#2ba02b\",\"line_width\":2,\"x\":{\"field\":\"Date\"},\"y\":{\"field\":\"value\"}},\"id\":\"1084\",\"type\":\"Line\"},{\"attributes\":{\"line_alpha\":0.2,\"line_color\":\"#1f77b3\",\"line_width\":2,\"x\":{\"field\":\"Date\"},\"y\":{\"field\":\"value\"}},\"id\":\"1053\",\"type\":\"Line\"},{\"attributes\":{\"line_color\":\"#7e7e7e\",\"line_width\":2,\"x\":{\"field\":\"Date\"},\"y\":{\"field\":\"value\"}},\"id\":\"1199\",\"type\":\"Line\"},{\"attributes\":{\"line_alpha\":0.1,\"line_color\":\"#1f77b3\",\"line_width\":2,\"x\":{\"field\":\"Date\"},\"y\":{\"field\":\"value\"}},\"id\":\"1052\",\"type\":\"Line\"},{\"attributes\":{\"line_color\":\"#d62628\",\"line_width\":2,\"x\":{\"field\":\"Date\"},\"y\":{\"field\":\"value\"}},\"id\":\"1103\",\"type\":\"Line\"},{\"attributes\":{},\"id\":\"1141\",\"type\":\"UnionRenderers\"},{\"attributes\":{\"data_source\":{\"id\":\"1081\"},\"glyph\":{\"id\":\"1084\"},\"hover_glyph\":null,\"muted_glyph\":{\"id\":\"1086\"},\"nonselection_glyph\":{\"id\":\"1085\"},\"selection_glyph\":null,\"view\":{\"id\":\"1088\"}},\"id\":\"1087\",\"type\":\"GlyphRenderer\"},{\"attributes\":{\"label\":{\"value\":\"ELP\"},\"renderers\":[{\"id\":\"1087\"}]},\"id\":\"1099\",\"type\":\"LegendItem\"},{\"attributes\":{\"callback\":null,\"renderers\":[{\"id\":\"1054\"},{\"id\":\"1070\"},{\"id\":\"1087\"},{\"id\":\"1106\"},{\"id\":\"1127\"},{\"id\":\"1150\"},{\"id\":\"1175\"},{\"id\":\"1202\"}],\"tags\":[\"hv_created\"],\"tooltips\":[[\"Variable\",\"@{Variable}\"],[\"Date\",\"@{Date}\"],[\"value\",\"@{value}\"]]},\"id\":\"1005\",\"type\":\"HoverTool\"},{\"attributes\":{\"line_alpha\":0.1,\"line_color\":\"#2ba02b\",\"line_width\":2,\"x\":{\"field\":\"Date\"},\"y\":{\"field\":\"value\"}},\"id\":\"1085\",\"type\":\"Line\"},{\"attributes\":{},\"id\":\"1049\",\"type\":\"Selection\"},{\"attributes\":{\"line_alpha\":0.2,\"line_color\":\"#7e7e7e\",\"line_width\":2,\"x\":{\"field\":\"Date\"},\"y\":{\"field\":\"value\"}},\"id\":\"1201\",\"type\":\"Line\"},{\"attributes\":{\"line_color\":\"#ff7e0e\",\"line_width\":2,\"x\":{\"field\":\"Date\"},\"y\":{\"field\":\"value\"}},\"id\":\"1067\",\"type\":\"Line\"},{\"attributes\":{\"line_alpha\":0.2,\"line_color\":\"#2ba02b\",\"line_width\":2,\"x\":{\"field\":\"Date\"},\"y\":{\"field\":\"value\"}},\"id\":\"1086\",\"type\":\"Line\"},{\"attributes\":{\"click_policy\":\"mute\",\"items\":[{\"id\":\"1063\"},{\"id\":\"1080\"},{\"id\":\"1099\"},{\"id\":\"1120\"},{\"id\":\"1143\"},{\"id\":\"1168\"},{\"id\":\"1195\"},{\"id\":\"1224\"}],\"label_text_font_size\":\"20pt\",\"location\":[0,0],\"title\":\"Variable\"},\"id\":\"1062\",\"type\":\"Legend\"},{\"attributes\":{\"source\":{\"id\":\"1081\"}},\"id\":\"1088\",\"type\":\"CDSView\"},{\"attributes\":{\"axis_label\":\"Stock Price\",\"axis_label_text_font_size\":\"20pt\",\"bounds\":\"auto\",\"formatter\":{\"id\":\"1045\"},\"major_label_orientation\":\"horizontal\",\"major_label_text_font_size\":\"15pt\",\"ticker\":{\"id\":\"1026\"}},\"id\":\"1025\",\"type\":\"LinearAxis\"},{\"attributes\":{\"line_color\":\"#1f77b3\",\"line_width\":2,\"x\":{\"field\":\"Date\"},\"y\":{\"field\":\"value\"}},\"id\":\"1051\",\"type\":\"Line\"},{\"attributes\":{},\"id\":\"1082\",\"type\":\"Selection\"},{\"attributes\":{\"source\":{\"id\":\"1196\"}},\"id\":\"1203\",\"type\":\"CDSView\"},{\"attributes\":{},\"id\":\"1197\",\"type\":\"Selection\"},{\"attributes\":{},\"id\":\"1023\",\"type\":\"CategoricalTicker\"},{\"attributes\":{\"source\":{\"id\":\"1048\"}},\"id\":\"1055\",\"type\":\"CDSView\"},{\"attributes\":{\"label\":{\"value\":\"XOM\"},\"renderers\":[{\"id\":\"1202\"}]},\"id\":\"1224\",\"type\":\"LegendItem\"},{\"attributes\":{},\"id\":\"1026\",\"type\":\"BasicTicker\"},{\"attributes\":{\"line_alpha\":0.1,\"line_color\":\"#7e7e7e\",\"line_width\":2,\"x\":{\"field\":\"Date\"},\"y\":{\"field\":\"value\"}},\"id\":\"1200\",\"type\":\"Line\"},{\"attributes\":{\"data\":{\"Date\":[\"1999\",\"2000\",\"2001\",\"2002\",\"2003\",\"2004\",\"2005\",\"2006\",\"2007\",\"2008\",\"2009\",\"2010\",\"2011\",\"2012\",\"2013\",\"2014\",\"2015\",\"2016\",\"2017\",\"2018\",\"2019\",\"2020\"],\"Variable\":[\"ELP\",\"ELP\",\"ELP\",\"ELP\",\"ELP\",\"ELP\",\"ELP\",\"ELP\",\"ELP\",\"ELP\",\"ELP\",\"ELP\",\"ELP\",\"ELP\",\"ELP\",\"ELP\",\"ELP\",\"ELP\",\"ELP\",\"ELP\",\"ELP\",\"ELP\"],\"value\":{\"__ndarray__\":\"AAAAgB6oEEAAAADgyiYPQAAAAECk8A1AAAAAIA3g9T8AAACgEZECQAAAAGAjrgFAAAAA4MefDkAAAABggcgWQAAAACBpUSBAAAAAIPeXF0AAAAAgOWEpQAAAAGAJSS5AAAAAoA9DKkAAAADg64EjQAAAAEDa5SFAAAAA4P9LI0AAAACgf6cRQAAAAAD+nhpAAAAAgKuqGUAAAADgF60cQAAAAIDSOzBAAAAAoJmZLEA=\",\"dtype\":\"float64\",\"shape\":[22]}},\"selected\":{\"id\":\"1082\"},\"selection_policy\":{\"id\":\"1118\"}},\"id\":\"1081\",\"type\":\"ColumnDataSource\"},{\"attributes\":{\"axis\":{\"id\":\"1022\"},\"grid_line_color\":\"lightgray\",\"grid_line_width\":1.5,\"minor_grid_line_color\":\"lightgray\",\"ticker\":{\"id\":\"1023\"}},\"id\":\"1024\",\"type\":\"Grid\"},{\"attributes\":{\"margin\":[5,5,5,5],\"name\":\"HSpacer01734\",\"sizing_mode\":\"stretch_width\"},\"id\":\"1002\",\"type\":\"Spacer\"},{\"attributes\":{},\"id\":\"1122\",\"type\":\"Selection\"},{\"attributes\":{\"data_source\":{\"id\":\"1048\"},\"glyph\":{\"id\":\"1051\"},\"hover_glyph\":null,\"muted_glyph\":{\"id\":\"1053\"},\"nonselection_glyph\":{\"id\":\"1052\"},\"selection_glyph\":null,\"view\":{\"id\":\"1055\"}},\"id\":\"1054\",\"type\":\"GlyphRenderer\"},{\"attributes\":{\"data_source\":{\"id\":\"1196\"},\"glyph\":{\"id\":\"1199\"},\"hover_glyph\":null,\"muted_glyph\":{\"id\":\"1201\"},\"nonselection_glyph\":{\"id\":\"1200\"},\"selection_glyph\":null,\"view\":{\"id\":\"1203\"}},\"id\":\"1202\",\"type\":\"GlyphRenderer\"},{\"attributes\":{\"line_color\":\"#8c564b\",\"line_width\":2,\"x\":{\"field\":\"Date\"},\"y\":{\"field\":\"value\"}},\"id\":\"1147\",\"type\":\"Line\"},{\"attributes\":{},\"id\":\"1018\",\"type\":\"CategoricalScale\"},{\"attributes\":{\"axis_label\":\"Date\",\"axis_label_text_font_size\":\"20pt\",\"bounds\":\"auto\",\"formatter\":{\"id\":\"1042\"},\"group_text_font_size\":\"15pt\",\"major_label_orientation\":1.5707963267948966,\"major_label_text_font_size\":\"15pt\",\"ticker\":{\"id\":\"1023\"}},\"id\":\"1022\",\"type\":\"CategoricalAxis\"},{\"attributes\":{\"line_alpha\":0.2,\"line_color\":\"#8c564b\",\"line_width\":2,\"x\":{\"field\":\"Date\"},\"y\":{\"field\":\"value\"}},\"id\":\"1149\",\"type\":\"Line\"},{\"attributes\":{\"label\":{\"value\":\"CVX\"},\"renderers\":[{\"id\":\"1150\"}]},\"id\":\"1168\",\"type\":\"LegendItem\"},{\"attributes\":{},\"id\":\"1097\",\"type\":\"UnionRenderers\"},{\"attributes\":{\"source\":{\"id\":\"1144\"}},\"id\":\"1151\",\"type\":\"CDSView\"},{\"attributes\":{\"axis\":{\"id\":\"1025\"},\"dimension\":1,\"grid_line_color\":\"lightgray\",\"grid_line_width\":1.5,\"ticker\":{\"id\":\"1026\"}},\"id\":\"1028\",\"type\":\"Grid\"},{\"attributes\":{\"children\":[{\"id\":\"1002\"},{\"id\":\"1013\"},{\"id\":\"1401\"}],\"margin\":[0,0,0,0],\"name\":\"Row01730\",\"tags\":[\"embedded\"]},\"id\":\"1001\",\"type\":\"Row\"},{\"attributes\":{},\"id\":\"1145\",\"type\":\"Selection\"},{\"attributes\":{},\"id\":\"1222\",\"type\":\"UnionRenderers\"},{\"attributes\":{},\"id\":\"1029\",\"type\":\"SaveTool\"},{\"attributes\":{\"line_alpha\":0.1,\"line_color\":\"#8c564b\",\"line_width\":2,\"x\":{\"field\":\"Date\"},\"y\":{\"field\":\"value\"}},\"id\":\"1148\",\"type\":\"Line\"},{\"attributes\":{},\"id\":\"1030\",\"type\":\"PanTool\"},{\"attributes\":{},\"id\":\"1031\",\"type\":\"WheelZoomTool\"},{\"attributes\":{\"data\":{\"Date\":[\"1999\",\"2000\",\"2001\",\"2002\",\"2003\",\"2004\",\"2005\",\"2006\",\"2007\",\"2008\",\"2009\",\"2010\",\"2011\",\"2012\",\"2013\",\"2014\",\"2015\",\"2016\",\"2017\",\"2018\",\"2019\",\"2020\"],\"Variable\":[\"BLX\",\"BLX\",\"BLX\",\"BLX\",\"BLX\",\"BLX\",\"BLX\",\"BLX\",\"BLX\",\"BLX\",\"BLX\",\"BLX\",\"BLX\",\"BLX\",\"BLX\",\"BLX\",\"BLX\",\"BLX\",\"BLX\",\"BLX\",\"BLX\",\"BLX\"],\"value\":{\"__ndarray__\":\"AAAAgAz2HEAAAABAWDMmQAAAAACyFSNAAAAAgBTE+D8AAACg4ioaQAAAAEBThh1AAAAA4MB6HkAAAABASFIfQAAAAMCunB9AAAAAgD+7HUAAAADgWXweQAAAAMD+JCVAAAAAIGtCI0AAAACAjT0rQAAAACDnmDJAAAAAwAE9NUAAAABAt8cyQAAAAIAdRTZAAAAAAAiDNUAAAACAOIwtQAAAACBSqDNAAAAAwPWoL0A=\",\"dtype\":\"float64\",\"shape\":[22]}},\"selected\":{\"id\":\"1049\"},\"selection_policy\":{\"id\":\"1078\"}},\"id\":\"1048\",\"type\":\"ColumnDataSource\"},{\"attributes\":{\"overlay\":{\"id\":\"1034\"}},\"id\":\"1032\",\"type\":\"BoxZoomTool\"},{\"attributes\":{},\"id\":\"1033\",\"type\":\"ResetTool\"},{\"attributes\":{\"data_source\":{\"id\":\"1144\"},\"glyph\":{\"id\":\"1147\"},\"hover_glyph\":null,\"muted_glyph\":{\"id\":\"1149\"},\"nonselection_glyph\":{\"id\":\"1148\"},\"selection_glyph\":null,\"view\":{\"id\":\"1151\"}},\"id\":\"1150\",\"type\":\"GlyphRenderer\"},{\"attributes\":{},\"id\":\"1166\",\"type\":\"UnionRenderers\"},{\"attributes\":{},\"id\":\"1245\",\"type\":\"UnionRenderers\"},{\"attributes\":{\"line_alpha\":0.2,\"line_color\":\"#d62628\",\"line_width\":2,\"x\":{\"field\":\"Date\"},\"y\":{\"field\":\"value\"}},\"id\":\"1105\",\"type\":\"Line\"},{\"attributes\":{\"label\":{\"value\":\"PLUG\"},\"renderers\":[{\"id\":\"1106\"}]},\"id\":\"1120\",\"type\":\"LegendItem\"},{\"attributes\":{\"bottom_units\":\"screen\",\"fill_alpha\":0.5,\"fill_color\":\"lightgrey\",\"left_units\":\"screen\",\"level\":\"overlay\",\"line_alpha\":1.0,\"line_color\":\"black\",\"line_dash\":[4,4],\"line_width\":2,\"render_mode\":\"css\",\"right_units\":\"screen\",\"top_units\":\"screen\"},\"id\":\"1034\",\"type\":\"BoxAnnotation\"},{\"attributes\":{\"source\":{\"id\":\"1100\"}},\"id\":\"1107\",\"type\":\"CDSView\"},{\"attributes\":{\"label\":{\"value\":\"BLX\"},\"renderers\":[{\"id\":\"1054\"}]},\"id\":\"1063\",\"type\":\"LegendItem\"},{\"attributes\":{},\"id\":\"1101\",\"type\":\"Selection\"},{\"attributes\":{\"line_alpha\":0.2,\"line_color\":\"#ff7e0e\",\"line_width\":2,\"x\":{\"field\":\"Date\"},\"y\":{\"field\":\"value\"}},\"id\":\"1069\",\"type\":\"Line\"},{\"attributes\":{\"data_source\":{\"id\":\"1064\"},\"glyph\":{\"id\":\"1067\"},\"hover_glyph\":null,\"muted_glyph\":{\"id\":\"1069\"},\"nonselection_glyph\":{\"id\":\"1068\"},\"selection_glyph\":null,\"view\":{\"id\":\"1071\"}},\"id\":\"1070\",\"type\":\"GlyphRenderer\"},{\"attributes\":{\"line_alpha\":0.1,\"line_color\":\"#d62628\",\"line_width\":2,\"x\":{\"field\":\"Date\"},\"y\":{\"field\":\"value\"}},\"id\":\"1104\",\"type\":\"Line\"},{\"attributes\":{\"line_alpha\":0.1,\"line_color\":\"#ff7e0e\",\"line_width\":2,\"x\":{\"field\":\"Date\"},\"y\":{\"field\":\"value\"}},\"id\":\"1068\",\"type\":\"Line\"},{\"attributes\":{\"source\":{\"id\":\"1121\"}},\"id\":\"1128\",\"type\":\"CDSView\"},{\"attributes\":{\"line_alpha\":0.1,\"line_color\":\"#e277c1\",\"line_width\":2,\"x\":{\"field\":\"Date\"},\"y\":{\"field\":\"value\"}},\"id\":\"1173\",\"type\":\"Line\"},{\"attributes\":{\"data_source\":{\"id\":\"1100\"},\"glyph\":{\"id\":\"1103\"},\"hover_glyph\":null,\"muted_glyph\":{\"id\":\"1105\"},\"nonselection_glyph\":{\"id\":\"1104\"},\"selection_glyph\":null,\"view\":{\"id\":\"1107\"}},\"id\":\"1106\",\"type\":\"GlyphRenderer\"},{\"attributes\":{\"label\":{\"value\":\"CIG\"},\"renderers\":[{\"id\":\"1070\"}]},\"id\":\"1080\",\"type\":\"LegendItem\"},{\"attributes\":{\"data_source\":{\"id\":\"1169\"},\"glyph\":{\"id\":\"1172\"},\"hover_glyph\":null,\"muted_glyph\":{\"id\":\"1174\"},\"nonselection_glyph\":{\"id\":\"1173\"},\"selection_glyph\":null,\"view\":{\"id\":\"1176\"}},\"id\":\"1175\",\"type\":\"GlyphRenderer\"},{\"attributes\":{\"source\":{\"id\":\"1064\"}},\"id\":\"1071\",\"type\":\"CDSView\"},{\"attributes\":{\"margin\":[5,5,5,5],\"name\":\"HSpacer01735\",\"sizing_mode\":\"stretch_width\"},\"id\":\"1401\",\"type\":\"Spacer\"},{\"attributes\":{\"line_color\":\"#e277c1\",\"line_width\":2,\"x\":{\"field\":\"Date\"},\"y\":{\"field\":\"value\"}},\"id\":\"1172\",\"type\":\"Line\"},{\"attributes\":{},\"id\":\"1065\",\"type\":\"Selection\"},{\"attributes\":{\"line_alpha\":0.2,\"line_color\":\"#e277c1\",\"line_width\":2,\"x\":{\"field\":\"Date\"},\"y\":{\"field\":\"value\"}},\"id\":\"1174\",\"type\":\"Line\"},{\"attributes\":{\"label\":{\"value\":\"RDS-B\"},\"renderers\":[{\"id\":\"1175\"}]},\"id\":\"1195\",\"type\":\"LegendItem\"},{\"attributes\":{\"data\":{\"Date\":[\"1999\",\"2000\",\"2001\",\"2002\",\"2003\",\"2004\",\"2005\",\"2006\",\"2007\",\"2008\",\"2009\",\"2010\",\"2011\",\"2012\",\"2013\",\"2014\",\"2015\",\"2016\",\"2017\",\"2018\",\"2019\",\"2020\"],\"Variable\":[\"BP\",\"BP\",\"BP\",\"BP\",\"BP\",\"BP\",\"BP\",\"BP\",\"BP\",\"BP\",\"BP\",\"BP\",\"BP\",\"BP\",\"BP\",\"BP\",\"BP\",\"BP\",\"BP\",\"BP\",\"BP\",\"BP\"],\"value\":{\"__ndarray__\":\"AAAAoELlNUAAAACAHyYyQAAAAADRIjJAAAAA4FNnMEAAAACAJ7s0QAAAAIDwUzlAAAAAQB7EPEAAAADAUw4/QAAAAGDAkUFAAAAA4DW5N0AAAADgpoM/QAAAACDPYDhAAAAAIGCAOEAAAADAgQA5QAAAAIBwrz5AAAAAgKdLOUAAAADAAA82QAAAAGCncTxAAAAAoBEUQUAAAACAQ0xAQAAAACCHP0FAAAAA4PE+NEA=\",\"dtype\":\"float64\",\"shape\":[22]}},\"selected\":{\"id\":\"1122\"},\"selection_policy\":{\"id\":\"1166\"}},\"id\":\"1121\",\"type\":\"ColumnDataSource\"},{\"attributes\":{\"data\":{\"Date\":[\"1999\",\"2000\",\"2001\",\"2002\",\"2003\",\"2004\",\"2005\",\"2006\",\"2007\",\"2008\",\"2009\",\"2010\",\"2011\",\"2012\",\"2013\",\"2014\",\"2015\",\"2016\",\"2017\",\"2018\",\"2019\",\"2020\"],\"Variable\":[\"PLUG\",\"PLUG\",\"PLUG\",\"PLUG\",\"PLUG\",\"PLUG\",\"PLUG\",\"PLUG\",\"PLUG\",\"PLUG\",\"PLUG\",\"PLUG\",\"PLUG\",\"PLUG\",\"PLUG\",\"PLUG\",\"PLUG\",\"PLUG\",\"PLUG\",\"PLUG\",\"PLUG\",\"PLUG\"],\"value\":{\"__ndarray__\":\"AAAAAACocUAAAAAAAFxiQAAAAKCZ2VVAAAAAQDNzRkAAAAAAACBSQAAAAMDMjE5AAAAAYGamSUAAAABAM3NDQAAAAAAAwENAAAAAYGZmJEAAAABgZmYcQAAAAKCZmQ1AAAAAgOtRAEAAAAAAAADgPwAAAMDMzPg/AAAAAAAACEAAAACgR+EAQAAAAEAzM/M/AAAAoEfhAkAAAABACtfzPwAAACCuRwlAAAAA4Hr0QEA=\",\"dtype\":\"float64\",\"shape\":[22]}},\"selected\":{\"id\":\"1101\"},\"selection_policy\":{\"id\":\"1141\"}},\"id\":\"1100\",\"type\":\"ColumnDataSource\"},{\"attributes\":{},\"id\":\"1118\",\"type\":\"UnionRenderers\"},{\"attributes\":{\"source\":{\"id\":\"1169\"}},\"id\":\"1176\",\"type\":\"CDSView\"},{\"attributes\":{},\"id\":\"1170\",\"type\":\"Selection\"},{\"attributes\":{\"data\":{\"Date\":[\"1999\",\"2000\",\"2001\",\"2002\",\"2003\",\"2004\",\"2005\",\"2006\",\"2007\",\"2008\",\"2009\",\"2010\",\"2011\",\"2012\",\"2013\",\"2014\",\"2015\",\"2016\",\"2017\",\"2018\",\"2019\",\"2020\"],\"Variable\":[\"CIG\",\"CIG\",\"CIG\",\"CIG\",\"CIG\",\"CIG\",\"CIG\",\"CIG\",\"CIG\",\"CIG\",\"CIG\",\"CIG\",\"CIG\",\"CIG\",\"CIG\",\"CIG\",\"CIG\",\"CIG\",\"CIG\",\"CIG\",\"CIG\",\"CIG\"],\"value\":{\"__ndarray__\":\"AAAAYMbE6T8AAACA57/gPwAAAIBSmOA/AAAAYPKA0T8AAADAEG3mPwAAAEAE5u8/AAAAAH3J+D8AAACgHKoAQAAAAADukQRAAAAAwCMQAEAAAACAzo0LQAAAAEDstAtAAAAAoFNKEEAAAAAAznYOQAAAAKBK3wpAAAAAQPY2C0AAAABA7zXxPwAAAKCriP0/AAAAoLmb+z8AAADgjsEJQAAAAGA2dglAAAAAYP2ZBkA=\",\"dtype\":\"float64\",\"shape\":[22]}},\"selected\":{\"id\":\"1065\"},\"selection_policy\":{\"id\":\"1097\"}},\"id\":\"1064\",\"type\":\"ColumnDataSource\"},{\"attributes\":{\"data\":{\"Date\":[\"1999\",\"2000\",\"2001\",\"2002\",\"2003\",\"2004\",\"2005\",\"2006\",\"2007\",\"2008\",\"2009\",\"2010\",\"2011\",\"2012\",\"2013\",\"2014\",\"2015\",\"2016\",\"2017\",\"2018\",\"2019\",\"2020\"],\"Variable\":[\"XOM\",\"XOM\",\"XOM\",\"XOM\",\"XOM\",\"XOM\",\"XOM\",\"XOM\",\"XOM\",\"XOM\",\"XOM\",\"XOM\",\"XOM\",\"XOM\",\"XOM\",\"XOM\",\"XOM\",\"XOM\",\"XOM\",\"XOM\",\"XOM\",\"XOM\"],\"value\":{\"__ndarray__\":\"AAAAgEJbNUAAAACA9oo3QAAAAIAYwTVAAAAAAPDSM0AAAABgfOo3QAAAACCZoD5AAAAAQFseQUAAAADg985HQAAAAIBOl01AAAAAoF22SUAAAACgqXhGQAAAACBYv0hAAAAAIAFeTUAAAAAAc79OQAAAAOCHd1JAAAAA4DtZUUAAAACAPUJOQAAAAIAtI1JAAAAAYGpyUUAAAABgkqBNQAAAAKAnxU9AAAAAIA5EREA=\",\"dtype\":\"float64\",\"shape\":[22]}},\"selected\":{\"id\":\"1197\"},\"selection_policy\":{\"id\":\"1245\"}},\"id\":\"1196\",\"type\":\"ColumnDataSource\"},{\"attributes\":{\"data\":{\"Date\":[\"1999\",\"2000\",\"2001\",\"2002\",\"2003\",\"2004\",\"2005\",\"2006\",\"2007\",\"2008\",\"2009\",\"2010\",\"2011\",\"2012\",\"2013\",\"2014\",\"2015\",\"2016\",\"2017\",\"2018\",\"2019\",\"2020\"],\"Variable\":[\"RDS-B\",\"RDS-B\",\"RDS-B\",\"RDS-B\",\"RDS-B\",\"RDS-B\",\"RDS-B\",\"RDS-B\",\"RDS-B\",\"RDS-B\",\"RDS-B\",\"RDS-B\",\"RDS-B\",\"RDS-B\",\"RDS-B\",\"RDS-B\",\"RDS-B\",\"RDS-B\",\"RDS-B\",\"RDS-B\",\"RDS-B\",\"RDS-B\"],\"value\":{\"__ndarray__\":\"AAAAwGYSNkAAAAAAme02QAAAAEDW0DNAAAAAYChEM0AAAADA4j83QAAAAMDFrDtAAAAAwPJ1P0AAAADg9PNBQAAAAIDvukVAAAAAoLE0PEAAAAAgCwBBQAAAAEBMqkRAAAAAYPGxSEAAAABAqihIQAAAAIBv80pAAAAAgCYoSkAAAACg1m1CQAAAAGADAklAAAAAgMxhT0AAAABgCB1NQAAAAAAp/E1AAAAAgBTOQEA=\",\"dtype\":\"float64\",\"shape\":[22]}},\"selected\":{\"id\":\"1170\"},\"selection_policy\":{\"id\":\"1222\"}},\"id\":\"1169\",\"type\":\"ColumnDataSource\"},{\"attributes\":{\"factors\":[\"1999\",\"2000\",\"2001\",\"2002\",\"2003\",\"2004\",\"2005\",\"2006\",\"2007\",\"2008\",\"2009\",\"2010\",\"2011\",\"2012\",\"2013\",\"2014\",\"2015\",\"2016\",\"2017\",\"2018\",\"2019\",\"2020\"],\"tags\":[[[\"Date\",\"Date\",null]]]},\"id\":\"1003\",\"type\":\"FactorRange\"},{\"attributes\":{\"active_drag\":\"auto\",\"active_inspect\":\"auto\",\"active_multi\":null,\"active_scroll\":\"auto\",\"active_tap\":\"auto\",\"tools\":[{\"id\":\"1005\"},{\"id\":\"1029\"},{\"id\":\"1030\"},{\"id\":\"1031\"},{\"id\":\"1032\"},{\"id\":\"1033\"}]},\"id\":\"1035\",\"type\":\"Toolbar\"},{\"attributes\":{\"data_source\":{\"id\":\"1121\"},\"glyph\":{\"id\":\"1124\"},\"hover_glyph\":null,\"muted_glyph\":{\"id\":\"1126\"},\"nonselection_glyph\":{\"id\":\"1125\"},\"selection_glyph\":null,\"view\":{\"id\":\"1128\"}},\"id\":\"1127\",\"type\":\"GlyphRenderer\"},{\"attributes\":{},\"id\":\"1078\",\"type\":\"UnionRenderers\"},{\"attributes\":{\"label\":{\"value\":\"BP\"},\"renderers\":[{\"id\":\"1127\"}]},\"id\":\"1143\",\"type\":\"LegendItem\"},{\"attributes\":{},\"id\":\"1042\",\"type\":\"CategoricalTickFormatter\"},{\"attributes\":{},\"id\":\"1193\",\"type\":\"UnionRenderers\"},{\"attributes\":{\"line_alpha\":0.2,\"line_color\":\"#9367bc\",\"line_width\":2,\"x\":{\"field\":\"Date\"},\"y\":{\"field\":\"value\"}},\"id\":\"1126\",\"type\":\"Line\"},{\"attributes\":{\"line_color\":\"#9367bc\",\"line_width\":2,\"x\":{\"field\":\"Date\"},\"y\":{\"field\":\"value\"}},\"id\":\"1124\",\"type\":\"Line\"},{\"attributes\":{\"below\":[{\"id\":\"1022\"}],\"center\":[{\"id\":\"1024\"},{\"id\":\"1028\"}],\"left\":[{\"id\":\"1025\"}],\"margin\":null,\"min_border_bottom\":10,\"min_border_left\":10,\"min_border_right\":10,\"min_border_top\":10,\"plot_height\":400,\"plot_width\":1200,\"renderers\":[{\"id\":\"1054\"},{\"id\":\"1070\"},{\"id\":\"1087\"},{\"id\":\"1106\"},{\"id\":\"1127\"},{\"id\":\"1150\"},{\"id\":\"1175\"},{\"id\":\"1202\"}],\"right\":[{\"id\":\"1062\"}],\"sizing_mode\":\"fixed\",\"title\":{\"id\":\"1014\"},\"toolbar\":{\"id\":\"1035\"},\"x_range\":{\"id\":\"1003\"},\"x_scale\":{\"id\":\"1018\"},\"y_range\":{\"id\":\"1004\"},\"y_scale\":{\"id\":\"1020\"}},\"id\":\"1013\",\"subtype\":\"Figure\",\"type\":\"Plot\"},{\"attributes\":{\"end\":120,\"reset_end\":120,\"reset_start\":0,\"tags\":[[[\"value\",\"value\",null]]]},\"id\":\"1004\",\"type\":\"Range1d\"},{\"attributes\":{\"line_alpha\":0.1,\"line_color\":\"#9367bc\",\"line_width\":2,\"x\":{\"field\":\"Date\"},\"y\":{\"field\":\"value\"}},\"id\":\"1125\",\"type\":\"Line\"},{\"attributes\":{\"data\":{\"Date\":[\"1999\",\"2000\",\"2001\",\"2002\",\"2003\",\"2004\",\"2005\",\"2006\",\"2007\",\"2008\",\"2009\",\"2010\",\"2011\",\"2012\",\"2013\",\"2014\",\"2015\",\"2016\",\"2017\",\"2018\",\"2019\",\"2020\"],\"Variable\":[\"CVX\",\"CVX\",\"CVX\",\"CVX\",\"CVX\",\"CVX\",\"CVX\",\"CVX\",\"CVX\",\"CVX\",\"CVX\",\"CVX\",\"CVX\",\"CVX\",\"CVX\",\"CVX\",\"CVX\",\"CVX\",\"CVX\",\"CVX\",\"CVX\",\"CVX\"],\"value\":{\"__ndarray__\":\"AAAAIBYONEAAAAAAAio0QAAAAOALCTZAAAAAQHfyMEAAAACA1/A2QAAAAIDTzDxAAAAAYOsPQEAAAACgvHlFQAAAACBLCUxAAAAAIMDlRkAAAAAARL5IQAAAACC8a05AAAAAwItLUkAAAAAAmjhTQAAAAKCz7lZAAAAAAGhUVUAAAABAbOFRQAAAAECSb1hAAAAAwAIGW0AAAADgrmNYQAAAAIBSHVxAAAAAIHfRVEA=\",\"dtype\":\"float64\",\"shape\":[22]}},\"selected\":{\"id\":\"1145\"},\"selection_policy\":{\"id\":\"1193\"}},\"id\":\"1144\",\"type\":\"ColumnDataSource\"}],\"root_ids\":[\"1001\"]},\"title\":\"Bokeh Application\",\"version\":\"2.0.2\"}};\n  var render_items = [{\"docid\":\"3158fb6f-a1df-4386-b76c-f1544114338e\",\"root_ids\":[\"1001\"],\"roots\":{\"1001\":\"ccd7b78a-c29a-4e09-967b-9882f011c545\"}}];\n  root.Bokeh.embed.embed_items_notebook(docs_json, render_items);\n  }\nif (root.Bokeh !== undefined) {\n    embed_document(root);\n  } else {\n    var attempts = 0;\n    var timer = setInterval(function(root) {\n      if (root.Bokeh !== undefined) {\n        clearInterval(timer);\n        embed_document(root);\n      } else if (document.readyState == \"complete\") {\n        attempts++;\n        if (attempts > 100) {\n          clearInterval(timer);\n          console.log(\"Bokeh: ERROR: Unable to run BokehJS code because BokehJS library is missing\");\n        }\n      }\n    }, 10, root)\n  }\n})(window);</script>",
      "application/vnd.holoviews_exec.v0+json": "",
      "text/plain": [
       ":NdOverlay   [Variable]\n",
       "   :Curve   [Date]   (value)"
      ]
     },
     "metadata": {
      "application/vnd.holoviews_exec.v0+json": {
       "id": "1001"
      }
     },
     "execution_count": 6
    }
   ],
   "source": [
    "def combined_base():\n",
    "    combined_base = pd.concat(\n",
    "                        [alt_base(),oil_base()],\n",
    "                            axis = 'columns',\n",
    "                                join = 'inner',\n",
    "    )\n",
    "    combined_base_plot = combined_base.hvplot(\n",
    "                                        title = 'Oil and Alternative Stock Prices from 1999-2020',\n",
    "                                        ylabel = 'Stock Price',\n",
    "                                        rot = 90,\n",
    "                                        width = 1200,\n",
    "                                        height = 400,\n",
    "                                        ylim = (0,120),\n",
    "                                        grid = True\n",
    "    )\n",
    "    grid_style = {\n",
    "            'grid_line_color': 'lightgray', \n",
    "            'grid_line_width': 1.5,\n",
    "            'minor_xgrid_line_color':'lightgray'}\n",
    "    \n",
    "    combined_base_plot.opts(\n",
    "                            fontsize={\n",
    "                                'title': 20, \n",
    "                                'labels': 20, \n",
    "                                'xticks': 15, \n",
    "                                'yticks': 15,\n",
    "                                'legend': 20\n",
    "    },\n",
    "                            legend_position = 'right',\n",
    "                            gridstyle = grid_style\n",
    "    )\n",
    "    return combined_base_plot\n",
    "combined_base()"
   ]
  },
  {
   "cell_type": "code",
   "execution_count": 7,
   "metadata": {},
   "outputs": [],
   "source": [
    "def combined_pct_change():\n",
    "    alt_returns = alt_base().pct_change()\n",
    "    oil_returns = oil_base().pct_change()\n",
    "    weights = [0.25,0.25,0.25,0.25]\n",
    "\n",
    "    alt_port_returns = pd.DataFrame(alt_returns.dot(weights)).dropna()  \n",
    "    oil_port_returns = pd.DataFrame(oil_returns.dot(weights)).dropna()\n",
    "\n",
    "    alt_port_returns.columns = ['Alternative Energy']\n",
    "    oil_port_returns.columns = ['Oil & Gas']\n",
    "\n",
    "    # Combining the return dataframes\n",
    "    combined_portfolio_returns = pd.concat(\n",
    "                                        [alt_port_returns, oil_port_returns], \n",
    "                                            axis = 'columns', \n",
    "                                                join = 'inner'\n",
    "    )\n",
    "    return combined_portfolio_returns"
   ]
  },
  {
   "cell_type": "code",
   "execution_count": 8,
   "metadata": {},
   "outputs": [
    {
     "output_type": "stream",
     "name": "stdout",
     "text": [
      "[*********************100%***********************]  4 of 4 completed\n",
      "[*********************100%***********************]  4 of 4 completed\n"
     ]
    },
    {
     "output_type": "display_data",
     "data": {},
     "metadata": {}
    },
    {
     "output_type": "execute_result",
     "data": {
      "text/html": "<div id='1513'>\n\n\n\n\n\n  <div class=\"bk-root\" id=\"1cb22b75-da92-4a79-960b-612c044c0559\" data-root-id=\"1513\"></div>\n</div>\n<script type=\"application/javascript\">(function(root) {\n  function embed_document(root) {\n  var docs_json = {\"05200b29-aae6-47b7-87e5-593d1a2b0330\":{\"roots\":{\"references\":[{\"attributes\":{\"axis_label\":\"Date\",\"axis_label_text_font_size\":\"20pt\",\"bounds\":\"auto\",\"formatter\":{\"id\":\"1548\"},\"group_text_font_size\":\"15pt\",\"major_label_orientation\":1.5707963267948966,\"major_label_text_font_size\":\"15pt\",\"ticker\":{\"id\":\"1529\"}},\"id\":\"1528\",\"type\":\"CategoricalAxis\"},{\"attributes\":{\"source\":{\"id\":\"1570\"}},\"id\":\"1577\",\"type\":\"CDSView\"},{\"attributes\":{\"data_source\":{\"id\":\"1570\"},\"glyph\":{\"id\":\"1573\"},\"hover_glyph\":null,\"muted_glyph\":{\"id\":\"1575\"},\"nonselection_glyph\":{\"id\":\"1574\"},\"selection_glyph\":null,\"view\":{\"id\":\"1577\"}},\"id\":\"1576\",\"type\":\"GlyphRenderer\"},{\"attributes\":{\"callback\":null,\"renderers\":[{\"id\":\"1560\"},{\"id\":\"1576\"}],\"tags\":[\"hv_created\"],\"tooltips\":[[\"Variable\",\"@{Variable}\"],[\"Date\",\"@{Date}\"],[\"value\",\"@{value}\"]]},\"id\":\"1517\",\"type\":\"HoverTool\"},{\"attributes\":{\"axis\":{\"id\":\"1531\"},\"dimension\":1,\"grid_line_color\":\"lightgray\",\"grid_line_width\":1.5,\"ticker\":{\"id\":\"1532\"}},\"id\":\"1534\",\"type\":\"Grid\"},{\"attributes\":{\"click_policy\":\"mute\",\"items\":[{\"id\":\"1569\"},{\"id\":\"1586\"}],\"label_text_font_size\":\"20pt\",\"location\":\"top_left\",\"title\":\"Variable\"},\"id\":\"1568\",\"type\":\"Legend\"},{\"attributes\":{\"text\":\"Cumulative Returns of Both Industries 2000-2020\",\"text_color\":{\"value\":\"black\"},\"text_font_size\":{\"value\":\"20pt\"}},\"id\":\"1520\",\"type\":\"Title\"},{\"attributes\":{},\"id\":\"1529\",\"type\":\"CategoricalTicker\"},{\"attributes\":{\"label\":{\"value\":\"Oil & Gas\"},\"renderers\":[{\"id\":\"1576\"}]},\"id\":\"1586\",\"type\":\"LegendItem\"},{\"attributes\":{},\"id\":\"1524\",\"type\":\"CategoricalScale\"},{\"attributes\":{\"axis_label\":\"Cumulative Returns Multiple\",\"axis_label_text_font_size\":\"20pt\",\"bounds\":\"auto\",\"formatter\":{\"id\":\"1551\"},\"major_label_orientation\":\"horizontal\",\"major_label_text_font_size\":\"15pt\",\"ticker\":{\"id\":\"1532\"}},\"id\":\"1531\",\"type\":\"LinearAxis\"},{\"attributes\":{\"below\":[{\"id\":\"1528\"}],\"center\":[{\"id\":\"1530\"},{\"id\":\"1534\"},{\"id\":\"1568\"}],\"left\":[{\"id\":\"1531\"}],\"margin\":null,\"min_border_bottom\":10,\"min_border_left\":10,\"min_border_right\":10,\"min_border_top\":10,\"plot_height\":400,\"plot_width\":1200,\"renderers\":[{\"id\":\"1560\"},{\"id\":\"1576\"}],\"sizing_mode\":\"fixed\",\"title\":{\"id\":\"1520\"},\"toolbar\":{\"id\":\"1541\"},\"x_range\":{\"id\":\"1515\"},\"x_scale\":{\"id\":\"1524\"},\"y_range\":{\"id\":\"1516\"},\"y_scale\":{\"id\":\"1526\"}},\"id\":\"1519\",\"subtype\":\"Figure\",\"type\":\"Plot\"},{\"attributes\":{},\"id\":\"1532\",\"type\":\"BasicTicker\"},{\"attributes\":{\"margin\":[5,5,5,5],\"name\":\"HSpacer03050\",\"sizing_mode\":\"stretch_width\"},\"id\":\"1667\",\"type\":\"Spacer\"},{\"attributes\":{\"axis\":{\"id\":\"1528\"},\"grid_line_color\":\"lightgray\",\"grid_line_width\":1.5,\"minor_grid_line_color\":\"lightgray\",\"ticker\":{\"id\":\"1529\"}},\"id\":\"1530\",\"type\":\"Grid\"},{\"attributes\":{},\"id\":\"1584\",\"type\":\"UnionRenderers\"},{\"attributes\":{\"data_source\":{\"id\":\"1554\"},\"glyph\":{\"id\":\"1557\"},\"hover_glyph\":null,\"muted_glyph\":{\"id\":\"1559\"},\"nonselection_glyph\":{\"id\":\"1558\"},\"selection_glyph\":null,\"view\":{\"id\":\"1561\"}},\"id\":\"1560\",\"type\":\"GlyphRenderer\"},{\"attributes\":{},\"id\":\"1526\",\"type\":\"LinearScale\"},{\"attributes\":{},\"id\":\"1536\",\"type\":\"PanTool\"},{\"attributes\":{\"margin\":[5,5,5,5],\"name\":\"HSpacer03049\",\"sizing_mode\":\"stretch_width\"},\"id\":\"1514\",\"type\":\"Spacer\"},{\"attributes\":{},\"id\":\"1537\",\"type\":\"WheelZoomTool\"},{\"attributes\":{\"overlay\":{\"id\":\"1540\"}},\"id\":\"1538\",\"type\":\"BoxZoomTool\"},{\"attributes\":{},\"id\":\"1548\",\"type\":\"CategoricalTickFormatter\"},{\"attributes\":{},\"id\":\"1539\",\"type\":\"ResetTool\"},{\"attributes\":{\"active_drag\":\"auto\",\"active_inspect\":\"auto\",\"active_multi\":null,\"active_scroll\":\"auto\",\"active_tap\":\"auto\",\"tools\":[{\"id\":\"1517\"},{\"id\":\"1535\"},{\"id\":\"1536\"},{\"id\":\"1537\"},{\"id\":\"1538\"},{\"id\":\"1539\"}]},\"id\":\"1541\",\"type\":\"Toolbar\"},{\"attributes\":{\"data\":{\"Date\":[\"2000\",\"2001\",\"2002\",\"2003\",\"2004\",\"2005\",\"2006\",\"2007\",\"2008\",\"2009\",\"2010\",\"2011\",\"2012\",\"2013\",\"2014\",\"2015\",\"2016\",\"2017\",\"2018\",\"2019\",\"2020\"],\"Variable\":[\"Oil & Gas\",\"Oil & Gas\",\"Oil & Gas\",\"Oil & Gas\",\"Oil & Gas\",\"Oil & Gas\",\"Oil & Gas\",\"Oil & Gas\",\"Oil & Gas\",\"Oil & Gas\",\"Oil & Gas\",\"Oil & Gas\",\"Oil & Gas\",\"Oil & Gas\",\"Oil & Gas\",\"Oil & Gas\",\"Oil & Gas\",\"Oil & Gas\",\"Oil & Gas\",\"Oil & Gas\",\"Oil & Gas\"],\"value\":{\"__ndarray__\":\"PA0WZc7N7z/+tGYQUdruP+QuCDHIb+s/rGDm+sRA8T87z+VTqlf1P9+dzDyXCvg/XtnPQVW+/T9wJrgrfS4CQNIDtsF4XPs/3f1hRLaz/j/hje9DJZQAQLpD8dWrBQNA2zGoZPV6A0COmeFoABIHQFFY/VaMIgVAU1c4NhReAUBrXjG3HaEGQLsS7cpflwlA4KfTikU/B0DVw+XZahEJQDn1Z9FIqP8/\",\"dtype\":\"float64\",\"shape\":[21]}},\"selected\":{\"id\":\"1571\"},\"selection_policy\":{\"id\":\"1595\"}},\"id\":\"1570\",\"type\":\"ColumnDataSource\"},{\"attributes\":{\"line_alpha\":0.1,\"line_color\":\"#1f77b3\",\"line_width\":2,\"x\":{\"field\":\"Date\"},\"y\":{\"field\":\"value\"}},\"id\":\"1558\",\"type\":\"Line\"},{\"attributes\":{\"label\":{\"value\":\"Alternative Energy\"},\"renderers\":[{\"id\":\"1560\"}]},\"id\":\"1569\",\"type\":\"LegendItem\"},{\"attributes\":{\"data\":{\"Date\":[\"2000\",\"2001\",\"2002\",\"2003\",\"2004\",\"2005\",\"2006\",\"2007\",\"2008\",\"2009\",\"2010\",\"2011\",\"2012\",\"2013\",\"2014\",\"2015\",\"2016\",\"2017\",\"2018\",\"2019\",\"2020\"],\"Variable\":[\"Alternative Energy\",\"Alternative Energy\",\"Alternative Energy\",\"Alternative Energy\",\"Alternative Energy\",\"Alternative Energy\",\"Alternative Energy\",\"Alternative Energy\",\"Alternative Energy\",\"Alternative Energy\",\"Alternative Energy\",\"Alternative Energy\",\"Alternative Energy\",\"Alternative Energy\",\"Alternative Energy\",\"Alternative Energy\",\"Alternative Energy\",\"Alternative Energy\",\"Alternative Energy\",\"Alternative Energy\",\"Alternative Energy\"],\"value\":{\"__ndarray__\":\"dvo0dOsa7T+2MkHzj8noP9Qf6jrwcNM/MsVsJwSM6D8U73O/G6vqP9+pD23uMfE/1dtq/oTa8z8BMaLVMEn3P/csFoFAd+8/wPCUDNH69T+2HoF6hJH2P5ZmBEjuxvM/Z2qieCuA8D+N9zejGtj5P+0X2dBWsgBAIY7kkFq28z+czWhqyYj4P6gn8oOFov0/pJFUS+MU/z9NSdg1gLULQGZGXbifCidA\",\"dtype\":\"float64\",\"shape\":[21]}},\"selected\":{\"id\":\"1555\"},\"selection_policy\":{\"id\":\"1584\"}},\"id\":\"1554\",\"type\":\"ColumnDataSource\"},{\"attributes\":{\"children\":[{\"id\":\"1514\"},{\"id\":\"1519\"},{\"id\":\"1667\"}],\"margin\":[0,0,0,0],\"name\":\"Row03045\",\"tags\":[\"embedded\"]},\"id\":\"1513\",\"type\":\"Row\"},{\"attributes\":{\"line_alpha\":0.1,\"line_color\":\"#ff7e0e\",\"line_width\":2,\"x\":{\"field\":\"Date\"},\"y\":{\"field\":\"value\"}},\"id\":\"1574\",\"type\":\"Line\"},{\"attributes\":{\"line_alpha\":0.2,\"line_color\":\"#1f77b3\",\"line_width\":2,\"x\":{\"field\":\"Date\"},\"y\":{\"field\":\"value\"}},\"id\":\"1559\",\"type\":\"Line\"},{\"attributes\":{\"line_color\":\"#ff7e0e\",\"line_width\":2,\"x\":{\"field\":\"Date\"},\"y\":{\"field\":\"value\"}},\"id\":\"1573\",\"type\":\"Line\"},{\"attributes\":{\"end\":12.642447978755326,\"reset_end\":12.642447978755326,\"reset_start\":-0.8179299477114663,\"start\":-0.8179299477114663,\"tags\":[[[\"value\",\"value\",null]]]},\"id\":\"1516\",\"type\":\"Range1d\"},{\"attributes\":{\"line_alpha\":0.2,\"line_color\":\"#ff7e0e\",\"line_width\":2,\"x\":{\"field\":\"Date\"},\"y\":{\"field\":\"value\"}},\"id\":\"1575\",\"type\":\"Line\"},{\"attributes\":{},\"id\":\"1555\",\"type\":\"Selection\"},{\"attributes\":{\"factors\":[\"2000\",\"2001\",\"2002\",\"2003\",\"2004\",\"2005\",\"2006\",\"2007\",\"2008\",\"2009\",\"2010\",\"2011\",\"2012\",\"2013\",\"2014\",\"2015\",\"2016\",\"2017\",\"2018\",\"2019\",\"2020\"],\"tags\":[[[\"Date\",\"Date\",null]]]},\"id\":\"1515\",\"type\":\"FactorRange\"},{\"attributes\":{},\"id\":\"1551\",\"type\":\"BasicTickFormatter\"},{\"attributes\":{\"bottom_units\":\"screen\",\"fill_alpha\":0.5,\"fill_color\":\"lightgrey\",\"left_units\":\"screen\",\"level\":\"overlay\",\"line_alpha\":1.0,\"line_color\":\"black\",\"line_dash\":[4,4],\"line_width\":2,\"render_mode\":\"css\",\"right_units\":\"screen\",\"top_units\":\"screen\"},\"id\":\"1540\",\"type\":\"BoxAnnotation\"},{\"attributes\":{},\"id\":\"1595\",\"type\":\"UnionRenderers\"},{\"attributes\":{\"line_color\":\"#1f77b3\",\"line_width\":2,\"x\":{\"field\":\"Date\"},\"y\":{\"field\":\"value\"}},\"id\":\"1557\",\"type\":\"Line\"},{\"attributes\":{},\"id\":\"1571\",\"type\":\"Selection\"},{\"attributes\":{},\"id\":\"1535\",\"type\":\"SaveTool\"},{\"attributes\":{\"source\":{\"id\":\"1554\"}},\"id\":\"1561\",\"type\":\"CDSView\"}],\"root_ids\":[\"1513\"]},\"title\":\"Bokeh Application\",\"version\":\"2.0.2\"}};\n  var render_items = [{\"docid\":\"05200b29-aae6-47b7-87e5-593d1a2b0330\",\"root_ids\":[\"1513\"],\"roots\":{\"1513\":\"1cb22b75-da92-4a79-960b-612c044c0559\"}}];\n  root.Bokeh.embed.embed_items_notebook(docs_json, render_items);\n  }\nif (root.Bokeh !== undefined) {\n    embed_document(root);\n  } else {\n    var attempts = 0;\n    var timer = setInterval(function(root) {\n      if (root.Bokeh !== undefined) {\n        clearInterval(timer);\n        embed_document(root);\n      } else if (document.readyState == \"complete\") {\n        attempts++;\n        if (attempts > 100) {\n          clearInterval(timer);\n          console.log(\"Bokeh: ERROR: Unable to run BokehJS code because BokehJS library is missing\");\n        }\n      }\n    }, 10, root)\n  }\n})(window);</script>",
      "application/vnd.holoviews_exec.v0+json": "",
      "text/plain": [
       ":NdOverlay   [Variable]\n",
       "   :Curve   [Date]   (value)"
      ]
     },
     "metadata": {
      "application/vnd.holoviews_exec.v0+json": {
       "id": "1513"
      }
     },
     "execution_count": 8
    }
   ],
   "source": [
    "def cumulative_returns():\n",
    "    cumulative = (1 + combined_pct_change()).cumprod()\n",
    "    cumulative_plot = cumulative.hvplot(\n",
    "                                    title = 'Cumulative Returns of Both Industries 2000-2020',\n",
    "                                    ylabel = 'Cumulative Returns Multiple',\n",
    "                                    rot = 90,\n",
    "                                    width = 1200,\n",
    "                                    height = 400,\n",
    "                                    shared_axes = False,\n",
    "                                    grid = True\n",
    "    )\n",
    "    grid_style = {\n",
    "            'grid_line_color': 'lightgray', \n",
    "            'grid_line_width': 1.5,\n",
    "            'minor_xgrid_line_color':'lightgray'}\n",
    "    \n",
    "    cumulative_plot.opts(\n",
    "                        fontsize={\n",
    "                            'title': 20, \n",
    "                            'labels': 20, \n",
    "                            'xticks': 15, \n",
    "                            'yticks': 15,\n",
    "                            'legend': 20\n",
    "    },\n",
    "                                legend_position = 'top_left',\n",
    "                                     gridstyle = grid_style\n",
    "    )\n",
    "    return cumulative_plot\n",
    "cumulative_returns()"
   ]
  },
  {
   "cell_type": "code",
   "execution_count": 9,
   "metadata": {},
   "outputs": [
    {
     "output_type": "stream",
     "name": "stdout",
     "text": [
      "[*********************100%***********************]  4 of 4 completed\n",
      "[*********************100%***********************]  4 of 4 completed\n"
     ]
    },
    {
     "output_type": "display_data",
     "data": {},
     "metadata": {}
    },
    {
     "output_type": "execute_result",
     "data": {
      "text/html": "<div id='1719'>\n\n\n\n\n\n  <div class=\"bk-root\" id=\"1232c9ec-d319-430f-9426-e898016dac34\" data-root-id=\"1719\"></div>\n</div>\n<script type=\"application/javascript\">(function(root) {\n  function embed_document(root) {\n  var docs_json = {\"a4d166ad-0f72-4890-a294-799098128653\":{\"roots\":{\"references\":[{\"attributes\":{\"line_alpha\":0.2,\"line_color\":\"#ff7e0e\",\"line_width\":2,\"x\":{\"field\":\"Date\"},\"y\":{\"field\":\"value\"}},\"id\":\"1781\",\"type\":\"Line\"},{\"attributes\":{\"text\":\"5 Year Rolling Standard Deviation 2004-2020\",\"text_color\":{\"value\":\"black\"},\"text_font_size\":{\"value\":\"20pt\"}},\"id\":\"1726\",\"type\":\"Title\"},{\"attributes\":{},\"id\":\"1761\",\"type\":\"Selection\"},{\"attributes\":{\"bottom_units\":\"screen\",\"fill_alpha\":0.5,\"fill_color\":\"lightgrey\",\"left_units\":\"screen\",\"level\":\"overlay\",\"line_alpha\":1.0,\"line_color\":\"black\",\"line_dash\":[4,4],\"line_width\":2,\"render_mode\":\"css\",\"right_units\":\"screen\",\"top_units\":\"screen\"},\"id\":\"1746\",\"type\":\"BoxAnnotation\"},{\"attributes\":{\"margin\":[5,5,5,5],\"name\":\"HSpacer03530\",\"sizing_mode\":\"stretch_width\"},\"id\":\"1720\",\"type\":\"Spacer\"},{\"attributes\":{\"callback\":null,\"renderers\":[{\"id\":\"1766\"},{\"id\":\"1782\"}],\"tags\":[\"hv_created\"],\"tooltips\":[[\"Variable\",\"@{Variable}\"],[\"Date\",\"@{Date}\"],[\"value\",\"@{value}\"]]},\"id\":\"1723\",\"type\":\"HoverTool\"},{\"attributes\":{\"line_color\":\"#1f77b3\",\"line_width\":2,\"x\":{\"field\":\"Date\"},\"y\":{\"field\":\"value\"}},\"id\":\"1763\",\"type\":\"Line\"},{\"attributes\":{\"data_source\":{\"id\":\"1776\"},\"glyph\":{\"id\":\"1779\"},\"hover_glyph\":null,\"muted_glyph\":{\"id\":\"1781\"},\"nonselection_glyph\":{\"id\":\"1780\"},\"selection_glyph\":null,\"view\":{\"id\":\"1783\"}},\"id\":\"1782\",\"type\":\"GlyphRenderer\"},{\"attributes\":{\"line_alpha\":0.1,\"line_color\":\"#1f77b3\",\"line_width\":2,\"x\":{\"field\":\"Date\"},\"y\":{\"field\":\"value\"}},\"id\":\"1764\",\"type\":\"Line\"},{\"attributes\":{\"label\":{\"value\":\"Oil & Gas\"},\"renderers\":[{\"id\":\"1782\"}]},\"id\":\"1792\",\"type\":\"LegendItem\"},{\"attributes\":{\"children\":[{\"id\":\"1720\"},{\"id\":\"1725\"},{\"id\":\"1873\"}],\"margin\":[0,0,0,0],\"name\":\"Row03526\",\"tags\":[\"embedded\"]},\"id\":\"1719\",\"type\":\"Row\"},{\"attributes\":{},\"id\":\"1777\",\"type\":\"Selection\"},{\"attributes\":{\"line_alpha\":0.2,\"line_color\":\"#1f77b3\",\"line_width\":2,\"x\":{\"field\":\"Date\"},\"y\":{\"field\":\"value\"}},\"id\":\"1765\",\"type\":\"Line\"},{\"attributes\":{},\"id\":\"1735\",\"type\":\"CategoricalTicker\"},{\"attributes\":{},\"id\":\"1730\",\"type\":\"CategoricalScale\"},{\"attributes\":{},\"id\":\"1738\",\"type\":\"BasicTicker\"},{\"attributes\":{\"axis_label\":\"Standard Deviation in %\",\"axis_label_text_font_size\":\"20pt\",\"bounds\":\"auto\",\"formatter\":{\"id\":\"1757\"},\"major_label_orientation\":\"horizontal\",\"major_label_text_font_size\":\"15pt\",\"ticker\":{\"id\":\"1738\"}},\"id\":\"1737\",\"type\":\"LinearAxis\"},{\"attributes\":{},\"id\":\"1790\",\"type\":\"UnionRenderers\"},{\"attributes\":{\"above\":[{\"id\":\"1774\"}],\"below\":[{\"id\":\"1734\"}],\"center\":[{\"id\":\"1736\"},{\"id\":\"1740\"}],\"left\":[{\"id\":\"1737\"}],\"margin\":null,\"min_border_bottom\":10,\"min_border_left\":10,\"min_border_right\":10,\"min_border_top\":10,\"plot_height\":400,\"plot_width\":1200,\"renderers\":[{\"id\":\"1766\"},{\"id\":\"1782\"}],\"sizing_mode\":\"fixed\",\"title\":{\"id\":\"1726\"},\"toolbar\":{\"id\":\"1747\"},\"x_range\":{\"id\":\"1721\"},\"x_scale\":{\"id\":\"1730\"},\"y_range\":{\"id\":\"1722\"},\"y_scale\":{\"id\":\"1732\"}},\"id\":\"1725\",\"subtype\":\"Figure\",\"type\":\"Plot\"},{\"attributes\":{\"margin\":[5,5,5,5],\"name\":\"HSpacer03531\",\"sizing_mode\":\"stretch_width\"},\"id\":\"1873\",\"type\":\"Spacer\"},{\"attributes\":{},\"id\":\"1742\",\"type\":\"PanTool\"},{\"attributes\":{\"axis\":{\"id\":\"1734\"},\"grid_line_color\":\"lightgray\",\"grid_line_width\":1.5,\"minor_grid_line_color\":\"lightgray\",\"ticker\":{\"id\":\"1735\"}},\"id\":\"1736\",\"type\":\"Grid\"},{\"attributes\":{},\"id\":\"1743\",\"type\":\"WheelZoomTool\"},{\"attributes\":{},\"id\":\"1732\",\"type\":\"LinearScale\"},{\"attributes\":{\"axis\":{\"id\":\"1737\"},\"dimension\":1,\"grid_line_color\":\"lightgray\",\"grid_line_width\":1.5,\"ticker\":{\"id\":\"1738\"}},\"id\":\"1740\",\"type\":\"Grid\"},{\"attributes\":{},\"id\":\"1741\",\"type\":\"SaveTool\"},{\"attributes\":{\"axis_label\":\"Date\",\"axis_label_text_font_size\":\"20pt\",\"bounds\":\"auto\",\"formatter\":{\"id\":\"1754\"},\"group_text_font_size\":\"15pt\",\"major_label_orientation\":1.5707963267948966,\"major_label_text_font_size\":\"15pt\",\"ticker\":{\"id\":\"1735\"}},\"id\":\"1734\",\"type\":\"CategoricalAxis\"},{\"attributes\":{\"active_drag\":\"auto\",\"active_inspect\":\"auto\",\"active_multi\":null,\"active_scroll\":\"auto\",\"active_tap\":\"auto\",\"tools\":[{\"id\":\"1723\"},{\"id\":\"1741\"},{\"id\":\"1742\"},{\"id\":\"1743\"},{\"id\":\"1744\"},{\"id\":\"1745\"}]},\"id\":\"1747\",\"type\":\"Toolbar\"},{\"attributes\":{\"end\":102.71020917045186,\"reset_end\":102.71020917045186,\"reset_start\":-3.6984964066455497,\"start\":-3.6984964066455497,\"tags\":[[[\"value\",\"value\",null]]]},\"id\":\"1722\",\"type\":\"Range1d\"},{\"attributes\":{\"overlay\":{\"id\":\"1746\"}},\"id\":\"1744\",\"type\":\"BoxZoomTool\"},{\"attributes\":{},\"id\":\"1745\",\"type\":\"ResetTool\"},{\"attributes\":{\"source\":{\"id\":\"1776\"}},\"id\":\"1783\",\"type\":\"CDSView\"},{\"attributes\":{},\"id\":\"1754\",\"type\":\"CategoricalTickFormatter\"},{\"attributes\":{\"click_policy\":\"mute\",\"items\":[{\"id\":\"1775\"},{\"id\":\"1792\"}],\"label_text_font_size\":\"20pt\",\"location\":[0,0],\"orientation\":\"horizontal\",\"title\":\"Variable\"},\"id\":\"1774\",\"type\":\"Legend\"},{\"attributes\":{\"data\":{\"Date\":[\"2004\",\"2005\",\"2006\",\"2007\",\"2008\",\"2009\",\"2010\",\"2011\",\"2012\",\"2013\",\"2014\",\"2015\",\"2016\",\"2017\",\"2018\",\"2019\",\"2020\"],\"Variable\":[\"Alternative Energy\",\"Alternative Energy\",\"Alternative Energy\",\"Alternative Energy\",\"Alternative Energy\",\"Alternative Energy\",\"Alternative Energy\",\"Alternative Energy\",\"Alternative Energy\",\"Alternative Energy\",\"Alternative Energy\",\"Alternative Energy\",\"Alternative Energy\",\"Alternative Energy\",\"Alternative Energy\",\"Alternative Energy\",\"Alternative Energy\"],\"value\":{\"__ndarray__\":\"Lvrn1is4VEAzHRiv8vJTQIiySyviVFNAWNL1ktZkTkAB1uKpBIk3QAaWDLEDoTtAgV/OcyCAOkCYz8uYa5U7QAYeHAF3WDtA0yRlSSVFQECLbiIIJcI+QEJFSmibjENAwENo88BzQ0DtQH3uY+5BQORdehevrzxAvrHRurpoRUCByOC28HVXQA==\",\"dtype\":\"float64\",\"shape\":[17]}},\"selected\":{\"id\":\"1761\"},\"selection_policy\":{\"id\":\"1790\"}},\"id\":\"1760\",\"type\":\"ColumnDataSource\"},{\"attributes\":{\"data\":{\"Date\":[\"2004\",\"2005\",\"2006\",\"2007\",\"2008\",\"2009\",\"2010\",\"2011\",\"2012\",\"2013\",\"2014\",\"2015\",\"2016\",\"2017\",\"2018\",\"2019\",\"2020\"],\"Variable\":[\"Oil & Gas\",\"Oil & Gas\",\"Oil & Gas\",\"Oil & Gas\",\"Oil & Gas\",\"Oil & Gas\",\"Oil & Gas\",\"Oil & Gas\",\"Oil & Gas\",\"Oil & Gas\",\"Oil & Gas\",\"Oil & Gas\",\"Oil & Gas\",\"Oil & Gas\",\"Oil & Gas\",\"Oil & Gas\",\"Oil & Gas\"],\"value\":{\"__ndarray__\":\"jN4rHx+zMEAZK95uST4wQMuegLqy3i5AsnE5APOsFECmdOIQbcs0QEvzUm28tzNAI3ZngvefM0DRQLzEWTgyQPfw8Qyh5C9Ak4gLXgfEGEADW8Fz7zIlQFLFhdaajC5AqwXDPkqKM0DAl1yoS8UzQLY3cv3TrDNAp8yZgHzwMkAOQUG8E285QA==\",\"dtype\":\"float64\",\"shape\":[17]}},\"selected\":{\"id\":\"1777\"},\"selection_policy\":{\"id\":\"1801\"}},\"id\":\"1776\",\"type\":\"ColumnDataSource\"},{\"attributes\":{\"line_color\":\"#ff7e0e\",\"line_width\":2,\"x\":{\"field\":\"Date\"},\"y\":{\"field\":\"value\"}},\"id\":\"1779\",\"type\":\"Line\"},{\"attributes\":{\"label\":{\"value\":\"Alternative Energy\"},\"renderers\":[{\"id\":\"1766\"}]},\"id\":\"1775\",\"type\":\"LegendItem\"},{\"attributes\":{},\"id\":\"1801\",\"type\":\"UnionRenderers\"},{\"attributes\":{\"source\":{\"id\":\"1760\"}},\"id\":\"1767\",\"type\":\"CDSView\"},{\"attributes\":{\"data_source\":{\"id\":\"1760\"},\"glyph\":{\"id\":\"1763\"},\"hover_glyph\":null,\"muted_glyph\":{\"id\":\"1765\"},\"nonselection_glyph\":{\"id\":\"1764\"},\"selection_glyph\":null,\"view\":{\"id\":\"1767\"}},\"id\":\"1766\",\"type\":\"GlyphRenderer\"},{\"attributes\":{\"factors\":[\"2004\",\"2005\",\"2006\",\"2007\",\"2008\",\"2009\",\"2010\",\"2011\",\"2012\",\"2013\",\"2014\",\"2015\",\"2016\",\"2017\",\"2018\",\"2019\",\"2020\"],\"tags\":[[[\"Date\",\"Date\",null]]]},\"id\":\"1721\",\"type\":\"FactorRange\"},{\"attributes\":{},\"id\":\"1757\",\"type\":\"BasicTickFormatter\"},{\"attributes\":{\"line_alpha\":0.1,\"line_color\":\"#ff7e0e\",\"line_width\":2,\"x\":{\"field\":\"Date\"},\"y\":{\"field\":\"value\"}},\"id\":\"1780\",\"type\":\"Line\"}],\"root_ids\":[\"1719\"]},\"title\":\"Bokeh Application\",\"version\":\"2.0.2\"}};\n  var render_items = [{\"docid\":\"a4d166ad-0f72-4890-a294-799098128653\",\"root_ids\":[\"1719\"],\"roots\":{\"1719\":\"1232c9ec-d319-430f-9426-e898016dac34\"}}];\n  root.Bokeh.embed.embed_items_notebook(docs_json, render_items);\n  }\nif (root.Bokeh !== undefined) {\n    embed_document(root);\n  } else {\n    var attempts = 0;\n    var timer = setInterval(function(root) {\n      if (root.Bokeh !== undefined) {\n        clearInterval(timer);\n        embed_document(root);\n      } else if (document.readyState == \"complete\") {\n        attempts++;\n        if (attempts > 100) {\n          clearInterval(timer);\n          console.log(\"Bokeh: ERROR: Unable to run BokehJS code because BokehJS library is missing\");\n        }\n      }\n    }, 10, root)\n  }\n})(window);</script>",
      "application/vnd.holoviews_exec.v0+json": "",
      "text/plain": [
       ":NdOverlay   [Variable]\n",
       "   :Curve   [Date]   (value)"
      ]
     },
     "metadata": {
      "application/vnd.holoviews_exec.v0+json": {
       "id": "1719"
      }
     },
     "execution_count": 9
    }
   ],
   "source": [
    "def five_y_rolling_std():\n",
    "    # Finding the 5-year rolling annual standard deviation \n",
    "    df_rolling_std = combined_pct_change().rolling(window = 5).std().dropna()* 100\n",
    "    \n",
    "    rolling_std_plot = df_rolling_std.hvplot(\n",
    "                                        title = '5 Year Rolling Standard Deviation 2004-2020',\n",
    "                                        ylabel = 'Standard Deviation in %',\n",
    "                                        rot = 90,\n",
    "                                        width = 1200,\n",
    "                                        height = 400,\n",
    "                                        grid = True,\n",
    "                                        shared_axes = False\n",
    "    )\n",
    "    grid_style = {\n",
    "            'grid_line_color': 'lightgray', \n",
    "            'grid_line_width': 1.5,\n",
    "            'minor_xgrid_line_color':'lightgray'}\n",
    "    rolling_std_plot.opts(\n",
    "                        fontsize={\n",
    "                            'title': 20, \n",
    "                            'labels': 20, \n",
    "                            'xticks': 15, \n",
    "                            'yticks': 15,\n",
    "                            'legend': 20\n",
    "        },\n",
    "                            legend_position = 'top',\n",
    "                                gridstyle = grid_style\n",
    "                                \n",
    "    )\n",
    "    return rolling_std_plot\n",
    "five_y_rolling_std()"
   ]
  },
  {
   "cell_type": "code",
   "execution_count": 10,
   "metadata": {},
   "outputs": [
    {
     "output_type": "stream",
     "name": "stdout",
     "text": [
      "[*********************100%***********************]  4 of 4 completed\n",
      "[*********************100%***********************]  4 of 4 completed\n"
     ]
    },
    {
     "output_type": "display_data",
     "data": {},
     "metadata": {}
    },
    {
     "output_type": "execute_result",
     "data": {
      "text/html": "<div id='1925'>\n\n\n\n\n\n  <div class=\"bk-root\" id=\"30e1cf1d-2a93-4007-9ea3-246aaa3df1f9\" data-root-id=\"1925\"></div>\n</div>\n<script type=\"application/javascript\">(function(root) {\n  function embed_document(root) {\n  var docs_json = {\"6bb11084-acf5-4bae-aaae-fe29c2c62bdb\":{\"roots\":{\"references\":[{\"attributes\":{},\"id\":\"1935\",\"type\":\"LinearScale\"},{\"attributes\":{\"data\":{\"Alternative Energy\":{\"__ndarray__\":\"UCxYXqQot7/szQEwMf3Cvx4ESwZvc+O/n+Upf3Bn+D/GVXBg6B+2P8Ym30Tnh9I/E+f8QU3Kwz9M5R1E9yDGP/YzY3pLwtS/ZMOaBFtp2T8IeBxE52ybP2ptE93Bqb+/t8mkOJQ0xb8svgdftx7iPwRhb6rKsdI/HqRBfmQ42r8PDOU5q0/PP0+fARpBnMo/+Iqyf83+qD+aA2vnMw7pPwcgPKIVnAJA\",\"dtype\":\"float64\",\"shape\":[21]},\"Alternative_Energy\":{\"__ndarray__\":\"UCxYXqQot7/szQEwMf3Cvx4ESwZvc+O/n+Upf3Bn+D/GVXBg6B+2P8Ym30Tnh9I/E+f8QU3Kwz9M5R1E9yDGP/YzY3pLwtS/ZMOaBFtp2T8IeBxE52ybP2ptE93Bqb+/t8mkOJQ0xb8svgdftx7iPwRhb6rKsdI/HqRBfmQ42r8PDOU5q0/PP0+fARpBnMo/+Iqyf83+qD+aA2vnMw7pPwcgPKIVnAJA\",\"dtype\":\"float64\",\"shape\":[21]},\"Oil & Gas\":{\"__ndarray__\":\"QGL5dM0Yeb+Q7FKXs5+ev06bk4hrWLy/uvXD4oV90D9auUHp6lbOP64gUX3IL8A/qLkpLOVbzj9GCbZi13zMP0TQVdT1r8+/UtxlX+RBvz9KvykNO3m0PzpBfXqH3cI/mJeK786pmD8YpP6TypbHPwBJypfNebW/q+Kz5CHRxr+usHxh5GPTPyPuVMb8wMA/oJ7JcRBzt798bCtcPg20P9x8FJ6rlte/\",\"dtype\":\"float64\",\"shape\":[21]},\"Oil_ampersand_Gas\":{\"__ndarray__\":\"QGL5dM0Yeb+Q7FKXs5+ev06bk4hrWLy/uvXD4oV90D9auUHp6lbOP64gUX3IL8A/qLkpLOVbzj9GCbZi13zMP0TQVdT1r8+/UtxlX+RBvz9KvykNO3m0PzpBfXqH3cI/mJeK786pmD8YpP6TypbHPwBJypfNebW/q+Kz5CHRxr+usHxh5GPTPyPuVMb8wMA/oJ7JcRBzt798bCtcPg20P9x8FJ6rlte/\",\"dtype\":\"float64\",\"shape\":[21]}},\"selected\":{\"id\":\"1961\"},\"selection_policy\":{\"id\":\"1980\"}},\"id\":\"1960\",\"type\":\"ColumnDataSource\"},{\"attributes\":{\"margin\":[5,5,5,5],\"name\":\"HSpacer03993\",\"sizing_mode\":\"stretch_width\"},\"id\":\"1926\",\"type\":\"Spacer\"},{\"attributes\":{},\"id\":\"1948\",\"type\":\"PanTool\"},{\"attributes\":{\"active_drag\":\"auto\",\"active_inspect\":\"auto\",\"active_multi\":null,\"active_scroll\":\"auto\",\"active_tap\":\"auto\",\"tools\":[{\"id\":\"1929\"},{\"id\":\"1947\"},{\"id\":\"1948\"},{\"id\":\"1949\"},{\"id\":\"1950\"},{\"id\":\"1951\"}]},\"id\":\"1953\",\"type\":\"Toolbar\"},{\"attributes\":{\"axis\":{\"id\":\"1939\"},\"grid_line_color\":\"lightgray\",\"grid_line_width\":1.5,\"minor_grid_line_color\":\"lightgray\",\"ticker\":{\"id\":\"1940\"}},\"id\":\"1942\",\"type\":\"Grid\"},{\"attributes\":{\"margin\":[5,5,5,5],\"name\":\"HSpacer03994\",\"sizing_mode\":\"stretch_width\"},\"id\":\"1982\",\"type\":\"Spacer\"},{\"attributes\":{},\"id\":\"1944\",\"type\":\"BasicTicker\"},{\"attributes\":{},\"id\":\"1969\",\"type\":\"BasicTickFormatter\"},{\"attributes\":{},\"id\":\"1940\",\"type\":\"BasicTicker\"},{\"attributes\":{},\"id\":\"1937\",\"type\":\"LinearScale\"},{\"attributes\":{\"bottom_units\":\"screen\",\"fill_alpha\":0.5,\"fill_color\":\"lightgrey\",\"left_units\":\"screen\",\"level\":\"overlay\",\"line_alpha\":1.0,\"line_color\":\"black\",\"line_dash\":[4,4],\"line_width\":2,\"render_mode\":\"css\",\"right_units\":\"screen\",\"top_units\":\"screen\"},\"id\":\"1952\",\"type\":\"BoxAnnotation\"},{\"attributes\":{},\"id\":\"1947\",\"type\":\"SaveTool\"},{\"attributes\":{},\"id\":\"1961\",\"type\":\"Selection\"},{\"attributes\":{\"data_source\":{\"id\":\"1960\"},\"glyph\":{\"id\":\"1963\"},\"hover_glyph\":null,\"muted_glyph\":{\"id\":\"1965\"},\"nonselection_glyph\":{\"id\":\"1964\"},\"selection_glyph\":null,\"view\":{\"id\":\"1967\"}},\"id\":\"1966\",\"type\":\"GlyphRenderer\"},{\"attributes\":{\"axis_label\":\"Oil & Gas\",\"axis_label_text_font_size\":\"20pt\",\"bounds\":\"auto\",\"formatter\":{\"id\":\"1969\"},\"major_label_orientation\":\"horizontal\",\"major_label_text_font_size\":\"15pt\",\"ticker\":{\"id\":\"1940\"}},\"id\":\"1939\",\"type\":\"LinearAxis\"},{\"attributes\":{},\"id\":\"1949\",\"type\":\"WheelZoomTool\"},{\"attributes\":{},\"id\":\"1951\",\"type\":\"ResetTool\"},{\"attributes\":{\"fill_alpha\":{\"value\":0.2},\"fill_color\":{\"value\":\"#1f77b3\"},\"line_alpha\":{\"value\":0.2},\"line_color\":{\"value\":\"#1f77b3\"},\"size\":{\"units\":\"screen\",\"value\":10.0},\"x\":{\"field\":\"Oil & Gas\"},\"y\":{\"field\":\"Alternative Energy\"}},\"id\":\"1965\",\"type\":\"Scatter\"},{\"attributes\":{\"children\":[{\"id\":\"1926\"},{\"id\":\"1930\"},{\"id\":\"1982\"}],\"margin\":[0,0,0,0],\"name\":\"Row03989\",\"tags\":[\"embedded\"]},\"id\":\"1925\",\"type\":\"Row\"},{\"attributes\":{\"callback\":null,\"renderers\":[{\"id\":\"1966\"}],\"tags\":[\"hv_created\"],\"tooltips\":[[\"Oil & Gas\",\"@{Oil_ampersand_Gas}\"],[\"Alternative Energy\",\"@{Alternative_Energy}\"]]},\"id\":\"1929\",\"type\":\"HoverTool\"},{\"attributes\":{},\"id\":\"1971\",\"type\":\"BasicTickFormatter\"},{\"attributes\":{\"axis\":{\"id\":\"1943\"},\"dimension\":1,\"grid_line_color\":\"lightgray\",\"grid_line_width\":1.5,\"ticker\":{\"id\":\"1944\"}},\"id\":\"1946\",\"type\":\"Grid\"},{\"attributes\":{\"below\":[{\"id\":\"1939\"}],\"center\":[{\"id\":\"1942\"},{\"id\":\"1946\"}],\"left\":[{\"id\":\"1943\"}],\"margin\":null,\"min_border_bottom\":10,\"min_border_left\":10,\"min_border_right\":10,\"min_border_top\":10,\"plot_height\":400,\"plot_width\":1200,\"renderers\":[{\"id\":\"1966\"}],\"sizing_mode\":\"fixed\",\"title\":{\"id\":\"1931\"},\"toolbar\":{\"id\":\"1953\"},\"x_range\":{\"id\":\"1927\"},\"x_scale\":{\"id\":\"1935\"},\"y_range\":{\"id\":\"1928\"},\"y_scale\":{\"id\":\"1937\"}},\"id\":\"1930\",\"subtype\":\"Figure\",\"type\":\"Plot\"},{\"attributes\":{\"fill_color\":{\"value\":\"#1f77b3\"},\"line_color\":{\"value\":\"#1f77b3\"},\"size\":{\"units\":\"screen\",\"value\":10.0},\"x\":{\"field\":\"Oil & Gas\"},\"y\":{\"field\":\"Alternative Energy\"}},\"id\":\"1963\",\"type\":\"Scatter\"},{\"attributes\":{\"end\":2.619618554530113,\"reset_end\":2.619618554530113,\"reset_start\":-0.9012464430486415,\"start\":-0.9012464430486415,\"tags\":[[[\"Alternative Energy\",\"Alternative Energy\",null]]]},\"id\":\"1928\",\"type\":\"Range1d\"},{\"attributes\":{\"source\":{\"id\":\"1960\"}},\"id\":\"1967\",\"type\":\"CDSView\"},{\"attributes\":{},\"id\":\"1980\",\"type\":\"UnionRenderers\"},{\"attributes\":{\"fill_alpha\":{\"value\":0.1},\"fill_color\":{\"value\":\"#1f77b3\"},\"line_alpha\":{\"value\":0.1},\"line_color\":{\"value\":\"#1f77b3\"},\"size\":{\"units\":\"screen\",\"value\":10.0},\"x\":{\"field\":\"Oil & Gas\"},\"y\":{\"field\":\"Alternative Energy\"}},\"id\":\"1964\",\"type\":\"Scatter\"},{\"attributes\":{\"axis_label\":\"Alternative Energy\",\"axis_label_text_font_size\":\"20pt\",\"bounds\":\"auto\",\"formatter\":{\"id\":\"1971\"},\"major_label_orientation\":\"horizontal\",\"major_label_text_font_size\":\"15pt\",\"ticker\":{\"id\":\"1944\"}},\"id\":\"1943\",\"type\":\"LinearAxis\"},{\"attributes\":{\"text\":\"Correlation between Oil Portfolio and Alternative Energy Portfolio Returns\",\"text_color\":{\"value\":\"black\"},\"text_font_size\":{\"value\":\"20pt\"}},\"id\":\"1931\",\"type\":\"Title\"},{\"attributes\":{\"end\":0.3253567013945191,\"reset_end\":0.3253567013945191,\"reset_start\":-0.39095596093585117,\"start\":-0.39095596093585117,\"tags\":[[[\"Oil & Gas\",\"Oil & Gas\",null]]]},\"id\":\"1927\",\"type\":\"Range1d\"},{\"attributes\":{\"overlay\":{\"id\":\"1952\"}},\"id\":\"1950\",\"type\":\"BoxZoomTool\"}],\"root_ids\":[\"1925\"]},\"title\":\"Bokeh Application\",\"version\":\"2.0.2\"}};\n  var render_items = [{\"docid\":\"6bb11084-acf5-4bae-aaae-fe29c2c62bdb\",\"root_ids\":[\"1925\"],\"roots\":{\"1925\":\"30e1cf1d-2a93-4007-9ea3-246aaa3df1f9\"}}];\n  root.Bokeh.embed.embed_items_notebook(docs_json, render_items);\n  }\nif (root.Bokeh !== undefined) {\n    embed_document(root);\n  } else {\n    var attempts = 0;\n    var timer = setInterval(function(root) {\n      if (root.Bokeh !== undefined) {\n        clearInterval(timer);\n        embed_document(root);\n      } else if (document.readyState == \"complete\") {\n        attempts++;\n        if (attempts > 100) {\n          clearInterval(timer);\n          console.log(\"Bokeh: ERROR: Unable to run BokehJS code because BokehJS library is missing\");\n        }\n      }\n    }, 10, root)\n  }\n})(window);</script>",
      "application/vnd.holoviews_exec.v0+json": "",
      "text/plain": [
       ":Scatter   [Oil & Gas]   (Alternative Energy)"
      ]
     },
     "metadata": {
      "application/vnd.holoviews_exec.v0+json": {
       "id": "1925"
      }
     },
     "execution_count": 10
    }
   ],
   "source": [
    "def oil_and_alt_correlation():\n",
    "    oil_and_alt_correlation = combined_pct_change().hvplot.scatter(\n",
    "                                                                title = 'Correlation between Oil Portfolio and Alternative Energy Portfolio Returns', \n",
    "                                                                x = 'Oil & Gas', \n",
    "                                                                y = 'Alternative Energy',\n",
    "                                                                s = 100,\n",
    "                                                                width = 1200,\n",
    "                                                                height = 400,\n",
    "                                                                grid = True\n",
    "    )\n",
    "    grid_style = {\n",
    "            'grid_line_color': 'lightgray', \n",
    "            'grid_line_width': 1.5,\n",
    "            'minor_xgrid_line_color':'lightgray'}\n",
    "    \n",
    "    oil_and_alt_correlation.opts(\n",
    "                                fontsize={\n",
    "                                    'title': 20, \n",
    "                                    'labels': 20, \n",
    "                                    'xticks': 15, \n",
    "                                    'yticks': 15,\n",
    "        },\n",
    "                                    gridstyle = grid_style\n",
    "    \n",
    "    )\n",
    "    \n",
    "    return oil_and_alt_correlation\n",
    "oil_and_alt_correlation()"
   ]
  },
  {
   "cell_type": "code",
   "execution_count": 26,
   "metadata": {},
   "outputs": [
    {
     "output_type": "stream",
     "name": "stdout",
     "text": [
      "[*********************100%***********************]  4 of 4 completed\n",
      "[*********************100%***********************]  4 of 4 completed\n"
     ]
    },
    {
     "output_type": "execute_result",
     "data": {
      "text/plain": [
       "                    Alternative Energy  Oil & Gas\n",
       "Alternative Energy            1.000000  -0.042037\n",
       "Oil & Gas                    -0.042037   1.000000"
      ],
      "text/html": "<div>\n<style scoped>\n    .dataframe tbody tr th:only-of-type {\n        vertical-align: middle;\n    }\n\n    .dataframe tbody tr th {\n        vertical-align: top;\n    }\n\n    .dataframe thead th {\n        text-align: right;\n    }\n</style>\n<table border=\"1\" class=\"dataframe\">\n  <thead>\n    <tr style=\"text-align: right;\">\n      <th></th>\n      <th>Alternative Energy</th>\n      <th>Oil &amp; Gas</th>\n    </tr>\n  </thead>\n  <tbody>\n    <tr>\n      <th>Alternative Energy</th>\n      <td>1.000000</td>\n      <td>-0.042037</td>\n    </tr>\n    <tr>\n      <th>Oil &amp; Gas</th>\n      <td>-0.042037</td>\n      <td>1.000000</td>\n    </tr>\n  </tbody>\n</table>\n</div>"
     },
     "metadata": {},
     "execution_count": 26
    }
   ],
   "source": [
    "combined_pct_change().corr()"
   ]
  },
  {
   "source": [
    "# This looks like a positive correlation. However, the results say that there is a negative correlation.\n",
    "THis is due to the fact that the returns of alternative energy have recently shot up in the opposite direction of the oil industry."
   ],
   "cell_type": "markdown",
   "metadata": {}
  },
  {
   "source": [],
   "cell_type": "markdown",
   "metadata": {}
  },
  {
   "source": [],
   "cell_type": "markdown",
   "metadata": {}
  },
  {
   "cell_type": "code",
   "execution_count": 11,
   "metadata": {},
   "outputs": [
    {
     "output_type": "stream",
     "name": "stdout",
     "text": [
      "[*********************100%***********************]  4 of 4 completed\n",
      "[*********************100%***********************]  4 of 4 completed\n"
     ]
    },
    {
     "output_type": "display_data",
     "data": {},
     "metadata": {}
    },
    {
     "output_type": "execute_result",
     "data": {
      "text/html": "<div id='2024'>\n\n\n\n\n\n  <div class=\"bk-root\" id=\"bac34c6e-8c12-4f25-b3a5-fb4da5467ffa\" data-root-id=\"2024\"></div>\n</div>\n<script type=\"application/javascript\">(function(root) {\n  function embed_document(root) {\n  var docs_json = {\"214a65b1-c344-49f3-b9bd-b2b5b477706d\":{\"roots\":{\"references\":[{\"attributes\":{\"callback\":null,\"renderers\":[{\"id\":\"2064\"}],\"tags\":[\"hv_created\"],\"tooltips\":[[\"index\",\"@{index}\"],[\"Standard Deviation\",\"@{Standard_Deviation}\"]]},\"id\":\"2028\",\"type\":\"HoverTool\"},{\"attributes\":{\"children\":[{\"id\":\"2025\"},{\"id\":\"2029\"},{\"id\":\"2080\"}],\"margin\":[0,0,0,0],\"name\":\"Row04212\",\"tags\":[\"embedded\"]},\"id\":\"2024\",\"type\":\"Row\"},{\"attributes\":{\"source\":{\"id\":\"2058\"}},\"id\":\"2065\",\"type\":\"CDSView\"},{\"attributes\":{\"fill_color\":{\"value\":\"#1f77b3\"},\"top\":{\"field\":\"Standard_Deviation\"},\"width\":{\"value\":0.8},\"x\":{\"field\":\"index\"}},\"id\":\"2061\",\"type\":\"VBar\"},{\"attributes\":{\"axis\":{\"id\":\"2041\"},\"dimension\":1,\"ticker\":{\"id\":\"2042\"}},\"id\":\"2044\",\"type\":\"Grid\"},{\"attributes\":{},\"id\":\"2059\",\"type\":\"Selection\"},{\"attributes\":{},\"id\":\"2045\",\"type\":\"SaveTool\"},{\"attributes\":{},\"id\":\"2034\",\"type\":\"CategoricalScale\"},{\"attributes\":{\"factors\":[\"Oil & Gas\",\"Alternative Energy\"],\"tags\":[[[\"index\",\"index\",null]]]},\"id\":\"2026\",\"type\":\"FactorRange\"},{\"attributes\":{},\"id\":\"2046\",\"type\":\"PanTool\"},{\"attributes\":{},\"id\":\"2049\",\"type\":\"ResetTool\"},{\"attributes\":{},\"id\":\"2078\",\"type\":\"UnionRenderers\"},{\"attributes\":{\"end\":0.7020315343430551,\"reset_end\":0.7020315343430551,\"reset_start\":0.0,\"tags\":[[[\"Standard Deviation\",\"Standard Deviation\",null]]]},\"id\":\"2027\",\"type\":\"Range1d\"},{\"attributes\":{},\"id\":\"2039\",\"type\":\"CategoricalTicker\"},{\"attributes\":{\"active_drag\":\"auto\",\"active_inspect\":\"auto\",\"active_multi\":null,\"active_scroll\":\"auto\",\"active_tap\":\"auto\",\"tools\":[{\"id\":\"2028\"},{\"id\":\"2045\"},{\"id\":\"2046\"},{\"id\":\"2047\"},{\"id\":\"2048\"},{\"id\":\"2049\"}]},\"id\":\"2051\",\"type\":\"Toolbar\"},{\"attributes\":{\"margin\":[5,5,5,5],\"name\":\"HSpacer04217\",\"sizing_mode\":\"stretch_width\"},\"id\":\"2080\",\"type\":\"Spacer\"},{\"attributes\":{\"margin\":[5,5,5,5],\"name\":\"HSpacer04216\",\"sizing_mode\":\"stretch_width\"},\"id\":\"2025\",\"type\":\"Spacer\"},{\"attributes\":{\"fill_alpha\":{\"value\":0.2},\"fill_color\":{\"value\":\"#1f77b3\"},\"line_alpha\":{\"value\":0.2},\"top\":{\"field\":\"Standard_Deviation\"},\"width\":{\"value\":0.8},\"x\":{\"field\":\"index\"}},\"id\":\"2063\",\"type\":\"VBar\"},{\"attributes\":{},\"id\":\"2036\",\"type\":\"LinearScale\"},{\"attributes\":{},\"id\":\"2042\",\"type\":\"BasicTicker\"},{\"attributes\":{\"data\":{\"Standard_Deviation\":{\"__ndarray__\":\"wcpIHAT2xj/IbUbDz/HkPw==\",\"dtype\":\"float64\",\"shape\":[2]},\"index\":[\"Oil & Gas\",\"Alternative Energy\"]},\"selected\":{\"id\":\"2059\"},\"selection_policy\":{\"id\":\"2078\"}},\"id\":\"2058\",\"type\":\"ColumnDataSource\"},{\"attributes\":{\"below\":[{\"id\":\"2038\"}],\"center\":[{\"id\":\"2040\"},{\"id\":\"2044\"}],\"left\":[{\"id\":\"2041\"}],\"margin\":null,\"min_border_bottom\":10,\"min_border_left\":10,\"min_border_right\":10,\"min_border_top\":10,\"plot_height\":400,\"plot_width\":1200,\"renderers\":[{\"id\":\"2064\"}],\"sizing_mode\":\"fixed\",\"title\":{\"id\":\"2030\"},\"toolbar\":{\"id\":\"2051\"},\"x_range\":{\"id\":\"2026\"},\"x_scale\":{\"id\":\"2034\"},\"y_range\":{\"id\":\"2027\"},\"y_scale\":{\"id\":\"2036\"}},\"id\":\"2029\",\"subtype\":\"Figure\",\"type\":\"Plot\"},{\"attributes\":{},\"id\":\"2066\",\"type\":\"CategoricalTickFormatter\"},{\"attributes\":{\"axis_label\":\"\",\"axis_label_text_font_size\":\"20pt\",\"bounds\":\"auto\",\"formatter\":{\"id\":\"2066\"},\"group_text_font_size\":\"20pt\",\"major_label_orientation\":\"horizontal\",\"major_label_text_font_size\":\"20pt\",\"ticker\":{\"id\":\"2039\"}},\"id\":\"2038\",\"type\":\"CategoricalAxis\"},{\"attributes\":{\"text\":\"Standard Deviation of Returns of Both the Oil and Alternative Portfolios\",\"text_color\":{\"value\":\"black\"},\"text_font_size\":{\"value\":\"20pt\"}},\"id\":\"2030\",\"type\":\"Title\"},{\"attributes\":{},\"id\":\"2047\",\"type\":\"WheelZoomTool\"},{\"attributes\":{\"axis\":{\"id\":\"2038\"},\"ticker\":{\"id\":\"2039\"}},\"id\":\"2040\",\"type\":\"Grid\"},{\"attributes\":{\"fill_alpha\":{\"value\":0.1},\"fill_color\":{\"value\":\"#1f77b3\"},\"line_alpha\":{\"value\":0.1},\"top\":{\"field\":\"Standard_Deviation\"},\"width\":{\"value\":0.8},\"x\":{\"field\":\"index\"}},\"id\":\"2062\",\"type\":\"VBar\"},{\"attributes\":{\"data_source\":{\"id\":\"2058\"},\"glyph\":{\"id\":\"2061\"},\"hover_glyph\":null,\"muted_glyph\":{\"id\":\"2063\"},\"nonselection_glyph\":{\"id\":\"2062\"},\"selection_glyph\":null,\"view\":{\"id\":\"2065\"}},\"id\":\"2064\",\"type\":\"GlyphRenderer\"},{\"attributes\":{\"axis_label\":\"Standard Deviation\",\"axis_label_text_font_size\":\"20pt\",\"bounds\":\"auto\",\"formatter\":{\"id\":\"2069\"},\"major_label_orientation\":\"horizontal\",\"major_label_text_font_size\":\"15pt\",\"ticker\":{\"id\":\"2042\"}},\"id\":\"2041\",\"type\":\"LinearAxis\"},{\"attributes\":{},\"id\":\"2069\",\"type\":\"BasicTickFormatter\"},{\"attributes\":{\"overlay\":{\"id\":\"2050\"}},\"id\":\"2048\",\"type\":\"BoxZoomTool\"},{\"attributes\":{\"bottom_units\":\"screen\",\"fill_alpha\":0.5,\"fill_color\":\"lightgrey\",\"left_units\":\"screen\",\"level\":\"overlay\",\"line_alpha\":1.0,\"line_color\":\"black\",\"line_dash\":[4,4],\"line_width\":2,\"render_mode\":\"css\",\"right_units\":\"screen\",\"top_units\":\"screen\"},\"id\":\"2050\",\"type\":\"BoxAnnotation\"}],\"root_ids\":[\"2024\"]},\"title\":\"Bokeh Application\",\"version\":\"2.0.2\"}};\n  var render_items = [{\"docid\":\"214a65b1-c344-49f3-b9bd-b2b5b477706d\",\"root_ids\":[\"2024\"],\"roots\":{\"2024\":\"bac34c6e-8c12-4f25-b3a5-fb4da5467ffa\"}}];\n  root.Bokeh.embed.embed_items_notebook(docs_json, render_items);\n  }\nif (root.Bokeh !== undefined) {\n    embed_document(root);\n  } else {\n    var attempts = 0;\n    var timer = setInterval(function(root) {\n      if (root.Bokeh !== undefined) {\n        clearInterval(timer);\n        embed_document(root);\n      } else if (document.readyState == \"complete\") {\n        attempts++;\n        if (attempts > 100) {\n          clearInterval(timer);\n          console.log(\"Bokeh: ERROR: Unable to run BokehJS code because BokehJS library is missing\");\n        }\n      }\n    }, 10, root)\n  }\n})(window);</script>",
      "application/vnd.holoviews_exec.v0+json": "",
      "text/plain": [
       ":Bars   [index]   (Standard Deviation)"
      ]
     },
     "metadata": {
      "application/vnd.holoviews_exec.v0+json": {
       "id": "2024"
      }
     },
     "execution_count": 11
    }
   ],
   "source": [
    "def oil_and_alt_std():\n",
    "    stdev = pd.DataFrame(combined_pct_change().std().sort_values())\n",
    "    stdev.columns = ['Standard Deviation']\n",
    "    stdev = stdev.hvplot.bar(\n",
    "                            title = 'Standard Deviation of Returns of Both the Oil and Alternative Portfolios',\n",
    "                            width = 1200,\n",
    "                            height = 400,\n",
    "                            grid = True\n",
    "    )\n",
    "    grid_style = {\n",
    "            'grid_line_color': 'lightgray', \n",
    "            'grid_line_width': 1.5,\n",
    "            'minor_xgrid_line_color':'lightgray'}\n",
    "    \n",
    "    stdev.opts(\n",
    "            fontsize={\n",
    "            'title': 20, \n",
    "            'labels': 20, \n",
    "            'xticks': 20, \n",
    "            'yticks': 15,\n",
    "        }\n",
    "    )\n",
    "    return stdev\n",
    "oil_and_alt_std()"
   ]
  },
  {
   "cell_type": "code",
   "execution_count": 12,
   "metadata": {},
   "outputs": [
    {
     "output_type": "display_data",
     "data": {},
     "metadata": {}
    },
    {
     "output_type": "execute_result",
     "data": {
      "text/html": "<div id='2122'>\n\n\n\n\n\n  <div class=\"bk-root\" id=\"915bd9ed-dae7-459e-9bb8-98fca3aae40b\" data-root-id=\"2122\"></div>\n</div>\n<script type=\"application/javascript\">(function(root) {\n  function embed_document(root) {\n  var docs_json = {\"6355c033-0663-4e98-90f4-4679cde8aea1\":{\"roots\":{\"references\":[{\"attributes\":{},\"id\":\"2141\",\"type\":\"BasicTicker\"},{\"attributes\":{},\"id\":\"2168\",\"type\":\"BasicTickFormatter\"},{\"attributes\":{},\"id\":\"2132\",\"type\":\"LinearScale\"},{\"attributes\":{\"axis_label\":\"\",\"axis_label_text_font_size\":\"20pt\",\"bounds\":\"auto\",\"formatter\":{\"id\":\"2168\"},\"major_label_orientation\":\"horizontal\",\"major_label_text_font_size\":\"15pt\",\"ticker\":{\"id\":\"2141\"}},\"id\":\"2140\",\"type\":\"LinearAxis\"},{\"attributes\":{},\"id\":\"2137\",\"type\":\"BasicTicker\"},{\"attributes\":{\"axis\":{\"id\":\"2136\"},\"ticker\":{\"id\":\"2137\"}},\"id\":\"2139\",\"type\":\"Grid\"},{\"attributes\":{},\"id\":\"2134\",\"type\":\"LinearScale\"},{\"attributes\":{\"axis_label\":\"Year\",\"axis_label_text_font_size\":\"20pt\",\"bounds\":\"auto\",\"formatter\":{\"id\":\"2166\"},\"major_label_orientation\":\"horizontal\",\"major_label_text_font_size\":\"20pt\",\"ticker\":{\"id\":\"2137\"}},\"id\":\"2136\",\"type\":\"LinearAxis\"},{\"attributes\":{\"axis\":{\"id\":\"2140\"},\"dimension\":1,\"ticker\":{\"id\":\"2141\"}},\"id\":\"2143\",\"type\":\"Grid\"},{\"attributes\":{},\"id\":\"2144\",\"type\":\"SaveTool\"},{\"attributes\":{\"children\":[{\"id\":\"2123\"},{\"id\":\"2127\"},{\"id\":\"2179\"}],\"margin\":[0,0,0,0],\"name\":\"Row04405\",\"tags\":[\"embedded\"]},\"id\":\"2122\",\"type\":\"Row\"},{\"attributes\":{\"line_alpha\":0.2,\"line_color\":\"#1f77b3\",\"line_width\":2,\"x\":{\"field\":\"Year\"},\"y\":{\"field\":\"Production (Alternative)\"}},\"id\":\"2162\",\"type\":\"Line\"},{\"attributes\":{\"margin\":[5,5,5,5],\"name\":\"HSpacer04410\",\"sizing_mode\":\"stretch_width\"},\"id\":\"2179\",\"type\":\"Spacer\"},{\"attributes\":{},\"id\":\"2145\",\"type\":\"PanTool\"},{\"attributes\":{},\"id\":\"2158\",\"type\":\"Selection\"},{\"attributes\":{},\"id\":\"2146\",\"type\":\"WheelZoomTool\"},{\"attributes\":{\"active_drag\":\"auto\",\"active_inspect\":\"auto\",\"active_multi\":null,\"active_scroll\":\"auto\",\"active_tap\":\"auto\",\"tools\":[{\"id\":\"2126\"},{\"id\":\"2144\"},{\"id\":\"2145\"},{\"id\":\"2146\"},{\"id\":\"2147\"},{\"id\":\"2148\"}]},\"id\":\"2150\",\"type\":\"Toolbar\"},{\"attributes\":{\"overlay\":{\"id\":\"2149\"}},\"id\":\"2147\",\"type\":\"BoxZoomTool\"},{\"attributes\":{},\"id\":\"2148\",\"type\":\"ResetTool\"},{\"attributes\":{\"data_source\":{\"id\":\"2157\"},\"glyph\":{\"id\":\"2160\"},\"hover_glyph\":null,\"muted_glyph\":{\"id\":\"2162\"},\"nonselection_glyph\":{\"id\":\"2161\"},\"selection_glyph\":null,\"view\":{\"id\":\"2164\"}},\"id\":\"2163\",\"type\":\"GlyphRenderer\"},{\"attributes\":{},\"id\":\"2177\",\"type\":\"UnionRenderers\"},{\"attributes\":{\"line_color\":\"#1f77b3\",\"line_width\":2,\"x\":{\"field\":\"Year\"},\"y\":{\"field\":\"Production (Alternative)\"}},\"id\":\"2160\",\"type\":\"Line\"},{\"attributes\":{\"data\":{\"Production (Alternative)\":{\"__ndarray__\":\"vHSTGARWIEBkO99PjdcgQEa28/3UOCJATDeJQWBlI0B7FK5H4fojQFK4HoXrUSRACKwcWmT7JECNl24Sg8AkQEoMAiuHFiZABoGVQ4usJ0B9PzVeukkoQHsUrkfh+ihAmpmZmZmZKECWQ4ts5/soQOkmMQisXClAarx0kxhEK0AYBFYOLTIsQO58PzVeOitArBxaZDsfK0CNl24Sg0AsQCGwcmiR7StAbhKDwMphKkCNl24Sg8ArQOj7qfHSzStAUrgeheuRLEDdJAaBlcMsQCYxCKwcmi1A5KWbxCDwLUAj2/l+ajwvQPYoXI/C9S9Ac2iR7Xy/MEDEILByaJExQKabxCCw8jBAtvP91HipMUC0yHa+nxoyQDeJQWDlEDJAmpmZmZnZMkA9CtejcJ0zQBgEVg4t8jNA\",\"dtype\":\"float64\",\"shape\":[39]},\"Production_left_parenthesis_Alternative_right_parenthesis\":{\"__ndarray__\":\"vHSTGARWIEBkO99PjdcgQEa28/3UOCJATDeJQWBlI0B7FK5H4fojQFK4HoXrUSRACKwcWmT7JECNl24Sg8AkQEoMAiuHFiZABoGVQ4usJ0B9PzVeukkoQHsUrkfh+ihAmpmZmZmZKECWQ4ts5/soQOkmMQisXClAarx0kxhEK0AYBFYOLTIsQO58PzVeOitArBxaZDsfK0CNl24Sg0AsQCGwcmiR7StAbhKDwMphKkCNl24Sg8ArQOj7qfHSzStAUrgeheuRLEDdJAaBlcMsQCYxCKwcmi1A5KWbxCDwLUAj2/l+ajwvQPYoXI/C9S9Ac2iR7Xy/MEDEILByaJExQKabxCCw8jBAtvP91HipMUC0yHa+nxoyQDeJQWDlEDJAmpmZmZnZMkA9CtejcJ0zQBgEVg4t8jNA\",\"dtype\":\"float64\",\"shape\":[39]},\"Year\":[1980,1981,1982,1983,1984,1985,1986,1987,1988,1989,1990,1991,1992,1993,1994,1995,1996,1997,1998,1999,2000,2001,2002,2003,2004,2005,2006,2007,2008,2009,2010,2011,2012,2013,2014,2015,2016,2017,2018]},\"selected\":{\"id\":\"2158\"},\"selection_policy\":{\"id\":\"2177\"}},\"id\":\"2157\",\"type\":\"ColumnDataSource\"},{\"attributes\":{\"callback\":null,\"renderers\":[{\"id\":\"2163\"}],\"tags\":[\"hv_created\"],\"tooltips\":[[\"Year\",\"@{Year}\"],[\"Production (Alternative)\",\"@{Production_left_parenthesis_Alternative_right_parenthesis}\"]]},\"id\":\"2126\",\"type\":\"HoverTool\"},{\"attributes\":{\"line_alpha\":0.1,\"line_color\":\"#1f77b3\",\"line_width\":2,\"x\":{\"field\":\"Year\"},\"y\":{\"field\":\"Production (Alternative)\"}},\"id\":\"2161\",\"type\":\"Line\"},{\"attributes\":{\"source\":{\"id\":\"2157\"}},\"id\":\"2164\",\"type\":\"CDSView\"},{\"attributes\":{\"below\":[{\"id\":\"2136\"}],\"center\":[{\"id\":\"2139\"},{\"id\":\"2143\"}],\"left\":[{\"id\":\"2140\"}],\"margin\":null,\"min_border_bottom\":10,\"min_border_left\":10,\"min_border_right\":10,\"min_border_top\":10,\"plot_height\":400,\"plot_width\":1200,\"renderers\":[{\"id\":\"2163\"}],\"sizing_mode\":\"fixed\",\"title\":{\"id\":\"2128\"},\"toolbar\":{\"id\":\"2150\"},\"x_range\":{\"id\":\"2124\"},\"x_scale\":{\"id\":\"2132\"},\"y_range\":{\"id\":\"2125\"},\"y_scale\":{\"id\":\"2134\"}},\"id\":\"2127\",\"subtype\":\"Figure\",\"type\":\"Plot\"},{\"attributes\":{\"bottom_units\":\"screen\",\"fill_alpha\":0.5,\"fill_color\":\"lightgrey\",\"left_units\":\"screen\",\"level\":\"overlay\",\"line_alpha\":1.0,\"line_color\":\"black\",\"line_dash\":[4,4],\"line_width\":2,\"render_mode\":\"css\",\"right_units\":\"screen\",\"top_units\":\"screen\"},\"id\":\"2149\",\"type\":\"BoxAnnotation\"},{\"attributes\":{\"end\":2018.0,\"reset_end\":2018.0,\"reset_start\":1980.0,\"start\":1980.0,\"tags\":[[[\"Year\",\"Year\",null]]]},\"id\":\"2124\",\"type\":\"Range1d\"},{\"attributes\":{},\"id\":\"2166\",\"type\":\"BasicTickFormatter\"},{\"attributes\":{\"margin\":[5,5,5,5],\"name\":\"HSpacer04409\",\"sizing_mode\":\"stretch_width\"},\"id\":\"2123\",\"type\":\"Spacer\"},{\"attributes\":{\"end\":21.1238,\"reset_end\":21.1238,\"reset_start\":6.9902,\"start\":6.9902,\"tags\":[[[\"Production (Alternative)\",\"Production (Alternative)\",null]]]},\"id\":\"2125\",\"type\":\"Range1d\"},{\"attributes\":{\"text\":\"Annual Energy Production from Alternative Energy\",\"text_color\":{\"value\":\"black\"},\"text_font_size\":{\"value\":\"20pt\"}},\"id\":\"2128\",\"type\":\"Title\"}],\"root_ids\":[\"2122\"]},\"title\":\"Bokeh Application\",\"version\":\"2.0.2\"}};\n  var render_items = [{\"docid\":\"6355c033-0663-4e98-90f4-4679cde8aea1\",\"root_ids\":[\"2122\"],\"roots\":{\"2122\":\"915bd9ed-dae7-459e-9bb8-98fca3aae40b\"}}];\n  root.Bokeh.embed.embed_items_notebook(docs_json, render_items);\n  }\nif (root.Bokeh !== undefined) {\n    embed_document(root);\n  } else {\n    var attempts = 0;\n    var timer = setInterval(function(root) {\n      if (root.Bokeh !== undefined) {\n        clearInterval(timer);\n        embed_document(root);\n      } else if (document.readyState == \"complete\") {\n        attempts++;\n        if (attempts > 100) {\n          clearInterval(timer);\n          console.log(\"Bokeh: ERROR: Unable to run BokehJS code because BokehJS library is missing\");\n        }\n      }\n    }, 10, root)\n  }\n})(window);</script>",
      "application/vnd.holoviews_exec.v0+json": "",
      "text/plain": [
       ":Curve   [Year]   (Production (Alternative))"
      ]
     },
     "metadata": {
      "application/vnd.holoviews_exec.v0+json": {
       "id": "2122"
      }
     },
     "execution_count": 12
    }
   ],
   "source": [
    "def alt_production():\n",
    "    plot = combined_production[\"Production (Alternative)\"].hvplot.line(\n",
    "        title=\"Annual Energy Production from Alternative Energy\",\n",
    "        width=1200,height=400,grid=True)\n",
    "    \n",
    "    plot.opts(\n",
    "            fontsize={\n",
    "                'title': 20, \n",
    "                'labels': 20, \n",
    "                'xticks': 20, \n",
    "                'yticks': 15,\n",
    "        }\n",
    "    )\n",
    "    \n",
    "    return plot\n",
    "alt_production()"
   ]
  },
  {
   "cell_type": "code",
   "execution_count": 13,
   "metadata": {},
   "outputs": [
    {
     "output_type": "display_data",
     "data": {},
     "metadata": {}
    },
    {
     "output_type": "execute_result",
     "data": {
      "text/html": "<div id='2221'>\n\n\n\n\n\n  <div class=\"bk-root\" id=\"5070befb-7aeb-4c65-9ea8-97bdc2b66e65\" data-root-id=\"2221\"></div>\n</div>\n<script type=\"application/javascript\">(function(root) {\n  function embed_document(root) {\n  var docs_json = {\"8b3f8049-d91d-4343-b708-917caad7f01a\":{\"roots\":{\"references\":[{\"attributes\":{},\"id\":\"2245\",\"type\":\"WheelZoomTool\"},{\"attributes\":{\"overlay\":{\"id\":\"2248\"}},\"id\":\"2246\",\"type\":\"BoxZoomTool\"},{\"attributes\":{},\"id\":\"2257\",\"type\":\"Selection\"},{\"attributes\":{},\"id\":\"2247\",\"type\":\"ResetTool\"},{\"attributes\":{\"data_source\":{\"id\":\"2256\"},\"glyph\":{\"id\":\"2259\"},\"hover_glyph\":null,\"muted_glyph\":{\"id\":\"2261\"},\"nonselection_glyph\":{\"id\":\"2260\"},\"selection_glyph\":null,\"view\":{\"id\":\"2263\"}},\"id\":\"2262\",\"type\":\"GlyphRenderer\"},{\"attributes\":{\"active_drag\":\"auto\",\"active_inspect\":\"auto\",\"active_multi\":null,\"active_scroll\":\"auto\",\"active_tap\":\"auto\",\"tools\":[{\"id\":\"2225\"},{\"id\":\"2243\"},{\"id\":\"2244\"},{\"id\":\"2245\"},{\"id\":\"2246\"},{\"id\":\"2247\"}]},\"id\":\"2249\",\"type\":\"Toolbar\"},{\"attributes\":{},\"id\":\"2240\",\"type\":\"BasicTicker\"},{\"attributes\":{\"line_color\":\"#1f77b3\",\"line_width\":2,\"x\":{\"field\":\"Year\"},\"y\":{\"field\":\"Production (Oil)\"}},\"id\":\"2259\",\"type\":\"Line\"},{\"attributes\":{\"callback\":null,\"renderers\":[{\"id\":\"2262\"}],\"tags\":[\"hv_created\"],\"tooltips\":[[\"Year\",\"@{Year}\"],[\"Production (Oil)\",\"@{Production_left_parenthesis_Oil_right_parenthesis}\"]]},\"id\":\"2225\",\"type\":\"HoverTool\"},{\"attributes\":{\"line_alpha\":0.1,\"line_color\":\"#1f77b3\",\"line_width\":2,\"x\":{\"field\":\"Year\"},\"y\":{\"field\":\"Production (Oil)\"}},\"id\":\"2260\",\"type\":\"Line\"},{\"attributes\":{},\"id\":\"2276\",\"type\":\"UnionRenderers\"},{\"attributes\":{\"line_alpha\":0.2,\"line_color\":\"#1f77b3\",\"line_width\":2,\"x\":{\"field\":\"Year\"},\"y\":{\"field\":\"Production (Oil)\"}},\"id\":\"2261\",\"type\":\"Line\"},{\"attributes\":{\"source\":{\"id\":\"2256\"}},\"id\":\"2263\",\"type\":\"CDSView\"},{\"attributes\":{\"text\":\"Annual Energy Production from Oil\",\"text_color\":{\"value\":\"black\"},\"text_font_size\":{\"value\":\"20pt\"}},\"id\":\"2227\",\"type\":\"Title\"},{\"attributes\":{\"bottom_units\":\"screen\",\"fill_alpha\":0.5,\"fill_color\":\"lightgrey\",\"left_units\":\"screen\",\"level\":\"overlay\",\"line_alpha\":1.0,\"line_color\":\"black\",\"line_dash\":[4,4],\"line_width\":2,\"render_mode\":\"css\",\"right_units\":\"screen\",\"top_units\":\"screen\"},\"id\":\"2248\",\"type\":\"BoxAnnotation\"},{\"attributes\":{\"end\":2018.0,\"reset_end\":2018.0,\"reset_start\":1980.0,\"start\":1980.0,\"tags\":[[[\"Year\",\"Year\",null]]]},\"id\":\"2223\",\"type\":\"Range1d\"},{\"attributes\":{\"margin\":[5,5,5,5],\"name\":\"HSpacer04631\",\"sizing_mode\":\"stretch_width\"},\"id\":\"2222\",\"type\":\"Spacer\"},{\"attributes\":{},\"id\":\"2231\",\"type\":\"LinearScale\"},{\"attributes\":{},\"id\":\"2265\",\"type\":\"BasicTickFormatter\"},{\"attributes\":{\"end\":30.1209,\"reset_end\":30.1209,\"reset_start\":11.4141,\"start\":11.4141,\"tags\":[[[\"Production (Oil)\",\"Production (Oil)\",null]]]},\"id\":\"2224\",\"type\":\"Range1d\"},{\"attributes\":{},\"id\":\"2267\",\"type\":\"BasicTickFormatter\"},{\"attributes\":{},\"id\":\"2236\",\"type\":\"BasicTicker\"},{\"attributes\":{\"axis_label\":\"\",\"axis_label_text_font_size\":\"20pt\",\"bounds\":\"auto\",\"formatter\":{\"id\":\"2267\"},\"major_label_orientation\":\"horizontal\",\"major_label_text_font_size\":\"15pt\",\"ticker\":{\"id\":\"2240\"}},\"id\":\"2239\",\"type\":\"LinearAxis\"},{\"attributes\":{\"axis\":{\"id\":\"2235\"},\"ticker\":{\"id\":\"2236\"}},\"id\":\"2238\",\"type\":\"Grid\"},{\"attributes\":{\"children\":[{\"id\":\"2222\"},{\"id\":\"2226\"},{\"id\":\"2278\"}],\"margin\":[0,0,0,0],\"name\":\"Row04627\",\"tags\":[\"embedded\"]},\"id\":\"2221\",\"type\":\"Row\"},{\"attributes\":{\"below\":[{\"id\":\"2235\"}],\"center\":[{\"id\":\"2238\"},{\"id\":\"2242\"}],\"left\":[{\"id\":\"2239\"}],\"margin\":null,\"min_border_bottom\":10,\"min_border_left\":10,\"min_border_right\":10,\"min_border_top\":10,\"plot_height\":400,\"plot_width\":1200,\"renderers\":[{\"id\":\"2262\"}],\"sizing_mode\":\"fixed\",\"title\":{\"id\":\"2227\"},\"toolbar\":{\"id\":\"2249\"},\"x_range\":{\"id\":\"2223\"},\"x_scale\":{\"id\":\"2231\"},\"y_range\":{\"id\":\"2224\"},\"y_scale\":{\"id\":\"2233\"}},\"id\":\"2226\",\"subtype\":\"Figure\",\"type\":\"Plot\"},{\"attributes\":{\"margin\":[5,5,5,5],\"name\":\"HSpacer04632\",\"sizing_mode\":\"stretch_width\"},\"id\":\"2278\",\"type\":\"Spacer\"},{\"attributes\":{},\"id\":\"2233\",\"type\":\"LinearScale\"},{\"attributes\":{\"axis_label\":\"Year\",\"axis_label_text_font_size\":\"20pt\",\"bounds\":\"auto\",\"formatter\":{\"id\":\"2265\"},\"major_label_orientation\":\"horizontal\",\"major_label_text_font_size\":\"20pt\",\"ticker\":{\"id\":\"2236\"}},\"id\":\"2235\",\"type\":\"LinearAxis\"},{\"attributes\":{\"data\":{\"Production (Oil)\":{\"__ndarray__\":\"001iEFh5NEC28/3UeGk0QGiR7Xw/dTRAu0kMAiuHNEChRbbz/RQ1QBgEVg4tMjVAd76fGi99NEC0yHa+n9ozQMP1KFyPgjNAPQrXo3A9MkAv3SQGgbUxQJ3vp8ZL9zFA7FG4HoWLMUAj2/l+atwwQMHKoUW2czBAKVyPwvVIMECHFtnO9zMwQO18PzVeGjBAEVg5tMg2L0ANAiuHFtktQFK4HoXr0S1AJQaBlUOLLUBt5/up8VItQE+Nl24SgyxA0SLb+X7qK0A2XrpJDIIqQOF6FK5HISpArkfhehQuKkAYBFYOLfIpQBgEVg4tsitA4XoUrkehLEAtsp3vp8YtQBsv3SQGATFAN4lBYOVQM0DpJjEIrJw2QOSlm8QgMDhAwMqhRbYzN0DkpZvEIJA4QBxaZDvfjzxA\",\"dtype\":\"float64\",\"shape\":[39]},\"Production_left_parenthesis_Oil_right_parenthesis\":{\"__ndarray__\":\"001iEFh5NEC28/3UeGk0QGiR7Xw/dTRAu0kMAiuHNEChRbbz/RQ1QBgEVg4tMjVAd76fGi99NEC0yHa+n9ozQMP1KFyPgjNAPQrXo3A9MkAv3SQGgbUxQJ3vp8ZL9zFA7FG4HoWLMUAj2/l+atwwQMHKoUW2czBAKVyPwvVIMECHFtnO9zMwQO18PzVeGjBAEVg5tMg2L0ANAiuHFtktQFK4HoXr0S1AJQaBlUOLLUBt5/up8VItQE+Nl24SgyxA0SLb+X7qK0A2XrpJDIIqQOF6FK5HISpArkfhehQuKkAYBFYOLfIpQBgEVg4tsitA4XoUrkehLEAtsp3vp8YtQBsv3SQGATFAN4lBYOVQM0DpJjEIrJw2QOSlm8QgMDhAwMqhRbYzN0DkpZvEIJA4QBxaZDvfjzxA\",\"dtype\":\"float64\",\"shape\":[39]},\"Year\":[1980,1981,1982,1983,1984,1985,1986,1987,1988,1989,1990,1991,1992,1993,1994,1995,1996,1997,1998,1999,2000,2001,2002,2003,2004,2005,2006,2007,2008,2009,2010,2011,2012,2013,2014,2015,2016,2017,2018]},\"selected\":{\"id\":\"2257\"},\"selection_policy\":{\"id\":\"2276\"}},\"id\":\"2256\",\"type\":\"ColumnDataSource\"},{\"attributes\":{\"axis\":{\"id\":\"2239\"},\"dimension\":1,\"ticker\":{\"id\":\"2240\"}},\"id\":\"2242\",\"type\":\"Grid\"},{\"attributes\":{},\"id\":\"2243\",\"type\":\"SaveTool\"},{\"attributes\":{},\"id\":\"2244\",\"type\":\"PanTool\"}],\"root_ids\":[\"2221\"]},\"title\":\"Bokeh Application\",\"version\":\"2.0.2\"}};\n  var render_items = [{\"docid\":\"8b3f8049-d91d-4343-b708-917caad7f01a\",\"root_ids\":[\"2221\"],\"roots\":{\"2221\":\"5070befb-7aeb-4c65-9ea8-97bdc2b66e65\"}}];\n  root.Bokeh.embed.embed_items_notebook(docs_json, render_items);\n  }\nif (root.Bokeh !== undefined) {\n    embed_document(root);\n  } else {\n    var attempts = 0;\n    var timer = setInterval(function(root) {\n      if (root.Bokeh !== undefined) {\n        clearInterval(timer);\n        embed_document(root);\n      } else if (document.readyState == \"complete\") {\n        attempts++;\n        if (attempts > 100) {\n          clearInterval(timer);\n          console.log(\"Bokeh: ERROR: Unable to run BokehJS code because BokehJS library is missing\");\n        }\n      }\n    }, 10, root)\n  }\n})(window);</script>",
      "application/vnd.holoviews_exec.v0+json": "",
      "text/plain": [
       ":Curve   [Year]   (Production (Oil))"
      ]
     },
     "metadata": {
      "application/vnd.holoviews_exec.v0+json": {
       "id": "2221"
      }
     },
     "execution_count": 13
    }
   ],
   "source": [
    "def oil_production():\n",
    "    plot = combined_production[\"Production (Oil)\"].hvplot.line(\n",
    "        title=\"Annual Energy Production from Oil\",width=1200,height=400,grid=True)\n",
    "    \n",
    "    plot.opts(\n",
    "            fontsize={\n",
    "                'title': 20, \n",
    "                    'labels': 20, \n",
    "                        'xticks': 20, \n",
    "                            'yticks': 15,\n",
    "        }\n",
    "    )\n",
    "    \n",
    "    return plot\n",
    "oil_production()"
   ]
  },
  {
   "cell_type": "code",
   "execution_count": 14,
   "metadata": {},
   "outputs": [
    {
     "output_type": "display_data",
     "data": {},
     "metadata": {}
    },
    {
     "output_type": "execute_result",
     "data": {
      "text/html": "<div id='2320'>\n\n\n\n\n\n  <div class=\"bk-root\" id=\"54e37869-d41f-431b-b8c8-f1792fed9ebf\" data-root-id=\"2320\"></div>\n</div>\n<script type=\"application/javascript\">(function(root) {\n  function embed_document(root) {\n  var docs_json = {\"530af84e-0ef5-4c12-ba7e-5894a0d20aee\":{\"roots\":{\"references\":[{\"attributes\":{\"line_color\":\"#1f77b3\",\"line_width\":2,\"x\":{\"field\":\"Year\"},\"y\":{\"field\":\"value\"}},\"id\":\"2365\",\"type\":\"Line\"},{\"attributes\":{},\"id\":\"2357\",\"type\":\"BasicTickFormatter\"},{\"attributes\":{\"overlay\":{\"id\":\"2348\"}},\"id\":\"2346\",\"type\":\"BoxZoomTool\"},{\"attributes\":{\"source\":{\"id\":\"2378\"}},\"id\":\"2385\",\"type\":\"CDSView\"},{\"attributes\":{},\"id\":\"2403\",\"type\":\"UnionRenderers\"},{\"attributes\":{},\"id\":\"2347\",\"type\":\"ResetTool\"},{\"attributes\":{\"source\":{\"id\":\"2362\"}},\"id\":\"2369\",\"type\":\"CDSView\"},{\"attributes\":{\"line_color\":\"#ff7e0e\",\"line_width\":2,\"x\":{\"field\":\"Year\"},\"y\":{\"field\":\"value\"}},\"id\":\"2381\",\"type\":\"Line\"},{\"attributes\":{\"line_alpha\":0.2,\"line_color\":\"#1f77b3\",\"line_width\":2,\"x\":{\"field\":\"Year\"},\"y\":{\"field\":\"value\"}},\"id\":\"2367\",\"type\":\"Line\"},{\"attributes\":{\"data_source\":{\"id\":\"2362\"},\"glyph\":{\"id\":\"2365\"},\"hover_glyph\":null,\"muted_glyph\":{\"id\":\"2367\"},\"nonselection_glyph\":{\"id\":\"2366\"},\"selection_glyph\":null,\"view\":{\"id\":\"2369\"}},\"id\":\"2368\",\"type\":\"GlyphRenderer\"},{\"attributes\":{\"line_alpha\":0.1,\"line_color\":\"#ff7e0e\",\"line_width\":2,\"x\":{\"field\":\"Year\"},\"y\":{\"field\":\"value\"}},\"id\":\"2382\",\"type\":\"Line\"},{\"attributes\":{\"data\":{\"Variable\":[\"Production (Alternative)\",\"Production (Alternative)\",\"Production (Alternative)\",\"Production (Alternative)\",\"Production (Alternative)\",\"Production (Alternative)\",\"Production (Alternative)\",\"Production (Alternative)\",\"Production (Alternative)\",\"Production (Alternative)\",\"Production (Alternative)\",\"Production (Alternative)\",\"Production (Alternative)\",\"Production (Alternative)\",\"Production (Alternative)\",\"Production (Alternative)\",\"Production (Alternative)\",\"Production (Alternative)\",\"Production (Alternative)\",\"Production (Alternative)\",\"Production (Alternative)\",\"Production (Alternative)\",\"Production (Alternative)\",\"Production (Alternative)\",\"Production (Alternative)\",\"Production (Alternative)\",\"Production (Alternative)\",\"Production (Alternative)\",\"Production (Alternative)\",\"Production (Alternative)\",\"Production (Alternative)\",\"Production (Alternative)\",\"Production (Alternative)\",\"Production (Alternative)\",\"Production (Alternative)\",\"Production (Alternative)\",\"Production (Alternative)\",\"Production (Alternative)\",\"Production (Alternative)\"],\"Year\":[1980,1981,1982,1983,1984,1985,1986,1987,1988,1989,1990,1991,1992,1993,1994,1995,1996,1997,1998,1999,2000,2001,2002,2003,2004,2005,2006,2007,2008,2009,2010,2011,2012,2013,2014,2015,2016,2017,2018],\"value\":{\"__ndarray__\":\"vHSTGARWIEBkO99PjdcgQEa28/3UOCJATDeJQWBlI0B7FK5H4fojQFK4HoXrUSRACKwcWmT7JECNl24Sg8AkQEoMAiuHFiZABoGVQ4usJ0B9PzVeukkoQHsUrkfh+ihAmpmZmZmZKECWQ4ts5/soQOkmMQisXClAarx0kxhEK0AYBFYOLTIsQO58PzVeOitArBxaZDsfK0CNl24Sg0AsQCGwcmiR7StAbhKDwMphKkCNl24Sg8ArQOj7qfHSzStAUrgeheuRLEDdJAaBlcMsQCYxCKwcmi1A5KWbxCDwLUAj2/l+ajwvQPYoXI/C9S9Ac2iR7Xy/MEDEILByaJExQKabxCCw8jBAtvP91HipMUC0yHa+nxoyQDeJQWDlEDJAmpmZmZnZMkA9CtejcJ0zQBgEVg4t8jNA\",\"dtype\":\"float64\",\"shape\":[39]}},\"selected\":{\"id\":\"2379\"},\"selection_policy\":{\"id\":\"2403\"}},\"id\":\"2378\",\"type\":\"ColumnDataSource\"},{\"attributes\":{\"active_drag\":\"auto\",\"active_inspect\":\"auto\",\"active_multi\":null,\"active_scroll\":\"auto\",\"active_tap\":\"auto\",\"tools\":[{\"id\":\"2324\"},{\"id\":\"2343\"},{\"id\":\"2344\"},{\"id\":\"2345\"},{\"id\":\"2346\"},{\"id\":\"2347\"}]},\"id\":\"2349\",\"type\":\"Toolbar\"},{\"attributes\":{\"margin\":[5,5,5,5],\"name\":\"HSpacer04873\",\"sizing_mode\":\"stretch_width\"},\"id\":\"2475\",\"type\":\"Spacer\"},{\"attributes\":{\"line_alpha\":0.2,\"line_color\":\"#ff7e0e\",\"line_width\":2,\"x\":{\"field\":\"Year\"},\"y\":{\"field\":\"value\"}},\"id\":\"2383\",\"type\":\"Line\"},{\"attributes\":{\"click_policy\":\"mute\",\"items\":[{\"id\":\"2377\"},{\"id\":\"2394\"}],\"location\":[0,0],\"title\":\"Variable\"},\"id\":\"2376\",\"type\":\"Legend\"},{\"attributes\":{},\"id\":\"2336\",\"type\":\"BasicTicker\"},{\"attributes\":{\"label\":{\"value\":\"Production (Alternative)\"},\"renderers\":[{\"id\":\"2384\"}]},\"id\":\"2394\",\"type\":\"LegendItem\"},{\"attributes\":{\"data\":{\"Variable\":[\"Production (Oil)\",\"Production (Oil)\",\"Production (Oil)\",\"Production (Oil)\",\"Production (Oil)\",\"Production (Oil)\",\"Production (Oil)\",\"Production (Oil)\",\"Production (Oil)\",\"Production (Oil)\",\"Production (Oil)\",\"Production (Oil)\",\"Production (Oil)\",\"Production (Oil)\",\"Production (Oil)\",\"Production (Oil)\",\"Production (Oil)\",\"Production (Oil)\",\"Production (Oil)\",\"Production (Oil)\",\"Production (Oil)\",\"Production (Oil)\",\"Production (Oil)\",\"Production (Oil)\",\"Production (Oil)\",\"Production (Oil)\",\"Production (Oil)\",\"Production (Oil)\",\"Production (Oil)\",\"Production (Oil)\",\"Production (Oil)\",\"Production (Oil)\",\"Production (Oil)\",\"Production (Oil)\",\"Production (Oil)\",\"Production (Oil)\",\"Production (Oil)\",\"Production (Oil)\",\"Production (Oil)\"],\"Year\":[1980,1981,1982,1983,1984,1985,1986,1987,1988,1989,1990,1991,1992,1993,1994,1995,1996,1997,1998,1999,2000,2001,2002,2003,2004,2005,2006,2007,2008,2009,2010,2011,2012,2013,2014,2015,2016,2017,2018],\"value\":{\"__ndarray__\":\"001iEFh5NEC28/3UeGk0QGiR7Xw/dTRAu0kMAiuHNEChRbbz/RQ1QBgEVg4tMjVAd76fGi99NEC0yHa+n9ozQMP1KFyPgjNAPQrXo3A9MkAv3SQGgbUxQJ3vp8ZL9zFA7FG4HoWLMUAj2/l+atwwQMHKoUW2czBAKVyPwvVIMECHFtnO9zMwQO18PzVeGjBAEVg5tMg2L0ANAiuHFtktQFK4HoXr0S1AJQaBlUOLLUBt5/up8VItQE+Nl24SgyxA0SLb+X7qK0A2XrpJDIIqQOF6FK5HISpArkfhehQuKkAYBFYOLfIpQBgEVg4tsitA4XoUrkehLEAtsp3vp8YtQBsv3SQGATFAN4lBYOVQM0DpJjEIrJw2QOSlm8QgMDhAwMqhRbYzN0DkpZvEIJA4QBxaZDvfjzxA\",\"dtype\":\"float64\",\"shape\":[39]}},\"selected\":{\"id\":\"2363\"},\"selection_policy\":{\"id\":\"2392\"}},\"id\":\"2362\",\"type\":\"ColumnDataSource\"},{\"attributes\":{\"bottom_units\":\"screen\",\"fill_alpha\":0.5,\"fill_color\":\"lightgrey\",\"left_units\":\"screen\",\"level\":\"overlay\",\"line_alpha\":1.0,\"line_color\":\"black\",\"line_dash\":[4,4],\"line_width\":2,\"render_mode\":\"css\",\"right_units\":\"screen\",\"top_units\":\"screen\"},\"id\":\"2348\",\"type\":\"BoxAnnotation\"},{\"attributes\":{\"margin\":[5,5,5,5],\"name\":\"HSpacer04872\",\"sizing_mode\":\"stretch_width\"},\"id\":\"2321\",\"type\":\"Spacer\"},{\"attributes\":{},\"id\":\"2392\",\"type\":\"UnionRenderers\"},{\"attributes\":{\"text\":\"Annual Energy Production 1980 to 2018\",\"text_color\":{\"value\":\"black\"},\"text_font_size\":{\"value\":\"20pt\"}},\"id\":\"2327\",\"type\":\"Title\"},{\"attributes\":{},\"id\":\"2333\",\"type\":\"LinearScale\"},{\"attributes\":{\"end\":30.601399999999998,\"reset_end\":30.601399999999998,\"reset_start\":6.128599999999999,\"start\":6.128599999999999,\"tags\":[[[\"value\",\"value\",null]]]},\"id\":\"2323\",\"type\":\"Range1d\"},{\"attributes\":{\"below\":[{\"id\":\"2335\"}],\"center\":[{\"id\":\"2338\"},{\"id\":\"2342\"}],\"left\":[{\"id\":\"2339\"}],\"margin\":null,\"min_border_bottom\":10,\"min_border_left\":10,\"min_border_right\":10,\"min_border_top\":10,\"plot_height\":400,\"plot_width\":1200,\"renderers\":[{\"id\":\"2368\"},{\"id\":\"2384\"}],\"right\":[{\"id\":\"2376\"}],\"sizing_mode\":\"fixed\",\"title\":{\"id\":\"2327\"},\"toolbar\":{\"id\":\"2349\"},\"x_range\":{\"id\":\"2322\"},\"x_scale\":{\"id\":\"2331\"},\"y_range\":{\"id\":\"2323\"},\"y_scale\":{\"id\":\"2333\"}},\"id\":\"2326\",\"subtype\":\"Figure\",\"type\":\"Plot\"},{\"attributes\":{\"children\":[{\"id\":\"2321\"},{\"id\":\"2326\"},{\"id\":\"2475\"}],\"margin\":[0,0,0,0],\"name\":\"Row04868\",\"tags\":[\"embedded\"]},\"id\":\"2320\",\"type\":\"Row\"},{\"attributes\":{\"callback\":null,\"renderers\":[{\"id\":\"2368\"},{\"id\":\"2384\"}],\"tags\":[\"hv_created\"],\"tooltips\":[[\"Variable\",\"@{Variable}\"],[\"Year\",\"@{Year}\"],[\"value\",\"@{value}\"]]},\"id\":\"2324\",\"type\":\"HoverTool\"},{\"attributes\":{},\"id\":\"2379\",\"type\":\"Selection\"},{\"attributes\":{\"data_source\":{\"id\":\"2378\"},\"glyph\":{\"id\":\"2381\"},\"hover_glyph\":null,\"muted_glyph\":{\"id\":\"2383\"},\"nonselection_glyph\":{\"id\":\"2382\"},\"selection_glyph\":null,\"view\":{\"id\":\"2385\"}},\"id\":\"2384\",\"type\":\"GlyphRenderer\"},{\"attributes\":{},\"id\":\"2340\",\"type\":\"BasicTicker\"},{\"attributes\":{\"axis_label\":\"\",\"axis_label_text_font_size\":\"20pt\",\"bounds\":\"auto\",\"formatter\":{\"id\":\"2359\"},\"major_label_orientation\":\"horizontal\",\"major_label_text_font_size\":\"15pt\",\"ticker\":{\"id\":\"2340\"}},\"id\":\"2339\",\"type\":\"LinearAxis\"},{\"attributes\":{},\"id\":\"2359\",\"type\":\"BasicTickFormatter\"},{\"attributes\":{},\"id\":\"2363\",\"type\":\"Selection\"},{\"attributes\":{},\"id\":\"2331\",\"type\":\"LinearScale\"},{\"attributes\":{},\"id\":\"2345\",\"type\":\"WheelZoomTool\"},{\"attributes\":{\"end\":2018.0,\"reset_end\":2018.0,\"reset_start\":1980.0,\"start\":1980.0,\"tags\":[[[\"Year\",\"Year\",null]]]},\"id\":\"2322\",\"type\":\"Range1d\"},{\"attributes\":{\"axis\":{\"id\":\"2335\"},\"ticker\":{\"id\":\"2336\"}},\"id\":\"2338\",\"type\":\"Grid\"},{\"attributes\":{\"line_alpha\":0.1,\"line_color\":\"#1f77b3\",\"line_width\":2,\"x\":{\"field\":\"Year\"},\"y\":{\"field\":\"value\"}},\"id\":\"2366\",\"type\":\"Line\"},{\"attributes\":{\"axis\":{\"id\":\"2339\"},\"dimension\":1,\"ticker\":{\"id\":\"2340\"}},\"id\":\"2342\",\"type\":\"Grid\"},{\"attributes\":{\"label\":{\"value\":\"Production (Oil)\"},\"renderers\":[{\"id\":\"2368\"}]},\"id\":\"2377\",\"type\":\"LegendItem\"},{\"attributes\":{},\"id\":\"2343\",\"type\":\"SaveTool\"},{\"attributes\":{\"axis_label\":\"Year\",\"axis_label_text_font_size\":\"20pt\",\"bounds\":\"auto\",\"formatter\":{\"id\":\"2357\"},\"major_label_orientation\":\"horizontal\",\"major_label_text_font_size\":\"20pt\",\"ticker\":{\"id\":\"2336\"}},\"id\":\"2335\",\"type\":\"LinearAxis\"},{\"attributes\":{},\"id\":\"2344\",\"type\":\"PanTool\"}],\"root_ids\":[\"2320\"]},\"title\":\"Bokeh Application\",\"version\":\"2.0.2\"}};\n  var render_items = [{\"docid\":\"530af84e-0ef5-4c12-ba7e-5894a0d20aee\",\"root_ids\":[\"2320\"],\"roots\":{\"2320\":\"54e37869-d41f-431b-b8c8-f1792fed9ebf\"}}];\n  root.Bokeh.embed.embed_items_notebook(docs_json, render_items);\n  }\nif (root.Bokeh !== undefined) {\n    embed_document(root);\n  } else {\n    var attempts = 0;\n    var timer = setInterval(function(root) {\n      if (root.Bokeh !== undefined) {\n        clearInterval(timer);\n        embed_document(root);\n      } else if (document.readyState == \"complete\") {\n        attempts++;\n        if (attempts > 100) {\n          clearInterval(timer);\n          console.log(\"Bokeh: ERROR: Unable to run BokehJS code because BokehJS library is missing\");\n        }\n      }\n    }, 10, root)\n  }\n})(window);</script>",
      "application/vnd.holoviews_exec.v0+json": "",
      "text/plain": [
       ":NdOverlay   [Variable]\n",
       "   :Curve   [Year]   (value)"
      ]
     },
     "metadata": {
      "application/vnd.holoviews_exec.v0+json": {
       "id": "2320"
      }
     },
     "execution_count": 14
    }
   ],
   "source": [
    "def comb_production():\n",
    "    plot = combined_production.hvplot.line(\n",
    "        title=\"Annual Energy Production 1980 to 2018\",width=1200,height=400,grid=True)\n",
    "    \n",
    "    plot.opts(\n",
    "            fontsize={\n",
    "                'title': 20, \n",
    "                    'labels': 20, \n",
    "                        'xticks': 20, \n",
    "                            'yticks': 15,\n",
    "        }\n",
    "    )\n",
    "    \n",
    "    return plot\n",
    "comb_production()"
   ]
  },
  {
   "cell_type": "code",
   "execution_count": 15,
   "metadata": {},
   "outputs": [
    {
     "output_type": "display_data",
     "data": {},
     "metadata": {}
    },
    {
     "output_type": "execute_result",
     "data": {
      "text/html": "<div id='2527'>\n\n\n\n\n\n  <div class=\"bk-root\" id=\"e9f284b3-ae05-49df-aefd-fd798960a71d\" data-root-id=\"2527\"></div>\n</div>\n<script type=\"application/javascript\">(function(root) {\n  function embed_document(root) {\n  var docs_json = {\"1db2ae86-b5bf-4798-8b57-7292d1e0efc3\":{\"roots\":{\"references\":[{\"attributes\":{},\"id\":\"2542\",\"type\":\"BasicTicker\"},{\"attributes\":{\"margin\":[5,5,5,5],\"name\":\"HSpacer05340\",\"sizing_mode\":\"stretch_width\"},\"id\":\"2584\",\"type\":\"Spacer\"},{\"attributes\":{\"axis\":{\"id\":\"2541\"},\"ticker\":{\"id\":\"2542\"}},\"id\":\"2544\",\"type\":\"Grid\"},{\"attributes\":{},\"id\":\"2537\",\"type\":\"LinearScale\"},{\"attributes\":{},\"id\":\"2539\",\"type\":\"LinearScale\"},{\"attributes\":{\"axis_label\":\"Production (Alternative)\",\"axis_label_text_font_size\":\"20pt\",\"bounds\":\"auto\",\"formatter\":{\"id\":\"2571\"},\"major_label_orientation\":\"horizontal\",\"major_label_text_font_size\":\"20pt\",\"ticker\":{\"id\":\"2542\"}},\"id\":\"2541\",\"type\":\"LinearAxis\"},{\"attributes\":{\"axis\":{\"id\":\"2545\"},\"dimension\":1,\"ticker\":{\"id\":\"2546\"}},\"id\":\"2548\",\"type\":\"Grid\"},{\"attributes\":{},\"id\":\"2549\",\"type\":\"SaveTool\"},{\"attributes\":{},\"id\":\"2550\",\"type\":\"PanTool\"},{\"attributes\":{\"margin\":[5,5,5,5],\"name\":\"HSpacer05339\",\"sizing_mode\":\"stretch_width\"},\"id\":\"2528\",\"type\":\"Spacer\"},{\"attributes\":{\"data\":{\"Production (Alternative)\":{\"__ndarray__\":\"vHSTGARWIEBkO99PjdcgQEa28/3UOCJATDeJQWBlI0B7FK5H4fojQFK4HoXrUSRACKwcWmT7JECNl24Sg8AkQEoMAiuHFiZABoGVQ4usJ0B9PzVeukkoQHsUrkfh+ihAmpmZmZmZKECWQ4ts5/soQOkmMQisXClAarx0kxhEK0AYBFYOLTIsQO58PzVeOitArBxaZDsfK0CNl24Sg0AsQCGwcmiR7StAbhKDwMphKkCNl24Sg8ArQOj7qfHSzStAUrgeheuRLEDdJAaBlcMsQCYxCKwcmi1A5KWbxCDwLUAj2/l+ajwvQPYoXI/C9S9Ac2iR7Xy/MEDEILByaJExQKabxCCw8jBAtvP91HipMUC0yHa+nxoyQDeJQWDlEDJAmpmZmZnZMkA9CtejcJ0zQBgEVg4t8jNA\",\"dtype\":\"float64\",\"shape\":[39]},\"Production (Oil)\":{\"__ndarray__\":\"001iEFh5NEC28/3UeGk0QGiR7Xw/dTRAu0kMAiuHNEChRbbz/RQ1QBgEVg4tMjVAd76fGi99NEC0yHa+n9ozQMP1KFyPgjNAPQrXo3A9MkAv3SQGgbUxQJ3vp8ZL9zFA7FG4HoWLMUAj2/l+atwwQMHKoUW2czBAKVyPwvVIMECHFtnO9zMwQO18PzVeGjBAEVg5tMg2L0ANAiuHFtktQFK4HoXr0S1AJQaBlUOLLUBt5/up8VItQE+Nl24SgyxA0SLb+X7qK0A2XrpJDIIqQOF6FK5HISpArkfhehQuKkAYBFYOLfIpQBgEVg4tsitA4XoUrkehLEAtsp3vp8YtQBsv3SQGATFAN4lBYOVQM0DpJjEIrJw2QOSlm8QgMDhAwMqhRbYzN0DkpZvEIJA4QBxaZDvfjzxA\",\"dtype\":\"float64\",\"shape\":[39]},\"Production_left_parenthesis_Alternative_right_parenthesis\":{\"__ndarray__\":\"vHSTGARWIEBkO99PjdcgQEa28/3UOCJATDeJQWBlI0B7FK5H4fojQFK4HoXrUSRACKwcWmT7JECNl24Sg8AkQEoMAiuHFiZABoGVQ4usJ0B9PzVeukkoQHsUrkfh+ihAmpmZmZmZKECWQ4ts5/soQOkmMQisXClAarx0kxhEK0AYBFYOLTIsQO58PzVeOitArBxaZDsfK0CNl24Sg0AsQCGwcmiR7StAbhKDwMphKkCNl24Sg8ArQOj7qfHSzStAUrgeheuRLEDdJAaBlcMsQCYxCKwcmi1A5KWbxCDwLUAj2/l+ajwvQPYoXI/C9S9Ac2iR7Xy/MEDEILByaJExQKabxCCw8jBAtvP91HipMUC0yHa+nxoyQDeJQWDlEDJAmpmZmZnZMkA9CtejcJ0zQBgEVg4t8jNA\",\"dtype\":\"float64\",\"shape\":[39]},\"Production_left_parenthesis_Oil_right_parenthesis\":{\"__ndarray__\":\"001iEFh5NEC28/3UeGk0QGiR7Xw/dTRAu0kMAiuHNEChRbbz/RQ1QBgEVg4tMjVAd76fGi99NEC0yHa+n9ozQMP1KFyPgjNAPQrXo3A9MkAv3SQGgbUxQJ3vp8ZL9zFA7FG4HoWLMUAj2/l+atwwQMHKoUW2czBAKVyPwvVIMECHFtnO9zMwQO18PzVeGjBAEVg5tMg2L0ANAiuHFtktQFK4HoXr0S1AJQaBlUOLLUBt5/up8VItQE+Nl24SgyxA0SLb+X7qK0A2XrpJDIIqQOF6FK5HISpArkfhehQuKkAYBFYOLfIpQBgEVg4tsitA4XoUrkehLEAtsp3vp8YtQBsv3SQGATFAN4lBYOVQM0DpJjEIrJw2QOSlm8QgMDhAwMqhRbYzN0DkpZvEIJA4QBxaZDvfjzxA\",\"dtype\":\"float64\",\"shape\":[39]}},\"selected\":{\"id\":\"2563\"},\"selection_policy\":{\"id\":\"2582\"}},\"id\":\"2562\",\"type\":\"ColumnDataSource\"},{\"attributes\":{},\"id\":\"2551\",\"type\":\"WheelZoomTool\"},{\"attributes\":{\"overlay\":{\"id\":\"2554\"}},\"id\":\"2552\",\"type\":\"BoxZoomTool\"},{\"attributes\":{},\"id\":\"2563\",\"type\":\"Selection\"},{\"attributes\":{},\"id\":\"2553\",\"type\":\"ResetTool\"},{\"attributes\":{\"active_drag\":\"auto\",\"active_inspect\":\"auto\",\"active_multi\":null,\"active_scroll\":\"auto\",\"active_tap\":\"auto\",\"tools\":[{\"id\":\"2531\"},{\"id\":\"2549\"},{\"id\":\"2550\"},{\"id\":\"2551\"},{\"id\":\"2552\"},{\"id\":\"2553\"}]},\"id\":\"2555\",\"type\":\"Toolbar\"},{\"attributes\":{\"fill_alpha\":{\"value\":0.1},\"fill_color\":{\"value\":\"#1f77b3\"},\"line_alpha\":{\"value\":0.1},\"line_color\":{\"value\":\"#1f77b3\"},\"size\":{\"units\":\"screen\",\"value\":5.477225575051661},\"x\":{\"field\":\"Production (Alternative)\"},\"y\":{\"field\":\"Production (Oil)\"}},\"id\":\"2566\",\"type\":\"Scatter\"},{\"attributes\":{\"fill_color\":{\"value\":\"#1f77b3\"},\"line_color\":{\"value\":\"#1f77b3\"},\"size\":{\"units\":\"screen\",\"value\":5.477225575051661},\"x\":{\"field\":\"Production (Alternative)\"},\"y\":{\"field\":\"Production (Oil)\"}},\"id\":\"2565\",\"type\":\"Scatter\"},{\"attributes\":{\"data_source\":{\"id\":\"2562\"},\"glyph\":{\"id\":\"2565\"},\"hover_glyph\":null,\"muted_glyph\":{\"id\":\"2567\"},\"nonselection_glyph\":{\"id\":\"2566\"},\"selection_glyph\":null,\"view\":{\"id\":\"2569\"}},\"id\":\"2568\",\"type\":\"GlyphRenderer\"},{\"attributes\":{},\"id\":\"2582\",\"type\":\"UnionRenderers\"},{\"attributes\":{\"end\":20.3386,\"reset_end\":20.3386,\"reset_start\":7.775399999999999,\"start\":7.775399999999999,\"tags\":[[[\"Production (Alternative)\",\"Production (Alternative)\",null]]]},\"id\":\"2529\",\"type\":\"Range1d\"},{\"attributes\":{\"fill_alpha\":{\"value\":0.2},\"fill_color\":{\"value\":\"#1f77b3\"},\"line_alpha\":{\"value\":0.2},\"line_color\":{\"value\":\"#1f77b3\"},\"size\":{\"units\":\"screen\",\"value\":5.477225575051661},\"x\":{\"field\":\"Production (Alternative)\"},\"y\":{\"field\":\"Production (Oil)\"}},\"id\":\"2567\",\"type\":\"Scatter\"},{\"attributes\":{\"below\":[{\"id\":\"2541\"}],\"center\":[{\"id\":\"2544\"},{\"id\":\"2548\"}],\"left\":[{\"id\":\"2545\"}],\"margin\":null,\"min_border_bottom\":10,\"min_border_left\":10,\"min_border_right\":10,\"min_border_top\":10,\"plot_height\":400,\"plot_width\":1200,\"renderers\":[{\"id\":\"2568\"}],\"sizing_mode\":\"fixed\",\"title\":{\"id\":\"2533\"},\"toolbar\":{\"id\":\"2555\"},\"x_range\":{\"id\":\"2529\"},\"x_scale\":{\"id\":\"2537\"},\"y_range\":{\"id\":\"2530\"},\"y_scale\":{\"id\":\"2539\"}},\"id\":\"2532\",\"subtype\":\"Figure\",\"type\":\"Plot\"},{\"attributes\":{\"source\":{\"id\":\"2562\"}},\"id\":\"2569\",\"type\":\"CDSView\"},{\"attributes\":{\"bottom_units\":\"screen\",\"fill_alpha\":0.5,\"fill_color\":\"lightgrey\",\"left_units\":\"screen\",\"level\":\"overlay\",\"line_alpha\":1.0,\"line_color\":\"black\",\"line_dash\":[4,4],\"line_width\":2,\"render_mode\":\"css\",\"right_units\":\"screen\",\"top_units\":\"screen\"},\"id\":\"2554\",\"type\":\"BoxAnnotation\"},{\"attributes\":{\"children\":[{\"id\":\"2528\"},{\"id\":\"2532\"},{\"id\":\"2584\"}],\"margin\":[0,0,0,0],\"name\":\"Row05335\",\"tags\":[\"embedded\"]},\"id\":\"2527\",\"type\":\"Row\"},{\"attributes\":{\"end\":30.1209,\"reset_end\":30.1209,\"reset_start\":11.4141,\"start\":11.4141,\"tags\":[[[\"Production (Oil)\",\"Production (Oil)\",null]]]},\"id\":\"2530\",\"type\":\"Range1d\"},{\"attributes\":{},\"id\":\"2571\",\"type\":\"BasicTickFormatter\"},{\"attributes\":{},\"id\":\"2546\",\"type\":\"BasicTicker\"},{\"attributes\":{},\"id\":\"2573\",\"type\":\"BasicTickFormatter\"},{\"attributes\":{\"text\":\"Correlation between Energy Production from Alternatives vs. Oil\",\"text_color\":{\"value\":\"black\"},\"text_font_size\":{\"value\":\"20pt\"}},\"id\":\"2533\",\"type\":\"Title\"},{\"attributes\":{\"axis_label\":\"Production (Oil)\",\"axis_label_text_font_size\":\"20pt\",\"bounds\":\"auto\",\"formatter\":{\"id\":\"2573\"},\"major_label_orientation\":\"horizontal\",\"major_label_text_font_size\":\"15pt\",\"ticker\":{\"id\":\"2546\"}},\"id\":\"2545\",\"type\":\"LinearAxis\"},{\"attributes\":{\"callback\":null,\"renderers\":[{\"id\":\"2568\"}],\"tags\":[\"hv_created\"],\"tooltips\":[[\"Production (Alternative)\",\"@{Production_left_parenthesis_Alternative_right_parenthesis}\"],[\"Production (Oil)\",\"@{Production_left_parenthesis_Oil_right_parenthesis}\"]]},\"id\":\"2531\",\"type\":\"HoverTool\"}],\"root_ids\":[\"2527\"]},\"title\":\"Bokeh Application\",\"version\":\"2.0.2\"}};\n  var render_items = [{\"docid\":\"1db2ae86-b5bf-4798-8b57-7292d1e0efc3\",\"root_ids\":[\"2527\"],\"roots\":{\"2527\":\"e9f284b3-ae05-49df-aefd-fd798960a71d\"}}];\n  root.Bokeh.embed.embed_items_notebook(docs_json, render_items);\n  }\nif (root.Bokeh !== undefined) {\n    embed_document(root);\n  } else {\n    var attempts = 0;\n    var timer = setInterval(function(root) {\n      if (root.Bokeh !== undefined) {\n        clearInterval(timer);\n        embed_document(root);\n      } else if (document.readyState == \"complete\") {\n        attempts++;\n        if (attempts > 100) {\n          clearInterval(timer);\n          console.log(\"Bokeh: ERROR: Unable to run BokehJS code because BokehJS library is missing\");\n        }\n      }\n    }, 10, root)\n  }\n})(window);</script>",
      "application/vnd.holoviews_exec.v0+json": "",
      "text/plain": [
       ":Scatter   [Production (Alternative)]   (Production (Oil))"
      ]
     },
     "metadata": {
      "application/vnd.holoviews_exec.v0+json": {
       "id": "2527"
      }
     },
     "execution_count": 15
    }
   ],
   "source": [
    "def production_corr():\n",
    "    plot = combined_production.hvplot.scatter(\n",
    "        width=1200,height=400,grid=True,\n",
    "        y='Production (Oil)',x='Production (Alternative)',title=\"Correlation between Energy Production from Alternatives vs. Oil\")\n",
    "    \n",
    "    plot.opts(\n",
    "            fontsize={\n",
    "                'title': 20, \n",
    "                    'labels': 20, \n",
    "                        'xticks': 20, \n",
    "                            'yticks': 15,\n",
    "        }\n",
    "    )\n",
    "    \n",
    "    return plot\n",
    "production_corr()"
   ]
  },
  {
   "cell_type": "code",
   "execution_count": 16,
   "metadata": {},
   "outputs": [
    {
     "output_type": "stream",
     "name": "stdout",
     "text": [
      "[*********************100%***********************]  4 of 4 completed\n",
      "[*********************100%***********************]  4 of 4 completed\n"
     ]
    },
    {
     "output_type": "display_data",
     "data": {
      "application/vnd.plotly.v1+json": {
       "config": {
        "plotlyServerURL": "https://plot.ly"
       },
       "data": [
        {
         "dimensions": [
          {
           "label": "Year",
           "values": [
            2000,
            2001,
            2002,
            2003,
            2004,
            2005,
            2006,
            2007,
            2008,
            2009,
            2010,
            2011,
            2012,
            2013,
            2014,
            2015,
            2016,
            2017,
            2018
           ]
          },
          {
           "label": "Production (Alt)",
           "values": [
            -0.011468214639671515,
            -0.055356631337725726,
            0.05192934576605257,
            0.0018737388296339308,
            0.02754999280679038,
            0.006790339516975719,
            0.029133639271311296,
            0.011350584419971721,
            0.04335626962388939,
            0.02317838391599447,
            0.04806007509386734,
            0.0489610699785048,
            -0.03529143897996345,
            0.04212886476280375,
            0.025025478428264192,
            -0.002098983650022146,
            0.04339643529281534,
            0.04058355437665773,
            0.016874840683150705
           ]
          },
          {
           "label": "Stock Returns (Alt)",
           "values": [
            -0.09046389869051663,
            -0.14835181087583693,
            -0.6078410265837453,
            1.5252537696199864,
            0.08642437319243532,
            0.2895448849272778,
            0.1546112606245563,
            0.17288103891386652,
            -0.32435881568818503,
            0.39705539178526394,
            0.026782620937517293,
            -0.12368404052124551,
            -0.16566708341413314,
            0.5662495475825771,
            0.2921015419392605,
            -0.4096919281933554,
            0.24461880041971582,
            0.20789350290146522,
            0.048818990552964736
           ]
          },
          {
           "label": "Production (Oil)",
           "values": [
            -0.0009380863039399889,
            -0.009255533199195143,
            -0.007446520444083338,
            -0.027690628836448128,
            -0.02090347923681246,
            -0.050437025361799614,
            -0.014259846084201167,
            0.0019135093761959432,
            -0.008938120702826624,
            0.06744777615046638,
            0.0337232813402657,
            0.040027942717429266,
            0.1421278882321333,
            0.13596800752764038,
            0.17063574238972867,
            0.06969750574916,
            -0.04076401521415596,
            0.05865873631583507,
            0.1628058461914259
           ]
          },
          {
           "label": "Stock Returns (Oil)",
           "values": [
            -0.006127169195302928,
            -0.029906087981299623,
            -0.11072418293370598,
            0.2576613153940702,
            0.23702751531113614,
            0.12645822638501641,
            0.2371794191016765,
            0.22255985565068154,
            -0.24755738132410177,
            0.12209918335962414,
            0.0799748332153715,
            0.14738553505822855,
            0.024085267420239725,
            0.18428928591063776,
            -0.08388981777014592,
            -0.17825721423266336,
            0.30297193069669504,
            0.13088950809638886,
            -0.09159949090973862
           ]
          }
         ],
         "domain": {
          "x": [
           0,
           1
          ],
          "y": [
           0,
           1
          ]
         },
         "line": {
          "color": [
           2000,
           2001,
           2002,
           2003,
           2004,
           2005,
           2006,
           2007,
           2008,
           2009,
           2010,
           2011,
           2012,
           2013,
           2014,
           2015,
           2016,
           2017,
           2018
          ],
          "coloraxis": "coloraxis"
         },
         "name": "",
         "type": "parcoords"
        }
       ],
       "layout": {
        "coloraxis": {
         "colorbar": {
          "title": {
           "text": "Year"
          }
         },
         "colorscale": [
          [
           0,
           "#0d0887"
          ],
          [
           0.1111111111111111,
           "#46039f"
          ],
          [
           0.2222222222222222,
           "#7201a8"
          ],
          [
           0.3333333333333333,
           "#9c179e"
          ],
          [
           0.4444444444444444,
           "#bd3786"
          ],
          [
           0.5555555555555556,
           "#d8576b"
          ],
          [
           0.6666666666666666,
           "#ed7953"
          ],
          [
           0.7777777777777778,
           "#fb9f3a"
          ],
          [
           0.8888888888888888,
           "#fdca26"
          ],
          [
           1,
           "#f0f921"
          ]
         ]
        },
        "legend": {
         "tracegroupgap": 0
        },
        "template": {
         "data": {
          "bar": [
           {
            "error_x": {
             "color": "#2a3f5f"
            },
            "error_y": {
             "color": "#2a3f5f"
            },
            "marker": {
             "line": {
              "color": "#E5ECF6",
              "width": 0.5
             }
            },
            "type": "bar"
           }
          ],
          "barpolar": [
           {
            "marker": {
             "line": {
              "color": "#E5ECF6",
              "width": 0.5
             }
            },
            "type": "barpolar"
           }
          ],
          "carpet": [
           {
            "aaxis": {
             "endlinecolor": "#2a3f5f",
             "gridcolor": "white",
             "linecolor": "white",
             "minorgridcolor": "white",
             "startlinecolor": "#2a3f5f"
            },
            "baxis": {
             "endlinecolor": "#2a3f5f",
             "gridcolor": "white",
             "linecolor": "white",
             "minorgridcolor": "white",
             "startlinecolor": "#2a3f5f"
            },
            "type": "carpet"
           }
          ],
          "choropleth": [
           {
            "colorbar": {
             "outlinewidth": 0,
             "ticks": ""
            },
            "type": "choropleth"
           }
          ],
          "contour": [
           {
            "colorbar": {
             "outlinewidth": 0,
             "ticks": ""
            },
            "colorscale": [
             [
              0,
              "#0d0887"
             ],
             [
              0.1111111111111111,
              "#46039f"
             ],
             [
              0.2222222222222222,
              "#7201a8"
             ],
             [
              0.3333333333333333,
              "#9c179e"
             ],
             [
              0.4444444444444444,
              "#bd3786"
             ],
             [
              0.5555555555555556,
              "#d8576b"
             ],
             [
              0.6666666666666666,
              "#ed7953"
             ],
             [
              0.7777777777777778,
              "#fb9f3a"
             ],
             [
              0.8888888888888888,
              "#fdca26"
             ],
             [
              1,
              "#f0f921"
             ]
            ],
            "type": "contour"
           }
          ],
          "contourcarpet": [
           {
            "colorbar": {
             "outlinewidth": 0,
             "ticks": ""
            },
            "type": "contourcarpet"
           }
          ],
          "heatmap": [
           {
            "colorbar": {
             "outlinewidth": 0,
             "ticks": ""
            },
            "colorscale": [
             [
              0,
              "#0d0887"
             ],
             [
              0.1111111111111111,
              "#46039f"
             ],
             [
              0.2222222222222222,
              "#7201a8"
             ],
             [
              0.3333333333333333,
              "#9c179e"
             ],
             [
              0.4444444444444444,
              "#bd3786"
             ],
             [
              0.5555555555555556,
              "#d8576b"
             ],
             [
              0.6666666666666666,
              "#ed7953"
             ],
             [
              0.7777777777777778,
              "#fb9f3a"
             ],
             [
              0.8888888888888888,
              "#fdca26"
             ],
             [
              1,
              "#f0f921"
             ]
            ],
            "type": "heatmap"
           }
          ],
          "heatmapgl": [
           {
            "colorbar": {
             "outlinewidth": 0,
             "ticks": ""
            },
            "colorscale": [
             [
              0,
              "#0d0887"
             ],
             [
              0.1111111111111111,
              "#46039f"
             ],
             [
              0.2222222222222222,
              "#7201a8"
             ],
             [
              0.3333333333333333,
              "#9c179e"
             ],
             [
              0.4444444444444444,
              "#bd3786"
             ],
             [
              0.5555555555555556,
              "#d8576b"
             ],
             [
              0.6666666666666666,
              "#ed7953"
             ],
             [
              0.7777777777777778,
              "#fb9f3a"
             ],
             [
              0.8888888888888888,
              "#fdca26"
             ],
             [
              1,
              "#f0f921"
             ]
            ],
            "type": "heatmapgl"
           }
          ],
          "histogram": [
           {
            "marker": {
             "colorbar": {
              "outlinewidth": 0,
              "ticks": ""
             }
            },
            "type": "histogram"
           }
          ],
          "histogram2d": [
           {
            "colorbar": {
             "outlinewidth": 0,
             "ticks": ""
            },
            "colorscale": [
             [
              0,
              "#0d0887"
             ],
             [
              0.1111111111111111,
              "#46039f"
             ],
             [
              0.2222222222222222,
              "#7201a8"
             ],
             [
              0.3333333333333333,
              "#9c179e"
             ],
             [
              0.4444444444444444,
              "#bd3786"
             ],
             [
              0.5555555555555556,
              "#d8576b"
             ],
             [
              0.6666666666666666,
              "#ed7953"
             ],
             [
              0.7777777777777778,
              "#fb9f3a"
             ],
             [
              0.8888888888888888,
              "#fdca26"
             ],
             [
              1,
              "#f0f921"
             ]
            ],
            "type": "histogram2d"
           }
          ],
          "histogram2dcontour": [
           {
            "colorbar": {
             "outlinewidth": 0,
             "ticks": ""
            },
            "colorscale": [
             [
              0,
              "#0d0887"
             ],
             [
              0.1111111111111111,
              "#46039f"
             ],
             [
              0.2222222222222222,
              "#7201a8"
             ],
             [
              0.3333333333333333,
              "#9c179e"
             ],
             [
              0.4444444444444444,
              "#bd3786"
             ],
             [
              0.5555555555555556,
              "#d8576b"
             ],
             [
              0.6666666666666666,
              "#ed7953"
             ],
             [
              0.7777777777777778,
              "#fb9f3a"
             ],
             [
              0.8888888888888888,
              "#fdca26"
             ],
             [
              1,
              "#f0f921"
             ]
            ],
            "type": "histogram2dcontour"
           }
          ],
          "mesh3d": [
           {
            "colorbar": {
             "outlinewidth": 0,
             "ticks": ""
            },
            "type": "mesh3d"
           }
          ],
          "parcoords": [
           {
            "line": {
             "colorbar": {
              "outlinewidth": 0,
              "ticks": ""
             }
            },
            "type": "parcoords"
           }
          ],
          "pie": [
           {
            "automargin": true,
            "type": "pie"
           }
          ],
          "scatter": [
           {
            "marker": {
             "colorbar": {
              "outlinewidth": 0,
              "ticks": ""
             }
            },
            "type": "scatter"
           }
          ],
          "scatter3d": [
           {
            "line": {
             "colorbar": {
              "outlinewidth": 0,
              "ticks": ""
             }
            },
            "marker": {
             "colorbar": {
              "outlinewidth": 0,
              "ticks": ""
             }
            },
            "type": "scatter3d"
           }
          ],
          "scattercarpet": [
           {
            "marker": {
             "colorbar": {
              "outlinewidth": 0,
              "ticks": ""
             }
            },
            "type": "scattercarpet"
           }
          ],
          "scattergeo": [
           {
            "marker": {
             "colorbar": {
              "outlinewidth": 0,
              "ticks": ""
             }
            },
            "type": "scattergeo"
           }
          ],
          "scattergl": [
           {
            "marker": {
             "colorbar": {
              "outlinewidth": 0,
              "ticks": ""
             }
            },
            "type": "scattergl"
           }
          ],
          "scattermapbox": [
           {
            "marker": {
             "colorbar": {
              "outlinewidth": 0,
              "ticks": ""
             }
            },
            "type": "scattermapbox"
           }
          ],
          "scatterpolar": [
           {
            "marker": {
             "colorbar": {
              "outlinewidth": 0,
              "ticks": ""
             }
            },
            "type": "scatterpolar"
           }
          ],
          "scatterpolargl": [
           {
            "marker": {
             "colorbar": {
              "outlinewidth": 0,
              "ticks": ""
             }
            },
            "type": "scatterpolargl"
           }
          ],
          "scatterternary": [
           {
            "marker": {
             "colorbar": {
              "outlinewidth": 0,
              "ticks": ""
             }
            },
            "type": "scatterternary"
           }
          ],
          "surface": [
           {
            "colorbar": {
             "outlinewidth": 0,
             "ticks": ""
            },
            "colorscale": [
             [
              0,
              "#0d0887"
             ],
             [
              0.1111111111111111,
              "#46039f"
             ],
             [
              0.2222222222222222,
              "#7201a8"
             ],
             [
              0.3333333333333333,
              "#9c179e"
             ],
             [
              0.4444444444444444,
              "#bd3786"
             ],
             [
              0.5555555555555556,
              "#d8576b"
             ],
             [
              0.6666666666666666,
              "#ed7953"
             ],
             [
              0.7777777777777778,
              "#fb9f3a"
             ],
             [
              0.8888888888888888,
              "#fdca26"
             ],
             [
              1,
              "#f0f921"
             ]
            ],
            "type": "surface"
           }
          ],
          "table": [
           {
            "cells": {
             "fill": {
              "color": "#EBF0F8"
             },
             "line": {
              "color": "white"
             }
            },
            "header": {
             "fill": {
              "color": "#C8D4E3"
             },
             "line": {
              "color": "white"
             }
            },
            "type": "table"
           }
          ]
         },
         "layout": {
          "annotationdefaults": {
           "arrowcolor": "#2a3f5f",
           "arrowhead": 0,
           "arrowwidth": 1
          },
          "autotypenumbers": "strict",
          "coloraxis": {
           "colorbar": {
            "outlinewidth": 0,
            "ticks": ""
           }
          },
          "colorscale": {
           "diverging": [
            [
             0,
             "#8e0152"
            ],
            [
             0.1,
             "#c51b7d"
            ],
            [
             0.2,
             "#de77ae"
            ],
            [
             0.3,
             "#f1b6da"
            ],
            [
             0.4,
             "#fde0ef"
            ],
            [
             0.5,
             "#f7f7f7"
            ],
            [
             0.6,
             "#e6f5d0"
            ],
            [
             0.7,
             "#b8e186"
            ],
            [
             0.8,
             "#7fbc41"
            ],
            [
             0.9,
             "#4d9221"
            ],
            [
             1,
             "#276419"
            ]
           ],
           "sequential": [
            [
             0,
             "#0d0887"
            ],
            [
             0.1111111111111111,
             "#46039f"
            ],
            [
             0.2222222222222222,
             "#7201a8"
            ],
            [
             0.3333333333333333,
             "#9c179e"
            ],
            [
             0.4444444444444444,
             "#bd3786"
            ],
            [
             0.5555555555555556,
             "#d8576b"
            ],
            [
             0.6666666666666666,
             "#ed7953"
            ],
            [
             0.7777777777777778,
             "#fb9f3a"
            ],
            [
             0.8888888888888888,
             "#fdca26"
            ],
            [
             1,
             "#f0f921"
            ]
           ],
           "sequentialminus": [
            [
             0,
             "#0d0887"
            ],
            [
             0.1111111111111111,
             "#46039f"
            ],
            [
             0.2222222222222222,
             "#7201a8"
            ],
            [
             0.3333333333333333,
             "#9c179e"
            ],
            [
             0.4444444444444444,
             "#bd3786"
            ],
            [
             0.5555555555555556,
             "#d8576b"
            ],
            [
             0.6666666666666666,
             "#ed7953"
            ],
            [
             0.7777777777777778,
             "#fb9f3a"
            ],
            [
             0.8888888888888888,
             "#fdca26"
            ],
            [
             1,
             "#f0f921"
            ]
           ]
          },
          "colorway": [
           "#636efa",
           "#EF553B",
           "#00cc96",
           "#ab63fa",
           "#FFA15A",
           "#19d3f3",
           "#FF6692",
           "#B6E880",
           "#FF97FF",
           "#FECB52"
          ],
          "font": {
           "color": "#2a3f5f"
          },
          "geo": {
           "bgcolor": "white",
           "lakecolor": "white",
           "landcolor": "#E5ECF6",
           "showlakes": true,
           "showland": true,
           "subunitcolor": "white"
          },
          "hoverlabel": {
           "align": "left"
          },
          "hovermode": "closest",
          "mapbox": {
           "style": "light"
          },
          "paper_bgcolor": "white",
          "plot_bgcolor": "#E5ECF6",
          "polar": {
           "angularaxis": {
            "gridcolor": "white",
            "linecolor": "white",
            "ticks": ""
           },
           "bgcolor": "#E5ECF6",
           "radialaxis": {
            "gridcolor": "white",
            "linecolor": "white",
            "ticks": ""
           }
          },
          "scene": {
           "xaxis": {
            "backgroundcolor": "#E5ECF6",
            "gridcolor": "white",
            "gridwidth": 2,
            "linecolor": "white",
            "showbackground": true,
            "ticks": "",
            "zerolinecolor": "white"
           },
           "yaxis": {
            "backgroundcolor": "#E5ECF6",
            "gridcolor": "white",
            "gridwidth": 2,
            "linecolor": "white",
            "showbackground": true,
            "ticks": "",
            "zerolinecolor": "white"
           },
           "zaxis": {
            "backgroundcolor": "#E5ECF6",
            "gridcolor": "white",
            "gridwidth": 2,
            "linecolor": "white",
            "showbackground": true,
            "ticks": "",
            "zerolinecolor": "white"
           }
          },
          "shapedefaults": {
           "line": {
            "color": "#2a3f5f"
           }
          },
          "ternary": {
           "aaxis": {
            "gridcolor": "white",
            "linecolor": "white",
            "ticks": ""
           },
           "baxis": {
            "gridcolor": "white",
            "linecolor": "white",
            "ticks": ""
           },
           "bgcolor": "#E5ECF6",
           "caxis": {
            "gridcolor": "white",
            "linecolor": "white",
            "ticks": ""
           }
          },
          "title": {
           "x": 0.05
          },
          "xaxis": {
           "automargin": true,
           "gridcolor": "white",
           "linecolor": "white",
           "ticks": "",
           "title": {
            "standoff": 15
           },
           "zerolinecolor": "white",
           "zerolinewidth": 2
          },
          "yaxis": {
           "automargin": true,
           "gridcolor": "white",
           "linecolor": "white",
           "ticks": "",
           "title": {
            "standoff": 15
           },
           "zerolinecolor": "white",
           "zerolinewidth": 2
          }
         }
        },
        "title": {
         "text": "Correlation between Energy Production and Stock Returns by Industry"
        },
        "width": 1200
       }
      }
     },
     "metadata": {}
    }
   ],
   "source": [
    "def prod_vs_stock():\n",
    "    # set stock returns dataframes\n",
    "    alt_returns = alt_base().pct_change()\n",
    "    oil_returns = oil_base().pct_change()\n",
    "    weights = [0.25,0.25,0.25,0.25]\n",
    "\n",
    "    alt_port_returns = pd.DataFrame(alt_returns.dot(weights)).dropna()  \n",
    "    oil_port_returns = pd.DataFrame(oil_returns.dot(weights)).dropna()\n",
    "\n",
    "    alt_port_returns.columns = ['Stock Returns (Alt)']\n",
    "    alt_port_returns.reset_index(inplace=True)\n",
    "    alt_port_returns.rename(columns={\"Date\":\"Year\"},inplace=True)\n",
    "    alt_port_returns[\"Year\"] = alt_port_returns[\"Year\"].astype(\"int\")\n",
    "    alt_port_returns.set_index(\"Year\",inplace=True)\n",
    "    \n",
    "    oil_port_returns.columns = ['Stock Returns (Oil)']\n",
    "    oil_port_returns.reset_index(inplace=True)\n",
    "    oil_port_returns.rename(columns={\"Date\":\"Year\"},inplace=True)\n",
    "    oil_port_returns[\"Year\"] = oil_port_returns[\"Year\"].astype(\"int\")\n",
    "    oil_port_returns.set_index(\"Year\",inplace=True)\n",
    "    \n",
    "    # set production dataframes\n",
    "    alt_prod = combined_production.pct_change().dropna().drop(columns=\"Production (Oil)\")\n",
    "    alt_prod.rename(columns={\"Production (Alternative)\":\"Production (Alt)\"},inplace=True)\n",
    "    \n",
    "    oil_prod = combined_production.pct_change().dropna().drop(columns=\"Production (Alternative)\")\n",
    "    \n",
    "    # combined dataframe with all data\n",
    "    combined_df = pd.concat([alt_prod,alt_port_returns,oil_prod,oil_port_returns],axis=\"columns\",join=\"inner\")\n",
    "    combined_df.reset_index(inplace=True)\n",
    "    \n",
    "    # plot with parallel coordinates\n",
    "    plot = px.parallel_coordinates(combined_df,color=\"Year\",title=\"Correlation between Energy Production and Stock Returns by Industry\",width=1200)\n",
    "    \n",
    "    return plot\n",
    "prod_vs_stock()"
   ]
  },
  {
   "cell_type": "code",
   "execution_count": 17,
   "metadata": {},
   "outputs": [
    {
     "output_type": "stream",
     "name": "stdout",
     "text": [
      "[*********************100%***********************]  4 of 4 completed\n",
      "[*********************100%***********************]  4 of 4 completed\n",
      "[*********************100%***********************]  4 of 4 completed\n",
      "[*********************100%***********************]  4 of 4 completed\n",
      "[*********************100%***********************]  4 of 4 completed\n",
      "[*********************100%***********************]  4 of 4 completed\n",
      "[*********************100%***********************]  4 of 4 completed\n",
      "[*********************100%***********************]  4 of 4 completed\n",
      "[*********************100%***********************]  4 of 4 completed\n",
      "[*********************100%***********************]  4 of 4 completed\n",
      "[*********************100%***********************]  4 of 4 completed\n",
      "[*********************100%***********************]  4 of 4 completed\n"
     ]
    }
   ],
   "source": [
    "industry_stock_returns_row = pn.Column(\n",
    "                                    '## Stock Returns by Industry',\n",
    "                                        combined_base(),\n",
    "                                            cumulative_returns()\n",
    ")\n",
    "\n",
    "industry_stock_risk_row = pn.Column(\n",
    "                                '## Stock Risk by Industry',\n",
    "                                    five_y_rolling_std,\n",
    "                                        oil_and_alt_std\n",
    ")\n",
    "\n",
    "correlation_row = pn.Column(\n",
    "                        '## Correlations',\n",
    "                            production_corr(),\n",
    "                            oil_and_alt_correlation,\n",
    "                            prod_vs_stock()\n",
    ")\n",
    "production_row = pn.Column(\n",
    "    '## Annual Energy Production (qBTU) by Industry',\n",
    "    alt_production(),\n",
    "    oil_production(),\n",
    "    comb_production(),\n",
    "\n",
    ")"
   ]
  },
  {
   "cell_type": "code",
   "execution_count": 18,
   "metadata": {},
   "outputs": [],
   "source": [
    "dashboard = pn.Tabs(\n",
    "                ('Annual Production', production_row),\n",
    "                ('Stock Returns', industry_stock_returns_row),\n",
    "                ('Stock Risks', industry_stock_risk_row),\n",
    "                ('Correlations', correlation_row)\n",
    ")"
   ]
  },
  {
   "cell_type": "code",
   "execution_count": 19,
   "metadata": {},
   "outputs": [
    {
     "output_type": "display_data",
     "data": {},
     "metadata": {}
    },
    {
     "output_type": "display_data",
     "data": {},
     "metadata": {}
    },
    {
     "output_type": "execute_result",
     "data": {
      "text/html": "<div id='2626'>\n\n\n\n\n\n  <div class=\"bk-root\" id=\"9e03be47-00a4-4375-aa60-3c7c157e8d2a\" data-root-id=\"2626\"></div>\n</div>\n<script type=\"application/javascript\">(function(root) {\n  function embed_document(root) {\n  var docs_json = {\"a2adcde9-c3a1-4157-bbd1-2d141d3f3bb5\":{\"roots\":{\"references\":[{\"attributes\":{},\"id\":\"3487\",\"type\":\"BasicTickFormatter\"},{\"attributes\":{},\"id\":\"2750\",\"type\":\"LinearScale\"},{\"attributes\":{},\"id\":\"2757\",\"type\":\"BasicTicker\"},{\"attributes\":{\"bottom_units\":\"screen\",\"fill_alpha\":0.5,\"fill_color\":\"lightgrey\",\"left_units\":\"screen\",\"level\":\"overlay\",\"line_alpha\":1.0,\"line_color\":\"black\",\"line_dash\":[4,4],\"line_width\":2,\"render_mode\":\"css\",\"right_units\":\"screen\",\"top_units\":\"screen\"},\"id\":\"3630\",\"type\":\"BoxAnnotation\"},{\"attributes\":{\"axis\":{\"id\":\"2752\"},\"ticker\":{\"id\":\"2753\"}},\"id\":\"2755\",\"type\":\"Grid\"},{\"attributes\":{\"children\":[{\"id\":\"3724\"}],\"margin\":[0,0,0,0],\"name\":\"Row06393\"},\"id\":\"3720\",\"type\":\"Row\"},{\"attributes\":{},\"id\":\"2753\",\"type\":\"BasicTicker\"},{\"attributes\":{},\"id\":\"3658\",\"type\":\"UnionRenderers\"},{\"attributes\":{\"axis_label\":\"Year\",\"axis_label_text_font_size\":\"20pt\",\"bounds\":\"auto\",\"formatter\":{\"id\":\"2774\"},\"major_label_orientation\":\"horizontal\",\"major_label_text_font_size\":\"20pt\",\"ticker\":{\"id\":\"2753\"}},\"id\":\"2752\",\"type\":\"LinearAxis\"},{\"attributes\":{\"axis_label\":\"\",\"axis_label_text_font_size\":\"20pt\",\"bounds\":\"auto\",\"formatter\":{\"id\":\"2776\"},\"major_label_orientation\":\"horizontal\",\"major_label_text_font_size\":\"15pt\",\"ticker\":{\"id\":\"2757\"}},\"id\":\"2756\",\"type\":\"LinearAxis\"},{\"attributes\":{\"data\":{\"Alternative Energy\":{\"__ndarray__\":\"UCxYXqQot7/szQEwMf3Cvx4ESwZvc+O/n+Upf3Bn+D/GVXBg6B+2P8Ym30Tnh9I/E+f8QU3Kwz9M5R1E9yDGP/YzY3pLwtS/ZMOaBFtp2T8IeBxE52ybP2ptE93Bqb+/t8mkOJQ0xb8svgdftx7iPwRhb6rKsdI/HqRBfmQ42r8PDOU5q0/PP0+fARpBnMo/+Iqyf83+qD+aA2vnMw7pPwcgPKIVnAJA\",\"dtype\":\"float64\",\"shape\":[21]},\"Alternative_Energy\":{\"__ndarray__\":\"UCxYXqQot7/szQEwMf3Cvx4ESwZvc+O/n+Upf3Bn+D/GVXBg6B+2P8Ym30Tnh9I/E+f8QU3Kwz9M5R1E9yDGP/YzY3pLwtS/ZMOaBFtp2T8IeBxE52ybP2ptE93Bqb+/t8mkOJQ0xb8svgdftx7iPwRhb6rKsdI/HqRBfmQ42r8PDOU5q0/PP0+fARpBnMo/+Iqyf83+qD+aA2vnMw7pPwcgPKIVnAJA\",\"dtype\":\"float64\",\"shape\":[21]},\"Oil & Gas\":{\"__ndarray__\":\"QGL5dM0Yeb+Q7FKXs5+ev06bk4hrWLy/uvXD4oV90D9auUHp6lbOP64gUX3IL8A/qLkpLOVbzj9GCbZi13zMP0TQVdT1r8+/UtxlX+RBvz9KvykNO3m0PzpBfXqH3cI/mJeK786pmD8YpP6TypbHPwBJypfNebW/q+Kz5CHRxr+usHxh5GPTPyPuVMb8wMA/oJ7JcRBzt798bCtcPg20P9x8FJ6rlte/\",\"dtype\":\"float64\",\"shape\":[21]},\"Oil_ampersand_Gas\":{\"__ndarray__\":\"QGL5dM0Yeb+Q7FKXs5+ev06bk4hrWLy/uvXD4oV90D9auUHp6lbOP64gUX3IL8A/qLkpLOVbzj9GCbZi13zMP0TQVdT1r8+/UtxlX+RBvz9KvykNO3m0PzpBfXqH3cI/mJeK786pmD8YpP6TypbHPwBJypfNebW/q+Kz5CHRxr+usHxh5GPTPyPuVMb8wMA/oJ7JcRBzt798bCtcPg20P9x8FJ6rlte/\",\"dtype\":\"float64\",\"shape\":[21]}},\"selected\":{\"id\":\"3755\"},\"selection_policy\":{\"id\":\"3774\"}},\"id\":\"3754\",\"type\":\"ColumnDataSource\"},{\"attributes\":{\"click_policy\":\"mute\",\"items\":[{\"id\":\"2955\"},{\"id\":\"2972\"},{\"id\":\"2991\"},{\"id\":\"3012\"},{\"id\":\"3035\"},{\"id\":\"3060\"},{\"id\":\"3087\"},{\"id\":\"3116\"}],\"label_text_font_size\":\"20pt\",\"location\":[0,0],\"title\":\"Variable\"},\"id\":\"2954\",\"type\":\"Legend\"},{\"attributes\":{\"axis\":{\"id\":\"2756\"},\"dimension\":1,\"ticker\":{\"id\":\"2757\"}},\"id\":\"2759\",\"type\":\"Grid\"},{\"attributes\":{},\"id\":\"2761\",\"type\":\"PanTool\"},{\"attributes\":{},\"id\":\"3745\",\"type\":\"ResetTool\"},{\"attributes\":{\"overlay\":{\"id\":\"3746\"}},\"id\":\"3744\",\"type\":\"BoxZoomTool\"},{\"attributes\":{},\"id\":\"2760\",\"type\":\"SaveTool\"},{\"attributes\":{},\"id\":\"2762\",\"type\":\"WheelZoomTool\"},{\"attributes\":{\"css_classes\":[\"markdown\"],\"margin\":[5,5,5,5],\"name\":\"Markdown06768\",\"text\":\"&lt;h2&gt;Annual Energy Production (qBTU) by Industry&lt;/h2&gt;\"},\"id\":\"2628\",\"type\":\"panel.models.markup.HTML\"},{\"attributes\":{},\"id\":\"2682\",\"type\":\"UnionRenderers\"},{\"attributes\":{\"overlay\":{\"id\":\"2765\"}},\"id\":\"2763\",\"type\":\"BoxZoomTool\"},{\"attributes\":{},\"id\":\"3738\",\"type\":\"BasicTicker\"},{\"attributes\":{},\"id\":\"2764\",\"type\":\"ResetTool\"},{\"attributes\":{\"axis\":{\"id\":\"3737\"},\"dimension\":1,\"grid_line_color\":\"lightgray\",\"grid_line_width\":1.5,\"ticker\":{\"id\":\"3738\"}},\"id\":\"3740\",\"type\":\"Grid\"},{\"attributes\":{},\"id\":\"3731\",\"type\":\"LinearScale\"},{\"attributes\":{\"label\":{\"value\":\"Production (Alternative)\"},\"renderers\":[{\"id\":\"2801\"}]},\"id\":\"2811\",\"type\":\"LegendItem\"},{\"attributes\":{\"axis_label\":\"Oil & Gas\",\"axis_label_text_font_size\":\"20pt\",\"bounds\":\"auto\",\"formatter\":{\"id\":\"3763\"},\"major_label_orientation\":\"horizontal\",\"major_label_text_font_size\":\"15pt\",\"ticker\":{\"id\":\"3734\"}},\"id\":\"3733\",\"type\":\"LinearAxis\"},{\"attributes\":{\"label\":{\"value\":\"CIG\"},\"renderers\":[{\"id\":\"2962\"}]},\"id\":\"2972\",\"type\":\"LegendItem\"},{\"attributes\":{\"child\":{\"id\":\"3446\"},\"name\":\"Column06142\",\"title\":\"Stock Risks\"},\"id\":\"3660\",\"type\":\"Panel\"},{\"attributes\":{},\"id\":\"3742\",\"type\":\"PanTool\"},{\"attributes\":{},\"id\":\"3729\",\"type\":\"LinearScale\"},{\"attributes\":{},\"id\":\"3755\",\"type\":\"Selection\"},{\"attributes\":{\"active_drag\":\"auto\",\"active_inspect\":\"auto\",\"active_multi\":null,\"active_scroll\":\"auto\",\"active_tap\":\"auto\",\"tools\":[{\"id\":\"3723\"},{\"id\":\"3741\"},{\"id\":\"3742\"},{\"id\":\"3743\"},{\"id\":\"3744\"},{\"id\":\"3745\"}]},\"id\":\"3747\",\"type\":\"Toolbar\"},{\"attributes\":{\"_render_count\":0,\"config\":null,\"data\":[{\"dimensions\":[{\"label\":\"Year\"},{\"label\":\"Production (Alt)\"},{\"label\":\"Stock Returns (Alt)\"},{\"label\":\"Production (Oil)\"},{\"label\":\"Stock Returns (Oil)\"}],\"domain\":{\"x\":[0.0,1.0],\"y\":[0.0,1.0]},\"line\":{\"coloraxis\":\"coloraxis\"},\"name\":\"\",\"type\":\"parcoords\"}],\"data_sources\":[{\"id\":\"3776\"}],\"layout\":{\"coloraxis\":{\"colorbar\":{\"title\":{\"text\":\"Year\"}},\"colorscale\":[[0.0,\"#0d0887\"],[0.1111111111111111,\"#46039f\"],[0.2222222222222222,\"#7201a8\"],[0.3333333333333333,\"#9c179e\"],[0.4444444444444444,\"#bd3786\"],[0.5555555555555556,\"#d8576b\"],[0.6666666666666666,\"#ed7953\"],[0.7777777777777778,\"#fb9f3a\"],[0.8888888888888888,\"#fdca26\"],[1.0,\"#f0f921\"]]},\"legend\":{\"tracegroupgap\":0},\"template\":{\"data\":{\"bar\":[{\"error_x\":{\"color\":\"#2a3f5f\"},\"error_y\":{\"color\":\"#2a3f5f\"},\"marker\":{\"line\":{\"color\":\"#E5ECF6\",\"width\":0.5}},\"type\":\"bar\"}],\"barpolar\":[{\"marker\":{\"line\":{\"color\":\"#E5ECF6\",\"width\":0.5}},\"type\":\"barpolar\"}],\"carpet\":[{\"aaxis\":{\"endlinecolor\":\"#2a3f5f\",\"gridcolor\":\"white\",\"linecolor\":\"white\",\"minorgridcolor\":\"white\",\"startlinecolor\":\"#2a3f5f\"},\"baxis\":{\"endlinecolor\":\"#2a3f5f\",\"gridcolor\":\"white\",\"linecolor\":\"white\",\"minorgridcolor\":\"white\",\"startlinecolor\":\"#2a3f5f\"},\"type\":\"carpet\"}],\"choropleth\":[{\"colorbar\":{\"outlinewidth\":0,\"ticks\":\"\"},\"type\":\"choropleth\"}],\"contour\":[{\"colorbar\":{\"outlinewidth\":0,\"ticks\":\"\"},\"colorscale\":[[0.0,\"#0d0887\"],[0.1111111111111111,\"#46039f\"],[0.2222222222222222,\"#7201a8\"],[0.3333333333333333,\"#9c179e\"],[0.4444444444444444,\"#bd3786\"],[0.5555555555555556,\"#d8576b\"],[0.6666666666666666,\"#ed7953\"],[0.7777777777777778,\"#fb9f3a\"],[0.8888888888888888,\"#fdca26\"],[1.0,\"#f0f921\"]],\"type\":\"contour\"}],\"contourcarpet\":[{\"colorbar\":{\"outlinewidth\":0,\"ticks\":\"\"},\"type\":\"contourcarpet\"}],\"heatmap\":[{\"colorbar\":{\"outlinewidth\":0,\"ticks\":\"\"},\"colorscale\":[[0.0,\"#0d0887\"],[0.1111111111111111,\"#46039f\"],[0.2222222222222222,\"#7201a8\"],[0.3333333333333333,\"#9c179e\"],[0.4444444444444444,\"#bd3786\"],[0.5555555555555556,\"#d8576b\"],[0.6666666666666666,\"#ed7953\"],[0.7777777777777778,\"#fb9f3a\"],[0.8888888888888888,\"#fdca26\"],[1.0,\"#f0f921\"]],\"type\":\"heatmap\"}],\"heatmapgl\":[{\"colorbar\":{\"outlinewidth\":0,\"ticks\":\"\"},\"colorscale\":[[0.0,\"#0d0887\"],[0.1111111111111111,\"#46039f\"],[0.2222222222222222,\"#7201a8\"],[0.3333333333333333,\"#9c179e\"],[0.4444444444444444,\"#bd3786\"],[0.5555555555555556,\"#d8576b\"],[0.6666666666666666,\"#ed7953\"],[0.7777777777777778,\"#fb9f3a\"],[0.8888888888888888,\"#fdca26\"],[1.0,\"#f0f921\"]],\"type\":\"heatmapgl\"}],\"histogram\":[{\"marker\":{\"colorbar\":{\"outlinewidth\":0,\"ticks\":\"\"}},\"type\":\"histogram\"}],\"histogram2d\":[{\"colorbar\":{\"outlinewidth\":0,\"ticks\":\"\"},\"colorscale\":[[0.0,\"#0d0887\"],[0.1111111111111111,\"#46039f\"],[0.2222222222222222,\"#7201a8\"],[0.3333333333333333,\"#9c179e\"],[0.4444444444444444,\"#bd3786\"],[0.5555555555555556,\"#d8576b\"],[0.6666666666666666,\"#ed7953\"],[0.7777777777777778,\"#fb9f3a\"],[0.8888888888888888,\"#fdca26\"],[1.0,\"#f0f921\"]],\"type\":\"histogram2d\"}],\"histogram2dcontour\":[{\"colorbar\":{\"outlinewidth\":0,\"ticks\":\"\"},\"colorscale\":[[0.0,\"#0d0887\"],[0.1111111111111111,\"#46039f\"],[0.2222222222222222,\"#7201a8\"],[0.3333333333333333,\"#9c179e\"],[0.4444444444444444,\"#bd3786\"],[0.5555555555555556,\"#d8576b\"],[0.6666666666666666,\"#ed7953\"],[0.7777777777777778,\"#fb9f3a\"],[0.8888888888888888,\"#fdca26\"],[1.0,\"#f0f921\"]],\"type\":\"histogram2dcontour\"}],\"mesh3d\":[{\"colorbar\":{\"outlinewidth\":0,\"ticks\":\"\"},\"type\":\"mesh3d\"}],\"parcoords\":[{\"line\":{\"colorbar\":{\"outlinewidth\":0,\"ticks\":\"\"}},\"type\":\"parcoords\"}],\"pie\":[{\"automargin\":true,\"type\":\"pie\"}],\"scatter\":[{\"marker\":{\"colorbar\":{\"outlinewidth\":0,\"ticks\":\"\"}},\"type\":\"scatter\"}],\"scatter3d\":[{\"line\":{\"colorbar\":{\"outlinewidth\":0,\"ticks\":\"\"}},\"marker\":{\"colorbar\":{\"outlinewidth\":0,\"ticks\":\"\"}},\"type\":\"scatter3d\"}],\"scattercarpet\":[{\"marker\":{\"colorbar\":{\"outlinewidth\":0,\"ticks\":\"\"}},\"type\":\"scattercarpet\"}],\"scattergeo\":[{\"marker\":{\"colorbar\":{\"outlinewidth\":0,\"ticks\":\"\"}},\"type\":\"scattergeo\"}],\"scattergl\":[{\"marker\":{\"colorbar\":{\"outlinewidth\":0,\"ticks\":\"\"}},\"type\":\"scattergl\"}],\"scattermapbox\":[{\"marker\":{\"colorbar\":{\"outlinewidth\":0,\"ticks\":\"\"}},\"type\":\"scattermapbox\"}],\"scatterpolar\":[{\"marker\":{\"colorbar\":{\"outlinewidth\":0,\"ticks\":\"\"}},\"type\":\"scatterpolar\"}],\"scatterpolargl\":[{\"marker\":{\"colorbar\":{\"outlinewidth\":0,\"ticks\":\"\"}},\"type\":\"scatterpolargl\"}],\"scatterternary\":[{\"marker\":{\"colorbar\":{\"outlinewidth\":0,\"ticks\":\"\"}},\"type\":\"scatterternary\"}],\"surface\":[{\"colorbar\":{\"outlinewidth\":0,\"ticks\":\"\"},\"colorscale\":[[0.0,\"#0d0887\"],[0.1111111111111111,\"#46039f\"],[0.2222222222222222,\"#7201a8\"],[0.3333333333333333,\"#9c179e\"],[0.4444444444444444,\"#bd3786\"],[0.5555555555555556,\"#d8576b\"],[0.6666666666666666,\"#ed7953\"],[0.7777777777777778,\"#fb9f3a\"],[0.8888888888888888,\"#fdca26\"],[1.0,\"#f0f921\"]],\"type\":\"surface\"}],\"table\":[{\"cells\":{\"fill\":{\"color\":\"#EBF0F8\"},\"line\":{\"color\":\"white\"}},\"header\":{\"fill\":{\"color\":\"#C8D4E3\"},\"line\":{\"color\":\"white\"}},\"type\":\"table\"}]},\"layout\":{\"annotationdefaults\":{\"arrowcolor\":\"#2a3f5f\",\"arrowhead\":0,\"arrowwidth\":1},\"autotypenumbers\":\"strict\",\"coloraxis\":{\"colorbar\":{\"outlinewidth\":0,\"ticks\":\"\"}},\"colorscale\":{\"diverging\":[[0,\"#8e0152\"],[0.1,\"#c51b7d\"],[0.2,\"#de77ae\"],[0.3,\"#f1b6da\"],[0.4,\"#fde0ef\"],[0.5,\"#f7f7f7\"],[0.6,\"#e6f5d0\"],[0.7,\"#b8e186\"],[0.8,\"#7fbc41\"],[0.9,\"#4d9221\"],[1,\"#276419\"]],\"sequential\":[[0.0,\"#0d0887\"],[0.1111111111111111,\"#46039f\"],[0.2222222222222222,\"#7201a8\"],[0.3333333333333333,\"#9c179e\"],[0.4444444444444444,\"#bd3786\"],[0.5555555555555556,\"#d8576b\"],[0.6666666666666666,\"#ed7953\"],[0.7777777777777778,\"#fb9f3a\"],[0.8888888888888888,\"#fdca26\"],[1.0,\"#f0f921\"]],\"sequentialminus\":[[0.0,\"#0d0887\"],[0.1111111111111111,\"#46039f\"],[0.2222222222222222,\"#7201a8\"],[0.3333333333333333,\"#9c179e\"],[0.4444444444444444,\"#bd3786\"],[0.5555555555555556,\"#d8576b\"],[0.6666666666666666,\"#ed7953\"],[0.7777777777777778,\"#fb9f3a\"],[0.8888888888888888,\"#fdca26\"],[1.0,\"#f0f921\"]]},\"colorway\":[\"#636efa\",\"#EF553B\",\"#00cc96\",\"#ab63fa\",\"#FFA15A\",\"#19d3f3\",\"#FF6692\",\"#B6E880\",\"#FF97FF\",\"#FECB52\"],\"font\":{\"color\":\"#2a3f5f\"},\"geo\":{\"bgcolor\":\"white\",\"lakecolor\":\"white\",\"landcolor\":\"#E5ECF6\",\"showlakes\":true,\"showland\":true,\"subunitcolor\":\"white\"},\"hoverlabel\":{\"align\":\"left\"},\"hovermode\":\"closest\",\"mapbox\":{\"style\":\"light\"},\"paper_bgcolor\":\"white\",\"plot_bgcolor\":\"#E5ECF6\",\"polar\":{\"angularaxis\":{\"gridcolor\":\"white\",\"linecolor\":\"white\",\"ticks\":\"\"},\"bgcolor\":\"#E5ECF6\",\"radialaxis\":{\"gridcolor\":\"white\",\"linecolor\":\"white\",\"ticks\":\"\"}},\"scene\":{\"xaxis\":{\"backgroundcolor\":\"#E5ECF6\",\"gridcolor\":\"white\",\"gridwidth\":2,\"linecolor\":\"white\",\"showbackground\":true,\"ticks\":\"\",\"zerolinecolor\":\"white\"},\"yaxis\":{\"backgroundcolor\":\"#E5ECF6\",\"gridcolor\":\"white\",\"gridwidth\":2,\"linecolor\":\"white\",\"showbackground\":true,\"ticks\":\"\",\"zerolinecolor\":\"white\"},\"zaxis\":{\"backgroundcolor\":\"#E5ECF6\",\"gridcolor\":\"white\",\"gridwidth\":2,\"linecolor\":\"white\",\"showbackground\":true,\"ticks\":\"\",\"zerolinecolor\":\"white\"}},\"shapedefaults\":{\"line\":{\"color\":\"#2a3f5f\"}},\"ternary\":{\"aaxis\":{\"gridcolor\":\"white\",\"linecolor\":\"white\",\"ticks\":\"\"},\"baxis\":{\"gridcolor\":\"white\",\"linecolor\":\"white\",\"ticks\":\"\"},\"bgcolor\":\"#E5ECF6\",\"caxis\":{\"gridcolor\":\"white\",\"linecolor\":\"white\",\"ticks\":\"\"}},\"title\":{\"x\":0.05},\"xaxis\":{\"automargin\":true,\"gridcolor\":\"white\",\"linecolor\":\"white\",\"ticks\":\"\",\"title\":{\"standoff\":15},\"zerolinecolor\":\"white\",\"zerolinewidth\":2},\"yaxis\":{\"automargin\":true,\"gridcolor\":\"white\",\"linecolor\":\"white\",\"ticks\":\"\",\"title\":{\"standoff\":15},\"zerolinecolor\":\"white\",\"zerolinewidth\":2}}},\"title\":{\"text\":\"Correlation between Energy Production and Stock Returns by Industry\"},\"width\":1200},\"margin\":[5,5,5,5],\"name\":\"Plotly06395\",\"viewport_update_throttle\":200},\"id\":\"3777\",\"type\":\"panel.models.plotly.PlotlyPlot\"},{\"attributes\":{},\"id\":\"2701\",\"type\":\"BasicTicker\"},{\"attributes\":{\"source\":{\"id\":\"2956\"}},\"id\":\"2963\",\"type\":\"CDSView\"},{\"attributes\":{\"fill_alpha\":{\"value\":0.1},\"fill_color\":{\"value\":\"#1f77b3\"},\"line_alpha\":{\"value\":0.1},\"line_color\":{\"value\":\"#1f77b3\"},\"size\":{\"units\":\"screen\",\"value\":5.477225575051661},\"x\":{\"field\":\"Production (Alternative)\"},\"y\":{\"field\":\"Production (Oil)\"}},\"id\":\"3700\",\"type\":\"Scatter\"},{\"attributes\":{\"fill_alpha\":{\"value\":0.1},\"fill_color\":{\"value\":\"#1f77b3\"},\"line_alpha\":{\"value\":0.1},\"line_color\":{\"value\":\"#1f77b3\"},\"size\":{\"units\":\"screen\",\"value\":10.0},\"x\":{\"field\":\"Oil & Gas\"},\"y\":{\"field\":\"Alternative Energy\"}},\"id\":\"3758\",\"type\":\"Scatter\"},{\"attributes\":{\"data\":{\"Production (Alternative)\":{\"__ndarray__\":\"vHSTGARWIEBkO99PjdcgQEa28/3UOCJATDeJQWBlI0B7FK5H4fojQFK4HoXrUSRACKwcWmT7JECNl24Sg8AkQEoMAiuHFiZABoGVQ4usJ0B9PzVeukkoQHsUrkfh+ihAmpmZmZmZKECWQ4ts5/soQOkmMQisXClAarx0kxhEK0AYBFYOLTIsQO58PzVeOitArBxaZDsfK0CNl24Sg0AsQCGwcmiR7StAbhKDwMphKkCNl24Sg8ArQOj7qfHSzStAUrgeheuRLEDdJAaBlcMsQCYxCKwcmi1A5KWbxCDwLUAj2/l+ajwvQPYoXI/C9S9Ac2iR7Xy/MEDEILByaJExQKabxCCw8jBAtvP91HipMUC0yHa+nxoyQDeJQWDlEDJAmpmZmZnZMkA9CtejcJ0zQBgEVg4t8jNA\",\"dtype\":\"float64\",\"shape\":[39]},\"Production (Oil)\":{\"__ndarray__\":\"001iEFh5NEC28/3UeGk0QGiR7Xw/dTRAu0kMAiuHNEChRbbz/RQ1QBgEVg4tMjVAd76fGi99NEC0yHa+n9ozQMP1KFyPgjNAPQrXo3A9MkAv3SQGgbUxQJ3vp8ZL9zFA7FG4HoWLMUAj2/l+atwwQMHKoUW2czBAKVyPwvVIMECHFtnO9zMwQO18PzVeGjBAEVg5tMg2L0ANAiuHFtktQFK4HoXr0S1AJQaBlUOLLUBt5/up8VItQE+Nl24SgyxA0SLb+X7qK0A2XrpJDIIqQOF6FK5HISpArkfhehQuKkAYBFYOLfIpQBgEVg4tsitA4XoUrkehLEAtsp3vp8YtQBsv3SQGATFAN4lBYOVQM0DpJjEIrJw2QOSlm8QgMDhAwMqhRbYzN0DkpZvEIJA4QBxaZDvfjzxA\",\"dtype\":\"float64\",\"shape\":[39]},\"Production_left_parenthesis_Alternative_right_parenthesis\":{\"__ndarray__\":\"vHSTGARWIEBkO99PjdcgQEa28/3UOCJATDeJQWBlI0B7FK5H4fojQFK4HoXrUSRACKwcWmT7JECNl24Sg8AkQEoMAiuHFiZABoGVQ4usJ0B9PzVeukkoQHsUrkfh+ihAmpmZmZmZKECWQ4ts5/soQOkmMQisXClAarx0kxhEK0AYBFYOLTIsQO58PzVeOitArBxaZDsfK0CNl24Sg0AsQCGwcmiR7StAbhKDwMphKkCNl24Sg8ArQOj7qfHSzStAUrgeheuRLEDdJAaBlcMsQCYxCKwcmi1A5KWbxCDwLUAj2/l+ajwvQPYoXI/C9S9Ac2iR7Xy/MEDEILByaJExQKabxCCw8jBAtvP91HipMUC0yHa+nxoyQDeJQWDlEDJAmpmZmZnZMkA9CtejcJ0zQBgEVg4t8jNA\",\"dtype\":\"float64\",\"shape\":[39]},\"Production_left_parenthesis_Oil_right_parenthesis\":{\"__ndarray__\":\"001iEFh5NEC28/3UeGk0QGiR7Xw/dTRAu0kMAiuHNEChRbbz/RQ1QBgEVg4tMjVAd76fGi99NEC0yHa+n9ozQMP1KFyPgjNAPQrXo3A9MkAv3SQGgbUxQJ3vp8ZL9zFA7FG4HoWLMUAj2/l+atwwQMHKoUW2czBAKVyPwvVIMECHFtnO9zMwQO18PzVeGjBAEVg5tMg2L0ANAiuHFtktQFK4HoXr0S1AJQaBlUOLLUBt5/up8VItQE+Nl24SgyxA0SLb+X7qK0A2XrpJDIIqQOF6FK5HISpArkfhehQuKkAYBFYOLfIpQBgEVg4tsitA4XoUrkehLEAtsp3vp8YtQBsv3SQGATFAN4lBYOVQM0DpJjEIrJw2QOSlm8QgMDhAwMqhRbYzN0DkpZvEIJA4QBxaZDvfjzxA\",\"dtype\":\"float64\",\"shape\":[39]}},\"selected\":{\"id\":\"3697\"},\"selection_policy\":{\"id\":\"3716\"}},\"id\":\"3696\",\"type\":\"ColumnDataSource\"},{\"attributes\":{\"fill_alpha\":{\"value\":0.1},\"fill_color\":{\"value\":\"#1f77b3\"},\"line_alpha\":{\"value\":0.1},\"top\":{\"field\":\"Standard_Deviation\"},\"width\":{\"value\":0.8},\"x\":{\"field\":\"index\"}},\"id\":\"3642\",\"type\":\"VBar\"},{\"attributes\":{\"fill_color\":{\"value\":\"#1f77b3\"},\"line_color\":{\"value\":\"#1f77b3\"},\"size\":{\"units\":\"screen\",\"value\":10.0},\"x\":{\"field\":\"Oil & Gas\"},\"y\":{\"field\":\"Alternative Energy\"}},\"id\":\"3757\",\"type\":\"Scatter\"},{\"attributes\":{},\"id\":\"3639\",\"type\":\"Selection\"},{\"attributes\":{\"data_source\":{\"id\":\"3754\"},\"glyph\":{\"id\":\"3757\"},\"hover_glyph\":null,\"muted_glyph\":{\"id\":\"3759\"},\"nonselection_glyph\":{\"id\":\"3758\"},\"selection_glyph\":null,\"view\":{\"id\":\"3761\"}},\"id\":\"3760\",\"type\":\"GlyphRenderer\"},{\"attributes\":{\"fill_color\":{\"value\":\"#1f77b3\"},\"top\":{\"field\":\"Standard_Deviation\"},\"width\":{\"value\":0.8},\"x\":{\"field\":\"index\"}},\"id\":\"3641\",\"type\":\"VBar\"},{\"attributes\":{\"bottom_units\":\"screen\",\"fill_alpha\":0.5,\"fill_color\":\"lightgrey\",\"left_units\":\"screen\",\"level\":\"overlay\",\"line_alpha\":1.0,\"line_color\":\"black\",\"line_dash\":[4,4],\"line_width\":2,\"render_mode\":\"css\",\"right_units\":\"screen\",\"top_units\":\"screen\"},\"id\":\"2765\",\"type\":\"BoxAnnotation\"},{\"attributes\":{\"source\":{\"id\":\"3754\"}},\"id\":\"3761\",\"type\":\"CDSView\"},{\"attributes\":{\"fill_color\":{\"value\":\"#1f77b3\"},\"line_color\":{\"value\":\"#1f77b3\"},\"size\":{\"units\":\"screen\",\"value\":5.477225575051661},\"x\":{\"field\":\"Production (Alternative)\"},\"y\":{\"field\":\"Production (Oil)\"}},\"id\":\"3699\",\"type\":\"Scatter\"},{\"attributes\":{\"callback\":null,\"renderers\":[{\"id\":\"2723\"}],\"tags\":[\"hv_created\"],\"tooltips\":[[\"Year\",\"@{Year}\"],[\"Production (Oil)\",\"@{Production_left_parenthesis_Oil_right_parenthesis}\"]]},\"id\":\"2686\",\"type\":\"HoverTool\"},{\"attributes\":{\"active_drag\":\"auto\",\"active_inspect\":\"auto\",\"active_multi\":null,\"active_scroll\":\"auto\",\"active_tap\":\"auto\",\"tools\":[{\"id\":\"3665\"},{\"id\":\"3683\"},{\"id\":\"3684\"},{\"id\":\"3685\"},{\"id\":\"3686\"},{\"id\":\"3687\"}]},\"id\":\"3689\",\"type\":\"Toolbar\"},{\"attributes\":{},\"id\":\"3741\",\"type\":\"SaveTool\"},{\"attributes\":{},\"id\":\"2646\",\"type\":\"BasicTicker\"},{\"attributes\":{},\"id\":\"3743\",\"type\":\"WheelZoomTool\"},{\"attributes\":{\"fill_alpha\":{\"value\":0.2},\"fill_color\":{\"value\":\"#1f77b3\"},\"line_alpha\":{\"value\":0.2},\"line_color\":{\"value\":\"#1f77b3\"},\"size\":{\"units\":\"screen\",\"value\":10.0},\"x\":{\"field\":\"Oil & Gas\"},\"y\":{\"field\":\"Alternative Energy\"}},\"id\":\"3759\",\"type\":\"Scatter\"},{\"attributes\":{\"line_alpha\":0.2,\"line_color\":\"#ff7e0e\",\"line_width\":2,\"x\":{\"field\":\"Date\"},\"y\":{\"field\":\"value\"}},\"id\":\"3511\",\"type\":\"Line\"},{\"attributes\":{},\"id\":\"3646\",\"type\":\"CategoricalTickFormatter\"},{\"attributes\":{},\"id\":\"3697\",\"type\":\"Selection\"},{\"attributes\":{\"data_source\":{\"id\":\"3638\"},\"glyph\":{\"id\":\"3641\"},\"hover_glyph\":null,\"muted_glyph\":{\"id\":\"3643\"},\"nonselection_glyph\":{\"id\":\"3642\"},\"selection_glyph\":null,\"view\":{\"id\":\"3645\"}},\"id\":\"3644\",\"type\":\"GlyphRenderer\"},{\"attributes\":{\"line_color\":\"#ff7e0e\",\"line_width\":2,\"x\":{\"field\":\"Date\"},\"y\":{\"field\":\"value\"}},\"id\":\"3509\",\"type\":\"Line\"},{\"attributes\":{\"axis\":{\"id\":\"3733\"},\"grid_line_color\":\"lightgray\",\"grid_line_width\":1.5,\"minor_grid_line_color\":\"lightgray\",\"ticker\":{\"id\":\"3734\"}},\"id\":\"3736\",\"type\":\"Grid\"},{\"attributes\":{\"fill_alpha\":{\"value\":0.2},\"fill_color\":{\"value\":\"#1f77b3\"},\"line_alpha\":{\"value\":0.2},\"top\":{\"field\":\"Standard_Deviation\"},\"width\":{\"value\":0.8},\"x\":{\"field\":\"index\"}},\"id\":\"3643\",\"type\":\"VBar\"},{\"attributes\":{\"callback\":null,\"renderers\":[{\"id\":\"2668\"}],\"tags\":[\"hv_created\"],\"tooltips\":[[\"Year\",\"@{Year}\"],[\"Production (Alternative)\",\"@{Production_left_parenthesis_Alternative_right_parenthesis}\"]]},\"id\":\"2631\",\"type\":\"HoverTool\"},{\"attributes\":{\"source\":{\"id\":\"3638\"}},\"id\":\"3645\",\"type\":\"CDSView\"},{\"attributes\":{\"axis_label\":\"Alternative Energy\",\"axis_label_text_font_size\":\"20pt\",\"bounds\":\"auto\",\"formatter\":{\"id\":\"3765\"},\"major_label_orientation\":\"horizontal\",\"major_label_text_font_size\":\"15pt\",\"ticker\":{\"id\":\"3738\"}},\"id\":\"3737\",\"type\":\"LinearAxis\"},{\"attributes\":{\"label\":{\"value\":\"Oil & Gas\"},\"renderers\":[{\"id\":\"3512\"}]},\"id\":\"3522\",\"type\":\"LegendItem\"},{\"attributes\":{\"text\":\"Annual Energy Production from Alternative Energy\",\"text_color\":{\"value\":\"black\"},\"text_font_size\":{\"value\":\"20pt\"}},\"id\":\"2633\",\"type\":\"Title\"},{\"attributes\":{\"end\":0.3253567013945191,\"reset_end\":0.3253567013945191,\"reset_start\":-0.39095596093585117,\"start\":-0.39095596093585117,\"tags\":[[[\"Oil & Gas\",\"Oil & Gas\",null]]]},\"id\":\"3721\",\"type\":\"Range1d\"},{\"attributes\":{\"source\":{\"id\":\"3506\"}},\"id\":\"3513\",\"type\":\"CDSView\"},{\"attributes\":{},\"id\":\"2692\",\"type\":\"LinearScale\"},{\"attributes\":{},\"id\":\"3734\",\"type\":\"BasicTicker\"},{\"attributes\":{},\"id\":\"3507\",\"type\":\"Selection\"},{\"attributes\":{},\"id\":\"3763\",\"type\":\"BasicTickFormatter\"},{\"attributes\":{\"end\":2.619618554530113,\"reset_end\":2.619618554530113,\"reset_start\":-0.9012464430486415,\"start\":-0.9012464430486415,\"tags\":[[[\"Alternative Energy\",\"Alternative Energy\",null]]]},\"id\":\"3722\",\"type\":\"Range1d\"},{\"attributes\":{\"end\":30.1209,\"reset_end\":30.1209,\"reset_start\":11.4141,\"start\":11.4141,\"tags\":[[[\"Production (Oil)\",\"Production (Oil)\",null]]]},\"id\":\"2685\",\"type\":\"Range1d\"},{\"attributes\":{\"text\":\"Annual Energy Production from Oil\",\"text_color\":{\"value\":\"black\"},\"text_font_size\":{\"value\":\"20pt\"}},\"id\":\"2688\",\"type\":\"Title\"},{\"attributes\":{},\"id\":\"2925\",\"type\":\"ResetTool\"},{\"attributes\":{\"line_color\":\"#ff7e0e\",\"line_width\":2,\"x\":{\"field\":\"Date\"},\"y\":{\"field\":\"value\"}},\"id\":\"2959\",\"type\":\"Line\"},{\"attributes\":{\"line_alpha\":0.2,\"line_color\":\"#ff7e0e\",\"line_width\":2,\"x\":{\"field\":\"Date\"},\"y\":{\"field\":\"value\"}},\"id\":\"2961\",\"type\":\"Line\"},{\"attributes\":{\"line_alpha\":0.1,\"line_color\":\"#ff7e0e\",\"line_width\":2,\"x\":{\"field\":\"Date\"},\"y\":{\"field\":\"value\"}},\"id\":\"3510\",\"type\":\"Line\"},{\"attributes\":{},\"id\":\"3765\",\"type\":\"BasicTickFormatter\"},{\"attributes\":{\"below\":[{\"id\":\"3733\"}],\"center\":[{\"id\":\"3736\"},{\"id\":\"3740\"}],\"left\":[{\"id\":\"3737\"}],\"margin\":null,\"min_border_bottom\":10,\"min_border_left\":10,\"min_border_right\":10,\"min_border_top\":10,\"plot_height\":400,\"plot_width\":1200,\"renderers\":[{\"id\":\"3760\"}],\"sizing_mode\":\"fixed\",\"title\":{\"id\":\"3725\"},\"toolbar\":{\"id\":\"3747\"},\"x_range\":{\"id\":\"3721\"},\"x_scale\":{\"id\":\"3729\"},\"y_range\":{\"id\":\"3722\"},\"y_scale\":{\"id\":\"3731\"}},\"id\":\"3724\",\"subtype\":\"Figure\",\"type\":\"Plot\"},{\"attributes\":{},\"id\":\"2697\",\"type\":\"BasicTicker\"},{\"attributes\":{\"callback\":null,\"renderers\":[{\"id\":\"2946\"},{\"id\":\"2962\"},{\"id\":\"2979\"},{\"id\":\"2998\"},{\"id\":\"3019\"},{\"id\":\"3042\"},{\"id\":\"3067\"},{\"id\":\"3094\"}],\"tags\":[\"hv_created\"],\"tooltips\":[[\"Variable\",\"@{Variable}\"],[\"Date\",\"@{Date}\"],[\"value\",\"@{value}\"]]},\"id\":\"2897\",\"type\":\"HoverTool\"},{\"attributes\":{\"axis_label\":\"\",\"axis_label_text_font_size\":\"20pt\",\"bounds\":\"auto\",\"formatter\":{\"id\":\"2728\"},\"major_label_orientation\":\"horizontal\",\"major_label_text_font_size\":\"15pt\",\"ticker\":{\"id\":\"2701\"}},\"id\":\"2700\",\"type\":\"LinearAxis\"},{\"attributes\":{\"data_source\":{\"id\":\"3506\"},\"glyph\":{\"id\":\"3509\"},\"hover_glyph\":null,\"muted_glyph\":{\"id\":\"3511\"},\"nonselection_glyph\":{\"id\":\"3510\"},\"selection_glyph\":null,\"view\":{\"id\":\"3513\"}},\"id\":\"3512\",\"type\":\"GlyphRenderer\"},{\"attributes\":{\"axis\":{\"id\":\"2696\"},\"ticker\":{\"id\":\"2697\"}},\"id\":\"2699\",\"type\":\"Grid\"},{\"attributes\":{},\"id\":\"2774\",\"type\":\"BasicTickFormatter\"},{\"attributes\":{},\"id\":\"3649\",\"type\":\"BasicTickFormatter\"},{\"attributes\":{\"line_alpha\":0.1,\"line_color\":\"#ff7e0e\",\"line_width\":2,\"x\":{\"field\":\"Date\"},\"y\":{\"field\":\"value\"}},\"id\":\"2960\",\"type\":\"Line\"},{\"attributes\":{\"below\":[{\"id\":\"2696\"}],\"center\":[{\"id\":\"2699\"},{\"id\":\"2703\"}],\"left\":[{\"id\":\"2700\"}],\"margin\":null,\"min_border_bottom\":10,\"min_border_left\":10,\"min_border_right\":10,\"min_border_top\":10,\"plot_height\":400,\"plot_width\":1200,\"renderers\":[{\"id\":\"2723\"}],\"sizing_mode\":\"fixed\",\"title\":{\"id\":\"2688\"},\"toolbar\":{\"id\":\"2710\"},\"x_range\":{\"id\":\"2629\"},\"x_scale\":{\"id\":\"2692\"},\"y_range\":{\"id\":\"2685\"},\"y_scale\":{\"id\":\"2694\"}},\"id\":\"2687\",\"subtype\":\"Figure\",\"type\":\"Plot\"},{\"attributes\":{\"end\":2018.0,\"reset_end\":2018.0,\"reset_start\":1980.0,\"start\":1980.0,\"tags\":[[[\"Year\",\"Year\",null]]]},\"id\":\"2629\",\"type\":\"Range1d\"},{\"attributes\":{\"callback\":null,\"renderers\":[{\"id\":\"3760\"}],\"tags\":[\"hv_created\"],\"tooltips\":[[\"Oil & Gas\",\"@{Oil_ampersand_Gas}\"],[\"Alternative Energy\",\"@{Alternative_Energy}\"]]},\"id\":\"3723\",\"type\":\"HoverTool\"},{\"attributes\":{},\"id\":\"2993\",\"type\":\"Selection\"},{\"attributes\":{},\"id\":\"2637\",\"type\":\"LinearScale\"},{\"attributes\":{},\"id\":\"2694\",\"type\":\"LinearScale\"},{\"attributes\":{\"end\":21.1238,\"reset_end\":21.1238,\"reset_start\":6.9902,\"start\":6.9902,\"tags\":[[[\"Production (Alternative)\",\"Production (Alternative)\",null]]]},\"id\":\"2630\",\"type\":\"Range1d\"},{\"attributes\":{\"axis_label\":\"Year\",\"axis_label_text_font_size\":\"20pt\",\"bounds\":\"auto\",\"formatter\":{\"id\":\"2726\"},\"major_label_orientation\":\"horizontal\",\"major_label_text_font_size\":\"20pt\",\"ticker\":{\"id\":\"2697\"}},\"id\":\"2696\",\"type\":\"LinearAxis\"},{\"attributes\":{\"active_drag\":\"auto\",\"active_inspect\":\"auto\",\"active_multi\":null,\"active_scroll\":\"auto\",\"active_tap\":\"auto\",\"tools\":[{\"id\":\"2741\"},{\"id\":\"2760\"},{\"id\":\"2761\"},{\"id\":\"2762\"},{\"id\":\"2763\"},{\"id\":\"2764\"}]},\"id\":\"2766\",\"type\":\"Toolbar\"},{\"attributes\":{\"axis\":{\"id\":\"2700\"},\"dimension\":1,\"ticker\":{\"id\":\"2701\"}},\"id\":\"2703\",\"type\":\"Grid\"},{\"attributes\":{},\"id\":\"2704\",\"type\":\"SaveTool\"},{\"attributes\":{\"below\":[{\"id\":\"2641\"}],\"center\":[{\"id\":\"2644\"},{\"id\":\"2648\"}],\"left\":[{\"id\":\"2645\"}],\"margin\":null,\"min_border_bottom\":10,\"min_border_left\":10,\"min_border_right\":10,\"min_border_top\":10,\"plot_height\":400,\"plot_width\":1200,\"renderers\":[{\"id\":\"2668\"}],\"sizing_mode\":\"fixed\",\"title\":{\"id\":\"2633\"},\"toolbar\":{\"id\":\"2655\"},\"x_range\":{\"id\":\"2629\"},\"x_scale\":{\"id\":\"2637\"},\"y_range\":{\"id\":\"2630\"},\"y_scale\":{\"id\":\"2639\"}},\"id\":\"2632\",\"subtype\":\"Figure\",\"type\":\"Plot\"},{\"attributes\":{},\"id\":\"3520\",\"type\":\"UnionRenderers\"},{\"attributes\":{},\"id\":\"2642\",\"type\":\"BasicTicker\"},{\"attributes\":{\"text\":\"Correlation between Oil Portfolio and Alternative Energy Portfolio Returns\",\"text_color\":{\"value\":\"black\"},\"text_font_size\":{\"value\":\"20pt\"}},\"id\":\"3725\",\"type\":\"Title\"},{\"attributes\":{},\"id\":\"2705\",\"type\":\"PanTool\"},{\"attributes\":{\"axis_label\":\"\",\"axis_label_text_font_size\":\"20pt\",\"bounds\":\"auto\",\"formatter\":{\"id\":\"2673\"},\"major_label_orientation\":\"horizontal\",\"major_label_text_font_size\":\"15pt\",\"ticker\":{\"id\":\"2646\"}},\"id\":\"2645\",\"type\":\"LinearAxis\"},{\"attributes\":{\"children\":[{\"id\":\"3719\"},{\"id\":\"3720\"}],\"margin\":[0,0,0,0],\"name\":\"Column06269\"},\"id\":\"3718\",\"type\":\"Column\"},{\"attributes\":{\"axis\":{\"id\":\"2641\"},\"ticker\":{\"id\":\"2642\"}},\"id\":\"2644\",\"type\":\"Grid\"},{\"attributes\":{\"line_alpha\":0.1,\"line_color\":\"#ff7e0e\",\"line_width\":2,\"x\":{\"field\":\"Date\"},\"y\":{\"field\":\"value\"}},\"id\":\"3352\",\"type\":\"Line\"},{\"attributes\":{\"data\":{\"Production (Alternative)\":{\"__ndarray__\":\"vHSTGARWIEBkO99PjdcgQEa28/3UOCJATDeJQWBlI0B7FK5H4fojQFK4HoXrUSRACKwcWmT7JECNl24Sg8AkQEoMAiuHFiZABoGVQ4usJ0B9PzVeukkoQHsUrkfh+ihAmpmZmZmZKECWQ4ts5/soQOkmMQisXClAarx0kxhEK0AYBFYOLTIsQO58PzVeOitArBxaZDsfK0CNl24Sg0AsQCGwcmiR7StAbhKDwMphKkCNl24Sg8ArQOj7qfHSzStAUrgeheuRLEDdJAaBlcMsQCYxCKwcmi1A5KWbxCDwLUAj2/l+ajwvQPYoXI/C9S9Ac2iR7Xy/MEDEILByaJExQKabxCCw8jBAtvP91HipMUC0yHa+nxoyQDeJQWDlEDJAmpmZmZnZMkA9CtejcJ0zQBgEVg4t8jNA\",\"dtype\":\"float64\",\"shape\":[39]},\"Production_left_parenthesis_Alternative_right_parenthesis\":{\"__ndarray__\":\"vHSTGARWIEBkO99PjdcgQEa28/3UOCJATDeJQWBlI0B7FK5H4fojQFK4HoXrUSRACKwcWmT7JECNl24Sg8AkQEoMAiuHFiZABoGVQ4usJ0B9PzVeukkoQHsUrkfh+ihAmpmZmZmZKECWQ4ts5/soQOkmMQisXClAarx0kxhEK0AYBFYOLTIsQO58PzVeOitArBxaZDsfK0CNl24Sg0AsQCGwcmiR7StAbhKDwMphKkCNl24Sg8ArQOj7qfHSzStAUrgeheuRLEDdJAaBlcMsQCYxCKwcmi1A5KWbxCDwLUAj2/l+ajwvQPYoXI/C9S9Ac2iR7Xy/MEDEILByaJExQKabxCCw8jBAtvP91HipMUC0yHa+nxoyQDeJQWDlEDJAmpmZmZnZMkA9CtejcJ0zQBgEVg4t8jNA\",\"dtype\":\"float64\",\"shape\":[39]},\"Year\":[1980,1981,1982,1983,1984,1985,1986,1987,1988,1989,1990,1991,1992,1993,1994,1995,1996,1997,1998,1999,2000,2001,2002,2003,2004,2005,2006,2007,2008,2009,2010,2011,2012,2013,2014,2015,2016,2017,2018]},\"selected\":{\"id\":\"2663\"},\"selection_policy\":{\"id\":\"2682\"}},\"id\":\"2662\",\"type\":\"ColumnDataSource\"},{\"attributes\":{},\"id\":\"2706\",\"type\":\"WheelZoomTool\"},{\"attributes\":{},\"id\":\"2639\",\"type\":\"LinearScale\"},{\"attributes\":{\"overlay\":{\"id\":\"2709\"}},\"id\":\"2707\",\"type\":\"BoxZoomTool\"},{\"attributes\":{\"axis_label\":\"Year\",\"axis_label_text_font_size\":\"20pt\",\"bounds\":\"auto\",\"formatter\":{\"id\":\"2671\"},\"major_label_orientation\":\"horizontal\",\"major_label_text_font_size\":\"20pt\",\"ticker\":{\"id\":\"2642\"}},\"id\":\"2641\",\"type\":\"LinearAxis\"},{\"attributes\":{},\"id\":\"3707\",\"type\":\"BasicTickFormatter\"},{\"attributes\":{},\"id\":\"2708\",\"type\":\"ResetTool\"},{\"attributes\":{\"below\":[{\"id\":\"2914\"}],\"center\":[{\"id\":\"2916\"},{\"id\":\"2920\"}],\"left\":[{\"id\":\"2917\"}],\"margin\":null,\"min_border_bottom\":10,\"min_border_left\":10,\"min_border_right\":10,\"min_border_top\":10,\"plot_height\":400,\"plot_width\":1200,\"renderers\":[{\"id\":\"2946\"},{\"id\":\"2962\"},{\"id\":\"2979\"},{\"id\":\"2998\"},{\"id\":\"3019\"},{\"id\":\"3042\"},{\"id\":\"3067\"},{\"id\":\"3094\"}],\"right\":[{\"id\":\"2954\"}],\"sizing_mode\":\"fixed\",\"title\":{\"id\":\"2906\"},\"toolbar\":{\"id\":\"2927\"},\"x_range\":{\"id\":\"2895\"},\"x_scale\":{\"id\":\"2910\"},\"y_range\":{\"id\":\"2740\"},\"y_scale\":{\"id\":\"2912\"}},\"id\":\"2905\",\"subtype\":\"Figure\",\"type\":\"Plot\"},{\"attributes\":{\"axis\":{\"id\":\"2645\"},\"dimension\":1,\"ticker\":{\"id\":\"2646\"}},\"id\":\"2648\",\"type\":\"Grid\"},{\"attributes\":{\"active_drag\":\"auto\",\"active_inspect\":\"auto\",\"active_multi\":null,\"active_scroll\":\"auto\",\"active_tap\":\"auto\",\"tools\":[{\"id\":\"2686\"},{\"id\":\"2704\"},{\"id\":\"2705\"},{\"id\":\"2706\"},{\"id\":\"2707\"},{\"id\":\"2708\"}]},\"id\":\"2710\",\"type\":\"Toolbar\"},{\"attributes\":{},\"id\":\"2649\",\"type\":\"SaveTool\"},{\"attributes\":{},\"id\":\"3705\",\"type\":\"BasicTickFormatter\"},{\"attributes\":{\"data_source\":{\"id\":\"2779\"},\"glyph\":{\"id\":\"2782\"},\"hover_glyph\":null,\"muted_glyph\":{\"id\":\"2784\"},\"nonselection_glyph\":{\"id\":\"2783\"},\"selection_glyph\":null,\"view\":{\"id\":\"2786\"}},\"id\":\"2785\",\"type\":\"GlyphRenderer\"},{\"attributes\":{\"factors\":[\"1999\",\"2000\",\"2001\",\"2002\",\"2003\",\"2004\",\"2005\",\"2006\",\"2007\",\"2008\",\"2009\",\"2010\",\"2011\",\"2012\",\"2013\",\"2014\",\"2015\",\"2016\",\"2017\",\"2018\",\"2019\",\"2020\"],\"tags\":[[[\"Date\",\"Date\",null]]]},\"id\":\"2895\",\"type\":\"FactorRange\"},{\"attributes\":{\"margin\":[0,0,0,0],\"name\":\"Column06141\"},\"id\":\"3604\",\"type\":\"Column\"},{\"attributes\":{},\"id\":\"2650\",\"type\":\"PanTool\"},{\"attributes\":{},\"id\":\"3716\",\"type\":\"UnionRenderers\"},{\"attributes\":{},\"id\":\"2780\",\"type\":\"Selection\"},{\"attributes\":{},\"id\":\"2776\",\"type\":\"BasicTickFormatter\"},{\"attributes\":{},\"id\":\"2651\",\"type\":\"WheelZoomTool\"},{\"attributes\":{\"click_policy\":\"mute\",\"items\":[{\"id\":\"2794\"},{\"id\":\"2811\"}],\"location\":[0,0],\"title\":\"Variable\"},\"id\":\"2793\",\"type\":\"Legend\"},{\"attributes\":{\"css_classes\":[\"markdown\"],\"margin\":[5,5,5,5],\"name\":\"Markdown06261\",\"text\":\"&lt;h2&gt;Correlations&lt;/h2&gt;\"},\"id\":\"3662\",\"type\":\"panel.models.markup.HTML\"},{\"attributes\":{\"line_alpha\":0.1,\"line_color\":\"#1f77b3\",\"line_width\":2,\"x\":{\"field\":\"Year\"},\"y\":{\"field\":\"value\"}},\"id\":\"2783\",\"type\":\"Line\"},{\"attributes\":{\"overlay\":{\"id\":\"2654\"}},\"id\":\"2652\",\"type\":\"BoxZoomTool\"},{\"attributes\":{\"margin\":[0,0,0,0],\"name\":\"Column06394\"},\"id\":\"3719\",\"type\":\"Column\"},{\"attributes\":{},\"id\":\"2653\",\"type\":\"ResetTool\"},{\"attributes\":{\"line_alpha\":0.2,\"line_color\":\"#1f77b3\",\"line_width\":2,\"x\":{\"field\":\"Year\"},\"y\":{\"field\":\"value\"}},\"id\":\"2784\",\"type\":\"Line\"},{\"attributes\":{\"active_drag\":\"auto\",\"active_inspect\":\"auto\",\"active_multi\":null,\"active_scroll\":\"auto\",\"active_tap\":\"auto\",\"tools\":[{\"id\":\"2631\"},{\"id\":\"2649\"},{\"id\":\"2650\"},{\"id\":\"2651\"},{\"id\":\"2652\"},{\"id\":\"2653\"}]},\"id\":\"2655\",\"type\":\"Toolbar\"},{\"attributes\":{\"data_source\":{\"id\":\"3696\"},\"glyph\":{\"id\":\"3699\"},\"hover_glyph\":null,\"muted_glyph\":{\"id\":\"3701\"},\"nonselection_glyph\":{\"id\":\"3700\"},\"selection_glyph\":null,\"view\":{\"id\":\"3703\"}},\"id\":\"3702\",\"type\":\"GlyphRenderer\"},{\"attributes\":{\"label\":{\"value\":\"Production (Oil)\"},\"renderers\":[{\"id\":\"2785\"}]},\"id\":\"2794\",\"type\":\"LegendItem\"},{\"attributes\":{\"source\":{\"id\":\"3696\"}},\"id\":\"3703\",\"type\":\"CDSView\"},{\"attributes\":{},\"id\":\"3531\",\"type\":\"UnionRenderers\"},{\"attributes\":{\"line_color\":\"#1f77b3\",\"line_width\":2,\"x\":{\"field\":\"Year\"},\"y\":{\"field\":\"value\"}},\"id\":\"2782\",\"type\":\"Line\"},{\"attributes\":{\"bottom_units\":\"screen\",\"fill_alpha\":0.5,\"fill_color\":\"lightgrey\",\"left_units\":\"screen\",\"level\":\"overlay\",\"line_alpha\":1.0,\"line_color\":\"black\",\"line_dash\":[4,4],\"line_width\":2,\"render_mode\":\"css\",\"right_units\":\"screen\",\"top_units\":\"screen\"},\"id\":\"2709\",\"type\":\"BoxAnnotation\"},{\"attributes\":{\"fill_alpha\":{\"value\":0.2},\"fill_color\":{\"value\":\"#1f77b3\"},\"line_alpha\":{\"value\":0.2},\"line_color\":{\"value\":\"#1f77b3\"},\"size\":{\"units\":\"screen\",\"value\":5.477225575051661},\"x\":{\"field\":\"Production (Alternative)\"},\"y\":{\"field\":\"Production (Oil)\"}},\"id\":\"3701\",\"type\":\"Scatter\"},{\"attributes\":{\"source\":{\"id\":\"2779\"}},\"id\":\"2786\",\"type\":\"CDSView\"},{\"attributes\":{},\"id\":\"3774\",\"type\":\"UnionRenderers\"},{\"attributes\":{\"data\":{\"Variable\":[\"Production (Alternative)\",\"Production (Alternative)\",\"Production (Alternative)\",\"Production (Alternative)\",\"Production (Alternative)\",\"Production (Alternative)\",\"Production (Alternative)\",\"Production (Alternative)\",\"Production (Alternative)\",\"Production (Alternative)\",\"Production (Alternative)\",\"Production (Alternative)\",\"Production (Alternative)\",\"Production (Alternative)\",\"Production (Alternative)\",\"Production (Alternative)\",\"Production (Alternative)\",\"Production (Alternative)\",\"Production (Alternative)\",\"Production (Alternative)\",\"Production (Alternative)\",\"Production (Alternative)\",\"Production (Alternative)\",\"Production (Alternative)\",\"Production (Alternative)\",\"Production (Alternative)\",\"Production (Alternative)\",\"Production (Alternative)\",\"Production (Alternative)\",\"Production (Alternative)\",\"Production (Alternative)\",\"Production (Alternative)\",\"Production (Alternative)\",\"Production (Alternative)\",\"Production (Alternative)\",\"Production (Alternative)\",\"Production (Alternative)\",\"Production (Alternative)\",\"Production (Alternative)\"],\"Year\":[1980,1981,1982,1983,1984,1985,1986,1987,1988,1989,1990,1991,1992,1993,1994,1995,1996,1997,1998,1999,2000,2001,2002,2003,2004,2005,2006,2007,2008,2009,2010,2011,2012,2013,2014,2015,2016,2017,2018],\"value\":{\"__ndarray__\":\"vHSTGARWIEBkO99PjdcgQEa28/3UOCJATDeJQWBlI0B7FK5H4fojQFK4HoXrUSRACKwcWmT7JECNl24Sg8AkQEoMAiuHFiZABoGVQ4usJ0B9PzVeukkoQHsUrkfh+ihAmpmZmZmZKECWQ4ts5/soQOkmMQisXClAarx0kxhEK0AYBFYOLTIsQO58PzVeOitArBxaZDsfK0CNl24Sg0AsQCGwcmiR7StAbhKDwMphKkCNl24Sg8ArQOj7qfHSzStAUrgeheuRLEDdJAaBlcMsQCYxCKwcmi1A5KWbxCDwLUAj2/l+ajwvQPYoXI/C9S9Ac2iR7Xy/MEDEILByaJExQKabxCCw8jBAtvP91HipMUC0yHa+nxoyQDeJQWDlEDJAmpmZmZnZMkA9CtejcJ0zQBgEVg4t8jNA\",\"dtype\":\"float64\",\"shape\":[39]}},\"selected\":{\"id\":\"2796\"},\"selection_policy\":{\"id\":\"2820\"}},\"id\":\"2795\",\"type\":\"ColumnDataSource\"},{\"attributes\":{\"active_drag\":\"auto\",\"active_inspect\":\"auto\",\"active_multi\":null,\"active_scroll\":\"auto\",\"active_tap\":\"auto\",\"tools\":[{\"id\":\"2897\"},{\"id\":\"2921\"},{\"id\":\"2922\"},{\"id\":\"2923\"},{\"id\":\"2924\"},{\"id\":\"2925\"}]},\"id\":\"2927\",\"type\":\"Toolbar\"},{\"attributes\":{\"line_color\":\"#1f77b3\",\"line_width\":2,\"x\":{\"field\":\"Date\"},\"y\":{\"field\":\"value\"}},\"id\":\"2943\",\"type\":\"Line\"},{\"attributes\":{\"line_alpha\":0.2,\"line_color\":\"#1f77b3\",\"line_width\":2,\"x\":{\"field\":\"Date\"},\"y\":{\"field\":\"value\"}},\"id\":\"2945\",\"type\":\"Line\"},{\"attributes\":{\"data\":{\"Date\":[\"1999\",\"2000\",\"2001\",\"2002\",\"2003\",\"2004\",\"2005\",\"2006\",\"2007\",\"2008\",\"2009\",\"2010\",\"2011\",\"2012\",\"2013\",\"2014\",\"2015\",\"2016\",\"2017\",\"2018\",\"2019\",\"2020\"],\"Variable\":[\"BP\",\"BP\",\"BP\",\"BP\",\"BP\",\"BP\",\"BP\",\"BP\",\"BP\",\"BP\",\"BP\",\"BP\",\"BP\",\"BP\",\"BP\",\"BP\",\"BP\",\"BP\",\"BP\",\"BP\",\"BP\",\"BP\"],\"value\":{\"__ndarray__\":\"AAAAoELlNUAAAACAHyYyQAAAAADRIjJAAAAA4FNnMEAAAACAJ7s0QAAAAIDwUzlAAAAAQB7EPEAAAADAUw4/QAAAAGDAkUFAAAAA4DW5N0AAAADgpoM/QAAAACDPYDhAAAAAIGCAOEAAAADAgQA5QAAAAIBwrz5AAAAAgKdLOUAAAADAAA82QAAAAGCncTxAAAAAoBEUQUAAAACAQ0xAQAAAACCHP0FAAAAA4PE+NEA=\",\"dtype\":\"float64\",\"shape\":[22]}},\"selected\":{\"id\":\"3014\"},\"selection_policy\":{\"id\":\"3058\"}},\"id\":\"3013\",\"type\":\"ColumnDataSource\"},{\"attributes\":{\"source\":{\"id\":\"2940\"}},\"id\":\"2947\",\"type\":\"CDSView\"},{\"attributes\":{\"data\":{\"Date\":[\"1999\",\"2000\",\"2001\",\"2002\",\"2003\",\"2004\",\"2005\",\"2006\",\"2007\",\"2008\",\"2009\",\"2010\",\"2011\",\"2012\",\"2013\",\"2014\",\"2015\",\"2016\",\"2017\",\"2018\",\"2019\",\"2020\"],\"Variable\":[\"BLX\",\"BLX\",\"BLX\",\"BLX\",\"BLX\",\"BLX\",\"BLX\",\"BLX\",\"BLX\",\"BLX\",\"BLX\",\"BLX\",\"BLX\",\"BLX\",\"BLX\",\"BLX\",\"BLX\",\"BLX\",\"BLX\",\"BLX\",\"BLX\",\"BLX\"],\"value\":{\"__ndarray__\":\"AAAAgAz2HEAAAABAWDMmQAAAAACyFSNAAAAAgBTE+D8AAACg4ioaQAAAAEBThh1AAAAA4MB6HkAAAABASFIfQAAAAMCunB9AAAAAgD+7HUAAAADgWXweQAAAAMD+JCVAAAAAIGtCI0AAAACAjT0rQAAAACDnmDJAAAAAwAE9NUAAAABAt8cyQAAAAIAdRTZAAAAAAAiDNUAAAACAOIwtQAAAACBSqDNAAAAAwPWoL0A=\",\"dtype\":\"float64\",\"shape\":[22]}},\"selected\":{\"id\":\"2941\"},\"selection_policy\":{\"id\":\"2970\"}},\"id\":\"2940\",\"type\":\"ColumnDataSource\"},{\"attributes\":{\"line_color\":\"#e277c1\",\"line_width\":2,\"x\":{\"field\":\"Date\"},\"y\":{\"field\":\"value\"}},\"id\":\"3064\",\"type\":\"Line\"},{\"attributes\":{\"data\":{\"Date\":[\"1999\",\"2000\",\"2001\",\"2002\",\"2003\",\"2004\",\"2005\",\"2006\",\"2007\",\"2008\",\"2009\",\"2010\",\"2011\",\"2012\",\"2013\",\"2014\",\"2015\",\"2016\",\"2017\",\"2018\",\"2019\",\"2020\"],\"Variable\":[\"CIG\",\"CIG\",\"CIG\",\"CIG\",\"CIG\",\"CIG\",\"CIG\",\"CIG\",\"CIG\",\"CIG\",\"CIG\",\"CIG\",\"CIG\",\"CIG\",\"CIG\",\"CIG\",\"CIG\",\"CIG\",\"CIG\",\"CIG\",\"CIG\",\"CIG\"],\"value\":{\"__ndarray__\":\"AAAAYMbE6T8AAACA57/gPwAAAIBSmOA/AAAAYPKA0T8AAADAEG3mPwAAAEAE5u8/AAAAAH3J+D8AAACgHKoAQAAAAADukQRAAAAAwCMQAEAAAACAzo0LQAAAAEDstAtAAAAAoFNKEEAAAAAAznYOQAAAAKBK3wpAAAAAQPY2C0AAAABA7zXxPwAAAKCriP0/AAAAoLmb+z8AAADgjsEJQAAAAGA2dglAAAAAYP2ZBkA=\",\"dtype\":\"float64\",\"shape\":[22]}},\"selected\":{\"id\":\"2957\"},\"selection_policy\":{\"id\":\"2989\"}},\"id\":\"2956\",\"type\":\"ColumnDataSource\"},{\"attributes\":{\"below\":[{\"id\":\"3675\"}],\"center\":[{\"id\":\"3678\"},{\"id\":\"3682\"}],\"left\":[{\"id\":\"3679\"}],\"margin\":null,\"min_border_bottom\":10,\"min_border_left\":10,\"min_border_right\":10,\"min_border_top\":10,\"plot_height\":400,\"plot_width\":1200,\"renderers\":[{\"id\":\"3702\"}],\"sizing_mode\":\"fixed\",\"title\":{\"id\":\"3667\"},\"toolbar\":{\"id\":\"3689\"},\"x_range\":{\"id\":\"2630\"},\"x_scale\":{\"id\":\"3671\"},\"y_range\":{\"id\":\"2685\"},\"y_scale\":{\"id\":\"3673\"}},\"id\":\"3666\",\"subtype\":\"Figure\",\"type\":\"Plot\"},{\"attributes\":{\"line_alpha\":0.2,\"line_color\":\"#e277c1\",\"line_width\":2,\"x\":{\"field\":\"Date\"},\"y\":{\"field\":\"value\"}},\"id\":\"3066\",\"type\":\"Line\"},{\"attributes\":{},\"id\":\"2937\",\"type\":\"BasicTickFormatter\"},{\"attributes\":{\"label\":{\"value\":\"RDS-B\"},\"renderers\":[{\"id\":\"3067\"}]},\"id\":\"3087\",\"type\":\"LegendItem\"},{\"attributes\":{\"label\":{\"value\":\"BLX\"},\"renderers\":[{\"id\":\"2946\"}]},\"id\":\"2955\",\"type\":\"LegendItem\"},{\"attributes\":{\"line_alpha\":0.1,\"line_color\":\"#1f77b3\",\"line_width\":2,\"x\":{\"field\":\"Date\"},\"y\":{\"field\":\"value\"}},\"id\":\"2944\",\"type\":\"Line\"},{\"attributes\":{\"source\":{\"id\":\"3061\"}},\"id\":\"3068\",\"type\":\"CDSView\"},{\"attributes\":{\"data_source\":{\"id\":\"2992\"},\"glyph\":{\"id\":\"2995\"},\"hover_glyph\":null,\"muted_glyph\":{\"id\":\"2997\"},\"nonselection_glyph\":{\"id\":\"2996\"},\"selection_glyph\":null,\"view\":{\"id\":\"2999\"}},\"id\":\"2998\",\"type\":\"GlyphRenderer\"},{\"attributes\":{},\"id\":\"3062\",\"type\":\"Selection\"},{\"attributes\":{},\"id\":\"2941\",\"type\":\"Selection\"},{\"attributes\":{},\"id\":\"3114\",\"type\":\"UnionRenderers\"},{\"attributes\":{\"line_alpha\":0.1,\"line_color\":\"#e277c1\",\"line_width\":2,\"x\":{\"field\":\"Date\"},\"y\":{\"field\":\"value\"}},\"id\":\"3065\",\"type\":\"Line\"},{\"attributes\":{\"factors\":[\"2000\",\"2001\",\"2002\",\"2003\",\"2004\",\"2005\",\"2006\",\"2007\",\"2008\",\"2009\",\"2010\",\"2011\",\"2012\",\"2013\",\"2014\",\"2015\",\"2016\",\"2017\",\"2018\",\"2019\",\"2020\"],\"tags\":[[[\"Date\",\"Date\",null]]]},\"id\":\"3293\",\"type\":\"FactorRange\"},{\"attributes\":{\"data_source\":{\"id\":\"3061\"},\"glyph\":{\"id\":\"3064\"},\"hover_glyph\":null,\"muted_glyph\":{\"id\":\"3066\"},\"nonselection_glyph\":{\"id\":\"3065\"},\"selection_glyph\":null,\"view\":{\"id\":\"3068\"}},\"id\":\"3067\",\"type\":\"GlyphRenderer\"},{\"attributes\":{},\"id\":\"3680\",\"type\":\"BasicTicker\"},{\"attributes\":{\"callback\":null,\"renderers\":[{\"id\":\"3702\"}],\"tags\":[\"hv_created\"],\"tooltips\":[[\"Production (Alternative)\",\"@{Production_left_parenthesis_Alternative_right_parenthesis}\"],[\"Production (Oil)\",\"@{Production_left_parenthesis_Oil_right_parenthesis}\"]]},\"id\":\"3665\",\"type\":\"HoverTool\"},{\"attributes\":{\"child\":{\"id\":\"3661\"},\"name\":\"Column06397\",\"title\":\"Correlations\"},\"id\":\"3778\",\"type\":\"Panel\"},{\"attributes\":{},\"id\":\"2718\",\"type\":\"Selection\"},{\"attributes\":{},\"id\":\"3491\",\"type\":\"Selection\"},{\"attributes\":{\"data_source\":{\"id\":\"2717\"},\"glyph\":{\"id\":\"2720\"},\"hover_glyph\":null,\"muted_glyph\":{\"id\":\"2722\"},\"nonselection_glyph\":{\"id\":\"2721\"},\"selection_glyph\":null,\"view\":{\"id\":\"2724\"}},\"id\":\"2723\",\"type\":\"GlyphRenderer\"},{\"attributes\":{\"axis_label\":\"Production (Oil)\",\"axis_label_text_font_size\":\"20pt\",\"bounds\":\"auto\",\"formatter\":{\"id\":\"3707\"},\"major_label_orientation\":\"horizontal\",\"major_label_text_font_size\":\"15pt\",\"ticker\":{\"id\":\"3680\"}},\"id\":\"3679\",\"type\":\"LinearAxis\"},{\"attributes\":{\"text\":\"Correlation between Energy Production from Alternatives vs. Oil\",\"text_color\":{\"value\":\"black\"},\"text_font_size\":{\"value\":\"20pt\"}},\"id\":\"3667\",\"type\":\"Title\"},{\"attributes\":{\"line_color\":\"#1f77b3\",\"line_width\":2,\"x\":{\"field\":\"Year\"},\"y\":{\"field\":\"Production (Oil)\"}},\"id\":\"2720\",\"type\":\"Line\"},{\"attributes\":{},\"id\":\"3085\",\"type\":\"UnionRenderers\"},{\"attributes\":{},\"id\":\"3676\",\"type\":\"BasicTicker\"},{\"attributes\":{\"data_source\":{\"id\":\"2940\"},\"glyph\":{\"id\":\"2943\"},\"hover_glyph\":null,\"muted_glyph\":{\"id\":\"2945\"},\"nonselection_glyph\":{\"id\":\"2944\"},\"selection_glyph\":null,\"view\":{\"id\":\"2947\"}},\"id\":\"2946\",\"type\":\"GlyphRenderer\"},{\"attributes\":{\"axis\":{\"id\":\"3675\"},\"ticker\":{\"id\":\"3676\"}},\"id\":\"3678\",\"type\":\"Grid\"},{\"attributes\":{\"line_alpha\":0.1,\"line_color\":\"#1f77b3\",\"line_width\":2,\"x\":{\"field\":\"Date\"},\"y\":{\"field\":\"value\"}},\"id\":\"3494\",\"type\":\"Line\"},{\"attributes\":{},\"id\":\"3671\",\"type\":\"LinearScale\"},{\"attributes\":{\"line_alpha\":0.1,\"line_color\":\"#1f77b3\",\"line_width\":2,\"x\":{\"field\":\"Year\"},\"y\":{\"field\":\"Production (Oil)\"}},\"id\":\"2721\",\"type\":\"Line\"},{\"attributes\":{},\"id\":\"3673\",\"type\":\"LinearScale\"},{\"attributes\":{\"text\":\"Annual Energy Production 1980 to 2018\",\"text_color\":{\"value\":\"black\"},\"text_font_size\":{\"value\":\"20pt\"}},\"id\":\"2744\",\"type\":\"Title\"},{\"attributes\":{\"axis_label\":\"Production (Alternative)\",\"axis_label_text_font_size\":\"20pt\",\"bounds\":\"auto\",\"formatter\":{\"id\":\"3705\"},\"major_label_orientation\":\"horizontal\",\"major_label_text_font_size\":\"20pt\",\"ticker\":{\"id\":\"3676\"}},\"id\":\"3675\",\"type\":\"LinearAxis\"},{\"attributes\":{\"line_alpha\":0.2,\"line_color\":\"#1f77b3\",\"line_width\":2,\"x\":{\"field\":\"Year\"},\"y\":{\"field\":\"Production (Oil)\"}},\"id\":\"2722\",\"type\":\"Line\"},{\"attributes\":{},\"id\":\"3475\",\"type\":\"ResetTool\"},{\"attributes\":{\"axis\":{\"id\":\"3679\"},\"dimension\":1,\"ticker\":{\"id\":\"3680\"}},\"id\":\"3682\",\"type\":\"Grid\"},{\"attributes\":{\"source\":{\"id\":\"2717\"}},\"id\":\"2724\",\"type\":\"CDSView\"},{\"attributes\":{},\"id\":\"3683\",\"type\":\"SaveTool\"},{\"attributes\":{\"label\":{\"value\":\"Alternative Energy\"},\"renderers\":[{\"id\":\"3496\"}]},\"id\":\"3505\",\"type\":\"LegendItem\"},{\"attributes\":{},\"id\":\"3684\",\"type\":\"PanTool\"},{\"attributes\":{\"click_policy\":\"mute\",\"items\":[{\"id\":\"3505\"},{\"id\":\"3522\"}],\"label_text_font_size\":\"20pt\",\"location\":[0,0],\"orientation\":\"horizontal\",\"title\":\"Variable\"},\"id\":\"3504\",\"type\":\"Legend\"},{\"attributes\":{\"line_color\":\"#1f77b3\",\"line_width\":2,\"x\":{\"field\":\"Date\"},\"y\":{\"field\":\"value\"}},\"id\":\"3493\",\"type\":\"Line\"},{\"attributes\":{},\"id\":\"3685\",\"type\":\"WheelZoomTool\"},{\"attributes\":{\"line_alpha\":0.2,\"line_color\":\"#7e7e7e\",\"line_width\":2,\"x\":{\"field\":\"Date\"},\"y\":{\"field\":\"value\"}},\"id\":\"3093\",\"type\":\"Line\"},{\"attributes\":{\"line_alpha\":0.2,\"line_color\":\"#1f77b3\",\"line_width\":2,\"x\":{\"field\":\"Date\"},\"y\":{\"field\":\"value\"}},\"id\":\"3495\",\"type\":\"Line\"},{\"attributes\":{\"line_color\":\"#7e7e7e\",\"line_width\":2,\"x\":{\"field\":\"Date\"},\"y\":{\"field\":\"value\"}},\"id\":\"3091\",\"type\":\"Line\"},{\"attributes\":{\"data_source\":{\"id\":\"3490\"},\"glyph\":{\"id\":\"3493\"},\"hover_glyph\":null,\"muted_glyph\":{\"id\":\"3495\"},\"nonselection_glyph\":{\"id\":\"3494\"},\"selection_glyph\":null,\"view\":{\"id\":\"3497\"}},\"id\":\"3496\",\"type\":\"GlyphRenderer\"},{\"attributes\":{},\"id\":\"2726\",\"type\":\"BasicTickFormatter\"},{\"attributes\":{\"overlay\":{\"id\":\"3688\"}},\"id\":\"3686\",\"type\":\"BoxZoomTool\"},{\"attributes\":{\"source\":{\"id\":\"3490\"}},\"id\":\"3497\",\"type\":\"CDSView\"},{\"attributes\":{},\"id\":\"3687\",\"type\":\"ResetTool\"},{\"attributes\":{\"bottom_units\":\"screen\",\"fill_alpha\":0.5,\"fill_color\":\"lightgrey\",\"left_units\":\"screen\",\"level\":\"overlay\",\"line_alpha\":1.0,\"line_color\":\"black\",\"line_dash\":[4,4],\"line_width\":2,\"render_mode\":\"css\",\"right_units\":\"screen\",\"top_units\":\"screen\"},\"id\":\"3476\",\"type\":\"BoxAnnotation\"},{\"attributes\":{\"label\":{\"value\":\"XOM\"},\"renderers\":[{\"id\":\"3094\"}]},\"id\":\"3116\",\"type\":\"LegendItem\"},{\"attributes\":{\"data\":{\"Date\":[\"2004\",\"2005\",\"2006\",\"2007\",\"2008\",\"2009\",\"2010\",\"2011\",\"2012\",\"2013\",\"2014\",\"2015\",\"2016\",\"2017\",\"2018\",\"2019\",\"2020\"],\"Variable\":[\"Oil & Gas\",\"Oil & Gas\",\"Oil & Gas\",\"Oil & Gas\",\"Oil & Gas\",\"Oil & Gas\",\"Oil & Gas\",\"Oil & Gas\",\"Oil & Gas\",\"Oil & Gas\",\"Oil & Gas\",\"Oil & Gas\",\"Oil & Gas\",\"Oil & Gas\",\"Oil & Gas\",\"Oil & Gas\",\"Oil & Gas\"],\"value\":{\"__ndarray__\":\"jN4rHx+zMEAZK95uST4wQMuegLqy3i5AsnE5APOsFECmdOIQbcs0QEvzUm28tzNAI3ZngvefM0DRQLzEWTgyQPfw8Qyh5C9Ak4gLXgfEGEADW8Fz7zIlQFLFhdaajC5AqwXDPkqKM0DAl1yoS8UzQLY3cv3TrDNAp8yZgHzwMkAOQUG8E285QA==\",\"dtype\":\"float64\",\"shape\":[17]}},\"selected\":{\"id\":\"3507\"},\"selection_policy\":{\"id\":\"3531\"}},\"id\":\"3506\",\"type\":\"ColumnDataSource\"},{\"attributes\":{\"source\":{\"id\":\"3088\"}},\"id\":\"3095\",\"type\":\"CDSView\"},{\"attributes\":{},\"id\":\"2728\",\"type\":\"BasicTickFormatter\"},{\"attributes\":{\"line_alpha\":0.1,\"line_color\":\"#7e7e7e\",\"line_width\":2,\"x\":{\"field\":\"Date\"},\"y\":{\"field\":\"value\"}},\"id\":\"3092\",\"type\":\"Line\"},{\"attributes\":{\"bottom_units\":\"screen\",\"fill_alpha\":0.5,\"fill_color\":\"lightgrey\",\"left_units\":\"screen\",\"level\":\"overlay\",\"line_alpha\":1.0,\"line_color\":\"black\",\"line_dash\":[4,4],\"line_width\":2,\"render_mode\":\"css\",\"right_units\":\"screen\",\"top_units\":\"screen\"},\"id\":\"3688\",\"type\":\"BoxAnnotation\"},{\"attributes\":{},\"id\":\"2737\",\"type\":\"UnionRenderers\"},{\"attributes\":{\"active_drag\":\"auto\",\"active_inspect\":\"auto\",\"active_multi\":null,\"active_scroll\":\"auto\",\"active_tap\":\"auto\",\"tools\":[{\"id\":\"3453\"},{\"id\":\"3471\"},{\"id\":\"3472\"},{\"id\":\"3473\"},{\"id\":\"3474\"},{\"id\":\"3475\"}]},\"id\":\"3477\",\"type\":\"Toolbar\"},{\"attributes\":{},\"id\":\"2748\",\"type\":\"LinearScale\"},{\"attributes\":{\"callback\":null,\"renderers\":[{\"id\":\"2785\"},{\"id\":\"2801\"}],\"tags\":[\"hv_created\"],\"tooltips\":[[\"Variable\",\"@{Variable}\"],[\"Year\",\"@{Year}\"],[\"value\",\"@{value}\"]]},\"id\":\"2741\",\"type\":\"HoverTool\"},{\"attributes\":{},\"id\":\"3484\",\"type\":\"CategoricalTickFormatter\"},{\"attributes\":{\"end\":30.601399999999998,\"reset_end\":30.601399999999998,\"reset_start\":6.128599999999999,\"start\":6.128599999999999,\"tags\":[[[\"value\",\"value\",null]]]},\"id\":\"2740\",\"type\":\"Range1d\"},{\"attributes\":{},\"id\":\"3137\",\"type\":\"UnionRenderers\"},{\"attributes\":{\"data\":{\"Variable\":[\"Production (Oil)\",\"Production (Oil)\",\"Production (Oil)\",\"Production (Oil)\",\"Production (Oil)\",\"Production (Oil)\",\"Production (Oil)\",\"Production (Oil)\",\"Production (Oil)\",\"Production (Oil)\",\"Production (Oil)\",\"Production (Oil)\",\"Production (Oil)\",\"Production (Oil)\",\"Production (Oil)\",\"Production (Oil)\",\"Production (Oil)\",\"Production (Oil)\",\"Production (Oil)\",\"Production (Oil)\",\"Production (Oil)\",\"Production (Oil)\",\"Production (Oil)\",\"Production (Oil)\",\"Production (Oil)\",\"Production (Oil)\",\"Production (Oil)\",\"Production (Oil)\",\"Production (Oil)\",\"Production (Oil)\",\"Production (Oil)\",\"Production (Oil)\",\"Production (Oil)\",\"Production (Oil)\",\"Production (Oil)\",\"Production (Oil)\",\"Production (Oil)\",\"Production (Oil)\",\"Production (Oil)\"],\"Year\":[1980,1981,1982,1983,1984,1985,1986,1987,1988,1989,1990,1991,1992,1993,1994,1995,1996,1997,1998,1999,2000,2001,2002,2003,2004,2005,2006,2007,2008,2009,2010,2011,2012,2013,2014,2015,2016,2017,2018],\"value\":{\"__ndarray__\":\"001iEFh5NEC28/3UeGk0QGiR7Xw/dTRAu0kMAiuHNEChRbbz/RQ1QBgEVg4tMjVAd76fGi99NEC0yHa+n9ozQMP1KFyPgjNAPQrXo3A9MkAv3SQGgbUxQJ3vp8ZL9zFA7FG4HoWLMUAj2/l+atwwQMHKoUW2czBAKVyPwvVIMECHFtnO9zMwQO18PzVeGjBAEVg5tMg2L0ANAiuHFtktQFK4HoXr0S1AJQaBlUOLLUBt5/up8VItQE+Nl24SgyxA0SLb+X7qK0A2XrpJDIIqQOF6FK5HISpArkfhehQuKkAYBFYOLfIpQBgEVg4tsitA4XoUrkehLEAtsp3vp8YtQBsv3SQGATFAN4lBYOVQM0DpJjEIrJw2QOSlm8QgMDhAwMqhRbYzN0DkpZvEIJA4QBxaZDvfjzxA\",\"dtype\":\"float64\",\"shape\":[39]}},\"selected\":{\"id\":\"2780\"},\"selection_policy\":{\"id\":\"2809\"}},\"id\":\"2779\",\"type\":\"ColumnDataSource\"},{\"attributes\":{\"below\":[{\"id\":\"2752\"}],\"center\":[{\"id\":\"2755\"},{\"id\":\"2759\"}],\"left\":[{\"id\":\"2756\"}],\"margin\":null,\"min_border_bottom\":10,\"min_border_left\":10,\"min_border_right\":10,\"min_border_top\":10,\"plot_height\":400,\"plot_width\":1200,\"renderers\":[{\"id\":\"2785\"},{\"id\":\"2801\"}],\"right\":[{\"id\":\"2793\"}],\"sizing_mode\":\"fixed\",\"title\":{\"id\":\"2744\"},\"toolbar\":{\"id\":\"2766\"},\"x_range\":{\"id\":\"2629\"},\"x_scale\":{\"id\":\"2748\"},\"y_range\":{\"id\":\"2740\"},\"y_scale\":{\"id\":\"2750\"}},\"id\":\"2743\",\"subtype\":\"Figure\",\"type\":\"Plot\"},{\"attributes\":{\"bottom_units\":\"screen\",\"fill_alpha\":0.5,\"fill_color\":\"lightgrey\",\"left_units\":\"screen\",\"level\":\"overlay\",\"line_alpha\":1.0,\"line_color\":\"black\",\"line_dash\":[4,4],\"line_width\":2,\"render_mode\":\"css\",\"right_units\":\"screen\",\"top_units\":\"screen\"},\"id\":\"3746\",\"type\":\"BoxAnnotation\"},{\"attributes\":{\"line_alpha\":0.1,\"line_color\":\"#1f77b3\",\"line_width\":2,\"x\":{\"field\":\"Date\"},\"y\":{\"field\":\"value\"}},\"id\":\"3336\",\"type\":\"Line\"},{\"attributes\":{\"line_alpha\":0.2,\"line_color\":\"#1f77b3\",\"line_width\":2,\"x\":{\"field\":\"Date\"},\"y\":{\"field\":\"value\"}},\"id\":\"3337\",\"type\":\"Line\"},{\"attributes\":{\"source\":{\"id\":\"3332\"}},\"id\":\"3339\",\"type\":\"CDSView\"},{\"attributes\":{\"axis_label\":\"Date\",\"axis_label_text_font_size\":\"20pt\",\"bounds\":\"auto\",\"formatter\":{\"id\":\"3484\"},\"group_text_font_size\":\"15pt\",\"major_label_orientation\":1.5707963267948966,\"major_label_text_font_size\":\"15pt\",\"ticker\":{\"id\":\"3465\"}},\"id\":\"3464\",\"type\":\"CategoricalAxis\"},{\"attributes\":{\"data\":{\"Production (Oil)\":{\"__ndarray__\":\"001iEFh5NEC28/3UeGk0QGiR7Xw/dTRAu0kMAiuHNEChRbbz/RQ1QBgEVg4tMjVAd76fGi99NEC0yHa+n9ozQMP1KFyPgjNAPQrXo3A9MkAv3SQGgbUxQJ3vp8ZL9zFA7FG4HoWLMUAj2/l+atwwQMHKoUW2czBAKVyPwvVIMECHFtnO9zMwQO18PzVeGjBAEVg5tMg2L0ANAiuHFtktQFK4HoXr0S1AJQaBlUOLLUBt5/up8VItQE+Nl24SgyxA0SLb+X7qK0A2XrpJDIIqQOF6FK5HISpArkfhehQuKkAYBFYOLfIpQBgEVg4tsitA4XoUrkehLEAtsp3vp8YtQBsv3SQGATFAN4lBYOVQM0DpJjEIrJw2QOSlm8QgMDhAwMqhRbYzN0DkpZvEIJA4QBxaZDvfjzxA\",\"dtype\":\"float64\",\"shape\":[39]},\"Production_left_parenthesis_Oil_right_parenthesis\":{\"__ndarray__\":\"001iEFh5NEC28/3UeGk0QGiR7Xw/dTRAu0kMAiuHNEChRbbz/RQ1QBgEVg4tMjVAd76fGi99NEC0yHa+n9ozQMP1KFyPgjNAPQrXo3A9MkAv3SQGgbUxQJ3vp8ZL9zFA7FG4HoWLMUAj2/l+atwwQMHKoUW2czBAKVyPwvVIMECHFtnO9zMwQO18PzVeGjBAEVg5tMg2L0ANAiuHFtktQFK4HoXr0S1AJQaBlUOLLUBt5/up8VItQE+Nl24SgyxA0SLb+X7qK0A2XrpJDIIqQOF6FK5HISpArkfhehQuKkAYBFYOLfIpQBgEVg4tsitA4XoUrkehLEAtsp3vp8YtQBsv3SQGATFAN4lBYOVQM0DpJjEIrJw2QOSlm8QgMDhAwMqhRbYzN0DkpZvEIJA4QBxaZDvfjzxA\",\"dtype\":\"float64\",\"shape\":[39]},\"Year\":[1980,1981,1982,1983,1984,1985,1986,1987,1988,1989,1990,1991,1992,1993,1994,1995,1996,1997,1998,1999,2000,2001,2002,2003,2004,2005,2006,2007,2008,2009,2010,2011,2012,2013,2014,2015,2016,2017,2018]},\"selected\":{\"id\":\"2718\"},\"selection_policy\":{\"id\":\"2737\"}},\"id\":\"2717\",\"type\":\"ColumnDataSource\"},{\"attributes\":{},\"id\":\"3471\",\"type\":\"SaveTool\"},{\"attributes\":{},\"id\":\"3460\",\"type\":\"CategoricalScale\"},{\"attributes\":{\"axis_label\":\"Standard Deviation in %\",\"axis_label_text_font_size\":\"20pt\",\"bounds\":\"auto\",\"formatter\":{\"id\":\"3487\"},\"major_label_orientation\":\"horizontal\",\"major_label_text_font_size\":\"15pt\",\"ticker\":{\"id\":\"3468\"}},\"id\":\"3467\",\"type\":\"LinearAxis\"},{\"attributes\":{\"click_policy\":\"mute\",\"items\":[{\"id\":\"3347\"},{\"id\":\"3364\"}],\"label_text_font_size\":\"20pt\",\"location\":\"top_left\",\"title\":\"Variable\"},\"id\":\"3346\",\"type\":\"Legend\"},{\"attributes\":{\"bottom_units\":\"screen\",\"fill_alpha\":0.5,\"fill_color\":\"lightgrey\",\"left_units\":\"screen\",\"level\":\"overlay\",\"line_alpha\":1.0,\"line_color\":\"black\",\"line_dash\":[4,4],\"line_width\":2,\"render_mode\":\"css\",\"right_units\":\"screen\",\"top_units\":\"screen\"},\"id\":\"2654\",\"type\":\"BoxAnnotation\"},{\"attributes\":{},\"id\":\"3472\",\"type\":\"PanTool\"},{\"attributes\":{},\"id\":\"3473\",\"type\":\"WheelZoomTool\"},{\"attributes\":{},\"id\":\"3468\",\"type\":\"BasicTicker\"},{\"attributes\":{},\"id\":\"3465\",\"type\":\"CategoricalTicker\"},{\"attributes\":{\"data\":{\"dimensions.0.values\":[[2000,2001,2002,2003,2004,2005,2006,2007,2008,2009,2010,2011,2012,2013,2014,2015,2016,2017,2018]],\"dimensions.1.values\":[{\"__ndarray__\":\"wDKRtqV8h79wrWxStFesv4AmibN7lqo/AESmvwezXj9A2HC4EDacPwBjd+Iv0Hs/APSIbzXVnT8Af/6m+T6HP2DqOADLMqY/wMSSAxO8lz9g/YqFVJuoP+Bwq+RsEak/gNV+MLgRor8gab8g6pGlP8Aiqm1HoJk/AME2ROMxYb9g9bC8DjimP8A6mx1ex6Q/gPdvY6NHkT8=\",\"dtype\":\"float64\",\"shape\":[19]}],\"dimensions.2.values\":[{\"__ndarray__\":\"UCxYXqQot7/szQEwMf3Cvx4ESwZvc+O/n+Upf3Bn+D/GVXBg6B+2P8Ym30Tnh9I/E+f8QU3Kwz9M5R1E9yDGP/YzY3pLwtS/ZMOaBFtp2T8IeBxE52ybP2ptE93Bqb+/t8mkOJQ0xb8svgdftx7iPwRhb6rKsdI/HqRBfmQ42r8PDOU5q0/PP0+fARpBnMo/+Iqyf83+qD8=\",\"dtype\":\"float64\",\"shape\":[19]}],\"dimensions.3.values\":[{\"__ndarray__\":\"AAyF/zy9Tr9AQS6jkPSCv4Dcaxw+gH6/oGoIpe5anL/gZce+uGeVv6B237zh0qm/gACfJEQ0jb8AGD8M11lfP0DJ2UAmToK/EBLB6EFEsT9gxPCMLUShP8CHy+GKfqQ/OD3nIz8xwj9wFtFQZmfBPzDZi1pk18U/oC/OG7LXsT/AmmVgBd+kv2DQM5SECK4/ILF+bNLWxD8=\",\"dtype\":\"float64\",\"shape\":[19]}],\"dimensions.4.values\":[{\"__ndarray__\":\"QGL5dM0Yeb+Q7FKXs5+ev06bk4hrWLy/uvXD4oV90D9auUHp6lbOP64gUX3IL8A/qLkpLOVbzj9GCbZi13zMP0TQVdT1r8+/UtxlX+RBvz9KvykNO3m0PzpBfXqH3cI/mJeK786pmD8YpP6TypbHPwBJypfNebW/q+Kz5CHRxr+usHxh5GPTPyPuVMb8wMA/oJ7JcRBzt78=\",\"dtype\":\"float64\",\"shape\":[19]}],\"line.color\":[[2000,2001,2002,2003,2004,2005,2006,2007,2008,2009,2010,2011,2012,2013,2014,2015,2016,2017,2018]]},\"selected\":{\"id\":\"3810\"},\"selection_policy\":{\"id\":\"3809\"}},\"id\":\"3776\",\"type\":\"ColumnDataSource\"},{\"attributes\":{\"end\":102.71020917045186,\"reset_end\":102.71020917045186,\"reset_start\":-3.6984964066455497,\"start\":-3.6984964066455497,\"tags\":[[[\"value\",\"value\",null]]]},\"id\":\"3452\",\"type\":\"Range1d\"},{\"attributes\":{},\"id\":\"2970\",\"type\":\"UnionRenderers\"},{\"attributes\":{\"axis\":{\"id\":\"3464\"},\"grid_line_color\":\"lightgray\",\"grid_line_width\":1.5,\"minor_grid_line_color\":\"lightgray\",\"ticker\":{\"id\":\"3465\"}},\"id\":\"3466\",\"type\":\"Grid\"},{\"attributes\":{\"axis\":{\"id\":\"3467\"},\"dimension\":1,\"grid_line_color\":\"lightgray\",\"grid_line_width\":1.5,\"ticker\":{\"id\":\"3468\"}},\"id\":\"3470\",\"type\":\"Grid\"},{\"attributes\":{\"client_comm_id\":\"1db9828eeb9b42e6986bfbc2e5c2eb19\",\"comm_id\":\"b1d5d85d017944e1bec05bf7e9383ee3\",\"plot_id\":\"2626\"},\"id\":\"4061\",\"type\":\"panel.models.comm_manager.CommManager\"},{\"attributes\":{\"children\":[{\"id\":\"2894\"},{\"id\":\"2905\"},{\"id\":\"3297\"}],\"margin\":[0,0,0,0],\"name\":\"Column05868\"},\"id\":\"2893\",\"type\":\"Column\"},{\"attributes\":{\"line_alpha\":0.2,\"line_color\":\"#1f77b3\",\"line_width\":2,\"x\":{\"field\":\"Year\"},\"y\":{\"field\":\"Production (Alternative)\"}},\"id\":\"2667\",\"type\":\"Line\"},{\"attributes\":{\"data\":{\"Date\":[\"2004\",\"2005\",\"2006\",\"2007\",\"2008\",\"2009\",\"2010\",\"2011\",\"2012\",\"2013\",\"2014\",\"2015\",\"2016\",\"2017\",\"2018\",\"2019\",\"2020\"],\"Variable\":[\"Alternative Energy\",\"Alternative Energy\",\"Alternative Energy\",\"Alternative Energy\",\"Alternative Energy\",\"Alternative Energy\",\"Alternative Energy\",\"Alternative Energy\",\"Alternative Energy\",\"Alternative Energy\",\"Alternative Energy\",\"Alternative Energy\",\"Alternative Energy\",\"Alternative Energy\",\"Alternative Energy\",\"Alternative Energy\",\"Alternative Energy\"],\"value\":{\"__ndarray__\":\"Lvrn1is4VEAzHRiv8vJTQIiySyviVFNAWNL1ktZkTkAB1uKpBIk3QAaWDLEDoTtAgV/OcyCAOkCYz8uYa5U7QAYeHAF3WDtA0yRlSSVFQECLbiIIJcI+QEJFSmibjENAwENo88BzQ0DtQH3uY+5BQORdehevrzxAvrHRurpoRUCByOC28HVXQA==\",\"dtype\":\"float64\",\"shape\":[17]}},\"selected\":{\"id\":\"3491\"},\"selection_policy\":{\"id\":\"3520\"}},\"id\":\"3490\",\"type\":\"ColumnDataSource\"},{\"attributes\":{\"above\":[{\"id\":\"3504\"}],\"below\":[{\"id\":\"3464\"}],\"center\":[{\"id\":\"3466\"},{\"id\":\"3470\"}],\"left\":[{\"id\":\"3467\"}],\"margin\":null,\"min_border_bottom\":10,\"min_border_left\":10,\"min_border_right\":10,\"min_border_top\":10,\"plot_height\":400,\"plot_width\":1200,\"renderers\":[{\"id\":\"3496\"},{\"id\":\"3512\"}],\"sizing_mode\":\"fixed\",\"title\":{\"id\":\"3456\"},\"toolbar\":{\"id\":\"3477\"},\"x_range\":{\"id\":\"3451\"},\"x_scale\":{\"id\":\"3460\"},\"y_range\":{\"id\":\"3452\"},\"y_scale\":{\"id\":\"3462\"}},\"id\":\"3455\",\"subtype\":\"Figure\",\"type\":\"Plot\"},{\"attributes\":{\"bottom_units\":\"screen\",\"fill_alpha\":0.5,\"fill_color\":\"lightgrey\",\"left_units\":\"screen\",\"level\":\"overlay\",\"line_alpha\":1.0,\"line_color\":\"black\",\"line_dash\":[4,4],\"line_width\":2,\"render_mode\":\"css\",\"right_units\":\"screen\",\"top_units\":\"screen\"},\"id\":\"2926\",\"type\":\"BoxAnnotation\"},{\"attributes\":{\"source\":{\"id\":\"2795\"}},\"id\":\"2802\",\"type\":\"CDSView\"},{\"attributes\":{},\"id\":\"3462\",\"type\":\"LinearScale\"},{\"attributes\":{\"margin\":[0,0,0,0],\"tabs\":[{\"id\":\"2892\"},{\"id\":\"3445\"},{\"id\":\"3660\"},{\"id\":\"3778\"}]},\"id\":\"2626\",\"type\":\"Tabs\"},{\"attributes\":{},\"id\":\"2663\",\"type\":\"Selection\"},{\"attributes\":{\"data_source\":{\"id\":\"2662\"},\"glyph\":{\"id\":\"2665\"},\"hover_glyph\":null,\"muted_glyph\":{\"id\":\"2667\"},\"nonselection_glyph\":{\"id\":\"2666\"},\"selection_glyph\":null,\"view\":{\"id\":\"2669\"}},\"id\":\"2668\",\"type\":\"GlyphRenderer\"},{\"attributes\":{\"line_color\":\"#ff7e0e\",\"line_width\":2,\"x\":{\"field\":\"Year\"},\"y\":{\"field\":\"value\"}},\"id\":\"2798\",\"type\":\"Line\"},{\"attributes\":{\"text\":\"5 Year Rolling Standard Deviation 2004-2020\",\"text_color\":{\"value\":\"black\"},\"text_font_size\":{\"value\":\"20pt\"}},\"id\":\"3456\",\"type\":\"Title\"},{\"attributes\":{\"data_source\":{\"id\":\"2795\"},\"glyph\":{\"id\":\"2798\"},\"hover_glyph\":null,\"muted_glyph\":{\"id\":\"2800\"},\"nonselection_glyph\":{\"id\":\"2799\"},\"selection_glyph\":null,\"view\":{\"id\":\"2802\"}},\"id\":\"2801\",\"type\":\"GlyphRenderer\"},{\"attributes\":{\"line_color\":\"#1f77b3\",\"line_width\":2,\"x\":{\"field\":\"Year\"},\"y\":{\"field\":\"Production (Alternative)\"}},\"id\":\"2665\",\"type\":\"Line\"},{\"attributes\":{\"factors\":[\"2004\",\"2005\",\"2006\",\"2007\",\"2008\",\"2009\",\"2010\",\"2011\",\"2012\",\"2013\",\"2014\",\"2015\",\"2016\",\"2017\",\"2018\",\"2019\",\"2020\"],\"tags\":[[[\"Date\",\"Date\",null]]]},\"id\":\"3451\",\"type\":\"FactorRange\"},{\"attributes\":{\"label\":{\"value\":\"Alternative Energy\"},\"renderers\":[{\"id\":\"3338\"}]},\"id\":\"3347\",\"type\":\"LegendItem\"},{\"attributes\":{\"callback\":null,\"renderers\":[{\"id\":\"3496\"},{\"id\":\"3512\"}],\"tags\":[\"hv_created\"],\"tooltips\":[[\"Variable\",\"@{Variable}\"],[\"Date\",\"@{Date}\"],[\"value\",\"@{value}\"]]},\"id\":\"3453\",\"type\":\"HoverTool\"},{\"attributes\":{\"line_alpha\":0.1,\"line_color\":\"#ff7e0e\",\"line_width\":2,\"x\":{\"field\":\"Year\"},\"y\":{\"field\":\"value\"}},\"id\":\"2799\",\"type\":\"Line\"},{\"attributes\":{\"line_color\":\"#2ba02b\",\"line_width\":2,\"x\":{\"field\":\"Date\"},\"y\":{\"field\":\"value\"}},\"id\":\"2976\",\"type\":\"Line\"},{\"attributes\":{\"children\":[{\"id\":\"2628\"},{\"id\":\"2632\"},{\"id\":\"2687\"},{\"id\":\"2743\"}],\"margin\":[0,0,0,0],\"name\":\"Column06785\"},\"id\":\"2627\",\"type\":\"Column\"},{\"attributes\":{},\"id\":\"2796\",\"type\":\"Selection\"},{\"attributes\":{\"line_alpha\":0.1,\"line_color\":\"#d62628\",\"line_width\":2,\"x\":{\"field\":\"Date\"},\"y\":{\"field\":\"value\"}},\"id\":\"2996\",\"type\":\"Line\"},{\"attributes\":{},\"id\":\"3809\",\"type\":\"UnionRenderers\"},{\"attributes\":{\"data_source\":{\"id\":\"2973\"},\"glyph\":{\"id\":\"2976\"},\"hover_glyph\":null,\"muted_glyph\":{\"id\":\"2978\"},\"nonselection_glyph\":{\"id\":\"2977\"},\"selection_glyph\":null,\"view\":{\"id\":\"2980\"}},\"id\":\"2979\",\"type\":\"GlyphRenderer\"},{\"attributes\":{\"line_color\":\"#ff7e0e\",\"line_width\":2,\"x\":{\"field\":\"Date\"},\"y\":{\"field\":\"value\"}},\"id\":\"3351\",\"type\":\"Line\"},{\"attributes\":{},\"id\":\"3810\",\"type\":\"Selection\"},{\"attributes\":{\"line_alpha\":0.1,\"line_color\":\"#1f77b3\",\"line_width\":2,\"x\":{\"field\":\"Year\"},\"y\":{\"field\":\"Production (Alternative)\"}},\"id\":\"2666\",\"type\":\"Line\"},{\"attributes\":{\"label\":{\"value\":\"ELP\"},\"renderers\":[{\"id\":\"2979\"}]},\"id\":\"2991\",\"type\":\"LegendItem\"},{\"attributes\":{\"child\":{\"id\":\"2627\"},\"name\":\"Column06785\",\"title\":\"Annual Production\"},\"id\":\"2892\",\"type\":\"Panel\"},{\"attributes\":{\"line_alpha\":0.1,\"line_color\":\"#2ba02b\",\"line_width\":2,\"x\":{\"field\":\"Date\"},\"y\":{\"field\":\"value\"}},\"id\":\"2977\",\"type\":\"Line\"},{\"attributes\":{\"line_alpha\":0.2,\"line_color\":\"#ff7e0e\",\"line_width\":2,\"x\":{\"field\":\"Year\"},\"y\":{\"field\":\"value\"}},\"id\":\"2800\",\"type\":\"Line\"},{\"attributes\":{\"children\":[{\"id\":\"3447\"},{\"id\":\"3448\"},{\"id\":\"3603\"}],\"margin\":[0,0,0,0],\"name\":\"Column06142\"},\"id\":\"3446\",\"type\":\"Column\"},{\"attributes\":{\"source\":{\"id\":\"2662\"}},\"id\":\"2669\",\"type\":\"CDSView\"},{\"attributes\":{\"line_alpha\":0.2,\"line_color\":\"#2ba02b\",\"line_width\":2,\"x\":{\"field\":\"Date\"},\"y\":{\"field\":\"value\"}},\"id\":\"2978\",\"type\":\"Line\"},{\"attributes\":{\"source\":{\"id\":\"2973\"}},\"id\":\"2980\",\"type\":\"CDSView\"},{\"attributes\":{},\"id\":\"2974\",\"type\":\"Selection\"},{\"attributes\":{},\"id\":\"3349\",\"type\":\"Selection\"},{\"attributes\":{},\"id\":\"3362\",\"type\":\"UnionRenderers\"},{\"attributes\":{\"data\":{\"Date\":[\"1999\",\"2000\",\"2001\",\"2002\",\"2003\",\"2004\",\"2005\",\"2006\",\"2007\",\"2008\",\"2009\",\"2010\",\"2011\",\"2012\",\"2013\",\"2014\",\"2015\",\"2016\",\"2017\",\"2018\",\"2019\",\"2020\"],\"Variable\":[\"ELP\",\"ELP\",\"ELP\",\"ELP\",\"ELP\",\"ELP\",\"ELP\",\"ELP\",\"ELP\",\"ELP\",\"ELP\",\"ELP\",\"ELP\",\"ELP\",\"ELP\",\"ELP\",\"ELP\",\"ELP\",\"ELP\",\"ELP\",\"ELP\",\"ELP\"],\"value\":{\"__ndarray__\":\"AAAAgB6oEEAAAADgyiYPQAAAAECk8A1AAAAAIA3g9T8AAACgEZECQAAAAGAjrgFAAAAA4MefDkAAAABggcgWQAAAACBpUSBAAAAAIPeXF0AAAAAgOWEpQAAAAGAJSS5AAAAAoA9DKkAAAADg64EjQAAAAEDa5SFAAAAA4P9LI0AAAACgf6cRQAAAAAD+nhpAAAAAgKuqGUAAAADgF60cQAAAAIDSOzBAAAAAoJmZLEA=\",\"dtype\":\"float64\",\"shape\":[22]}},\"selected\":{\"id\":\"2974\"},\"selection_policy\":{\"id\":\"3010\"}},\"id\":\"2973\",\"type\":\"ColumnDataSource\"},{\"attributes\":{},\"id\":\"2671\",\"type\":\"BasicTickFormatter\"},{\"attributes\":{\"line_alpha\":0.2,\"line_color\":\"#d62628\",\"line_width\":2,\"x\":{\"field\":\"Date\"},\"y\":{\"field\":\"value\"}},\"id\":\"2997\",\"type\":\"Line\"},{\"attributes\":{\"child\":{\"id\":\"2893\"},\"name\":\"Column05868\",\"title\":\"Stock Returns\"},\"id\":\"3445\",\"type\":\"Panel\"},{\"attributes\":{},\"id\":\"2809\",\"type\":\"UnionRenderers\"},{\"attributes\":{\"children\":[{\"id\":\"3662\"},{\"id\":\"3666\"},{\"id\":\"3718\"},{\"id\":\"3777\"}],\"margin\":[0,0,0,0],\"name\":\"Column06397\"},\"id\":\"3661\",\"type\":\"Column\"},{\"attributes\":{\"css_classes\":[\"markdown\"],\"margin\":[5,5,5,5],\"name\":\"Markdown05856\",\"text\":\"&lt;h2&gt;Stock Returns by Industry&lt;/h2&gt;\"},\"id\":\"2894\",\"type\":\"panel.models.markup.HTML\"},{\"attributes\":{},\"id\":\"2673\",\"type\":\"BasicTickFormatter\"},{\"attributes\":{\"overlay\":{\"id\":\"3476\"}},\"id\":\"3474\",\"type\":\"BoxZoomTool\"},{\"attributes\":{\"children\":[{\"id\":\"3449\"},{\"id\":\"3450\"}],\"margin\":[0,0,0,0],\"name\":\"Column05872\"},\"id\":\"3448\",\"type\":\"Column\"},{\"attributes\":{},\"id\":\"2989\",\"type\":\"UnionRenderers\"},{\"attributes\":{\"margin\":[0,0,0,0],\"name\":\"Column06015\"},\"id\":\"3449\",\"type\":\"Column\"},{\"attributes\":{},\"id\":\"2820\",\"type\":\"UnionRenderers\"},{\"attributes\":{\"css_classes\":[\"markdown\"],\"margin\":[5,5,5,5],\"name\":\"Markdown05869\",\"text\":\"&lt;h2&gt;Stock Risk by Industry&lt;/h2&gt;\"},\"id\":\"3447\",\"type\":\"panel.models.markup.HTML\"},{\"attributes\":{\"children\":[{\"id\":\"3604\"},{\"id\":\"3605\"}],\"margin\":[0,0,0,0],\"name\":\"Column06017\"},\"id\":\"3603\",\"type\":\"Column\"},{\"attributes\":{},\"id\":\"3373\",\"type\":\"UnionRenderers\"},{\"attributes\":{\"children\":[{\"id\":\"3455\"}],\"margin\":[0,0,0,0],\"name\":\"Row06014\"},\"id\":\"3450\",\"type\":\"Row\"},{\"attributes\":{\"line_color\":\"#d62628\",\"line_width\":2,\"x\":{\"field\":\"Date\"},\"y\":{\"field\":\"value\"}},\"id\":\"2995\",\"type\":\"Line\"},{\"attributes\":{\"data\":{\"Date\":[\"2000\",\"2001\",\"2002\",\"2003\",\"2004\",\"2005\",\"2006\",\"2007\",\"2008\",\"2009\",\"2010\",\"2011\",\"2012\",\"2013\",\"2014\",\"2015\",\"2016\",\"2017\",\"2018\",\"2019\",\"2020\"],\"Variable\":[\"Alternative Energy\",\"Alternative Energy\",\"Alternative Energy\",\"Alternative Energy\",\"Alternative Energy\",\"Alternative Energy\",\"Alternative Energy\",\"Alternative Energy\",\"Alternative Energy\",\"Alternative Energy\",\"Alternative Energy\",\"Alternative Energy\",\"Alternative Energy\",\"Alternative Energy\",\"Alternative Energy\",\"Alternative Energy\",\"Alternative Energy\",\"Alternative Energy\",\"Alternative Energy\",\"Alternative Energy\",\"Alternative Energy\"],\"value\":{\"__ndarray__\":\"dvo0dOsa7T+2MkHzj8noP9Qf6jrwcNM/MsVsJwSM6D8U73O/G6vqP9+pD23uMfE/1dtq/oTa8z8BMaLVMEn3P/csFoFAd+8/wPCUDNH69T+2HoF6hJH2P5ZmBEjuxvM/Z2qieCuA8D+N9zejGtj5P+0X2dBWsgBAIY7kkFq28z+czWhqyYj4P6gn8oOFov0/pJFUS+MU/z9NSdg1gLULQGZGXbifCidA\",\"dtype\":\"float64\",\"shape\":[21]}},\"selected\":{\"id\":\"3333\"},\"selection_policy\":{\"id\":\"3362\"}},\"id\":\"3332\",\"type\":\"ColumnDataSource\"},{\"attributes\":{\"source\":{\"id\":\"2992\"}},\"id\":\"2999\",\"type\":\"CDSView\"},{\"attributes\":{\"data_source\":{\"id\":\"3088\"},\"glyph\":{\"id\":\"3091\"},\"hover_glyph\":null,\"muted_glyph\":{\"id\":\"3093\"},\"nonselection_glyph\":{\"id\":\"3092\"},\"selection_glyph\":null,\"view\":{\"id\":\"3095\"}},\"id\":\"3094\",\"type\":\"GlyphRenderer\"},{\"attributes\":{},\"id\":\"2934\",\"type\":\"CategoricalTickFormatter\"},{\"attributes\":{\"label\":{\"value\":\"PLUG\"},\"renderers\":[{\"id\":\"2998\"}]},\"id\":\"3012\",\"type\":\"LegendItem\"},{\"attributes\":{},\"id\":\"2922\",\"type\":\"PanTool\"},{\"attributes\":{\"axis_label\":\"Date\",\"axis_label_text_font_size\":\"20pt\",\"bounds\":\"auto\",\"formatter\":{\"id\":\"2934\"},\"group_text_font_size\":\"15pt\",\"major_label_orientation\":1.5707963267948966,\"major_label_text_font_size\":\"15pt\",\"ticker\":{\"id\":\"2915\"}},\"id\":\"2914\",\"type\":\"CategoricalAxis\"},{\"attributes\":{},\"id\":\"3307\",\"type\":\"CategoricalTicker\"},{\"attributes\":{},\"id\":\"3310\",\"type\":\"BasicTicker\"},{\"attributes\":{\"axis\":{\"id\":\"2914\"},\"grid_line_color\":\"lightgray\",\"grid_line_width\":1.5,\"minor_grid_line_color\":\"lightgray\",\"ticker\":{\"id\":\"2915\"}},\"id\":\"2916\",\"type\":\"Grid\"},{\"attributes\":{},\"id\":\"3304\",\"type\":\"LinearScale\"},{\"attributes\":{},\"id\":\"3010\",\"type\":\"UnionRenderers\"},{\"attributes\":{\"text\":\"Cumulative Returns of Both Industries 2000-2020\",\"text_color\":{\"value\":\"black\"},\"text_font_size\":{\"value\":\"20pt\"}},\"id\":\"3298\",\"type\":\"Title\"},{\"attributes\":{\"text\":\"Oil and Alternative Stock Prices from 1999-2020\",\"text_color\":{\"value\":\"black\"},\"text_font_size\":{\"value\":\"20pt\"}},\"id\":\"2906\",\"type\":\"Title\"},{\"attributes\":{\"axis_label\":\"Cumulative Returns Multiple\",\"axis_label_text_font_size\":\"20pt\",\"bounds\":\"auto\",\"formatter\":{\"id\":\"3329\"},\"major_label_orientation\":\"horizontal\",\"major_label_text_font_size\":\"15pt\",\"ticker\":{\"id\":\"3310\"}},\"id\":\"3309\",\"type\":\"LinearAxis\"},{\"attributes\":{},\"id\":\"3315\",\"type\":\"WheelZoomTool\"},{\"attributes\":{},\"id\":\"3302\",\"type\":\"CategoricalScale\"},{\"attributes\":{},\"id\":\"3314\",\"type\":\"PanTool\"},{\"attributes\":{\"axis\":{\"id\":\"3306\"},\"grid_line_color\":\"lightgray\",\"grid_line_width\":1.5,\"minor_grid_line_color\":\"lightgray\",\"ticker\":{\"id\":\"3307\"}},\"id\":\"3308\",\"type\":\"Grid\"},{\"attributes\":{\"below\":[{\"id\":\"3618\"}],\"center\":[{\"id\":\"3620\"},{\"id\":\"3624\"}],\"left\":[{\"id\":\"3621\"}],\"margin\":null,\"min_border_bottom\":10,\"min_border_left\":10,\"min_border_right\":10,\"min_border_top\":10,\"plot_height\":400,\"plot_width\":1200,\"renderers\":[{\"id\":\"3644\"}],\"sizing_mode\":\"fixed\",\"title\":{\"id\":\"3610\"},\"toolbar\":{\"id\":\"3631\"},\"x_range\":{\"id\":\"3606\"},\"x_scale\":{\"id\":\"3614\"},\"y_range\":{\"id\":\"3607\"},\"y_scale\":{\"id\":\"3616\"}},\"id\":\"3609\",\"subtype\":\"Figure\",\"type\":\"Plot\"},{\"attributes\":{\"axis\":{\"id\":\"3309\"},\"dimension\":1,\"grid_line_color\":\"lightgray\",\"grid_line_width\":1.5,\"ticker\":{\"id\":\"3310\"}},\"id\":\"3312\",\"type\":\"Grid\"},{\"attributes\":{},\"id\":\"2918\",\"type\":\"BasicTicker\"},{\"attributes\":{},\"id\":\"3313\",\"type\":\"SaveTool\"},{\"attributes\":{\"axis_label\":\"Date\",\"axis_label_text_font_size\":\"20pt\",\"bounds\":\"auto\",\"formatter\":{\"id\":\"3326\"},\"group_text_font_size\":\"15pt\",\"major_label_orientation\":1.5707963267948966,\"major_label_text_font_size\":\"15pt\",\"ticker\":{\"id\":\"3307\"}},\"id\":\"3306\",\"type\":\"CategoricalAxis\"},{\"attributes\":{\"axis\":{\"id\":\"2917\"},\"dimension\":1,\"grid_line_color\":\"lightgray\",\"grid_line_width\":1.5,\"ticker\":{\"id\":\"2918\"}},\"id\":\"2920\",\"type\":\"Grid\"},{\"attributes\":{\"children\":[{\"id\":\"3609\"}],\"margin\":[0,0,0,0],\"name\":\"Row06140\"},\"id\":\"3605\",\"type\":\"Row\"},{\"attributes\":{\"line_alpha\":0.1,\"line_color\":\"#8c564b\",\"line_width\":2,\"x\":{\"field\":\"Date\"},\"y\":{\"field\":\"value\"}},\"id\":\"3040\",\"type\":\"Line\"},{\"attributes\":{\"overlay\":{\"id\":\"3318\"}},\"id\":\"3316\",\"type\":\"BoxZoomTool\"},{\"attributes\":{\"line_color\":\"#9367bc\",\"line_width\":2,\"x\":{\"field\":\"Date\"},\"y\":{\"field\":\"value\"}},\"id\":\"3016\",\"type\":\"Line\"},{\"attributes\":{},\"id\":\"3317\",\"type\":\"ResetTool\"},{\"attributes\":{\"label\":{\"value\":\"BP\"},\"renderers\":[{\"id\":\"3019\"}]},\"id\":\"3035\",\"type\":\"LegendItem\"},{\"attributes\":{},\"id\":\"3089\",\"type\":\"Selection\"},{\"attributes\":{\"source\":{\"id\":\"3013\"}},\"id\":\"3020\",\"type\":\"CDSView\"},{\"attributes\":{\"line_alpha\":0.2,\"line_color\":\"#9367bc\",\"line_width\":2,\"x\":{\"field\":\"Date\"},\"y\":{\"field\":\"value\"}},\"id\":\"3018\",\"type\":\"Line\"},{\"attributes\":{},\"id\":\"3014\",\"type\":\"Selection\"},{\"attributes\":{\"label\":{\"value\":\"Oil & Gas\"},\"renderers\":[{\"id\":\"3354\"}]},\"id\":\"3364\",\"type\":\"LegendItem\"},{\"attributes\":{\"line_alpha\":0.1,\"line_color\":\"#9367bc\",\"line_width\":2,\"x\":{\"field\":\"Date\"},\"y\":{\"field\":\"value\"}},\"id\":\"3017\",\"type\":\"Line\"},{\"attributes\":{\"below\":[{\"id\":\"3306\"}],\"center\":[{\"id\":\"3308\"},{\"id\":\"3312\"},{\"id\":\"3346\"}],\"left\":[{\"id\":\"3309\"}],\"margin\":null,\"min_border_bottom\":10,\"min_border_left\":10,\"min_border_right\":10,\"min_border_top\":10,\"plot_height\":400,\"plot_width\":1200,\"renderers\":[{\"id\":\"3338\"},{\"id\":\"3354\"}],\"sizing_mode\":\"fixed\",\"title\":{\"id\":\"3298\"},\"toolbar\":{\"id\":\"3319\"},\"x_range\":{\"id\":\"3293\"},\"x_scale\":{\"id\":\"3302\"},\"y_range\":{\"id\":\"3294\"},\"y_scale\":{\"id\":\"3304\"}},\"id\":\"3297\",\"subtype\":\"Figure\",\"type\":\"Plot\"},{\"attributes\":{\"line_alpha\":0.2,\"line_color\":\"#ff7e0e\",\"line_width\":2,\"x\":{\"field\":\"Date\"},\"y\":{\"field\":\"value\"}},\"id\":\"3353\",\"type\":\"Line\"},{\"attributes\":{\"data_source\":{\"id\":\"3348\"},\"glyph\":{\"id\":\"3351\"},\"hover_glyph\":null,\"muted_glyph\":{\"id\":\"3353\"},\"nonselection_glyph\":{\"id\":\"3352\"},\"selection_glyph\":null,\"view\":{\"id\":\"3355\"}},\"id\":\"3354\",\"type\":\"GlyphRenderer\"},{\"attributes\":{\"text\":\"Standard Deviation of Returns of Both the Oil and Alternative Portfolios\",\"text_color\":{\"value\":\"black\"},\"text_font_size\":{\"value\":\"20pt\"}},\"id\":\"3610\",\"type\":\"Title\"},{\"attributes\":{\"data_source\":{\"id\":\"3013\"},\"glyph\":{\"id\":\"3016\"},\"hover_glyph\":null,\"muted_glyph\":{\"id\":\"3018\"},\"nonselection_glyph\":{\"id\":\"3017\"},\"selection_glyph\":null,\"view\":{\"id\":\"3020\"}},\"id\":\"3019\",\"type\":\"GlyphRenderer\"},{\"attributes\":{\"factors\":[\"Oil & Gas\",\"Alternative Energy\"],\"tags\":[[[\"index\",\"index\",null]]]},\"id\":\"3606\",\"type\":\"FactorRange\"},{\"attributes\":{\"bottom_units\":\"screen\",\"fill_alpha\":0.5,\"fill_color\":\"lightgrey\",\"left_units\":\"screen\",\"level\":\"overlay\",\"line_alpha\":1.0,\"line_color\":\"black\",\"line_dash\":[4,4],\"line_width\":2,\"render_mode\":\"css\",\"right_units\":\"screen\",\"top_units\":\"screen\"},\"id\":\"3318\",\"type\":\"BoxAnnotation\"},{\"attributes\":{},\"id\":\"3619\",\"type\":\"CategoricalTicker\"},{\"attributes\":{},\"id\":\"2910\",\"type\":\"CategoricalScale\"},{\"attributes\":{\"source\":{\"id\":\"3348\"}},\"id\":\"3355\",\"type\":\"CDSView\"},{\"attributes\":{},\"id\":\"3033\",\"type\":\"UnionRenderers\"},{\"attributes\":{\"data_source\":{\"id\":\"2956\"},\"glyph\":{\"id\":\"2959\"},\"hover_glyph\":null,\"muted_glyph\":{\"id\":\"2961\"},\"nonselection_glyph\":{\"id\":\"2960\"},\"selection_glyph\":null,\"view\":{\"id\":\"2963\"}},\"id\":\"2962\",\"type\":\"GlyphRenderer\"},{\"attributes\":{},\"id\":\"3622\",\"type\":\"BasicTicker\"},{\"attributes\":{\"end\":0.7020315343430551,\"reset_end\":0.7020315343430551,\"reset_start\":0.0,\"tags\":[[[\"Standard Deviation\",\"Standard Deviation\",null]]]},\"id\":\"3607\",\"type\":\"Range1d\"},{\"attributes\":{},\"id\":\"2957\",\"type\":\"Selection\"},{\"attributes\":{},\"id\":\"2915\",\"type\":\"CategoricalTicker\"},{\"attributes\":{},\"id\":\"3614\",\"type\":\"CategoricalScale\"},{\"attributes\":{\"data\":{\"Date\":[\"1999\",\"2000\",\"2001\",\"2002\",\"2003\",\"2004\",\"2005\",\"2006\",\"2007\",\"2008\",\"2009\",\"2010\",\"2011\",\"2012\",\"2013\",\"2014\",\"2015\",\"2016\",\"2017\",\"2018\",\"2019\",\"2020\"],\"Variable\":[\"PLUG\",\"PLUG\",\"PLUG\",\"PLUG\",\"PLUG\",\"PLUG\",\"PLUG\",\"PLUG\",\"PLUG\",\"PLUG\",\"PLUG\",\"PLUG\",\"PLUG\",\"PLUG\",\"PLUG\",\"PLUG\",\"PLUG\",\"PLUG\",\"PLUG\",\"PLUG\",\"PLUG\",\"PLUG\"],\"value\":{\"__ndarray__\":\"AAAAAACocUAAAAAAAFxiQAAAAKCZ2VVAAAAAQDNzRkAAAAAAACBSQAAAAMDMjE5AAAAAYGamSUAAAABAM3NDQAAAAAAAwENAAAAAYGZmJEAAAABgZmYcQAAAAKCZmQ1AAAAAgOtRAEAAAAAAAADgPwAAAMDMzPg/AAAAAAAACEAAAACgR+EAQAAAAEAzM/M/AAAAoEfhAkAAAABACtfzPwAAACCuRwlAAAAA4Hr0QEA=\",\"dtype\":\"float64\",\"shape\":[22]}},\"selected\":{\"id\":\"2993\"},\"selection_policy\":{\"id\":\"3033\"}},\"id\":\"2992\",\"type\":\"ColumnDataSource\"},{\"attributes\":{},\"id\":\"2912\",\"type\":\"LinearScale\"},{\"attributes\":{\"callback\":null,\"renderers\":[{\"id\":\"3338\"},{\"id\":\"3354\"}],\"tags\":[\"hv_created\"],\"tooltips\":[[\"Variable\",\"@{Variable}\"],[\"Date\",\"@{Date}\"],[\"value\",\"@{value}\"]]},\"id\":\"3295\",\"type\":\"HoverTool\"},{\"attributes\":{\"callback\":null,\"renderers\":[{\"id\":\"3644\"}],\"tags\":[\"hv_created\"],\"tooltips\":[[\"index\",\"@{index}\"],[\"Standard Deviation\",\"@{Standard_Deviation}\"]]},\"id\":\"3608\",\"type\":\"HoverTool\"},{\"attributes\":{\"data_source\":{\"id\":\"3036\"},\"glyph\":{\"id\":\"3039\"},\"hover_glyph\":null,\"muted_glyph\":{\"id\":\"3041\"},\"nonselection_glyph\":{\"id\":\"3040\"},\"selection_glyph\":null,\"view\":{\"id\":\"3043\"}},\"id\":\"3042\",\"type\":\"GlyphRenderer\"},{\"attributes\":{\"axis_label\":\"Standard Deviation\",\"axis_label_text_font_size\":\"20pt\",\"bounds\":\"auto\",\"formatter\":{\"id\":\"3649\"},\"major_label_orientation\":\"horizontal\",\"major_label_text_font_size\":\"15pt\",\"ticker\":{\"id\":\"3622\"}},\"id\":\"3621\",\"type\":\"LinearAxis\"},{\"attributes\":{},\"id\":\"2921\",\"type\":\"SaveTool\"},{\"attributes\":{\"line_color\":\"#8c564b\",\"line_width\":2,\"x\":{\"field\":\"Date\"},\"y\":{\"field\":\"value\"}},\"id\":\"3039\",\"type\":\"Line\"},{\"attributes\":{\"axis_label\":\"\",\"axis_label_text_font_size\":\"20pt\",\"bounds\":\"auto\",\"formatter\":{\"id\":\"3646\"},\"group_text_font_size\":\"20pt\",\"major_label_orientation\":\"horizontal\",\"major_label_text_font_size\":\"20pt\",\"ticker\":{\"id\":\"3619\"}},\"id\":\"3618\",\"type\":\"CategoricalAxis\"},{\"attributes\":{\"axis\":{\"id\":\"3618\"},\"ticker\":{\"id\":\"3619\"}},\"id\":\"3620\",\"type\":\"Grid\"},{\"attributes\":{\"end\":12.642447978755326,\"reset_end\":12.642447978755326,\"reset_start\":-0.8179299477114663,\"start\":-0.8179299477114663,\"tags\":[[[\"value\",\"value\",null]]]},\"id\":\"3294\",\"type\":\"Range1d\"},{\"attributes\":{\"line_alpha\":0.2,\"line_color\":\"#8c564b\",\"line_width\":2,\"x\":{\"field\":\"Date\"},\"y\":{\"field\":\"value\"}},\"id\":\"3041\",\"type\":\"Line\"},{\"attributes\":{\"axis\":{\"id\":\"3621\"},\"dimension\":1,\"ticker\":{\"id\":\"3622\"}},\"id\":\"3624\",\"type\":\"Grid\"},{\"attributes\":{\"label\":{\"value\":\"CVX\"},\"renderers\":[{\"id\":\"3042\"}]},\"id\":\"3060\",\"type\":\"LegendItem\"},{\"attributes\":{\"active_drag\":\"auto\",\"active_inspect\":\"auto\",\"active_multi\":null,\"active_scroll\":\"auto\",\"active_tap\":\"auto\",\"tools\":[{\"id\":\"3295\"},{\"id\":\"3313\"},{\"id\":\"3314\"},{\"id\":\"3315\"},{\"id\":\"3316\"},{\"id\":\"3317\"}]},\"id\":\"3319\",\"type\":\"Toolbar\"},{\"attributes\":{},\"id\":\"3616\",\"type\":\"LinearScale\"},{\"attributes\":{\"source\":{\"id\":\"3036\"}},\"id\":\"3043\",\"type\":\"CDSView\"},{\"attributes\":{},\"id\":\"3625\",\"type\":\"SaveTool\"},{\"attributes\":{},\"id\":\"3037\",\"type\":\"Selection\"},{\"attributes\":{},\"id\":\"3626\",\"type\":\"PanTool\"},{\"attributes\":{},\"id\":\"3326\",\"type\":\"CategoricalTickFormatter\"},{\"attributes\":{\"data\":{\"Standard_Deviation\":{\"__ndarray__\":\"wcpIHAT2xj/IbUbDz/HkPw==\",\"dtype\":\"float64\",\"shape\":[2]},\"index\":[\"Oil & Gas\",\"Alternative Energy\"]},\"selected\":{\"id\":\"3639\"},\"selection_policy\":{\"id\":\"3658\"}},\"id\":\"3638\",\"type\":\"ColumnDataSource\"},{\"attributes\":{\"data\":{\"Date\":[\"1999\",\"2000\",\"2001\",\"2002\",\"2003\",\"2004\",\"2005\",\"2006\",\"2007\",\"2008\",\"2009\",\"2010\",\"2011\",\"2012\",\"2013\",\"2014\",\"2015\",\"2016\",\"2017\",\"2018\",\"2019\",\"2020\"],\"Variable\":[\"RDS-B\",\"RDS-B\",\"RDS-B\",\"RDS-B\",\"RDS-B\",\"RDS-B\",\"RDS-B\",\"RDS-B\",\"RDS-B\",\"RDS-B\",\"RDS-B\",\"RDS-B\",\"RDS-B\",\"RDS-B\",\"RDS-B\",\"RDS-B\",\"RDS-B\",\"RDS-B\",\"RDS-B\",\"RDS-B\",\"RDS-B\",\"RDS-B\"],\"value\":{\"__ndarray__\":\"AAAAwGYSNkAAAAAAme02QAAAAEDW0DNAAAAAYChEM0AAAADA4j83QAAAAMDFrDtAAAAAwPJ1P0AAAADg9PNBQAAAAIDvukVAAAAAoLE0PEAAAAAgCwBBQAAAAEBMqkRAAAAAYPGxSEAAAABAqihIQAAAAIBv80pAAAAAgCYoSkAAAACg1m1CQAAAAGADAklAAAAAgMxhT0AAAABgCB1NQAAAAAAp/E1AAAAAgBTOQEA=\",\"dtype\":\"float64\",\"shape\":[22]}},\"selected\":{\"id\":\"3062\"},\"selection_policy\":{\"id\":\"3114\"}},\"id\":\"3061\",\"type\":\"ColumnDataSource\"},{\"attributes\":{},\"id\":\"3627\",\"type\":\"WheelZoomTool\"},{\"attributes\":{\"data\":{\"Date\":[\"1999\",\"2000\",\"2001\",\"2002\",\"2003\",\"2004\",\"2005\",\"2006\",\"2007\",\"2008\",\"2009\",\"2010\",\"2011\",\"2012\",\"2013\",\"2014\",\"2015\",\"2016\",\"2017\",\"2018\",\"2019\",\"2020\"],\"Variable\":[\"CVX\",\"CVX\",\"CVX\",\"CVX\",\"CVX\",\"CVX\",\"CVX\",\"CVX\",\"CVX\",\"CVX\",\"CVX\",\"CVX\",\"CVX\",\"CVX\",\"CVX\",\"CVX\",\"CVX\",\"CVX\",\"CVX\",\"CVX\",\"CVX\",\"CVX\"],\"value\":{\"__ndarray__\":\"AAAAIBYONEAAAAAAAio0QAAAAOALCTZAAAAAQHfyMEAAAACA1/A2QAAAAIDTzDxAAAAAYOsPQEAAAACgvHlFQAAAACBLCUxAAAAAIMDlRkAAAAAARL5IQAAAACC8a05AAAAAwItLUkAAAAAAmjhTQAAAAKCz7lZAAAAAAGhUVUAAAABAbOFRQAAAAECSb1hAAAAAwAIGW0AAAADgrmNYQAAAAIBSHVxAAAAAIHfRVEA=\",\"dtype\":\"float64\",\"shape\":[22]}},\"selected\":{\"id\":\"3037\"},\"selection_policy\":{\"id\":\"3085\"}},\"id\":\"3036\",\"type\":\"ColumnDataSource\"},{\"attributes\":{\"overlay\":{\"id\":\"3630\"}},\"id\":\"3628\",\"type\":\"BoxZoomTool\"},{\"attributes\":{\"data\":{\"Date\":[\"1999\",\"2000\",\"2001\",\"2002\",\"2003\",\"2004\",\"2005\",\"2006\",\"2007\",\"2008\",\"2009\",\"2010\",\"2011\",\"2012\",\"2013\",\"2014\",\"2015\",\"2016\",\"2017\",\"2018\",\"2019\",\"2020\"],\"Variable\":[\"XOM\",\"XOM\",\"XOM\",\"XOM\",\"XOM\",\"XOM\",\"XOM\",\"XOM\",\"XOM\",\"XOM\",\"XOM\",\"XOM\",\"XOM\",\"XOM\",\"XOM\",\"XOM\",\"XOM\",\"XOM\",\"XOM\",\"XOM\",\"XOM\",\"XOM\"],\"value\":{\"__ndarray__\":\"AAAAgEJbNUAAAACA9oo3QAAAAIAYwTVAAAAAAPDSM0AAAABgfOo3QAAAACCZoD5AAAAAQFseQUAAAADg985HQAAAAIBOl01AAAAAoF22SUAAAACgqXhGQAAAACBYv0hAAAAAIAFeTUAAAAAAc79OQAAAAOCHd1JAAAAA4DtZUUAAAACAPUJOQAAAAIAtI1JAAAAAYGpyUUAAAABgkqBNQAAAAKAnxU9AAAAAIA5EREA=\",\"dtype\":\"float64\",\"shape\":[22]}},\"selected\":{\"id\":\"3089\"},\"selection_policy\":{\"id\":\"3137\"}},\"id\":\"3088\",\"type\":\"ColumnDataSource\"},{\"attributes\":{},\"id\":\"3629\",\"type\":\"ResetTool\"},{\"attributes\":{\"active_drag\":\"auto\",\"active_inspect\":\"auto\",\"active_multi\":null,\"active_scroll\":\"auto\",\"active_tap\":\"auto\",\"tools\":[{\"id\":\"3608\"},{\"id\":\"3625\"},{\"id\":\"3626\"},{\"id\":\"3627\"},{\"id\":\"3628\"},{\"id\":\"3629\"}]},\"id\":\"3631\",\"type\":\"Toolbar\"},{\"attributes\":{},\"id\":\"3333\",\"type\":\"Selection\"},{\"attributes\":{\"data_source\":{\"id\":\"3332\"},\"glyph\":{\"id\":\"3335\"},\"hover_glyph\":null,\"muted_glyph\":{\"id\":\"3337\"},\"nonselection_glyph\":{\"id\":\"3336\"},\"selection_glyph\":null,\"view\":{\"id\":\"3339\"}},\"id\":\"3338\",\"type\":\"GlyphRenderer\"},{\"attributes\":{},\"id\":\"3058\",\"type\":\"UnionRenderers\"},{\"attributes\":{\"line_color\":\"#1f77b3\",\"line_width\":2,\"x\":{\"field\":\"Date\"},\"y\":{\"field\":\"value\"}},\"id\":\"3335\",\"type\":\"Line\"},{\"attributes\":{\"axis_label\":\"Stock Price\",\"axis_label_text_font_size\":\"20pt\",\"bounds\":\"auto\",\"formatter\":{\"id\":\"2937\"},\"major_label_orientation\":\"horizontal\",\"major_label_text_font_size\":\"15pt\",\"ticker\":{\"id\":\"2918\"}},\"id\":\"2917\",\"type\":\"LinearAxis\"},{\"attributes\":{},\"id\":\"3329\",\"type\":\"BasicTickFormatter\"},{\"attributes\":{},\"id\":\"2923\",\"type\":\"WheelZoomTool\"},{\"attributes\":{\"overlay\":{\"id\":\"2926\"}},\"id\":\"2924\",\"type\":\"BoxZoomTool\"},{\"attributes\":{\"data\":{\"Date\":[\"2000\",\"2001\",\"2002\",\"2003\",\"2004\",\"2005\",\"2006\",\"2007\",\"2008\",\"2009\",\"2010\",\"2011\",\"2012\",\"2013\",\"2014\",\"2015\",\"2016\",\"2017\",\"2018\",\"2019\",\"2020\"],\"Variable\":[\"Oil & Gas\",\"Oil & Gas\",\"Oil & Gas\",\"Oil & Gas\",\"Oil & Gas\",\"Oil & Gas\",\"Oil & Gas\",\"Oil & Gas\",\"Oil & Gas\",\"Oil & Gas\",\"Oil & Gas\",\"Oil & Gas\",\"Oil & Gas\",\"Oil & Gas\",\"Oil & Gas\",\"Oil & Gas\",\"Oil & Gas\",\"Oil & Gas\",\"Oil & Gas\",\"Oil & Gas\",\"Oil & Gas\"],\"value\":{\"__ndarray__\":\"PA0WZc7N7z/+tGYQUdruP+QuCDHIb+s/rGDm+sRA8T87z+VTqlf1P9+dzDyXCvg/XtnPQVW+/T9wJrgrfS4CQNIDtsF4XPs/3f1hRLaz/j/hje9DJZQAQLpD8dWrBQNA2zGoZPV6A0COmeFoABIHQFFY/VaMIgVAU1c4NhReAUBrXjG3HaEGQLsS7cpflwlA4KfTikU/B0DVw+XZahEJQDn1Z9FIqP8/\",\"dtype\":\"float64\",\"shape\":[21]}},\"selected\":{\"id\":\"3349\"},\"selection_policy\":{\"id\":\"3373\"}},\"id\":\"3348\",\"type\":\"ColumnDataSource\"}],\"root_ids\":[\"2626\",\"4061\"]},\"title\":\"Bokeh Application\",\"version\":\"2.0.2\"}};\n  var render_items = [{\"docid\":\"a2adcde9-c3a1-4157-bbd1-2d141d3f3bb5\",\"root_ids\":[\"2626\"],\"roots\":{\"2626\":\"9e03be47-00a4-4375-aa60-3c7c157e8d2a\"}}];\n  root.Bokeh.embed.embed_items_notebook(docs_json, render_items);\n  }\nif (root.Bokeh !== undefined) {\n    embed_document(root);\n  } else {\n    var attempts = 0;\n    var timer = setInterval(function(root) {\n      if (root.Bokeh !== undefined) {\n        clearInterval(timer);\n        embed_document(root);\n      } else if (document.readyState == \"complete\") {\n        attempts++;\n        if (attempts > 100) {\n          clearInterval(timer);\n          console.log(\"Bokeh: ERROR: Unable to run BokehJS code because BokehJS library is missing\");\n        }\n      }\n    }, 10, root)\n  }\n})(window);</script>",
      "application/vnd.holoviews_exec.v0+json": "",
      "text/plain": [
       "Tabs\n",
       "    [0] Column\n",
       "        [0] Markdown(str)\n",
       "        [1] HoloViews(Curve)\n",
       "        [2] HoloViews(Curve)\n",
       "        [3] HoloViews(NdOverlay)\n",
       "    [1] Column\n",
       "        [0] Markdown(str)\n",
       "        [1] HoloViews(NdOverlay)\n",
       "        [2] HoloViews(NdOverlay)\n",
       "    [2] Column\n",
       "        [0] Markdown(str)\n",
       "        [1] Column\n",
       "            [0] Column()\n",
       "            [1] Row\n",
       "                [0] HoloViews(NdOverlay, name='interactive05871')\n",
       "        [2] Column\n",
       "            [0] Column()\n",
       "            [1] Row\n",
       "                [0] HoloViews(Bars, name='interactive06016')\n",
       "    [3] Column\n",
       "        [0] Markdown(str)\n",
       "        [1] HoloViews(Scatter)\n",
       "        [2] Column\n",
       "            [0] Column()\n",
       "            [1] Row\n",
       "                [0] HoloViews(Scatter, name='interactive06268')\n",
       "        [3] Plotly(Figure)"
      ]
     },
     "metadata": {
      "application/vnd.holoviews_exec.v0+json": {
       "id": "2626"
      }
     },
     "execution_count": 19
    }
   ],
   "source": [
    "dashboard.servable()"
   ]
  },
  {
   "cell_type": "code",
   "execution_count": null,
   "metadata": {},
   "outputs": [],
   "source": []
  }
 ],
 "metadata": {
  "kernelspec": {
   "display_name": "Python 3",
   "language": "python",
   "name": "python3"
  },
  "language_info": {
   "codemirror_mode": {
    "name": "ipython",
    "version": 3
   },
   "file_extension": ".py",
   "mimetype": "text/x-python",
   "name": "python",
   "nbconvert_exporter": "python",
   "pygments_lexer": "ipython3",
   "version": "3.8.5-final"
  }
 },
 "nbformat": 4,
 "nbformat_minor": 4
}