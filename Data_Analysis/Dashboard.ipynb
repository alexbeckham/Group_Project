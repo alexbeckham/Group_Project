{
 "cells": [
  {
   "cell_type": "code",
   "execution_count": 96,
   "metadata": {},
   "outputs": [],
   "source": [
    "import pandas as pd\n",
    "import numpy as np\n",
    "from pandas_datareader import data as pdr\n",
    "import yfinance as yf\n",
    "import datetime as dt\n",
    "import numpy\n",
    "import panel as pn\n",
    "import seaborn as sns\n",
    "\n",
    "import plotly.express as px\n",
    "pn.extension(\"plotly\")\n",
    "%matplotlib inline\n",
    "\n",
    "\n",
    "yf.pdr_override()\n",
    "\n",
    "import hvplot.pandas\n",
    "import holoviews as hv"
   ]
  },
  {
   "cell_type": "code",
   "execution_count": 97,
   "metadata": {},
   "outputs": [
    {
     "data": {
      "text/html": [
       "<div>\n",
       "<style scoped>\n",
       "    .dataframe tbody tr th:only-of-type {\n",
       "        vertical-align: middle;\n",
       "    }\n",
       "\n",
       "    .dataframe tbody tr th {\n",
       "        vertical-align: top;\n",
       "    }\n",
       "\n",
       "    .dataframe thead th {\n",
       "        text-align: right;\n",
       "    }\n",
       "</style>\n",
       "<table border=\"1\" class=\"dataframe\">\n",
       "  <thead>\n",
       "    <tr style=\"text-align: right;\">\n",
       "      <th></th>\n",
       "      <th>Production (Oil)</th>\n",
       "      <th>Production (Alternative)</th>\n",
       "    </tr>\n",
       "    <tr>\n",
       "      <th>Year</th>\n",
       "      <th></th>\n",
       "      <th></th>\n",
       "    </tr>\n",
       "  </thead>\n",
       "  <tbody>\n",
       "    <tr>\n",
       "      <th>1980</th>\n",
       "      <td>20.474</td>\n",
       "      <td>8.168</td>\n",
       "    </tr>\n",
       "    <tr>\n",
       "      <th>1981</th>\n",
       "      <td>20.412</td>\n",
       "      <td>8.421</td>\n",
       "    </tr>\n",
       "    <tr>\n",
       "      <th>1982</th>\n",
       "      <td>20.458</td>\n",
       "      <td>9.111</td>\n",
       "    </tr>\n",
       "    <tr>\n",
       "      <th>1983</th>\n",
       "      <td>20.528</td>\n",
       "      <td>9.698</td>\n",
       "    </tr>\n",
       "    <tr>\n",
       "      <th>1984</th>\n",
       "      <td>21.082</td>\n",
       "      <td>9.990</td>\n",
       "    </tr>\n",
       "  </tbody>\n",
       "</table>\n",
       "</div>"
      ],
      "text/plain": [
       "      Production (Oil)  Production (Alternative)\n",
       "Year                                            \n",
       "1980            20.474                     8.168\n",
       "1981            20.412                     8.421\n",
       "1982            20.458                     9.111\n",
       "1983            20.528                     9.698\n",
       "1984            21.082                     9.990"
      ]
     },
     "execution_count": 97,
     "metadata": {},
     "output_type": "execute_result"
    }
   ],
   "source": [
    "combined_production = pd.read_csv(\"../Data/Total_Production_CLEAN.csv\",index_col=\"Year\")\n",
    "combined_production.head()"
   ]
  },
  {
   "cell_type": "code",
   "execution_count": 98,
   "metadata": {},
   "outputs": [],
   "source": [
    "def alt_base():\n",
    "    tickers = ['BLX','CIG','ELP','PLUG']\n",
    "    start = dt.datetime(1975,1,1)\n",
    "    end = dt.datetime(2021,1,1)\n",
    "    df = pdr.get_data_yahoo(tickers,start,end)['Adj Close']\n",
    "    df = df.reset_index()\n",
    "    \n",
    "    def to_string(x):\n",
    "        return str(x)   \n",
    "        \n",
    "    df['Date'] = df['Date'].apply(to_string).apply(lambda x: x.split('-')[0]) #! Works: From 1975\n",
    "    df = df.groupby('Date').last().loc['1999':'2020', :] #! Works: From 175\n",
    "    return df"
   ]
  },
  {
   "cell_type": "code",
   "execution_count": 99,
   "metadata": {},
   "outputs": [],
   "source": [
    "def oil_base():\n",
    "    tickers1 = ['XOM','RDS-B','CVX','BP']\n",
    "    start = dt.datetime(1975,1,1)\n",
    "    end = dt.datetime(2021,1,1)\n",
    "    df = pdr.get_data_yahoo(tickers1,start,end)['Adj Close']\n",
    "    df = df.reset_index()\n",
    "    \n",
    "    def to_string(x):\n",
    "        return str(x)   \n",
    "        \n",
    "    df['Date'] = df['Date'].apply(to_string).apply(lambda x: x.split('-')[0]) #! Works: From 1975\n",
    "    df = df.groupby('Date').last().loc['1999':'2020', :] #! Works: From 175\n",
    "    return df"
   ]
  },
  {
   "cell_type": "code",
   "execution_count": 100,
   "metadata": {},
   "outputs": [
    {
     "name": "stdout",
     "output_type": "stream",
     "text": [
      "[*********************100%***********************]  4 of 4 completed\n",
      "[*********************100%***********************]  4 of 4 completed\n"
     ]
    },
    {
     "data": {},
     "metadata": {},
     "output_type": "display_data"
    },
    {
     "data": {
      "application/vnd.holoviews_exec.v0+json": "",
      "text/html": [
       "<div id='16883'>\n",
       "\n",
       "\n",
       "\n",
       "\n",
       "\n",
       "  <div class=\"bk-root\" id=\"50c82e1d-40a2-4d3c-801c-b779dce4f453\" data-root-id=\"16883\"></div>\n",
       "</div>\n",
       "<script type=\"application/javascript\">(function(root) {\n",
       "  function embed_document(root) {\n",
       "  var docs_json = {\"ef4ef788-8c0c-4bb2-a55c-effc9546bc7d\":{\"roots\":{\"references\":[{\"attributes\":{\"line_alpha\":0.2,\"line_color\":\"#8c564b\",\"line_width\":2,\"x\":{\"field\":\"Date\"},\"y\":{\"field\":\"value\"}},\"id\":\"17031\",\"type\":\"Line\"},{\"attributes\":{\"source\":{\"id\":\"17026\"}},\"id\":\"17033\",\"type\":\"CDSView\"},{\"attributes\":{\"axis\":{\"id\":\"16904\"},\"grid_line_color\":\"lightgray\",\"grid_line_width\":1.5,\"minor_grid_line_color\":\"lightgray\",\"ticker\":{\"id\":\"16905\"}},\"id\":\"16906\",\"type\":\"Grid\"},{\"attributes\":{\"label\":{\"value\":\"BP\"},\"renderers\":[{\"id\":\"17009\"}]},\"id\":\"17025\",\"type\":\"LegendItem\"},{\"attributes\":{\"axis_label\":\"Date\",\"axis_label_text_font_size\":\"20pt\",\"bounds\":\"auto\",\"formatter\":{\"id\":\"16925\"},\"group_text_font_size\":\"15pt\",\"major_label_orientation\":1.5707963267948966,\"major_label_text_font_size\":\"15pt\",\"ticker\":{\"id\":\"16905\"}},\"id\":\"16904\",\"type\":\"CategoricalAxis\"},{\"attributes\":{\"line_color\":\"#d62628\",\"line_width\":2,\"x\":{\"field\":\"Date\"},\"y\":{\"field\":\"value\"}},\"id\":\"16985\",\"type\":\"Line\"},{\"attributes\":{},\"id\":\"17126\",\"type\":\"UnionRenderers\"},{\"attributes\":{},\"id\":\"16900\",\"type\":\"CategoricalScale\"},{\"attributes\":{\"axis\":{\"id\":\"16907\"},\"dimension\":1,\"grid_line_color\":\"lightgray\",\"grid_line_width\":1.5,\"ticker\":{\"id\":\"16908\"}},\"id\":\"16910\",\"type\":\"Grid\"},{\"attributes\":{\"line_alpha\":0.2,\"line_color\":\"#d62628\",\"line_width\":2,\"x\":{\"field\":\"Date\"},\"y\":{\"field\":\"value\"}},\"id\":\"16987\",\"type\":\"Line\"},{\"attributes\":{\"axis_label\":\"Stock Price\",\"axis_label_text_font_size\":\"20pt\",\"bounds\":\"auto\",\"formatter\":{\"id\":\"16927\"},\"major_label_orientation\":\"horizontal\",\"major_label_text_font_size\":\"15pt\",\"ticker\":{\"id\":\"16908\"}},\"id\":\"16907\",\"type\":\"LinearAxis\"},{\"attributes\":{\"label\":{\"value\":\"PLUG\"},\"renderers\":[{\"id\":\"16988\"}]},\"id\":\"17002\",\"type\":\"LegendItem\"},{\"attributes\":{},\"id\":\"16905\",\"type\":\"CategoricalTicker\"},{\"attributes\":{},\"id\":\"16908\",\"type\":\"BasicTicker\"},{\"attributes\":{\"source\":{\"id\":\"16982\"}},\"id\":\"16989\",\"type\":\"CDSView\"},{\"attributes\":{},\"id\":\"16902\",\"type\":\"LinearScale\"},{\"attributes\":{\"data\":{\"Date\":[\"1999\",\"2000\",\"2001\",\"2002\",\"2003\",\"2004\",\"2005\",\"2006\",\"2007\",\"2008\",\"2009\",\"2010\",\"2011\",\"2012\",\"2013\",\"2014\",\"2015\",\"2016\",\"2017\",\"2018\",\"2019\",\"2020\"],\"Variable\":[\"BLX\",\"BLX\",\"BLX\",\"BLX\",\"BLX\",\"BLX\",\"BLX\",\"BLX\",\"BLX\",\"BLX\",\"BLX\",\"BLX\",\"BLX\",\"BLX\",\"BLX\",\"BLX\",\"BLX\",\"BLX\",\"BLX\",\"BLX\",\"BLX\",\"BLX\"],\"value\":{\"__ndarray__\":\"AAAAgAz2HEAAAABAWDMmQAAAAACyFSNAAAAAgBTE+D8AAACg4ioaQAAAAEBThh1AAAAA4MB6HkAAAABASFIfQAAAAMCunB9AAAAAgD+7HUAAAADgWXweQAAAAMD+JCVAAAAAIGtCI0AAAACAjT0rQAAAACDnmDJAAAAAwAE9NUAAAABAt8cyQAAAAIAdRTZAAAAAAAiDNUAAAACAOIwtQAAAACBSqDNAAAAAwPWoL0A=\",\"dtype\":\"float64\",\"shape\":[22]}},\"selected\":{\"id\":\"16931\"},\"selection_policy\":{\"id\":\"16959\"}},\"id\":\"16930\",\"type\":\"ColumnDataSource\"},{\"attributes\":{},\"id\":\"16983\",\"type\":\"Selection\"},{\"attributes\":{},\"id\":\"16911\",\"type\":\"SaveTool\"},{\"attributes\":{\"end\":120,\"reset_end\":120,\"reset_start\":0,\"tags\":[[[\"value\",\"value\",null]]]},\"id\":\"16886\",\"type\":\"Range1d\"},{\"attributes\":{\"line_color\":\"#e277c1\",\"line_width\":2,\"x\":{\"field\":\"Date\"},\"y\":{\"field\":\"value\"}},\"id\":\"17054\",\"type\":\"Line\"},{\"attributes\":{},\"id\":\"16913\",\"type\":\"WheelZoomTool\"},{\"attributes\":{},\"id\":\"16912\",\"type\":\"PanTool\"},{\"attributes\":{\"line_alpha\":0.1,\"line_color\":\"#d62628\",\"line_width\":2,\"x\":{\"field\":\"Date\"},\"y\":{\"field\":\"value\"}},\"id\":\"16986\",\"type\":\"Line\"},{\"attributes\":{\"overlay\":{\"id\":\"16916\"}},\"id\":\"16914\",\"type\":\"BoxZoomTool\"},{\"attributes\":{\"data_source\":{\"id\":\"16982\"},\"glyph\":{\"id\":\"16985\"},\"hover_glyph\":null,\"muted_glyph\":{\"id\":\"16987\"},\"nonselection_glyph\":{\"id\":\"16986\"},\"selection_glyph\":null,\"view\":{\"id\":\"16989\"}},\"id\":\"16988\",\"type\":\"GlyphRenderer\"},{\"attributes\":{\"line_alpha\":0.2,\"line_color\":\"#e277c1\",\"line_width\":2,\"x\":{\"field\":\"Date\"},\"y\":{\"field\":\"value\"}},\"id\":\"17056\",\"type\":\"Line\"},{\"attributes\":{},\"id\":\"16915\",\"type\":\"ResetTool\"},{\"attributes\":{},\"id\":\"16999\",\"type\":\"UnionRenderers\"},{\"attributes\":{\"label\":{\"value\":\"RDS-B\"},\"renderers\":[{\"id\":\"17057\"}]},\"id\":\"17077\",\"type\":\"LegendItem\"},{\"attributes\":{},\"id\":\"16925\",\"type\":\"CategoricalTickFormatter\"},{\"attributes\":{\"source\":{\"id\":\"17051\"}},\"id\":\"17058\",\"type\":\"CDSView\"},{\"attributes\":{},\"id\":\"17052\",\"type\":\"Selection\"},{\"attributes\":{\"margin\":[5,5,5,5],\"name\":\"HSpacer33641\",\"sizing_mode\":\"stretch_width\"},\"id\":\"17283\",\"type\":\"Spacer\"},{\"attributes\":{\"line_alpha\":0.1,\"line_color\":\"#e277c1\",\"line_width\":2,\"x\":{\"field\":\"Date\"},\"y\":{\"field\":\"value\"}},\"id\":\"17055\",\"type\":\"Line\"},{\"attributes\":{\"data_source\":{\"id\":\"17051\"},\"glyph\":{\"id\":\"17054\"},\"hover_glyph\":null,\"muted_glyph\":{\"id\":\"17056\"},\"nonselection_glyph\":{\"id\":\"17055\"},\"selection_glyph\":null,\"view\":{\"id\":\"17058\"}},\"id\":\"17057\",\"type\":\"GlyphRenderer\"},{\"attributes\":{},\"id\":\"17074\",\"type\":\"UnionRenderers\"},{\"attributes\":{\"line_alpha\":0.2,\"line_color\":\"#ff7e0e\",\"line_width\":2,\"x\":{\"field\":\"Date\"},\"y\":{\"field\":\"value\"}},\"id\":\"16951\",\"type\":\"Line\"},{\"attributes\":{\"line_color\":\"#ff7e0e\",\"line_width\":2,\"x\":{\"field\":\"Date\"},\"y\":{\"field\":\"value\"}},\"id\":\"16949\",\"type\":\"Line\"},{\"attributes\":{\"label\":{\"value\":\"CVX\"},\"renderers\":[{\"id\":\"17032\"}]},\"id\":\"17050\",\"type\":\"LegendItem\"},{\"attributes\":{\"data\":{\"Date\":[\"1999\",\"2000\",\"2001\",\"2002\",\"2003\",\"2004\",\"2005\",\"2006\",\"2007\",\"2008\",\"2009\",\"2010\",\"2011\",\"2012\",\"2013\",\"2014\",\"2015\",\"2016\",\"2017\",\"2018\",\"2019\",\"2020\"],\"Variable\":[\"CIG\",\"CIG\",\"CIG\",\"CIG\",\"CIG\",\"CIG\",\"CIG\",\"CIG\",\"CIG\",\"CIG\",\"CIG\",\"CIG\",\"CIG\",\"CIG\",\"CIG\",\"CIG\",\"CIG\",\"CIG\",\"CIG\",\"CIG\",\"CIG\",\"CIG\"],\"value\":{\"__ndarray__\":\"AAAAYMbE6T8AAACA57/gPwAAAIBSmOA/AAAAYPKA0T8AAADAEG3mPwAAAEAE5u8/AAAAAH3J+D8AAACgHKoAQAAAAADukQRAAAAAwCMQAEAAAACAzo0LQAAAAEDstAtAAAAAoFNKEEAAAAAAznYOQAAAAKBK3wpAAAAAQPY2C0AAAABA7zXxPwAAAKCriP0/AAAAoLmb+z8AAADgjsEJQAAAAGA2dglAAAAAYP2ZBkA=\",\"dtype\":\"float64\",\"shape\":[22]}},\"selected\":{\"id\":\"16947\"},\"selection_policy\":{\"id\":\"16978\"}},\"id\":\"16946\",\"type\":\"ColumnDataSource\"},{\"attributes\":{\"label\":{\"value\":\"CIG\"},\"renderers\":[{\"id\":\"16952\"}]},\"id\":\"16962\",\"type\":\"LegendItem\"},{\"attributes\":{\"bottom_units\":\"screen\",\"fill_alpha\":0.5,\"fill_color\":\"lightgrey\",\"left_units\":\"screen\",\"level\":\"overlay\",\"line_alpha\":1.0,\"line_color\":\"black\",\"line_dash\":[4,4],\"line_width\":2,\"render_mode\":\"css\",\"right_units\":\"screen\",\"top_units\":\"screen\"},\"id\":\"16916\",\"type\":\"BoxAnnotation\"},{\"attributes\":{\"line_color\":\"#9367bc\",\"line_width\":2,\"x\":{\"field\":\"Date\"},\"y\":{\"field\":\"value\"}},\"id\":\"17006\",\"type\":\"Line\"},{\"attributes\":{\"source\":{\"id\":\"16946\"}},\"id\":\"16953\",\"type\":\"CDSView\"},{\"attributes\":{\"line_alpha\":0.1,\"line_color\":\"#8c564b\",\"line_width\":2,\"x\":{\"field\":\"Date\"},\"y\":{\"field\":\"value\"}},\"id\":\"17030\",\"type\":\"Line\"},{\"attributes\":{},\"id\":\"16947\",\"type\":\"Selection\"},{\"attributes\":{\"below\":[{\"id\":\"16904\"}],\"center\":[{\"id\":\"16906\"},{\"id\":\"16910\"}],\"left\":[{\"id\":\"16907\"}],\"margin\":null,\"min_border_bottom\":10,\"min_border_left\":10,\"min_border_right\":10,\"min_border_top\":10,\"plot_height\":400,\"plot_width\":1200,\"renderers\":[{\"id\":\"16936\"},{\"id\":\"16952\"},{\"id\":\"16969\"},{\"id\":\"16988\"},{\"id\":\"17009\"},{\"id\":\"17032\"},{\"id\":\"17057\"},{\"id\":\"17084\"}],\"right\":[{\"id\":\"16944\"}],\"sizing_mode\":\"fixed\",\"title\":{\"id\":\"16896\"},\"toolbar\":{\"id\":\"16917\"},\"x_range\":{\"id\":\"16885\"},\"x_scale\":{\"id\":\"16900\"},\"y_range\":{\"id\":\"16886\"},\"y_scale\":{\"id\":\"16902\"}},\"id\":\"16895\",\"subtype\":\"Figure\",\"type\":\"Plot\"},{\"attributes\":{\"factors\":[\"1999\",\"2000\",\"2001\",\"2002\",\"2003\",\"2004\",\"2005\",\"2006\",\"2007\",\"2008\",\"2009\",\"2010\",\"2011\",\"2012\",\"2013\",\"2014\",\"2015\",\"2016\",\"2017\",\"2018\",\"2019\",\"2020\"],\"tags\":[[[\"Date\",\"Date\",null]]]},\"id\":\"16885\",\"type\":\"FactorRange\"},{\"attributes\":{\"margin\":[5,5,5,5],\"name\":\"HSpacer33640\",\"sizing_mode\":\"stretch_width\"},\"id\":\"16884\",\"type\":\"Spacer\"},{\"attributes\":{\"line_color\":\"#2ba02b\",\"line_width\":2,\"x\":{\"field\":\"Date\"},\"y\":{\"field\":\"value\"}},\"id\":\"16966\",\"type\":\"Line\"},{\"attributes\":{\"source\":{\"id\":\"17003\"}},\"id\":\"17010\",\"type\":\"CDSView\"},{\"attributes\":{\"line_alpha\":0.1,\"line_color\":\"#ff7e0e\",\"line_width\":2,\"x\":{\"field\":\"Date\"},\"y\":{\"field\":\"value\"}},\"id\":\"16950\",\"type\":\"Line\"},{\"attributes\":{\"line_alpha\":0.2,\"line_color\":\"#9367bc\",\"line_width\":2,\"x\":{\"field\":\"Date\"},\"y\":{\"field\":\"value\"}},\"id\":\"17008\",\"type\":\"Line\"},{\"attributes\":{\"data\":{\"Date\":[\"1999\",\"2000\",\"2001\",\"2002\",\"2003\",\"2004\",\"2005\",\"2006\",\"2007\",\"2008\",\"2009\",\"2010\",\"2011\",\"2012\",\"2013\",\"2014\",\"2015\",\"2016\",\"2017\",\"2018\",\"2019\",\"2020\"],\"Variable\":[\"PLUG\",\"PLUG\",\"PLUG\",\"PLUG\",\"PLUG\",\"PLUG\",\"PLUG\",\"PLUG\",\"PLUG\",\"PLUG\",\"PLUG\",\"PLUG\",\"PLUG\",\"PLUG\",\"PLUG\",\"PLUG\",\"PLUG\",\"PLUG\",\"PLUG\",\"PLUG\",\"PLUG\",\"PLUG\"],\"value\":{\"__ndarray__\":\"AAAAAACocUAAAAAAAFxiQAAAAKCZ2VVAAAAAQDNzRkAAAAAAACBSQAAAAMDMjE5AAAAAYGamSUAAAABAM3NDQAAAAAAAwENAAAAAYGZmJEAAAABgZmYcQAAAAKCZmQ1AAAAAgOtRAEAAAAAAAADgPwAAAMDMzPg/AAAAAAAACEAAAACgR+EAQAAAAEAzM/M/AAAAoEfhAkAAAABACtfzPwAAACCuRwlAAAAA4Hr0QEA=\",\"dtype\":\"float64\",\"shape\":[22]}},\"selected\":{\"id\":\"16983\"},\"selection_policy\":{\"id\":\"17022\"}},\"id\":\"16982\",\"type\":\"ColumnDataSource\"},{\"attributes\":{},\"id\":\"17004\",\"type\":\"Selection\"},{\"attributes\":{\"data_source\":{\"id\":\"16946\"},\"glyph\":{\"id\":\"16949\"},\"hover_glyph\":null,\"muted_glyph\":{\"id\":\"16951\"},\"nonselection_glyph\":{\"id\":\"16950\"},\"selection_glyph\":null,\"view\":{\"id\":\"16953\"}},\"id\":\"16952\",\"type\":\"GlyphRenderer\"},{\"attributes\":{\"line_alpha\":0.1,\"line_color\":\"#7e7e7e\",\"line_width\":2,\"x\":{\"field\":\"Date\"},\"y\":{\"field\":\"value\"}},\"id\":\"17082\",\"type\":\"Line\"},{\"attributes\":{\"line_alpha\":0.1,\"line_color\":\"#9367bc\",\"line_width\":2,\"x\":{\"field\":\"Date\"},\"y\":{\"field\":\"value\"}},\"id\":\"17007\",\"type\":\"Line\"},{\"attributes\":{},\"id\":\"16959\",\"type\":\"UnionRenderers\"},{\"attributes\":{\"data_source\":{\"id\":\"17078\"},\"glyph\":{\"id\":\"17081\"},\"hover_glyph\":null,\"muted_glyph\":{\"id\":\"17083\"},\"nonselection_glyph\":{\"id\":\"17082\"},\"selection_glyph\":null,\"view\":{\"id\":\"17085\"}},\"id\":\"17084\",\"type\":\"GlyphRenderer\"},{\"attributes\":{\"data_source\":{\"id\":\"17003\"},\"glyph\":{\"id\":\"17006\"},\"hover_glyph\":null,\"muted_glyph\":{\"id\":\"17008\"},\"nonselection_glyph\":{\"id\":\"17007\"},\"selection_glyph\":null,\"view\":{\"id\":\"17010\"}},\"id\":\"17009\",\"type\":\"GlyphRenderer\"},{\"attributes\":{\"data_source\":{\"id\":\"16963\"},\"glyph\":{\"id\":\"16966\"},\"hover_glyph\":null,\"muted_glyph\":{\"id\":\"16968\"},\"nonselection_glyph\":{\"id\":\"16967\"},\"selection_glyph\":null,\"view\":{\"id\":\"16970\"}},\"id\":\"16969\",\"type\":\"GlyphRenderer\"},{\"attributes\":{},\"id\":\"17022\",\"type\":\"UnionRenderers\"},{\"attributes\":{\"line_alpha\":0.2,\"line_color\":\"#7e7e7e\",\"line_width\":2,\"x\":{\"field\":\"Date\"},\"y\":{\"field\":\"value\"}},\"id\":\"17083\",\"type\":\"Line\"},{\"attributes\":{\"label\":{\"value\":\"XOM\"},\"renderers\":[{\"id\":\"17084\"}]},\"id\":\"17106\",\"type\":\"LegendItem\"},{\"attributes\":{\"label\":{\"value\":\"ELP\"},\"renderers\":[{\"id\":\"16969\"}]},\"id\":\"16981\",\"type\":\"LegendItem\"},{\"attributes\":{\"line_color\":\"#7e7e7e\",\"line_width\":2,\"x\":{\"field\":\"Date\"},\"y\":{\"field\":\"value\"}},\"id\":\"17081\",\"type\":\"Line\"},{\"attributes\":{\"line_alpha\":0.1,\"line_color\":\"#2ba02b\",\"line_width\":2,\"x\":{\"field\":\"Date\"},\"y\":{\"field\":\"value\"}},\"id\":\"16967\",\"type\":\"Line\"},{\"attributes\":{\"source\":{\"id\":\"17078\"}},\"id\":\"17085\",\"type\":\"CDSView\"},{\"attributes\":{\"active_drag\":\"auto\",\"active_inspect\":\"auto\",\"active_multi\":null,\"active_scroll\":\"auto\",\"active_tap\":\"auto\",\"tools\":[{\"id\":\"16887\"},{\"id\":\"16911\"},{\"id\":\"16912\"},{\"id\":\"16913\"},{\"id\":\"16914\"},{\"id\":\"16915\"}]},\"id\":\"16917\",\"type\":\"Toolbar\"},{\"attributes\":{\"callback\":null,\"renderers\":[{\"id\":\"16936\"},{\"id\":\"16952\"},{\"id\":\"16969\"},{\"id\":\"16988\"},{\"id\":\"17009\"},{\"id\":\"17032\"},{\"id\":\"17057\"},{\"id\":\"17084\"}],\"tags\":[\"hv_created\"],\"tooltips\":[[\"Variable\",\"@{Variable}\"],[\"Date\",\"@{Date}\"],[\"value\",\"@{value}\"]]},\"id\":\"16887\",\"type\":\"HoverTool\"},{\"attributes\":{},\"id\":\"17079\",\"type\":\"Selection\"},{\"attributes\":{\"line_alpha\":0.2,\"line_color\":\"#2ba02b\",\"line_width\":2,\"x\":{\"field\":\"Date\"},\"y\":{\"field\":\"value\"}},\"id\":\"16968\",\"type\":\"Line\"},{\"attributes\":{\"children\":[{\"id\":\"16884\"},{\"id\":\"16895\"},{\"id\":\"17283\"}],\"margin\":[0,0,0,0],\"name\":\"Row33636\",\"tags\":[\"embedded\"]},\"id\":\"16883\",\"type\":\"Row\"},{\"attributes\":{\"source\":{\"id\":\"16963\"}},\"id\":\"16970\",\"type\":\"CDSView\"},{\"attributes\":{},\"id\":\"16964\",\"type\":\"Selection\"},{\"attributes\":{\"text\":\"Oil and Alternative Stock Prices from 1999-2020\",\"text_color\":{\"value\":\"black\"},\"text_font_size\":{\"value\":\"20pt\"}},\"id\":\"16896\",\"type\":\"Title\"},{\"attributes\":{},\"id\":\"16927\",\"type\":\"BasicTickFormatter\"},{\"attributes\":{\"data\":{\"Date\":[\"1999\",\"2000\",\"2001\",\"2002\",\"2003\",\"2004\",\"2005\",\"2006\",\"2007\",\"2008\",\"2009\",\"2010\",\"2011\",\"2012\",\"2013\",\"2014\",\"2015\",\"2016\",\"2017\",\"2018\",\"2019\",\"2020\"],\"Variable\":[\"XOM\",\"XOM\",\"XOM\",\"XOM\",\"XOM\",\"XOM\",\"XOM\",\"XOM\",\"XOM\",\"XOM\",\"XOM\",\"XOM\",\"XOM\",\"XOM\",\"XOM\",\"XOM\",\"XOM\",\"XOM\",\"XOM\",\"XOM\",\"XOM\",\"XOM\"],\"value\":{\"__ndarray__\":\"AAAAgEJbNUAAAACA9oo3QAAAAIAYwTVAAAAAAPDSM0AAAABgfOo3QAAAACCZoD5AAAAAQFseQUAAAADg985HQAAAAIBOl01AAAAAoF22SUAAAACgqXhGQAAAACBYv0hAAAAAIAFeTUAAAAAAc79OQAAAAOCHd1JAAAAA4DtZUUAAAACAPUJOQAAAAIAtI1JAAAAAYGpyUUAAAABgkqBNQAAAAKAnxU9AAAAAIA5EREA=\",\"dtype\":\"float64\",\"shape\":[22]}},\"selected\":{\"id\":\"17079\"},\"selection_policy\":{\"id\":\"17126\"}},\"id\":\"17078\",\"type\":\"ColumnDataSource\"},{\"attributes\":{\"data\":{\"Date\":[\"1999\",\"2000\",\"2001\",\"2002\",\"2003\",\"2004\",\"2005\",\"2006\",\"2007\",\"2008\",\"2009\",\"2010\",\"2011\",\"2012\",\"2013\",\"2014\",\"2015\",\"2016\",\"2017\",\"2018\",\"2019\",\"2020\"],\"Variable\":[\"BP\",\"BP\",\"BP\",\"BP\",\"BP\",\"BP\",\"BP\",\"BP\",\"BP\",\"BP\",\"BP\",\"BP\",\"BP\",\"BP\",\"BP\",\"BP\",\"BP\",\"BP\",\"BP\",\"BP\",\"BP\",\"BP\"],\"value\":{\"__ndarray__\":\"AAAAwCYxNkAAAADgB2UyQAAAAOCtYTJAAAAAoC+gMEAAAAAAAwM1QAAAAKC6qzlAAAAAwNMnPUAAAADg+Hk/QAAAACCmzkFAAAAAgHALOEAAAABg4vA/QAAAAABPtThAAAAAwEzVOEAAAACgKlc5QAAAACDNGT9AAAAAwFSjOUAAAAAAdls2QAAAAKA+1DxAAAAA4ENPQUAAAAAgwYRAQAAAAABQe0FAAAAAwB6FNEA=\",\"dtype\":\"float64\",\"shape\":[22]}},\"selected\":{\"id\":\"17004\"},\"selection_policy\":{\"id\":\"17047\"}},\"id\":\"17003\",\"type\":\"ColumnDataSource\"},{\"attributes\":{\"data\":{\"Date\":[\"1999\",\"2000\",\"2001\",\"2002\",\"2003\",\"2004\",\"2005\",\"2006\",\"2007\",\"2008\",\"2009\",\"2010\",\"2011\",\"2012\",\"2013\",\"2014\",\"2015\",\"2016\",\"2017\",\"2018\",\"2019\",\"2020\"],\"Variable\":[\"ELP\",\"ELP\",\"ELP\",\"ELP\",\"ELP\",\"ELP\",\"ELP\",\"ELP\",\"ELP\",\"ELP\",\"ELP\",\"ELP\",\"ELP\",\"ELP\",\"ELP\",\"ELP\",\"ELP\",\"ELP\",\"ELP\",\"ELP\",\"ELP\",\"ELP\"],\"value\":{\"__ndarray__\":\"AAAAgB6oEEAAAADgyiYPQAAAAECk8A1AAAAAIA3g9T8AAACgEZECQAAAAGAjrgFAAAAA4MefDkAAAABggcgWQAAAACBpUSBAAAAAIPeXF0AAAAAgOWEpQAAAAGAJSS5AAAAAoA9DKkAAAADg64EjQAAAAEDa5SFAAAAA4P9LI0AAAACgf6cRQAAAAAD+nhpAAAAAgKuqGUAAAADgF60cQAAAAIDSOzBAAAAAoJmZLEA=\",\"dtype\":\"float64\",\"shape\":[22]}},\"selected\":{\"id\":\"16964\"},\"selection_policy\":{\"id\":\"16999\"}},\"id\":\"16963\",\"type\":\"ColumnDataSource\"},{\"attributes\":{},\"id\":\"17103\",\"type\":\"UnionRenderers\"},{\"attributes\":{},\"id\":\"17047\",\"type\":\"UnionRenderers\"},{\"attributes\":{\"data_source\":{\"id\":\"16930\"},\"glyph\":{\"id\":\"16933\"},\"hover_glyph\":null,\"muted_glyph\":{\"id\":\"16935\"},\"nonselection_glyph\":{\"id\":\"16934\"},\"selection_glyph\":null,\"view\":{\"id\":\"16937\"}},\"id\":\"16936\",\"type\":\"GlyphRenderer\"},{\"attributes\":{},\"id\":\"16978\",\"type\":\"UnionRenderers\"},{\"attributes\":{\"line_color\":\"#1f77b3\",\"line_width\":2,\"x\":{\"field\":\"Date\"},\"y\":{\"field\":\"value\"}},\"id\":\"16933\",\"type\":\"Line\"},{\"attributes\":{},\"id\":\"17027\",\"type\":\"Selection\"},{\"attributes\":{\"line_alpha\":0.1,\"line_color\":\"#1f77b3\",\"line_width\":2,\"x\":{\"field\":\"Date\"},\"y\":{\"field\":\"value\"}},\"id\":\"16934\",\"type\":\"Line\"},{\"attributes\":{\"source\":{\"id\":\"16930\"}},\"id\":\"16937\",\"type\":\"CDSView\"},{\"attributes\":{\"data_source\":{\"id\":\"17026\"},\"glyph\":{\"id\":\"17029\"},\"hover_glyph\":null,\"muted_glyph\":{\"id\":\"17031\"},\"nonselection_glyph\":{\"id\":\"17030\"},\"selection_glyph\":null,\"view\":{\"id\":\"17033\"}},\"id\":\"17032\",\"type\":\"GlyphRenderer\"},{\"attributes\":{},\"id\":\"16931\",\"type\":\"Selection\"},{\"attributes\":{\"line_color\":\"#8c564b\",\"line_width\":2,\"x\":{\"field\":\"Date\"},\"y\":{\"field\":\"value\"}},\"id\":\"17029\",\"type\":\"Line\"},{\"attributes\":{\"line_alpha\":0.2,\"line_color\":\"#1f77b3\",\"line_width\":2,\"x\":{\"field\":\"Date\"},\"y\":{\"field\":\"value\"}},\"id\":\"16935\",\"type\":\"Line\"},{\"attributes\":{\"click_policy\":\"mute\",\"items\":[{\"id\":\"16945\"},{\"id\":\"16962\"},{\"id\":\"16981\"},{\"id\":\"17002\"},{\"id\":\"17025\"},{\"id\":\"17050\"},{\"id\":\"17077\"},{\"id\":\"17106\"}],\"label_text_font_size\":\"20pt\",\"location\":[0,0],\"title\":\"Variable\"},\"id\":\"16944\",\"type\":\"Legend\"},{\"attributes\":{\"data\":{\"Date\":[\"1999\",\"2000\",\"2001\",\"2002\",\"2003\",\"2004\",\"2005\",\"2006\",\"2007\",\"2008\",\"2009\",\"2010\",\"2011\",\"2012\",\"2013\",\"2014\",\"2015\",\"2016\",\"2017\",\"2018\",\"2019\",\"2020\"],\"Variable\":[\"RDS-B\",\"RDS-B\",\"RDS-B\",\"RDS-B\",\"RDS-B\",\"RDS-B\",\"RDS-B\",\"RDS-B\",\"RDS-B\",\"RDS-B\",\"RDS-B\",\"RDS-B\",\"RDS-B\",\"RDS-B\",\"RDS-B\",\"RDS-B\",\"RDS-B\",\"RDS-B\",\"RDS-B\",\"RDS-B\",\"RDS-B\",\"RDS-B\"],\"value\":{\"__ndarray__\":\"AAAAwGYSNkAAAAAAme02QAAAAEDW0DNAAAAAYChEM0AAAADA4j83QAAAAMDFrDtAAAAAwPJ1P0AAAADg9PNBQAAAAIDvukVAAAAAoLE0PEAAAAAgCwBBQAAAAEBMqkRAAAAAYPGxSEAAAABAqihIQAAAAIBv80pAAAAAgCYoSkAAAACg1m1CQAAAAGADAklAAAAAgMxhT0AAAABgCB1NQAAAAAAp/E1AAAAAgBTOQEA=\",\"dtype\":\"float64\",\"shape\":[22]}},\"selected\":{\"id\":\"17052\"},\"selection_policy\":{\"id\":\"17103\"}},\"id\":\"17051\",\"type\":\"ColumnDataSource\"},{\"attributes\":{\"label\":{\"value\":\"BLX\"},\"renderers\":[{\"id\":\"16936\"}]},\"id\":\"16945\",\"type\":\"LegendItem\"},{\"attributes\":{\"data\":{\"Date\":[\"1999\",\"2000\",\"2001\",\"2002\",\"2003\",\"2004\",\"2005\",\"2006\",\"2007\",\"2008\",\"2009\",\"2010\",\"2011\",\"2012\",\"2013\",\"2014\",\"2015\",\"2016\",\"2017\",\"2018\",\"2019\",\"2020\"],\"Variable\":[\"CVX\",\"CVX\",\"CVX\",\"CVX\",\"CVX\",\"CVX\",\"CVX\",\"CVX\",\"CVX\",\"CVX\",\"CVX\",\"CVX\",\"CVX\",\"CVX\",\"CVX\",\"CVX\",\"CVX\",\"CVX\",\"CVX\",\"CVX\",\"CVX\",\"CVX\"],\"value\":{\"__ndarray__\":\"AAAAIBYONEAAAAAAAio0QAAAAOALCTZAAAAAQHfyMEAAAACA1/A2QAAAAIDTzDxAAAAAYOsPQEAAAACgvHlFQAAAACBLCUxAAAAAIMDlRkAAAAAARL5IQAAAACC8a05AAAAAwItLUkAAAAAAmjhTQAAAAKCz7lZAAAAAAGhUVUAAAABAbOFRQAAAAECSb1hAAAAAwAIGW0AAAADgrmNYQAAAAIBSHVxAAAAAIHfRVEA=\",\"dtype\":\"float64\",\"shape\":[22]}},\"selected\":{\"id\":\"17027\"},\"selection_policy\":{\"id\":\"17074\"}},\"id\":\"17026\",\"type\":\"ColumnDataSource\"}],\"root_ids\":[\"16883\"]},\"title\":\"Bokeh Application\",\"version\":\"2.0.2\"}};\n",
       "  var render_items = [{\"docid\":\"ef4ef788-8c0c-4bb2-a55c-effc9546bc7d\",\"root_ids\":[\"16883\"],\"roots\":{\"16883\":\"50c82e1d-40a2-4d3c-801c-b779dce4f453\"}}];\n",
       "  root.Bokeh.embed.embed_items_notebook(docs_json, render_items);\n",
       "  }\n",
       "if (root.Bokeh !== undefined) {\n",
       "    embed_document(root);\n",
       "  } else {\n",
       "    var attempts = 0;\n",
       "    var timer = setInterval(function(root) {\n",
       "      if (root.Bokeh !== undefined) {\n",
       "        clearInterval(timer);\n",
       "        embed_document(root);\n",
       "      } else if (document.readyState == \"complete\") {\n",
       "        attempts++;\n",
       "        if (attempts > 100) {\n",
       "          clearInterval(timer);\n",
       "          console.log(\"Bokeh: ERROR: Unable to run BokehJS code because BokehJS library is missing\");\n",
       "        }\n",
       "      }\n",
       "    }, 10, root)\n",
       "  }\n",
       "})(window);</script>"
      ],
      "text/plain": [
       ":NdOverlay   [Variable]\n",
       "   :Curve   [Date]   (value)"
      ]
     },
     "execution_count": 100,
     "metadata": {
      "application/vnd.holoviews_exec.v0+json": {
       "id": "16883"
      }
     },
     "output_type": "execute_result"
    }
   ],
   "source": [
    "def combined_base():\n",
    "    combined_base = pd.concat(\n",
    "                        [alt_base(),oil_base()],\n",
    "                            axis = 'columns',\n",
    "                                join = 'inner',\n",
    "    )\n",
    "    combined_base_plot = combined_base.hvplot(\n",
    "                                        title = 'Oil and Alternative Stock Prices from 1999-2020',\n",
    "                                        ylabel = 'Stock Price',\n",
    "                                        rot = 90,\n",
    "                                        width = 1200,\n",
    "                                        height = 400,\n",
    "                                        ylim = (0,120),\n",
    "                                        grid = True\n",
    "    )\n",
    "    grid_style = {\n",
    "            'grid_line_color': 'lightgray', \n",
    "            'grid_line_width': 1.5,\n",
    "            'minor_xgrid_line_color':'lightgray'}\n",
    "    \n",
    "    combined_base_plot.opts(\n",
    "                            fontsize={\n",
    "                                'title': 20, \n",
    "                                'labels': 20, \n",
    "                                'xticks': 15, \n",
    "                                'yticks': 15,\n",
    "                                'legend': 20\n",
    "    },\n",
    "                            legend_position = 'right',\n",
    "                            gridstyle = grid_style\n",
    "    )\n",
    "    return combined_base_plot\n",
    "combined_base()"
   ]
  },
  {
   "cell_type": "code",
   "execution_count": 101,
   "metadata": {},
   "outputs": [],
   "source": [
    "def combined_pct_change():\n",
    "    alt_returns = alt_base().pct_change()\n",
    "    oil_returns = oil_base().pct_change()\n",
    "    weights = [0.25,0.25,0.25,0.25]\n",
    "\n",
    "    alt_port_returns = pd.DataFrame(alt_returns.dot(weights)).dropna()  \n",
    "    oil_port_returns = pd.DataFrame(oil_returns.dot(weights)).dropna()\n",
    "\n",
    "    alt_port_returns.columns = ['Alternative Energy']\n",
    "    oil_port_returns.columns = ['Oil & Gas']\n",
    "\n",
    "    # Combining the return dataframes\n",
    "    combined_portfolio_returns = pd.concat(\n",
    "                                        [alt_port_returns, oil_port_returns], \n",
    "                                            axis = 'columns', \n",
    "                                                join = 'inner'\n",
    "    )\n",
    "    return combined_portfolio_returns"
   ]
  },
  {
   "cell_type": "code",
   "execution_count": 102,
   "metadata": {},
   "outputs": [
    {
     "name": "stdout",
     "output_type": "stream",
     "text": [
      "[*********************100%***********************]  4 of 4 completed\n",
      "[*********************100%***********************]  4 of 4 completed\n"
     ]
    },
    {
     "data": {},
     "metadata": {},
     "output_type": "display_data"
    },
    {
     "data": {
      "application/vnd.holoviews_exec.v0+json": "",
      "text/html": [
       "<div id='17395'>\n",
       "\n",
       "\n",
       "\n",
       "\n",
       "\n",
       "  <div class=\"bk-root\" id=\"61c78b1a-0522-4b6a-9f41-74c5426358de\" data-root-id=\"17395\"></div>\n",
       "</div>\n",
       "<script type=\"application/javascript\">(function(root) {\n",
       "  function embed_document(root) {\n",
       "  var docs_json = {\"555547d6-c38d-44a3-87cd-de2e88295814\":{\"roots\":{\"references\":[{\"attributes\":{\"end\":12.642447978755326,\"reset_end\":12.642447978755326,\"reset_start\":-0.8179299477114663,\"start\":-0.8179299477114663,\"tags\":[[[\"value\",\"value\",null]]]},\"id\":\"17398\",\"type\":\"Range1d\"},{\"attributes\":{\"factors\":[\"2000\",\"2001\",\"2002\",\"2003\",\"2004\",\"2005\",\"2006\",\"2007\",\"2008\",\"2009\",\"2010\",\"2011\",\"2012\",\"2013\",\"2014\",\"2015\",\"2016\",\"2017\",\"2018\",\"2019\",\"2020\"],\"tags\":[[[\"Date\",\"Date\",null]]]},\"id\":\"17397\",\"type\":\"FactorRange\"},{\"attributes\":{\"line_color\":\"#ff7e0e\",\"line_width\":2,\"x\":{\"field\":\"Date\"},\"y\":{\"field\":\"value\"}},\"id\":\"17455\",\"type\":\"Line\"},{\"attributes\":{},\"id\":\"17476\",\"type\":\"UnionRenderers\"},{\"attributes\":{\"callback\":null,\"renderers\":[{\"id\":\"17442\"},{\"id\":\"17458\"}],\"tags\":[\"hv_created\"],\"tooltips\":[[\"Variable\",\"@{Variable}\"],[\"Date\",\"@{Date}\"],[\"value\",\"@{value}\"]]},\"id\":\"17399\",\"type\":\"HoverTool\"},{\"attributes\":{\"line_alpha\":0.2,\"line_color\":\"#ff7e0e\",\"line_width\":2,\"x\":{\"field\":\"Date\"},\"y\":{\"field\":\"value\"}},\"id\":\"17457\",\"type\":\"Line\"},{\"attributes\":{},\"id\":\"17433\",\"type\":\"BasicTickFormatter\"},{\"attributes\":{\"margin\":[5,5,5,5],\"name\":\"HSpacer34955\",\"sizing_mode\":\"stretch_width\"},\"id\":\"17396\",\"type\":\"Spacer\"},{\"attributes\":{\"label\":{\"value\":\"Oil & Gas\"},\"renderers\":[{\"id\":\"17458\"}]},\"id\":\"17468\",\"type\":\"LegendItem\"},{\"attributes\":{\"source\":{\"id\":\"17452\"}},\"id\":\"17459\",\"type\":\"CDSView\"},{\"attributes\":{\"text\":\"Cumulative Returns of Both Industries 2000-2020\",\"text_color\":{\"value\":\"black\"},\"text_font_size\":{\"value\":\"20pt\"}},\"id\":\"17402\",\"type\":\"Title\"},{\"attributes\":{},\"id\":\"17453\",\"type\":\"Selection\"},{\"attributes\":{},\"id\":\"17408\",\"type\":\"LinearScale\"},{\"attributes\":{\"below\":[{\"id\":\"17410\"}],\"center\":[{\"id\":\"17412\"},{\"id\":\"17416\"},{\"id\":\"17450\"}],\"left\":[{\"id\":\"17413\"}],\"margin\":null,\"min_border_bottom\":10,\"min_border_left\":10,\"min_border_right\":10,\"min_border_top\":10,\"plot_height\":400,\"plot_width\":1200,\"renderers\":[{\"id\":\"17442\"},{\"id\":\"17458\"}],\"sizing_mode\":\"fixed\",\"title\":{\"id\":\"17402\"},\"toolbar\":{\"id\":\"17423\"},\"x_range\":{\"id\":\"17397\"},\"x_scale\":{\"id\":\"17406\"},\"y_range\":{\"id\":\"17398\"},\"y_scale\":{\"id\":\"17408\"}},\"id\":\"17401\",\"subtype\":\"Figure\",\"type\":\"Plot\"},{\"attributes\":{\"line_alpha\":0.1,\"line_color\":\"#ff7e0e\",\"line_width\":2,\"x\":{\"field\":\"Date\"},\"y\":{\"field\":\"value\"}},\"id\":\"17456\",\"type\":\"Line\"},{\"attributes\":{\"line_color\":\"#1f77b3\",\"line_width\":2,\"x\":{\"field\":\"Date\"},\"y\":{\"field\":\"value\"}},\"id\":\"17439\",\"type\":\"Line\"},{\"attributes\":{\"label\":{\"value\":\"Alternative Energy\"},\"renderers\":[{\"id\":\"17442\"}]},\"id\":\"17451\",\"type\":\"LegendItem\"},{\"attributes\":{},\"id\":\"17437\",\"type\":\"Selection\"},{\"attributes\":{\"bottom_units\":\"screen\",\"fill_alpha\":0.5,\"fill_color\":\"lightgrey\",\"left_units\":\"screen\",\"level\":\"overlay\",\"line_alpha\":1.0,\"line_color\":\"black\",\"line_dash\":[4,4],\"line_width\":2,\"render_mode\":\"css\",\"right_units\":\"screen\",\"top_units\":\"screen\"},\"id\":\"17422\",\"type\":\"BoxAnnotation\"},{\"attributes\":{\"data_source\":{\"id\":\"17452\"},\"glyph\":{\"id\":\"17455\"},\"hover_glyph\":null,\"muted_glyph\":{\"id\":\"17457\"},\"nonselection_glyph\":{\"id\":\"17456\"},\"selection_glyph\":null,\"view\":{\"id\":\"17459\"}},\"id\":\"17458\",\"type\":\"GlyphRenderer\"},{\"attributes\":{\"click_policy\":\"mute\",\"items\":[{\"id\":\"17451\"},{\"id\":\"17468\"}],\"label_text_font_size\":\"20pt\",\"location\":\"top_left\",\"title\":\"Variable\"},\"id\":\"17450\",\"type\":\"Legend\"},{\"attributes\":{\"margin\":[5,5,5,5],\"name\":\"HSpacer34956\",\"sizing_mode\":\"stretch_width\"},\"id\":\"17549\",\"type\":\"Spacer\"},{\"attributes\":{\"data\":{\"Date\":[\"2000\",\"2001\",\"2002\",\"2003\",\"2004\",\"2005\",\"2006\",\"2007\",\"2008\",\"2009\",\"2010\",\"2011\",\"2012\",\"2013\",\"2014\",\"2015\",\"2016\",\"2017\",\"2018\",\"2019\",\"2020\"],\"Variable\":[\"Oil & Gas\",\"Oil & Gas\",\"Oil & Gas\",\"Oil & Gas\",\"Oil & Gas\",\"Oil & Gas\",\"Oil & Gas\",\"Oil & Gas\",\"Oil & Gas\",\"Oil & Gas\",\"Oil & Gas\",\"Oil & Gas\",\"Oil & Gas\",\"Oil & Gas\",\"Oil & Gas\",\"Oil & Gas\",\"Oil & Gas\",\"Oil & Gas\",\"Oil & Gas\",\"Oil & Gas\",\"Oil & Gas\"],\"value\":{\"__ndarray__\":\"h4Tjos7N7z+kbxdIUdruPwgHR2zIb+s/agMYFcVA8T9TGN9jqlf1P5ctB22XCvg/79IQblW+/T97RXY7fS4CQIuhzOJ4XPs//h7MXraz/j+mG9FfJZQAQOX1W9mrBQNA9CPHbvV6A0Aef7+bABIHQDJoLGKMIgVATH1ASRReAUAQJkrUHaEGQEjSd+9flwlAfdZipUU/B0ArGEn8ahEJQL9fjv5IqP8/\",\"dtype\":\"float64\",\"shape\":[21]}},\"selected\":{\"id\":\"17453\"},\"selection_policy\":{\"id\":\"17476\"}},\"id\":\"17452\",\"type\":\"ColumnDataSource\"},{\"attributes\":{},\"id\":\"17465\",\"type\":\"UnionRenderers\"},{\"attributes\":{},\"id\":\"17406\",\"type\":\"CategoricalScale\"},{\"attributes\":{},\"id\":\"17411\",\"type\":\"CategoricalTicker\"},{\"attributes\":{},\"id\":\"17414\",\"type\":\"BasicTicker\"},{\"attributes\":{\"axis\":{\"id\":\"17410\"},\"grid_line_color\":\"lightgray\",\"grid_line_width\":1.5,\"minor_grid_line_color\":\"lightgray\",\"ticker\":{\"id\":\"17411\"}},\"id\":\"17412\",\"type\":\"Grid\"},{\"attributes\":{\"line_alpha\":0.1,\"line_color\":\"#1f77b3\",\"line_width\":2,\"x\":{\"field\":\"Date\"},\"y\":{\"field\":\"value\"}},\"id\":\"17440\",\"type\":\"Line\"},{\"attributes\":{\"axis_label\":\"Cumulative Returns Multiple\",\"axis_label_text_font_size\":\"20pt\",\"bounds\":\"auto\",\"formatter\":{\"id\":\"17433\"},\"major_label_orientation\":\"horizontal\",\"major_label_text_font_size\":\"15pt\",\"ticker\":{\"id\":\"17414\"}},\"id\":\"17413\",\"type\":\"LinearAxis\"},{\"attributes\":{\"axis\":{\"id\":\"17413\"},\"dimension\":1,\"grid_line_color\":\"lightgray\",\"grid_line_width\":1.5,\"ticker\":{\"id\":\"17414\"}},\"id\":\"17416\",\"type\":\"Grid\"},{\"attributes\":{},\"id\":\"17418\",\"type\":\"PanTool\"},{\"attributes\":{\"data\":{\"Date\":[\"2000\",\"2001\",\"2002\",\"2003\",\"2004\",\"2005\",\"2006\",\"2007\",\"2008\",\"2009\",\"2010\",\"2011\",\"2012\",\"2013\",\"2014\",\"2015\",\"2016\",\"2017\",\"2018\",\"2019\",\"2020\"],\"Variable\":[\"Alternative Energy\",\"Alternative Energy\",\"Alternative Energy\",\"Alternative Energy\",\"Alternative Energy\",\"Alternative Energy\",\"Alternative Energy\",\"Alternative Energy\",\"Alternative Energy\",\"Alternative Energy\",\"Alternative Energy\",\"Alternative Energy\",\"Alternative Energy\",\"Alternative Energy\",\"Alternative Energy\",\"Alternative Energy\",\"Alternative Energy\",\"Alternative Energy\",\"Alternative Energy\",\"Alternative Energy\",\"Alternative Energy\"],\"value\":{\"__ndarray__\":\"dvo0dOsa7T+2MkHzj8noP9Qf6jrwcNM/MsVsJwSM6D8U73O/G6vqP9+pD23uMfE/1dtq/oTa8z8BMaLVMEn3P/csFoFAd+8/wPCUDNH69T+2HoF6hJH2P5ZmBEjuxvM/Z2qieCuA8D+N9zejGtj5P+0X2dBWsgBAIY7kkFq28z+czWhqyYj4P6gn8oOFov0/pJFUS+MU/z9NSdg1gLULQGZGXbifCidA\",\"dtype\":\"float64\",\"shape\":[21]}},\"selected\":{\"id\":\"17437\"},\"selection_policy\":{\"id\":\"17465\"}},\"id\":\"17436\",\"type\":\"ColumnDataSource\"},{\"attributes\":{},\"id\":\"17417\",\"type\":\"SaveTool\"},{\"attributes\":{},\"id\":\"17419\",\"type\":\"WheelZoomTool\"},{\"attributes\":{\"line_alpha\":0.2,\"line_color\":\"#1f77b3\",\"line_width\":2,\"x\":{\"field\":\"Date\"},\"y\":{\"field\":\"value\"}},\"id\":\"17441\",\"type\":\"Line\"},{\"attributes\":{\"children\":[{\"id\":\"17396\"},{\"id\":\"17401\"},{\"id\":\"17549\"}],\"margin\":[0,0,0,0],\"name\":\"Row34951\",\"tags\":[\"embedded\"]},\"id\":\"17395\",\"type\":\"Row\"},{\"attributes\":{\"overlay\":{\"id\":\"17422\"}},\"id\":\"17420\",\"type\":\"BoxZoomTool\"},{\"attributes\":{},\"id\":\"17421\",\"type\":\"ResetTool\"},{\"attributes\":{\"active_drag\":\"auto\",\"active_inspect\":\"auto\",\"active_multi\":null,\"active_scroll\":\"auto\",\"active_tap\":\"auto\",\"tools\":[{\"id\":\"17399\"},{\"id\":\"17417\"},{\"id\":\"17418\"},{\"id\":\"17419\"},{\"id\":\"17420\"},{\"id\":\"17421\"}]},\"id\":\"17423\",\"type\":\"Toolbar\"},{\"attributes\":{\"axis_label\":\"Date\",\"axis_label_text_font_size\":\"20pt\",\"bounds\":\"auto\",\"formatter\":{\"id\":\"17431\"},\"group_text_font_size\":\"15pt\",\"major_label_orientation\":1.5707963267948966,\"major_label_text_font_size\":\"15pt\",\"ticker\":{\"id\":\"17411\"}},\"id\":\"17410\",\"type\":\"CategoricalAxis\"},{\"attributes\":{\"data_source\":{\"id\":\"17436\"},\"glyph\":{\"id\":\"17439\"},\"hover_glyph\":null,\"muted_glyph\":{\"id\":\"17441\"},\"nonselection_glyph\":{\"id\":\"17440\"},\"selection_glyph\":null,\"view\":{\"id\":\"17443\"}},\"id\":\"17442\",\"type\":\"GlyphRenderer\"},{\"attributes\":{},\"id\":\"17431\",\"type\":\"CategoricalTickFormatter\"},{\"attributes\":{\"source\":{\"id\":\"17436\"}},\"id\":\"17443\",\"type\":\"CDSView\"}],\"root_ids\":[\"17395\"]},\"title\":\"Bokeh Application\",\"version\":\"2.0.2\"}};\n",
       "  var render_items = [{\"docid\":\"555547d6-c38d-44a3-87cd-de2e88295814\",\"root_ids\":[\"17395\"],\"roots\":{\"17395\":\"61c78b1a-0522-4b6a-9f41-74c5426358de\"}}];\n",
       "  root.Bokeh.embed.embed_items_notebook(docs_json, render_items);\n",
       "  }\n",
       "if (root.Bokeh !== undefined) {\n",
       "    embed_document(root);\n",
       "  } else {\n",
       "    var attempts = 0;\n",
       "    var timer = setInterval(function(root) {\n",
       "      if (root.Bokeh !== undefined) {\n",
       "        clearInterval(timer);\n",
       "        embed_document(root);\n",
       "      } else if (document.readyState == \"complete\") {\n",
       "        attempts++;\n",
       "        if (attempts > 100) {\n",
       "          clearInterval(timer);\n",
       "          console.log(\"Bokeh: ERROR: Unable to run BokehJS code because BokehJS library is missing\");\n",
       "        }\n",
       "      }\n",
       "    }, 10, root)\n",
       "  }\n",
       "})(window);</script>"
      ],
      "text/plain": [
       ":NdOverlay   [Variable]\n",
       "   :Curve   [Date]   (value)"
      ]
     },
     "execution_count": 102,
     "metadata": {
      "application/vnd.holoviews_exec.v0+json": {
       "id": "17395"
      }
     },
     "output_type": "execute_result"
    }
   ],
   "source": [
    "def cumulative_returns():\n",
    "    cumulative = (1 + combined_pct_change()).cumprod()\n",
    "    cumulative_plot = cumulative.hvplot(\n",
    "                                    title = 'Cumulative Returns of Both Industries 2000-2020',\n",
    "                                    ylabel = 'Cumulative Returns Multiple',\n",
    "                                    rot = 90,\n",
    "                                    width = 1200,\n",
    "                                    height = 400,\n",
    "                                    shared_axes = False,\n",
    "                                    grid = True\n",
    "    )\n",
    "    grid_style = {\n",
    "            'grid_line_color': 'lightgray', \n",
    "            'grid_line_width': 1.5,\n",
    "            'minor_xgrid_line_color':'lightgray'}\n",
    "    \n",
    "    cumulative_plot.opts(\n",
    "                        fontsize={\n",
    "                            'title': 20, \n",
    "                            'labels': 20, \n",
    "                            'xticks': 15, \n",
    "                            'yticks': 15,\n",
    "                            'legend': 20\n",
    "    },\n",
    "                                legend_position = 'top_left',\n",
    "                                     gridstyle = grid_style\n",
    "    )\n",
    "    return cumulative_plot\n",
    "cumulative_returns()"
   ]
  },
  {
   "cell_type": "code",
   "execution_count": 103,
   "metadata": {},
   "outputs": [
    {
     "name": "stdout",
     "output_type": "stream",
     "text": [
      "[*********************100%***********************]  4 of 4 completed\n",
      "[*********************100%***********************]  4 of 4 completed\n"
     ]
    },
    {
     "data": {},
     "metadata": {},
     "output_type": "display_data"
    },
    {
     "data": {
      "application/vnd.holoviews_exec.v0+json": "",
      "text/html": [
       "<div id='17601'>\n",
       "\n",
       "\n",
       "\n",
       "\n",
       "\n",
       "  <div class=\"bk-root\" id=\"ae8704b0-b935-44e3-9db4-7e8031fc7b6c\" data-root-id=\"17601\"></div>\n",
       "</div>\n",
       "<script type=\"application/javascript\">(function(root) {\n",
       "  function embed_document(root) {\n",
       "  var docs_json = {\"28ca8ce3-7297-499b-972b-f5f42709063f\":{\"roots\":{\"references\":[{\"attributes\":{\"axis\":{\"id\":\"17619\"},\"dimension\":1,\"grid_line_color\":\"lightgray\",\"grid_line_width\":1.5,\"ticker\":{\"id\":\"17620\"}},\"id\":\"17622\",\"type\":\"Grid\"},{\"attributes\":{\"source\":{\"id\":\"17658\"}},\"id\":\"17665\",\"type\":\"CDSView\"},{\"attributes\":{},\"id\":\"17637\",\"type\":\"CategoricalTickFormatter\"},{\"attributes\":{},\"id\":\"17659\",\"type\":\"Selection\"},{\"attributes\":{\"data\":{\"Date\":[\"2004\",\"2005\",\"2006\",\"2007\",\"2008\",\"2009\",\"2010\",\"2011\",\"2012\",\"2013\",\"2014\",\"2015\",\"2016\",\"2017\",\"2018\",\"2019\",\"2020\"],\"Variable\":[\"Alternative Energy\",\"Alternative Energy\",\"Alternative Energy\",\"Alternative Energy\",\"Alternative Energy\",\"Alternative Energy\",\"Alternative Energy\",\"Alternative Energy\",\"Alternative Energy\",\"Alternative Energy\",\"Alternative Energy\",\"Alternative Energy\",\"Alternative Energy\",\"Alternative Energy\",\"Alternative Energy\",\"Alternative Energy\",\"Alternative Energy\"],\"value\":{\"__ndarray__\":\"Lvrn1is4VEAzHRiv8vJTQIiySyviVFNAWNL1ktZkTkAB1uKpBIk3QAaWDLEDoTtAgV/OcyCAOkCYz8uYa5U7QAYeHAF3WDtA0yRlSSVFQECLbiIIJcI+QEJFSmibjENAwENo88BzQ0DtQH3uY+5BQORdehevrzxAvrHRurpoRUCByOC28HVXQA==\",\"dtype\":\"float64\",\"shape\":[17]}},\"selected\":{\"id\":\"17643\"},\"selection_policy\":{\"id\":\"17671\"}},\"id\":\"17642\",\"type\":\"ColumnDataSource\"},{\"attributes\":{},\"id\":\"17612\",\"type\":\"CategoricalScale\"},{\"attributes\":{\"source\":{\"id\":\"17642\"}},\"id\":\"17649\",\"type\":\"CDSView\"},{\"attributes\":{\"data\":{\"Date\":[\"2004\",\"2005\",\"2006\",\"2007\",\"2008\",\"2009\",\"2010\",\"2011\",\"2012\",\"2013\",\"2014\",\"2015\",\"2016\",\"2017\",\"2018\",\"2019\",\"2020\"],\"Variable\":[\"Oil & Gas\",\"Oil & Gas\",\"Oil & Gas\",\"Oil & Gas\",\"Oil & Gas\",\"Oil & Gas\",\"Oil & Gas\",\"Oil & Gas\",\"Oil & Gas\",\"Oil & Gas\",\"Oil & Gas\",\"Oil & Gas\",\"Oil & Gas\",\"Oil & Gas\",\"Oil & Gas\",\"Oil & Gas\",\"Oil & Gas\"],\"value\":{\"__ndarray__\":\"b10z1B6zMEBNc1pFST4wQKoK6Uuy3i5AN17Df/GsFEB3r1zmbMs0QE17gU68tzNA3wkbW/efM0BwhXWUWTgyQGSvB7ig5C9AMmKofwfEGECisYUM8DIlQNQ3QRCbjC5AM82jdEqKM0CkjcncS8UzQMcpWxTUrDNALFJ/gnzwMkD9MD/IE285QA==\",\"dtype\":\"float64\",\"shape\":[17]}},\"selected\":{\"id\":\"17659\"},\"selection_policy\":{\"id\":\"17682\"}},\"id\":\"17658\",\"type\":\"ColumnDataSource\"},{\"attributes\":{\"line_alpha\":0.2,\"line_color\":\"#1f77b3\",\"line_width\":2,\"x\":{\"field\":\"Date\"},\"y\":{\"field\":\"value\"}},\"id\":\"17647\",\"type\":\"Line\"},{\"attributes\":{\"label\":{\"value\":\"Alternative Energy\"},\"renderers\":[{\"id\":\"17648\"}]},\"id\":\"17657\",\"type\":\"LegendItem\"},{\"attributes\":{},\"id\":\"17614\",\"type\":\"LinearScale\"},{\"attributes\":{\"data_source\":{\"id\":\"17642\"},\"glyph\":{\"id\":\"17645\"},\"hover_glyph\":null,\"muted_glyph\":{\"id\":\"17647\"},\"nonselection_glyph\":{\"id\":\"17646\"},\"selection_glyph\":null,\"view\":{\"id\":\"17649\"}},\"id\":\"17648\",\"type\":\"GlyphRenderer\"},{\"attributes\":{},\"id\":\"17639\",\"type\":\"BasicTickFormatter\"},{\"attributes\":{},\"id\":\"17671\",\"type\":\"UnionRenderers\"},{\"attributes\":{},\"id\":\"17620\",\"type\":\"BasicTicker\"},{\"attributes\":{},\"id\":\"17617\",\"type\":\"CategoricalTicker\"},{\"attributes\":{\"margin\":[5,5,5,5],\"name\":\"HSpacer35437\",\"sizing_mode\":\"stretch_width\"},\"id\":\"17755\",\"type\":\"Spacer\"},{\"attributes\":{\"margin\":[5,5,5,5],\"name\":\"HSpacer35436\",\"sizing_mode\":\"stretch_width\"},\"id\":\"17602\",\"type\":\"Spacer\"},{\"attributes\":{\"bottom_units\":\"screen\",\"fill_alpha\":0.5,\"fill_color\":\"lightgrey\",\"left_units\":\"screen\",\"level\":\"overlay\",\"line_alpha\":1.0,\"line_color\":\"black\",\"line_dash\":[4,4],\"line_width\":2,\"render_mode\":\"css\",\"right_units\":\"screen\",\"top_units\":\"screen\"},\"id\":\"17628\",\"type\":\"BoxAnnotation\"},{\"attributes\":{\"factors\":[\"2004\",\"2005\",\"2006\",\"2007\",\"2008\",\"2009\",\"2010\",\"2011\",\"2012\",\"2013\",\"2014\",\"2015\",\"2016\",\"2017\",\"2018\",\"2019\",\"2020\"],\"tags\":[[[\"Date\",\"Date\",null]]]},\"id\":\"17603\",\"type\":\"FactorRange\"},{\"attributes\":{\"callback\":null,\"renderers\":[{\"id\":\"17648\"},{\"id\":\"17664\"}],\"tags\":[\"hv_created\"],\"tooltips\":[[\"Variable\",\"@{Variable}\"],[\"Date\",\"@{Date}\"],[\"value\",\"@{value}\"]]},\"id\":\"17605\",\"type\":\"HoverTool\"},{\"attributes\":{\"text\":\"5 Year Rolling Standard Deviation 2004-2020\",\"text_color\":{\"value\":\"black\"},\"text_font_size\":{\"value\":\"20pt\"}},\"id\":\"17608\",\"type\":\"Title\"},{\"attributes\":{\"end\":102.71020974334375,\"reset_end\":102.71020974334375,\"reset_start\":-3.6985027084562665,\"start\":-3.6985027084562665,\"tags\":[[[\"value\",\"value\",null]]]},\"id\":\"17604\",\"type\":\"Range1d\"},{\"attributes\":{\"line_color\":\"#ff7e0e\",\"line_width\":2,\"x\":{\"field\":\"Date\"},\"y\":{\"field\":\"value\"}},\"id\":\"17661\",\"type\":\"Line\"},{\"attributes\":{\"line_color\":\"#1f77b3\",\"line_width\":2,\"x\":{\"field\":\"Date\"},\"y\":{\"field\":\"value\"}},\"id\":\"17645\",\"type\":\"Line\"},{\"attributes\":{},\"id\":\"17643\",\"type\":\"Selection\"},{\"attributes\":{\"children\":[{\"id\":\"17602\"},{\"id\":\"17607\"},{\"id\":\"17755\"}],\"margin\":[0,0,0,0],\"name\":\"Row35432\",\"tags\":[\"embedded\"]},\"id\":\"17601\",\"type\":\"Row\"},{\"attributes\":{\"above\":[{\"id\":\"17656\"}],\"below\":[{\"id\":\"17616\"}],\"center\":[{\"id\":\"17618\"},{\"id\":\"17622\"}],\"left\":[{\"id\":\"17619\"}],\"margin\":null,\"min_border_bottom\":10,\"min_border_left\":10,\"min_border_right\":10,\"min_border_top\":10,\"plot_height\":400,\"plot_width\":1200,\"renderers\":[{\"id\":\"17648\"},{\"id\":\"17664\"}],\"sizing_mode\":\"fixed\",\"title\":{\"id\":\"17608\"},\"toolbar\":{\"id\":\"17629\"},\"x_range\":{\"id\":\"17603\"},\"x_scale\":{\"id\":\"17612\"},\"y_range\":{\"id\":\"17604\"},\"y_scale\":{\"id\":\"17614\"}},\"id\":\"17607\",\"subtype\":\"Figure\",\"type\":\"Plot\"},{\"attributes\":{\"line_alpha\":0.1,\"line_color\":\"#1f77b3\",\"line_width\":2,\"x\":{\"field\":\"Date\"},\"y\":{\"field\":\"value\"}},\"id\":\"17646\",\"type\":\"Line\"},{\"attributes\":{\"axis_label\":\"Date\",\"axis_label_text_font_size\":\"20pt\",\"bounds\":\"auto\",\"formatter\":{\"id\":\"17637\"},\"group_text_font_size\":\"15pt\",\"major_label_orientation\":1.5707963267948966,\"major_label_text_font_size\":\"15pt\",\"ticker\":{\"id\":\"17617\"}},\"id\":\"17616\",\"type\":\"CategoricalAxis\"},{\"attributes\":{},\"id\":\"17623\",\"type\":\"SaveTool\"},{\"attributes\":{\"axis_label\":\"Standard Deviation in %\",\"axis_label_text_font_size\":\"20pt\",\"bounds\":\"auto\",\"formatter\":{\"id\":\"17639\"},\"major_label_orientation\":\"horizontal\",\"major_label_text_font_size\":\"15pt\",\"ticker\":{\"id\":\"17620\"}},\"id\":\"17619\",\"type\":\"LinearAxis\"},{\"attributes\":{},\"id\":\"17624\",\"type\":\"PanTool\"},{\"attributes\":{},\"id\":\"17682\",\"type\":\"UnionRenderers\"},{\"attributes\":{\"click_policy\":\"mute\",\"items\":[{\"id\":\"17657\"},{\"id\":\"17674\"}],\"label_text_font_size\":\"20pt\",\"location\":[0,0],\"orientation\":\"horizontal\",\"title\":\"Variable\"},\"id\":\"17656\",\"type\":\"Legend\"},{\"attributes\":{\"active_drag\":\"auto\",\"active_inspect\":\"auto\",\"active_multi\":null,\"active_scroll\":\"auto\",\"active_tap\":\"auto\",\"tools\":[{\"id\":\"17605\"},{\"id\":\"17623\"},{\"id\":\"17624\"},{\"id\":\"17625\"},{\"id\":\"17626\"},{\"id\":\"17627\"}]},\"id\":\"17629\",\"type\":\"Toolbar\"},{\"attributes\":{\"line_alpha\":0.2,\"line_color\":\"#ff7e0e\",\"line_width\":2,\"x\":{\"field\":\"Date\"},\"y\":{\"field\":\"value\"}},\"id\":\"17663\",\"type\":\"Line\"},{\"attributes\":{\"data_source\":{\"id\":\"17658\"},\"glyph\":{\"id\":\"17661\"},\"hover_glyph\":null,\"muted_glyph\":{\"id\":\"17663\"},\"nonselection_glyph\":{\"id\":\"17662\"},\"selection_glyph\":null,\"view\":{\"id\":\"17665\"}},\"id\":\"17664\",\"type\":\"GlyphRenderer\"},{\"attributes\":{\"axis\":{\"id\":\"17616\"},\"grid_line_color\":\"lightgray\",\"grid_line_width\":1.5,\"minor_grid_line_color\":\"lightgray\",\"ticker\":{\"id\":\"17617\"}},\"id\":\"17618\",\"type\":\"Grid\"},{\"attributes\":{},\"id\":\"17625\",\"type\":\"WheelZoomTool\"},{\"attributes\":{\"line_alpha\":0.1,\"line_color\":\"#ff7e0e\",\"line_width\":2,\"x\":{\"field\":\"Date\"},\"y\":{\"field\":\"value\"}},\"id\":\"17662\",\"type\":\"Line\"},{\"attributes\":{\"overlay\":{\"id\":\"17628\"}},\"id\":\"17626\",\"type\":\"BoxZoomTool\"},{\"attributes\":{},\"id\":\"17627\",\"type\":\"ResetTool\"},{\"attributes\":{\"label\":{\"value\":\"Oil & Gas\"},\"renderers\":[{\"id\":\"17664\"}]},\"id\":\"17674\",\"type\":\"LegendItem\"}],\"root_ids\":[\"17601\"]},\"title\":\"Bokeh Application\",\"version\":\"2.0.2\"}};\n",
       "  var render_items = [{\"docid\":\"28ca8ce3-7297-499b-972b-f5f42709063f\",\"root_ids\":[\"17601\"],\"roots\":{\"17601\":\"ae8704b0-b935-44e3-9db4-7e8031fc7b6c\"}}];\n",
       "  root.Bokeh.embed.embed_items_notebook(docs_json, render_items);\n",
       "  }\n",
       "if (root.Bokeh !== undefined) {\n",
       "    embed_document(root);\n",
       "  } else {\n",
       "    var attempts = 0;\n",
       "    var timer = setInterval(function(root) {\n",
       "      if (root.Bokeh !== undefined) {\n",
       "        clearInterval(timer);\n",
       "        embed_document(root);\n",
       "      } else if (document.readyState == \"complete\") {\n",
       "        attempts++;\n",
       "        if (attempts > 100) {\n",
       "          clearInterval(timer);\n",
       "          console.log(\"Bokeh: ERROR: Unable to run BokehJS code because BokehJS library is missing\");\n",
       "        }\n",
       "      }\n",
       "    }, 10, root)\n",
       "  }\n",
       "})(window);</script>"
      ],
      "text/plain": [
       ":NdOverlay   [Variable]\n",
       "   :Curve   [Date]   (value)"
      ]
     },
     "execution_count": 103,
     "metadata": {
      "application/vnd.holoviews_exec.v0+json": {
       "id": "17601"
      }
     },
     "output_type": "execute_result"
    }
   ],
   "source": [
    "def five_y_rolling_std():\n",
    "    # Finding the 5-year rolling annual standard deviation \n",
    "    df_rolling_std = combined_pct_change().rolling(window = 5).std().dropna()* 100\n",
    "    \n",
    "    rolling_std_plot = df_rolling_std.hvplot(\n",
    "                                        title = '5 Year Rolling Standard Deviation 2004-2020',\n",
    "                                            ylabel = 'Standard Deviation in %',\n",
    "                                                rot = 90,\n",
    "                                                    width = 1200,\n",
    "                                                        height = 400,\n",
    "                                                            grid = True,\n",
    "                                                                shared_axes = False\n",
    "    )\n",
    "    grid_style = {\n",
    "            'grid_line_color': 'lightgray', \n",
    "                'grid_line_width': 1.5,\n",
    "                  'minor_xgrid_line_color':'lightgray'}\n",
    "    rolling_std_plot.opts(\n",
    "                        fontsize={\n",
    "                            'title': 20, \n",
    "                                'labels': 20, \n",
    "                                    'xticks': 15, \n",
    "                                        'yticks': 15,\n",
    "                                            'legend': 20\n",
    "        },\n",
    "                            legend_position = 'top',\n",
    "                                gridstyle = grid_style\n",
    "                                \n",
    "    )\n",
    "    return rolling_std_plot\n",
    "five_y_rolling_std()"
   ]
  },
  {
   "cell_type": "code",
   "execution_count": 104,
   "metadata": {},
   "outputs": [
    {
     "name": "stdout",
     "output_type": "stream",
     "text": [
      "[*********************100%***********************]  4 of 4 completed\n",
      "[*********************100%***********************]  4 of 4 completed\n"
     ]
    },
    {
     "data": {},
     "metadata": {},
     "output_type": "display_data"
    },
    {
     "data": {
      "application/vnd.holoviews_exec.v0+json": "",
      "text/html": [
       "<div id='17807'>\n",
       "\n",
       "\n",
       "\n",
       "\n",
       "\n",
       "  <div class=\"bk-root\" id=\"9b0300d3-dff5-47db-a59b-f2f8aca77f1c\" data-root-id=\"17807\"></div>\n",
       "</div>\n",
       "<script type=\"application/javascript\">(function(root) {\n",
       "  function embed_document(root) {\n",
       "  var docs_json = {\"8d51e37f-4b11-4190-a0f4-bc9dbf7d0268\":{\"roots\":{\"references\":[{\"attributes\":{\"data_source\":{\"id\":\"17842\"},\"glyph\":{\"id\":\"17845\"},\"hover_glyph\":null,\"muted_glyph\":{\"id\":\"17847\"},\"nonselection_glyph\":{\"id\":\"17846\"},\"selection_glyph\":null,\"view\":{\"id\":\"17849\"}},\"id\":\"17848\",\"type\":\"GlyphRenderer\"},{\"attributes\":{\"margin\":[5,5,5,5],\"name\":\"HSpacer35899\",\"sizing_mode\":\"stretch_width\"},\"id\":\"17808\",\"type\":\"Spacer\"},{\"attributes\":{\"fill_color\":{\"value\":\"#1f77b3\"},\"line_color\":{\"value\":\"#1f77b3\"},\"size\":{\"units\":\"screen\",\"value\":10.0},\"x\":{\"field\":\"Oil & Gas\"},\"y\":{\"field\":\"Alternative Energy\"}},\"id\":\"17845\",\"type\":\"Scatter\"},{\"attributes\":{},\"id\":\"17831\",\"type\":\"WheelZoomTool\"},{\"attributes\":{\"axis_label\":\"Oil & Gas\",\"axis_label_text_font_size\":\"20pt\",\"bounds\":\"auto\",\"formatter\":{\"id\":\"17851\"},\"major_label_orientation\":\"horizontal\",\"major_label_text_font_size\":\"15pt\",\"ticker\":{\"id\":\"17822\"}},\"id\":\"17821\",\"type\":\"LinearAxis\"},{\"attributes\":{\"axis\":{\"id\":\"17821\"},\"grid_line_color\":\"lightgray\",\"grid_line_width\":1.5,\"minor_grid_line_color\":\"lightgray\",\"ticker\":{\"id\":\"17822\"}},\"id\":\"17824\",\"type\":\"Grid\"},{\"attributes\":{\"end\":2.619618554530113,\"reset_end\":2.619618554530113,\"reset_start\":-0.9012464430486415,\"start\":-0.9012464430486415,\"tags\":[[[\"Alternative Energy\",\"Alternative Energy\",null]]]},\"id\":\"17810\",\"type\":\"Range1d\"},{\"attributes\":{},\"id\":\"17833\",\"type\":\"ResetTool\"},{\"attributes\":{},\"id\":\"17830\",\"type\":\"PanTool\"},{\"attributes\":{},\"id\":\"17822\",\"type\":\"BasicTicker\"},{\"attributes\":{\"bottom_units\":\"screen\",\"fill_alpha\":0.5,\"fill_color\":\"lightgrey\",\"left_units\":\"screen\",\"level\":\"overlay\",\"line_alpha\":1.0,\"line_color\":\"black\",\"line_dash\":[4,4],\"line_width\":2,\"render_mode\":\"css\",\"right_units\":\"screen\",\"top_units\":\"screen\"},\"id\":\"17834\",\"type\":\"BoxAnnotation\"},{\"attributes\":{\"callback\":null,\"renderers\":[{\"id\":\"17848\"}],\"tags\":[\"hv_created\"],\"tooltips\":[[\"Oil & Gas\",\"@{Oil_ampersand_Gas}\"],[\"Alternative Energy\",\"@{Alternative_Energy}\"]]},\"id\":\"17811\",\"type\":\"HoverTool\"},{\"attributes\":{\"end\":0.32535671657155385,\"reset_end\":0.32535671657155385,\"reset_start\":-0.39095595931106714,\"start\":-0.39095595931106714,\"tags\":[[[\"Oil & Gas\",\"Oil & Gas\",null]]]},\"id\":\"17809\",\"type\":\"Range1d\"},{\"attributes\":{},\"id\":\"17829\",\"type\":\"SaveTool\"},{\"attributes\":{\"fill_alpha\":{\"value\":0.2},\"fill_color\":{\"value\":\"#1f77b3\"},\"line_alpha\":{\"value\":0.2},\"line_color\":{\"value\":\"#1f77b3\"},\"size\":{\"units\":\"screen\",\"value\":10.0},\"x\":{\"field\":\"Oil & Gas\"},\"y\":{\"field\":\"Alternative Energy\"}},\"id\":\"17847\",\"type\":\"Scatter\"},{\"attributes\":{},\"id\":\"17826\",\"type\":\"BasicTicker\"},{\"attributes\":{\"overlay\":{\"id\":\"17834\"}},\"id\":\"17832\",\"type\":\"BoxZoomTool\"},{\"attributes\":{\"fill_alpha\":{\"value\":0.1},\"fill_color\":{\"value\":\"#1f77b3\"},\"line_alpha\":{\"value\":0.1},\"line_color\":{\"value\":\"#1f77b3\"},\"size\":{\"units\":\"screen\",\"value\":10.0},\"x\":{\"field\":\"Oil & Gas\"},\"y\":{\"field\":\"Alternative Energy\"}},\"id\":\"17846\",\"type\":\"Scatter\"},{\"attributes\":{},\"id\":\"17853\",\"type\":\"BasicTickFormatter\"},{\"attributes\":{},\"id\":\"17843\",\"type\":\"Selection\"},{\"attributes\":{},\"id\":\"17819\",\"type\":\"LinearScale\"},{\"attributes\":{\"below\":[{\"id\":\"17821\"}],\"center\":[{\"id\":\"17824\"},{\"id\":\"17828\"}],\"left\":[{\"id\":\"17825\"}],\"margin\":null,\"min_border_bottom\":10,\"min_border_left\":10,\"min_border_right\":10,\"min_border_top\":10,\"plot_height\":400,\"plot_width\":1200,\"renderers\":[{\"id\":\"17848\"}],\"sizing_mode\":\"fixed\",\"title\":{\"id\":\"17813\"},\"toolbar\":{\"id\":\"17835\"},\"x_range\":{\"id\":\"17809\"},\"x_scale\":{\"id\":\"17817\"},\"y_range\":{\"id\":\"17810\"},\"y_scale\":{\"id\":\"17819\"}},\"id\":\"17812\",\"subtype\":\"Figure\",\"type\":\"Plot\"},{\"attributes\":{\"axis\":{\"id\":\"17825\"},\"dimension\":1,\"grid_line_color\":\"lightgray\",\"grid_line_width\":1.5,\"ticker\":{\"id\":\"17826\"}},\"id\":\"17828\",\"type\":\"Grid\"},{\"attributes\":{\"margin\":[5,5,5,5],\"name\":\"HSpacer35900\",\"sizing_mode\":\"stretch_width\"},\"id\":\"17864\",\"type\":\"Spacer\"},{\"attributes\":{\"source\":{\"id\":\"17842\"}},\"id\":\"17849\",\"type\":\"CDSView\"},{\"attributes\":{\"axis_label\":\"Alternative Energy\",\"axis_label_text_font_size\":\"20pt\",\"bounds\":\"auto\",\"formatter\":{\"id\":\"17853\"},\"major_label_orientation\":\"horizontal\",\"major_label_text_font_size\":\"15pt\",\"ticker\":{\"id\":\"17826\"}},\"id\":\"17825\",\"type\":\"LinearAxis\"},{\"attributes\":{},\"id\":\"17817\",\"type\":\"LinearScale\"},{\"attributes\":{\"children\":[{\"id\":\"17808\"},{\"id\":\"17812\"},{\"id\":\"17864\"}],\"margin\":[0,0,0,0],\"name\":\"Row35895\",\"tags\":[\"embedded\"]},\"id\":\"17807\",\"type\":\"Row\"},{\"attributes\":{\"data\":{\"Alternative Energy\":{\"__ndarray__\":\"UCxYXqQot7/szQEwMf3Cvx4ESwZvc+O/n+Upf3Bn+D/GVXBg6B+2P8Ym30Tnh9I/E+f8QU3Kwz9M5R1E9yDGP/YzY3pLwtS/ZMOaBFtp2T8IeBxE52ybP2ptE93Bqb+/t8mkOJQ0xb8svgdftx7iPwRhb6rKsdI/HqRBfmQ42r8PDOU5q0/PP0+fARpBnMo/+Iqyf83+qD+aA2vnMw7pPwcgPKIVnAJA\",\"dtype\":\"float64\",\"shape\":[21]},\"Alternative_Energy\":{\"__ndarray__\":\"UCxYXqQot7/szQEwMf3Cvx4ESwZvc+O/n+Upf3Bn+D/GVXBg6B+2P8Ym30Tnh9I/E+f8QU3Kwz9M5R1E9yDGP/YzY3pLwtS/ZMOaBFtp2T8IeBxE52ybP2ptE93Bqb+/t8mkOJQ0xb8svgdftx7iPwRhb6rKsdI/HqRBfmQ42r8PDOU5q0/PP0+fARpBnMo/+Iqyf83+qD+aA2vnMw7pPwcgPKIVnAJA\",\"dtype\":\"float64\",\"shape\":[21]},\"Oil & Gas\":{\"__ndarray__\":\"YLw9jq4Yeb+gyJwgtJ+ev2jg6TdrWLy/iA8pr4V90D/qIF9v6lbOP1Y3pjLJL8A/EPIY2uRbzj+yhmAB13zMPyB8QbP1r8+/5usn++NBvz+ySkHwO3m0P5xD4Z2G3cI/KJoBVNCpmD8SRXiTy5bHP+7+xyDPebW/L08ZqSHRxr/XG1Rx5GPTPxsE59r8wMA/NCYqtBBzt79wsHibPg20PyJ14Zurlte/\",\"dtype\":\"float64\",\"shape\":[21]},\"Oil_ampersand_Gas\":{\"__ndarray__\":\"YLw9jq4Yeb+gyJwgtJ+ev2jg6TdrWLy/iA8pr4V90D/qIF9v6lbOP1Y3pjLJL8A/EPIY2uRbzj+yhmAB13zMPyB8QbP1r8+/5usn++NBvz+ySkHwO3m0P5xD4Z2G3cI/KJoBVNCpmD8SRXiTy5bHP+7+xyDPebW/L08ZqSHRxr/XG1Rx5GPTPxsE59r8wMA/NCYqtBBzt79wsHibPg20PyJ14Zurlte/\",\"dtype\":\"float64\",\"shape\":[21]}},\"selected\":{\"id\":\"17843\"},\"selection_policy\":{\"id\":\"17861\"}},\"id\":\"17842\",\"type\":\"ColumnDataSource\"},{\"attributes\":{\"active_drag\":\"auto\",\"active_inspect\":\"auto\",\"active_multi\":null,\"active_scroll\":\"auto\",\"active_tap\":\"auto\",\"tools\":[{\"id\":\"17811\"},{\"id\":\"17829\"},{\"id\":\"17830\"},{\"id\":\"17831\"},{\"id\":\"17832\"},{\"id\":\"17833\"}]},\"id\":\"17835\",\"type\":\"Toolbar\"},{\"attributes\":{},\"id\":\"17851\",\"type\":\"BasicTickFormatter\"},{\"attributes\":{},\"id\":\"17861\",\"type\":\"UnionRenderers\"},{\"attributes\":{\"text\":\"Correlation between Oil Portfolio and Alternative Energy Portfolio Returns\",\"text_color\":{\"value\":\"black\"},\"text_font_size\":{\"value\":\"20pt\"}},\"id\":\"17813\",\"type\":\"Title\"}],\"root_ids\":[\"17807\"]},\"title\":\"Bokeh Application\",\"version\":\"2.0.2\"}};\n",
       "  var render_items = [{\"docid\":\"8d51e37f-4b11-4190-a0f4-bc9dbf7d0268\",\"root_ids\":[\"17807\"],\"roots\":{\"17807\":\"9b0300d3-dff5-47db-a59b-f2f8aca77f1c\"}}];\n",
       "  root.Bokeh.embed.embed_items_notebook(docs_json, render_items);\n",
       "  }\n",
       "if (root.Bokeh !== undefined) {\n",
       "    embed_document(root);\n",
       "  } else {\n",
       "    var attempts = 0;\n",
       "    var timer = setInterval(function(root) {\n",
       "      if (root.Bokeh !== undefined) {\n",
       "        clearInterval(timer);\n",
       "        embed_document(root);\n",
       "      } else if (document.readyState == \"complete\") {\n",
       "        attempts++;\n",
       "        if (attempts > 100) {\n",
       "          clearInterval(timer);\n",
       "          console.log(\"Bokeh: ERROR: Unable to run BokehJS code because BokehJS library is missing\");\n",
       "        }\n",
       "      }\n",
       "    }, 10, root)\n",
       "  }\n",
       "})(window);</script>"
      ],
      "text/plain": [
       ":Scatter   [Oil & Gas]   (Alternative Energy)"
      ]
     },
     "execution_count": 104,
     "metadata": {
      "application/vnd.holoviews_exec.v0+json": {
       "id": "17807"
      }
     },
     "output_type": "execute_result"
    }
   ],
   "source": [
    "def oil_and_alt_correlation():\n",
    "    oil_and_alt_correlation = combined_pct_change().hvplot.scatter(\n",
    "                                                                title = 'Correlation between Oil Portfolio and Alternative Energy Portfolio Returns', \n",
    "                                                                        x = 'Oil & Gas', \n",
    "                                                                            y = 'Alternative Energy',\n",
    "                                                                                s = 100,\n",
    "                                                                                    width = 1200,\n",
    "                                                                                        height = 400,\n",
    "                                                                                            grid = True\n",
    "    )\n",
    "    grid_style = {\n",
    "            'grid_line_color': 'lightgray', \n",
    "                'grid_line_width': 1.5,\n",
    "                  'minor_xgrid_line_color':'lightgray'}\n",
    "    \n",
    "    oil_and_alt_correlation.opts(\n",
    "                                fontsize={\n",
    "                                    'title': 20, \n",
    "                                        'labels': 20, \n",
    "                                            'xticks': 15, \n",
    "                                                'yticks': 15,\n",
    "        },\n",
    "                                    gridstyle = grid_style\n",
    "    \n",
    "    )\n",
    "    \n",
    "    return oil_and_alt_correlation\n",
    "oil_and_alt_correlation()"
   ]
  },
  {
   "cell_type": "code",
   "execution_count": 105,
   "metadata": {},
   "outputs": [
    {
     "name": "stdout",
     "output_type": "stream",
     "text": [
      "[*********************100%***********************]  4 of 4 completed\n",
      "[*********************100%***********************]  4 of 4 completed\n"
     ]
    },
    {
     "data": {},
     "metadata": {},
     "output_type": "display_data"
    },
    {
     "data": {
      "application/vnd.holoviews_exec.v0+json": "",
      "text/html": [
       "<div id='17906'>\n",
       "\n",
       "\n",
       "\n",
       "\n",
       "\n",
       "  <div class=\"bk-root\" id=\"33b349e3-e75c-4bd6-b58d-8a04b8a12ab2\" data-root-id=\"17906\"></div>\n",
       "</div>\n",
       "<script type=\"application/javascript\">(function(root) {\n",
       "  function embed_document(root) {\n",
       "  var docs_json = {\"3b002aec-6a03-4745-b316-b2820ab4e33e\":{\"roots\":{\"references\":[{\"attributes\":{},\"id\":\"17924\",\"type\":\"BasicTicker\"},{\"attributes\":{\"data_source\":{\"id\":\"17940\"},\"glyph\":{\"id\":\"17943\"},\"hover_glyph\":null,\"muted_glyph\":{\"id\":\"17945\"},\"nonselection_glyph\":{\"id\":\"17944\"},\"selection_glyph\":null,\"view\":{\"id\":\"17947\"}},\"id\":\"17946\",\"type\":\"GlyphRenderer\"},{\"attributes\":{\"factors\":[\"Oil & Gas\",\"Alternative Energy\"],\"tags\":[[[\"index\",\"index\",null]]]},\"id\":\"17908\",\"type\":\"FactorRange\"},{\"attributes\":{\"active_drag\":\"auto\",\"active_inspect\":\"auto\",\"active_multi\":null,\"active_scroll\":\"auto\",\"active_tap\":\"auto\",\"tools\":[{\"id\":\"17910\"},{\"id\":\"17927\"},{\"id\":\"17928\"},{\"id\":\"17929\"},{\"id\":\"17930\"},{\"id\":\"17931\"}]},\"id\":\"17933\",\"type\":\"Toolbar\"},{\"attributes\":{},\"id\":\"17951\",\"type\":\"BasicTickFormatter\"},{\"attributes\":{},\"id\":\"17931\",\"type\":\"ResetTool\"},{\"attributes\":{},\"id\":\"17959\",\"type\":\"UnionRenderers\"},{\"attributes\":{\"below\":[{\"id\":\"17920\"}],\"center\":[{\"id\":\"17922\"},{\"id\":\"17926\"}],\"left\":[{\"id\":\"17923\"}],\"margin\":null,\"min_border_bottom\":10,\"min_border_left\":10,\"min_border_right\":10,\"min_border_top\":10,\"plot_height\":400,\"plot_width\":1200,\"renderers\":[{\"id\":\"17946\"}],\"sizing_mode\":\"fixed\",\"title\":{\"id\":\"17912\"},\"toolbar\":{\"id\":\"17933\"},\"x_range\":{\"id\":\"17908\"},\"x_scale\":{\"id\":\"17916\"},\"y_range\":{\"id\":\"17909\"},\"y_scale\":{\"id\":\"17918\"}},\"id\":\"17911\",\"subtype\":\"Figure\",\"type\":\"Plot\"},{\"attributes\":{},\"id\":\"17918\",\"type\":\"LinearScale\"},{\"attributes\":{},\"id\":\"17921\",\"type\":\"CategoricalTicker\"},{\"attributes\":{},\"id\":\"17929\",\"type\":\"WheelZoomTool\"},{\"attributes\":{},\"id\":\"17916\",\"type\":\"CategoricalScale\"},{\"attributes\":{\"margin\":[5,5,5,5],\"name\":\"HSpacer36122\",\"sizing_mode\":\"stretch_width\"},\"id\":\"17907\",\"type\":\"Spacer\"},{\"attributes\":{},\"id\":\"17927\",\"type\":\"SaveTool\"},{\"attributes\":{\"axis_label\":\"\",\"axis_label_text_font_size\":\"20pt\",\"bounds\":\"auto\",\"formatter\":{\"id\":\"17949\"},\"group_text_font_size\":\"20pt\",\"major_label_orientation\":\"horizontal\",\"major_label_text_font_size\":\"20pt\",\"ticker\":{\"id\":\"17921\"}},\"id\":\"17920\",\"type\":\"CategoricalAxis\"},{\"attributes\":{},\"id\":\"17928\",\"type\":\"PanTool\"},{\"attributes\":{\"fill_alpha\":{\"value\":0.1},\"fill_color\":{\"value\":\"#1f77b3\"},\"line_alpha\":{\"value\":0.1},\"top\":{\"field\":\"Standard_Deviation\"},\"width\":{\"value\":0.8},\"x\":{\"field\":\"index\"}},\"id\":\"17944\",\"type\":\"VBar\"},{\"attributes\":{\"margin\":[5,5,5,5],\"name\":\"HSpacer36123\",\"sizing_mode\":\"stretch_width\"},\"id\":\"17962\",\"type\":\"Spacer\"},{\"attributes\":{\"fill_color\":{\"value\":\"#1f77b3\"},\"top\":{\"field\":\"Standard_Deviation\"},\"width\":{\"value\":0.8},\"x\":{\"field\":\"index\"}},\"id\":\"17943\",\"type\":\"VBar\"},{\"attributes\":{\"callback\":null,\"renderers\":[{\"id\":\"17946\"}],\"tags\":[\"hv_created\"],\"tooltips\":[[\"index\",\"@{index}\"],[\"Standard Deviation\",\"@{Standard_Deviation}\"]]},\"id\":\"17910\",\"type\":\"HoverTool\"},{\"attributes\":{\"end\":0.7020315350393874,\"reset_end\":0.7020315350393874,\"reset_start\":0.0,\"tags\":[[[\"Standard Deviation\",\"Standard Deviation\",null]]]},\"id\":\"17909\",\"type\":\"Range1d\"},{\"attributes\":{},\"id\":\"17949\",\"type\":\"CategoricalTickFormatter\"},{\"attributes\":{\"axis_label\":\"Standard Deviation\",\"axis_label_text_font_size\":\"20pt\",\"bounds\":\"auto\",\"formatter\":{\"id\":\"17951\"},\"major_label_orientation\":\"horizontal\",\"major_label_text_font_size\":\"15pt\",\"ticker\":{\"id\":\"17924\"}},\"id\":\"17923\",\"type\":\"LinearAxis\"},{\"attributes\":{\"text\":\"Standard Deviation of Returns of Both the Oil and Alternative Portfolios\",\"text_color\":{\"value\":\"black\"},\"text_font_size\":{\"value\":\"20pt\"}},\"id\":\"17912\",\"type\":\"Title\"},{\"attributes\":{\"axis\":{\"id\":\"17920\"},\"ticker\":{\"id\":\"17921\"}},\"id\":\"17922\",\"type\":\"Grid\"},{\"attributes\":{\"overlay\":{\"id\":\"17932\"}},\"id\":\"17930\",\"type\":\"BoxZoomTool\"},{\"attributes\":{\"source\":{\"id\":\"17940\"}},\"id\":\"17947\",\"type\":\"CDSView\"},{\"attributes\":{\"bottom_units\":\"screen\",\"fill_alpha\":0.5,\"fill_color\":\"lightgrey\",\"left_units\":\"screen\",\"level\":\"overlay\",\"line_alpha\":1.0,\"line_color\":\"black\",\"line_dash\":[4,4],\"line_width\":2,\"render_mode\":\"css\",\"right_units\":\"screen\",\"top_units\":\"screen\"},\"id\":\"17932\",\"type\":\"BoxAnnotation\"},{\"attributes\":{\"children\":[{\"id\":\"17907\"},{\"id\":\"17911\"},{\"id\":\"17962\"}],\"margin\":[0,0,0,0],\"name\":\"Row36118\",\"tags\":[\"embedded\"]},\"id\":\"17906\",\"type\":\"Row\"},{\"attributes\":{\"fill_alpha\":{\"value\":0.2},\"fill_color\":{\"value\":\"#1f77b3\"},\"line_alpha\":{\"value\":0.2},\"top\":{\"field\":\"Standard_Deviation\"},\"width\":{\"value\":0.8},\"x\":{\"field\":\"index\"}},\"id\":\"17945\",\"type\":\"VBar\"},{\"attributes\":{\"axis\":{\"id\":\"17923\"},\"dimension\":1,\"ticker\":{\"id\":\"17924\"}},\"id\":\"17926\",\"type\":\"Grid\"},{\"attributes\":{\"data\":{\"Standard_Deviation\":{\"__ndarray__\":\"GapUDQT2xj/IbUbDz/HkPw==\",\"dtype\":\"float64\",\"shape\":[2]},\"index\":[\"Oil & Gas\",\"Alternative Energy\"]},\"selected\":{\"id\":\"17941\"},\"selection_policy\":{\"id\":\"17959\"}},\"id\":\"17940\",\"type\":\"ColumnDataSource\"},{\"attributes\":{},\"id\":\"17941\",\"type\":\"Selection\"}],\"root_ids\":[\"17906\"]},\"title\":\"Bokeh Application\",\"version\":\"2.0.2\"}};\n",
       "  var render_items = [{\"docid\":\"3b002aec-6a03-4745-b316-b2820ab4e33e\",\"root_ids\":[\"17906\"],\"roots\":{\"17906\":\"33b349e3-e75c-4bd6-b58d-8a04b8a12ab2\"}}];\n",
       "  root.Bokeh.embed.embed_items_notebook(docs_json, render_items);\n",
       "  }\n",
       "if (root.Bokeh !== undefined) {\n",
       "    embed_document(root);\n",
       "  } else {\n",
       "    var attempts = 0;\n",
       "    var timer = setInterval(function(root) {\n",
       "      if (root.Bokeh !== undefined) {\n",
       "        clearInterval(timer);\n",
       "        embed_document(root);\n",
       "      } else if (document.readyState == \"complete\") {\n",
       "        attempts++;\n",
       "        if (attempts > 100) {\n",
       "          clearInterval(timer);\n",
       "          console.log(\"Bokeh: ERROR: Unable to run BokehJS code because BokehJS library is missing\");\n",
       "        }\n",
       "      }\n",
       "    }, 10, root)\n",
       "  }\n",
       "})(window);</script>"
      ],
      "text/plain": [
       ":Bars   [index]   (Standard Deviation)"
      ]
     },
     "execution_count": 105,
     "metadata": {
      "application/vnd.holoviews_exec.v0+json": {
       "id": "17906"
      }
     },
     "output_type": "execute_result"
    }
   ],
   "source": [
    "def oil_and_alt_std():\n",
    "    stdev = pd.DataFrame(combined_pct_change().std().sort_values())\n",
    "    stdev.columns = ['Standard Deviation']\n",
    "    stdev = stdev.hvplot.bar(\n",
    "                            title = 'Standard Deviation of Returns of Both the Oil and Alternative Portfolios',\n",
    "                                width = 1200,\n",
    "                                    height = 400,\n",
    "                                        grid = True\n",
    "    )\n",
    "    grid_style = {\n",
    "            'grid_line_color': 'lightgray', \n",
    "                'grid_line_width': 1.5,\n",
    "                  'minor_xgrid_line_color':'lightgray'}\n",
    "    \n",
    "    stdev.opts(\n",
    "            fontsize={\n",
    "                'title': 20, \n",
    "                    'labels': 20, \n",
    "                        'xticks': 20, \n",
    "                            'yticks': 15,\n",
    "        }\n",
    "    )\n",
    "    return stdev\n",
    "oil_and_alt_std()"
   ]
  },
  {
   "cell_type": "code",
   "execution_count": 106,
   "metadata": {},
   "outputs": [
    {
     "data": {},
     "metadata": {},
     "output_type": "display_data"
    },
    {
     "data": {
      "application/vnd.holoviews_exec.v0+json": "",
      "text/html": [
       "<div id='18004'>\n",
       "\n",
       "\n",
       "\n",
       "\n",
       "\n",
       "  <div class=\"bk-root\" id=\"d036c593-8187-4c56-9372-46e693a20242\" data-root-id=\"18004\"></div>\n",
       "</div>\n",
       "<script type=\"application/javascript\">(function(root) {\n",
       "  function embed_document(root) {\n",
       "  var docs_json = {\"0e94ef38-f26c-45e9-a843-37a17906f563\":{\"roots\":{\"references\":[{\"attributes\":{\"end\":21.1238,\"reset_end\":21.1238,\"reset_start\":6.9902,\"start\":6.9902,\"tags\":[[[\"Production (Alternative)\",\"Production (Alternative)\",null]]]},\"id\":\"18007\",\"type\":\"Range1d\"},{\"attributes\":{},\"id\":\"18016\",\"type\":\"LinearScale\"},{\"attributes\":{},\"id\":\"18027\",\"type\":\"PanTool\"},{\"attributes\":{},\"id\":\"18048\",\"type\":\"BasicTickFormatter\"},{\"attributes\":{\"axis\":{\"id\":\"18022\"},\"dimension\":1,\"ticker\":{\"id\":\"18023\"}},\"id\":\"18025\",\"type\":\"Grid\"},{\"attributes\":{\"line_color\":\"#1f77b3\",\"line_width\":2,\"x\":{\"field\":\"Year\"},\"y\":{\"field\":\"Production (Alternative)\"}},\"id\":\"18042\",\"type\":\"Line\"},{\"attributes\":{},\"id\":\"18058\",\"type\":\"UnionRenderers\"},{\"attributes\":{\"margin\":[5,5,5,5],\"name\":\"HSpacer36316\",\"sizing_mode\":\"stretch_width\"},\"id\":\"18061\",\"type\":\"Spacer\"},{\"attributes\":{\"data_source\":{\"id\":\"18039\"},\"glyph\":{\"id\":\"18042\"},\"hover_glyph\":null,\"muted_glyph\":{\"id\":\"18044\"},\"nonselection_glyph\":{\"id\":\"18043\"},\"selection_glyph\":null,\"view\":{\"id\":\"18046\"}},\"id\":\"18045\",\"type\":\"GlyphRenderer\"},{\"attributes\":{\"line_alpha\":0.2,\"line_color\":\"#1f77b3\",\"line_width\":2,\"x\":{\"field\":\"Year\"},\"y\":{\"field\":\"Production (Alternative)\"}},\"id\":\"18044\",\"type\":\"Line\"},{\"attributes\":{},\"id\":\"18023\",\"type\":\"BasicTicker\"},{\"attributes\":{},\"id\":\"18028\",\"type\":\"WheelZoomTool\"},{\"attributes\":{},\"id\":\"18030\",\"type\":\"ResetTool\"},{\"attributes\":{\"overlay\":{\"id\":\"18031\"}},\"id\":\"18029\",\"type\":\"BoxZoomTool\"},{\"attributes\":{\"bottom_units\":\"screen\",\"fill_alpha\":0.5,\"fill_color\":\"lightgrey\",\"left_units\":\"screen\",\"level\":\"overlay\",\"line_alpha\":1.0,\"line_color\":\"black\",\"line_dash\":[4,4],\"line_width\":2,\"render_mode\":\"css\",\"right_units\":\"screen\",\"top_units\":\"screen\"},\"id\":\"18031\",\"type\":\"BoxAnnotation\"},{\"attributes\":{\"data\":{\"Production (Alternative)\":{\"__ndarray__\":\"vHSTGARWIEBkO99PjdcgQEa28/3UOCJATDeJQWBlI0B7FK5H4fojQFK4HoXrUSRACKwcWmT7JECNl24Sg8AkQEoMAiuHFiZABoGVQ4usJ0B9PzVeukkoQHsUrkfh+ihAmpmZmZmZKECWQ4ts5/soQOkmMQisXClAarx0kxhEK0AYBFYOLTIsQO58PzVeOitArBxaZDsfK0CNl24Sg0AsQCGwcmiR7StAbhKDwMphKkCNl24Sg8ArQOj7qfHSzStAUrgeheuRLEDdJAaBlcMsQCYxCKwcmi1A5KWbxCDwLUAj2/l+ajwvQPYoXI/C9S9Ac2iR7Xy/MEDEILByaJExQKabxCCw8jBAtvP91HipMUC0yHa+nxoyQDeJQWDlEDJAmpmZmZnZMkA9CtejcJ0zQBgEVg4t8jNA\",\"dtype\":\"float64\",\"shape\":[39]},\"Production_left_parenthesis_Alternative_right_parenthesis\":{\"__ndarray__\":\"vHSTGARWIEBkO99PjdcgQEa28/3UOCJATDeJQWBlI0B7FK5H4fojQFK4HoXrUSRACKwcWmT7JECNl24Sg8AkQEoMAiuHFiZABoGVQ4usJ0B9PzVeukkoQHsUrkfh+ihAmpmZmZmZKECWQ4ts5/soQOkmMQisXClAarx0kxhEK0AYBFYOLTIsQO58PzVeOitArBxaZDsfK0CNl24Sg0AsQCGwcmiR7StAbhKDwMphKkCNl24Sg8ArQOj7qfHSzStAUrgeheuRLEDdJAaBlcMsQCYxCKwcmi1A5KWbxCDwLUAj2/l+ajwvQPYoXI/C9S9Ac2iR7Xy/MEDEILByaJExQKabxCCw8jBAtvP91HipMUC0yHa+nxoyQDeJQWDlEDJAmpmZmZnZMkA9CtejcJ0zQBgEVg4t8jNA\",\"dtype\":\"float64\",\"shape\":[39]},\"Year\":[1980,1981,1982,1983,1984,1985,1986,1987,1988,1989,1990,1991,1992,1993,1994,1995,1996,1997,1998,1999,2000,2001,2002,2003,2004,2005,2006,2007,2008,2009,2010,2011,2012,2013,2014,2015,2016,2017,2018]},\"selected\":{\"id\":\"18040\"},\"selection_policy\":{\"id\":\"18058\"}},\"id\":\"18039\",\"type\":\"ColumnDataSource\"},{\"attributes\":{\"below\":[{\"id\":\"18018\"}],\"center\":[{\"id\":\"18021\"},{\"id\":\"18025\"}],\"left\":[{\"id\":\"18022\"}],\"margin\":null,\"min_border_bottom\":10,\"min_border_left\":10,\"min_border_right\":10,\"min_border_top\":10,\"plot_height\":400,\"plot_width\":1200,\"renderers\":[{\"id\":\"18045\"}],\"sizing_mode\":\"fixed\",\"title\":{\"id\":\"18010\"},\"toolbar\":{\"id\":\"18032\"},\"x_range\":{\"id\":\"18006\"},\"x_scale\":{\"id\":\"18014\"},\"y_range\":{\"id\":\"18007\"},\"y_scale\":{\"id\":\"18016\"}},\"id\":\"18009\",\"subtype\":\"Figure\",\"type\":\"Plot\"},{\"attributes\":{\"end\":2018.0,\"reset_end\":2018.0,\"reset_start\":1980.0,\"start\":1980.0,\"tags\":[[[\"Year\",\"Year\",null]]]},\"id\":\"18006\",\"type\":\"Range1d\"},{\"attributes\":{\"text\":\"Annual Energy Production from Alternative Energy\",\"text_color\":{\"value\":\"black\"},\"text_font_size\":{\"value\":\"20pt\"}},\"id\":\"18010\",\"type\":\"Title\"},{\"attributes\":{},\"id\":\"18050\",\"type\":\"BasicTickFormatter\"},{\"attributes\":{\"margin\":[5,5,5,5],\"name\":\"HSpacer36315\",\"sizing_mode\":\"stretch_width\"},\"id\":\"18005\",\"type\":\"Spacer\"},{\"attributes\":{\"axis_label\":\"Year\",\"axis_label_text_font_size\":\"20pt\",\"bounds\":\"auto\",\"formatter\":{\"id\":\"18048\"},\"major_label_orientation\":\"horizontal\",\"major_label_text_font_size\":\"20pt\",\"ticker\":{\"id\":\"18019\"}},\"id\":\"18018\",\"type\":\"LinearAxis\"},{\"attributes\":{\"source\":{\"id\":\"18039\"}},\"id\":\"18046\",\"type\":\"CDSView\"},{\"attributes\":{},\"id\":\"18040\",\"type\":\"Selection\"},{\"attributes\":{},\"id\":\"18026\",\"type\":\"SaveTool\"},{\"attributes\":{},\"id\":\"18019\",\"type\":\"BasicTicker\"},{\"attributes\":{\"axis\":{\"id\":\"18018\"},\"ticker\":{\"id\":\"18019\"}},\"id\":\"18021\",\"type\":\"Grid\"},{\"attributes\":{\"active_drag\":\"auto\",\"active_inspect\":\"auto\",\"active_multi\":null,\"active_scroll\":\"auto\",\"active_tap\":\"auto\",\"tools\":[{\"id\":\"18008\"},{\"id\":\"18026\"},{\"id\":\"18027\"},{\"id\":\"18028\"},{\"id\":\"18029\"},{\"id\":\"18030\"}]},\"id\":\"18032\",\"type\":\"Toolbar\"},{\"attributes\":{},\"id\":\"18014\",\"type\":\"LinearScale\"},{\"attributes\":{\"axis_label\":\"\",\"axis_label_text_font_size\":\"20pt\",\"bounds\":\"auto\",\"formatter\":{\"id\":\"18050\"},\"major_label_orientation\":\"horizontal\",\"major_label_text_font_size\":\"15pt\",\"ticker\":{\"id\":\"18023\"}},\"id\":\"18022\",\"type\":\"LinearAxis\"},{\"attributes\":{\"children\":[{\"id\":\"18005\"},{\"id\":\"18009\"},{\"id\":\"18061\"}],\"margin\":[0,0,0,0],\"name\":\"Row36311\",\"tags\":[\"embedded\"]},\"id\":\"18004\",\"type\":\"Row\"},{\"attributes\":{\"line_alpha\":0.1,\"line_color\":\"#1f77b3\",\"line_width\":2,\"x\":{\"field\":\"Year\"},\"y\":{\"field\":\"Production (Alternative)\"}},\"id\":\"18043\",\"type\":\"Line\"},{\"attributes\":{\"callback\":null,\"renderers\":[{\"id\":\"18045\"}],\"tags\":[\"hv_created\"],\"tooltips\":[[\"Year\",\"@{Year}\"],[\"Production (Alternative)\",\"@{Production_left_parenthesis_Alternative_right_parenthesis}\"]]},\"id\":\"18008\",\"type\":\"HoverTool\"}],\"root_ids\":[\"18004\"]},\"title\":\"Bokeh Application\",\"version\":\"2.0.2\"}};\n",
       "  var render_items = [{\"docid\":\"0e94ef38-f26c-45e9-a843-37a17906f563\",\"root_ids\":[\"18004\"],\"roots\":{\"18004\":\"d036c593-8187-4c56-9372-46e693a20242\"}}];\n",
       "  root.Bokeh.embed.embed_items_notebook(docs_json, render_items);\n",
       "  }\n",
       "if (root.Bokeh !== undefined) {\n",
       "    embed_document(root);\n",
       "  } else {\n",
       "    var attempts = 0;\n",
       "    var timer = setInterval(function(root) {\n",
       "      if (root.Bokeh !== undefined) {\n",
       "        clearInterval(timer);\n",
       "        embed_document(root);\n",
       "      } else if (document.readyState == \"complete\") {\n",
       "        attempts++;\n",
       "        if (attempts > 100) {\n",
       "          clearInterval(timer);\n",
       "          console.log(\"Bokeh: ERROR: Unable to run BokehJS code because BokehJS library is missing\");\n",
       "        }\n",
       "      }\n",
       "    }, 10, root)\n",
       "  }\n",
       "})(window);</script>"
      ],
      "text/plain": [
       ":Curve   [Year]   (Production (Alternative))"
      ]
     },
     "execution_count": 106,
     "metadata": {
      "application/vnd.holoviews_exec.v0+json": {
       "id": "18004"
      }
     },
     "output_type": "execute_result"
    }
   ],
   "source": [
    "def alt_production():\n",
    "    plot = combined_production[\"Production (Alternative)\"].hvplot.line(\n",
    "        title=\"Annual Energy Production from Alternative Energy\",width=1200,height=400,grid=True)\n",
    "    \n",
    "    plot.opts(\n",
    "            fontsize={\n",
    "                'title': 20, \n",
    "                    'labels': 20, \n",
    "                        'xticks': 20, \n",
    "                            'yticks': 15,\n",
    "        }\n",
    "    )\n",
    "    \n",
    "    return plot\n",
    "alt_production()"
   ]
  },
  {
   "cell_type": "code",
   "execution_count": 107,
   "metadata": {},
   "outputs": [
    {
     "data": {},
     "metadata": {},
     "output_type": "display_data"
    },
    {
     "data": {
      "application/vnd.holoviews_exec.v0+json": "",
      "text/html": [
       "<div id='18103'>\n",
       "\n",
       "\n",
       "\n",
       "\n",
       "\n",
       "  <div class=\"bk-root\" id=\"d9e7b9ef-1b37-4b57-8480-e07922e6924f\" data-root-id=\"18103\"></div>\n",
       "</div>\n",
       "<script type=\"application/javascript\">(function(root) {\n",
       "  function embed_document(root) {\n",
       "  var docs_json = {\"d81c79b7-d5ca-4d9c-8ab7-d28c124c303c\":{\"roots\":{\"references\":[{\"attributes\":{\"active_drag\":\"auto\",\"active_inspect\":\"auto\",\"active_multi\":null,\"active_scroll\":\"auto\",\"active_tap\":\"auto\",\"tools\":[{\"id\":\"18107\"},{\"id\":\"18125\"},{\"id\":\"18126\"},{\"id\":\"18127\"},{\"id\":\"18128\"},{\"id\":\"18129\"}]},\"id\":\"18131\",\"type\":\"Toolbar\"},{\"attributes\":{\"axis\":{\"id\":\"18117\"},\"ticker\":{\"id\":\"18118\"}},\"id\":\"18120\",\"type\":\"Grid\"},{\"attributes\":{\"margin\":[5,5,5,5],\"name\":\"HSpacer36538\",\"sizing_mode\":\"stretch_width\"},\"id\":\"18160\",\"type\":\"Spacer\"},{\"attributes\":{\"margin\":[5,5,5,5],\"name\":\"HSpacer36537\",\"sizing_mode\":\"stretch_width\"},\"id\":\"18104\",\"type\":\"Spacer\"},{\"attributes\":{\"children\":[{\"id\":\"18104\"},{\"id\":\"18108\"},{\"id\":\"18160\"}],\"margin\":[0,0,0,0],\"name\":\"Row36533\",\"tags\":[\"embedded\"]},\"id\":\"18103\",\"type\":\"Row\"},{\"attributes\":{},\"id\":\"18129\",\"type\":\"ResetTool\"},{\"attributes\":{},\"id\":\"18113\",\"type\":\"LinearScale\"},{\"attributes\":{\"line_alpha\":0.2,\"line_color\":\"#1f77b3\",\"line_width\":2,\"x\":{\"field\":\"Year\"},\"y\":{\"field\":\"Production (Oil)\"}},\"id\":\"18143\",\"type\":\"Line\"},{\"attributes\":{\"end\":2018.0,\"reset_end\":2018.0,\"reset_start\":1980.0,\"start\":1980.0,\"tags\":[[[\"Year\",\"Year\",null]]]},\"id\":\"18105\",\"type\":\"Range1d\"},{\"attributes\":{\"line_color\":\"#1f77b3\",\"line_width\":2,\"x\":{\"field\":\"Year\"},\"y\":{\"field\":\"Production (Oil)\"}},\"id\":\"18141\",\"type\":\"Line\"},{\"attributes\":{\"line_alpha\":0.1,\"line_color\":\"#1f77b3\",\"line_width\":2,\"x\":{\"field\":\"Year\"},\"y\":{\"field\":\"Production (Oil)\"}},\"id\":\"18142\",\"type\":\"Line\"},{\"attributes\":{},\"id\":\"18122\",\"type\":\"BasicTicker\"},{\"attributes\":{\"text\":\"Annual Energy Production from Oil\",\"text_color\":{\"value\":\"black\"},\"text_font_size\":{\"value\":\"20pt\"}},\"id\":\"18109\",\"type\":\"Title\"},{\"attributes\":{\"callback\":null,\"renderers\":[{\"id\":\"18144\"}],\"tags\":[\"hv_created\"],\"tooltips\":[[\"Year\",\"@{Year}\"],[\"Production (Oil)\",\"@{Production_left_parenthesis_Oil_right_parenthesis}\"]]},\"id\":\"18107\",\"type\":\"HoverTool\"},{\"attributes\":{\"data_source\":{\"id\":\"18138\"},\"glyph\":{\"id\":\"18141\"},\"hover_glyph\":null,\"muted_glyph\":{\"id\":\"18143\"},\"nonselection_glyph\":{\"id\":\"18142\"},\"selection_glyph\":null,\"view\":{\"id\":\"18145\"}},\"id\":\"18144\",\"type\":\"GlyphRenderer\"},{\"attributes\":{},\"id\":\"18147\",\"type\":\"BasicTickFormatter\"},{\"attributes\":{\"end\":30.1209,\"reset_end\":30.1209,\"reset_start\":11.4141,\"start\":11.4141,\"tags\":[[[\"Production (Oil)\",\"Production (Oil)\",null]]]},\"id\":\"18106\",\"type\":\"Range1d\"},{\"attributes\":{},\"id\":\"18115\",\"type\":\"LinearScale\"},{\"attributes\":{},\"id\":\"18126\",\"type\":\"PanTool\"},{\"attributes\":{},\"id\":\"18139\",\"type\":\"Selection\"},{\"attributes\":{},\"id\":\"18157\",\"type\":\"UnionRenderers\"},{\"attributes\":{\"axis_label\":\"\",\"axis_label_text_font_size\":\"20pt\",\"bounds\":\"auto\",\"formatter\":{\"id\":\"18149\"},\"major_label_orientation\":\"horizontal\",\"major_label_text_font_size\":\"15pt\",\"ticker\":{\"id\":\"18122\"}},\"id\":\"18121\",\"type\":\"LinearAxis\"},{\"attributes\":{\"overlay\":{\"id\":\"18130\"}},\"id\":\"18128\",\"type\":\"BoxZoomTool\"},{\"attributes\":{\"below\":[{\"id\":\"18117\"}],\"center\":[{\"id\":\"18120\"},{\"id\":\"18124\"}],\"left\":[{\"id\":\"18121\"}],\"margin\":null,\"min_border_bottom\":10,\"min_border_left\":10,\"min_border_right\":10,\"min_border_top\":10,\"plot_height\":400,\"plot_width\":1200,\"renderers\":[{\"id\":\"18144\"}],\"sizing_mode\":\"fixed\",\"title\":{\"id\":\"18109\"},\"toolbar\":{\"id\":\"18131\"},\"x_range\":{\"id\":\"18105\"},\"x_scale\":{\"id\":\"18113\"},\"y_range\":{\"id\":\"18106\"},\"y_scale\":{\"id\":\"18115\"}},\"id\":\"18108\",\"subtype\":\"Figure\",\"type\":\"Plot\"},{\"attributes\":{},\"id\":\"18125\",\"type\":\"SaveTool\"},{\"attributes\":{\"axis_label\":\"Year\",\"axis_label_text_font_size\":\"20pt\",\"bounds\":\"auto\",\"formatter\":{\"id\":\"18147\"},\"major_label_orientation\":\"horizontal\",\"major_label_text_font_size\":\"20pt\",\"ticker\":{\"id\":\"18118\"}},\"id\":\"18117\",\"type\":\"LinearAxis\"},{\"attributes\":{},\"id\":\"18118\",\"type\":\"BasicTicker\"},{\"attributes\":{},\"id\":\"18149\",\"type\":\"BasicTickFormatter\"},{\"attributes\":{\"data\":{\"Production (Oil)\":{\"__ndarray__\":\"001iEFh5NEC28/3UeGk0QGiR7Xw/dTRAu0kMAiuHNEChRbbz/RQ1QBgEVg4tMjVAd76fGi99NEC0yHa+n9ozQMP1KFyPgjNAPQrXo3A9MkAv3SQGgbUxQJ3vp8ZL9zFA7FG4HoWLMUAj2/l+atwwQMHKoUW2czBAKVyPwvVIMECHFtnO9zMwQO18PzVeGjBAEVg5tMg2L0ANAiuHFtktQFK4HoXr0S1AJQaBlUOLLUBt5/up8VItQE+Nl24SgyxA0SLb+X7qK0A2XrpJDIIqQOF6FK5HISpArkfhehQuKkAYBFYOLfIpQBgEVg4tsitA4XoUrkehLEAtsp3vp8YtQBsv3SQGATFAN4lBYOVQM0DpJjEIrJw2QOSlm8QgMDhAwMqhRbYzN0DkpZvEIJA4QBxaZDvfjzxA\",\"dtype\":\"float64\",\"shape\":[39]},\"Production_left_parenthesis_Oil_right_parenthesis\":{\"__ndarray__\":\"001iEFh5NEC28/3UeGk0QGiR7Xw/dTRAu0kMAiuHNEChRbbz/RQ1QBgEVg4tMjVAd76fGi99NEC0yHa+n9ozQMP1KFyPgjNAPQrXo3A9MkAv3SQGgbUxQJ3vp8ZL9zFA7FG4HoWLMUAj2/l+atwwQMHKoUW2czBAKVyPwvVIMECHFtnO9zMwQO18PzVeGjBAEVg5tMg2L0ANAiuHFtktQFK4HoXr0S1AJQaBlUOLLUBt5/up8VItQE+Nl24SgyxA0SLb+X7qK0A2XrpJDIIqQOF6FK5HISpArkfhehQuKkAYBFYOLfIpQBgEVg4tsitA4XoUrkehLEAtsp3vp8YtQBsv3SQGATFAN4lBYOVQM0DpJjEIrJw2QOSlm8QgMDhAwMqhRbYzN0DkpZvEIJA4QBxaZDvfjzxA\",\"dtype\":\"float64\",\"shape\":[39]},\"Year\":[1980,1981,1982,1983,1984,1985,1986,1987,1988,1989,1990,1991,1992,1993,1994,1995,1996,1997,1998,1999,2000,2001,2002,2003,2004,2005,2006,2007,2008,2009,2010,2011,2012,2013,2014,2015,2016,2017,2018]},\"selected\":{\"id\":\"18139\"},\"selection_policy\":{\"id\":\"18157\"}},\"id\":\"18138\",\"type\":\"ColumnDataSource\"},{\"attributes\":{\"source\":{\"id\":\"18138\"}},\"id\":\"18145\",\"type\":\"CDSView\"},{\"attributes\":{},\"id\":\"18127\",\"type\":\"WheelZoomTool\"},{\"attributes\":{\"bottom_units\":\"screen\",\"fill_alpha\":0.5,\"fill_color\":\"lightgrey\",\"left_units\":\"screen\",\"level\":\"overlay\",\"line_alpha\":1.0,\"line_color\":\"black\",\"line_dash\":[4,4],\"line_width\":2,\"render_mode\":\"css\",\"right_units\":\"screen\",\"top_units\":\"screen\"},\"id\":\"18130\",\"type\":\"BoxAnnotation\"},{\"attributes\":{\"axis\":{\"id\":\"18121\"},\"dimension\":1,\"ticker\":{\"id\":\"18122\"}},\"id\":\"18124\",\"type\":\"Grid\"}],\"root_ids\":[\"18103\"]},\"title\":\"Bokeh Application\",\"version\":\"2.0.2\"}};\n",
       "  var render_items = [{\"docid\":\"d81c79b7-d5ca-4d9c-8ab7-d28c124c303c\",\"root_ids\":[\"18103\"],\"roots\":{\"18103\":\"d9e7b9ef-1b37-4b57-8480-e07922e6924f\"}}];\n",
       "  root.Bokeh.embed.embed_items_notebook(docs_json, render_items);\n",
       "  }\n",
       "if (root.Bokeh !== undefined) {\n",
       "    embed_document(root);\n",
       "  } else {\n",
       "    var attempts = 0;\n",
       "    var timer = setInterval(function(root) {\n",
       "      if (root.Bokeh !== undefined) {\n",
       "        clearInterval(timer);\n",
       "        embed_document(root);\n",
       "      } else if (document.readyState == \"complete\") {\n",
       "        attempts++;\n",
       "        if (attempts > 100) {\n",
       "          clearInterval(timer);\n",
       "          console.log(\"Bokeh: ERROR: Unable to run BokehJS code because BokehJS library is missing\");\n",
       "        }\n",
       "      }\n",
       "    }, 10, root)\n",
       "  }\n",
       "})(window);</script>"
      ],
      "text/plain": [
       ":Curve   [Year]   (Production (Oil))"
      ]
     },
     "execution_count": 107,
     "metadata": {
      "application/vnd.holoviews_exec.v0+json": {
       "id": "18103"
      }
     },
     "output_type": "execute_result"
    }
   ],
   "source": [
    "def oil_production():\n",
    "    plot = combined_production[\"Production (Oil)\"].hvplot.line(\n",
    "        title=\"Annual Energy Production from Oil\",width=1200,height=400,grid=True)\n",
    "    \n",
    "    plot.opts(\n",
    "            fontsize={\n",
    "                'title': 20, \n",
    "                    'labels': 20, \n",
    "                        'xticks': 20, \n",
    "                            'yticks': 15,\n",
    "        }\n",
    "    )\n",
    "    \n",
    "    return plot\n",
    "oil_production()"
   ]
  },
  {
   "cell_type": "code",
   "execution_count": 108,
   "metadata": {},
   "outputs": [
    {
     "data": {},
     "metadata": {},
     "output_type": "display_data"
    },
    {
     "data": {
      "application/vnd.holoviews_exec.v0+json": "",
      "text/html": [
       "<div id='18202'>\n",
       "\n",
       "\n",
       "\n",
       "\n",
       "\n",
       "  <div class=\"bk-root\" id=\"04d581a1-efbe-4661-ad07-a774e325ffdb\" data-root-id=\"18202\"></div>\n",
       "</div>\n",
       "<script type=\"application/javascript\">(function(root) {\n",
       "  function embed_document(root) {\n",
       "  var docs_json = {\"af46fc5d-263f-445c-8cba-521d55e13a9f\":{\"roots\":{\"references\":[{\"attributes\":{\"axis_label\":\"\",\"axis_label_text_font_size\":\"20pt\",\"bounds\":\"auto\",\"formatter\":{\"id\":\"18241\"},\"major_label_orientation\":\"horizontal\",\"major_label_text_font_size\":\"15pt\",\"ticker\":{\"id\":\"18222\"}},\"id\":\"18221\",\"type\":\"LinearAxis\"},{\"attributes\":{\"line_alpha\":0.1,\"line_color\":\"#1f77b3\",\"line_width\":2,\"x\":{\"field\":\"Year\"},\"y\":{\"field\":\"value\"}},\"id\":\"18248\",\"type\":\"Line\"},{\"attributes\":{\"margin\":[5,5,5,5],\"name\":\"HSpacer36779\",\"sizing_mode\":\"stretch_width\"},\"id\":\"18357\",\"type\":\"Spacer\"},{\"attributes\":{},\"id\":\"18218\",\"type\":\"BasicTicker\"},{\"attributes\":{\"bottom_units\":\"screen\",\"fill_alpha\":0.5,\"fill_color\":\"lightgrey\",\"left_units\":\"screen\",\"level\":\"overlay\",\"line_alpha\":1.0,\"line_color\":\"black\",\"line_dash\":[4,4],\"line_width\":2,\"render_mode\":\"css\",\"right_units\":\"screen\",\"top_units\":\"screen\"},\"id\":\"18230\",\"type\":\"BoxAnnotation\"},{\"attributes\":{\"source\":{\"id\":\"18260\"}},\"id\":\"18267\",\"type\":\"CDSView\"},{\"attributes\":{},\"id\":\"18284\",\"type\":\"UnionRenderers\"},{\"attributes\":{\"axis_label\":\"Year\",\"axis_label_text_font_size\":\"20pt\",\"bounds\":\"auto\",\"formatter\":{\"id\":\"18239\"},\"major_label_orientation\":\"horizontal\",\"major_label_text_font_size\":\"20pt\",\"ticker\":{\"id\":\"18218\"}},\"id\":\"18217\",\"type\":\"LinearAxis\"},{\"attributes\":{},\"id\":\"18227\",\"type\":\"WheelZoomTool\"},{\"attributes\":{\"data\":{\"Variable\":[\"Production (Alternative)\",\"Production (Alternative)\",\"Production (Alternative)\",\"Production (Alternative)\",\"Production (Alternative)\",\"Production (Alternative)\",\"Production (Alternative)\",\"Production (Alternative)\",\"Production (Alternative)\",\"Production (Alternative)\",\"Production (Alternative)\",\"Production (Alternative)\",\"Production (Alternative)\",\"Production (Alternative)\",\"Production (Alternative)\",\"Production (Alternative)\",\"Production (Alternative)\",\"Production (Alternative)\",\"Production (Alternative)\",\"Production (Alternative)\",\"Production (Alternative)\",\"Production (Alternative)\",\"Production (Alternative)\",\"Production (Alternative)\",\"Production (Alternative)\",\"Production (Alternative)\",\"Production (Alternative)\",\"Production (Alternative)\",\"Production (Alternative)\",\"Production (Alternative)\",\"Production (Alternative)\",\"Production (Alternative)\",\"Production (Alternative)\",\"Production (Alternative)\",\"Production (Alternative)\",\"Production (Alternative)\",\"Production (Alternative)\",\"Production (Alternative)\",\"Production (Alternative)\"],\"Year\":[1980,1981,1982,1983,1984,1985,1986,1987,1988,1989,1990,1991,1992,1993,1994,1995,1996,1997,1998,1999,2000,2001,2002,2003,2004,2005,2006,2007,2008,2009,2010,2011,2012,2013,2014,2015,2016,2017,2018],\"value\":{\"__ndarray__\":\"vHSTGARWIEBkO99PjdcgQEa28/3UOCJATDeJQWBlI0B7FK5H4fojQFK4HoXrUSRACKwcWmT7JECNl24Sg8AkQEoMAiuHFiZABoGVQ4usJ0B9PzVeukkoQHsUrkfh+ihAmpmZmZmZKECWQ4ts5/soQOkmMQisXClAarx0kxhEK0AYBFYOLTIsQO58PzVeOitArBxaZDsfK0CNl24Sg0AsQCGwcmiR7StAbhKDwMphKkCNl24Sg8ArQOj7qfHSzStAUrgeheuRLEDdJAaBlcMsQCYxCKwcmi1A5KWbxCDwLUAj2/l+ajwvQPYoXI/C9S9Ac2iR7Xy/MEDEILByaJExQKabxCCw8jBAtvP91HipMUC0yHa+nxoyQDeJQWDlEDJAmpmZmZnZMkA9CtejcJ0zQBgEVg4t8jNA\",\"dtype\":\"float64\",\"shape\":[39]}},\"selected\":{\"id\":\"18261\"},\"selection_policy\":{\"id\":\"18284\"}},\"id\":\"18260\",\"type\":\"ColumnDataSource\"},{\"attributes\":{\"line_color\":\"#ff7e0e\",\"line_width\":2,\"x\":{\"field\":\"Year\"},\"y\":{\"field\":\"value\"}},\"id\":\"18263\",\"type\":\"Line\"},{\"attributes\":{\"overlay\":{\"id\":\"18230\"}},\"id\":\"18228\",\"type\":\"BoxZoomTool\"},{\"attributes\":{},\"id\":\"18241\",\"type\":\"BasicTickFormatter\"},{\"attributes\":{\"data_source\":{\"id\":\"18260\"},\"glyph\":{\"id\":\"18263\"},\"hover_glyph\":null,\"muted_glyph\":{\"id\":\"18265\"},\"nonselection_glyph\":{\"id\":\"18264\"},\"selection_glyph\":null,\"view\":{\"id\":\"18267\"}},\"id\":\"18266\",\"type\":\"GlyphRenderer\"},{\"attributes\":{\"line_alpha\":0.1,\"line_color\":\"#ff7e0e\",\"line_width\":2,\"x\":{\"field\":\"Year\"},\"y\":{\"field\":\"value\"}},\"id\":\"18264\",\"type\":\"Line\"},{\"attributes\":{\"data\":{\"Variable\":[\"Production (Oil)\",\"Production (Oil)\",\"Production (Oil)\",\"Production (Oil)\",\"Production (Oil)\",\"Production (Oil)\",\"Production (Oil)\",\"Production (Oil)\",\"Production (Oil)\",\"Production (Oil)\",\"Production (Oil)\",\"Production (Oil)\",\"Production (Oil)\",\"Production (Oil)\",\"Production (Oil)\",\"Production (Oil)\",\"Production (Oil)\",\"Production (Oil)\",\"Production (Oil)\",\"Production (Oil)\",\"Production (Oil)\",\"Production (Oil)\",\"Production (Oil)\",\"Production (Oil)\",\"Production (Oil)\",\"Production (Oil)\",\"Production (Oil)\",\"Production (Oil)\",\"Production (Oil)\",\"Production (Oil)\",\"Production (Oil)\",\"Production (Oil)\",\"Production (Oil)\",\"Production (Oil)\",\"Production (Oil)\",\"Production (Oil)\",\"Production (Oil)\",\"Production (Oil)\",\"Production (Oil)\"],\"Year\":[1980,1981,1982,1983,1984,1985,1986,1987,1988,1989,1990,1991,1992,1993,1994,1995,1996,1997,1998,1999,2000,2001,2002,2003,2004,2005,2006,2007,2008,2009,2010,2011,2012,2013,2014,2015,2016,2017,2018],\"value\":{\"__ndarray__\":\"001iEFh5NEC28/3UeGk0QGiR7Xw/dTRAu0kMAiuHNEChRbbz/RQ1QBgEVg4tMjVAd76fGi99NEC0yHa+n9ozQMP1KFyPgjNAPQrXo3A9MkAv3SQGgbUxQJ3vp8ZL9zFA7FG4HoWLMUAj2/l+atwwQMHKoUW2czBAKVyPwvVIMECHFtnO9zMwQO18PzVeGjBAEVg5tMg2L0ANAiuHFtktQFK4HoXr0S1AJQaBlUOLLUBt5/up8VItQE+Nl24SgyxA0SLb+X7qK0A2XrpJDIIqQOF6FK5HISpArkfhehQuKkAYBFYOLfIpQBgEVg4tsitA4XoUrkehLEAtsp3vp8YtQBsv3SQGATFAN4lBYOVQM0DpJjEIrJw2QOSlm8QgMDhAwMqhRbYzN0DkpZvEIJA4QBxaZDvfjzxA\",\"dtype\":\"float64\",\"shape\":[39]}},\"selected\":{\"id\":\"18245\"},\"selection_policy\":{\"id\":\"18273\"}},\"id\":\"18244\",\"type\":\"ColumnDataSource\"},{\"attributes\":{},\"id\":\"18261\",\"type\":\"Selection\"},{\"attributes\":{\"label\":{\"value\":\"Production (Oil)\"},\"renderers\":[{\"id\":\"18250\"}]},\"id\":\"18259\",\"type\":\"LegendItem\"},{\"attributes\":{\"active_drag\":\"auto\",\"active_inspect\":\"auto\",\"active_multi\":null,\"active_scroll\":\"auto\",\"active_tap\":\"auto\",\"tools\":[{\"id\":\"18206\"},{\"id\":\"18225\"},{\"id\":\"18226\"},{\"id\":\"18227\"},{\"id\":\"18228\"},{\"id\":\"18229\"}]},\"id\":\"18231\",\"type\":\"Toolbar\"},{\"attributes\":{},\"id\":\"18239\",\"type\":\"BasicTickFormatter\"},{\"attributes\":{},\"id\":\"18213\",\"type\":\"LinearScale\"},{\"attributes\":{\"line_alpha\":0.2,\"line_color\":\"#ff7e0e\",\"line_width\":2,\"x\":{\"field\":\"Year\"},\"y\":{\"field\":\"value\"}},\"id\":\"18265\",\"type\":\"Line\"},{\"attributes\":{},\"id\":\"18225\",\"type\":\"SaveTool\"},{\"attributes\":{\"below\":[{\"id\":\"18217\"}],\"center\":[{\"id\":\"18220\"},{\"id\":\"18224\"}],\"left\":[{\"id\":\"18221\"}],\"margin\":null,\"min_border_bottom\":10,\"min_border_left\":10,\"min_border_right\":10,\"min_border_top\":10,\"plot_height\":400,\"plot_width\":1200,\"renderers\":[{\"id\":\"18250\"},{\"id\":\"18266\"}],\"right\":[{\"id\":\"18258\"}],\"sizing_mode\":\"fixed\",\"title\":{\"id\":\"18209\"},\"toolbar\":{\"id\":\"18231\"},\"x_range\":{\"id\":\"18204\"},\"x_scale\":{\"id\":\"18213\"},\"y_range\":{\"id\":\"18205\"},\"y_scale\":{\"id\":\"18215\"}},\"id\":\"18208\",\"subtype\":\"Figure\",\"type\":\"Plot\"},{\"attributes\":{\"label\":{\"value\":\"Production (Alternative)\"},\"renderers\":[{\"id\":\"18266\"}]},\"id\":\"18276\",\"type\":\"LegendItem\"},{\"attributes\":{\"children\":[{\"id\":\"18203\"},{\"id\":\"18208\"},{\"id\":\"18357\"}],\"margin\":[0,0,0,0],\"name\":\"Row36774\",\"tags\":[\"embedded\"]},\"id\":\"18202\",\"type\":\"Row\"},{\"attributes\":{},\"id\":\"18215\",\"type\":\"LinearScale\"},{\"attributes\":{},\"id\":\"18273\",\"type\":\"UnionRenderers\"},{\"attributes\":{\"data_source\":{\"id\":\"18244\"},\"glyph\":{\"id\":\"18247\"},\"hover_glyph\":null,\"muted_glyph\":{\"id\":\"18249\"},\"nonselection_glyph\":{\"id\":\"18248\"},\"selection_glyph\":null,\"view\":{\"id\":\"18251\"}},\"id\":\"18250\",\"type\":\"GlyphRenderer\"},{\"attributes\":{\"axis\":{\"id\":\"18221\"},\"dimension\":1,\"ticker\":{\"id\":\"18222\"}},\"id\":\"18224\",\"type\":\"Grid\"},{\"attributes\":{\"margin\":[5,5,5,5],\"name\":\"HSpacer36778\",\"sizing_mode\":\"stretch_width\"},\"id\":\"18203\",\"type\":\"Spacer\"},{\"attributes\":{\"source\":{\"id\":\"18244\"}},\"id\":\"18251\",\"type\":\"CDSView\"},{\"attributes\":{\"click_policy\":\"mute\",\"items\":[{\"id\":\"18259\"},{\"id\":\"18276\"}],\"location\":[0,0],\"title\":\"Variable\"},\"id\":\"18258\",\"type\":\"Legend\"},{\"attributes\":{\"line_alpha\":0.2,\"line_color\":\"#1f77b3\",\"line_width\":2,\"x\":{\"field\":\"Year\"},\"y\":{\"field\":\"value\"}},\"id\":\"18249\",\"type\":\"Line\"},{\"attributes\":{\"end\":2018.0,\"reset_end\":2018.0,\"reset_start\":1980.0,\"start\":1980.0,\"tags\":[[[\"Year\",\"Year\",null]]]},\"id\":\"18204\",\"type\":\"Range1d\"},{\"attributes\":{},\"id\":\"18245\",\"type\":\"Selection\"},{\"attributes\":{\"text\":\"Annual Energy Production 1980 to 2018\",\"text_color\":{\"value\":\"black\"},\"text_font_size\":{\"value\":\"20pt\"}},\"id\":\"18209\",\"type\":\"Title\"},{\"attributes\":{\"callback\":null,\"renderers\":[{\"id\":\"18250\"},{\"id\":\"18266\"}],\"tags\":[\"hv_created\"],\"tooltips\":[[\"Variable\",\"@{Variable}\"],[\"Year\",\"@{Year}\"],[\"value\",\"@{value}\"]]},\"id\":\"18206\",\"type\":\"HoverTool\"},{\"attributes\":{\"axis\":{\"id\":\"18217\"},\"ticker\":{\"id\":\"18218\"}},\"id\":\"18220\",\"type\":\"Grid\"},{\"attributes\":{\"end\":30.601399999999998,\"reset_end\":30.601399999999998,\"reset_start\":6.128599999999999,\"start\":6.128599999999999,\"tags\":[[[\"value\",\"value\",null]]]},\"id\":\"18205\",\"type\":\"Range1d\"},{\"attributes\":{\"line_color\":\"#1f77b3\",\"line_width\":2,\"x\":{\"field\":\"Year\"},\"y\":{\"field\":\"value\"}},\"id\":\"18247\",\"type\":\"Line\"},{\"attributes\":{},\"id\":\"18222\",\"type\":\"BasicTicker\"},{\"attributes\":{},\"id\":\"18229\",\"type\":\"ResetTool\"},{\"attributes\":{},\"id\":\"18226\",\"type\":\"PanTool\"}],\"root_ids\":[\"18202\"]},\"title\":\"Bokeh Application\",\"version\":\"2.0.2\"}};\n",
       "  var render_items = [{\"docid\":\"af46fc5d-263f-445c-8cba-521d55e13a9f\",\"root_ids\":[\"18202\"],\"roots\":{\"18202\":\"04d581a1-efbe-4661-ad07-a774e325ffdb\"}}];\n",
       "  root.Bokeh.embed.embed_items_notebook(docs_json, render_items);\n",
       "  }\n",
       "if (root.Bokeh !== undefined) {\n",
       "    embed_document(root);\n",
       "  } else {\n",
       "    var attempts = 0;\n",
       "    var timer = setInterval(function(root) {\n",
       "      if (root.Bokeh !== undefined) {\n",
       "        clearInterval(timer);\n",
       "        embed_document(root);\n",
       "      } else if (document.readyState == \"complete\") {\n",
       "        attempts++;\n",
       "        if (attempts > 100) {\n",
       "          clearInterval(timer);\n",
       "          console.log(\"Bokeh: ERROR: Unable to run BokehJS code because BokehJS library is missing\");\n",
       "        }\n",
       "      }\n",
       "    }, 10, root)\n",
       "  }\n",
       "})(window);</script>"
      ],
      "text/plain": [
       ":NdOverlay   [Variable]\n",
       "   :Curve   [Year]   (value)"
      ]
     },
     "execution_count": 108,
     "metadata": {
      "application/vnd.holoviews_exec.v0+json": {
       "id": "18202"
      }
     },
     "output_type": "execute_result"
    }
   ],
   "source": [
    "def comb_production():\n",
    "    plot = combined_production.hvplot.line(\n",
    "        title=\"Annual Energy Production 1980 to 2018\",width=1200,height=400,grid=True)\n",
    "    \n",
    "    plot.opts(\n",
    "            fontsize={\n",
    "                'title': 20, \n",
    "                    'labels': 20, \n",
    "                        'xticks': 20, \n",
    "                            'yticks': 15,\n",
    "        }\n",
    "    )\n",
    "    \n",
    "    return plot\n",
    "comb_production()"
   ]
  },
  {
   "cell_type": "code",
   "execution_count": 109,
   "metadata": {},
   "outputs": [
    {
     "data": {},
     "metadata": {},
     "output_type": "display_data"
    },
    {
     "data": {
      "application/vnd.holoviews_exec.v0+json": "",
      "text/html": [
       "<div id='18409'>\n",
       "\n",
       "\n",
       "\n",
       "\n",
       "\n",
       "  <div class=\"bk-root\" id=\"4f67d940-f561-41e0-93c4-58a740987128\" data-root-id=\"18409\"></div>\n",
       "</div>\n",
       "<script type=\"application/javascript\">(function(root) {\n",
       "  function embed_document(root) {\n",
       "  var docs_json = {\"f94f376d-2601-46a4-b1e3-160dfb91198e\":{\"roots\":{\"references\":[{\"attributes\":{\"end\":20.3386,\"reset_end\":20.3386,\"reset_start\":7.775399999999999,\"start\":7.775399999999999,\"tags\":[[[\"Production (Alternative)\",\"Production (Alternative)\",null]]]},\"id\":\"18411\",\"type\":\"Range1d\"},{\"attributes\":{},\"id\":\"18453\",\"type\":\"BasicTickFormatter\"},{\"attributes\":{\"axis\":{\"id\":\"18423\"},\"ticker\":{\"id\":\"18424\"}},\"id\":\"18426\",\"type\":\"Grid\"},{\"attributes\":{\"end\":30.1209,\"reset_end\":30.1209,\"reset_start\":11.4141,\"start\":11.4141,\"tags\":[[[\"Production (Oil)\",\"Production (Oil)\",null]]]},\"id\":\"18412\",\"type\":\"Range1d\"},{\"attributes\":{},\"id\":\"18455\",\"type\":\"BasicTickFormatter\"},{\"attributes\":{\"data_source\":{\"id\":\"18444\"},\"glyph\":{\"id\":\"18447\"},\"hover_glyph\":null,\"muted_glyph\":{\"id\":\"18449\"},\"nonselection_glyph\":{\"id\":\"18448\"},\"selection_glyph\":null,\"view\":{\"id\":\"18451\"}},\"id\":\"18450\",\"type\":\"GlyphRenderer\"},{\"attributes\":{\"below\":[{\"id\":\"18423\"}],\"center\":[{\"id\":\"18426\"},{\"id\":\"18430\"}],\"left\":[{\"id\":\"18427\"}],\"margin\":null,\"min_border_bottom\":10,\"min_border_left\":10,\"min_border_right\":10,\"min_border_top\":10,\"plot_height\":400,\"plot_width\":1200,\"renderers\":[{\"id\":\"18450\"}],\"sizing_mode\":\"fixed\",\"title\":{\"id\":\"18415\"},\"toolbar\":{\"id\":\"18437\"},\"x_range\":{\"id\":\"18411\"},\"x_scale\":{\"id\":\"18419\"},\"y_range\":{\"id\":\"18412\"},\"y_scale\":{\"id\":\"18421\"}},\"id\":\"18414\",\"subtype\":\"Figure\",\"type\":\"Plot\"},{\"attributes\":{\"bottom_units\":\"screen\",\"fill_alpha\":0.5,\"fill_color\":\"lightgrey\",\"left_units\":\"screen\",\"level\":\"overlay\",\"line_alpha\":1.0,\"line_color\":\"black\",\"line_dash\":[4,4],\"line_width\":2,\"render_mode\":\"css\",\"right_units\":\"screen\",\"top_units\":\"screen\"},\"id\":\"18436\",\"type\":\"BoxAnnotation\"},{\"attributes\":{\"callback\":null,\"renderers\":[{\"id\":\"18450\"}],\"tags\":[\"hv_created\"],\"tooltips\":[[\"Production (Alternative)\",\"@{Production_left_parenthesis_Alternative_right_parenthesis}\"],[\"Production (Oil)\",\"@{Production_left_parenthesis_Oil_right_parenthesis}\"]]},\"id\":\"18413\",\"type\":\"HoverTool\"},{\"attributes\":{},\"id\":\"18424\",\"type\":\"BasicTicker\"},{\"attributes\":{\"text\":\"Correlation between Energy Production from Alternatives vs. Oil\",\"text_color\":{\"value\":\"black\"},\"text_font_size\":{\"value\":\"20pt\"}},\"id\":\"18415\",\"type\":\"Title\"},{\"attributes\":{\"margin\":[5,5,5,5],\"name\":\"HSpacer37245\",\"sizing_mode\":\"stretch_width\"},\"id\":\"18410\",\"type\":\"Spacer\"},{\"attributes\":{\"axis_label\":\"Production (Oil)\",\"axis_label_text_font_size\":\"20pt\",\"bounds\":\"auto\",\"formatter\":{\"id\":\"18455\"},\"major_label_orientation\":\"horizontal\",\"major_label_text_font_size\":\"15pt\",\"ticker\":{\"id\":\"18428\"}},\"id\":\"18427\",\"type\":\"LinearAxis\"},{\"attributes\":{},\"id\":\"18428\",\"type\":\"BasicTicker\"},{\"attributes\":{\"axis_label\":\"Production (Alternative)\",\"axis_label_text_font_size\":\"20pt\",\"bounds\":\"auto\",\"formatter\":{\"id\":\"18453\"},\"major_label_orientation\":\"horizontal\",\"major_label_text_font_size\":\"20pt\",\"ticker\":{\"id\":\"18424\"}},\"id\":\"18423\",\"type\":\"LinearAxis\"},{\"attributes\":{},\"id\":\"18419\",\"type\":\"LinearScale\"},{\"attributes\":{},\"id\":\"18421\",\"type\":\"LinearScale\"},{\"attributes\":{},\"id\":\"18445\",\"type\":\"Selection\"},{\"attributes\":{\"data\":{\"Production (Alternative)\":{\"__ndarray__\":\"vHSTGARWIEBkO99PjdcgQEa28/3UOCJATDeJQWBlI0B7FK5H4fojQFK4HoXrUSRACKwcWmT7JECNl24Sg8AkQEoMAiuHFiZABoGVQ4usJ0B9PzVeukkoQHsUrkfh+ihAmpmZmZmZKECWQ4ts5/soQOkmMQisXClAarx0kxhEK0AYBFYOLTIsQO58PzVeOitArBxaZDsfK0CNl24Sg0AsQCGwcmiR7StAbhKDwMphKkCNl24Sg8ArQOj7qfHSzStAUrgeheuRLEDdJAaBlcMsQCYxCKwcmi1A5KWbxCDwLUAj2/l+ajwvQPYoXI/C9S9Ac2iR7Xy/MEDEILByaJExQKabxCCw8jBAtvP91HipMUC0yHa+nxoyQDeJQWDlEDJAmpmZmZnZMkA9CtejcJ0zQBgEVg4t8jNA\",\"dtype\":\"float64\",\"shape\":[39]},\"Production (Oil)\":{\"__ndarray__\":\"001iEFh5NEC28/3UeGk0QGiR7Xw/dTRAu0kMAiuHNEChRbbz/RQ1QBgEVg4tMjVAd76fGi99NEC0yHa+n9ozQMP1KFyPgjNAPQrXo3A9MkAv3SQGgbUxQJ3vp8ZL9zFA7FG4HoWLMUAj2/l+atwwQMHKoUW2czBAKVyPwvVIMECHFtnO9zMwQO18PzVeGjBAEVg5tMg2L0ANAiuHFtktQFK4HoXr0S1AJQaBlUOLLUBt5/up8VItQE+Nl24SgyxA0SLb+X7qK0A2XrpJDIIqQOF6FK5HISpArkfhehQuKkAYBFYOLfIpQBgEVg4tsitA4XoUrkehLEAtsp3vp8YtQBsv3SQGATFAN4lBYOVQM0DpJjEIrJw2QOSlm8QgMDhAwMqhRbYzN0DkpZvEIJA4QBxaZDvfjzxA\",\"dtype\":\"float64\",\"shape\":[39]},\"Production_left_parenthesis_Alternative_right_parenthesis\":{\"__ndarray__\":\"vHSTGARWIEBkO99PjdcgQEa28/3UOCJATDeJQWBlI0B7FK5H4fojQFK4HoXrUSRACKwcWmT7JECNl24Sg8AkQEoMAiuHFiZABoGVQ4usJ0B9PzVeukkoQHsUrkfh+ihAmpmZmZmZKECWQ4ts5/soQOkmMQisXClAarx0kxhEK0AYBFYOLTIsQO58PzVeOitArBxaZDsfK0CNl24Sg0AsQCGwcmiR7StAbhKDwMphKkCNl24Sg8ArQOj7qfHSzStAUrgeheuRLEDdJAaBlcMsQCYxCKwcmi1A5KWbxCDwLUAj2/l+ajwvQPYoXI/C9S9Ac2iR7Xy/MEDEILByaJExQKabxCCw8jBAtvP91HipMUC0yHa+nxoyQDeJQWDlEDJAmpmZmZnZMkA9CtejcJ0zQBgEVg4t8jNA\",\"dtype\":\"float64\",\"shape\":[39]},\"Production_left_parenthesis_Oil_right_parenthesis\":{\"__ndarray__\":\"001iEFh5NEC28/3UeGk0QGiR7Xw/dTRAu0kMAiuHNEChRbbz/RQ1QBgEVg4tMjVAd76fGi99NEC0yHa+n9ozQMP1KFyPgjNAPQrXo3A9MkAv3SQGgbUxQJ3vp8ZL9zFA7FG4HoWLMUAj2/l+atwwQMHKoUW2czBAKVyPwvVIMECHFtnO9zMwQO18PzVeGjBAEVg5tMg2L0ANAiuHFtktQFK4HoXr0S1AJQaBlUOLLUBt5/up8VItQE+Nl24SgyxA0SLb+X7qK0A2XrpJDIIqQOF6FK5HISpArkfhehQuKkAYBFYOLfIpQBgEVg4tsitA4XoUrkehLEAtsp3vp8YtQBsv3SQGATFAN4lBYOVQM0DpJjEIrJw2QOSlm8QgMDhAwMqhRbYzN0DkpZvEIJA4QBxaZDvfjzxA\",\"dtype\":\"float64\",\"shape\":[39]}},\"selected\":{\"id\":\"18445\"},\"selection_policy\":{\"id\":\"18463\"}},\"id\":\"18444\",\"type\":\"ColumnDataSource\"},{\"attributes\":{\"margin\":[5,5,5,5],\"name\":\"HSpacer37246\",\"sizing_mode\":\"stretch_width\"},\"id\":\"18466\",\"type\":\"Spacer\"},{\"attributes\":{\"axis\":{\"id\":\"18427\"},\"dimension\":1,\"ticker\":{\"id\":\"18428\"}},\"id\":\"18430\",\"type\":\"Grid\"},{\"attributes\":{},\"id\":\"18432\",\"type\":\"PanTool\"},{\"attributes\":{},\"id\":\"18431\",\"type\":\"SaveTool\"},{\"attributes\":{},\"id\":\"18433\",\"type\":\"WheelZoomTool\"},{\"attributes\":{\"active_drag\":\"auto\",\"active_inspect\":\"auto\",\"active_multi\":null,\"active_scroll\":\"auto\",\"active_tap\":\"auto\",\"tools\":[{\"id\":\"18413\"},{\"id\":\"18431\"},{\"id\":\"18432\"},{\"id\":\"18433\"},{\"id\":\"18434\"},{\"id\":\"18435\"}]},\"id\":\"18437\",\"type\":\"Toolbar\"},{\"attributes\":{\"children\":[{\"id\":\"18410\"},{\"id\":\"18414\"},{\"id\":\"18466\"}],\"margin\":[0,0,0,0],\"name\":\"Row37241\",\"tags\":[\"embedded\"]},\"id\":\"18409\",\"type\":\"Row\"},{\"attributes\":{\"overlay\":{\"id\":\"18436\"}},\"id\":\"18434\",\"type\":\"BoxZoomTool\"},{\"attributes\":{},\"id\":\"18435\",\"type\":\"ResetTool\"},{\"attributes\":{},\"id\":\"18463\",\"type\":\"UnionRenderers\"},{\"attributes\":{\"fill_alpha\":{\"value\":0.1},\"fill_color\":{\"value\":\"#1f77b3\"},\"line_alpha\":{\"value\":0.1},\"line_color\":{\"value\":\"#1f77b3\"},\"size\":{\"units\":\"screen\",\"value\":5.477225575051661},\"x\":{\"field\":\"Production (Alternative)\"},\"y\":{\"field\":\"Production (Oil)\"}},\"id\":\"18448\",\"type\":\"Scatter\"},{\"attributes\":{\"fill_color\":{\"value\":\"#1f77b3\"},\"line_color\":{\"value\":\"#1f77b3\"},\"size\":{\"units\":\"screen\",\"value\":5.477225575051661},\"x\":{\"field\":\"Production (Alternative)\"},\"y\":{\"field\":\"Production (Oil)\"}},\"id\":\"18447\",\"type\":\"Scatter\"},{\"attributes\":{\"source\":{\"id\":\"18444\"}},\"id\":\"18451\",\"type\":\"CDSView\"},{\"attributes\":{\"fill_alpha\":{\"value\":0.2},\"fill_color\":{\"value\":\"#1f77b3\"},\"line_alpha\":{\"value\":0.2},\"line_color\":{\"value\":\"#1f77b3\"},\"size\":{\"units\":\"screen\",\"value\":5.477225575051661},\"x\":{\"field\":\"Production (Alternative)\"},\"y\":{\"field\":\"Production (Oil)\"}},\"id\":\"18449\",\"type\":\"Scatter\"}],\"root_ids\":[\"18409\"]},\"title\":\"Bokeh Application\",\"version\":\"2.0.2\"}};\n",
       "  var render_items = [{\"docid\":\"f94f376d-2601-46a4-b1e3-160dfb91198e\",\"root_ids\":[\"18409\"],\"roots\":{\"18409\":\"4f67d940-f561-41e0-93c4-58a740987128\"}}];\n",
       "  root.Bokeh.embed.embed_items_notebook(docs_json, render_items);\n",
       "  }\n",
       "if (root.Bokeh !== undefined) {\n",
       "    embed_document(root);\n",
       "  } else {\n",
       "    var attempts = 0;\n",
       "    var timer = setInterval(function(root) {\n",
       "      if (root.Bokeh !== undefined) {\n",
       "        clearInterval(timer);\n",
       "        embed_document(root);\n",
       "      } else if (document.readyState == \"complete\") {\n",
       "        attempts++;\n",
       "        if (attempts > 100) {\n",
       "          clearInterval(timer);\n",
       "          console.log(\"Bokeh: ERROR: Unable to run BokehJS code because BokehJS library is missing\");\n",
       "        }\n",
       "      }\n",
       "    }, 10, root)\n",
       "  }\n",
       "})(window);</script>"
      ],
      "text/plain": [
       ":Scatter   [Production (Alternative)]   (Production (Oil))"
      ]
     },
     "execution_count": 109,
     "metadata": {
      "application/vnd.holoviews_exec.v0+json": {
       "id": "18409"
      }
     },
     "output_type": "execute_result"
    }
   ],
   "source": [
    "def production_corr():\n",
    "    plot = combined_production.hvplot.scatter(\n",
    "        width=1200,height=400,grid=True,\n",
    "        y='Production (Oil)',x='Production (Alternative)',title=\"Correlation between Energy Production from Alternatives vs. Oil\")\n",
    "    \n",
    "    plot.opts(\n",
    "            fontsize={\n",
    "                'title': 20, \n",
    "                    'labels': 20, \n",
    "                        'xticks': 20, \n",
    "                            'yticks': 15,\n",
    "        }\n",
    "    )\n",
    "    \n",
    "    return plot\n",
    "production_corr()"
   ]
  },
  {
   "cell_type": "code",
   "execution_count": 137,
   "metadata": {},
   "outputs": [
    {
     "name": "stdout",
     "output_type": "stream",
     "text": [
      "[*********************100%***********************]  4 of 4 completed\n",
      "[*********************100%***********************]  4 of 4 completed\n"
     ]
    },
    {
     "data": {
      "application/vnd.plotly.v1+json": {
       "config": {
        "plotlyServerURL": "https://plot.ly"
       },
       "data": [
        {
         "dimensions": [
          {
           "label": "Year",
           "values": [
            2000,
            2001,
            2002,
            2003,
            2004,
            2005,
            2006,
            2007,
            2008,
            2009,
            2010,
            2011,
            2012,
            2013,
            2014,
            2015,
            2016,
            2017,
            2018
           ]
          },
          {
           "label": "Production (Alt)",
           "values": [
            -0.011468214639671515,
            -0.055356631337725726,
            0.05192934576605257,
            0.0018737388296339308,
            0.02754999280679038,
            0.006790339516975719,
            0.029133639271311296,
            0.011350584419971721,
            0.04335626962388939,
            0.02317838391599447,
            0.04806007509386734,
            0.0489610699785048,
            -0.03529143897996345,
            0.04212886476280375,
            0.025025478428264192,
            -0.002098983650022146,
            0.04339643529281534,
            0.04058355437665773,
            0.016874840683150705
           ]
          },
          {
           "label": "Stock Returns (Alt)",
           "values": [
            -0.09046389869051663,
            -0.14835181087583693,
            -0.6078410265837453,
            1.5252537696199864,
            0.08642437319243532,
            0.2895448849272778,
            0.1546112606245563,
            0.17288103891386652,
            -0.32435881568818503,
            0.39705539178526394,
            0.026782620937517293,
            -0.12368404052124551,
            -0.16566708341413314,
            0.5662495475825771,
            0.2921015419392605,
            -0.4096919281933554,
            0.24461880041971582,
            0.20789350290146522,
            0.048818990552964736
           ]
          },
          {
           "label": "Production (Oil)",
           "values": [
            -0.0009380863039399889,
            -0.009255533199195143,
            -0.007446520444083338,
            -0.027690628836448128,
            -0.02090347923681246,
            -0.050437025361799614,
            -0.014259846084201167,
            0.0019135093761959432,
            -0.008938120702826624,
            0.06744777615046638,
            0.0337232813402657,
            0.040027942717429266,
            0.1421278882321333,
            0.13596800752764038,
            0.17063574238972867,
            0.06969750574916,
            -0.04076401521415596,
            0.05865873631583507,
            0.1628058461914259
           ]
          },
          {
           "label": "Stock Returns (Oil)",
           "values": [
            -0.006127054078986921,
            -0.0299060959725429,
            -0.11072416415288588,
            0.2576612673330989,
            0.23702745855394564,
            0.1264583108244845,
            0.23717938088692891,
            0.22255981032599476,
            -0.24755736592030164,
            0.12209916002022644,
            0.07997488608934125,
            0.14738543232899992,
            0.024085288169226754,
            0.18428940487550755,
            -0.08388990927050674,
            -0.1782571864774751,
            0.30297194545022194,
            0.13088951767534315,
            -0.09159950636435427
           ]
          }
         ],
         "domain": {
          "x": [
           0,
           1
          ],
          "y": [
           0,
           1
          ]
         },
         "line": {
          "color": [
           2000,
           2001,
           2002,
           2003,
           2004,
           2005,
           2006,
           2007,
           2008,
           2009,
           2010,
           2011,
           2012,
           2013,
           2014,
           2015,
           2016,
           2017,
           2018
          ],
          "coloraxis": "coloraxis"
         },
         "name": "",
         "type": "parcoords"
        }
       ],
       "layout": {
        "autosize": true,
        "coloraxis": {
         "colorbar": {
          "title": {
           "text": "Year"
          }
         },
         "colorscale": [
          [
           0,
           "#0d0887"
          ],
          [
           0.1111111111111111,
           "#46039f"
          ],
          [
           0.2222222222222222,
           "#7201a8"
          ],
          [
           0.3333333333333333,
           "#9c179e"
          ],
          [
           0.4444444444444444,
           "#bd3786"
          ],
          [
           0.5555555555555556,
           "#d8576b"
          ],
          [
           0.6666666666666666,
           "#ed7953"
          ],
          [
           0.7777777777777778,
           "#fb9f3a"
          ],
          [
           0.8888888888888888,
           "#fdca26"
          ],
          [
           1,
           "#f0f921"
          ]
         ]
        },
        "legend": {
         "tracegroupgap": 0
        },
        "template": {
         "data": {
          "bar": [
           {
            "error_x": {
             "color": "#2a3f5f"
            },
            "error_y": {
             "color": "#2a3f5f"
            },
            "marker": {
             "line": {
              "color": "#E5ECF6",
              "width": 0.5
             }
            },
            "type": "bar"
           }
          ],
          "barpolar": [
           {
            "marker": {
             "line": {
              "color": "#E5ECF6",
              "width": 0.5
             }
            },
            "type": "barpolar"
           }
          ],
          "carpet": [
           {
            "aaxis": {
             "endlinecolor": "#2a3f5f",
             "gridcolor": "white",
             "linecolor": "white",
             "minorgridcolor": "white",
             "startlinecolor": "#2a3f5f"
            },
            "baxis": {
             "endlinecolor": "#2a3f5f",
             "gridcolor": "white",
             "linecolor": "white",
             "minorgridcolor": "white",
             "startlinecolor": "#2a3f5f"
            },
            "type": "carpet"
           }
          ],
          "choropleth": [
           {
            "colorbar": {
             "outlinewidth": 0,
             "ticks": ""
            },
            "type": "choropleth"
           }
          ],
          "contour": [
           {
            "colorbar": {
             "outlinewidth": 0,
             "ticks": ""
            },
            "colorscale": [
             [
              0,
              "#0d0887"
             ],
             [
              0.1111111111111111,
              "#46039f"
             ],
             [
              0.2222222222222222,
              "#7201a8"
             ],
             [
              0.3333333333333333,
              "#9c179e"
             ],
             [
              0.4444444444444444,
              "#bd3786"
             ],
             [
              0.5555555555555556,
              "#d8576b"
             ],
             [
              0.6666666666666666,
              "#ed7953"
             ],
             [
              0.7777777777777778,
              "#fb9f3a"
             ],
             [
              0.8888888888888888,
              "#fdca26"
             ],
             [
              1,
              "#f0f921"
             ]
            ],
            "type": "contour"
           }
          ],
          "contourcarpet": [
           {
            "colorbar": {
             "outlinewidth": 0,
             "ticks": ""
            },
            "type": "contourcarpet"
           }
          ],
          "heatmap": [
           {
            "colorbar": {
             "outlinewidth": 0,
             "ticks": ""
            },
            "colorscale": [
             [
              0,
              "#0d0887"
             ],
             [
              0.1111111111111111,
              "#46039f"
             ],
             [
              0.2222222222222222,
              "#7201a8"
             ],
             [
              0.3333333333333333,
              "#9c179e"
             ],
             [
              0.4444444444444444,
              "#bd3786"
             ],
             [
              0.5555555555555556,
              "#d8576b"
             ],
             [
              0.6666666666666666,
              "#ed7953"
             ],
             [
              0.7777777777777778,
              "#fb9f3a"
             ],
             [
              0.8888888888888888,
              "#fdca26"
             ],
             [
              1,
              "#f0f921"
             ]
            ],
            "type": "heatmap"
           }
          ],
          "heatmapgl": [
           {
            "colorbar": {
             "outlinewidth": 0,
             "ticks": ""
            },
            "colorscale": [
             [
              0,
              "#0d0887"
             ],
             [
              0.1111111111111111,
              "#46039f"
             ],
             [
              0.2222222222222222,
              "#7201a8"
             ],
             [
              0.3333333333333333,
              "#9c179e"
             ],
             [
              0.4444444444444444,
              "#bd3786"
             ],
             [
              0.5555555555555556,
              "#d8576b"
             ],
             [
              0.6666666666666666,
              "#ed7953"
             ],
             [
              0.7777777777777778,
              "#fb9f3a"
             ],
             [
              0.8888888888888888,
              "#fdca26"
             ],
             [
              1,
              "#f0f921"
             ]
            ],
            "type": "heatmapgl"
           }
          ],
          "histogram": [
           {
            "marker": {
             "colorbar": {
              "outlinewidth": 0,
              "ticks": ""
             }
            },
            "type": "histogram"
           }
          ],
          "histogram2d": [
           {
            "colorbar": {
             "outlinewidth": 0,
             "ticks": ""
            },
            "colorscale": [
             [
              0,
              "#0d0887"
             ],
             [
              0.1111111111111111,
              "#46039f"
             ],
             [
              0.2222222222222222,
              "#7201a8"
             ],
             [
              0.3333333333333333,
              "#9c179e"
             ],
             [
              0.4444444444444444,
              "#bd3786"
             ],
             [
              0.5555555555555556,
              "#d8576b"
             ],
             [
              0.6666666666666666,
              "#ed7953"
             ],
             [
              0.7777777777777778,
              "#fb9f3a"
             ],
             [
              0.8888888888888888,
              "#fdca26"
             ],
             [
              1,
              "#f0f921"
             ]
            ],
            "type": "histogram2d"
           }
          ],
          "histogram2dcontour": [
           {
            "colorbar": {
             "outlinewidth": 0,
             "ticks": ""
            },
            "colorscale": [
             [
              0,
              "#0d0887"
             ],
             [
              0.1111111111111111,
              "#46039f"
             ],
             [
              0.2222222222222222,
              "#7201a8"
             ],
             [
              0.3333333333333333,
              "#9c179e"
             ],
             [
              0.4444444444444444,
              "#bd3786"
             ],
             [
              0.5555555555555556,
              "#d8576b"
             ],
             [
              0.6666666666666666,
              "#ed7953"
             ],
             [
              0.7777777777777778,
              "#fb9f3a"
             ],
             [
              0.8888888888888888,
              "#fdca26"
             ],
             [
              1,
              "#f0f921"
             ]
            ],
            "type": "histogram2dcontour"
           }
          ],
          "mesh3d": [
           {
            "colorbar": {
             "outlinewidth": 0,
             "ticks": ""
            },
            "type": "mesh3d"
           }
          ],
          "parcoords": [
           {
            "line": {
             "colorbar": {
              "outlinewidth": 0,
              "ticks": ""
             }
            },
            "type": "parcoords"
           }
          ],
          "pie": [
           {
            "automargin": true,
            "type": "pie"
           }
          ],
          "scatter": [
           {
            "marker": {
             "colorbar": {
              "outlinewidth": 0,
              "ticks": ""
             }
            },
            "type": "scatter"
           }
          ],
          "scatter3d": [
           {
            "line": {
             "colorbar": {
              "outlinewidth": 0,
              "ticks": ""
             }
            },
            "marker": {
             "colorbar": {
              "outlinewidth": 0,
              "ticks": ""
             }
            },
            "type": "scatter3d"
           }
          ],
          "scattercarpet": [
           {
            "marker": {
             "colorbar": {
              "outlinewidth": 0,
              "ticks": ""
             }
            },
            "type": "scattercarpet"
           }
          ],
          "scattergeo": [
           {
            "marker": {
             "colorbar": {
              "outlinewidth": 0,
              "ticks": ""
             }
            },
            "type": "scattergeo"
           }
          ],
          "scattergl": [
           {
            "marker": {
             "colorbar": {
              "outlinewidth": 0,
              "ticks": ""
             }
            },
            "type": "scattergl"
           }
          ],
          "scattermapbox": [
           {
            "marker": {
             "colorbar": {
              "outlinewidth": 0,
              "ticks": ""
             }
            },
            "type": "scattermapbox"
           }
          ],
          "scatterpolar": [
           {
            "marker": {
             "colorbar": {
              "outlinewidth": 0,
              "ticks": ""
             }
            },
            "type": "scatterpolar"
           }
          ],
          "scatterpolargl": [
           {
            "marker": {
             "colorbar": {
              "outlinewidth": 0,
              "ticks": ""
             }
            },
            "type": "scatterpolargl"
           }
          ],
          "scatterternary": [
           {
            "marker": {
             "colorbar": {
              "outlinewidth": 0,
              "ticks": ""
             }
            },
            "type": "scatterternary"
           }
          ],
          "surface": [
           {
            "colorbar": {
             "outlinewidth": 0,
             "ticks": ""
            },
            "colorscale": [
             [
              0,
              "#0d0887"
             ],
             [
              0.1111111111111111,
              "#46039f"
             ],
             [
              0.2222222222222222,
              "#7201a8"
             ],
             [
              0.3333333333333333,
              "#9c179e"
             ],
             [
              0.4444444444444444,
              "#bd3786"
             ],
             [
              0.5555555555555556,
              "#d8576b"
             ],
             [
              0.6666666666666666,
              "#ed7953"
             ],
             [
              0.7777777777777778,
              "#fb9f3a"
             ],
             [
              0.8888888888888888,
              "#fdca26"
             ],
             [
              1,
              "#f0f921"
             ]
            ],
            "type": "surface"
           }
          ],
          "table": [
           {
            "cells": {
             "fill": {
              "color": "#EBF0F8"
             },
             "line": {
              "color": "white"
             }
            },
            "header": {
             "fill": {
              "color": "#C8D4E3"
             },
             "line": {
              "color": "white"
             }
            },
            "type": "table"
           }
          ]
         },
         "layout": {
          "annotationdefaults": {
           "arrowcolor": "#2a3f5f",
           "arrowhead": 0,
           "arrowwidth": 1
          },
          "autotypenumbers": "strict",
          "coloraxis": {
           "colorbar": {
            "outlinewidth": 0,
            "ticks": ""
           }
          },
          "colorscale": {
           "diverging": [
            [
             0,
             "#8e0152"
            ],
            [
             0.1,
             "#c51b7d"
            ],
            [
             0.2,
             "#de77ae"
            ],
            [
             0.3,
             "#f1b6da"
            ],
            [
             0.4,
             "#fde0ef"
            ],
            [
             0.5,
             "#f7f7f7"
            ],
            [
             0.6,
             "#e6f5d0"
            ],
            [
             0.7,
             "#b8e186"
            ],
            [
             0.8,
             "#7fbc41"
            ],
            [
             0.9,
             "#4d9221"
            ],
            [
             1,
             "#276419"
            ]
           ],
           "sequential": [
            [
             0,
             "#0d0887"
            ],
            [
             0.1111111111111111,
             "#46039f"
            ],
            [
             0.2222222222222222,
             "#7201a8"
            ],
            [
             0.3333333333333333,
             "#9c179e"
            ],
            [
             0.4444444444444444,
             "#bd3786"
            ],
            [
             0.5555555555555556,
             "#d8576b"
            ],
            [
             0.6666666666666666,
             "#ed7953"
            ],
            [
             0.7777777777777778,
             "#fb9f3a"
            ],
            [
             0.8888888888888888,
             "#fdca26"
            ],
            [
             1,
             "#f0f921"
            ]
           ],
           "sequentialminus": [
            [
             0,
             "#0d0887"
            ],
            [
             0.1111111111111111,
             "#46039f"
            ],
            [
             0.2222222222222222,
             "#7201a8"
            ],
            [
             0.3333333333333333,
             "#9c179e"
            ],
            [
             0.4444444444444444,
             "#bd3786"
            ],
            [
             0.5555555555555556,
             "#d8576b"
            ],
            [
             0.6666666666666666,
             "#ed7953"
            ],
            [
             0.7777777777777778,
             "#fb9f3a"
            ],
            [
             0.8888888888888888,
             "#fdca26"
            ],
            [
             1,
             "#f0f921"
            ]
           ]
          },
          "colorway": [
           "#636efa",
           "#EF553B",
           "#00cc96",
           "#ab63fa",
           "#FFA15A",
           "#19d3f3",
           "#FF6692",
           "#B6E880",
           "#FF97FF",
           "#FECB52"
          ],
          "font": {
           "color": "#2a3f5f"
          },
          "geo": {
           "bgcolor": "white",
           "lakecolor": "white",
           "landcolor": "#E5ECF6",
           "showlakes": true,
           "showland": true,
           "subunitcolor": "white"
          },
          "hoverlabel": {
           "align": "left"
          },
          "hovermode": "closest",
          "mapbox": {
           "style": "light"
          },
          "paper_bgcolor": "white",
          "plot_bgcolor": "#E5ECF6",
          "polar": {
           "angularaxis": {
            "gridcolor": "white",
            "linecolor": "white",
            "ticks": ""
           },
           "bgcolor": "#E5ECF6",
           "radialaxis": {
            "gridcolor": "white",
            "linecolor": "white",
            "ticks": ""
           }
          },
          "scene": {
           "xaxis": {
            "backgroundcolor": "#E5ECF6",
            "gridcolor": "white",
            "gridwidth": 2,
            "linecolor": "white",
            "showbackground": true,
            "ticks": "",
            "zerolinecolor": "white"
           },
           "yaxis": {
            "backgroundcolor": "#E5ECF6",
            "gridcolor": "white",
            "gridwidth": 2,
            "linecolor": "white",
            "showbackground": true,
            "ticks": "",
            "zerolinecolor": "white"
           },
           "zaxis": {
            "backgroundcolor": "#E5ECF6",
            "gridcolor": "white",
            "gridwidth": 2,
            "linecolor": "white",
            "showbackground": true,
            "ticks": "",
            "zerolinecolor": "white"
           }
          },
          "shapedefaults": {
           "line": {
            "color": "#2a3f5f"
           }
          },
          "ternary": {
           "aaxis": {
            "gridcolor": "white",
            "linecolor": "white",
            "ticks": ""
           },
           "baxis": {
            "gridcolor": "white",
            "linecolor": "white",
            "ticks": ""
           },
           "bgcolor": "#E5ECF6",
           "caxis": {
            "gridcolor": "white",
            "linecolor": "white",
            "ticks": ""
           }
          },
          "title": {
           "x": 0.05
          },
          "xaxis": {
           "automargin": true,
           "gridcolor": "white",
           "linecolor": "white",
           "ticks": "",
           "title": {
            "standoff": 15
           },
           "zerolinecolor": "white",
           "zerolinewidth": 2
          },
          "yaxis": {
           "automargin": true,
           "gridcolor": "white",
           "linecolor": "white",
           "ticks": "",
           "title": {
            "standoff": 15
           },
           "zerolinecolor": "white",
           "zerolinewidth": 2
          }
         }
        },
        "title": {
         "text": "Correlation between Energy Production and Stock Returns by Industry"
        }
       }
      },
      "image/png": "[encoded data removed]",
      "text/html": [
       "<div>                            <div id=\"b7726dfa-b808-4623-b0e0-684966b871b4\" class=\"plotly-graph-div\" style=\"height:525px; width:1200px;\"></div>            <script type=\"text/javascript\">                require([\"plotly\"], function(Plotly) {                    window.PLOTLYENV=window.PLOTLYENV || {};                                    if (document.getElementById(\"b7726dfa-b808-4623-b0e0-684966b871b4\")) {                    Plotly.newPlot(                        \"b7726dfa-b808-4623-b0e0-684966b871b4\",                        [{\"dimensions\": [{\"label\": \"Year\", \"values\": [2000, 2001, 2002, 2003, 2004, 2005, 2006, 2007, 2008, 2009, 2010, 2011, 2012, 2013, 2014, 2015, 2016, 2017, 2018]}, {\"label\": \"Production (Alt)\", \"values\": [-0.011468214639671515, -0.055356631337725726, 0.05192934576605257, 0.0018737388296339308, 0.02754999280679038, 0.006790339516975719, 0.029133639271311296, 0.011350584419971721, 0.04335626962388939, 0.02317838391599447, 0.04806007509386734, 0.0489610699785048, -0.03529143897996345, 0.04212886476280375, 0.025025478428264192, -0.002098983650022146, 0.04339643529281534, 0.04058355437665773, 0.016874840683150705]}, {\"label\": \"Stock Returns (Alt)\", \"values\": [-0.09046389869051663, -0.14835181087583693, -0.6078410265837453, 1.5252537696199864, 0.08642437319243532, 0.2895448849272778, 0.1546112606245563, 0.17288103891386652, -0.32435881568818503, 0.39705539178526394, 0.026782620937517293, -0.12368404052124551, -0.16566708341413314, 0.5662495475825771, 0.2921015419392605, -0.4096919281933554, 0.24461880041971582, 0.20789350290146522, 0.048818990552964736]}, {\"label\": \"Production (Oil)\", \"values\": [-0.0009380863039399889, -0.009255533199195143, -0.007446520444083338, -0.027690628836448128, -0.02090347923681246, -0.050437025361799614, -0.014259846084201167, 0.0019135093761959432, -0.008938120702826624, 0.06744777615046638, 0.0337232813402657, 0.040027942717429266, 0.1421278882321333, 0.13596800752764038, 0.17063574238972867, 0.06969750574916, -0.04076401521415596, 0.05865873631583507, 0.1628058461914259]}, {\"label\": \"Stock Returns (Oil)\", \"values\": [-0.006127054078986921, -0.0299060959725429, -0.11072416415288588, 0.2576612673330989, 0.23702745855394564, 0.1264583108244845, 0.23717938088692891, 0.22255981032599476, -0.24755736592030164, 0.12209916002022644, 0.07997488608934125, 0.14738543232899992, 0.024085288169226754, 0.18428940487550755, -0.08388990927050674, -0.1782571864774751, 0.30297194545022194, 0.13088951767534315, -0.09159950636435427]}], \"domain\": {\"x\": [0.0, 1.0], \"y\": [0.0, 1.0]}, \"line\": {\"color\": [2000, 2001, 2002, 2003, 2004, 2005, 2006, 2007, 2008, 2009, 2010, 2011, 2012, 2013, 2014, 2015, 2016, 2017, 2018], \"coloraxis\": \"coloraxis\"}, \"name\": \"\", \"type\": \"parcoords\"}],                        {\"coloraxis\": {\"colorbar\": {\"title\": {\"text\": \"Year\"}}, \"colorscale\": [[0.0, \"#0d0887\"], [0.1111111111111111, \"#46039f\"], [0.2222222222222222, \"#7201a8\"], [0.3333333333333333, \"#9c179e\"], [0.4444444444444444, \"#bd3786\"], [0.5555555555555556, \"#d8576b\"], [0.6666666666666666, \"#ed7953\"], [0.7777777777777778, \"#fb9f3a\"], [0.8888888888888888, \"#fdca26\"], [1.0, \"#f0f921\"]]}, \"legend\": {\"tracegroupgap\": 0}, \"template\": {\"data\": {\"bar\": [{\"error_x\": {\"color\": \"#2a3f5f\"}, \"error_y\": {\"color\": \"#2a3f5f\"}, \"marker\": {\"line\": {\"color\": \"#E5ECF6\", \"width\": 0.5}}, \"type\": \"bar\"}], \"barpolar\": [{\"marker\": {\"line\": {\"color\": \"#E5ECF6\", \"width\": 0.5}}, \"type\": \"barpolar\"}], \"carpet\": [{\"aaxis\": {\"endlinecolor\": \"#2a3f5f\", \"gridcolor\": \"white\", \"linecolor\": \"white\", \"minorgridcolor\": \"white\", \"startlinecolor\": \"#2a3f5f\"}, \"baxis\": {\"endlinecolor\": \"#2a3f5f\", \"gridcolor\": \"white\", \"linecolor\": \"white\", \"minorgridcolor\": \"white\", \"startlinecolor\": \"#2a3f5f\"}, \"type\": \"carpet\"}], \"choropleth\": [{\"colorbar\": {\"outlinewidth\": 0, \"ticks\": \"\"}, \"type\": \"choropleth\"}], \"contour\": [{\"colorbar\": {\"outlinewidth\": 0, \"ticks\": \"\"}, \"colorscale\": [[0.0, \"#0d0887\"], [0.1111111111111111, \"#46039f\"], [0.2222222222222222, \"#7201a8\"], [0.3333333333333333, \"#9c179e\"], [0.4444444444444444, \"#bd3786\"], [0.5555555555555556, \"#d8576b\"], [0.6666666666666666, \"#ed7953\"], [0.7777777777777778, \"#fb9f3a\"], [0.8888888888888888, \"#fdca26\"], [1.0, \"#f0f921\"]], \"type\": \"contour\"}], \"contourcarpet\": [{\"colorbar\": {\"outlinewidth\": 0, \"ticks\": \"\"}, \"type\": \"contourcarpet\"}], \"heatmap\": [{\"colorbar\": {\"outlinewidth\": 0, \"ticks\": \"\"}, \"colorscale\": [[0.0, \"#0d0887\"], [0.1111111111111111, \"#46039f\"], [0.2222222222222222, \"#7201a8\"], [0.3333333333333333, \"#9c179e\"], [0.4444444444444444, \"#bd3786\"], [0.5555555555555556, \"#d8576b\"], [0.6666666666666666, \"#ed7953\"], [0.7777777777777778, \"#fb9f3a\"], [0.8888888888888888, \"#fdca26\"], [1.0, \"#f0f921\"]], \"type\": \"heatmap\"}], \"heatmapgl\": [{\"colorbar\": {\"outlinewidth\": 0, \"ticks\": \"\"}, \"colorscale\": [[0.0, \"#0d0887\"], [0.1111111111111111, \"#46039f\"], [0.2222222222222222, \"#7201a8\"], [0.3333333333333333, \"#9c179e\"], [0.4444444444444444, \"#bd3786\"], [0.5555555555555556, \"#d8576b\"], [0.6666666666666666, \"#ed7953\"], [0.7777777777777778, \"#fb9f3a\"], [0.8888888888888888, \"#fdca26\"], [1.0, \"#f0f921\"]], \"type\": \"heatmapgl\"}], \"histogram\": [{\"marker\": {\"colorbar\": {\"outlinewidth\": 0, \"ticks\": \"\"}}, \"type\": \"histogram\"}], \"histogram2d\": [{\"colorbar\": {\"outlinewidth\": 0, \"ticks\": \"\"}, \"colorscale\": [[0.0, \"#0d0887\"], [0.1111111111111111, \"#46039f\"], [0.2222222222222222, \"#7201a8\"], [0.3333333333333333, \"#9c179e\"], [0.4444444444444444, \"#bd3786\"], [0.5555555555555556, \"#d8576b\"], [0.6666666666666666, \"#ed7953\"], [0.7777777777777778, \"#fb9f3a\"], [0.8888888888888888, \"#fdca26\"], [1.0, \"#f0f921\"]], \"type\": \"histogram2d\"}], \"histogram2dcontour\": [{\"colorbar\": {\"outlinewidth\": 0, \"ticks\": \"\"}, \"colorscale\": [[0.0, \"#0d0887\"], [0.1111111111111111, \"#46039f\"], [0.2222222222222222, \"#7201a8\"], [0.3333333333333333, \"#9c179e\"], [0.4444444444444444, \"#bd3786\"], [0.5555555555555556, \"#d8576b\"], [0.6666666666666666, \"#ed7953\"], [0.7777777777777778, \"#fb9f3a\"], [0.8888888888888888, \"#fdca26\"], [1.0, \"#f0f921\"]], \"type\": \"histogram2dcontour\"}], \"mesh3d\": [{\"colorbar\": {\"outlinewidth\": 0, \"ticks\": \"\"}, \"type\": \"mesh3d\"}], \"parcoords\": [{\"line\": {\"colorbar\": {\"outlinewidth\": 0, \"ticks\": \"\"}}, \"type\": \"parcoords\"}], \"pie\": [{\"automargin\": true, \"type\": \"pie\"}], \"scatter\": [{\"marker\": {\"colorbar\": {\"outlinewidth\": 0, \"ticks\": \"\"}}, \"type\": \"scatter\"}], \"scatter3d\": [{\"line\": {\"colorbar\": {\"outlinewidth\": 0, \"ticks\": \"\"}}, \"marker\": {\"colorbar\": {\"outlinewidth\": 0, \"ticks\": \"\"}}, \"type\": \"scatter3d\"}], \"scattercarpet\": [{\"marker\": {\"colorbar\": {\"outlinewidth\": 0, \"ticks\": \"\"}}, \"type\": \"scattercarpet\"}], \"scattergeo\": [{\"marker\": {\"colorbar\": {\"outlinewidth\": 0, \"ticks\": \"\"}}, \"type\": \"scattergeo\"}], \"scattergl\": [{\"marker\": {\"colorbar\": {\"outlinewidth\": 0, \"ticks\": \"\"}}, \"type\": \"scattergl\"}], \"scattermapbox\": [{\"marker\": {\"colorbar\": {\"outlinewidth\": 0, \"ticks\": \"\"}}, \"type\": \"scattermapbox\"}], \"scatterpolar\": [{\"marker\": {\"colorbar\": {\"outlinewidth\": 0, \"ticks\": \"\"}}, \"type\": \"scatterpolar\"}], \"scatterpolargl\": [{\"marker\": {\"colorbar\": {\"outlinewidth\": 0, \"ticks\": \"\"}}, \"type\": \"scatterpolargl\"}], \"scatterternary\": [{\"marker\": {\"colorbar\": {\"outlinewidth\": 0, \"ticks\": \"\"}}, \"type\": \"scatterternary\"}], \"surface\": [{\"colorbar\": {\"outlinewidth\": 0, \"ticks\": \"\"}, \"colorscale\": [[0.0, \"#0d0887\"], [0.1111111111111111, \"#46039f\"], [0.2222222222222222, \"#7201a8\"], [0.3333333333333333, \"#9c179e\"], [0.4444444444444444, \"#bd3786\"], [0.5555555555555556, \"#d8576b\"], [0.6666666666666666, \"#ed7953\"], [0.7777777777777778, \"#fb9f3a\"], [0.8888888888888888, \"#fdca26\"], [1.0, \"#f0f921\"]], \"type\": \"surface\"}], \"table\": [{\"cells\": {\"fill\": {\"color\": \"#EBF0F8\"}, \"line\": {\"color\": \"white\"}}, \"header\": {\"fill\": {\"color\": \"#C8D4E3\"}, \"line\": {\"color\": \"white\"}}, \"type\": \"table\"}]}, \"layout\": {\"annotationdefaults\": {\"arrowcolor\": \"#2a3f5f\", \"arrowhead\": 0, \"arrowwidth\": 1}, \"autotypenumbers\": \"strict\", \"coloraxis\": {\"colorbar\": {\"outlinewidth\": 0, \"ticks\": \"\"}}, \"colorscale\": {\"diverging\": [[0, \"#8e0152\"], [0.1, \"#c51b7d\"], [0.2, \"#de77ae\"], [0.3, \"#f1b6da\"], [0.4, \"#fde0ef\"], [0.5, \"#f7f7f7\"], [0.6, \"#e6f5d0\"], [0.7, \"#b8e186\"], [0.8, \"#7fbc41\"], [0.9, \"#4d9221\"], [1, \"#276419\"]], \"sequential\": [[0.0, \"#0d0887\"], [0.1111111111111111, \"#46039f\"], [0.2222222222222222, \"#7201a8\"], [0.3333333333333333, \"#9c179e\"], [0.4444444444444444, \"#bd3786\"], [0.5555555555555556, \"#d8576b\"], [0.6666666666666666, \"#ed7953\"], [0.7777777777777778, \"#fb9f3a\"], [0.8888888888888888, \"#fdca26\"], [1.0, \"#f0f921\"]], \"sequentialminus\": [[0.0, \"#0d0887\"], [0.1111111111111111, \"#46039f\"], [0.2222222222222222, \"#7201a8\"], [0.3333333333333333, \"#9c179e\"], [0.4444444444444444, \"#bd3786\"], [0.5555555555555556, \"#d8576b\"], [0.6666666666666666, \"#ed7953\"], [0.7777777777777778, \"#fb9f3a\"], [0.8888888888888888, \"#fdca26\"], [1.0, \"#f0f921\"]]}, \"colorway\": [\"#636efa\", \"#EF553B\", \"#00cc96\", \"#ab63fa\", \"#FFA15A\", \"#19d3f3\", \"#FF6692\", \"#B6E880\", \"#FF97FF\", \"#FECB52\"], \"font\": {\"color\": \"#2a3f5f\"}, \"geo\": {\"bgcolor\": \"white\", \"lakecolor\": \"white\", \"landcolor\": \"#E5ECF6\", \"showlakes\": true, \"showland\": true, \"subunitcolor\": \"white\"}, \"hoverlabel\": {\"align\": \"left\"}, \"hovermode\": \"closest\", \"mapbox\": {\"style\": \"light\"}, \"paper_bgcolor\": \"white\", \"plot_bgcolor\": \"#E5ECF6\", \"polar\": {\"angularaxis\": {\"gridcolor\": \"white\", \"linecolor\": \"white\", \"ticks\": \"\"}, \"bgcolor\": \"#E5ECF6\", \"radialaxis\": {\"gridcolor\": \"white\", \"linecolor\": \"white\", \"ticks\": \"\"}}, \"scene\": {\"xaxis\": {\"backgroundcolor\": \"#E5ECF6\", \"gridcolor\": \"white\", \"gridwidth\": 2, \"linecolor\": \"white\", \"showbackground\": true, \"ticks\": \"\", \"zerolinecolor\": \"white\"}, \"yaxis\": {\"backgroundcolor\": \"#E5ECF6\", \"gridcolor\": \"white\", \"gridwidth\": 2, \"linecolor\": \"white\", \"showbackground\": true, \"ticks\": \"\", \"zerolinecolor\": \"white\"}, \"zaxis\": {\"backgroundcolor\": \"#E5ECF6\", \"gridcolor\": \"white\", \"gridwidth\": 2, \"linecolor\": \"white\", \"showbackground\": true, \"ticks\": \"\", \"zerolinecolor\": \"white\"}}, \"shapedefaults\": {\"line\": {\"color\": \"#2a3f5f\"}}, \"ternary\": {\"aaxis\": {\"gridcolor\": \"white\", \"linecolor\": \"white\", \"ticks\": \"\"}, \"baxis\": {\"gridcolor\": \"white\", \"linecolor\": \"white\", \"ticks\": \"\"}, \"bgcolor\": \"#E5ECF6\", \"caxis\": {\"gridcolor\": \"white\", \"linecolor\": \"white\", \"ticks\": \"\"}}, \"title\": {\"x\": 0.05}, \"xaxis\": {\"automargin\": true, \"gridcolor\": \"white\", \"linecolor\": \"white\", \"ticks\": \"\", \"title\": {\"standoff\": 15}, \"zerolinecolor\": \"white\", \"zerolinewidth\": 2}, \"yaxis\": {\"automargin\": true, \"gridcolor\": \"white\", \"linecolor\": \"white\", \"ticks\": \"\", \"title\": {\"standoff\": 15}, \"zerolinecolor\": \"white\", \"zerolinewidth\": 2}}}, \"title\": {\"text\": \"Correlation between Energy Production and Stock Returns by Industry\"}, \"width\": 1200},                        {\"responsive\": true}                    ).then(function(){\n",
       "                            \n",
       "var gd = document.getElementById('b7726dfa-b808-4623-b0e0-684966b871b4');\n",
       "var x = new MutationObserver(function (mutations, observer) {{\n",
       "        var display = window.getComputedStyle(gd).display;\n",
       "        if (!display || display === 'none') {{\n",
       "            console.log([gd, 'removed!']);\n",
       "            Plotly.purge(gd);\n",
       "            observer.disconnect();\n",
       "        }}\n",
       "}});\n",
       "\n",
       "// Listen for the removal of the full notebook cells\n",
       "var notebookContainer = gd.closest('#notebook-container');\n",
       "if (notebookContainer) {{\n",
       "    x.observe(notebookContainer, {childList: true});\n",
       "}}\n",
       "\n",
       "// Listen for the clearing of the current output cell\n",
       "var outputEl = gd.closest('.output');\n",
       "if (outputEl) {{\n",
       "    x.observe(outputEl, {childList: true});\n",
       "}}\n",
       "\n",
       "                        })                };                });            </script>        </div>"
      ]
     },
     "metadata": {},
     "output_type": "display_data"
    }
   ],
   "source": [
    "def prod_vs_stock():\n",
    "    # set stock returns dataframes\n",
    "    alt_returns = alt_base().pct_change()\n",
    "    oil_returns = oil_base().pct_change()\n",
    "    weights = [0.25,0.25,0.25,0.25]\n",
    "\n",
    "    alt_port_returns = pd.DataFrame(alt_returns.dot(weights)).dropna()  \n",
    "    oil_port_returns = pd.DataFrame(oil_returns.dot(weights)).dropna()\n",
    "\n",
    "    alt_port_returns.columns = ['Stock Returns (Alt)']\n",
    "    alt_port_returns.reset_index(inplace=True)\n",
    "    alt_port_returns.rename(columns={\"Date\":\"Year\"},inplace=True)\n",
    "    alt_port_returns[\"Year\"] = alt_port_returns[\"Year\"].astype(\"int\")\n",
    "    alt_port_returns.set_index(\"Year\",inplace=True)\n",
    "    \n",
    "    oil_port_returns.columns = ['Stock Returns (Oil)']\n",
    "    oil_port_returns.reset_index(inplace=True)\n",
    "    oil_port_returns.rename(columns={\"Date\":\"Year\"},inplace=True)\n",
    "    oil_port_returns[\"Year\"] = oil_port_returns[\"Year\"].astype(\"int\")\n",
    "    oil_port_returns.set_index(\"Year\",inplace=True)\n",
    "    \n",
    "    # set production dataframes\n",
    "    alt_prod = combined_production.pct_change().dropna().drop(columns=\"Production (Oil)\")\n",
    "    alt_prod.rename(columns={\"Production (Alternative)\":\"Production (Alt)\"},inplace=True)\n",
    "    \n",
    "    oil_prod = combined_production.pct_change().dropna().drop(columns=\"Production (Alternative)\")\n",
    "    \n",
    "    # combined dataframe with all data\n",
    "    combined_df = pd.concat([alt_prod,alt_port_returns,oil_prod,oil_port_returns],axis=\"columns\",join=\"inner\")\n",
    "    combined_df.reset_index(inplace=True)\n",
    "    \n",
    "    # plot with parallel coordinates\n",
    "    plot = px.parallel_coordinates(combined_df,color=\"Year\",title=\"Correlation between Energy Production and Stock Returns by Industry\",width=1200)\n",
    "    \n",
    "    return plot\n",
    "prod_vs_stock()"
   ]
  },
  {
   "cell_type": "code",
   "execution_count": 138,
   "metadata": {},
   "outputs": [
    {
     "name": "stdout",
     "output_type": "stream",
     "text": [
      "[*********************100%***********************]  4 of 4 completed\n",
      "[*********************100%***********************]  4 of 4 completed\n",
      "[*********************100%***********************]  4 of 4 completed\n",
      "[*********************100%***********************]  4 of 4 completed\n",
      "[*********************100%***********************]  4 of 4 completed\n",
      "[*********************100%***********************]  4 of 4 completed\n",
      "[*********************100%***********************]  4 of 4 completed\n",
      "[*********************100%***********************]  4 of 4 completed\n",
      "[*********************100%***********************]  4 of 4 completed\n",
      "[*********************100%***********************]  4 of 4 completed\n",
      "[*********************100%***********************]  4 of 4 completed\n",
      "[*********************100%***********************]  4 of 4 completed\n"
     ]
    }
   ],
   "source": [
    "industry_stock_returns_row = pn.Column(\n",
    "                                    '## Stock Returns by Industry',\n",
    "                                        combined_base(),\n",
    "                                            cumulative_returns()\n",
    ")\n",
    "\n",
    "industry_stock_risk_row = pn.Column(\n",
    "                                '## Stock Risk by Industry',\n",
    "                                    five_y_rolling_std,\n",
    "                                        oil_and_alt_std\n",
    ")\n",
    "\n",
    "correlation_row = pn.Column(\n",
    "                        '## Correlations',\n",
    "                            production_corr(),\n",
    "                            oil_and_alt_correlation,\n",
    "                            prod_vs_stock()\n",
    ")\n",
    "production_row = pn.Column(\n",
    "    '## Annual Energy Production (qBTU) by Industry',\n",
    "    alt_production(),\n",
    "    oil_production(),\n",
    "    comb_production(),\n",
    "\n",
    ")"
   ]
  },
  {
   "cell_type": "code",
   "execution_count": 139,
   "metadata": {},
   "outputs": [],
   "source": [
    "dashboard = pn.Tabs(\n",
    "                ('Annual Production', production_row),\n",
    "                ('Stock Returns', industry_stock_returns_row),\n",
    "                    ('Stock Risks', industry_stock_risk_row),\n",
    "                        ('Correlations', correlation_row)\n",
    ")"
   ]
  },
  {
   "cell_type": "code",
   "execution_count": 140,
   "metadata": {},
   "outputs": [
    {
     "data": {},
     "metadata": {},
     "output_type": "display_data"
    },
    {
     "data": {},
     "metadata": {},
     "output_type": "display_data"
    },
    {
     "data": {
      "application/vnd.holoviews_exec.v0+json": "",
      "text/html": [
       "<div id='22766'>\n",
       "\n",
       "\n",
       "\n",
       "\n",
       "\n",
       "  <div class=\"bk-root\" id=\"586cc930-b4c8-456b-bc5e-33bc7b1e874b\" data-root-id=\"22766\"></div>\n",
       "</div>\n",
       "<script type=\"application/javascript\">(function(root) {\n",
       "  function embed_document(root) {\n",
       "  var docs_json = {\"31b8ca46-12e9-4475-b34b-da9f5519c99c\":{\"roots\":{\"references\":[{\"attributes\":{},\"id\":\"23455\",\"type\":\"WheelZoomTool\"},{\"attributes\":{},\"id\":\"23454\",\"type\":\"PanTool\"},{\"attributes\":{},\"id\":\"23754\",\"type\":\"CategoricalScale\"},{\"attributes\":{},\"id\":\"22890\",\"type\":\"LinearScale\"},{\"attributes\":{},\"id\":\"23453\",\"type\":\"SaveTool\"},{\"attributes\":{},\"id\":\"22920\",\"type\":\"Selection\"},{\"attributes\":{},\"id\":\"22803\",\"type\":\"Selection\"},{\"attributes\":{\"factors\":[\"Oil & Gas\",\"Alternative Energy\"],\"tags\":[[[\"index\",\"index\",null]]]},\"id\":\"23746\",\"type\":\"FactorRange\"},{\"attributes\":{\"overlay\":{\"id\":\"23458\"}},\"id\":\"23456\",\"type\":\"BoxZoomTool\"},{\"attributes\":{},\"id\":\"23759\",\"type\":\"CategoricalTicker\"},{\"attributes\":{\"data_source\":{\"id\":\"22919\"},\"glyph\":{\"id\":\"22922\"},\"hover_glyph\":null,\"muted_glyph\":{\"id\":\"22924\"},\"nonselection_glyph\":{\"id\":\"22923\"},\"selection_glyph\":null,\"view\":{\"id\":\"22926\"}},\"id\":\"22925\",\"type\":\"GlyphRenderer\"},{\"attributes\":{\"css_classes\":[\"markdown\"],\"margin\":[5,5,5,5],\"name\":\"Markdown46998\",\"text\":\"&lt;h2&gt;Annual Energy Production (qBTU) by Industry&lt;/h2&gt;\"},\"id\":\"22768\",\"type\":\"panel.models.markup.HTML\"},{\"attributes\":{},\"id\":\"22893\",\"type\":\"BasicTicker\"},{\"attributes\":{},\"id\":\"23457\",\"type\":\"ResetTool\"},{\"attributes\":{\"below\":[{\"id\":\"23758\"}],\"center\":[{\"id\":\"23760\"},{\"id\":\"23764\"}],\"left\":[{\"id\":\"23761\"}],\"margin\":null,\"min_border_bottom\":10,\"min_border_left\":10,\"min_border_right\":10,\"min_border_top\":10,\"plot_height\":400,\"plot_width\":1200,\"renderers\":[{\"id\":\"23784\"}],\"sizing_mode\":\"fixed\",\"title\":{\"id\":\"23750\"},\"toolbar\":{\"id\":\"23771\"},\"x_range\":{\"id\":\"23746\"},\"x_scale\":{\"id\":\"23754\"},\"y_range\":{\"id\":\"23747\"},\"y_scale\":{\"id\":\"23756\"}},\"id\":\"23749\",\"subtype\":\"Figure\",\"type\":\"Plot\"},{\"attributes\":{\"text\":\"Standard Deviation of Returns of Both the Oil and Alternative Portfolios\",\"text_color\":{\"value\":\"black\"},\"text_font_size\":{\"value\":\"20pt\"}},\"id\":\"23750\",\"type\":\"Title\"},{\"attributes\":{\"end\":102.71020974334375,\"reset_end\":102.71020974334375,\"reset_start\":-3.6985027084562665,\"start\":-3.6985027084562665,\"tags\":[[[\"value\",\"value\",null]]]},\"id\":\"23592\",\"type\":\"Range1d\"},{\"attributes\":{\"bottom_units\":\"screen\",\"fill_alpha\":0.5,\"fill_color\":\"lightgrey\",\"left_units\":\"screen\",\"level\":\"overlay\",\"line_alpha\":1.0,\"line_color\":\"black\",\"line_dash\":[4,4],\"line_width\":2,\"render_mode\":\"css\",\"right_units\":\"screen\",\"top_units\":\"screen\"},\"id\":\"22794\",\"type\":\"BoxAnnotation\"},{\"attributes\":{},\"id\":\"23762\",\"type\":\"BasicTicker\"},{\"attributes\":{\"source\":{\"id\":\"22802\"}},\"id\":\"22809\",\"type\":\"CDSView\"},{\"attributes\":{\"axis\":{\"id\":\"22896\"},\"dimension\":1,\"ticker\":{\"id\":\"22897\"}},\"id\":\"22899\",\"type\":\"Grid\"},{\"attributes\":{\"line_color\":\"#1f77b3\",\"line_width\":2,\"x\":{\"field\":\"Year\"},\"y\":{\"field\":\"value\"}},\"id\":\"22922\",\"type\":\"Line\"},{\"attributes\":{\"line_alpha\":0.2,\"line_color\":\"#1f77b3\",\"line_width\":2,\"x\":{\"field\":\"Year\"},\"y\":{\"field\":\"value\"}},\"id\":\"22924\",\"type\":\"Line\"},{\"attributes\":{},\"id\":\"22916\",\"type\":\"BasicTickFormatter\"},{\"attributes\":{\"end\":0.7020315350393874,\"reset_end\":0.7020315350393874,\"reset_start\":0.0,\"tags\":[[[\"Standard Deviation\",\"Standard Deviation\",null]]]},\"id\":\"23747\",\"type\":\"Range1d\"},{\"attributes\":{\"axis\":{\"id\":\"22892\"},\"ticker\":{\"id\":\"22893\"}},\"id\":\"22895\",\"type\":\"Grid\"},{\"attributes\":{\"axis\":{\"id\":\"22781\"},\"ticker\":{\"id\":\"22782\"}},\"id\":\"22784\",\"type\":\"Grid\"},{\"attributes\":{},\"id\":\"22811\",\"type\":\"BasicTickFormatter\"},{\"attributes\":{\"callback\":null,\"renderers\":[{\"id\":\"23784\"}],\"tags\":[\"hv_created\"],\"tooltips\":[[\"index\",\"@{index}\"],[\"Standard Deviation\",\"@{Standard_Deviation}\"]]},\"id\":\"23748\",\"type\":\"HoverTool\"},{\"attributes\":{\"data_source\":{\"id\":\"23472\"},\"glyph\":{\"id\":\"23475\"},\"hover_glyph\":null,\"muted_glyph\":{\"id\":\"23477\"},\"nonselection_glyph\":{\"id\":\"23476\"},\"selection_glyph\":null,\"view\":{\"id\":\"23479\"}},\"id\":\"23478\",\"type\":\"GlyphRenderer\"},{\"attributes\":{\"line_alpha\":0.1,\"line_color\":\"#1f77b3\",\"line_width\":2,\"x\":{\"field\":\"Year\"},\"y\":{\"field\":\"Production (Alternative)\"}},\"id\":\"22806\",\"type\":\"Line\"},{\"attributes\":{\"axis_label\":\"Standard Deviation\",\"axis_label_text_font_size\":\"20pt\",\"bounds\":\"auto\",\"formatter\":{\"id\":\"23789\"},\"major_label_orientation\":\"horizontal\",\"major_label_text_font_size\":\"15pt\",\"ticker\":{\"id\":\"23762\"}},\"id\":\"23761\",\"type\":\"LinearAxis\"},{\"attributes\":{\"bottom_units\":\"screen\",\"fill_alpha\":0.5,\"fill_color\":\"lightgrey\",\"left_units\":\"screen\",\"level\":\"overlay\",\"line_alpha\":1.0,\"line_color\":\"black\",\"line_dash\":[4,4],\"line_width\":2,\"render_mode\":\"css\",\"right_units\":\"screen\",\"top_units\":\"screen\"},\"id\":\"22905\",\"type\":\"BoxAnnotation\"},{\"attributes\":{\"axis_label\":\"\",\"axis_label_text_font_size\":\"20pt\",\"bounds\":\"auto\",\"formatter\":{\"id\":\"23787\"},\"group_text_font_size\":\"20pt\",\"major_label_orientation\":\"horizontal\",\"major_label_text_font_size\":\"20pt\",\"ticker\":{\"id\":\"23759\"}},\"id\":\"23758\",\"type\":\"CategoricalAxis\"},{\"attributes\":{\"axis\":{\"id\":\"23758\"},\"ticker\":{\"id\":\"23759\"}},\"id\":\"23760\",\"type\":\"Grid\"},{\"attributes\":{},\"id\":\"22813\",\"type\":\"BasicTickFormatter\"},{\"attributes\":{\"axis\":{\"id\":\"23761\"},\"dimension\":1,\"ticker\":{\"id\":\"23762\"}},\"id\":\"23764\",\"type\":\"Grid\"},{\"attributes\":{},\"id\":\"23756\",\"type\":\"LinearScale\"},{\"attributes\":{\"bottom_units\":\"screen\",\"fill_alpha\":0.5,\"fill_color\":\"lightgrey\",\"left_units\":\"screen\",\"level\":\"overlay\",\"line_alpha\":1.0,\"line_color\":\"black\",\"line_dash\":[4,4],\"line_width\":2,\"render_mode\":\"css\",\"right_units\":\"screen\",\"top_units\":\"screen\"},\"id\":\"23458\",\"type\":\"BoxAnnotation\"},{\"attributes\":{},\"id\":\"23765\",\"type\":\"SaveTool\"},{\"attributes\":{\"callback\":null,\"renderers\":[{\"id\":\"22808\"}],\"tags\":[\"hv_created\"],\"tooltips\":[[\"Year\",\"@{Year}\"],[\"Production (Alternative)\",\"@{Production_left_parenthesis_Alternative_right_parenthesis}\"]]},\"id\":\"22771\",\"type\":\"HoverTool\"},{\"attributes\":{\"axis\":{\"id\":\"23446\"},\"grid_line_color\":\"lightgray\",\"grid_line_width\":1.5,\"minor_grid_line_color\":\"lightgray\",\"ticker\":{\"id\":\"23447\"}},\"id\":\"23448\",\"type\":\"Grid\"},{\"attributes\":{},\"id\":\"23766\",\"type\":\"PanTool\"},{\"attributes\":{\"fill_color\":{\"value\":\"#1f77b3\"},\"top\":{\"field\":\"Standard_Deviation\"},\"width\":{\"value\":0.8},\"x\":{\"field\":\"index\"}},\"id\":\"23781\",\"type\":\"VBar\"},{\"attributes\":{\"axis\":{\"id\":\"22840\"},\"dimension\":1,\"ticker\":{\"id\":\"22841\"}},\"id\":\"22843\",\"type\":\"Grid\"},{\"attributes\":{},\"id\":\"23767\",\"type\":\"WheelZoomTool\"},{\"attributes\":{},\"id\":\"22841\",\"type\":\"BasicTicker\"},{\"attributes\":{\"overlay\":{\"id\":\"23770\"}},\"id\":\"23768\",\"type\":\"BoxZoomTool\"},{\"attributes\":{},\"id\":\"23769\",\"type\":\"ResetTool\"},{\"attributes\":{\"source\":{\"id\":\"22919\"}},\"id\":\"22926\",\"type\":\"CDSView\"},{\"attributes\":{\"end\":2018.0,\"reset_end\":2018.0,\"reset_start\":1980.0,\"start\":1980.0,\"tags\":[[[\"Year\",\"Year\",null]]]},\"id\":\"22769\",\"type\":\"Range1d\"},{\"attributes\":{\"axis_label\":\"\",\"axis_label_text_font_size\":\"20pt\",\"bounds\":\"auto\",\"formatter\":{\"id\":\"22868\"},\"major_label_orientation\":\"horizontal\",\"major_label_text_font_size\":\"15pt\",\"ticker\":{\"id\":\"22841\"}},\"id\":\"22840\",\"type\":\"LinearAxis\"},{\"attributes\":{\"active_drag\":\"auto\",\"active_inspect\":\"auto\",\"active_multi\":null,\"active_scroll\":\"auto\",\"active_tap\":\"auto\",\"tools\":[{\"id\":\"22881\"},{\"id\":\"22900\"},{\"id\":\"22901\"},{\"id\":\"22902\"},{\"id\":\"22903\"},{\"id\":\"22904\"}]},\"id\":\"22906\",\"type\":\"Toolbar\"},{\"attributes\":{},\"id\":\"22777\",\"type\":\"LinearScale\"},{\"attributes\":{},\"id\":\"22845\",\"type\":\"PanTool\"},{\"attributes\":{\"text\":\"Annual Energy Production from Alternative Energy\",\"text_color\":{\"value\":\"black\"},\"text_font_size\":{\"value\":\"20pt\"}},\"id\":\"22773\",\"type\":\"Title\"},{\"attributes\":{\"active_drag\":\"auto\",\"active_inspect\":\"auto\",\"active_multi\":null,\"active_scroll\":\"auto\",\"active_tap\":\"auto\",\"tools\":[{\"id\":\"23435\"},{\"id\":\"23453\"},{\"id\":\"23454\"},{\"id\":\"23455\"},{\"id\":\"23456\"},{\"id\":\"23457\"}]},\"id\":\"23459\",\"type\":\"Toolbar\"},{\"attributes\":{},\"id\":\"22914\",\"type\":\"BasicTickFormatter\"},{\"attributes\":{\"below\":[{\"id\":\"22781\"}],\"center\":[{\"id\":\"22784\"},{\"id\":\"22788\"}],\"left\":[{\"id\":\"22785\"}],\"margin\":null,\"min_border_bottom\":10,\"min_border_left\":10,\"min_border_right\":10,\"min_border_top\":10,\"plot_height\":400,\"plot_width\":1200,\"renderers\":[{\"id\":\"22808\"}],\"sizing_mode\":\"fixed\",\"title\":{\"id\":\"22773\"},\"toolbar\":{\"id\":\"22795\"},\"x_range\":{\"id\":\"22769\"},\"x_scale\":{\"id\":\"22777\"},\"y_range\":{\"id\":\"22770\"},\"y_scale\":{\"id\":\"22779\"}},\"id\":\"22772\",\"subtype\":\"Figure\",\"type\":\"Plot\"},{\"attributes\":{\"end\":21.1238,\"reset_end\":21.1238,\"reset_start\":6.9902,\"start\":6.9902,\"tags\":[[[\"Production (Alternative)\",\"Production (Alternative)\",null]]]},\"id\":\"22770\",\"type\":\"Range1d\"},{\"attributes\":{},\"id\":\"22782\",\"type\":\"BasicTicker\"},{\"attributes\":{\"data\":{\"Variable\":[\"Production (Alternative)\",\"Production (Alternative)\",\"Production (Alternative)\",\"Production (Alternative)\",\"Production (Alternative)\",\"Production (Alternative)\",\"Production (Alternative)\",\"Production (Alternative)\",\"Production (Alternative)\",\"Production (Alternative)\",\"Production (Alternative)\",\"Production (Alternative)\",\"Production (Alternative)\",\"Production (Alternative)\",\"Production (Alternative)\",\"Production (Alternative)\",\"Production (Alternative)\",\"Production (Alternative)\",\"Production (Alternative)\",\"Production (Alternative)\",\"Production (Alternative)\",\"Production (Alternative)\",\"Production (Alternative)\",\"Production (Alternative)\",\"Production (Alternative)\",\"Production (Alternative)\",\"Production (Alternative)\",\"Production (Alternative)\",\"Production (Alternative)\",\"Production (Alternative)\",\"Production (Alternative)\",\"Production (Alternative)\",\"Production (Alternative)\",\"Production (Alternative)\",\"Production (Alternative)\",\"Production (Alternative)\",\"Production (Alternative)\",\"Production (Alternative)\",\"Production (Alternative)\"],\"Year\":[1980,1981,1982,1983,1984,1985,1986,1987,1988,1989,1990,1991,1992,1993,1994,1995,1996,1997,1998,1999,2000,2001,2002,2003,2004,2005,2006,2007,2008,2009,2010,2011,2012,2013,2014,2015,2016,2017,2018],\"value\":{\"__ndarray__\":\"vHSTGARWIEBkO99PjdcgQEa28/3UOCJATDeJQWBlI0B7FK5H4fojQFK4HoXrUSRACKwcWmT7JECNl24Sg8AkQEoMAiuHFiZABoGVQ4usJ0B9PzVeukkoQHsUrkfh+ihAmpmZmZmZKECWQ4ts5/soQOkmMQisXClAarx0kxhEK0AYBFYOLTIsQO58PzVeOitArBxaZDsfK0CNl24Sg0AsQCGwcmiR7StAbhKDwMphKkCNl24Sg8ArQOj7qfHSzStAUrgeheuRLEDdJAaBlcMsQCYxCKwcmi1A5KWbxCDwLUAj2/l+ajwvQPYoXI/C9S9Ac2iR7Xy/MEDEILByaJExQKabxCCw8jBAtvP91HipMUC0yHa+nxoyQDeJQWDlEDJAmpmZmZnZMkA9CtejcJ0zQBgEVg4t8jNA\",\"dtype\":\"float64\",\"shape\":[39]}},\"selected\":{\"id\":\"22936\"},\"selection_policy\":{\"id\":\"22959\"}},\"id\":\"22935\",\"type\":\"ColumnDataSource\"},{\"attributes\":{\"line_alpha\":0.1,\"line_color\":\"#1f77b3\",\"line_width\":2,\"x\":{\"field\":\"Year\"},\"y\":{\"field\":\"value\"}},\"id\":\"22923\",\"type\":\"Line\"},{\"attributes\":{\"factors\":[\"2004\",\"2005\",\"2006\",\"2007\",\"2008\",\"2009\",\"2010\",\"2011\",\"2012\",\"2013\",\"2014\",\"2015\",\"2016\",\"2017\",\"2018\",\"2019\",\"2020\"],\"tags\":[[[\"Date\",\"Date\",null]]]},\"id\":\"23591\",\"type\":\"FactorRange\"},{\"attributes\":{},\"id\":\"23467\",\"type\":\"CategoricalTickFormatter\"},{\"attributes\":{\"callback\":null,\"renderers\":[{\"id\":\"23636\"},{\"id\":\"23652\"}],\"tags\":[\"hv_created\"],\"tooltips\":[[\"Variable\",\"@{Variable}\"],[\"Date\",\"@{Date}\"],[\"value\",\"@{value}\"]]},\"id\":\"23593\",\"type\":\"HoverTool\"},{\"attributes\":{\"bottom_units\":\"screen\",\"fill_alpha\":0.5,\"fill_color\":\"lightgrey\",\"left_units\":\"screen\",\"level\":\"overlay\",\"line_alpha\":1.0,\"line_color\":\"black\",\"line_dash\":[4,4],\"line_width\":2,\"render_mode\":\"css\",\"right_units\":\"screen\",\"top_units\":\"screen\"},\"id\":\"23770\",\"type\":\"BoxAnnotation\"},{\"attributes\":{},\"id\":\"22779\",\"type\":\"LinearScale\"},{\"attributes\":{\"label\":{\"value\":\"Production (Oil)\"},\"renderers\":[{\"id\":\"22925\"}]},\"id\":\"22934\",\"type\":\"LegendItem\"},{\"attributes\":{},\"id\":\"23602\",\"type\":\"LinearScale\"},{\"attributes\":{\"axis_label\":\"Year\",\"axis_label_text_font_size\":\"20pt\",\"bounds\":\"auto\",\"formatter\":{\"id\":\"22811\"},\"major_label_orientation\":\"horizontal\",\"major_label_text_font_size\":\"20pt\",\"ticker\":{\"id\":\"22782\"}},\"id\":\"22781\",\"type\":\"LinearAxis\"},{\"attributes\":{\"text\":\"5 Year Rolling Standard Deviation 2004-2020\",\"text_color\":{\"value\":\"black\"},\"text_font_size\":{\"value\":\"20pt\"}},\"id\":\"23596\",\"type\":\"Title\"},{\"attributes\":{\"line_color\":\"#1f77b3\",\"line_width\":2,\"x\":{\"field\":\"Year\"},\"y\":{\"field\":\"Production (Alternative)\"}},\"id\":\"22805\",\"type\":\"Line\"},{\"attributes\":{},\"id\":\"23469\",\"type\":\"BasicTickFormatter\"},{\"attributes\":{},\"id\":\"22846\",\"type\":\"WheelZoomTool\"},{\"attributes\":{\"axis_label\":\"Year\",\"axis_label_text_font_size\":\"20pt\",\"bounds\":\"auto\",\"formatter\":{\"id\":\"22914\"},\"major_label_orientation\":\"horizontal\",\"major_label_text_font_size\":\"20pt\",\"ticker\":{\"id\":\"22893\"}},\"id\":\"22892\",\"type\":\"LinearAxis\"},{\"attributes\":{\"click_policy\":\"mute\",\"items\":[{\"id\":\"22934\"},{\"id\":\"22951\"}],\"location\":[0,0],\"title\":\"Variable\"},\"id\":\"22933\",\"type\":\"Legend\"},{\"attributes\":{\"text\":\"Annual Energy Production 1980 to 2018\",\"text_color\":{\"value\":\"black\"},\"text_font_size\":{\"value\":\"20pt\"}},\"id\":\"22884\",\"type\":\"Title\"},{\"attributes\":{\"above\":[{\"id\":\"23644\"}],\"below\":[{\"id\":\"23604\"}],\"center\":[{\"id\":\"23606\"},{\"id\":\"23610\"}],\"left\":[{\"id\":\"23607\"}],\"margin\":null,\"min_border_bottom\":10,\"min_border_left\":10,\"min_border_right\":10,\"min_border_top\":10,\"plot_height\":400,\"plot_width\":1200,\"renderers\":[{\"id\":\"23636\"},{\"id\":\"23652\"}],\"sizing_mode\":\"fixed\",\"title\":{\"id\":\"23596\"},\"toolbar\":{\"id\":\"23617\"},\"x_range\":{\"id\":\"23591\"},\"x_scale\":{\"id\":\"23600\"},\"y_range\":{\"id\":\"23592\"},\"y_scale\":{\"id\":\"23602\"}},\"id\":\"23595\",\"subtype\":\"Figure\",\"type\":\"Plot\"},{\"attributes\":{},\"id\":\"23473\",\"type\":\"Selection\"},{\"attributes\":{\"overlay\":{\"id\":\"22849\"}},\"id\":\"22847\",\"type\":\"BoxZoomTool\"},{\"attributes\":{},\"id\":\"22844\",\"type\":\"SaveTool\"},{\"attributes\":{\"line_color\":\"#1f77b3\",\"line_width\":2,\"x\":{\"field\":\"Date\"},\"y\":{\"field\":\"value\"}},\"id\":\"23475\",\"type\":\"Line\"},{\"attributes\":{},\"id\":\"23605\",\"type\":\"CategoricalTicker\"},{\"attributes\":{},\"id\":\"23608\",\"type\":\"BasicTicker\"},{\"attributes\":{},\"id\":\"22848\",\"type\":\"ResetTool\"},{\"attributes\":{},\"id\":\"22821\",\"type\":\"UnionRenderers\"},{\"attributes\":{\"active_drag\":\"auto\",\"active_inspect\":\"auto\",\"active_multi\":null,\"active_scroll\":\"auto\",\"active_tap\":\"auto\",\"tools\":[{\"id\":\"22826\"},{\"id\":\"22844\"},{\"id\":\"22845\"},{\"id\":\"22846\"},{\"id\":\"22847\"},{\"id\":\"22848\"}]},\"id\":\"22850\",\"type\":\"Toolbar\"},{\"attributes\":{\"click_policy\":\"mute\",\"items\":[{\"id\":\"23487\"},{\"id\":\"23504\"}],\"label_text_font_size\":\"20pt\",\"location\":\"top_left\",\"title\":\"Variable\"},\"id\":\"23486\",\"type\":\"Legend\"},{\"attributes\":{\"axis_label\":\"Standard Deviation in %\",\"axis_label_text_font_size\":\"20pt\",\"bounds\":\"auto\",\"formatter\":{\"id\":\"23627\"},\"major_label_orientation\":\"horizontal\",\"major_label_text_font_size\":\"15pt\",\"ticker\":{\"id\":\"23608\"}},\"id\":\"23607\",\"type\":\"LinearAxis\"},{\"attributes\":{\"callback\":null,\"renderers\":[{\"id\":\"22925\"},{\"id\":\"22941\"}],\"tags\":[\"hv_created\"],\"tooltips\":[[\"Variable\",\"@{Variable}\"],[\"Year\",\"@{Year}\"],[\"value\",\"@{value}\"]]},\"id\":\"22881\",\"type\":\"HoverTool\"},{\"attributes\":{},\"id\":\"23613\",\"type\":\"WheelZoomTool\"},{\"attributes\":{\"source\":{\"id\":\"23472\"}},\"id\":\"23479\",\"type\":\"CDSView\"},{\"attributes\":{},\"id\":\"23600\",\"type\":\"CategoricalScale\"},{\"attributes\":{\"source\":{\"id\":\"23778\"}},\"id\":\"23785\",\"type\":\"CDSView\"},{\"attributes\":{},\"id\":\"23612\",\"type\":\"PanTool\"},{\"attributes\":{\"end\":30.1209,\"reset_end\":30.1209,\"reset_start\":11.4141,\"start\":11.4141,\"tags\":[[[\"Production (Oil)\",\"Production (Oil)\",null]]]},\"id\":\"22825\",\"type\":\"Range1d\"},{\"attributes\":{\"data\":{\"Date\":[\"2000\",\"2001\",\"2002\",\"2003\",\"2004\",\"2005\",\"2006\",\"2007\",\"2008\",\"2009\",\"2010\",\"2011\",\"2012\",\"2013\",\"2014\",\"2015\",\"2016\",\"2017\",\"2018\",\"2019\",\"2020\"],\"Variable\":[\"Oil & Gas\",\"Oil & Gas\",\"Oil & Gas\",\"Oil & Gas\",\"Oil & Gas\",\"Oil & Gas\",\"Oil & Gas\",\"Oil & Gas\",\"Oil & Gas\",\"Oil & Gas\",\"Oil & Gas\",\"Oil & Gas\",\"Oil & Gas\",\"Oil & Gas\",\"Oil & Gas\",\"Oil & Gas\",\"Oil & Gas\",\"Oil & Gas\",\"Oil & Gas\",\"Oil & Gas\",\"Oil & Gas\"],\"value\":{\"__ndarray__\":\"h4Tjos7N7z+kbxdIUdruPwgHR2zIb+s/agMYFcVA8T9TGN9jqlf1P5ctB22XCvg/79IQblW+/T97RXY7fS4CQIuhzOJ4XPs//h7MXraz/j+mG9FfJZQAQOX1W9mrBQNA9CPHbvV6A0Aef7+bABIHQDJoLGKMIgVATH1ASRReAUAQJkrUHaEGQEjSd+9flwlAfdZipUU/B0ArGEn8ahEJQL9fjv5IqP8/\",\"dtype\":\"float64\",\"shape\":[21]}},\"selected\":{\"id\":\"23489\"},\"selection_policy\":{\"id\":\"23512\"}},\"id\":\"23488\",\"type\":\"ColumnDataSource\"},{\"attributes\":{},\"id\":\"22900\",\"type\":\"SaveTool\"},{\"attributes\":{\"axis\":{\"id\":\"23604\"},\"grid_line_color\":\"lightgray\",\"grid_line_width\":1.5,\"minor_grid_line_color\":\"lightgray\",\"ticker\":{\"id\":\"23605\"}},\"id\":\"23606\",\"type\":\"Grid\"},{\"attributes\":{},\"id\":\"22904\",\"type\":\"ResetTool\"},{\"attributes\":{\"axis\":{\"id\":\"23607\"},\"dimension\":1,\"grid_line_color\":\"lightgray\",\"grid_line_width\":1.5,\"ticker\":{\"id\":\"23608\"}},\"id\":\"23610\",\"type\":\"Grid\"},{\"attributes\":{\"line_alpha\":0.2,\"line_color\":\"#1f77b3\",\"line_width\":2,\"x\":{\"field\":\"Date\"},\"y\":{\"field\":\"value\"}},\"id\":\"23477\",\"type\":\"Line\"},{\"attributes\":{\"active_drag\":\"auto\",\"active_inspect\":\"auto\",\"active_multi\":null,\"active_scroll\":\"auto\",\"active_tap\":\"auto\",\"tools\":[{\"id\":\"23748\"},{\"id\":\"23765\"},{\"id\":\"23766\"},{\"id\":\"23767\"},{\"id\":\"23768\"},{\"id\":\"23769\"}]},\"id\":\"23771\",\"type\":\"Toolbar\"},{\"attributes\":{},\"id\":\"22901\",\"type\":\"PanTool\"},{\"attributes\":{},\"id\":\"23611\",\"type\":\"SaveTool\"},{\"attributes\":{\"end\":30.601399999999998,\"reset_end\":30.601399999999998,\"reset_start\":6.128599999999999,\"start\":6.128599999999999,\"tags\":[[[\"value\",\"value\",null]]]},\"id\":\"22880\",\"type\":\"Range1d\"},{\"attributes\":{\"axis_label\":\"Date\",\"axis_label_text_font_size\":\"20pt\",\"bounds\":\"auto\",\"formatter\":{\"id\":\"23625\"},\"group_text_font_size\":\"15pt\",\"major_label_orientation\":1.5707963267948966,\"major_label_text_font_size\":\"15pt\",\"ticker\":{\"id\":\"23605\"}},\"id\":\"23604\",\"type\":\"CategoricalAxis\"},{\"attributes\":{\"data\":{\"Date\":[\"2004\",\"2005\",\"2006\",\"2007\",\"2008\",\"2009\",\"2010\",\"2011\",\"2012\",\"2013\",\"2014\",\"2015\",\"2016\",\"2017\",\"2018\",\"2019\",\"2020\"],\"Variable\":[\"Alternative Energy\",\"Alternative Energy\",\"Alternative Energy\",\"Alternative Energy\",\"Alternative Energy\",\"Alternative Energy\",\"Alternative Energy\",\"Alternative Energy\",\"Alternative Energy\",\"Alternative Energy\",\"Alternative Energy\",\"Alternative Energy\",\"Alternative Energy\",\"Alternative Energy\",\"Alternative Energy\",\"Alternative Energy\",\"Alternative Energy\"],\"value\":{\"__ndarray__\":\"Lvrn1is4VEAzHRiv8vJTQIiySyviVFNAWNL1ktZkTkAB1uKpBIk3QAaWDLEDoTtAgV/OcyCAOkCYz8uYa5U7QAYeHAF3WDtA0yRlSSVFQECLbiIIJcI+QEJFSmibjENAwENo88BzQ0DtQH3uY+5BQORdehevrzxAvrHRurpoRUCByOC28HVXQA==\",\"dtype\":\"float64\",\"shape\":[17]}},\"selected\":{\"id\":\"23631\"},\"selection_policy\":{\"id\":\"23659\"}},\"id\":\"23630\",\"type\":\"ColumnDataSource\"},{\"attributes\":{\"line_alpha\":0.2,\"line_color\":\"#1f77b3\",\"line_width\":2,\"x\":{\"field\":\"Year\"},\"y\":{\"field\":\"Production (Alternative)\"}},\"id\":\"22807\",\"type\":\"Line\"},{\"attributes\":{\"line_alpha\":0.1,\"line_color\":\"#1f77b3\",\"line_width\":2,\"x\":{\"field\":\"Date\"},\"y\":{\"field\":\"value\"}},\"id\":\"23476\",\"type\":\"Line\"},{\"attributes\":{\"label\":{\"value\":\"Alternative Energy\"},\"renderers\":[{\"id\":\"23478\"}]},\"id\":\"23487\",\"type\":\"LegendItem\"},{\"attributes\":{},\"id\":\"22897\",\"type\":\"BasicTicker\"},{\"attributes\":{\"fill_alpha\":{\"value\":0.1},\"fill_color\":{\"value\":\"#1f77b3\"},\"line_alpha\":{\"value\":0.1},\"top\":{\"field\":\"Standard_Deviation\"},\"width\":{\"value\":0.8},\"x\":{\"field\":\"index\"}},\"id\":\"23782\",\"type\":\"VBar\"},{\"attributes\":{\"below\":[{\"id\":\"22892\"}],\"center\":[{\"id\":\"22895\"},{\"id\":\"22899\"}],\"left\":[{\"id\":\"22896\"}],\"margin\":null,\"min_border_bottom\":10,\"min_border_left\":10,\"min_border_right\":10,\"min_border_top\":10,\"plot_height\":400,\"plot_width\":1200,\"renderers\":[{\"id\":\"22925\"},{\"id\":\"22941\"}],\"right\":[{\"id\":\"22933\"}],\"sizing_mode\":\"fixed\",\"title\":{\"id\":\"22884\"},\"toolbar\":{\"id\":\"22906\"},\"x_range\":{\"id\":\"22769\"},\"x_scale\":{\"id\":\"22888\"},\"y_range\":{\"id\":\"22880\"},\"y_scale\":{\"id\":\"22890\"}},\"id\":\"22883\",\"subtype\":\"Figure\",\"type\":\"Plot\"},{\"attributes\":{\"overlay\":{\"id\":\"23616\"}},\"id\":\"23614\",\"type\":\"BoxZoomTool\"},{\"attributes\":{},\"id\":\"23779\",\"type\":\"Selection\"},{\"attributes\":{\"data\":{\"Variable\":[\"Production (Oil)\",\"Production (Oil)\",\"Production (Oil)\",\"Production (Oil)\",\"Production (Oil)\",\"Production (Oil)\",\"Production (Oil)\",\"Production (Oil)\",\"Production (Oil)\",\"Production (Oil)\",\"Production (Oil)\",\"Production (Oil)\",\"Production (Oil)\",\"Production (Oil)\",\"Production (Oil)\",\"Production (Oil)\",\"Production (Oil)\",\"Production (Oil)\",\"Production (Oil)\",\"Production (Oil)\",\"Production (Oil)\",\"Production (Oil)\",\"Production (Oil)\",\"Production (Oil)\",\"Production (Oil)\",\"Production (Oil)\",\"Production (Oil)\",\"Production (Oil)\",\"Production (Oil)\",\"Production (Oil)\",\"Production (Oil)\",\"Production (Oil)\",\"Production (Oil)\",\"Production (Oil)\",\"Production (Oil)\",\"Production (Oil)\",\"Production (Oil)\",\"Production (Oil)\",\"Production (Oil)\"],\"Year\":[1980,1981,1982,1983,1984,1985,1986,1987,1988,1989,1990,1991,1992,1993,1994,1995,1996,1997,1998,1999,2000,2001,2002,2003,2004,2005,2006,2007,2008,2009,2010,2011,2012,2013,2014,2015,2016,2017,2018],\"value\":{\"__ndarray__\":\"001iEFh5NEC28/3UeGk0QGiR7Xw/dTRAu0kMAiuHNEChRbbz/RQ1QBgEVg4tMjVAd76fGi99NEC0yHa+n9ozQMP1KFyPgjNAPQrXo3A9MkAv3SQGgbUxQJ3vp8ZL9zFA7FG4HoWLMUAj2/l+atwwQMHKoUW2czBAKVyPwvVIMECHFtnO9zMwQO18PzVeGjBAEVg5tMg2L0ANAiuHFtktQFK4HoXr0S1AJQaBlUOLLUBt5/up8VItQE+Nl24SgyxA0SLb+X7qK0A2XrpJDIIqQOF6FK5HISpArkfhehQuKkAYBFYOLfIpQBgEVg4tsitA4XoUrkehLEAtsp3vp8YtQBsv3SQGATFAN4lBYOVQM0DpJjEIrJw2QOSlm8QgMDhAwMqhRbYzN0DkpZvEIJA4QBxaZDvfjzxA\",\"dtype\":\"float64\",\"shape\":[39]}},\"selected\":{\"id\":\"22920\"},\"selection_policy\":{\"id\":\"22948\"}},\"id\":\"22919\",\"type\":\"ColumnDataSource\"},{\"attributes\":{},\"id\":\"23615\",\"type\":\"ResetTool\"},{\"attributes\":{\"active_drag\":\"auto\",\"active_inspect\":\"auto\",\"active_multi\":null,\"active_scroll\":\"auto\",\"active_tap\":\"auto\",\"tools\":[{\"id\":\"23593\"},{\"id\":\"23611\"},{\"id\":\"23612\"},{\"id\":\"23613\"},{\"id\":\"23614\"},{\"id\":\"23615\"}]},\"id\":\"23617\",\"type\":\"Toolbar\"},{\"attributes\":{\"fill_alpha\":{\"value\":0.2},\"fill_color\":{\"value\":\"#1f77b3\"},\"line_alpha\":{\"value\":0.2},\"top\":{\"field\":\"Standard_Deviation\"},\"width\":{\"value\":0.8},\"x\":{\"field\":\"index\"}},\"id\":\"23783\",\"type\":\"VBar\"},{\"attributes\":{\"overlay\":{\"id\":\"22905\"}},\"id\":\"22903\",\"type\":\"BoxZoomTool\"},{\"attributes\":{\"data_source\":{\"id\":\"22802\"},\"glyph\":{\"id\":\"22805\"},\"hover_glyph\":null,\"muted_glyph\":{\"id\":\"22807\"},\"nonselection_glyph\":{\"id\":\"22806\"},\"selection_glyph\":null,\"view\":{\"id\":\"22809\"}},\"id\":\"22808\",\"type\":\"GlyphRenderer\"},{\"attributes\":{\"axis_label\":\"\",\"axis_label_text_font_size\":\"20pt\",\"bounds\":\"auto\",\"formatter\":{\"id\":\"22916\"},\"major_label_orientation\":\"horizontal\",\"major_label_text_font_size\":\"15pt\",\"ticker\":{\"id\":\"22897\"}},\"id\":\"22896\",\"type\":\"LinearAxis\"},{\"attributes\":{\"bottom_units\":\"screen\",\"fill_alpha\":0.5,\"fill_color\":\"lightgrey\",\"left_units\":\"screen\",\"level\":\"overlay\",\"line_alpha\":1.0,\"line_color\":\"black\",\"line_dash\":[4,4],\"line_width\":2,\"render_mode\":\"css\",\"right_units\":\"screen\",\"top_units\":\"screen\"},\"id\":\"22849\",\"type\":\"BoxAnnotation\"},{\"attributes\":{},\"id\":\"23789\",\"type\":\"BasicTickFormatter\"},{\"attributes\":{},\"id\":\"22902\",\"type\":\"WheelZoomTool\"},{\"attributes\":{\"data_source\":{\"id\":\"23778\"},\"glyph\":{\"id\":\"23781\"},\"hover_glyph\":null,\"muted_glyph\":{\"id\":\"23783\"},\"nonselection_glyph\":{\"id\":\"23782\"},\"selection_glyph\":null,\"view\":{\"id\":\"23785\"}},\"id\":\"23784\",\"type\":\"GlyphRenderer\"},{\"attributes\":{},\"id\":\"23878\",\"type\":\"BasicTicker\"},{\"attributes\":{\"margin\":[0,0,0,0],\"name\":\"Column46371\"},\"id\":\"23744\",\"type\":\"Column\"},{\"attributes\":{},\"id\":\"23224\",\"type\":\"UnionRenderers\"},{\"attributes\":{\"axis_label\":\"Alternative Energy\",\"axis_label_text_font_size\":\"20pt\",\"bounds\":\"auto\",\"formatter\":{\"id\":\"23905\"},\"major_label_orientation\":\"horizontal\",\"major_label_text_font_size\":\"15pt\",\"ticker\":{\"id\":\"23878\"}},\"id\":\"23877\",\"type\":\"LinearAxis\"},{\"attributes\":{},\"id\":\"23847\",\"type\":\"BasicTickFormatter\"},{\"attributes\":{\"axis\":{\"id\":\"23873\"},\"grid_line_color\":\"lightgray\",\"grid_line_width\":1.5,\"minor_grid_line_color\":\"lightgray\",\"ticker\":{\"id\":\"23874\"}},\"id\":\"23876\",\"type\":\"Grid\"},{\"attributes\":{\"children\":[{\"id\":\"23749\"}],\"margin\":[0,0,0,0],\"name\":\"Row46370\"},\"id\":\"23745\",\"type\":\"Row\"},{\"attributes\":{\"source\":{\"id\":\"22935\"}},\"id\":\"22942\",\"type\":\"CDSView\"},{\"attributes\":{},\"id\":\"23787\",\"type\":\"CategoricalTickFormatter\"},{\"attributes\":{},\"id\":\"23874\",\"type\":\"BasicTicker\"},{\"attributes\":{\"line_alpha\":0.1,\"line_color\":\"#8c564b\",\"line_width\":2,\"x\":{\"field\":\"Date\"},\"y\":{\"field\":\"value\"}},\"id\":\"23180\",\"type\":\"Line\"},{\"attributes\":{\"below\":[{\"id\":\"22836\"}],\"center\":[{\"id\":\"22839\"},{\"id\":\"22843\"}],\"left\":[{\"id\":\"22840\"}],\"margin\":null,\"min_border_bottom\":10,\"min_border_left\":10,\"min_border_right\":10,\"min_border_top\":10,\"plot_height\":400,\"plot_width\":1200,\"renderers\":[{\"id\":\"22863\"}],\"sizing_mode\":\"fixed\",\"title\":{\"id\":\"22828\"},\"toolbar\":{\"id\":\"22850\"},\"x_range\":{\"id\":\"22769\"},\"x_scale\":{\"id\":\"22832\"},\"y_range\":{\"id\":\"22825\"},\"y_scale\":{\"id\":\"22834\"}},\"id\":\"22827\",\"subtype\":\"Figure\",\"type\":\"Plot\"},{\"attributes\":{\"line_color\":\"#ff7e0e\",\"line_width\":2,\"x\":{\"field\":\"Year\"},\"y\":{\"field\":\"value\"}},\"id\":\"22938\",\"type\":\"Line\"},{\"attributes\":{\"axis\":{\"id\":\"23877\"},\"dimension\":1,\"grid_line_color\":\"lightgray\",\"grid_line_width\":1.5,\"ticker\":{\"id\":\"23878\"}},\"id\":\"23880\",\"type\":\"Grid\"},{\"attributes\":{},\"id\":\"22789\",\"type\":\"SaveTool\"},{\"attributes\":{\"data_source\":{\"id\":\"22935\"},\"glyph\":{\"id\":\"22938\"},\"hover_glyph\":null,\"muted_glyph\":{\"id\":\"22940\"},\"nonselection_glyph\":{\"id\":\"22939\"},\"selection_glyph\":null,\"view\":{\"id\":\"22942\"}},\"id\":\"22941\",\"type\":\"GlyphRenderer\"},{\"attributes\":{\"line_color\":\"#9367bc\",\"line_width\":2,\"x\":{\"field\":\"Date\"},\"y\":{\"field\":\"value\"}},\"id\":\"23156\",\"type\":\"Line\"},{\"attributes\":{},\"id\":\"23882\",\"type\":\"PanTool\"},{\"attributes\":{\"label\":{\"value\":\"BP\"},\"renderers\":[{\"id\":\"23159\"}]},\"id\":\"23175\",\"type\":\"LegendItem\"},{\"attributes\":{},\"id\":\"23895\",\"type\":\"Selection\"},{\"attributes\":{\"line_alpha\":0.1,\"line_color\":\"#ff7e0e\",\"line_width\":2,\"x\":{\"field\":\"Year\"},\"y\":{\"field\":\"value\"}},\"id\":\"22939\",\"type\":\"Line\"},{\"attributes\":{},\"id\":\"23881\",\"type\":\"SaveTool\"},{\"attributes\":{},\"id\":\"22936\",\"type\":\"Selection\"},{\"attributes\":{},\"id\":\"23883\",\"type\":\"WheelZoomTool\"},{\"attributes\":{\"child\":{\"id\":\"22767\"},\"name\":\"Column47015\",\"title\":\"Annual Production\"},\"id\":\"23032\",\"type\":\"Panel\"},{\"attributes\":{\"source\":{\"id\":\"23153\"}},\"id\":\"23160\",\"type\":\"CDSView\"},{\"attributes\":{\"line_alpha\":0.2,\"line_color\":\"#9367bc\",\"line_width\":2,\"x\":{\"field\":\"Date\"},\"y\":{\"field\":\"value\"}},\"id\":\"23158\",\"type\":\"Line\"},{\"attributes\":{\"overlay\":{\"id\":\"23886\"}},\"id\":\"23884\",\"type\":\"BoxZoomTool\"},{\"attributes\":{\"bottom_units\":\"screen\",\"fill_alpha\":0.5,\"fill_color\":\"lightgrey\",\"left_units\":\"screen\",\"level\":\"overlay\",\"line_alpha\":1.0,\"line_color\":\"black\",\"line_dash\":[4,4],\"line_width\":2,\"render_mode\":\"css\",\"right_units\":\"screen\",\"top_units\":\"screen\"},\"id\":\"23616\",\"type\":\"BoxAnnotation\"},{\"attributes\":{\"children\":[{\"id\":\"23587\"},{\"id\":\"23588\"},{\"id\":\"23743\"}],\"margin\":[0,0,0,0],\"name\":\"Column46372\"},\"id\":\"23586\",\"type\":\"Column\"},{\"attributes\":{},\"id\":\"23154\",\"type\":\"Selection\"},{\"attributes\":{},\"id\":\"23885\",\"type\":\"ResetTool\"},{\"attributes\":{\"line_alpha\":0.2,\"line_color\":\"#ff7e0e\",\"line_width\":2,\"x\":{\"field\":\"Year\"},\"y\":{\"field\":\"value\"}},\"id\":\"22940\",\"type\":\"Line\"},{\"attributes\":{},\"id\":\"22888\",\"type\":\"LinearScale\"},{\"attributes\":{\"line_alpha\":0.1,\"line_color\":\"#9367bc\",\"line_width\":2,\"x\":{\"field\":\"Date\"},\"y\":{\"field\":\"value\"}},\"id\":\"23157\",\"type\":\"Line\"},{\"attributes\":{\"line_color\":\"#7e7e7e\",\"line_width\":2,\"x\":{\"field\":\"Date\"},\"y\":{\"field\":\"value\"}},\"id\":\"23231\",\"type\":\"Line\"},{\"attributes\":{},\"id\":\"23913\",\"type\":\"UnionRenderers\"},{\"attributes\":{\"label\":{\"value\":\"Production (Alternative)\"},\"renderers\":[{\"id\":\"22941\"}]},\"id\":\"22951\",\"type\":\"LegendItem\"},{\"attributes\":{},\"id\":\"22858\",\"type\":\"Selection\"},{\"attributes\":{\"axis_label\":\"\",\"axis_label_text_font_size\":\"20pt\",\"bounds\":\"auto\",\"formatter\":{\"id\":\"22813\"},\"major_label_orientation\":\"horizontal\",\"major_label_text_font_size\":\"15pt\",\"ticker\":{\"id\":\"22786\"}},\"id\":\"22785\",\"type\":\"LinearAxis\"},{\"attributes\":{\"data_source\":{\"id\":\"22857\"},\"glyph\":{\"id\":\"22860\"},\"hover_glyph\":null,\"muted_glyph\":{\"id\":\"22862\"},\"nonselection_glyph\":{\"id\":\"22861\"},\"selection_glyph\":null,\"view\":{\"id\":\"22864\"}},\"id\":\"22863\",\"type\":\"GlyphRenderer\"},{\"attributes\":{\"data_source\":{\"id\":\"23153\"},\"glyph\":{\"id\":\"23156\"},\"hover_glyph\":null,\"muted_glyph\":{\"id\":\"23158\"},\"nonselection_glyph\":{\"id\":\"23157\"},\"selection_glyph\":null,\"view\":{\"id\":\"23160\"}},\"id\":\"23159\",\"type\":\"GlyphRenderer\"},{\"attributes\":{\"line_color\":\"#1f77b3\",\"line_width\":2,\"x\":{\"field\":\"Year\"},\"y\":{\"field\":\"Production (Oil)\"}},\"id\":\"22860\",\"type\":\"Line\"},{\"attributes\":{},\"id\":\"22948\",\"type\":\"UnionRenderers\"},{\"attributes\":{},\"id\":\"23172\",\"type\":\"UnionRenderers\"},{\"attributes\":{},\"id\":\"23797\",\"type\":\"UnionRenderers\"},{\"attributes\":{\"line_alpha\":0.2,\"line_color\":\"#7e7e7e\",\"line_width\":2,\"x\":{\"field\":\"Date\"},\"y\":{\"field\":\"value\"}},\"id\":\"23233\",\"type\":\"Line\"},{\"attributes\":{\"active_drag\":\"auto\",\"active_inspect\":\"auto\",\"active_multi\":null,\"active_scroll\":\"auto\",\"active_tap\":\"auto\",\"tools\":[{\"id\":\"22771\"},{\"id\":\"22789\"},{\"id\":\"22790\"},{\"id\":\"22791\"},{\"id\":\"22792\"},{\"id\":\"22793\"}]},\"id\":\"22795\",\"type\":\"Toolbar\"},{\"attributes\":{\"label\":{\"value\":\"XOM\"},\"renderers\":[{\"id\":\"23234\"}]},\"id\":\"23256\",\"type\":\"LegendItem\"},{\"attributes\":{},\"id\":\"22790\",\"type\":\"PanTool\"},{\"attributes\":{},\"id\":\"22866\",\"type\":\"BasicTickFormatter\"},{\"attributes\":{\"source\":{\"id\":\"23228\"}},\"id\":\"23235\",\"type\":\"CDSView\"},{\"attributes\":{\"data\":{\"Production (Oil)\":{\"__ndarray__\":\"001iEFh5NEC28/3UeGk0QGiR7Xw/dTRAu0kMAiuHNEChRbbz/RQ1QBgEVg4tMjVAd76fGi99NEC0yHa+n9ozQMP1KFyPgjNAPQrXo3A9MkAv3SQGgbUxQJ3vp8ZL9zFA7FG4HoWLMUAj2/l+atwwQMHKoUW2czBAKVyPwvVIMECHFtnO9zMwQO18PzVeGjBAEVg5tMg2L0ANAiuHFtktQFK4HoXr0S1AJQaBlUOLLUBt5/up8VItQE+Nl24SgyxA0SLb+X7qK0A2XrpJDIIqQOF6FK5HISpArkfhehQuKkAYBFYOLfIpQBgEVg4tsitA4XoUrkehLEAtsp3vp8YtQBsv3SQGATFAN4lBYOVQM0DpJjEIrJw2QOSlm8QgMDhAwMqhRbYzN0DkpZvEIJA4QBxaZDvfjzxA\",\"dtype\":\"float64\",\"shape\":[39]},\"Production_left_parenthesis_Oil_right_parenthesis\":{\"__ndarray__\":\"001iEFh5NEC28/3UeGk0QGiR7Xw/dTRAu0kMAiuHNEChRbbz/RQ1QBgEVg4tMjVAd76fGi99NEC0yHa+n9ozQMP1KFyPgjNAPQrXo3A9MkAv3SQGgbUxQJ3vp8ZL9zFA7FG4HoWLMUAj2/l+atwwQMHKoUW2czBAKVyPwvVIMECHFtnO9zMwQO18PzVeGjBAEVg5tMg2L0ANAiuHFtktQFK4HoXr0S1AJQaBlUOLLUBt5/up8VItQE+Nl24SgyxA0SLb+X7qK0A2XrpJDIIqQOF6FK5HISpArkfhehQuKkAYBFYOLfIpQBgEVg4tsitA4XoUrkehLEAtsp3vp8YtQBsv3SQGATFAN4lBYOVQM0DpJjEIrJw2QOSlm8QgMDhAwMqhRbYzN0DkpZvEIJA4QBxaZDvfjzxA\",\"dtype\":\"float64\",\"shape\":[39]},\"Year\":[1980,1981,1982,1983,1984,1985,1986,1987,1988,1989,1990,1991,1992,1993,1994,1995,1996,1997,1998,1999,2000,2001,2002,2003,2004,2005,2006,2007,2008,2009,2010,2011,2012,2013,2014,2015,2016,2017,2018]},\"selected\":{\"id\":\"22858\"},\"selection_policy\":{\"id\":\"22876\"}},\"id\":\"22857\",\"type\":\"ColumnDataSource\"},{\"attributes\":{\"line_alpha\":0.1,\"line_color\":\"#1f77b3\",\"line_width\":2,\"x\":{\"field\":\"Year\"},\"y\":{\"field\":\"Production (Oil)\"}},\"id\":\"22861\",\"type\":\"Line\"},{\"attributes\":{},\"id\":\"23229\",\"type\":\"Selection\"},{\"attributes\":{\"line_alpha\":0.2,\"line_color\":\"#1f77b3\",\"line_width\":2,\"x\":{\"field\":\"Year\"},\"y\":{\"field\":\"Production (Oil)\"}},\"id\":\"22862\",\"type\":\"Line\"},{\"attributes\":{\"callback\":null,\"renderers\":[{\"id\":\"22863\"}],\"tags\":[\"hv_created\"],\"tooltips\":[[\"Year\",\"@{Year}\"],[\"Production (Oil)\",\"@{Production_left_parenthesis_Oil_right_parenthesis}\"]]},\"id\":\"22826\",\"type\":\"HoverTool\"},{\"attributes\":{\"child\":{\"id\":\"23801\"},\"name\":\"Column46627\",\"title\":\"Correlations\"},\"id\":\"23918\",\"type\":\"Panel\"},{\"attributes\":{\"line_alpha\":0.1,\"line_color\":\"#7e7e7e\",\"line_width\":2,\"x\":{\"field\":\"Date\"},\"y\":{\"field\":\"value\"}},\"id\":\"23232\",\"type\":\"Line\"},{\"attributes\":{},\"id\":\"22832\",\"type\":\"LinearScale\"},{\"attributes\":{\"data\":{\"dimensions.0.values\":[[2000,2001,2002,2003,2004,2005,2006,2007,2008,2009,2010,2011,2012,2013,2014,2015,2016,2017,2018]],\"dimensions.1.values\":[{\"__ndarray__\":\"wDKRtqV8h79wrWxStFesv4AmibN7lqo/AESmvwezXj9A2HC4EDacPwBjd+Iv0Hs/APSIbzXVnT8Af/6m+T6HP2DqOADLMqY/wMSSAxO8lz9g/YqFVJuoP+Bwq+RsEak/gNV+MLgRor8gab8g6pGlP8Aiqm1HoJk/AME2ROMxYb9g9bC8DjimP8A6mx1ex6Q/gPdvY6NHkT8=\",\"dtype\":\"float64\",\"shape\":[19]}],\"dimensions.2.values\":[{\"__ndarray__\":\"UCxYXqQot7/szQEwMf3Cvx4ESwZvc+O/n+Upf3Bn+D/GVXBg6B+2P8Ym30Tnh9I/E+f8QU3Kwz9M5R1E9yDGP/YzY3pLwtS/ZMOaBFtp2T8IeBxE52ybP2ptE93Bqb+/t8mkOJQ0xb8svgdftx7iPwRhb6rKsdI/HqRBfmQ42r8PDOU5q0/PP0+fARpBnMo/+Iqyf83+qD8=\",\"dtype\":\"float64\",\"shape\":[19]}],\"dimensions.3.values\":[{\"__ndarray__\":\"AAyF/zy9Tr9AQS6jkPSCv4Dcaxw+gH6/oGoIpe5anL/gZce+uGeVv6B237zh0qm/gACfJEQ0jb8AGD8M11lfP0DJ2UAmToK/EBLB6EFEsT9gxPCMLUShP8CHy+GKfqQ/OD3nIz8xwj9wFtFQZmfBPzDZi1pk18U/oC/OG7LXsT/AmmVgBd+kv2DQM5SECK4/ILF+bNLWxD8=\",\"dtype\":\"float64\",\"shape\":[19]}],\"dimensions.4.values\":[{\"__ndarray__\":\"YLw9jq4Yeb+gyJwgtJ+ev2jg6TdrWLy/iA8pr4V90D/qIF9v6lbOP1Y3pjLJL8A/EPIY2uRbzj+yhmAB13zMPyB8QbP1r8+/5usn++NBvz+ySkHwO3m0P5xD4Z2G3cI/KJoBVNCpmD8SRXiTy5bHP+7+xyDPebW/L08ZqSHRxr/XG1Rx5GPTPxsE59r8wMA/NCYqtBBzt78=\",\"dtype\":\"float64\",\"shape\":[19]}],\"line.color\":[[2000,2001,2002,2003,2004,2005,2006,2007,2008,2009,2010,2011,2012,2013,2014,2015,2016,2017,2018]]},\"selected\":{\"id\":\"23950\"},\"selection_policy\":{\"id\":\"23949\"}},\"id\":\"23916\",\"type\":\"ColumnDataSource\"},{\"attributes\":{\"source\":{\"id\":\"22857\"}},\"id\":\"22864\",\"type\":\"CDSView\"},{\"attributes\":{},\"id\":\"23855\",\"type\":\"UnionRenderers\"},{\"attributes\":{\"bottom_units\":\"screen\",\"fill_alpha\":0.5,\"fill_color\":\"lightgrey\",\"left_units\":\"screen\",\"level\":\"overlay\",\"line_alpha\":1.0,\"line_color\":\"black\",\"line_dash\":[4,4],\"line_width\":2,\"render_mode\":\"css\",\"right_units\":\"screen\",\"top_units\":\"screen\"},\"id\":\"23886\",\"type\":\"BoxAnnotation\"},{\"attributes\":{\"_render_count\":0,\"config\":null,\"data\":[{\"dimensions\":[{\"label\":\"Year\"},{\"label\":\"Production (Alt)\"},{\"label\":\"Stock Returns (Alt)\"},{\"label\":\"Production (Oil)\"},{\"label\":\"Stock Returns (Oil)\"}],\"domain\":{\"x\":[0.0,1.0],\"y\":[0.0,1.0]},\"line\":{\"coloraxis\":\"coloraxis\"},\"name\":\"\",\"type\":\"parcoords\"}],\"data_sources\":[{\"id\":\"23916\"}],\"layout\":{\"coloraxis\":{\"colorbar\":{\"title\":{\"text\":\"Year\"}},\"colorscale\":[[0.0,\"#0d0887\"],[0.1111111111111111,\"#46039f\"],[0.2222222222222222,\"#7201a8\"],[0.3333333333333333,\"#9c179e\"],[0.4444444444444444,\"#bd3786\"],[0.5555555555555556,\"#d8576b\"],[0.6666666666666666,\"#ed7953\"],[0.7777777777777778,\"#fb9f3a\"],[0.8888888888888888,\"#fdca26\"],[1.0,\"#f0f921\"]]},\"legend\":{\"tracegroupgap\":0},\"template\":{\"data\":{\"bar\":[{\"error_x\":{\"color\":\"#2a3f5f\"},\"error_y\":{\"color\":\"#2a3f5f\"},\"marker\":{\"line\":{\"color\":\"#E5ECF6\",\"width\":0.5}},\"type\":\"bar\"}],\"barpolar\":[{\"marker\":{\"line\":{\"color\":\"#E5ECF6\",\"width\":0.5}},\"type\":\"barpolar\"}],\"carpet\":[{\"aaxis\":{\"endlinecolor\":\"#2a3f5f\",\"gridcolor\":\"white\",\"linecolor\":\"white\",\"minorgridcolor\":\"white\",\"startlinecolor\":\"#2a3f5f\"},\"baxis\":{\"endlinecolor\":\"#2a3f5f\",\"gridcolor\":\"white\",\"linecolor\":\"white\",\"minorgridcolor\":\"white\",\"startlinecolor\":\"#2a3f5f\"},\"type\":\"carpet\"}],\"choropleth\":[{\"colorbar\":{\"outlinewidth\":0,\"ticks\":\"\"},\"type\":\"choropleth\"}],\"contour\":[{\"colorbar\":{\"outlinewidth\":0,\"ticks\":\"\"},\"colorscale\":[[0.0,\"#0d0887\"],[0.1111111111111111,\"#46039f\"],[0.2222222222222222,\"#7201a8\"],[0.3333333333333333,\"#9c179e\"],[0.4444444444444444,\"#bd3786\"],[0.5555555555555556,\"#d8576b\"],[0.6666666666666666,\"#ed7953\"],[0.7777777777777778,\"#fb9f3a\"],[0.8888888888888888,\"#fdca26\"],[1.0,\"#f0f921\"]],\"type\":\"contour\"}],\"contourcarpet\":[{\"colorbar\":{\"outlinewidth\":0,\"ticks\":\"\"},\"type\":\"contourcarpet\"}],\"heatmap\":[{\"colorbar\":{\"outlinewidth\":0,\"ticks\":\"\"},\"colorscale\":[[0.0,\"#0d0887\"],[0.1111111111111111,\"#46039f\"],[0.2222222222222222,\"#7201a8\"],[0.3333333333333333,\"#9c179e\"],[0.4444444444444444,\"#bd3786\"],[0.5555555555555556,\"#d8576b\"],[0.6666666666666666,\"#ed7953\"],[0.7777777777777778,\"#fb9f3a\"],[0.8888888888888888,\"#fdca26\"],[1.0,\"#f0f921\"]],\"type\":\"heatmap\"}],\"heatmapgl\":[{\"colorbar\":{\"outlinewidth\":0,\"ticks\":\"\"},\"colorscale\":[[0.0,\"#0d0887\"],[0.1111111111111111,\"#46039f\"],[0.2222222222222222,\"#7201a8\"],[0.3333333333333333,\"#9c179e\"],[0.4444444444444444,\"#bd3786\"],[0.5555555555555556,\"#d8576b\"],[0.6666666666666666,\"#ed7953\"],[0.7777777777777778,\"#fb9f3a\"],[0.8888888888888888,\"#fdca26\"],[1.0,\"#f0f921\"]],\"type\":\"heatmapgl\"}],\"histogram\":[{\"marker\":{\"colorbar\":{\"outlinewidth\":0,\"ticks\":\"\"}},\"type\":\"histogram\"}],\"histogram2d\":[{\"colorbar\":{\"outlinewidth\":0,\"ticks\":\"\"},\"colorscale\":[[0.0,\"#0d0887\"],[0.1111111111111111,\"#46039f\"],[0.2222222222222222,\"#7201a8\"],[0.3333333333333333,\"#9c179e\"],[0.4444444444444444,\"#bd3786\"],[0.5555555555555556,\"#d8576b\"],[0.6666666666666666,\"#ed7953\"],[0.7777777777777778,\"#fb9f3a\"],[0.8888888888888888,\"#fdca26\"],[1.0,\"#f0f921\"]],\"type\":\"histogram2d\"}],\"histogram2dcontour\":[{\"colorbar\":{\"outlinewidth\":0,\"ticks\":\"\"},\"colorscale\":[[0.0,\"#0d0887\"],[0.1111111111111111,\"#46039f\"],[0.2222222222222222,\"#7201a8\"],[0.3333333333333333,\"#9c179e\"],[0.4444444444444444,\"#bd3786\"],[0.5555555555555556,\"#d8576b\"],[0.6666666666666666,\"#ed7953\"],[0.7777777777777778,\"#fb9f3a\"],[0.8888888888888888,\"#fdca26\"],[1.0,\"#f0f921\"]],\"type\":\"histogram2dcontour\"}],\"mesh3d\":[{\"colorbar\":{\"outlinewidth\":0,\"ticks\":\"\"},\"type\":\"mesh3d\"}],\"parcoords\":[{\"line\":{\"colorbar\":{\"outlinewidth\":0,\"ticks\":\"\"}},\"type\":\"parcoords\"}],\"pie\":[{\"automargin\":true,\"type\":\"pie\"}],\"scatter\":[{\"marker\":{\"colorbar\":{\"outlinewidth\":0,\"ticks\":\"\"}},\"type\":\"scatter\"}],\"scatter3d\":[{\"line\":{\"colorbar\":{\"outlinewidth\":0,\"ticks\":\"\"}},\"marker\":{\"colorbar\":{\"outlinewidth\":0,\"ticks\":\"\"}},\"type\":\"scatter3d\"}],\"scattercarpet\":[{\"marker\":{\"colorbar\":{\"outlinewidth\":0,\"ticks\":\"\"}},\"type\":\"scattercarpet\"}],\"scattergeo\":[{\"marker\":{\"colorbar\":{\"outlinewidth\":0,\"ticks\":\"\"}},\"type\":\"scattergeo\"}],\"scattergl\":[{\"marker\":{\"colorbar\":{\"outlinewidth\":0,\"ticks\":\"\"}},\"type\":\"scattergl\"}],\"scattermapbox\":[{\"marker\":{\"colorbar\":{\"outlinewidth\":0,\"ticks\":\"\"}},\"type\":\"scattermapbox\"}],\"scatterpolar\":[{\"marker\":{\"colorbar\":{\"outlinewidth\":0,\"ticks\":\"\"}},\"type\":\"scatterpolar\"}],\"scatterpolargl\":[{\"marker\":{\"colorbar\":{\"outlinewidth\":0,\"ticks\":\"\"}},\"type\":\"scatterpolargl\"}],\"scatterternary\":[{\"marker\":{\"colorbar\":{\"outlinewidth\":0,\"ticks\":\"\"}},\"type\":\"scatterternary\"}],\"surface\":[{\"colorbar\":{\"outlinewidth\":0,\"ticks\":\"\"},\"colorscale\":[[0.0,\"#0d0887\"],[0.1111111111111111,\"#46039f\"],[0.2222222222222222,\"#7201a8\"],[0.3333333333333333,\"#9c179e\"],[0.4444444444444444,\"#bd3786\"],[0.5555555555555556,\"#d8576b\"],[0.6666666666666666,\"#ed7953\"],[0.7777777777777778,\"#fb9f3a\"],[0.8888888888888888,\"#fdca26\"],[1.0,\"#f0f921\"]],\"type\":\"surface\"}],\"table\":[{\"cells\":{\"fill\":{\"color\":\"#EBF0F8\"},\"line\":{\"color\":\"white\"}},\"header\":{\"fill\":{\"color\":\"#C8D4E3\"},\"line\":{\"color\":\"white\"}},\"type\":\"table\"}]},\"layout\":{\"annotationdefaults\":{\"arrowcolor\":\"#2a3f5f\",\"arrowhead\":0,\"arrowwidth\":1},\"autotypenumbers\":\"strict\",\"coloraxis\":{\"colorbar\":{\"outlinewidth\":0,\"ticks\":\"\"}},\"colorscale\":{\"diverging\":[[0,\"#8e0152\"],[0.1,\"#c51b7d\"],[0.2,\"#de77ae\"],[0.3,\"#f1b6da\"],[0.4,\"#fde0ef\"],[0.5,\"#f7f7f7\"],[0.6,\"#e6f5d0\"],[0.7,\"#b8e186\"],[0.8,\"#7fbc41\"],[0.9,\"#4d9221\"],[1,\"#276419\"]],\"sequential\":[[0.0,\"#0d0887\"],[0.1111111111111111,\"#46039f\"],[0.2222222222222222,\"#7201a8\"],[0.3333333333333333,\"#9c179e\"],[0.4444444444444444,\"#bd3786\"],[0.5555555555555556,\"#d8576b\"],[0.6666666666666666,\"#ed7953\"],[0.7777777777777778,\"#fb9f3a\"],[0.8888888888888888,\"#fdca26\"],[1.0,\"#f0f921\"]],\"sequentialminus\":[[0.0,\"#0d0887\"],[0.1111111111111111,\"#46039f\"],[0.2222222222222222,\"#7201a8\"],[0.3333333333333333,\"#9c179e\"],[0.4444444444444444,\"#bd3786\"],[0.5555555555555556,\"#d8576b\"],[0.6666666666666666,\"#ed7953\"],[0.7777777777777778,\"#fb9f3a\"],[0.8888888888888888,\"#fdca26\"],[1.0,\"#f0f921\"]]},\"colorway\":[\"#636efa\",\"#EF553B\",\"#00cc96\",\"#ab63fa\",\"#FFA15A\",\"#19d3f3\",\"#FF6692\",\"#B6E880\",\"#FF97FF\",\"#FECB52\"],\"font\":{\"color\":\"#2a3f5f\"},\"geo\":{\"bgcolor\":\"white\",\"lakecolor\":\"white\",\"landcolor\":\"#E5ECF6\",\"showlakes\":true,\"showland\":true,\"subunitcolor\":\"white\"},\"hoverlabel\":{\"align\":\"left\"},\"hovermode\":\"closest\",\"mapbox\":{\"style\":\"light\"},\"paper_bgcolor\":\"white\",\"plot_bgcolor\":\"#E5ECF6\",\"polar\":{\"angularaxis\":{\"gridcolor\":\"white\",\"linecolor\":\"white\",\"ticks\":\"\"},\"bgcolor\":\"#E5ECF6\",\"radialaxis\":{\"gridcolor\":\"white\",\"linecolor\":\"white\",\"ticks\":\"\"}},\"scene\":{\"xaxis\":{\"backgroundcolor\":\"#E5ECF6\",\"gridcolor\":\"white\",\"gridwidth\":2,\"linecolor\":\"white\",\"showbackground\":true,\"ticks\":\"\",\"zerolinecolor\":\"white\"},\"yaxis\":{\"backgroundcolor\":\"#E5ECF6\",\"gridcolor\":\"white\",\"gridwidth\":2,\"linecolor\":\"white\",\"showbackground\":true,\"ticks\":\"\",\"zerolinecolor\":\"white\"},\"zaxis\":{\"backgroundcolor\":\"#E5ECF6\",\"gridcolor\":\"white\",\"gridwidth\":2,\"linecolor\":\"white\",\"showbackground\":true,\"ticks\":\"\",\"zerolinecolor\":\"white\"}},\"shapedefaults\":{\"line\":{\"color\":\"#2a3f5f\"}},\"ternary\":{\"aaxis\":{\"gridcolor\":\"white\",\"linecolor\":\"white\",\"ticks\":\"\"},\"baxis\":{\"gridcolor\":\"white\",\"linecolor\":\"white\",\"ticks\":\"\"},\"bgcolor\":\"#E5ECF6\",\"caxis\":{\"gridcolor\":\"white\",\"linecolor\":\"white\",\"ticks\":\"\"}},\"title\":{\"x\":0.05},\"xaxis\":{\"automargin\":true,\"gridcolor\":\"white\",\"linecolor\":\"white\",\"ticks\":\"\",\"title\":{\"standoff\":15},\"zerolinecolor\":\"white\",\"zerolinewidth\":2},\"yaxis\":{\"automargin\":true,\"gridcolor\":\"white\",\"linecolor\":\"white\",\"ticks\":\"\",\"title\":{\"standoff\":15},\"zerolinecolor\":\"white\",\"zerolinewidth\":2}}},\"title\":{\"text\":\"Correlation between Energy Production and Stock Returns by Industry\"},\"width\":1200},\"margin\":[5,5,5,5],\"name\":\"Plotly46625\",\"viewport_update_throttle\":200},\"id\":\"23917\",\"type\":\"panel.models.plotly.PlotlyPlot\"},{\"attributes\":{\"data_source\":{\"id\":\"23228\"},\"glyph\":{\"id\":\"23231\"},\"hover_glyph\":null,\"muted_glyph\":{\"id\":\"23233\"},\"nonselection_glyph\":{\"id\":\"23232\"},\"selection_glyph\":null,\"view\":{\"id\":\"23235\"}},\"id\":\"23234\",\"type\":\"GlyphRenderer\"},{\"attributes\":{},\"id\":\"23253\",\"type\":\"UnionRenderers\"},{\"attributes\":{},\"id\":\"22868\",\"type\":\"BasicTickFormatter\"},{\"attributes\":{},\"id\":\"23625\",\"type\":\"CategoricalTickFormatter\"},{\"attributes\":{\"axis\":{\"id\":\"22785\"},\"dimension\":1,\"ticker\":{\"id\":\"22786\"}},\"id\":\"22788\",\"type\":\"Grid\"},{\"attributes\":{\"data_source\":{\"id\":\"23176\"},\"glyph\":{\"id\":\"23179\"},\"hover_glyph\":null,\"muted_glyph\":{\"id\":\"23181\"},\"nonselection_glyph\":{\"id\":\"23180\"},\"selection_glyph\":null,\"view\":{\"id\":\"23183\"}},\"id\":\"23182\",\"type\":\"GlyphRenderer\"},{\"attributes\":{\"line_color\":\"#8c564b\",\"line_width\":2,\"x\":{\"field\":\"Date\"},\"y\":{\"field\":\"value\"}},\"id\":\"23179\",\"type\":\"Line\"},{\"attributes\":{},\"id\":\"23627\",\"type\":\"BasicTickFormatter\"},{\"attributes\":{\"children\":[{\"id\":\"23589\"},{\"id\":\"23590\"}],\"margin\":[0,0,0,0],\"name\":\"Column46102\"},\"id\":\"23588\",\"type\":\"Column\"},{\"attributes\":{\"line_alpha\":0.2,\"line_color\":\"#8c564b\",\"line_width\":2,\"x\":{\"field\":\"Date\"},\"y\":{\"field\":\"value\"}},\"id\":\"23181\",\"type\":\"Line\"},{\"attributes\":{},\"id\":\"22959\",\"type\":\"UnionRenderers\"},{\"attributes\":{\"label\":{\"value\":\"CVX\"},\"renderers\":[{\"id\":\"23182\"}]},\"id\":\"23200\",\"type\":\"LegendItem\"},{\"attributes\":{},\"id\":\"22834\",\"type\":\"LinearScale\"},{\"attributes\":{\"margin\":[0,0,0,0],\"name\":\"Column46245\"},\"id\":\"23589\",\"type\":\"Column\"},{\"attributes\":{\"text\":\"Annual Energy Production from Oil\",\"text_color\":{\"value\":\"black\"},\"text_font_size\":{\"value\":\"20pt\"}},\"id\":\"22828\",\"type\":\"Title\"},{\"attributes\":{},\"id\":\"23631\",\"type\":\"Selection\"},{\"attributes\":{\"source\":{\"id\":\"23176\"}},\"id\":\"23183\",\"type\":\"CDSView\"},{\"attributes\":{\"css_classes\":[\"markdown\"],\"margin\":[5,5,5,5],\"name\":\"Markdown46099\",\"text\":\"&lt;h2&gt;Stock Risk by Industry&lt;/h2&gt;\"},\"id\":\"23587\",\"type\":\"panel.models.markup.HTML\"},{\"attributes\":{},\"id\":\"23177\",\"type\":\"Selection\"},{\"attributes\":{\"line_color\":\"#1f77b3\",\"line_width\":2,\"x\":{\"field\":\"Date\"},\"y\":{\"field\":\"value\"}},\"id\":\"23633\",\"type\":\"Line\"},{\"attributes\":{\"overlay\":{\"id\":\"23828\"}},\"id\":\"23826\",\"type\":\"BoxZoomTool\"},{\"attributes\":{\"child\":{\"id\":\"23586\"},\"name\":\"Column46372\",\"title\":\"Stock Risks\"},\"id\":\"23800\",\"type\":\"Panel\"},{\"attributes\":{\"label\":{\"value\":\"RDS-B\"},\"renderers\":[{\"id\":\"23207\"}]},\"id\":\"23227\",\"type\":\"LegendItem\"},{\"attributes\":{\"children\":[{\"id\":\"23744\"},{\"id\":\"23745\"}],\"margin\":[0,0,0,0],\"name\":\"Column46247\"},\"id\":\"23743\",\"type\":\"Column\"},{\"attributes\":{},\"id\":\"23827\",\"type\":\"ResetTool\"},{\"attributes\":{\"active_drag\":\"auto\",\"active_inspect\":\"auto\",\"active_multi\":null,\"active_scroll\":\"auto\",\"active_tap\":\"auto\",\"tools\":[{\"id\":\"23863\"},{\"id\":\"23881\"},{\"id\":\"23882\"},{\"id\":\"23883\"},{\"id\":\"23884\"},{\"id\":\"23885\"}]},\"id\":\"23887\",\"type\":\"Toolbar\"},{\"attributes\":{\"data\":{\"Date\":[\"1999\",\"2000\",\"2001\",\"2002\",\"2003\",\"2004\",\"2005\",\"2006\",\"2007\",\"2008\",\"2009\",\"2010\",\"2011\",\"2012\",\"2013\",\"2014\",\"2015\",\"2016\",\"2017\",\"2018\",\"2019\",\"2020\"],\"Variable\":[\"CVX\",\"CVX\",\"CVX\",\"CVX\",\"CVX\",\"CVX\",\"CVX\",\"CVX\",\"CVX\",\"CVX\",\"CVX\",\"CVX\",\"CVX\",\"CVX\",\"CVX\",\"CVX\",\"CVX\",\"CVX\",\"CVX\",\"CVX\",\"CVX\",\"CVX\"],\"value\":{\"__ndarray__\":\"AAAAIBYONEAAAAAAAio0QAAAAOALCTZAAAAAQHfyMEAAAACA1/A2QAAAAIDTzDxAAAAAYOsPQEAAAACgvHlFQAAAACBLCUxAAAAAIMDlRkAAAAAARL5IQAAAACC8a05AAAAAwItLUkAAAAAAmjhTQAAAAKCz7lZAAAAAAGhUVUAAAABAbOFRQAAAAECSb1hAAAAAwAIGW0AAAADgrmNYQAAAAIBSHVxAAAAAIHfRVEA=\",\"dtype\":\"float64\",\"shape\":[22]}},\"selected\":{\"id\":\"23177\"},\"selection_policy\":{\"id\":\"23224\"}},\"id\":\"23176\",\"type\":\"ColumnDataSource\"},{\"attributes\":{\"click_policy\":\"mute\",\"items\":[{\"id\":\"23645\"},{\"id\":\"23662\"}],\"label_text_font_size\":\"20pt\",\"location\":[0,0],\"orientation\":\"horizontal\",\"title\":\"Variable\"},\"id\":\"23644\",\"type\":\"Legend\"},{\"attributes\":{\"children\":[{\"id\":\"23595\"}],\"margin\":[0,0,0,0],\"name\":\"Row46244\"},\"id\":\"23590\",\"type\":\"Row\"},{\"attributes\":{\"source\":{\"id\":\"23630\"}},\"id\":\"23637\",\"type\":\"CDSView\"},{\"attributes\":{\"active_drag\":\"auto\",\"active_inspect\":\"auto\",\"active_multi\":null,\"active_scroll\":\"auto\",\"active_tap\":\"auto\",\"tools\":[{\"id\":\"23805\"},{\"id\":\"23823\"},{\"id\":\"23824\"},{\"id\":\"23825\"},{\"id\":\"23826\"},{\"id\":\"23827\"}]},\"id\":\"23829\",\"type\":\"Toolbar\"},{\"attributes\":{\"children\":[{\"id\":\"23864\"}],\"margin\":[0,0,0,0],\"name\":\"Row46623\"},\"id\":\"23860\",\"type\":\"Row\"},{\"attributes\":{},\"id\":\"23276\",\"type\":\"UnionRenderers\"},{\"attributes\":{\"data\":{\"Date\":[\"2004\",\"2005\",\"2006\",\"2007\",\"2008\",\"2009\",\"2010\",\"2011\",\"2012\",\"2013\",\"2014\",\"2015\",\"2016\",\"2017\",\"2018\",\"2019\",\"2020\"],\"Variable\":[\"Oil & Gas\",\"Oil & Gas\",\"Oil & Gas\",\"Oil & Gas\",\"Oil & Gas\",\"Oil & Gas\",\"Oil & Gas\",\"Oil & Gas\",\"Oil & Gas\",\"Oil & Gas\",\"Oil & Gas\",\"Oil & Gas\",\"Oil & Gas\",\"Oil & Gas\",\"Oil & Gas\",\"Oil & Gas\",\"Oil & Gas\"],\"value\":{\"__ndarray__\":\"b10z1B6zMEBNc1pFST4wQKoK6Uuy3i5AN17Df/GsFEB3r1zmbMs0QE17gU68tzNA3wkbW/efM0BwhXWUWTgyQGSvB7ig5C9AMmKofwfEGECisYUM8DIlQNQ3QRCbjC5AM82jdEqKM0CkjcncS8UzQMcpWxTUrDNALFJ/gnzwMkD9MD/IE285QA==\",\"dtype\":\"float64\",\"shape\":[17]}},\"selected\":{\"id\":\"23647\"},\"selection_policy\":{\"id\":\"23670\"}},\"id\":\"23646\",\"type\":\"ColumnDataSource\"},{\"attributes\":{\"fill_alpha\":{\"value\":0.1},\"fill_color\":{\"value\":\"#1f77b3\"},\"line_alpha\":{\"value\":0.1},\"line_color\":{\"value\":\"#1f77b3\"},\"size\":{\"units\":\"screen\",\"value\":10.0},\"x\":{\"field\":\"Oil & Gas\"},\"y\":{\"field\":\"Alternative Energy\"}},\"id\":\"23898\",\"type\":\"Scatter\"},{\"attributes\":{\"line_alpha\":0.2,\"line_color\":\"#1f77b3\",\"line_width\":2,\"x\":{\"field\":\"Date\"},\"y\":{\"field\":\"value\"}},\"id\":\"23635\",\"type\":\"Line\"},{\"attributes\":{\"text\":\"Correlation between Energy Production from Alternatives vs. Oil\",\"text_color\":{\"value\":\"black\"},\"text_font_size\":{\"value\":\"20pt\"}},\"id\":\"23807\",\"type\":\"Title\"},{\"attributes\":{\"callback\":null,\"renderers\":[{\"id\":\"23842\"}],\"tags\":[\"hv_created\"],\"tooltips\":[[\"Production (Alternative)\",\"@{Production_left_parenthesis_Alternative_right_parenthesis}\"],[\"Production (Oil)\",\"@{Production_left_parenthesis_Oil_right_parenthesis}\"]]},\"id\":\"23805\",\"type\":\"HoverTool\"},{\"attributes\":{\"fill_color\":{\"value\":\"#1f77b3\"},\"line_color\":{\"value\":\"#1f77b3\"},\"size\":{\"units\":\"screen\",\"value\":10.0},\"x\":{\"field\":\"Oil & Gas\"},\"y\":{\"field\":\"Alternative Energy\"}},\"id\":\"23897\",\"type\":\"Scatter\"},{\"attributes\":{\"data_source\":{\"id\":\"23894\"},\"glyph\":{\"id\":\"23897\"},\"hover_glyph\":null,\"muted_glyph\":{\"id\":\"23899\"},\"nonselection_glyph\":{\"id\":\"23898\"},\"selection_glyph\":null,\"view\":{\"id\":\"23901\"}},\"id\":\"23900\",\"type\":\"GlyphRenderer\"},{\"attributes\":{\"callback\":null,\"renderers\":[{\"id\":\"23900\"}],\"tags\":[\"hv_created\"],\"tooltips\":[[\"Oil & Gas\",\"@{Oil_ampersand_Gas}\"],[\"Alternative Energy\",\"@{Alternative_Energy}\"]]},\"id\":\"23863\",\"type\":\"HoverTool\"},{\"attributes\":{\"line_alpha\":0.1,\"line_color\":\"#1f77b3\",\"line_width\":2,\"x\":{\"field\":\"Date\"},\"y\":{\"field\":\"value\"}},\"id\":\"23634\",\"type\":\"Line\"},{\"attributes\":{\"data\":{\"Production (Alternative)\":{\"__ndarray__\":\"vHSTGARWIEBkO99PjdcgQEa28/3UOCJATDeJQWBlI0B7FK5H4fojQFK4HoXrUSRACKwcWmT7JECNl24Sg8AkQEoMAiuHFiZABoGVQ4usJ0B9PzVeukkoQHsUrkfh+ihAmpmZmZmZKECWQ4ts5/soQOkmMQisXClAarx0kxhEK0AYBFYOLTIsQO58PzVeOitArBxaZDsfK0CNl24Sg0AsQCGwcmiR7StAbhKDwMphKkCNl24Sg8ArQOj7qfHSzStAUrgeheuRLEDdJAaBlcMsQCYxCKwcmi1A5KWbxCDwLUAj2/l+ajwvQPYoXI/C9S9Ac2iR7Xy/MEDEILByaJExQKabxCCw8jBAtvP91HipMUC0yHa+nxoyQDeJQWDlEDJAmpmZmZnZMkA9CtejcJ0zQBgEVg4t8jNA\",\"dtype\":\"float64\",\"shape\":[39]},\"Production (Oil)\":{\"__ndarray__\":\"001iEFh5NEC28/3UeGk0QGiR7Xw/dTRAu0kMAiuHNEChRbbz/RQ1QBgEVg4tMjVAd76fGi99NEC0yHa+n9ozQMP1KFyPgjNAPQrXo3A9MkAv3SQGgbUxQJ3vp8ZL9zFA7FG4HoWLMUAj2/l+atwwQMHKoUW2czBAKVyPwvVIMECHFtnO9zMwQO18PzVeGjBAEVg5tMg2L0ANAiuHFtktQFK4HoXr0S1AJQaBlUOLLUBt5/up8VItQE+Nl24SgyxA0SLb+X7qK0A2XrpJDIIqQOF6FK5HISpArkfhehQuKkAYBFYOLfIpQBgEVg4tsitA4XoUrkehLEAtsp3vp8YtQBsv3SQGATFAN4lBYOVQM0DpJjEIrJw2QOSlm8QgMDhAwMqhRbYzN0DkpZvEIJA4QBxaZDvfjzxA\",\"dtype\":\"float64\",\"shape\":[39]},\"Production_left_parenthesis_Alternative_right_parenthesis\":{\"__ndarray__\":\"vHSTGARWIEBkO99PjdcgQEa28/3UOCJATDeJQWBlI0B7FK5H4fojQFK4HoXrUSRACKwcWmT7JECNl24Sg8AkQEoMAiuHFiZABoGVQ4usJ0B9PzVeukkoQHsUrkfh+ihAmpmZmZmZKECWQ4ts5/soQOkmMQisXClAarx0kxhEK0AYBFYOLTIsQO58PzVeOitArBxaZDsfK0CNl24Sg0AsQCGwcmiR7StAbhKDwMphKkCNl24Sg8ArQOj7qfHSzStAUrgeheuRLEDdJAaBlcMsQCYxCKwcmi1A5KWbxCDwLUAj2/l+ajwvQPYoXI/C9S9Ac2iR7Xy/MEDEILByaJExQKabxCCw8jBAtvP91HipMUC0yHa+nxoyQDeJQWDlEDJAmpmZmZnZMkA9CtejcJ0zQBgEVg4t8jNA\",\"dtype\":\"float64\",\"shape\":[39]},\"Production_left_parenthesis_Oil_right_parenthesis\":{\"__ndarray__\":\"001iEFh5NEC28/3UeGk0QGiR7Xw/dTRAu0kMAiuHNEChRbbz/RQ1QBgEVg4tMjVAd76fGi99NEC0yHa+n9ozQMP1KFyPgjNAPQrXo3A9MkAv3SQGgbUxQJ3vp8ZL9zFA7FG4HoWLMUAj2/l+atwwQMHKoUW2czBAKVyPwvVIMECHFtnO9zMwQO18PzVeGjBAEVg5tMg2L0ANAiuHFtktQFK4HoXr0S1AJQaBlUOLLUBt5/up8VItQE+Nl24SgyxA0SLb+X7qK0A2XrpJDIIqQOF6FK5HISpArkfhehQuKkAYBFYOLfIpQBgEVg4tsitA4XoUrkehLEAtsp3vp8YtQBsv3SQGATFAN4lBYOVQM0DpJjEIrJw2QOSlm8QgMDhAwMqhRbYzN0DkpZvEIJA4QBxaZDvfjzxA\",\"dtype\":\"float64\",\"shape\":[39]}},\"selected\":{\"id\":\"23837\"},\"selection_policy\":{\"id\":\"23855\"}},\"id\":\"23836\",\"type\":\"ColumnDataSource\"},{\"attributes\":{\"source\":{\"id\":\"23894\"}},\"id\":\"23901\",\"type\":\"CDSView\"},{\"attributes\":{\"label\":{\"value\":\"Alternative Energy\"},\"renderers\":[{\"id\":\"23636\"}]},\"id\":\"23645\",\"type\":\"LegendItem\"},{\"attributes\":{},\"id\":\"23825\",\"type\":\"WheelZoomTool\"},{\"attributes\":{},\"id\":\"23903\",\"type\":\"BasicTickFormatter\"},{\"attributes\":{},\"id\":\"22786\",\"type\":\"BasicTicker\"},{\"attributes\":{\"line_alpha\":0.1,\"line_color\":\"#e277c1\",\"line_width\":2,\"x\":{\"field\":\"Date\"},\"y\":{\"field\":\"value\"}},\"id\":\"23205\",\"type\":\"Line\"},{\"attributes\":{},\"id\":\"23824\",\"type\":\"PanTool\"},{\"attributes\":{\"fill_alpha\":{\"value\":0.2},\"fill_color\":{\"value\":\"#1f77b3\"},\"line_alpha\":{\"value\":0.2},\"line_color\":{\"value\":\"#1f77b3\"},\"size\":{\"units\":\"screen\",\"value\":10.0},\"x\":{\"field\":\"Oil & Gas\"},\"y\":{\"field\":\"Alternative Energy\"}},\"id\":\"23899\",\"type\":\"Scatter\"},{\"attributes\":{\"data_source\":{\"id\":\"23630\"},\"glyph\":{\"id\":\"23633\"},\"hover_glyph\":null,\"muted_glyph\":{\"id\":\"23635\"},\"nonselection_glyph\":{\"id\":\"23634\"},\"selection_glyph\":null,\"view\":{\"id\":\"23637\"}},\"id\":\"23636\",\"type\":\"GlyphRenderer\"},{\"attributes\":{},\"id\":\"23813\",\"type\":\"LinearScale\"},{\"attributes\":{},\"id\":\"22876\",\"type\":\"UnionRenderers\"},{\"attributes\":{},\"id\":\"23823\",\"type\":\"SaveTool\"},{\"attributes\":{\"data_source\":{\"id\":\"23201\"},\"glyph\":{\"id\":\"23204\"},\"hover_glyph\":null,\"muted_glyph\":{\"id\":\"23206\"},\"nonselection_glyph\":{\"id\":\"23205\"},\"selection_glyph\":null,\"view\":{\"id\":\"23208\"}},\"id\":\"23207\",\"type\":\"GlyphRenderer\"},{\"attributes\":{\"axis\":{\"id\":\"23819\"},\"dimension\":1,\"ticker\":{\"id\":\"23820\"}},\"id\":\"23822\",\"type\":\"Grid\"},{\"attributes\":{\"line_color\":\"#e277c1\",\"line_width\":2,\"x\":{\"field\":\"Date\"},\"y\":{\"field\":\"value\"}},\"id\":\"23204\",\"type\":\"Line\"},{\"attributes\":{\"axis_label\":\"Production (Alternative)\",\"axis_label_text_font_size\":\"20pt\",\"bounds\":\"auto\",\"formatter\":{\"id\":\"23845\"},\"major_label_orientation\":\"horizontal\",\"major_label_text_font_size\":\"20pt\",\"ticker\":{\"id\":\"23816\"}},\"id\":\"23815\",\"type\":\"LinearAxis\"},{\"attributes\":{\"end\":0.32535671657155385,\"reset_end\":0.32535671657155385,\"reset_start\":-0.39095595931106714,\"start\":-0.39095595931106714,\"tags\":[[[\"Oil & Gas\",\"Oil & Gas\",null]]]},\"id\":\"23861\",\"type\":\"Range1d\"},{\"attributes\":{\"axis\":{\"id\":\"23815\"},\"ticker\":{\"id\":\"23816\"}},\"id\":\"23818\",\"type\":\"Grid\"},{\"attributes\":{\"end\":2.619618554530113,\"reset_end\":2.619618554530113,\"reset_start\":-0.9012464430486415,\"start\":-0.9012464430486415,\"tags\":[[[\"Alternative Energy\",\"Alternative Energy\",null]]]},\"id\":\"23862\",\"type\":\"Range1d\"},{\"attributes\":{},\"id\":\"23905\",\"type\":\"BasicTickFormatter\"},{\"attributes\":{\"axis_label\":\"Production (Oil)\",\"axis_label_text_font_size\":\"20pt\",\"bounds\":\"auto\",\"formatter\":{\"id\":\"23847\"},\"major_label_orientation\":\"horizontal\",\"major_label_text_font_size\":\"15pt\",\"ticker\":{\"id\":\"23820\"}},\"id\":\"23819\",\"type\":\"LinearAxis\"},{\"attributes\":{\"source\":{\"id\":\"23201\"}},\"id\":\"23208\",\"type\":\"CDSView\"},{\"attributes\":{},\"id\":\"23871\",\"type\":\"LinearScale\"},{\"attributes\":{\"line_alpha\":0.2,\"line_color\":\"#e277c1\",\"line_width\":2,\"x\":{\"field\":\"Date\"},\"y\":{\"field\":\"value\"}},\"id\":\"23206\",\"type\":\"Line\"},{\"attributes\":{},\"id\":\"23816\",\"type\":\"BasicTicker\"},{\"attributes\":{},\"id\":\"23202\",\"type\":\"Selection\"},{\"attributes\":{},\"id\":\"23869\",\"type\":\"LinearScale\"},{\"attributes\":{\"below\":[{\"id\":\"23815\"}],\"center\":[{\"id\":\"23818\"},{\"id\":\"23822\"}],\"left\":[{\"id\":\"23819\"}],\"margin\":null,\"min_border_bottom\":10,\"min_border_left\":10,\"min_border_right\":10,\"min_border_top\":10,\"plot_height\":400,\"plot_width\":1200,\"renderers\":[{\"id\":\"23842\"}],\"sizing_mode\":\"fixed\",\"title\":{\"id\":\"23807\"},\"toolbar\":{\"id\":\"23829\"},\"x_range\":{\"id\":\"22770\"},\"x_scale\":{\"id\":\"23811\"},\"y_range\":{\"id\":\"22825\"},\"y_scale\":{\"id\":\"23813\"}},\"id\":\"23806\",\"subtype\":\"Figure\",\"type\":\"Plot\"},{\"attributes\":{\"axis_label\":\"Oil & Gas\",\"axis_label_text_font_size\":\"20pt\",\"bounds\":\"auto\",\"formatter\":{\"id\":\"23903\"},\"major_label_orientation\":\"horizontal\",\"major_label_text_font_size\":\"15pt\",\"ticker\":{\"id\":\"23874\"}},\"id\":\"23873\",\"type\":\"LinearAxis\"},{\"attributes\":{\"data\":{\"Date\":[\"1999\",\"2000\",\"2001\",\"2002\",\"2003\",\"2004\",\"2005\",\"2006\",\"2007\",\"2008\",\"2009\",\"2010\",\"2011\",\"2012\",\"2013\",\"2014\",\"2015\",\"2016\",\"2017\",\"2018\",\"2019\",\"2020\"],\"Variable\":[\"XOM\",\"XOM\",\"XOM\",\"XOM\",\"XOM\",\"XOM\",\"XOM\",\"XOM\",\"XOM\",\"XOM\",\"XOM\",\"XOM\",\"XOM\",\"XOM\",\"XOM\",\"XOM\",\"XOM\",\"XOM\",\"XOM\",\"XOM\",\"XOM\",\"XOM\"],\"value\":{\"__ndarray__\":\"AAAAgEJbNUAAAACA9oo3QAAAAIAYwTVAAAAAAPDSM0AAAABgfOo3QAAAACCZoD5AAAAAQFseQUAAAADg985HQAAAAIBOl01AAAAAoF22SUAAAACgqXhGQAAAACBYv0hAAAAAIAFeTUAAAAAAc79OQAAAAOCHd1JAAAAA4DtZUUAAAACAPUJOQAAAAIAtI1JAAAAAYGpyUUAAAABgkqBNQAAAAKAnxU9AAAAAIA5EREA=\",\"dtype\":\"float64\",\"shape\":[22]}},\"selected\":{\"id\":\"23229\"},\"selection_policy\":{\"id\":\"23276\"}},\"id\":\"23228\",\"type\":\"ColumnDataSource\"},{\"attributes\":{\"data\":{\"Date\":[\"1999\",\"2000\",\"2001\",\"2002\",\"2003\",\"2004\",\"2005\",\"2006\",\"2007\",\"2008\",\"2009\",\"2010\",\"2011\",\"2012\",\"2013\",\"2014\",\"2015\",\"2016\",\"2017\",\"2018\",\"2019\",\"2020\"],\"Variable\":[\"RDS-B\",\"RDS-B\",\"RDS-B\",\"RDS-B\",\"RDS-B\",\"RDS-B\",\"RDS-B\",\"RDS-B\",\"RDS-B\",\"RDS-B\",\"RDS-B\",\"RDS-B\",\"RDS-B\",\"RDS-B\",\"RDS-B\",\"RDS-B\",\"RDS-B\",\"RDS-B\",\"RDS-B\",\"RDS-B\",\"RDS-B\",\"RDS-B\"],\"value\":{\"__ndarray__\":\"AAAAwGYSNkAAAAAAme02QAAAAEDW0DNAAAAAYChEM0AAAADA4j83QAAAAMDFrDtAAAAAwPJ1P0AAAADg9PNBQAAAAIDvukVAAAAAoLE0PEAAAAAgCwBBQAAAAEBMqkRAAAAAYPGxSEAAAABAqihIQAAAAIBv80pAAAAAgCYoSkAAAACg1m1CQAAAAGADAklAAAAAgMxhT0AAAABgCB1NQAAAAAAp/E1AAAAAgBTOQEA=\",\"dtype\":\"float64\",\"shape\":[22]}},\"selected\":{\"id\":\"23202\"},\"selection_policy\":{\"id\":\"23253\"}},\"id\":\"23201\",\"type\":\"ColumnDataSource\"},{\"attributes\":{},\"id\":\"23811\",\"type\":\"LinearScale\"},{\"attributes\":{\"text\":\"Correlation between Oil Portfolio and Alternative Energy Portfolio Returns\",\"text_color\":{\"value\":\"black\"},\"text_font_size\":{\"value\":\"20pt\"}},\"id\":\"23865\",\"type\":\"Title\"},{\"attributes\":{\"below\":[{\"id\":\"23873\"}],\"center\":[{\"id\":\"23876\"},{\"id\":\"23880\"}],\"left\":[{\"id\":\"23877\"}],\"margin\":null,\"min_border_bottom\":10,\"min_border_left\":10,\"min_border_right\":10,\"min_border_top\":10,\"plot_height\":400,\"plot_width\":1200,\"renderers\":[{\"id\":\"23900\"}],\"sizing_mode\":\"fixed\",\"title\":{\"id\":\"23865\"},\"toolbar\":{\"id\":\"23887\"},\"x_range\":{\"id\":\"23861\"},\"x_scale\":{\"id\":\"23869\"},\"y_range\":{\"id\":\"23862\"},\"y_scale\":{\"id\":\"23871\"}},\"id\":\"23864\",\"subtype\":\"Figure\",\"type\":\"Plot\"},{\"attributes\":{},\"id\":\"23820\",\"type\":\"BasicTicker\"},{\"attributes\":{\"line_color\":\"#ff7e0e\",\"line_width\":2,\"x\":{\"field\":\"Date\"},\"y\":{\"field\":\"value\"}},\"id\":\"23099\",\"type\":\"Line\"},{\"attributes\":{\"bottom_units\":\"screen\",\"fill_alpha\":0.5,\"fill_color\":\"lightgrey\",\"left_units\":\"screen\",\"level\":\"overlay\",\"line_alpha\":1.0,\"line_color\":\"black\",\"line_dash\":[4,4],\"line_width\":2,\"render_mode\":\"css\",\"right_units\":\"screen\",\"top_units\":\"screen\"},\"id\":\"23066\",\"type\":\"BoxAnnotation\"},{\"attributes\":{\"line_alpha\":0.2,\"line_color\":\"#ff7e0e\",\"line_width\":2,\"x\":{\"field\":\"Date\"},\"y\":{\"field\":\"value\"}},\"id\":\"23101\",\"type\":\"Line\"},{\"attributes\":{},\"id\":\"22837\",\"type\":\"BasicTicker\"},{\"attributes\":{\"label\":{\"value\":\"CIG\"},\"renderers\":[{\"id\":\"23102\"}]},\"id\":\"23112\",\"type\":\"LegendItem\"},{\"attributes\":{\"source\":{\"id\":\"23096\"}},\"id\":\"23103\",\"type\":\"CDSView\"},{\"attributes\":{},\"id\":\"23097\",\"type\":\"Selection\"},{\"attributes\":{\"line_alpha\":0.2,\"line_color\":\"#ff7e0e\",\"line_width\":2,\"x\":{\"field\":\"Date\"},\"y\":{\"field\":\"value\"}},\"id\":\"23493\",\"type\":\"Line\"},{\"attributes\":{\"line_alpha\":0.1,\"line_color\":\"#ff7e0e\",\"line_width\":2,\"x\":{\"field\":\"Date\"},\"y\":{\"field\":\"value\"}},\"id\":\"23100\",\"type\":\"Line\"},{\"attributes\":{\"line_color\":\"#ff7e0e\",\"line_width\":2,\"x\":{\"field\":\"Date\"},\"y\":{\"field\":\"value\"}},\"id\":\"23491\",\"type\":\"Line\"},{\"attributes\":{\"label\":{\"value\":\"Oil & Gas\"},\"renderers\":[{\"id\":\"23494\"}]},\"id\":\"23504\",\"type\":\"LegendItem\"},{\"attributes\":{\"data_source\":{\"id\":\"23096\"},\"glyph\":{\"id\":\"23099\"},\"hover_glyph\":null,\"muted_glyph\":{\"id\":\"23101\"},\"nonselection_glyph\":{\"id\":\"23100\"},\"selection_glyph\":null,\"view\":{\"id\":\"23103\"}},\"id\":\"23102\",\"type\":\"GlyphRenderer\"},{\"attributes\":{\"source\":{\"id\":\"23488\"}},\"id\":\"23495\",\"type\":\"CDSView\"},{\"attributes\":{\"line_alpha\":0.1,\"line_color\":\"#d62628\",\"line_width\":2,\"x\":{\"field\":\"Date\"},\"y\":{\"field\":\"value\"}},\"id\":\"23136\",\"type\":\"Line\"},{\"attributes\":{},\"id\":\"23489\",\"type\":\"Selection\"},{\"attributes\":{\"line_color\":\"#2ba02b\",\"line_width\":2,\"x\":{\"field\":\"Date\"},\"y\":{\"field\":\"value\"}},\"id\":\"23116\",\"type\":\"Line\"},{\"attributes\":{\"line_alpha\":0.1,\"line_color\":\"#ff7e0e\",\"line_width\":2,\"x\":{\"field\":\"Date\"},\"y\":{\"field\":\"value\"}},\"id\":\"23492\",\"type\":\"Line\"},{\"attributes\":{\"data_source\":{\"id\":\"23113\"},\"glyph\":{\"id\":\"23116\"},\"hover_glyph\":null,\"muted_glyph\":{\"id\":\"23118\"},\"nonselection_glyph\":{\"id\":\"23117\"},\"selection_glyph\":null,\"view\":{\"id\":\"23120\"}},\"id\":\"23119\",\"type\":\"GlyphRenderer\"},{\"attributes\":{\"label\":{\"value\":\"ELP\"},\"renderers\":[{\"id\":\"23119\"}]},\"id\":\"23131\",\"type\":\"LegendItem\"},{\"attributes\":{\"line_alpha\":0.1,\"line_color\":\"#2ba02b\",\"line_width\":2,\"x\":{\"field\":\"Date\"},\"y\":{\"field\":\"value\"}},\"id\":\"23117\",\"type\":\"Line\"},{\"attributes\":{},\"id\":\"23075\",\"type\":\"CategoricalTickFormatter\"},{\"attributes\":{\"data_source\":{\"id\":\"23488\"},\"glyph\":{\"id\":\"23491\"},\"hover_glyph\":null,\"muted_glyph\":{\"id\":\"23493\"},\"nonselection_glyph\":{\"id\":\"23492\"},\"selection_glyph\":null,\"view\":{\"id\":\"23495\"}},\"id\":\"23494\",\"type\":\"GlyphRenderer\"},{\"attributes\":{\"line_alpha\":0.2,\"line_color\":\"#2ba02b\",\"line_width\":2,\"x\":{\"field\":\"Date\"},\"y\":{\"field\":\"value\"}},\"id\":\"23118\",\"type\":\"Line\"},{\"attributes\":{\"source\":{\"id\":\"23113\"}},\"id\":\"23120\",\"type\":\"CDSView\"},{\"attributes\":{},\"id\":\"23501\",\"type\":\"UnionRenderers\"},{\"attributes\":{},\"id\":\"23077\",\"type\":\"BasicTickFormatter\"},{\"attributes\":{},\"id\":\"23114\",\"type\":\"Selection\"},{\"attributes\":{\"axis\":{\"id\":\"22836\"},\"ticker\":{\"id\":\"22837\"}},\"id\":\"22839\",\"type\":\"Grid\"},{\"attributes\":{},\"id\":\"23197\",\"type\":\"UnionRenderers\"},{\"attributes\":{\"data\":{\"Date\":[\"1999\",\"2000\",\"2001\",\"2002\",\"2003\",\"2004\",\"2005\",\"2006\",\"2007\",\"2008\",\"2009\",\"2010\",\"2011\",\"2012\",\"2013\",\"2014\",\"2015\",\"2016\",\"2017\",\"2018\",\"2019\",\"2020\"],\"Variable\":[\"ELP\",\"ELP\",\"ELP\",\"ELP\",\"ELP\",\"ELP\",\"ELP\",\"ELP\",\"ELP\",\"ELP\",\"ELP\",\"ELP\",\"ELP\",\"ELP\",\"ELP\",\"ELP\",\"ELP\",\"ELP\",\"ELP\",\"ELP\",\"ELP\",\"ELP\"],\"value\":{\"__ndarray__\":\"AAAAgB6oEEAAAADgyiYPQAAAAECk8A1AAAAAIA3g9T8AAACgEZECQAAAAGAjrgFAAAAA4MefDkAAAABggcgWQAAAACBpUSBAAAAAIPeXF0AAAAAgOWEpQAAAAGAJSS5AAAAAoA9DKkAAAADg64EjQAAAAEDa5SFAAAAA4P9LI0AAAACgf6cRQAAAAAD+nhpAAAAAgKuqGUAAAADgF60cQAAAAIDSOzBAAAAAoJmZLEA=\",\"dtype\":\"float64\",\"shape\":[22]}},\"selected\":{\"id\":\"23114\"},\"selection_policy\":{\"id\":\"23149\"}},\"id\":\"23113\",\"type\":\"ColumnDataSource\"},{\"attributes\":{\"click_policy\":\"mute\",\"items\":[{\"id\":\"23095\"},{\"id\":\"23112\"},{\"id\":\"23131\"},{\"id\":\"23152\"},{\"id\":\"23175\"},{\"id\":\"23200\"},{\"id\":\"23227\"},{\"id\":\"23256\"}],\"label_text_font_size\":\"20pt\",\"location\":[0,0],\"title\":\"Variable\"},\"id\":\"23094\",\"type\":\"Legend\"},{\"attributes\":{},\"id\":\"23128\",\"type\":\"UnionRenderers\"},{\"attributes\":{\"children\":[{\"id\":\"22768\"},{\"id\":\"22772\"},{\"id\":\"22827\"},{\"id\":\"22883\"}],\"margin\":[0,0,0,0],\"name\":\"Column47015\"},\"id\":\"22767\",\"type\":\"Column\"},{\"attributes\":{\"line_color\":\"#1f77b3\",\"line_width\":2,\"x\":{\"field\":\"Date\"},\"y\":{\"field\":\"value\"}},\"id\":\"23083\",\"type\":\"Line\"},{\"attributes\":{\"axis_label\":\"Year\",\"axis_label_text_font_size\":\"20pt\",\"bounds\":\"auto\",\"formatter\":{\"id\":\"22866\"},\"major_label_orientation\":\"horizontal\",\"major_label_text_font_size\":\"20pt\",\"ticker\":{\"id\":\"22837\"}},\"id\":\"22836\",\"type\":\"LinearAxis\"},{\"attributes\":{\"line_alpha\":0.2,\"line_color\":\"#1f77b3\",\"line_width\":2,\"x\":{\"field\":\"Date\"},\"y\":{\"field\":\"value\"}},\"id\":\"23085\",\"type\":\"Line\"},{\"attributes\":{},\"id\":\"23081\",\"type\":\"Selection\"},{\"attributes\":{\"data\":{\"Date\":[\"1999\",\"2000\",\"2001\",\"2002\",\"2003\",\"2004\",\"2005\",\"2006\",\"2007\",\"2008\",\"2009\",\"2010\",\"2011\",\"2012\",\"2013\",\"2014\",\"2015\",\"2016\",\"2017\",\"2018\",\"2019\",\"2020\"],\"Variable\":[\"CIG\",\"CIG\",\"CIG\",\"CIG\",\"CIG\",\"CIG\",\"CIG\",\"CIG\",\"CIG\",\"CIG\",\"CIG\",\"CIG\",\"CIG\",\"CIG\",\"CIG\",\"CIG\",\"CIG\",\"CIG\",\"CIG\",\"CIG\",\"CIG\",\"CIG\"],\"value\":{\"__ndarray__\":\"AAAAYMbE6T8AAACA57/gPwAAAIBSmOA/AAAAYPKA0T8AAADAEG3mPwAAAEAE5u8/AAAAAH3J+D8AAACgHKoAQAAAAADukQRAAAAAwCMQAEAAAACAzo0LQAAAAEDstAtAAAAAoFNKEEAAAAAAznYOQAAAAKBK3wpAAAAAQPY2C0AAAABA7zXxPwAAAKCriP0/AAAAoLmb+z8AAADgjsEJQAAAAGA2dglAAAAAYP2ZBkA=\",\"dtype\":\"float64\",\"shape\":[22]}},\"selected\":{\"id\":\"23097\"},\"selection_policy\":{\"id\":\"23128\"}},\"id\":\"23096\",\"type\":\"ColumnDataSource\"},{\"attributes\":{\"child\":{\"id\":\"23033\"},\"name\":\"Column46098\",\"title\":\"Stock Returns\"},\"id\":\"23585\",\"type\":\"Panel\"},{\"attributes\":{\"line_alpha\":0.1,\"line_color\":\"#1f77b3\",\"line_width\":2,\"x\":{\"field\":\"Date\"},\"y\":{\"field\":\"value\"}},\"id\":\"23084\",\"type\":\"Line\"},{\"attributes\":{\"children\":[{\"id\":\"23802\"},{\"id\":\"23806\"},{\"id\":\"23858\"},{\"id\":\"23917\"}],\"margin\":[0,0,0,0],\"name\":\"Column46627\"},\"id\":\"23801\",\"type\":\"Column\"},{\"attributes\":{\"source\":{\"id\":\"23080\"}},\"id\":\"23087\",\"type\":\"CDSView\"},{\"attributes\":{\"data_source\":{\"id\":\"23080\"},\"glyph\":{\"id\":\"23083\"},\"hover_glyph\":null,\"muted_glyph\":{\"id\":\"23085\"},\"nonselection_glyph\":{\"id\":\"23084\"},\"selection_glyph\":null,\"view\":{\"id\":\"23087\"}},\"id\":\"23086\",\"type\":\"GlyphRenderer\"},{\"attributes\":{\"children\":[{\"id\":\"23034\"},{\"id\":\"23045\"},{\"id\":\"23437\"}],\"margin\":[0,0,0,0],\"name\":\"Column46098\"},\"id\":\"23033\",\"type\":\"Column\"},{\"attributes\":{},\"id\":\"22793\",\"type\":\"ResetTool\"},{\"attributes\":{},\"id\":\"23512\",\"type\":\"UnionRenderers\"},{\"attributes\":{\"data_source\":{\"id\":\"23132\"},\"glyph\":{\"id\":\"23135\"},\"hover_glyph\":null,\"muted_glyph\":{\"id\":\"23137\"},\"nonselection_glyph\":{\"id\":\"23136\"},\"selection_glyph\":null,\"view\":{\"id\":\"23139\"}},\"id\":\"23138\",\"type\":\"GlyphRenderer\"},{\"attributes\":{\"line_color\":\"#d62628\",\"line_width\":2,\"x\":{\"field\":\"Date\"},\"y\":{\"field\":\"value\"}},\"id\":\"23135\",\"type\":\"Line\"},{\"attributes\":{\"overlay\":{\"id\":\"22794\"}},\"id\":\"22792\",\"type\":\"BoxZoomTool\"},{\"attributes\":{\"client_comm_id\":\"b02eb195b54848f0b77c0e152f60683b\",\"comm_id\":\"473c26db56184e35a9ed6774f42ce573\",\"plot_id\":\"22766\"},\"id\":\"24201\",\"type\":\"panel.models.comm_manager.CommManager\"},{\"attributes\":{\"line_alpha\":0.2,\"line_color\":\"#d62628\",\"line_width\":2,\"x\":{\"field\":\"Date\"},\"y\":{\"field\":\"value\"}},\"id\":\"23137\",\"type\":\"Line\"},{\"attributes\":{\"label\":{\"value\":\"PLUG\"},\"renderers\":[{\"id\":\"23138\"}]},\"id\":\"23152\",\"type\":\"LegendItem\"},{\"attributes\":{\"source\":{\"id\":\"23132\"}},\"id\":\"23139\",\"type\":\"CDSView\"},{\"attributes\":{\"margin\":[0,0,0,0],\"tabs\":[{\"id\":\"23032\"},{\"id\":\"23585\"},{\"id\":\"23800\"},{\"id\":\"23918\"}]},\"id\":\"22766\",\"type\":\"Tabs\"},{\"attributes\":{},\"id\":\"23133\",\"type\":\"Selection\"},{\"attributes\":{\"data\":{\"Date\":[\"1999\",\"2000\",\"2001\",\"2002\",\"2003\",\"2004\",\"2005\",\"2006\",\"2007\",\"2008\",\"2009\",\"2010\",\"2011\",\"2012\",\"2013\",\"2014\",\"2015\",\"2016\",\"2017\",\"2018\",\"2019\",\"2020\"],\"Variable\":[\"BP\",\"BP\",\"BP\",\"BP\",\"BP\",\"BP\",\"BP\",\"BP\",\"BP\",\"BP\",\"BP\",\"BP\",\"BP\",\"BP\",\"BP\",\"BP\",\"BP\",\"BP\",\"BP\",\"BP\",\"BP\",\"BP\"],\"value\":{\"__ndarray__\":\"AAAAwCYxNkAAAADgB2UyQAAAAOCtYTJAAAAAoC+gMEAAAAAAAwM1QAAAAKC6qzlAAAAAwNMnPUAAAADg+Hk/QAAAACCmzkFAAAAAgHALOEAAAABg4vA/QAAAAABPtThAAAAAwEzVOEAAAACgKlc5QAAAACDNGT9AAAAAwFSjOUAAAAAAdls2QAAAAKA+1DxAAAAA4ENPQUAAAAAgwYRAQAAAAABQe0FAAAAAwB6FNEA=\",\"dtype\":\"float64\",\"shape\":[22]}},\"selected\":{\"id\":\"23154\"},\"selection_policy\":{\"id\":\"23197\"}},\"id\":\"23153\",\"type\":\"ColumnDataSource\"},{\"attributes\":{\"data\":{\"Date\":[\"1999\",\"2000\",\"2001\",\"2002\",\"2003\",\"2004\",\"2005\",\"2006\",\"2007\",\"2008\",\"2009\",\"2010\",\"2011\",\"2012\",\"2013\",\"2014\",\"2015\",\"2016\",\"2017\",\"2018\",\"2019\",\"2020\"],\"Variable\":[\"PLUG\",\"PLUG\",\"PLUG\",\"PLUG\",\"PLUG\",\"PLUG\",\"PLUG\",\"PLUG\",\"PLUG\",\"PLUG\",\"PLUG\",\"PLUG\",\"PLUG\",\"PLUG\",\"PLUG\",\"PLUG\",\"PLUG\",\"PLUG\",\"PLUG\",\"PLUG\",\"PLUG\",\"PLUG\"],\"value\":{\"__ndarray__\":\"AAAAAACocUAAAAAAAFxiQAAAAKCZ2VVAAAAAQDNzRkAAAAAAACBSQAAAAMDMjE5AAAAAYGamSUAAAABAM3NDQAAAAAAAwENAAAAAYGZmJEAAAABgZmYcQAAAAKCZmQ1AAAAAgOtRAEAAAAAAAADgPwAAAMDMzPg/AAAAAAAACEAAAACgR+EAQAAAAEAzM/M/AAAAoEfhAkAAAABACtfzPwAAACCuRwlAAAAA4Hr0QEA=\",\"dtype\":\"float64\",\"shape\":[22]}},\"selected\":{\"id\":\"23133\"},\"selection_policy\":{\"id\":\"23172\"}},\"id\":\"23132\",\"type\":\"ColumnDataSource\"},{\"attributes\":{},\"id\":\"23149\",\"type\":\"UnionRenderers\"},{\"attributes\":{\"label\":{\"value\":\"BLX\"},\"renderers\":[{\"id\":\"23086\"}]},\"id\":\"23095\",\"type\":\"LegendItem\"},{\"attributes\":{\"fill_alpha\":{\"value\":0.2},\"fill_color\":{\"value\":\"#1f77b3\"},\"line_alpha\":{\"value\":0.2},\"line_color\":{\"value\":\"#1f77b3\"},\"size\":{\"units\":\"screen\",\"value\":5.477225575051661},\"x\":{\"field\":\"Production (Alternative)\"},\"y\":{\"field\":\"Production (Oil)\"}},\"id\":\"23841\",\"type\":\"Scatter\"},{\"attributes\":{},\"id\":\"23949\",\"type\":\"UnionRenderers\"},{\"attributes\":{\"source\":{\"id\":\"23836\"}},\"id\":\"23843\",\"type\":\"CDSView\"},{\"attributes\":{},\"id\":\"23950\",\"type\":\"Selection\"},{\"attributes\":{},\"id\":\"23845\",\"type\":\"BasicTickFormatter\"},{\"attributes\":{\"fill_color\":{\"value\":\"#1f77b3\"},\"line_color\":{\"value\":\"#1f77b3\"},\"size\":{\"units\":\"screen\",\"value\":5.477225575051661},\"x\":{\"field\":\"Production (Alternative)\"},\"y\":{\"field\":\"Production (Oil)\"}},\"id\":\"23839\",\"type\":\"Scatter\"},{\"attributes\":{\"data_source\":{\"id\":\"23836\"},\"glyph\":{\"id\":\"23839\"},\"hover_glyph\":null,\"muted_glyph\":{\"id\":\"23841\"},\"nonselection_glyph\":{\"id\":\"23840\"},\"selection_glyph\":null,\"view\":{\"id\":\"23843\"}},\"id\":\"23842\",\"type\":\"GlyphRenderer\"},{\"attributes\":{\"fill_alpha\":{\"value\":0.1},\"fill_color\":{\"value\":\"#1f77b3\"},\"line_alpha\":{\"value\":0.1},\"line_color\":{\"value\":\"#1f77b3\"},\"size\":{\"units\":\"screen\",\"value\":5.477225575051661},\"x\":{\"field\":\"Production (Alternative)\"},\"y\":{\"field\":\"Production (Oil)\"}},\"id\":\"23840\",\"type\":\"Scatter\"},{\"attributes\":{\"line_alpha\":0.2,\"line_color\":\"#ff7e0e\",\"line_width\":2,\"x\":{\"field\":\"Date\"},\"y\":{\"field\":\"value\"}},\"id\":\"23651\",\"type\":\"Line\"},{\"attributes\":{},\"id\":\"23837\",\"type\":\"Selection\"},{\"attributes\":{\"line_color\":\"#ff7e0e\",\"line_width\":2,\"x\":{\"field\":\"Date\"},\"y\":{\"field\":\"value\"}},\"id\":\"23649\",\"type\":\"Line\"},{\"attributes\":{\"label\":{\"value\":\"Oil & Gas\"},\"renderers\":[{\"id\":\"23652\"}]},\"id\":\"23662\",\"type\":\"LegendItem\"},{\"attributes\":{\"source\":{\"id\":\"23646\"}},\"id\":\"23653\",\"type\":\"CDSView\"},{\"attributes\":{},\"id\":\"23647\",\"type\":\"Selection\"},{\"attributes\":{\"line_alpha\":0.1,\"line_color\":\"#ff7e0e\",\"line_width\":2,\"x\":{\"field\":\"Date\"},\"y\":{\"field\":\"value\"}},\"id\":\"23650\",\"type\":\"Line\"},{\"attributes\":{\"factors\":[\"1999\",\"2000\",\"2001\",\"2002\",\"2003\",\"2004\",\"2005\",\"2006\",\"2007\",\"2008\",\"2009\",\"2010\",\"2011\",\"2012\",\"2013\",\"2014\",\"2015\",\"2016\",\"2017\",\"2018\",\"2019\",\"2020\"],\"tags\":[[[\"Date\",\"Date\",null]]]},\"id\":\"23035\",\"type\":\"FactorRange\"},{\"attributes\":{\"data_source\":{\"id\":\"23646\"},\"glyph\":{\"id\":\"23649\"},\"hover_glyph\":null,\"muted_glyph\":{\"id\":\"23651\"},\"nonselection_glyph\":{\"id\":\"23650\"},\"selection_glyph\":null,\"view\":{\"id\":\"23653\"}},\"id\":\"23652\",\"type\":\"GlyphRenderer\"},{\"attributes\":{},\"id\":\"22791\",\"type\":\"WheelZoomTool\"},{\"attributes\":{},\"id\":\"23659\",\"type\":\"UnionRenderers\"},{\"attributes\":{},\"id\":\"23055\",\"type\":\"CategoricalTicker\"},{\"attributes\":{\"children\":[{\"id\":\"23859\"},{\"id\":\"23860\"}],\"margin\":[0,0,0,0],\"name\":\"Column46499\"},\"id\":\"23858\",\"type\":\"Column\"},{\"attributes\":{\"text\":\"Oil and Alternative Stock Prices from 1999-2020\",\"text_color\":{\"value\":\"black\"},\"text_font_size\":{\"value\":\"20pt\"}},\"id\":\"23046\",\"type\":\"Title\"},{\"attributes\":{\"css_classes\":[\"markdown\"],\"margin\":[5,5,5,5],\"name\":\"Markdown46491\",\"text\":\"&lt;h2&gt;Correlations&lt;/h2&gt;\"},\"id\":\"23802\",\"type\":\"panel.models.markup.HTML\"},{\"attributes\":{\"callback\":null,\"renderers\":[{\"id\":\"23086\"},{\"id\":\"23102\"},{\"id\":\"23119\"},{\"id\":\"23138\"},{\"id\":\"23159\"},{\"id\":\"23182\"},{\"id\":\"23207\"},{\"id\":\"23234\"}],\"tags\":[\"hv_created\"],\"tooltips\":[[\"Variable\",\"@{Variable}\"],[\"Date\",\"@{Date}\"],[\"value\",\"@{value}\"]]},\"id\":\"23037\",\"type\":\"HoverTool\"},{\"attributes\":{\"data\":{\"Production (Alternative)\":{\"__ndarray__\":\"vHSTGARWIEBkO99PjdcgQEa28/3UOCJATDeJQWBlI0B7FK5H4fojQFK4HoXrUSRACKwcWmT7JECNl24Sg8AkQEoMAiuHFiZABoGVQ4usJ0B9PzVeukkoQHsUrkfh+ihAmpmZmZmZKECWQ4ts5/soQOkmMQisXClAarx0kxhEK0AYBFYOLTIsQO58PzVeOitArBxaZDsfK0CNl24Sg0AsQCGwcmiR7StAbhKDwMphKkCNl24Sg8ArQOj7qfHSzStAUrgeheuRLEDdJAaBlcMsQCYxCKwcmi1A5KWbxCDwLUAj2/l+ajwvQPYoXI/C9S9Ac2iR7Xy/MEDEILByaJExQKabxCCw8jBAtvP91HipMUC0yHa+nxoyQDeJQWDlEDJAmpmZmZnZMkA9CtejcJ0zQBgEVg4t8jNA\",\"dtype\":\"float64\",\"shape\":[39]},\"Production_left_parenthesis_Alternative_right_parenthesis\":{\"__ndarray__\":\"vHSTGARWIEBkO99PjdcgQEa28/3UOCJATDeJQWBlI0B7FK5H4fojQFK4HoXrUSRACKwcWmT7JECNl24Sg8AkQEoMAiuHFiZABoGVQ4usJ0B9PzVeukkoQHsUrkfh+ihAmpmZmZmZKECWQ4ts5/soQOkmMQisXClAarx0kxhEK0AYBFYOLTIsQO58PzVeOitArBxaZDsfK0CNl24Sg0AsQCGwcmiR7StAbhKDwMphKkCNl24Sg8ArQOj7qfHSzStAUrgeheuRLEDdJAaBlcMsQCYxCKwcmi1A5KWbxCDwLUAj2/l+ajwvQPYoXI/C9S9Ac2iR7Xy/MEDEILByaJExQKabxCCw8jBAtvP91HipMUC0yHa+nxoyQDeJQWDlEDJAmpmZmZnZMkA9CtejcJ0zQBgEVg4t8jNA\",\"dtype\":\"float64\",\"shape\":[39]},\"Year\":[1980,1981,1982,1983,1984,1985,1986,1987,1988,1989,1990,1991,1992,1993,1994,1995,1996,1997,1998,1999,2000,2001,2002,2003,2004,2005,2006,2007,2008,2009,2010,2011,2012,2013,2014,2015,2016,2017,2018]},\"selected\":{\"id\":\"22803\"},\"selection_policy\":{\"id\":\"22821\"}},\"id\":\"22802\",\"type\":\"ColumnDataSource\"},{\"attributes\":{\"margin\":[0,0,0,0],\"name\":\"Column46624\"},\"id\":\"23859\",\"type\":\"Column\"},{\"attributes\":{\"css_classes\":[\"markdown\"],\"margin\":[5,5,5,5],\"name\":\"Markdown46086\",\"text\":\"&lt;h2&gt;Stock Returns by Industry&lt;/h2&gt;\"},\"id\":\"23034\",\"type\":\"panel.models.markup.HTML\"},{\"attributes\":{\"data\":{\"Alternative Energy\":{\"__ndarray__\":\"UCxYXqQot7/szQEwMf3Cvx4ESwZvc+O/n+Upf3Bn+D/GVXBg6B+2P8Ym30Tnh9I/E+f8QU3Kwz9M5R1E9yDGP/YzY3pLwtS/ZMOaBFtp2T8IeBxE52ybP2ptE93Bqb+/t8mkOJQ0xb8svgdftx7iPwRhb6rKsdI/HqRBfmQ42r8PDOU5q0/PP0+fARpBnMo/+Iqyf83+qD+aA2vnMw7pPwcgPKIVnAJA\",\"dtype\":\"float64\",\"shape\":[21]},\"Alternative_Energy\":{\"__ndarray__\":\"UCxYXqQot7/szQEwMf3Cvx4ESwZvc+O/n+Upf3Bn+D/GVXBg6B+2P8Ym30Tnh9I/E+f8QU3Kwz9M5R1E9yDGP/YzY3pLwtS/ZMOaBFtp2T8IeBxE52ybP2ptE93Bqb+/t8mkOJQ0xb8svgdftx7iPwRhb6rKsdI/HqRBfmQ42r8PDOU5q0/PP0+fARpBnMo/+Iqyf83+qD+aA2vnMw7pPwcgPKIVnAJA\",\"dtype\":\"float64\",\"shape\":[21]},\"Oil & Gas\":{\"__ndarray__\":\"YLw9jq4Yeb+gyJwgtJ+ev2jg6TdrWLy/iA8pr4V90D/qIF9v6lbOP1Y3pjLJL8A/EPIY2uRbzj+yhmAB13zMPyB8QbP1r8+/5usn++NBvz+ySkHwO3m0P5xD4Z2G3cI/KJoBVNCpmD8SRXiTy5bHP+7+xyDPebW/L08ZqSHRxr/XG1Rx5GPTPxsE59r8wMA/NCYqtBBzt79wsHibPg20PyJ14Zurlte/\",\"dtype\":\"float64\",\"shape\":[21]},\"Oil_ampersand_Gas\":{\"__ndarray__\":\"YLw9jq4Yeb+gyJwgtJ+ev2jg6TdrWLy/iA8pr4V90D/qIF9v6lbOP1Y3pjLJL8A/EPIY2uRbzj+yhmAB13zMPyB8QbP1r8+/5usn++NBvz+ySkHwO3m0P5xD4Z2G3cI/KJoBVNCpmD8SRXiTy5bHP+7+xyDPebW/L08ZqSHRxr/XG1Rx5GPTPxsE59r8wMA/NCYqtBBzt79wsHibPg20PyJ14Zurlte/\",\"dtype\":\"float64\",\"shape\":[21]}},\"selected\":{\"id\":\"23895\"},\"selection_policy\":{\"id\":\"23913\"}},\"id\":\"23894\",\"type\":\"ColumnDataSource\"},{\"attributes\":{},\"id\":\"23050\",\"type\":\"CategoricalScale\"},{\"attributes\":{},\"id\":\"23058\",\"type\":\"BasicTicker\"},{\"attributes\":{\"axis_label\":\"Stock Price\",\"axis_label_text_font_size\":\"20pt\",\"bounds\":\"auto\",\"formatter\":{\"id\":\"23077\"},\"major_label_orientation\":\"horizontal\",\"major_label_text_font_size\":\"15pt\",\"ticker\":{\"id\":\"23058\"}},\"id\":\"23057\",\"type\":\"LinearAxis\"},{\"attributes\":{\"below\":[{\"id\":\"23054\"}],\"center\":[{\"id\":\"23056\"},{\"id\":\"23060\"}],\"left\":[{\"id\":\"23057\"}],\"margin\":null,\"min_border_bottom\":10,\"min_border_left\":10,\"min_border_right\":10,\"min_border_top\":10,\"plot_height\":400,\"plot_width\":1200,\"renderers\":[{\"id\":\"23086\"},{\"id\":\"23102\"},{\"id\":\"23119\"},{\"id\":\"23138\"},{\"id\":\"23159\"},{\"id\":\"23182\"},{\"id\":\"23207\"},{\"id\":\"23234\"}],\"right\":[{\"id\":\"23094\"}],\"sizing_mode\":\"fixed\",\"title\":{\"id\":\"23046\"},\"toolbar\":{\"id\":\"23067\"},\"x_range\":{\"id\":\"23035\"},\"x_scale\":{\"id\":\"23050\"},\"y_range\":{\"id\":\"22880\"},\"y_scale\":{\"id\":\"23052\"}},\"id\":\"23045\",\"subtype\":\"Figure\",\"type\":\"Plot\"},{\"attributes\":{},\"id\":\"23670\",\"type\":\"UnionRenderers\"},{\"attributes\":{\"axis_label\":\"Date\",\"axis_label_text_font_size\":\"20pt\",\"bounds\":\"auto\",\"formatter\":{\"id\":\"23075\"},\"group_text_font_size\":\"15pt\",\"major_label_orientation\":1.5707963267948966,\"major_label_text_font_size\":\"15pt\",\"ticker\":{\"id\":\"23055\"}},\"id\":\"23054\",\"type\":\"CategoricalAxis\"},{\"attributes\":{\"axis\":{\"id\":\"23054\"},\"grid_line_color\":\"lightgray\",\"grid_line_width\":1.5,\"minor_grid_line_color\":\"lightgray\",\"ticker\":{\"id\":\"23055\"}},\"id\":\"23056\",\"type\":\"Grid\"},{\"attributes\":{},\"id\":\"23062\",\"type\":\"PanTool\"},{\"attributes\":{},\"id\":\"23052\",\"type\":\"LinearScale\"},{\"attributes\":{\"data\":{\"Date\":[\"1999\",\"2000\",\"2001\",\"2002\",\"2003\",\"2004\",\"2005\",\"2006\",\"2007\",\"2008\",\"2009\",\"2010\",\"2011\",\"2012\",\"2013\",\"2014\",\"2015\",\"2016\",\"2017\",\"2018\",\"2019\",\"2020\"],\"Variable\":[\"BLX\",\"BLX\",\"BLX\",\"BLX\",\"BLX\",\"BLX\",\"BLX\",\"BLX\",\"BLX\",\"BLX\",\"BLX\",\"BLX\",\"BLX\",\"BLX\",\"BLX\",\"BLX\",\"BLX\",\"BLX\",\"BLX\",\"BLX\",\"BLX\",\"BLX\"],\"value\":{\"__ndarray__\":\"AAAAgAz2HEAAAABAWDMmQAAAAACyFSNAAAAAgBTE+D8AAACg4ioaQAAAAEBThh1AAAAA4MB6HkAAAABASFIfQAAAAMCunB9AAAAAgD+7HUAAAADgWXweQAAAAMD+JCVAAAAAIGtCI0AAAACAjT0rQAAAACDnmDJAAAAAwAE9NUAAAABAt8cyQAAAAIAdRTZAAAAAAAiDNUAAAACAOIwtQAAAACBSqDNAAAAAwPWoL0A=\",\"dtype\":\"float64\",\"shape\":[22]}},\"selected\":{\"id\":\"23081\"},\"selection_policy\":{\"id\":\"23109\"}},\"id\":\"23080\",\"type\":\"ColumnDataSource\"},{\"attributes\":{},\"id\":\"23063\",\"type\":\"WheelZoomTool\"},{\"attributes\":{\"axis\":{\"id\":\"23057\"},\"dimension\":1,\"grid_line_color\":\"lightgray\",\"grid_line_width\":1.5,\"ticker\":{\"id\":\"23058\"}},\"id\":\"23060\",\"type\":\"Grid\"},{\"attributes\":{\"end\":12.642447978755326,\"reset_end\":12.642447978755326,\"reset_start\":-0.8179299477114663,\"start\":-0.8179299477114663,\"tags\":[[[\"value\",\"value\",null]]]},\"id\":\"23434\",\"type\":\"Range1d\"},{\"attributes\":{\"factors\":[\"2000\",\"2001\",\"2002\",\"2003\",\"2004\",\"2005\",\"2006\",\"2007\",\"2008\",\"2009\",\"2010\",\"2011\",\"2012\",\"2013\",\"2014\",\"2015\",\"2016\",\"2017\",\"2018\",\"2019\",\"2020\"],\"tags\":[[[\"Date\",\"Date\",null]]]},\"id\":\"23433\",\"type\":\"FactorRange\"},{\"attributes\":{},\"id\":\"23061\",\"type\":\"SaveTool\"},{\"attributes\":{},\"id\":\"23444\",\"type\":\"LinearScale\"},{\"attributes\":{\"overlay\":{\"id\":\"23066\"}},\"id\":\"23064\",\"type\":\"BoxZoomTool\"},{\"attributes\":{},\"id\":\"23065\",\"type\":\"ResetTool\"},{\"attributes\":{\"active_drag\":\"auto\",\"active_inspect\":\"auto\",\"active_multi\":null,\"active_scroll\":\"auto\",\"active_tap\":\"auto\",\"tools\":[{\"id\":\"23037\"},{\"id\":\"23061\"},{\"id\":\"23062\"},{\"id\":\"23063\"},{\"id\":\"23064\"},{\"id\":\"23065\"}]},\"id\":\"23067\",\"type\":\"Toolbar\"},{\"attributes\":{\"callback\":null,\"renderers\":[{\"id\":\"23478\"},{\"id\":\"23494\"}],\"tags\":[\"hv_created\"],\"tooltips\":[[\"Variable\",\"@{Variable}\"],[\"Date\",\"@{Date}\"],[\"value\",\"@{value}\"]]},\"id\":\"23435\",\"type\":\"HoverTool\"},{\"attributes\":{\"below\":[{\"id\":\"23446\"}],\"center\":[{\"id\":\"23448\"},{\"id\":\"23452\"},{\"id\":\"23486\"}],\"left\":[{\"id\":\"23449\"}],\"margin\":null,\"min_border_bottom\":10,\"min_border_left\":10,\"min_border_right\":10,\"min_border_top\":10,\"plot_height\":400,\"plot_width\":1200,\"renderers\":[{\"id\":\"23478\"},{\"id\":\"23494\"}],\"sizing_mode\":\"fixed\",\"title\":{\"id\":\"23438\"},\"toolbar\":{\"id\":\"23459\"},\"x_range\":{\"id\":\"23433\"},\"x_scale\":{\"id\":\"23442\"},\"y_range\":{\"id\":\"23434\"},\"y_scale\":{\"id\":\"23444\"}},\"id\":\"23437\",\"subtype\":\"Figure\",\"type\":\"Plot\"},{\"attributes\":{\"text\":\"Cumulative Returns of Both Industries 2000-2020\",\"text_color\":{\"value\":\"black\"},\"text_font_size\":{\"value\":\"20pt\"}},\"id\":\"23438\",\"type\":\"Title\"},{\"attributes\":{},\"id\":\"23447\",\"type\":\"CategoricalTicker\"},{\"attributes\":{},\"id\":\"23450\",\"type\":\"BasicTicker\"},{\"attributes\":{\"axis_label\":\"Cumulative Returns Multiple\",\"axis_label_text_font_size\":\"20pt\",\"bounds\":\"auto\",\"formatter\":{\"id\":\"23469\"},\"major_label_orientation\":\"horizontal\",\"major_label_text_font_size\":\"15pt\",\"ticker\":{\"id\":\"23450\"}},\"id\":\"23449\",\"type\":\"LinearAxis\"},{\"attributes\":{},\"id\":\"23109\",\"type\":\"UnionRenderers\"},{\"attributes\":{\"data\":{\"Standard_Deviation\":{\"__ndarray__\":\"GapUDQT2xj/IbUbDz/HkPw==\",\"dtype\":\"float64\",\"shape\":[2]},\"index\":[\"Oil & Gas\",\"Alternative Energy\"]},\"selected\":{\"id\":\"23779\"},\"selection_policy\":{\"id\":\"23797\"}},\"id\":\"23778\",\"type\":\"ColumnDataSource\"},{\"attributes\":{\"axis_label\":\"Date\",\"axis_label_text_font_size\":\"20pt\",\"bounds\":\"auto\",\"formatter\":{\"id\":\"23467\"},\"group_text_font_size\":\"15pt\",\"major_label_orientation\":1.5707963267948966,\"major_label_text_font_size\":\"15pt\",\"ticker\":{\"id\":\"23447\"}},\"id\":\"23446\",\"type\":\"CategoricalAxis\"},{\"attributes\":{},\"id\":\"23442\",\"type\":\"CategoricalScale\"},{\"attributes\":{\"axis\":{\"id\":\"23449\"},\"dimension\":1,\"grid_line_color\":\"lightgray\",\"grid_line_width\":1.5,\"ticker\":{\"id\":\"23450\"}},\"id\":\"23452\",\"type\":\"Grid\"},{\"attributes\":{\"bottom_units\":\"screen\",\"fill_alpha\":0.5,\"fill_color\":\"lightgrey\",\"left_units\":\"screen\",\"level\":\"overlay\",\"line_alpha\":1.0,\"line_color\":\"black\",\"line_dash\":[4,4],\"line_width\":2,\"render_mode\":\"css\",\"right_units\":\"screen\",\"top_units\":\"screen\"},\"id\":\"23828\",\"type\":\"BoxAnnotation\"},{\"attributes\":{\"data\":{\"Date\":[\"2000\",\"2001\",\"2002\",\"2003\",\"2004\",\"2005\",\"2006\",\"2007\",\"2008\",\"2009\",\"2010\",\"2011\",\"2012\",\"2013\",\"2014\",\"2015\",\"2016\",\"2017\",\"2018\",\"2019\",\"2020\"],\"Variable\":[\"Alternative Energy\",\"Alternative Energy\",\"Alternative Energy\",\"Alternative Energy\",\"Alternative Energy\",\"Alternative Energy\",\"Alternative Energy\",\"Alternative Energy\",\"Alternative Energy\",\"Alternative Energy\",\"Alternative Energy\",\"Alternative Energy\",\"Alternative Energy\",\"Alternative Energy\",\"Alternative Energy\",\"Alternative Energy\",\"Alternative Energy\",\"Alternative Energy\",\"Alternative Energy\",\"Alternative Energy\",\"Alternative Energy\"],\"value\":{\"__ndarray__\":\"dvo0dOsa7T+2MkHzj8noP9Qf6jrwcNM/MsVsJwSM6D8U73O/G6vqP9+pD23uMfE/1dtq/oTa8z8BMaLVMEn3P/csFoFAd+8/wPCUDNH69T+2HoF6hJH2P5ZmBEjuxvM/Z2qieCuA8D+N9zejGtj5P+0X2dBWsgBAIY7kkFq28z+czWhqyYj4P6gn8oOFov0/pJFUS+MU/z9NSdg1gLULQGZGXbifCidA\",\"dtype\":\"float64\",\"shape\":[21]}},\"selected\":{\"id\":\"23473\"},\"selection_policy\":{\"id\":\"23501\"}},\"id\":\"23472\",\"type\":\"ColumnDataSource\"}],\"root_ids\":[\"22766\",\"24201\"]},\"title\":\"Bokeh Application\",\"version\":\"2.0.2\"}};\n",
       "  var render_items = [{\"docid\":\"31b8ca46-12e9-4475-b34b-da9f5519c99c\",\"root_ids\":[\"22766\"],\"roots\":{\"22766\":\"586cc930-b4c8-456b-bc5e-33bc7b1e874b\"}}];\n",
       "  root.Bokeh.embed.embed_items_notebook(docs_json, render_items);\n",
       "  }\n",
       "if (root.Bokeh !== undefined) {\n",
       "    embed_document(root);\n",
       "  } else {\n",
       "    var attempts = 0;\n",
       "    var timer = setInterval(function(root) {\n",
       "      if (root.Bokeh !== undefined) {\n",
       "        clearInterval(timer);\n",
       "        embed_document(root);\n",
       "      } else if (document.readyState == \"complete\") {\n",
       "        attempts++;\n",
       "        if (attempts > 100) {\n",
       "          clearInterval(timer);\n",
       "          console.log(\"Bokeh: ERROR: Unable to run BokehJS code because BokehJS library is missing\");\n",
       "        }\n",
       "      }\n",
       "    }, 10, root)\n",
       "  }\n",
       "})(window);</script>"
      ],
      "text/plain": [
       "Tabs\n",
       "    [0] Column\n",
       "        [0] Markdown(str)\n",
       "        [1] HoloViews(Curve)\n",
       "        [2] HoloViews(Curve)\n",
       "        [3] HoloViews(NdOverlay)\n",
       "    [1] Column\n",
       "        [0] Markdown(str)\n",
       "        [1] HoloViews(NdOverlay)\n",
       "        [2] HoloViews(NdOverlay)\n",
       "    [2] Column\n",
       "        [0] Markdown(str)\n",
       "        [1] Column\n",
       "            [0] Column()\n",
       "            [1] Row\n",
       "                [0] HoloViews(NdOverlay, name='interactive46101')\n",
       "        [2] Column\n",
       "            [0] Column()\n",
       "            [1] Row\n",
       "                [0] HoloViews(Bars, name='interactive46246')\n",
       "    [3] Column\n",
       "        [0] Markdown(str)\n",
       "        [1] HoloViews(Scatter)\n",
       "        [2] Column\n",
       "            [0] Column()\n",
       "            [1] Row\n",
       "                [0] HoloViews(Scatter, name='interactive46498')\n",
       "        [3] Plotly(Figure)"
      ]
     },
     "execution_count": 140,
     "metadata": {
      "application/vnd.holoviews_exec.v0+json": {
       "id": "22766"
      }
     },
     "output_type": "execute_result"
    }
   ],
   "source": [
    "dashboard.servable()"
   ]
  },
  {
   "cell_type": "code",
   "execution_count": null,
   "metadata": {},
   "outputs": [],
   "source": []
  }
 ],
 "metadata": {
  "kernelspec": {
   "display_name": "Python 3",
   "language": "python",
   "name": "python3"
  },
  "language_info": {
   "codemirror_mode": {
    "name": "ipython",
    "version": 3
   },
   "file_extension": ".py",
   "mimetype": "text/x-python",
   "name": "python",
   "nbconvert_exporter": "python",
   "pygments_lexer": "ipython3",
   "version": "3.8.3"
  }
 },
 "nbformat": 4,
 "nbformat_minor": 4
}
