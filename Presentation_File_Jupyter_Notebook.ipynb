{
 "cells": [
  {
   "cell_type": "markdown",
   "metadata": {
    "slideshow": {
     "slide_type": "slide"
    }
   },
   "source": [
    "<img src=\"Images/oil-and-gas-turbines-alternative.jpg\" alt=\"drawing\" width=\"1500\" height=\"857\">        "
   ]
  },
  {
   "cell_type": "markdown",
   "metadata": {
    "slideshow": {
     "slide_type": "slide"
    }
   },
   "source": [
    "## The Oil & Gas industry can be very complex and confusing to understand. We wanted to explore how to best measure the health of this industry in today's world. \n",
    "<img src=\"https://s.hdnux.com/photos/20/04/75/4214654/9/rawImage.jpg\" alt=\"drawing\" width=\"800\" height=\"457\"> \n",
    "\n",
    "\n",
    "\n",
    "\n"
   ]
  },
  {
   "cell_type": "markdown",
   "metadata": {
    "slideshow": {
     "slide_type": "subslide"
    }
   },
   "source": [
    "## Our Questions\n",
    "\n",
    "* How much energy is supplied by Oil & Gas vs Alternative energy sources? \n",
    "* What can the stock market tell us about the health of the Oil & Gas Industry?\n",
    "* Does higher production mean higher stock returns? "
   ]
  },
  {
   "cell_type": "markdown",
   "metadata": {
    "slideshow": {
     "slide_type": "slide"
    }
   },
   "source": [
    "# Data Cleanup & Exploration\n",
    "\n",
    "<img src=\"Images/eiayfinancelogo2.png\" alt=\"drawing\" width=\"1000\">\n",
    "\n",
    "\n",
    "Production             |  Stocks\n",
    ":-------------------------:|:-------------------------:\n",
    "![](Images/Production.png)  |  ![](Images/Stocks.png)"
   ]
  },
  {
   "cell_type": "markdown",
   "metadata": {
    "slideshow": {
     "slide_type": "subslide"
    }
   },
   "source": [
    "## Production\n",
    "* Read in csvs from EIA with total production for petroleum and total production for nuclear and renewables. \n",
    "* Dropped columns with excess information.\n",
    "* Combined into one data frame\n",
    "\n",
    "## Stocks\n",
    "* Pulled stock price data from Yahoo Finance API:\n",
    "  * Oil and Gas = BP, XOM, CVX, RDS-B\n",
    "  * Alternative =  BLX, CIG, ELP, PLUG- These frequently show up in ETFs\n",
    "* Created data frame with all tickers "
   ]
  },
  {
   "cell_type": "markdown",
   "metadata": {
    "slideshow": {
     "slide_type": "subslide"
    }
   },
   "source": [
    "## Issues\n",
    "\n",
    "* What data to use? What is alternative energy? \n",
    "  * Alternative energy consists of nuclear and carbon neutral sources like sunlight, wind, rain, tides, waves, and geothermal heat.\n",
    "* Stocks- finding enough data. Funds did not go back far enough, so we used individual stocks.\n",
    "* Date matching- alternative stock data only went back  went back to 2000.\n",
    "* Data had to be formatted by years because it came daily."
   ]
  },
  {
   "cell_type": "markdown",
   "metadata": {
    "slideshow": {
     "slide_type": "slide"
    }
   },
   "source": [
    "# Data Analysis\n",
    "\n",
    "## Questions Revisited:\n",
    "* How much energy is supplied by Oil & Gas vs Alternative energy sources? (Annual Production)\n",
    "* What can the stock market tell us about the health of the Oil & Gas Industry? (Stock Returns & Stock Risks)\n",
    "* Does higher production mean higher stock returns? (Correlations)"
   ]
  },
  {
   "cell_type": "markdown",
   "metadata": {
    "slideshow": {
     "slide_type": "slide"
    }
   },
   "source": [
    "## Postmortem - A Deeper Dive\n",
    "\n",
    "To truly capture the viability of Oil & Gas industry, we need to dive deeper into the uses of petroleum products, including:\n",
    "  * Transportation fuels\n",
    "  * Fuel oils for heating and electricity generation\n",
    "  * Asphalt and road oil\n",
    "  * Feedstocks for chemicals, plastics, and synthetic materials \n",
    "  * Lubricants\n",
    "  * Pharmaceuticals\n",
    "  \n",
    "We would also look at the costs of gas fired power vs alternatives and consumption in addition to our production analysis. \n",
    "\n",
    "Ultimately, this analysis is static. We are only looking at snapshot of the bigger picture. "
   ]
  },
  {
   "cell_type": "markdown",
   "metadata": {
    "slideshow": {
     "slide_type": "slide"
    }
   },
   "source": [
    "# Q&A"
   ]
  },
  {
   "cell_type": "code",
   "execution_count": null,
   "metadata": {
    "slideshow": {
     "slide_type": "skip"
    }
   },
   "outputs": [],
   "source": []
  }
 ],
 "metadata": {
  "celltoolbar": "Slideshow",
  "kernelspec": {
   "display_name": "Python 3",
   "language": "python",
   "name": "python3"
  },
  "language_info": {
   "codemirror_mode": {
    "name": "ipython",
    "version": 3
   },
   "file_extension": ".py",
   "mimetype": "text/x-python",
   "name": "python",
   "nbconvert_exporter": "python",
   "pygments_lexer": "ipython3",
   "version": "3.8.5"
  }
 },
 "nbformat": 4,
 "nbformat_minor": 4
}
